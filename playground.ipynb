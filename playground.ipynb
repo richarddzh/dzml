{
 "cells": [
  {
   "cell_type": "code",
   "execution_count": 1,
   "metadata": {
    "collapsed": true
   },
   "outputs": [],
   "source": [
    "import tensorflow as tf\n",
    "import numpy as np\n",
    "import mmml.helpers as hlp\n",
    "session=tf.Session()"
   ]
  },
  {
   "cell_type": "code",
   "execution_count": 2,
   "metadata": {},
   "outputs": [
    {
     "data": {
      "text/plain": [
       "6422"
      ]
     },
     "execution_count": 2,
     "metadata": {},
     "output_type": "execute_result"
    }
   ],
   "source": [
    "a = np.array([[1,2,3],[3,4,5],[1,3,5],[2,4,6]])\n",
    "a = tf.convert_to_tensor(a)\n",
    "b = np.array([0,1,2,3,2,1,0])\n",
    "b = tf.convert_to_tensor(b)\n",
    "c = tf.nn.embedding_lookup(a, b)\n",
    "session.run([c])\n",
    "m = hlp.file_read_all_text(r'dataset\\dict.txt', 'utf-8')\n",
    "len(m)"
   ]
  },
  {
   "cell_type": "code",
   "execution_count": 49,
   "metadata": {},
   "outputs": [
    {
     "name": "stdout",
     "output_type": "stream",
     "text": [
      "ns1/v1:0\nvs1/v2:0\nINFO:tensorflow:Graph was finalized.\n"
     ]
    },
    {
     "name": "stdout",
     "output_type": "stream",
     "text": [
      "INFO:tensorflow:Running local_init_op.\n"
     ]
    },
    {
     "name": "stdout",
     "output_type": "stream",
     "text": [
      "INFO:tensorflow:Done running local_init_op.\n"
     ]
    },
    {
     "name": "stdout",
     "output_type": "stream",
     "text": [
      "[array([0, 1, 2]), array([4, 5, 6]), array([[-1.0185981 , -0.34133768],\n       [-1.6103396 , -2.6454577 ]], dtype=float32)]\n"
     ]
    }
   ],
   "source": [
    "with tf.Graph().as_default():\n",
    "    with tf.name_scope(\"ns1\"):\n",
    "        v1 = tf.Variable([0,1,2], name=\"v1\")\n",
    "        print(v1.name)  # ns1/v1:0\n",
    "    with tf.variable_scope(\"vs1\", initializer=init):\n",
    "        v2 = tf.get_variable(\"v2\", initializer=[4,5,6])\n",
    "        print(v2.name)  # vs1/v2:0\n",
    "        v3 = tf.get_variable(\"v3\", shape=[2, 2])\n",
    "    init = tf.random_uniform_initializer(-3, 1)\n",
    "    with tf.Session() as session:\n",
    "        session.run(tf.global_variables_initializer())\n",
    "        print(session.run([v1, v2, v3]))\n",
    "    with tf.train.MonitoredTrainingSession() as session:\n",
    "        print(session.run([v1, v2, v3]))"
   ]
  }
 ],
 "metadata": {
  "kernelspec": {
   "display_name": "Python 2",
   "language": "python",
   "name": "python2"
  },
  "language_info": {
   "codemirror_mode": {
    "name": "ipython",
    "version": 2
   },
   "file_extension": ".py",
   "mimetype": "text/x-python",
   "name": "python",
   "nbconvert_exporter": "python",
   "pygments_lexer": "ipython2",
   "version": "2.7.6"
  }
 },
 "nbformat": 4,
 "nbformat_minor": 0
}
