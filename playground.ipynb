{
 "cells": [
  {
   "cell_type": "code",
   "execution_count": 50,
   "metadata": {
    "collapsed": true
   },
   "outputs": [],
   "source": [
    "import tensorflow as tf\n",
    "import numpy as np\n",
    "import mmml.helpers as hlp\n",
    "session=tf.Session()"
   ]
  },
  {
   "cell_type": "code",
   "execution_count": 51,
   "metadata": {},
   "outputs": [
    {
     "data": {
      "text/plain": [
       "6422"
      ]
     },
     "execution_count": 51,
     "metadata": {},
     "output_type": "execute_result"
    }
   ],
   "source": [
    "a = np.array([[1,2,3],[3,4,5],[1,3,5],[2,4,6]])\n",
    "a = tf.convert_to_tensor(a)\n",
    "b = np.array([0,1,2,3,2,1,0])\n",
    "b = tf.convert_to_tensor(b)\n",
    "c = tf.nn.embedding_lookup(a, b)\n",
    "session.run([c])\n",
    "m = hlp.file_read_all_text(r'dataset\\dict.txt', 'utf-8')\n",
    "len(m)"
   ]
  },
  {
   "cell_type": "code",
   "execution_count": 52,
   "metadata": {},
   "outputs": [
    {
     "name": "stdout",
     "output_type": "stream",
     "text": [
      "ns1/v1:0\nvs1/v2:0\n[array([0, 1, 2]), array([4, 5, 6]), array([[-2.0831404 ,  0.30631208],\n       [-0.0551939 , -0.00659895]], dtype=float32)]\nINFO:tensorflow:Graph was finalized.\n"
     ]
    },
    {
     "name": "stdout",
     "output_type": "stream",
     "text": [
      "INFO:tensorflow:Running local_init_op.\n"
     ]
    },
    {
     "name": "stdout",
     "output_type": "stream",
     "text": [
      "INFO:tensorflow:Done running local_init_op.\n"
     ]
    },
    {
     "name": "stdout",
     "output_type": "stream",
     "text": [
      "[array([0, 1, 2]), array([4, 5, 6]), array([[ 0.45706367,  0.23454714],\n       [-1.1490989 ,  0.6374192 ]], dtype=float32)]\n"
     ]
    }
   ],
   "source": [
    "with tf.Graph().as_default():\n",
    "    with tf.name_scope(\"ns1\"):\n",
    "        v1 = tf.Variable([0,1,2], name=\"v1\")\n",
    "        print(v1.name)  # ns1/v1:0\n",
    "    with tf.variable_scope(\"vs1\", initializer=init):\n",
    "        v2 = tf.get_variable(\"v2\", initializer=[4,5,6])\n",
    "        print(v2.name)  # vs1/v2:0\n",
    "        v3 = tf.get_variable(\"v3\", shape=[2, 2])\n",
    "    init = tf.random_uniform_initializer(-3, 1)\n",
    "    with tf.Session() as session:\n",
    "        session.run(tf.global_variables_initializer())\n",
    "        print(session.run([v1, v2, v3]))\n",
    "    with tf.train.MonitoredTrainingSession() as session:\n",
    "        print(session.run([v1, v2, v3]))"
   ]
  },
  {
   "cell_type": "code",
   "execution_count": 65,
   "metadata": {},
   "outputs": [
    {
     "name": "stdout",
     "output_type": "stream",
     "text": [
      "Recording\n"
     ]
    },
    {
     "name": "stdout",
     "output_type": "stream",
     "text": [
      "Finish\n"
     ]
    }
   ],
   "source": [
    "import pyaudio\n",
    "p = pyaudio.PyAudio()\n",
    "stream = p.open(format=pyaudio.paInt16,\n",
    "                channels=1, rate=44100, input=True, output=True,\n",
    "                frames_per_buffer=1024)\n",
    "print(\"Recording\")\n",
    "frames = []\n",
    "for i in range(0, int(44100/1024*2)):\n",
    "    data = stream.read(1024)\n",
    "    frames.append(data)\n",
    "print(\"Finish\")\n",
    "stream.write(b''.join(frames))\n",
    "stream.stop_stream()\n",
    "stream.close()\n",
    "p.terminate()"
   ]
  },
  {
   "cell_type": "code",
   "execution_count": null,
   "metadata": {},
   "outputs": [
    {
     "data": {
      "text/plain": [
       "[<matplotlib.lines.Line2D at 0x154d194cef0>]"
      ]
     },
     "execution_count": 98,
     "metadata": {},
     "output_type": "execute_result"
    },
    {
     "data": {
      "image/png": "[encoded data removed]",
      "text/plain": [
       "<Figure size 432x288 with 1 Axes>"
      ]
     },
     "metadata": {},
     "output_type": "display_data"
    }
   ],
   "source": [
    "%matplotlib inline\n",
    "import matplotlib.pyplot as plt\n",
    "from sys import byteorder\n",
    "a = [int.from_bytes(frames[55][i*2:i*2+2], byteorder) for i in range(1024)]\n",
    "plt.plot(a)"
   ]
  },
  {
   "cell_type": "code",
   "execution_count": 73,
   "metadata": {},
   "outputs": [
    {
     "data": {
      "text/plain": [
       "[0,\n 0,\n 65535,\n 0,\n 0,\n 0,\n 0,\n 65535,\n 0,\n 0,\n 0,\n 0,\n 0,\n 0,\n 0,\n 0,\n 0,\n 0,\n 0,\n 0,\n 0,\n 0,\n 65535,\n 0,\n 0,\n 0,\n 0,\n 0,\n 0,\n 0,\n 0,\n 0,\n 1,\n 0,\n 65535,\n 0,\n 0,\n 0,\n 0,\n 0,\n 0,\n 0,\n 0,\n 0,\n 0,\n 0,\n 0,\n 0,\n 0,\n 0,\n 0,\n 0,\n 0,\n 0,\n 65535,\n 0,\n 0,\n 0,\n 0,\n 0,\n 0,\n 0,\n 0,\n 0,\n 0,\n 0,\n 0,\n 0,\n 1,\n 0,\n 0,\n 0,\n 0,\n 0,\n 0,\n 0,\n 1,\n 0,\n 0,\n 0,\n 1,\n 1,\n 0,\n 0,\n 0,\n 65535,\n 1,\n 1,\n 0,\n 0,\n 0,\n 0,\n 0,\n 0,\n 0,\n 1,\n 0,\n 0,\n 0,\n 1,\n 0,\n 0,\n 0,\n 0,\n 0,\n 65535,\n 0,\n 0,\n 0,\n 0,\n 0,\n 0,\n 0,\n 0,\n 0,\n 0,\n 65535,\n 65535,\n 65535,\n 0,\n 0,\n 0,\n 0,\n 65535,\n 0,\n 0,\n 0,\n 0,\n 0,\n 0,\n 0,\n 0,\n 0,\n 1,\n 0,\n 1,\n 0,\n 0,\n 0,\n 0,\n 0,\n 0,\n 1,\n 65535,\n 0,\n 1,\n 65535,\n 0,\n 0,\n 0,\n 0,\n 0,\n 0,\n 0,\n 65535,\n 0,\n 0,\n 0,\n 65535,\n 0,\n 65535,\n 0,\n 0,\n 0,\n 0,\n 0,\n 65535,\n 0,\n 0,\n 0,\n 0,\n 0,\n 0,\n 65535,\n 0,\n 0,\n 0,\n 0,\n 0,\n 0,\n 0,\n 0,\n 65535,\n 65535,\n 0,\n 0,\n 0,\n 0,\n 0,\n 1,\n 0,\n 0,\n 0,\n 0,\n 0,\n 65535,\n 0,\n 0,\n 0,\n 0,\n 0,\n 0,\n 0,\n 0,\n 0,\n 1,\n 0,\n 1,\n 0,\n 0,\n 1,\n 65535,\n 1,\n 0,\n 0,\n 0,\n 65535,\n 65535,\n 0,\n 0,\n 0,\n 65535,\n 0,\n 65535,\n 0,\n 0,\n 0,\n 65535,\n 0,\n 0,\n 0,\n 0,\n 1,\n 0,\n 0,\n 0,\n 0,\n 0,\n 0,\n 1,\n 0,\n 1,\n 0,\n 0,\n 0,\n 0,\n 0,\n 0,\n 1,\n 0,\n 0,\n 0,\n 1,\n 1,\n 0,\n 0,\n 0,\n 0,\n 0,\n 0,\n 0,\n 0,\n 65535,\n 1,\n 0,\n 0,\n 0,\n 0,\n 0,\n 0,\n 0,\n 1,\n 0,\n 0,\n 65535,\n 0,\n 0,\n 0,\n 65535,\n 65535,\n 0,\n 0,\n 1,\n 0,\n 65535,\n 0,\n 0,\n 0,\n 0,\n 0,\n 0,\n 65535,\n 65535,\n 0,\n 0,\n 65535,\n 1,\n 0,\n 1,\n 0,\n 0,\n 0,\n 0,\n 0,\n 0,\n 1,\n 0,\n 0,\n 0,\n 65535,\n 0,\n 0,\n 0,\n 0,\n 0,\n 1,\n 65535,\n 0,\n 0,\n 0,\n 0,\n 0,\n 0,\n 0,\n 0,\n 0,\n 1,\n 0,\n 0,\n 0,\n 0,\n 0,\n 0,\n 65535,\n 0,\n 0,\n 65535,\n 0,\n 0,\n 65535,\n 0,\n 0,\n 0,\n 0,\n 0,\n 0,\n 0,\n 0,\n 1,\n 0,\n 0,\n 65535,\n 1,\n 0,\n 0,\n 65535,\n 65535,\n 0,\n 0,\n 0,\n 1,\n 65535,\n 0,\n 0,\n 0,\n 65535,\n 1,\n 0,\n 0,\n 0,\n 1,\n 65535,\n 0,\n 0,\n 0,\n 0,\n 0,\n 0,\n 0,\n 0,\n 0,\n 0,\n 0,\n 65535,\n 0,\n 0,\n 0,\n 0,\n 0,\n 0,\n 0,\n 0,\n 0,\n 0,\n 1,\n 65535,\n 0,\n 0,\n 65535,\n 1,\n 0,\n 0,\n 0,\n 0,\n 0,\n 0,\n 0,\n 0,\n 0,\n 0,\n 0,\n 0,\n 0,\n 0,\n 65535,\n 0,\n 0,\n 0,\n 0,\n 0,\n 0,\n 0,\n 65535,\n 0,\n 0,\n 0,\n 65535,\n 0,\n 0,\n 65535,\n 65535,\n 0,\n 0,\n 0,\n 0,\n 0,\n 1,\n 1,\n 65535,\n 0,\n 65535,\n 0,\n 0,\n 0,\n 0,\n 0,\n 0,\n 0,\n 0,\n 1,\n 0,\n 0,\n 0,\n 0,\n 65535,\n 1,\n 0,\n 0,\n 1,\n 0,\n 0,\n 0,\n 0,\n 0,\n 1,\n 1,\n 0,\n 0,\n 0,\n 0,\n 0,\n 65535,\n 0,\n 65535,\n 1,\n 0,\n 1,\n 0,\n 0,\n 1,\n 0,\n 0,\n 1,\n 0,\n 0,\n 0,\n 1,\n 65535,\n 65535,\n 1,\n 0,\n 0,\n 0,\n 65535,\n 0,\n 0,\n 1,\n 0,\n 0,\n 0,\n 0,\n 0,\n 0,\n 65535,\n 0,\n 0,\n 0,\n 65535,\n 0,\n 0,\n 1,\n 1,\n 65535,\n 0,\n 0,\n 0,\n 0,\n 0,\n 0,\n 0,\n 0,\n 0,\n 65535,\n 1,\n 0,\n 0,\n 1,\n 0,\n 0,\n 0,\n 0,\n 1,\n 65535,\n 0,\n 0,\n 0,\n 0,\n 65535,\n 1,\n 0,\n 0,\n 65535,\n 0,\n 0,\n 0,\n 0,\n 0,\n 65535,\n 0,\n 65535,\n 1,\n 0,\n 0,\n 1,\n 0,\n 0,\n 0,\n 0,\n 0,\n 0,\n 0,\n 0,\n 65535,\n 0,\n 0,\n 0,\n 1,\n 0,\n 1,\n 0,\n 0,\n 0,\n 0,\n 65535,\n 0,\n 0,\n 1,\n 1,\n 0,\n 0,\n 0,\n 65535,\n 65535,\n 0,\n 0,\n 0,\n 65535,\n 0,\n 0,\n 1,\n 0,\n 1,\n 0,\n 0,\n 1,\n 0,\n 0,\n 1,\n 0,\n 0,\n 0,\n 0,\n 0,\n 0,\n 0,\n 0,\n 0,\n 0,\n 0,\n 65535,\n 1,\n 0,\n 0,\n 0,\n 0,\n 0,\n 0,\n 0,\n 0,\n 0,\n 0,\n 65535,\n 0,\n 65535,\n 0,\n 0,\n 0,\n 0,\n 0,\n 65535,\n 0,\n 0,\n 0,\n 1,\n 0,\n 0,\n 0,\n 0,\n 0,\n 0,\n 0,\n 0,\n 0,\n 65535,\n 1,\n 1,\n 65535,\n 0,\n 0,\n 0,\n 0,\n 0,\n 0,\n 0,\n 0,\n 0,\n 0,\n 0,\n 0,\n 0,\n 65535,\n 0,\n 0,\n 0,\n 0,\n 0,\n 0,\n 0,\n 0,\n 65535,\n 0,\n 0,\n 0,\n 0,\n 65535,\n 0,\n 65535,\n 0,\n 0,\n 0,\n 0,\n 0,\n 65535,\n 0,\n 0,\n 65535,\n 0,\n 0,\n 0,\n 1,\n 0,\n 0,\n 0,\n 0,\n 0,\n 0,\n 1,\n 0,\n 0,\n 0,\n 0,\n 0,\n 1,\n 0,\n 0,\n 0,\n 1,\n 1,\n 0,\n 0,\n 0,\n 0,\n 0,\n 0,\n 0,\n 0,\n 1,\n 1,\n 1,\n 0,\n 0,\n 65535,\n 0,\n 0,\n 0,\n 65535,\n 65535,\n 0,\n 0,\n 0,\n 0,\n 0,\n 0,\n 0,\n 0,\n 0,\n 0,\n 0,\n 0,\n 0,\n 0,\n 0,\n 0,\n 0,\n 0,\n 0,\n 0,\n 0,\n 1,\n 1,\n 1,\n 0,\n 65535,\n 0,\n 0,\n 0,\n 0,\n 0,\n 0,\n 1,\n 65535,\n 65535,\n 0,\n 0,\n 0,\n 0,\n 0,\n 1,\n 0,\n 65535,\n 0,\n 0,\n 0,\n 0,\n 0,\n 0,\n 0,\n 0,\n 65535,\n 0,\n 0,\n 0,\n 0,\n 1,\n 0,\n 0,\n 0,\n 0,\n 0,\n 65535,\n 1,\n 1,\n 0,\n 0,\n 0,\n 0,\n 1,\n 0,\n 0,\n 0,\n 0,\n 0,\n 0,\n 0,\n 0,\n 0,\n 0,\n 0,\n 0,\n 1,\n 0,\n 0,\n 0,\n 0,\n 0,\n 0,\n 1,\n 0,\n 0,\n 0,\n 0,\n 0,\n 0,\n 0,\n 0,\n 0,\n 0,\n 1,\n 0,\n 65535,\n 0,\n 0,\n 0,\n 0,\n 65535,\n 0,\n 0,\n 0,\n 0,\n 0,\n 0,\n 65535,\n 0,\n 0,\n 65535,\n 0,\n 0,\n 0,\n 65535,\n 1,\n 0,\n 0,\n 0,\n 0,\n 0,\n 0,\n 0,\n 0,\n 0,\n 0,\n 0,\n 0,\n 0,\n 65535,\n 0,\n 65535,\n 0,\n 0,\n 0,\n 0,\n 0,\n 0,\n 0,\n 0,\n 0,\n 1,\n 0,\n 0,\n 0,\n 0,\n 0,\n 0,\n 0,\n 0,\n 0,\n 0,\n 0,\n 1,\n 0,\n 0,\n 0,\n 0,\n 0,\n 0,\n 0,\n 0,\n 0,\n 65535,\n 0,\n 0,\n 1,\n 0,\n 0,\n 0,\n 0,\n 0,\n 0,\n 0,\n 1,\n 0,\n 0,\n 0,\n 0,\n 0,\n 0,\n 65535,\n 0,\n 1,\n 0,\n 0,\n 0,\n 0,\n 0,\n 0,\n 0,\n 0,\n 65535,\n 0,\n 0,\n 0,\n 0,\n 0,\n 0,\n 0,\n 0,\n 1,\n 0,\n 65535,\n 0,\n 1,\n 0,\n 0,\n 65535,\n 0,\n 0,\n 0,\n 0,\n 65535,\n 0,\n 0,\n 0,\n 0,\n 1,\n 0,\n 0,\n 0,\n 0,\n 0,\n 0,\n 0,\n 0,\n 65535,\n 0,\n 0,\n 0,\n 0,\n 0,\n 0,\n 0,\n 0,\n 0,\n 1,\n 0,\n 0,\n 0,\n 0,\n 0,\n 1,\n 0,\n 0,\n 1,\n 0,\n 1,\n 65535,\n 0,\n 0,\n 0,\n 0,\n 0,\n 0,\n 0,\n 0,\n 65535,\n 0,\n 65535,\n 65535,\n 0,\n 0,\n 0,\n 0,\n ...]"
      ]
     },
     "execution_count": 73,
     "metadata": {},
     "output_type": "execute_result"
    }
   ],
   "source": [
    "d"
   ]
  },
  {
   "cell_type": "code",
   "execution_count": null,
   "metadata": {},
   "outputs": [],
   "source": []
  }
 ],
 "metadata": {
  "kernelspec": {
   "display_name": "Python 2",
   "language": "python",
   "name": "python2"
  },
  "language_info": {
   "codemirror_mode": {
    "name": "ipython",
    "version": 2
   },
   "file_extension": ".py",
   "mimetype": "text/x-python",
   "name": "python",
   "nbconvert_exporter": "python",
   "pygments_lexer": "ipython2",
   "version": "2.7.6"
  }
 },
 "nbformat": 4,
 "nbformat_minor": 0
}
