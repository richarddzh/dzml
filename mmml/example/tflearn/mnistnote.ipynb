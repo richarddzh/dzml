{
 "cells": [
  {
   "cell_type": "code",
   "execution_count": 1,
   "metadata": {
    "collapsed": false
   },
   "outputs": [
    {
     "name": "stdout",
     "output_type": "stream",
     "text": [
      "hdf5 is not supported on this machine (please install/reinstall h5py for optimal experience)\ncurses is not supported on this machine (please install/reinstall curses for an optimal experience)\n"
     ]
    }
   ],
   "source": [
    "%matplotlib inline\n",
    "import matplotlib.pyplot as plt\n",
    "import numpy as np\n",
    "import tflearn\n",
    "import tflearn.datasets.mnist as minst"
   ]
  },
  {
   "cell_type": "code",
   "execution_count": 7,
   "metadata": {},
   "outputs": [
    {
     "name": "stdout",
     "output_type": "stream",
     "text": [
      "Downloading MNIST...\n"
     ]
    },
    {
     "name": "stdout",
     "output_type": "stream",
     "text": [
      "Succesfully downloaded train-images-idx3-ubyte.gz 9912422 bytes.\nExtracting mnist/train-images-idx3-ubyte.gz\n"
     ]
    },
    {
     "name": "stdout",
     "output_type": "stream",
     "text": [
      "Downloading MNIST...\n"
     ]
    },
    {
     "name": "stdout",
     "output_type": "stream",
     "text": [
      "Succesfully downloaded train-labels-idx1-ubyte.gz 28881 bytes.\nExtracting mnist/train-labels-idx1-ubyte.gz\nDownloading MNIST...\n"
     ]
    },
    {
     "name": "stdout",
     "output_type": "stream",
     "text": [
      "Succesfully downloaded t10k-images-idx3-ubyte.gz 1648877 bytes.\nExtracting mnist/t10k-images-idx3-ubyte.gz\nDownloading MNIST...\n"
     ]
    },
    {
     "name": "stdout",
     "output_type": "stream",
     "text": [
      "Succesfully downloaded t10k-labels-idx1-ubyte.gz 4542 bytes.\nExtracting mnist/t10k-labels-idx1-ubyte.gz\n"
     ]
    }
   ],
   "source": [
    "X, Y, testX, testY = minst.load_data(one_hot=True)"
   ]
  },
  {
   "cell_type": "code",
   "execution_count": 15,
   "metadata": {},
   "outputs": [
    {
     "data": {
      "text/plain": [
       "<matplotlib.image.AxesImage at 0x1f6e7b62208>"
      ]
     },
     "execution_count": 15,
     "metadata": {},
     "output_type": "execute_result"
    },
    {
     "data": {
      "image/png": "[encoded data removed]",
      "text/plain": [
       "<matplotlib.figure.Figure at 0x1f6e7ab5c50>"
      ]
     },
     "metadata": {},
     "output_type": "display_data"
    }
   ],
   "source": [
    "X = X.reshape([-1, 28, 28, 1])\n",
    "testX = testX.reshape([-1, 28, 28, 1])\n",
    "plt.imshow(np.resize(X[1,:,:], [28, 28]))"
   ]
  },
  {
   "cell_type": "code",
   "execution_count": 16,
   "metadata": {},
   "outputs": [],
   "source": [
    "network = tflearn.input_data(shape=[None, 28, 28, 1])\n",
    "network = tflearn.conv_2d(network, 32, 5, activation='relu', regularizer='L2')\n",
    "network = tflearn.max_pool_2d(network, 2)\n",
    "network = tflearn.conv_2d(network, 32, 5, activation='relu', regularizer='L2')\n",
    "network = tflearn.max_pool_2d(network, 2)\n",
    "network = tflearn.fully_connected(network, 128, activation='relu')\n",
    "network = tflearn.fully_connected(network, 10, activation='softmax')\n",
    "network = tflearn.regression(network, optimizer='sgd', learning_rate=0.1, loss='categorical_crossentropy')\n",
    "\n",
    "model = tflearn.DNN(network)"
   ]
  },
  {
   "cell_type": "code",
   "execution_count": 17,
   "metadata": {},
   "outputs": [
    {
     "name": "stdout",
     "output_type": "stream",
     "text": [
      "---------------------------------\nRun id: UB9N5T\nLog directory: /tmp/tflearn_logs/\n"
     ]
    },
    {
     "name": "stdout",
     "output_type": "stream",
     "text": [
      "INFO:tensorflow:Summary name Accuracy/ (raw) is illegal; using Accuracy/__raw_ instead.\n"
     ]
    },
    {
     "name": "stdout",
     "output_type": "stream",
     "text": [
      "---------------------------------\nTraining samples: 55000\nValidation samples: 10000\n--\n"
     ]
    },
    {
     "name": "stdout",
     "output_type": "stream",
     "text": [
      "Training Step: 1  | time: 0.187s\n\u001b[2K\r| SGD | epoch: 001 | loss: 0.00000 - acc: 0.0000 -- iter: 00020/55000\n"
     ]
    },
    {
     "name": "stdout",
     "output_type": "stream",
     "text": [
      "Training Step: 2  | total loss: \u001b[1m\u001b[32m2.06964\u001b[0m\u001b[0m | time: 0.251s\n\u001b[2K\r| SGD | epoch: 001 | loss: 2.06964 - acc: 0.0450 -- iter: 00040/55000\n"
     ]
    },
    {
     "name": "stdout",
     "output_type": "stream",
     "text": [
      "Training Step: 3  | total loss: \u001b[1m\u001b[32m2.25105\u001b[0m\u001b[0m | time: 0.314s\n\u001b[2K\r| SGD | epoch: 001 | loss: 2.25105 - acc: 0.1309 -- iter: 00060/55000\n"
     ]
    },
    {
     "name": "stdout",
     "output_type": "stream",
     "text": [
      "Training Step: 4  | total loss: \u001b[1m\u001b[32m2.27115\u001b[0m\u001b[0m | time: 0.376s\n\u001b[2K\r| SGD | epoch: 001 | loss: 2.27115 - acc: 0.1827 -- iter: 00080/55000\n"
     ]
    },
    {
     "name": "stdout",
     "output_type": "stream",
     "text": [
      "Training Step: 5  | total loss: \u001b[1m\u001b[32m2.30229\u001b[0m\u001b[0m | time: 0.439s\n\u001b[2K\r| SGD | epoch: 001 | loss: 2.30229 - acc: 0.0908 -- iter: 00100/55000\n"
     ]
    },
    {
     "name": "stdout",
     "output_type": "stream",
     "text": [
      "Training Step: 6  | total loss: \u001b[1m\u001b[32m2.31499\u001b[0m\u001b[0m | time: 0.532s\n\u001b[2K\r| SGD | epoch: 001 | loss: 2.31499 - acc: 0.0324 -- iter: 00120/55000\n"
     ]
    },
    {
     "name": "stdout",
     "output_type": "stream",
     "text": [
      "Training Step: 7  | total loss: \u001b[1m\u001b[32m2.30775\u001b[0m\u001b[0m | time: 0.610s\n\u001b[2K\r| SGD | epoch: 001 | loss: 2.30775 - acc: 0.0430 -- iter: 00140/55000\n"
     ]
    },
    {
     "name": "stdout",
     "output_type": "stream",
     "text": [
      "Training Step: 8  | total loss: \u001b[1m\u001b[32m2.29465\u001b[0m\u001b[0m | time: 0.689s\n\u001b[2K\r| SGD | epoch: 001 | loss: 2.29465 - acc: 0.1594 -- iter: 00160/55000\n"
     ]
    },
    {
     "name": "stdout",
     "output_type": "stream",
     "text": [
      "Training Step: 9  | total loss: \u001b[1m\u001b[32m2.29385\u001b[0m\u001b[0m | time: 0.751s\n\u001b[2K\r| SGD | epoch: 001 | loss: 2.29385 - acc: 0.1015 -- iter: 00180/55000\n"
     ]
    },
    {
     "name": "stdout",
     "output_type": "stream",
     "text": [
      "Training Step: 10  | total loss: \u001b[1m\u001b[32m2.29007\u001b[0m\u001b[0m | time: 0.814s\n\u001b[2K\r| SGD | epoch: 001 | loss: 2.29007 - acc: 0.1507 -- iter: 00200/55000\n"
     ]
    },
    {
     "name": "stdout",
     "output_type": "stream",
     "text": [
      "Training Step: 11  | total loss: \u001b[1m\u001b[32m2.28759\u001b[0m\u001b[0m | time: 0.876s\n\u001b[2K\r| SGD | epoch: 001 | loss: 2.28759 - acc: 0.1978 -- iter: 00220/55000\n"
     ]
    },
    {
     "name": "stdout",
     "output_type": "stream",
     "text": [
      "Training Step: 12  | total loss: \u001b[1m\u001b[32m2.27394\u001b[0m\u001b[0m | time: 0.939s\n\u001b[2K\r| SGD | epoch: 001 | loss: 2.27394 - acc: 0.2663 -- iter: 00240/55000\n"
     ]
    },
    {
     "name": "stdout",
     "output_type": "stream",
     "text": [
      "Training Step: 13  | total loss: \u001b[1m\u001b[32m2.26360\u001b[0m\u001b[0m | time: 1.001s\n\u001b[2K\r| SGD | epoch: 001 | loss: 2.26360 - acc: 0.1950 -- iter: 00260/55000\n"
     ]
    },
    {
     "name": "stdout",
     "output_type": "stream",
     "text": [
      "Training Step: 14  | total loss: \u001b[1m\u001b[32m2.27454\u001b[0m\u001b[0m | time: 1.048s\n\u001b[2K\r| SGD | epoch: 001 | loss: 2.27454 - acc: 0.1561 -- iter: 00280/55000\n"
     ]
    },
    {
     "name": "stdout",
     "output_type": "stream",
     "text": [
      "Training Step: 15  | total loss: \u001b[1m\u001b[32m2.27147\u001b[0m\u001b[0m | time: 1.118s\n\u001b[2K\r| SGD | epoch: 001 | loss: 2.27147 - acc: 0.1733 -- iter: 00300/55000\n"
     ]
    },
    {
     "name": "stdout",
     "output_type": "stream",
     "text": [
      "Training Step: 16  | total loss: \u001b[1m\u001b[32m2.25285\u001b[0m\u001b[0m | time: 1.181s\n\u001b[2K\r| SGD | epoch: 001 | loss: 2.25285 - acc: 0.1833 -- iter: 00320/55000\n"
     ]
    },
    {
     "name": "stdout",
     "output_type": "stream",
     "text": [
      "Training Step: 17  | total loss: \u001b[1m\u001b[32m2.27524\u001b[0m\u001b[0m | time: 1.228s\n\u001b[2K\r| SGD | epoch: 001 | loss: 2.27524 - acc: 0.1173 -- iter: 00340/55000\n"
     ]
    },
    {
     "name": "stdout",
     "output_type": "stream",
     "text": [
      "Training Step: 18  | total loss: \u001b[1m\u001b[32m2.26250\u001b[0m\u001b[0m | time: 1.275s\n\u001b[2K\r| SGD | epoch: 001 | loss: 2.26250 - acc: 0.1632 -- iter: 00360/55000\n"
     ]
    },
    {
     "name": "stdout",
     "output_type": "stream",
     "text": [
      "Training Step: 19  | total loss: \u001b[1m\u001b[32m2.25721\u001b[0m\u001b[0m | time: 1.337s\n\u001b[2K\r| SGD | epoch: 001 | loss: 2.25721 - acc: 0.1755 -- iter: 00380/55000\n"
     ]
    },
    {
     "name": "stdout",
     "output_type": "stream",
     "text": [
      "Training Step: 20  | total loss: \u001b[1m\u001b[32m2.25365\u001b[0m\u001b[0m | time: 1.400s\n\u001b[2K\r| SGD | epoch: 001 | loss: 2.25365 - acc: 0.1994 -- iter: 00400/55000\n"
     ]
    },
    {
     "name": "stdout",
     "output_type": "stream",
     "text": [
      "Training Step: 21  | total loss: \u001b[1m\u001b[32m2.24935\u001b[0m\u001b[0m | time: 1.462s\n\u001b[2K\r| SGD | epoch: 001 | loss: 2.24935 - acc: 0.2151 -- iter: 00420/55000\n"
     ]
    },
    {
     "name": "stdout",
     "output_type": "stream",
     "text": [
      "Training Step: 22  | total loss: \u001b[1m\u001b[32m2.23043\u001b[0m\u001b[0m | time: 1.509s\n\u001b[2K\r| SGD | epoch: 001 | loss: 2.23043 - acc: 0.2556 -- iter: 00440/55000\n"
     ]
    },
    {
     "name": "stdout",
     "output_type": "stream",
     "text": [
      "Training Step: 23  | total loss: \u001b[1m\u001b[32m2.21179\u001b[0m\u001b[0m | time: 1.572s\n\u001b[2K\r| SGD | epoch: 001 | loss: 2.21179 - acc: 0.2395 -- iter: 00460/55000\n"
     ]
    },
    {
     "name": "stdout",
     "output_type": "stream",
     "text": [
      "Training Step: 24  | total loss: \u001b[1m\u001b[32m2.20392\u001b[0m\u001b[0m | time: 1.634s\n\u001b[2K\r| SGD | epoch: 001 | loss: 2.20392 - acc: 0.2424 -- iter: 00480/55000\n"
     ]
    },
    {
     "name": "stdout",
     "output_type": "stream",
     "text": [
      "Training Step: 25  | total loss: \u001b[1m\u001b[32m2.19060\u001b[0m\u001b[0m | time: 1.681s\n\u001b[2K\r| SGD | epoch: 001 | loss: 2.19060 - acc: 0.2718 -- iter: 00500/55000\n"
     ]
    },
    {
     "name": "stdout",
     "output_type": "stream",
     "text": [
      "Training Step: 26  | total loss: \u001b[1m\u001b[32m2.19891\u001b[0m\u001b[0m | time: 1.728s\n\u001b[2K\r| SGD | epoch: 001 | loss: 2.19891 - acc: 0.2528 -- iter: 00520/55000\n"
     ]
    },
    {
     "name": "stdout",
     "output_type": "stream",
     "text": [
      "Training Step: 27  | total loss: \u001b[1m\u001b[32m2.19326\u001b[0m\u001b[0m | time: 1.790s\n\u001b[2K\r| SGD | epoch: 001 | loss: 2.19326 - acc: 0.2906 -- iter: 00540/55000\n"
     ]
    },
    {
     "name": "stdout",
     "output_type": "stream",
     "text": [
      "Training Step: 28  | total loss: \u001b[1m\u001b[32m2.16448\u001b[0m\u001b[0m | time: 1.853s\n\u001b[2K\r| SGD | epoch: 001 | loss: 2.16448 - acc: 0.3180 -- iter: 00560/55000\n"
     ]
    },
    {
     "name": "stdout",
     "output_type": "stream",
     "text": [
      "Training Step: 29  | total loss: \u001b[1m\u001b[32m2.14549\u001b[0m\u001b[0m | time: 1.915s\n\u001b[2K\r| SGD | epoch: 001 | loss: 2.14549 - acc: 0.3379 -- iter: 00580/55000\n"
     ]
    },
    {
     "name": "stdout",
     "output_type": "stream",
     "text": [
      "Training Step: 30  | total loss: \u001b[1m\u001b[32m2.13147\u001b[0m\u001b[0m | time: 1.978s\n\u001b[2K\r| SGD | epoch: 001 | loss: 2.13147 - acc: 0.3408 -- iter: 00600/55000\n"
     ]
    },
    {
     "name": "stdout",
     "output_type": "stream",
     "text": [
      "Training Step: 31  | total loss: \u001b[1m\u001b[32m2.11013\u001b[0m\u001b[0m | time: 2.043s\n\u001b[2K\r| SGD | epoch: 001 | loss: 2.11013 - acc: 0.3198 -- iter: 00620/55000\n"
     ]
    },
    {
     "name": "stdout",
     "output_type": "stream",
     "text": [
      "Training Step: 32  | total loss: \u001b[1m\u001b[32m2.07763\u001b[0m\u001b[0m | time: 2.114s\n\u001b[2K\r| SGD | epoch: 001 | loss: 2.07763 - acc: 0.3491 -- iter: 00640/55000\n"
     ]
    },
    {
     "name": "stdout",
     "output_type": "stream",
     "text": [
      "Training Step: 33  | total loss: \u001b[1m\u001b[32m2.05680\u001b[0m\u001b[0m | time: 2.192s\n\u001b[2K\r| SGD | epoch: 001 | loss: 2.05680 - acc: 0.3383 -- iter: 00660/55000\n"
     ]
    },
    {
     "name": "stdout",
     "output_type": "stream",
     "text": [
      "Training Step: 34  | total loss: \u001b[1m\u001b[32m2.02183\u001b[0m\u001b[0m | time: 2.254s\n\u001b[2K\r| SGD | epoch: 001 | loss: 2.02183 - acc: 0.3623 -- iter: 00680/55000\n"
     ]
    },
    {
     "name": "stdout",
     "output_type": "stream",
     "text": [
      "Training Step: 35  | total loss: \u001b[1m\u001b[32m1.97655\u001b[0m\u001b[0m | time: 2.325s\n\u001b[2K\r| SGD | epoch: 001 | loss: 1.97655 - acc: 0.4120 -- iter: 00700/55000\n"
     ]
    },
    {
     "name": "stdout",
     "output_type": "stream",
     "text": [
      "Training Step: 36  | total loss: \u001b[1m\u001b[32m2.02880\u001b[0m\u001b[0m | time: 2.409s\n\u001b[2K\r| SGD | epoch: 001 | loss: 2.02880 - acc: 0.3584 -- iter: 00720/55000\n"
     ]
    },
    {
     "name": "stdout",
     "output_type": "stream",
     "text": [
      "Training Step: 37  | total loss: \u001b[1m\u001b[32m1.98900\u001b[0m\u001b[0m | time: 2.503s\n\u001b[2K\r| SGD | epoch: 001 | loss: 1.98900 - acc: 0.3567 -- iter: 00740/55000\n"
     ]
    },
    {
     "name": "stdout",
     "output_type": "stream",
     "text": [
      "Training Step: 38  | total loss: \u001b[1m\u001b[32m1.96940\u001b[0m\u001b[0m | time: 2.581s\n\u001b[2K\r| SGD | epoch: 001 | loss: 1.96940 - acc: 0.3359 -- iter: 00760/55000\n"
     ]
    },
    {
     "name": "stdout",
     "output_type": "stream",
     "text": [
      "Training Step: 39  | total loss: \u001b[1m\u001b[32m1.90182\u001b[0m\u001b[0m | time: 2.659s\n\u001b[2K\r| SGD | epoch: 001 | loss: 1.90182 - acc: 0.3577 -- iter: 00780/55000\n"
     ]
    },
    {
     "name": "stdout",
     "output_type": "stream",
     "text": [
      "Training Step: 40  | total loss: \u001b[1m\u001b[32m1.86096\u001b[0m\u001b[0m | time: 2.737s\n\u001b[2K\r| SGD | epoch: 001 | loss: 1.86096 - acc: 0.3750 -- iter: 00800/55000\n"
     ]
    },
    {
     "name": "stdout",
     "output_type": "stream",
     "text": [
      "Training Step: 41  | total loss: \u001b[1m\u001b[32m1.76408\u001b[0m\u001b[0m | time: 2.800s\n\u001b[2K\r| SGD | epoch: 001 | loss: 1.76408 - acc: 0.4255 -- iter: 00820/55000\n"
     ]
    },
    {
     "name": "stdout",
     "output_type": "stream",
     "text": [
      "Training Step: 42  | total loss: \u001b[1m\u001b[32m1.78368\u001b[0m\u001b[0m | time: 2.852s\n\u001b[2K\r| SGD | epoch: 001 | loss: 1.78368 - acc: 0.4029 -- iter: 00840/55000\n"
     ]
    },
    {
     "name": "stdout",
     "output_type": "stream",
     "text": [
      "Training Step: 43  | total loss: \u001b[1m\u001b[32m1.88618\u001b[0m\u001b[0m | time: 2.899s\n\u001b[2K\r| SGD | epoch: 001 | loss: 1.88618 - acc: 0.4024 -- iter: 00860/55000\n"
     ]
    },
    {
     "name": "stdout",
     "output_type": "stream",
     "text": [
      "Training Step: 44  | total loss: \u001b[1m\u001b[32m1.83639\u001b[0m\u001b[0m | time: 2.961s\n\u001b[2K\r| SGD | epoch: 001 | loss: 1.83639 - acc: 0.4366 -- iter: 00880/55000\n"
     ]
    },
    {
     "name": "stdout",
     "output_type": "stream",
     "text": [
      "Training Step: 45  | total loss: \u001b[1m\u001b[32m1.79510\u001b[0m\u001b[0m | time: 3.024s\n\u001b[2K\r| SGD | epoch: 001 | loss: 1.79510 - acc: 0.4559 -- iter: 00900/55000\n"
     ]
    },
    {
     "name": "stdout",
     "output_type": "stream",
     "text": [
      "Training Step: 46  | total loss: \u001b[1m\u001b[32m1.73131\u001b[0m\u001b[0m | time: 3.078s\n\u001b[2K\r| SGD | epoch: 001 | loss: 1.73131 - acc: 0.4966 -- iter: 00920/55000\n"
     ]
    },
    {
     "name": "stdout",
     "output_type": "stream",
     "text": [
      "Training Step: 47  | total loss: \u001b[1m\u001b[32m1.65128\u001b[0m\u001b[0m | time: 3.141s\n\u001b[2K\r| SGD | epoch: 001 | loss: 1.65128 - acc: 0.4889 -- iter: 00940/55000\n"
     ]
    },
    {
     "name": "stdout",
     "output_type": "stream",
     "text": [
      "Training Step: 48  | total loss: \u001b[1m\u001b[32m1.61208\u001b[0m\u001b[0m | time: 3.203s\n\u001b[2K\r| SGD | epoch: 001 | loss: 1.61208 - acc: 0.4907 -- iter: 00960/55000\n"
     ]
    },
    {
     "name": "stdout",
     "output_type": "stream",
     "text": [
      "Training Step: 49  | total loss: \u001b[1m\u001b[32m1.59202\u001b[0m\u001b[0m | time: 3.250s\n\u001b[2K\r| SGD | epoch: 001 | loss: 1.59202 - acc: 0.4685 -- iter: 00980/55000\n"
     ]
    },
    {
     "name": "stdout",
     "output_type": "stream",
     "text": [
      "Training Step: 50  | total loss: \u001b[1m\u001b[32m1.53538\u001b[0m\u001b[0m | time: 3.312s\n\u001b[2K\r| SGD | epoch: 001 | loss: 1.53538 - acc: 0.4579 -- iter: 01000/55000\n"
     ]
    },
    {
     "name": "stdout",
     "output_type": "stream",
     "text": [
      "Training Step: 51  | total loss: \u001b[1m\u001b[32m1.58447\u001b[0m\u001b[0m | time: 3.359s\n\u001b[2K\r| SGD | epoch: 001 | loss: 1.58447 - acc: 0.4414 -- iter: 01020/55000\n"
     ]
    },
    {
     "name": "stdout",
     "output_type": "stream",
     "text": [
      "Training Step: 52  | total loss: \u001b[1m\u001b[32m1.57710\u001b[0m\u001b[0m | time: 3.406s\n\u001b[2K\r| SGD | epoch: 001 | loss: 1.57710 - acc: 0.4202 -- iter: 01040/55000\n"
     ]
    },
    {
     "name": "stdout",
     "output_type": "stream",
     "text": [
      "Training Step: 53  | total loss: \u001b[1m\u001b[32m1.54007\u001b[0m\u001b[0m | time: 3.484s\n\u001b[2K\r| SGD | epoch: 001 | loss: 1.54007 - acc: 0.4394 -- iter: 01060/55000\n"
     ]
    },
    {
     "name": "stdout",
     "output_type": "stream",
     "text": [
      "Training Step: 54  | total loss: \u001b[1m\u001b[32m1.46693\u001b[0m\u001b[0m | time: 3.531s\n\u001b[2K\r| SGD | epoch: 001 | loss: 1.46693 - acc: 0.4844 -- iter: 01080/55000\n"
     ]
    },
    {
     "name": "stdout",
     "output_type": "stream",
     "text": [
      "Training Step: 55  | total loss: \u001b[1m\u001b[32m1.44709\u001b[0m\u001b[0m | time: 3.594s\n\u001b[2K\r| SGD | epoch: 001 | loss: 1.44709 - acc: 0.4581 -- iter: 01100/55000\n"
     ]
    },
    {
     "name": "stdout",
     "output_type": "stream",
     "text": [
      "Training Step: 56  | total loss: \u001b[1m\u001b[32m1.50589\u001b[0m\u001b[0m | time: 3.641s\n\u001b[2K\r| SGD | epoch: 001 | loss: 1.50589 - acc: 0.4359 -- iter: 01120/55000\n"
     ]
    },
    {
     "name": "stdout",
     "output_type": "stream",
     "text": [
      "Training Step: 57  | total loss: \u001b[1m\u001b[32m1.49369\u001b[0m\u001b[0m | time: 3.688s\n\u001b[2K\r| SGD | epoch: 001 | loss: 1.49369 - acc: 0.4309 -- iter: 01140/55000\n"
     ]
    },
    {
     "name": "stdout",
     "output_type": "stream",
     "text": [
      "Training Step: 58  | total loss: \u001b[1m\u001b[32m1.42935\u001b[0m\u001b[0m | time: 3.750s\n\u001b[2K\r| SGD | epoch: 001 | loss: 1.42935 - acc: 0.4608 -- iter: 01160/55000\n"
     ]
    },
    {
     "name": "stdout",
     "output_type": "stream",
     "text": [
      "Training Step: 59  | total loss: \u001b[1m\u001b[32m1.34907\u001b[0m\u001b[0m | time: 3.797s\n\u001b[2K\r| SGD | epoch: 001 | loss: 1.34907 - acc: 0.5063 -- iter: 01180/55000\n"
     ]
    },
    {
     "name": "stdout",
     "output_type": "stream",
     "text": [
      "Training Step: 60  | total loss: \u001b[1m\u001b[32m1.28097\u001b[0m\u001b[0m | time: 3.875s\n\u001b[2K\r| SGD | epoch: 001 | loss: 1.28097 - acc: 0.5254 -- iter: 01200/55000\n"
     ]
    },
    {
     "name": "stdout",
     "output_type": "stream",
     "text": [
      "Training Step: 61  | total loss: \u001b[1m\u001b[32m1.27340\u001b[0m\u001b[0m | time: 3.922s\n\u001b[2K\r| SGD | epoch: 001 | loss: 1.27340 - acc: 0.5351 -- iter: 01220/55000\n"
     ]
    },
    {
     "name": "stdout",
     "output_type": "stream",
     "text": [
      "Training Step: 62  | total loss: \u001b[1m\u001b[32m1.20839\u001b[0m\u001b[0m | time: 3.980s\n\u001b[2K\r| SGD | epoch: 001 | loss: 1.20839 - acc: 0.5756 -- iter: 01240/55000\n"
     ]
    },
    {
     "name": "stdout",
     "output_type": "stream",
     "text": [
      "Training Step: 63  | total loss: \u001b[1m\u001b[32m1.19415\u001b[0m\u001b[0m | time: 4.043s\n\u001b[2K\r| SGD | epoch: 001 | loss: 1.19415 - acc: 0.5850 -- iter: 01260/55000\n"
     ]
    },
    {
     "name": "stdout",
     "output_type": "stream",
     "text": [
      "Training Step: 64  | total loss: \u001b[1m\u001b[32m1.12814\u001b[0m\u001b[0m | time: 4.090s\n\u001b[2K\r| SGD | epoch: 001 | loss: 1.12814 - acc: 0.6056 -- iter: 01280/55000\n"
     ]
    },
    {
     "name": "stdout",
     "output_type": "stream",
     "text": [
      "Training Step: 65  | total loss: \u001b[1m\u001b[32m1.10908\u001b[0m\u001b[0m | time: 4.137s\n\u001b[2K\r| SGD | epoch: 001 | loss: 1.10908 - acc: 0.6049 -- iter: 01300/55000\n"
     ]
    },
    {
     "name": "stdout",
     "output_type": "stream",
     "text": [
      "Training Step: 66  | total loss: \u001b[1m\u001b[32m1.06224\u001b[0m\u001b[0m | time: 4.199s\n\u001b[2K\r| SGD | epoch: 001 | loss: 1.06224 - acc: 0.6226 -- iter: 01320/55000\n"
     ]
    },
    {
     "name": "stdout",
     "output_type": "stream",
     "text": [
      "Training Step: 67  | total loss: \u001b[1m\u001b[32m1.05833\u001b[0m\u001b[0m | time: 4.262s\n\u001b[2K\r| SGD | epoch: 001 | loss: 1.05833 - acc: 0.6199 -- iter: 01340/55000\n"
     ]
    },
    {
     "name": "stdout",
     "output_type": "stream",
     "text": [
      "Training Step: 68  | total loss: \u001b[1m\u001b[32m1.02023\u001b[0m\u001b[0m | time: 4.328s\n\u001b[2K\r| SGD | epoch: 001 | loss: 1.02023 - acc: 0.6412 -- iter: 01360/55000\n"
     ]
    },
    {
     "name": "stdout",
     "output_type": "stream",
     "text": [
      "Training Step: 69  | total loss: \u001b[1m\u001b[32m0.98350\u001b[0m\u001b[0m | time: 4.391s\n\u001b[2K\r| SGD | epoch: 001 | loss: 0.98350 - acc: 0.6598 -- iter: 01380/55000\n"
     ]
    },
    {
     "name": "stdout",
     "output_type": "stream",
     "text": [
      "Training Step: 70  | total loss: \u001b[1m\u001b[32m0.95038\u001b[0m\u001b[0m | time: 4.438s\n\u001b[2K\r| SGD | epoch: 001 | loss: 0.95038 - acc: 0.6702 -- iter: 01400/55000\n"
     ]
    },
    {
     "name": "stdout",
     "output_type": "stream",
     "text": [
      "Training Step: 71  | total loss: \u001b[1m\u001b[32m0.91156\u001b[0m\u001b[0m | time: 4.500s\n\u001b[2K\r| SGD | epoch: 001 | loss: 0.91156 - acc: 0.6793 -- iter: 01420/55000\n"
     ]
    },
    {
     "name": "stdout",
     "output_type": "stream",
     "text": [
      "Training Step: 72  | total loss: \u001b[1m\u001b[32m0.88068\u001b[0m\u001b[0m | time: 4.563s\n\u001b[2K\r| SGD | epoch: 001 | loss: 0.88068 - acc: 0.6929 -- iter: 01440/55000\n"
     ]
    },
    {
     "name": "stdout",
     "output_type": "stream",
     "text": [
      "Training Step: 73  | total loss: \u001b[1m\u001b[32m0.85690\u001b[0m\u001b[0m | time: 4.625s\n\u001b[2K\r| SGD | epoch: 001 | loss: 0.85690 - acc: 0.6992 -- iter: 01460/55000\n"
     ]
    },
    {
     "name": "stdout",
     "output_type": "stream",
     "text": [
      "Training Step: 74  | total loss: \u001b[1m\u001b[32m0.94358\u001b[0m\u001b[0m | time: 4.688s\n\u001b[2K\r| SGD | epoch: 001 | loss: 0.94358 - acc: 0.6773 -- iter: 01480/55000\n"
     ]
    },
    {
     "name": "stdout",
     "output_type": "stream",
     "text": [
      "Training Step: 75  | total loss: \u001b[1m\u001b[32m0.94969\u001b[0m\u001b[0m | time: 4.750s\n\u001b[2K\r| SGD | epoch: 001 | loss: 0.94969 - acc: 0.6690 -- iter: 01500/55000\n"
     ]
    },
    {
     "name": "stdout",
     "output_type": "stream",
     "text": [
      "Training Step: 76  | total loss: \u001b[1m\u001b[32m0.97560\u001b[0m\u001b[0m | time: 4.797s\n\u001b[2K\r| SGD | epoch: 001 | loss: 0.97560 - acc: 0.6509 -- iter: 01520/55000\n"
     ]
    },
    {
     "name": "stdout",
     "output_type": "stream",
     "text": [
      "Training Step: 77  | total loss: \u001b[1m\u001b[32m0.95693\u001b[0m\u001b[0m | time: 4.859s\n\u001b[2K\r| SGD | epoch: 001 | loss: 0.95693 - acc: 0.6508 -- iter: 01540/55000\n"
     ]
    },
    {
     "name": "stdout",
     "output_type": "stream",
     "text": [
      "Training Step: 78  | total loss: \u001b[1m\u001b[32m0.90827\u001b[0m\u001b[0m | time: 4.929s\n\u001b[2K\r| SGD | epoch: 001 | loss: 0.90827 - acc: 0.6664 -- iter: 01560/55000\n"
     ]
    },
    {
     "name": "stdout",
     "output_type": "stream",
     "text": [
      "Training Step: 79  | total loss: \u001b[1m\u001b[32m0.85544\u001b[0m\u001b[0m | time: 4.982s\n\u001b[2K\r| SGD | epoch: 001 | loss: 0.85544 - acc: 0.6957 -- iter: 01580/55000\n"
     ]
    },
    {
     "name": "stdout",
     "output_type": "stream",
     "text": [
      "Training Step: 80  | total loss: \u001b[1m\u001b[32m0.84753\u001b[0m\u001b[0m | time: 5.045s\n\u001b[2K\r| SGD | epoch: 001 | loss: 0.84753 - acc: 0.7064 -- iter: 01600/55000\n"
     ]
    },
    {
     "name": "stdout",
     "output_type": "stream",
     "text": [
      "Training Step: 81  | total loss: \u001b[1m\u001b[32m0.85662\u001b[0m\u001b[0m | time: 5.107s\n\u001b[2K\r| SGD | epoch: 001 | loss: 0.85662 - acc: 0.7007 -- iter: 01620/55000\n"
     ]
    },
    {
     "name": "stdout",
     "output_type": "stream",
     "text": [
      "Training Step: 82  | total loss: \u001b[1m\u001b[32m0.89842\u001b[0m\u001b[0m | time: 5.154s\n\u001b[2K\r| SGD | epoch: 001 | loss: 0.89842 - acc: 0.6856 -- iter: 01640/55000\n"
     ]
    },
    {
     "name": "stdout",
     "output_type": "stream",
     "text": [
      "Training Step: 83  | total loss: \u001b[1m\u001b[32m0.87461\u001b[0m\u001b[0m | time: 5.232s\n\u001b[2K\r| SGD | epoch: 001 | loss: 0.87461 - acc: 0.7021 -- iter: 01660/55000\n"
     ]
    },
    {
     "name": "stdout",
     "output_type": "stream",
     "text": [
      "Training Step: 84  | total loss: \u001b[1m\u001b[32m0.85425\u001b[0m\u001b[0m | time: 5.311s\n\u001b[2K\r| SGD | epoch: 001 | loss: 0.85425 - acc: 0.7068 -- iter: 01680/55000\n"
     ]
    },
    {
     "name": "stdout",
     "output_type": "stream",
     "text": [
      "Training Step: 85  | total loss: \u001b[1m\u001b[32m0.81706\u001b[0m\u001b[0m | time: 5.357s\n\u001b[2K\r| SGD | epoch: 001 | loss: 0.81706 - acc: 0.7212 -- iter: 01700/55000\n"
     ]
    },
    {
     "name": "stdout",
     "output_type": "stream",
     "text": [
      "Training Step: 86  | total loss: \u001b[1m\u001b[32m0.81806\u001b[0m\u001b[0m | time: 5.420s\n\u001b[2K\r| SGD | epoch: 001 | loss: 0.81806 - acc: 0.7240 -- iter: 01720/55000\n"
     ]
    },
    {
     "name": "stdout",
     "output_type": "stream",
     "text": [
      "Training Step: 87  | total loss: \u001b[1m\u001b[32m0.79088\u001b[0m\u001b[0m | time: 5.482s\n\u001b[2K\r| SGD | epoch: 001 | loss: 0.79088 - acc: 0.7366 -- iter: 01740/55000\n"
     ]
    },
    {
     "name": "stdout",
     "output_type": "stream",
     "text": [
      "Training Step: 88  | total loss: \u001b[1m\u001b[32m0.74581\u001b[0m\u001b[0m | time: 5.545s\n\u001b[2K\r| SGD | epoch: 001 | loss: 0.74581 - acc: 0.7480 -- iter: 01760/55000\n"
     ]
    },
    {
     "name": "stdout",
     "output_type": "stream",
     "text": [
      "Training Step: 89  | total loss: \u001b[1m\u001b[32m0.73166\u001b[0m\u001b[0m | time: 5.592s\n\u001b[2K\r| SGD | epoch: 001 | loss: 0.73166 - acc: 0.7482 -- iter: 01780/55000\n"
     ]
    },
    {
     "name": "stdout",
     "output_type": "stream",
     "text": [
      "Training Step: 90  | total loss: \u001b[1m\u001b[32m0.73113\u001b[0m\u001b[0m | time: 5.654s\n\u001b[2K\r| SGD | epoch: 001 | loss: 0.73113 - acc: 0.7534 -- iter: 01800/55000\n"
     ]
    },
    {
     "name": "stdout",
     "output_type": "stream",
     "text": [
      "Training Step: 91  | total loss: \u001b[1m\u001b[32m0.71134\u001b[0m\u001b[0m | time: 5.701s\n\u001b[2K\r| SGD | epoch: 001 | loss: 0.71134 - acc: 0.7530 -- iter: 01820/55000\n"
     ]
    },
    {
     "name": "stdout",
     "output_type": "stream",
     "text": [
      "Training Step: 92  | total loss: \u001b[1m\u001b[32m0.68512\u001b[0m\u001b[0m | time: 5.764s\n\u001b[2K\r| SGD | epoch: 001 | loss: 0.68512 - acc: 0.7677 -- iter: 01840/55000\n"
     ]
    },
    {
     "name": "stdout",
     "output_type": "stream",
     "text": [
      "Training Step: 93  | total loss: \u001b[1m\u001b[32m0.65820\u001b[0m\u001b[0m | time: 5.826s\n\u001b[2K\r| SGD | epoch: 001 | loss: 0.65820 - acc: 0.7760 -- iter: 01860/55000\n"
     ]
    },
    {
     "name": "stdout",
     "output_type": "stream",
     "text": [
      "Training Step: 94  | total loss: \u001b[1m\u001b[32m0.63085\u001b[0m\u001b[0m | time: 5.873s\n\u001b[2K\r| SGD | epoch: 001 | loss: 0.63085 - acc: 0.7834 -- iter: 01880/55000\n"
     ]
    },
    {
     "name": "stdout",
     "output_type": "stream",
     "text": [
      "Training Step: 95  | total loss: \u001b[1m\u001b[32m0.58702\u001b[0m\u001b[0m | time: 5.940s\n\u001b[2K\r| SGD | epoch: 001 | loss: 0.58702 - acc: 0.8050 -- iter: 01900/55000\n"
     ]
    },
    {
     "name": "stdout",
     "output_type": "stream",
     "text": [
      "Training Step: 96  | total loss: \u001b[1m\u001b[32m0.62115\u001b[0m\u001b[0m | time: 6.002s\n\u001b[2K\r| SGD | epoch: 001 | loss: 0.62115 - acc: 0.7945 -- iter: 01920/55000\n"
     ]
    },
    {
     "name": "stdout",
     "output_type": "stream",
     "text": [
      "Training Step: 97  | total loss: \u001b[1m\u001b[32m0.60413\u001b[0m\u001b[0m | time: 6.049s\n\u001b[2K\r| SGD | epoch: 001 | loss: 0.60413 - acc: 0.8051 -- iter: 01940/55000\n"
     ]
    },
    {
     "name": "stdout",
     "output_type": "stream",
     "text": [
      "Training Step: 98  | total loss: \u001b[1m\u001b[32m0.57969\u001b[0m\u001b[0m | time: 6.111s\n\u001b[2K\r| SGD | epoch: 001 | loss: 0.57969 - acc: 0.8096 -- iter: 01960/55000\n"
     ]
    },
    {
     "name": "stdout",
     "output_type": "stream",
     "text": [
      "Training Step: 99  | total loss: \u001b[1m\u001b[32m0.57994\u001b[0m\u001b[0m | time: 6.174s\n\u001b[2K\r| SGD | epoch: 001 | loss: 0.57994 - acc: 0.8086 -- iter: 01980/55000\n"
     ]
    },
    {
     "name": "stdout",
     "output_type": "stream",
     "text": [
      "Training Step: 100  | total loss: \u001b[1m\u001b[32m0.61794\u001b[0m\u001b[0m | time: 6.221s\n\u001b[2K\r| SGD | epoch: 001 | loss: 0.61794 - acc: 0.7977 -- iter: 02000/55000\n"
     ]
    },
    {
     "name": "stdout",
     "output_type": "stream",
     "text": [
      "Training Step: 101  | total loss: \u001b[1m\u001b[32m0.62165\u001b[0m\u001b[0m | time: 6.283s\n\u001b[2K\r| SGD | epoch: 001 | loss: 0.62165 - acc: 0.7980 -- iter: 02020/55000\n"
     ]
    },
    {
     "name": "stdout",
     "output_type": "stream",
     "text": [
      "Training Step: 102  | total loss: \u001b[1m\u001b[32m0.63417\u001b[0m\u001b[0m | time: 6.330s\n\u001b[2K\r| SGD | epoch: 001 | loss: 0.63417 - acc: 0.7832 -- iter: 02040/55000\n"
     ]
    },
    {
     "name": "stdout",
     "output_type": "stream",
     "text": [
      "Training Step: 103  | total loss: \u001b[1m\u001b[32m0.66489\u001b[0m\u001b[0m | time: 6.393s\n\u001b[2K\r| SGD | epoch: 001 | loss: 0.66489 - acc: 0.7699 -- iter: 02060/55000\n"
     ]
    },
    {
     "name": "stdout",
     "output_type": "stream",
     "text": [
      "Training Step: 104  | total loss: \u001b[1m\u001b[32m0.64617\u001b[0m\u001b[0m | time: 6.440s\n\u001b[2K\r| SGD | epoch: 001 | loss: 0.64617 - acc: 0.7779 -- iter: 02080/55000\n"
     ]
    },
    {
     "name": "stdout",
     "output_type": "stream",
     "text": [
      "Training Step: 105  | total loss: \u001b[1m\u001b[32m0.63484\u001b[0m\u001b[0m | time: 6.502s\n\u001b[2K\r| SGD | epoch: 001 | loss: 0.63484 - acc: 0.7851 -- iter: 02100/55000\n"
     ]
    },
    {
     "name": "stdout",
     "output_type": "stream",
     "text": [
      "Training Step: 106  | total loss: \u001b[1m\u001b[32m0.59789\u001b[0m\u001b[0m | time: 6.549s\n\u001b[2K\r| SGD | epoch: 001 | loss: 0.59789 - acc: 0.8016 -- iter: 02120/55000\n"
     ]
    },
    {
     "name": "stdout",
     "output_type": "stream",
     "text": [
      "Training Step: 107  | total loss: \u001b[1m\u001b[32m0.56025\u001b[0m\u001b[0m | time: 6.596s\n\u001b[2K\r| SGD | epoch: 001 | loss: 0.56025 - acc: 0.8114 -- iter: 02140/55000\n"
     ]
    },
    {
     "name": "stdout",
     "output_type": "stream",
     "text": [
      "Training Step: 108  | total loss: \u001b[1m\u001b[32m0.51643\u001b[0m\u001b[0m | time: 6.643s\n\u001b[2K\r| SGD | epoch: 001 | loss: 0.51643 - acc: 0.8303 -- iter: 02160/55000\n"
     ]
    },
    {
     "name": "stdout",
     "output_type": "stream",
     "text": [
      "Training Step: 109  | total loss: \u001b[1m\u001b[32m0.49203\u001b[0m\u001b[0m | time: 6.690s\n\u001b[2K\r| SGD | epoch: 001 | loss: 0.49203 - acc: 0.8372 -- iter: 02180/55000\n"
     ]
    },
    {
     "name": "stdout",
     "output_type": "stream",
     "text": [
      "Training Step: 110  | total loss: \u001b[1m\u001b[32m0.52350\u001b[0m\u001b[0m | time: 6.752s\n\u001b[2K\r| SGD | epoch: 001 | loss: 0.52350 - acc: 0.8335 -- iter: 02200/55000\n"
     ]
    },
    {
     "name": "stdout",
     "output_type": "stream",
     "text": [
      "Training Step: 111  | total loss: \u001b[1m\u001b[32m0.49643\u001b[0m\u001b[0m | time: 6.815s\n\u001b[2K\r| SGD | epoch: 001 | loss: 0.49643 - acc: 0.8402 -- iter: 02220/55000\n"
     ]
    },
    {
     "name": "stdout",
     "output_type": "stream",
     "text": [
      "Training Step: 112  | total loss: \u001b[1m\u001b[32m0.50778\u001b[0m\u001b[0m | time: 6.861s\n\u001b[2K\r| SGD | epoch: 001 | loss: 0.50778 - acc: 0.8362 -- iter: 02240/55000\n"
     ]
    },
    {
     "name": "stdout",
     "output_type": "stream",
     "text": [
      "Training Step: 113  | total loss: \u001b[1m\u001b[32m0.52015\u001b[0m\u001b[0m | time: 6.937s\n\u001b[2K\r| SGD | epoch: 001 | loss: 0.52015 - acc: 0.8475 -- iter: 02260/55000\n"
     ]
    },
    {
     "name": "stdout",
     "output_type": "stream",
     "text": [
      "Training Step: 114  | total loss: \u001b[1m\u001b[32m0.50806\u001b[0m\u001b[0m | time: 7.000s\n\u001b[2K\r| SGD | epoch: 001 | loss: 0.50806 - acc: 0.8478 -- iter: 02280/55000\n"
     ]
    },
    {
     "name": "stdout",
     "output_type": "stream",
     "text": [
      "Training Step: 115  | total loss: \u001b[1m\u001b[32m0.47821\u001b[0m\u001b[0m | time: 7.062s\n\u001b[2K\r| SGD | epoch: 001 | loss: 0.47821 - acc: 0.8580 -- iter: 02300/55000\n"
     ]
    },
    {
     "name": "stdout",
     "output_type": "stream",
     "text": [
      "Training Step: 116  | total loss: \u001b[1m\u001b[32m0.48470\u001b[0m\u001b[0m | time: 7.125s\n\u001b[2K\r| SGD | epoch: 001 | loss: 0.48470 - acc: 0.8522 -- iter: 02320/55000\n"
     ]
    },
    {
     "name": "stdout",
     "output_type": "stream",
     "text": [
      "Training Step: 117  | total loss: \u001b[1m\u001b[32m0.46005\u001b[0m\u001b[0m | time: 7.187s\n\u001b[2K\r| SGD | epoch: 001 | loss: 0.46005 - acc: 0.8620 -- iter: 02340/55000\n"
     ]
    },
    {
     "name": "stdout",
     "output_type": "stream",
     "text": [
      "Training Step: 118  | total loss: \u001b[1m\u001b[32m0.46300\u001b[0m\u001b[0m | time: 7.234s\n\u001b[2K\r| SGD | epoch: 001 | loss: 0.46300 - acc: 0.8608 -- iter: 02360/55000\n"
     ]
    },
    {
     "name": "stdout",
     "output_type": "stream",
     "text": [
      "Training Step: 119  | total loss: \u001b[1m\u001b[32m0.43911\u001b[0m\u001b[0m | time: 7.297s\n\u001b[2K\r| SGD | epoch: 001 | loss: 0.43911 - acc: 0.8697 -- iter: 02380/55000\n"
     ]
    },
    {
     "name": "stdout",
     "output_type": "stream",
     "text": [
      "Training Step: 120  | total loss: \u001b[1m\u001b[32m0.41632\u001b[0m\u001b[0m | time: 7.359s\n\u001b[2K\r| SGD | epoch: 001 | loss: 0.41632 - acc: 0.8727 -- iter: 02400/55000\n"
     ]
    },
    {
     "name": "stdout",
     "output_type": "stream",
     "text": [
      "Training Step: 121  | total loss: \u001b[1m\u001b[32m0.41484\u001b[0m\u001b[0m | time: 7.406s\n\u001b[2K\r| SGD | epoch: 001 | loss: 0.41484 - acc: 0.8755 -- iter: 02420/55000\n"
     ]
    },
    {
     "name": "stdout",
     "output_type": "stream",
     "text": [
      "Training Step: 122  | total loss: \u001b[1m\u001b[32m0.40400\u001b[0m\u001b[0m | time: 7.468s\n\u001b[2K\r| SGD | epoch: 001 | loss: 0.40400 - acc: 0.8729 -- iter: 02440/55000\n"
     ]
    },
    {
     "name": "stdout",
     "output_type": "stream",
     "text": [
      "Training Step: 123  | total loss: \u001b[1m\u001b[32m0.45129\u001b[0m\u001b[0m | time: 7.531s\n\u001b[2K\r| SGD | epoch: 001 | loss: 0.45129 - acc: 0.8656 -- iter: 02460/55000\n"
     ]
    },
    {
     "name": "stdout",
     "output_type": "stream",
     "text": [
      "Training Step: 124  | total loss: \u001b[1m\u001b[32m0.42829\u001b[0m\u001b[0m | time: 7.593s\n\u001b[2K\r| SGD | epoch: 001 | loss: 0.42829 - acc: 0.8741 -- iter: 02480/55000\n"
     ]
    },
    {
     "name": "stdout",
     "output_type": "stream",
     "text": [
      "Training Step: 125  | total loss: \u001b[1m\u001b[32m0.42499\u001b[0m\u001b[0m | time: 7.656s\n\u001b[2K\r| SGD | epoch: 001 | loss: 0.42499 - acc: 0.8717 -- iter: 02500/55000\n"
     ]
    },
    {
     "name": "stdout",
     "output_type": "stream",
     "text": [
      "Training Step: 126  | total loss: \u001b[1m\u001b[32m0.39555\u001b[0m\u001b[0m | time: 7.703s\n\u001b[2K\r| SGD | epoch: 001 | loss: 0.39555 - acc: 0.8845 -- iter: 02520/55000\n"
     ]
    },
    {
     "name": "stdout",
     "output_type": "stream",
     "text": [
      "Training Step: 127  | total loss: \u001b[1m\u001b[32m0.38860\u001b[0m\u001b[0m | time: 7.750s\n\u001b[2K\r| SGD | epoch: 001 | loss: 0.38860 - acc: 0.8860 -- iter: 02540/55000\n"
     ]
    },
    {
     "name": "stdout",
     "output_type": "stream",
     "text": [
      "Training Step: 128  | total loss: \u001b[1m\u001b[32m0.39812\u001b[0m\u001b[0m | time: 7.812s\n\u001b[2K\r| SGD | epoch: 001 | loss: 0.39812 - acc: 0.8824 -- iter: 02560/55000\n"
     ]
    },
    {
     "name": "stdout",
     "output_type": "stream",
     "text": [
      "Training Step: 129  | total loss: \u001b[1m\u001b[32m0.37172\u001b[0m\u001b[0m | time: 7.878s\n\u001b[2K\r| SGD | epoch: 001 | loss: 0.37172 - acc: 0.8942 -- iter: 02580/55000\n"
     ]
    },
    {
     "name": "stdout",
     "output_type": "stream",
     "text": [
      "Training Step: 130  | total loss: \u001b[1m\u001b[32m0.35811\u001b[0m\u001b[0m | time: 7.941s\n\u001b[2K\r| SGD | epoch: 001 | loss: 0.35811 - acc: 0.8998 -- iter: 02600/55000\n"
     ]
    },
    {
     "name": "stdout",
     "output_type": "stream",
     "text": [
      "Training Step: 131  | total loss: \u001b[1m\u001b[32m0.33516\u001b[0m\u001b[0m | time: 7.988s\n\u001b[2K\r| SGD | epoch: 001 | loss: 0.33516 - acc: 0.9098 -- iter: 02620/55000\n"
     ]
    },
    {
     "name": "stdout",
     "output_type": "stream",
     "text": [
      "Training Step: 132  | total loss: \u001b[1m\u001b[32m0.32090\u001b[0m\u001b[0m | time: 8.050s\n\u001b[2K\r| SGD | epoch: 001 | loss: 0.32090 - acc: 0.9088 -- iter: 02640/55000\n"
     ]
    },
    {
     "name": "stdout",
     "output_type": "stream",
     "text": [
      "Training Step: 133  | total loss: \u001b[1m\u001b[32m0.32493\u001b[0m\u001b[0m | time: 8.097s\n\u001b[2K\r| SGD | epoch: 001 | loss: 0.32493 - acc: 0.9029 -- iter: 02660/55000\n"
     ]
    },
    {
     "name": "stdout",
     "output_type": "stream",
     "text": [
      "Training Step: 134  | total loss: \u001b[1m\u001b[32m0.45873\u001b[0m\u001b[0m | time: 8.160s\n\u001b[2K\r| SGD | epoch: 001 | loss: 0.45873 - acc: 0.8676 -- iter: 02680/55000\n"
     ]
    },
    {
     "name": "stdout",
     "output_type": "stream",
     "text": [
      "Training Step: 135  | total loss: \u001b[1m\u001b[32m0.44813\u001b[0m\u001b[0m | time: 8.238s\n\u001b[2K\r| SGD | epoch: 001 | loss: 0.44813 - acc: 0.8759 -- iter: 02700/55000\n"
     ]
    },
    {
     "name": "stdout",
     "output_type": "stream",
     "text": [
      "Training Step: 136  | total loss: \u001b[1m\u001b[32m0.43975\u001b[0m\u001b[0m | time: 8.300s\n\u001b[2K\r| SGD | epoch: 001 | loss: 0.43975 - acc: 0.8783 -- iter: 02720/55000\n"
     ]
    },
    {
     "name": "stdout",
     "output_type": "stream",
     "text": [
      "Training Step: 137  | total loss: \u001b[1m\u001b[32m0.43881\u001b[0m\u001b[0m | time: 8.363s\n\u001b[2K\r| SGD | epoch: 001 | loss: 0.43881 - acc: 0.8805 -- iter: 02740/55000\n"
     ]
    },
    {
     "name": "stdout",
     "output_type": "stream",
     "text": [
      "Training Step: 138  | total loss: \u001b[1m\u001b[32m0.48929\u001b[0m\u001b[0m | time: 8.425s\n\u001b[2K\r| SGD | epoch: 001 | loss: 0.48929 - acc: 0.8674 -- iter: 02760/55000\n"
     ]
    },
    {
     "name": "stdout",
     "output_type": "stream",
     "text": [
      "Training Step: 139  | total loss: \u001b[1m\u001b[32m0.49590\u001b[0m\u001b[0m | time: 8.472s\n\u001b[2K\r| SGD | epoch: 001 | loss: 0.49590 - acc: 0.8607 -- iter: 02780/55000\n"
     ]
    },
    {
     "name": "stdout",
     "output_type": "stream",
     "text": [
      "Training Step: 140  | total loss: \u001b[1m\u001b[32m0.53956\u001b[0m\u001b[0m | time: 8.535s\n\u001b[2K\r| SGD | epoch: 001 | loss: 0.53956 - acc: 0.8446 -- iter: 02800/55000\n"
     ]
    },
    {
     "name": "stdout",
     "output_type": "stream",
     "text": [
      "Training Step: 141  | total loss: \u001b[1m\u001b[32m0.52778\u001b[0m\u001b[0m | time: 8.581s\n\u001b[2K\r| SGD | epoch: 001 | loss: 0.52778 - acc: 0.8451 -- iter: 02820/55000\n"
     ]
    },
    {
     "name": "stdout",
     "output_type": "stream",
     "text": [
      "Training Step: 142  | total loss: \u001b[1m\u001b[32m0.57126\u001b[0m\u001b[0m | time: 8.644s\n\u001b[2K\r| SGD | epoch: 001 | loss: 0.57126 - acc: 0.8256 -- iter: 02840/55000\n"
     ]
    },
    {
     "name": "stdout",
     "output_type": "stream",
     "text": [
      "Training Step: 143  | total loss: \u001b[1m\u001b[32m0.53836\u001b[0m\u001b[0m | time: 8.706s\n\u001b[2K\r| SGD | epoch: 001 | loss: 0.53836 - acc: 0.8381 -- iter: 02860/55000\n"
     ]
    },
    {
     "name": "stdout",
     "output_type": "stream",
     "text": [
      "Training Step: 144  | total loss: \u001b[1m\u001b[32m0.50283\u001b[0m\u001b[0m | time: 8.753s\n\u001b[2K\r| SGD | epoch: 001 | loss: 0.50283 - acc: 0.8543 -- iter: 02880/55000\n"
     ]
    },
    {
     "name": "stdout",
     "output_type": "stream",
     "text": [
      "Training Step: 145  | total loss: \u001b[1m\u001b[32m0.49712\u001b[0m\u001b[0m | time: 8.816s\n\u001b[2K\r| SGD | epoch: 001 | loss: 0.49712 - acc: 0.8538 -- iter: 02900/55000\n"
     ]
    },
    {
     "name": "stdout",
     "output_type": "stream",
     "text": [
      "Training Step: 146  | total loss: \u001b[1m\u001b[32m0.53131\u001b[0m\u001b[0m | time: 8.871s\n\u001b[2K\r| SGD | epoch: 001 | loss: 0.53131 - acc: 0.8635 -- iter: 02920/55000\n"
     ]
    },
    {
     "name": "stdout",
     "output_type": "stream",
     "text": [
      "Training Step: 147  | total loss: \u001b[1m\u001b[32m0.51643\u001b[0m\u001b[0m | time: 8.933s\n\u001b[2K\r| SGD | epoch: 001 | loss: 0.51643 - acc: 0.8521 -- iter: 02940/55000\n"
     ]
    },
    {
     "name": "stdout",
     "output_type": "stream",
     "text": [
      "Training Step: 148  | total loss: \u001b[1m\u001b[32m0.48035\u001b[0m\u001b[0m | time: 8.996s\n\u001b[2K\r| SGD | epoch: 001 | loss: 0.48035 - acc: 0.8619 -- iter: 02960/55000\n"
     ]
    },
    {
     "name": "stdout",
     "output_type": "stream",
     "text": [
      "Training Step: 149  | total loss: \u001b[1m\u001b[32m0.44577\u001b[0m\u001b[0m | time: 9.043s\n\u001b[2K\r| SGD | epoch: 001 | loss: 0.44577 - acc: 0.8707 -- iter: 02980/55000\n"
     ]
    },
    {
     "name": "stdout",
     "output_type": "stream",
     "text": [
      "Training Step: 150  | total loss: \u001b[1m\u001b[32m0.42586\u001b[0m\u001b[0m | time: 9.105s\n\u001b[2K\r| SGD | epoch: 001 | loss: 0.42586 - acc: 0.8786 -- iter: 03000/55000\n"
     ]
    },
    {
     "name": "stdout",
     "output_type": "stream",
     "text": [
      "Training Step: 151  | total loss: \u001b[1m\u001b[32m0.46908\u001b[0m\u001b[0m | time: 9.168s\n\u001b[2K\r| SGD | epoch: 001 | loss: 0.46908 - acc: 0.8708 -- iter: 03020/55000\n"
     ]
    },
    {
     "name": "stdout",
     "output_type": "stream",
     "text": [
      "Training Step: 152  | total loss: \u001b[1m\u001b[32m0.45126\u001b[0m\u001b[0m | time: 9.230s\n\u001b[2K\r| SGD | epoch: 001 | loss: 0.45126 - acc: 0.8737 -- iter: 03040/55000\n"
     ]
    },
    {
     "name": "stdout",
     "output_type": "stream",
     "text": [
      "Training Step: 153  | total loss: \u001b[1m\u001b[32m0.47200\u001b[0m\u001b[0m | time: 9.293s\n\u001b[2K\r| SGD | epoch: 001 | loss: 0.47200 - acc: 0.8563 -- iter: 03060/55000\n"
     ]
    },
    {
     "name": "stdout",
     "output_type": "stream",
     "text": [
      "Training Step: 154  | total loss: \u001b[1m\u001b[32m0.44725\u001b[0m\u001b[0m | time: 9.355s\n\u001b[2K\r| SGD | epoch: 001 | loss: 0.44725 - acc: 0.8657 -- iter: 03080/55000\n"
     ]
    },
    {
     "name": "stdout",
     "output_type": "stream",
     "text": [
      "Training Step: 155  | total loss: \u001b[1m\u001b[32m0.41752\u001b[0m\u001b[0m | time: 9.418s\n\u001b[2K\r| SGD | epoch: 001 | loss: 0.41752 - acc: 0.8741 -- iter: 03100/55000\n"
     ]
    },
    {
     "name": "stdout",
     "output_type": "stream",
     "text": [
      "Training Step: 156  | total loss: \u001b[1m\u001b[32m0.41293\u001b[0m\u001b[0m | time: 9.480s\n\u001b[2K\r| SGD | epoch: 001 | loss: 0.41293 - acc: 0.8717 -- iter: 03120/55000\n"
     ]
    },
    {
     "name": "stdout",
     "output_type": "stream",
     "text": [
      "Training Step: 157  | total loss: \u001b[1m\u001b[32m0.38987\u001b[0m\u001b[0m | time: 9.543s\n\u001b[2K\r| SGD | epoch: 001 | loss: 0.38987 - acc: 0.8745 -- iter: 03140/55000\n"
     ]
    },
    {
     "name": "stdout",
     "output_type": "stream",
     "text": [
      "Training Step: 158  | total loss: \u001b[1m\u001b[32m0.37115\u001b[0m\u001b[0m | time: 9.605s\n\u001b[2K\r| SGD | epoch: 001 | loss: 0.37115 - acc: 0.8771 -- iter: 03160/55000\n"
     ]
    },
    {
     "name": "stdout",
     "output_type": "stream",
     "text": [
      "Training Step: 159  | total loss: \u001b[1m\u001b[32m0.35359\u001b[0m\u001b[0m | time: 9.668s\n\u001b[2K\r| SGD | epoch: 001 | loss: 0.35359 - acc: 0.8844 -- iter: 03180/55000\n"
     ]
    },
    {
     "name": "stdout",
     "output_type": "stream",
     "text": [
      "Training Step: 160  | total loss: \u001b[1m\u001b[32m0.38223\u001b[0m\u001b[0m | time: 9.730s\n\u001b[2K\r| SGD | epoch: 001 | loss: 0.38223 - acc: 0.8809 -- iter: 03200/55000\n"
     ]
    },
    {
     "name": "stdout",
     "output_type": "stream",
     "text": [
      "Training Step: 161  | total loss: \u001b[1m\u001b[32m0.39320\u001b[0m\u001b[0m | time: 9.793s\n\u001b[2K\r| SGD | epoch: 001 | loss: 0.39320 - acc: 0.8778 -- iter: 03220/55000\n"
     ]
    },
    {
     "name": "stdout",
     "output_type": "stream",
     "text": [
      "Training Step: 162  | total loss: \u001b[1m\u001b[32m0.39043\u001b[0m\u001b[0m | time: 9.870s\n\u001b[2K\r| SGD | epoch: 001 | loss: 0.39043 - acc: 0.8751 -- iter: 03240/55000\n"
     ]
    },
    {
     "name": "stdout",
     "output_type": "stream",
     "text": [
      "Training Step: 163  | total loss: \u001b[1m\u001b[32m0.40483\u001b[0m\u001b[0m | time: 9.932s\n\u001b[2K\r| SGD | epoch: 001 | loss: 0.40483 - acc: 0.8726 -- iter: 03260/55000\n"
     ]
    },
    {
     "name": "stdout",
     "output_type": "stream",
     "text": [
      "Training Step: 164  | total loss: \u001b[1m\u001b[32m0.38072\u001b[0m\u001b[0m | time: 9.979s\n\u001b[2K\r| SGD | epoch: 001 | loss: 0.38072 - acc: 0.8853 -- iter: 03280/55000\n"
     ]
    },
    {
     "name": "stdout",
     "output_type": "stream",
     "text": [
      "Training Step: 165  | total loss: \u001b[1m\u001b[32m0.38489\u001b[0m\u001b[0m | time: 10.026s\n\u001b[2K\r| SGD | epoch: 001 | loss: 0.38489 - acc: 0.8818 -- iter: 03300/55000\n"
     ]
    },
    {
     "name": "stdout",
     "output_type": "stream",
     "text": [
      "Training Step: 166  | total loss: \u001b[1m\u001b[32m0.35671\u001b[0m\u001b[0m | time: 10.088s\n\u001b[2K\r| SGD | epoch: 001 | loss: 0.35671 - acc: 0.8936 -- iter: 03320/55000\n"
     ]
    },
    {
     "name": "stdout",
     "output_type": "stream",
     "text": [
      "Training Step: 167  | total loss: \u001b[1m\u001b[32m0.33048\u001b[0m\u001b[0m | time: 10.151s\n\u001b[2K\r| SGD | epoch: 001 | loss: 0.33048 - acc: 0.9042 -- iter: 03340/55000\n"
     ]
    },
    {
     "name": "stdout",
     "output_type": "stream",
     "text": [
      "Training Step: 168  | total loss: \u001b[1m\u001b[32m0.32807\u001b[0m\u001b[0m | time: 10.213s\n\u001b[2K\r| SGD | epoch: 001 | loss: 0.32807 - acc: 0.9038 -- iter: 03360/55000\n"
     ]
    },
    {
     "name": "stdout",
     "output_type": "stream",
     "text": [
      "Training Step: 169  | total loss: \u001b[1m\u001b[32m0.33203\u001b[0m\u001b[0m | time: 10.276s\n\u001b[2K\r| SGD | epoch: 001 | loss: 0.33203 - acc: 0.9034 -- iter: 03380/55000\n"
     ]
    },
    {
     "name": "stdout",
     "output_type": "stream",
     "text": [
      "Training Step: 170  | total loss: \u001b[1m\u001b[32m0.34837\u001b[0m\u001b[0m | time: 10.338s\n\u001b[2K\r| SGD | epoch: 001 | loss: 0.34837 - acc: 0.8981 -- iter: 03400/55000\n"
     ]
    },
    {
     "name": "stdout",
     "output_type": "stream",
     "text": [
      "Training Step: 171  | total loss: \u001b[1m\u001b[32m0.35582\u001b[0m\u001b[0m | time: 10.385s\n\u001b[2K\r| SGD | epoch: 001 | loss: 0.35582 - acc: 0.8933 -- iter: 03420/55000\n"
     ]
    },
    {
     "name": "stdout",
     "output_type": "stream",
     "text": [
      "Training Step: 172  | total loss: \u001b[1m\u001b[32m0.34020\u001b[0m\u001b[0m | time: 10.455s\n\u001b[2K\r| SGD | epoch: 001 | loss: 0.34020 - acc: 0.9039 -- iter: 03440/55000\n"
     ]
    },
    {
     "name": "stdout",
     "output_type": "stream",
     "text": [
      "Training Step: 173  | total loss: \u001b[1m\u001b[32m0.36926\u001b[0m\u001b[0m | time: 10.533s\n\u001b[2K\r| SGD | epoch: 001 | loss: 0.36926 - acc: 0.8986 -- iter: 03460/55000\n"
     ]
    },
    {
     "name": "stdout",
     "output_type": "stream",
     "text": [
      "Training Step: 174  | total loss: \u001b[1m\u001b[32m0.35943\u001b[0m\u001b[0m | time: 10.612s\n\u001b[2K\r| SGD | epoch: 001 | loss: 0.35943 - acc: 0.9037 -- iter: 03480/55000\n"
     ]
    },
    {
     "name": "stdout",
     "output_type": "stream",
     "text": [
      "Training Step: 175  | total loss: \u001b[1m\u001b[32m0.32951\u001b[0m\u001b[0m | time: 10.690s\n\u001b[2K\r| SGD | epoch: 001 | loss: 0.32951 - acc: 0.9133 -- iter: 03500/55000\n"
     ]
    },
    {
     "name": "stdout",
     "output_type": "stream",
     "text": [
      "Training Step: 176  | total loss: \u001b[1m\u001b[32m0.30678\u001b[0m\u001b[0m | time: 10.768s\n\u001b[2K\r| SGD | epoch: 001 | loss: 0.30678 - acc: 0.9220 -- iter: 03520/55000\n"
     ]
    },
    {
     "name": "stdout",
     "output_type": "stream",
     "text": [
      "Training Step: 177  | total loss: \u001b[1m\u001b[32m0.30042\u001b[0m\u001b[0m | time: 10.874s\n\u001b[2K\r| SGD | epoch: 001 | loss: 0.30042 - acc: 0.9248 -- iter: 03540/55000\n"
     ]
    },
    {
     "name": "stdout",
     "output_type": "stream",
     "text": [
      "Training Step: 178  | total loss: \u001b[1m\u001b[32m0.27844\u001b[0m\u001b[0m | time: 10.948s\n\u001b[2K\r| SGD | epoch: 001 | loss: 0.27844 - acc: 0.9323 -- iter: 03560/55000\n"
     ]
    },
    {
     "name": "stdout",
     "output_type": "stream",
     "text": [
      "Training Step: 179  | total loss: \u001b[1m\u001b[32m0.26723\u001b[0m\u001b[0m | time: 11.026s\n\u001b[2K\r| SGD | epoch: 001 | loss: 0.26723 - acc: 0.9341 -- iter: 03580/55000\n"
     ]
    },
    {
     "name": "stdout",
     "output_type": "stream",
     "text": [
      "Training Step: 180  | total loss: \u001b[1m\u001b[32m0.29626\u001b[0m\u001b[0m | time: 11.105s\n\u001b[2K\r| SGD | epoch: 001 | loss: 0.29626 - acc: 0.9307 -- iter: 03600/55000\n"
     ]
    },
    {
     "name": "stdout",
     "output_type": "stream",
     "text": [
      "Training Step: 181  | total loss: \u001b[1m\u001b[32m0.28571\u001b[0m\u001b[0m | time: 11.183s\n\u001b[2K\r| SGD | epoch: 001 | loss: 0.28571 - acc: 0.9326 -- iter: 03620/55000\n"
     ]
    },
    {
     "name": "stdout",
     "output_type": "stream",
     "text": [
      "Training Step: 182  | total loss: \u001b[1m\u001b[32m0.26638\u001b[0m\u001b[0m | time: 11.245s\n\u001b[2K\r| SGD | epoch: 001 | loss: 0.26638 - acc: 0.9393 -- iter: 03640/55000\n"
     ]
    },
    {
     "name": "stdout",
     "output_type": "stream",
     "text": [
      "Training Step: 183  | total loss: \u001b[1m\u001b[32m0.27043\u001b[0m\u001b[0m | time: 11.292s\n\u001b[2K\r| SGD | epoch: 001 | loss: 0.27043 - acc: 0.9304 -- iter: 03660/55000\n"
     ]
    },
    {
     "name": "stdout",
     "output_type": "stream",
     "text": [
      "Training Step: 184  | total loss: \u001b[1m\u001b[32m0.27429\u001b[0m\u001b[0m | time: 11.339s\n\u001b[2K\r| SGD | epoch: 001 | loss: 0.27429 - acc: 0.9224 -- iter: 03680/55000\n"
     ]
    },
    {
     "name": "stdout",
     "output_type": "stream",
     "text": [
      "Training Step: 185  | total loss: \u001b[1m\u001b[32m0.27421\u001b[0m\u001b[0m | time: 11.422s\n\u001b[2K\r| SGD | epoch: 001 | loss: 0.27421 - acc: 0.9201 -- iter: 03700/55000\n"
     ]
    },
    {
     "name": "stdout",
     "output_type": "stream",
     "text": [
      "Training Step: 186  | total loss: \u001b[1m\u001b[32m0.30855\u001b[0m\u001b[0m | time: 11.499s\n\u001b[2K\r| SGD | epoch: 001 | loss: 0.30855 - acc: 0.9081 -- iter: 03720/55000\n"
     ]
    },
    {
     "name": "stdout",
     "output_type": "stream",
     "text": [
      "Training Step: 187  | total loss: \u001b[1m\u001b[32m0.30844\u001b[0m\u001b[0m | time: 11.577s\n\u001b[2K\r| SGD | epoch: 001 | loss: 0.30844 - acc: 0.9073 -- iter: 03740/55000\n"
     ]
    },
    {
     "name": "stdout",
     "output_type": "stream",
     "text": [
      "Training Step: 188  | total loss: \u001b[1m\u001b[32m0.31538\u001b[0m\u001b[0m | time: 11.640s\n\u001b[2K\r| SGD | epoch: 001 | loss: 0.31538 - acc: 0.9116 -- iter: 03760/55000\n"
     ]
    },
    {
     "name": "stdout",
     "output_type": "stream",
     "text": [
      "Training Step: 189  | total loss: \u001b[1m\u001b[32m0.29135\u001b[0m\u001b[0m | time: 11.702s\n\u001b[2K\r| SGD | epoch: 001 | loss: 0.29135 - acc: 0.9204 -- iter: 03780/55000\n"
     ]
    },
    {
     "name": "stdout",
     "output_type": "stream",
     "text": [
      "Training Step: 190  | total loss: \u001b[1m\u001b[32m0.37148\u001b[0m\u001b[0m | time: 11.762s\n\u001b[2K\r| SGD | epoch: 001 | loss: 0.37148 - acc: 0.9184 -- iter: 03800/55000\n"
     ]
    },
    {
     "name": "stdout",
     "output_type": "stream",
     "text": [
      "Training Step: 191  | total loss: \u001b[1m\u001b[32m0.36362\u001b[0m\u001b[0m | time: 11.844s\n\u001b[2K\r| SGD | epoch: 001 | loss: 0.36362 - acc: 0.9115 -- iter: 03820/55000\n"
     ]
    },
    {
     "name": "stdout",
     "output_type": "stream",
     "text": [
      "Training Step: 192  | total loss: \u001b[1m\u001b[32m0.37143\u001b[0m\u001b[0m | time: 11.923s\n\u001b[2K\r| SGD | epoch: 001 | loss: 0.37143 - acc: 0.9154 -- iter: 03840/55000\n"
     ]
    },
    {
     "name": "stdout",
     "output_type": "stream",
     "text": [
      "Training Step: 193  | total loss: \u001b[1m\u001b[32m0.36532\u001b[0m\u001b[0m | time: 11.985s\n\u001b[2K\r| SGD | epoch: 001 | loss: 0.36532 - acc: 0.9138 -- iter: 03860/55000\n"
     ]
    },
    {
     "name": "stdout",
     "output_type": "stream",
     "text": [
      "Training Step: 194  | total loss: \u001b[1m\u001b[32m0.35275\u001b[0m\u001b[0m | time: 12.048s\n\u001b[2K\r| SGD | epoch: 001 | loss: 0.35275 - acc: 0.9125 -- iter: 03880/55000\n"
     ]
    },
    {
     "name": "stdout",
     "output_type": "stream",
     "text": [
      "Training Step: 195  | total loss: \u001b[1m\u001b[32m0.33118\u001b[0m\u001b[0m | time: 12.110s\n\u001b[2K\r| SGD | epoch: 001 | loss: 0.33118 - acc: 0.9162 -- iter: 03900/55000\n"
     ]
    },
    {
     "name": "stdout",
     "output_type": "stream",
     "text": [
      "Training Step: 196  | total loss: \u001b[1m\u001b[32m0.31450\u001b[0m\u001b[0m | time: 12.157s\n\u001b[2K\r| SGD | epoch: 001 | loss: 0.31450 - acc: 0.9196 -- iter: 03920/55000\n"
     ]
    },
    {
     "name": "stdout",
     "output_type": "stream",
     "text": [
      "Training Step: 197  | total loss: \u001b[1m\u001b[32m0.30276\u001b[0m\u001b[0m | time: 12.204s\n\u001b[2K\r| SGD | epoch: 001 | loss: 0.30276 - acc: 0.9176 -- iter: 03940/55000\n"
     ]
    },
    {
     "name": "stdout",
     "output_type": "stream",
     "text": [
      "Training Step: 198  | total loss: \u001b[1m\u001b[32m0.29730\u001b[0m\u001b[0m | time: 12.266s\n\u001b[2K\r| SGD | epoch: 001 | loss: 0.29730 - acc: 0.9209 -- iter: 03960/55000\n"
     ]
    },
    {
     "name": "stdout",
     "output_type": "stream",
     "text": [
      "Training Step: 199  | total loss: \u001b[1m\u001b[32m0.30073\u001b[0m\u001b[0m | time: 12.329s\n\u001b[2K\r| SGD | epoch: 001 | loss: 0.30073 - acc: 0.9138 -- iter: 03980/55000\n"
     ]
    },
    {
     "name": "stdout",
     "output_type": "stream",
     "text": [
      "Training Step: 200  | total loss: \u001b[1m\u001b[32m0.28390\u001b[0m\u001b[0m | time: 12.391s\n\u001b[2K\r| SGD | epoch: 001 | loss: 0.28390 - acc: 0.9174 -- iter: 04000/55000\n"
     ]
    },
    {
     "name": "stdout",
     "output_type": "stream",
     "text": [
      "Training Step: 201  | total loss: \u001b[1m\u001b[32m0.28562\u001b[0m\u001b[0m | time: 12.438s\n\u001b[2K\r| SGD | epoch: 001 | loss: 0.28562 - acc: 0.9157 -- iter: 04020/55000\n"
     ]
    },
    {
     "name": "stdout",
     "output_type": "stream",
     "text": [
      "Training Step: 202  | total loss: \u001b[1m\u001b[32m0.28774\u001b[0m\u001b[0m | time: 12.501s\n\u001b[2K\r| SGD | epoch: 001 | loss: 0.28774 - acc: 0.9191 -- iter: 04040/55000\n"
     ]
    },
    {
     "name": "stdout",
     "output_type": "stream",
     "text": [
      "Training Step: 203  | total loss: \u001b[1m\u001b[32m0.26926\u001b[0m\u001b[0m | time: 12.563s\n\u001b[2K\r| SGD | epoch: 001 | loss: 0.26926 - acc: 0.9272 -- iter: 04060/55000\n"
     ]
    },
    {
     "name": "stdout",
     "output_type": "stream",
     "text": [
      "Training Step: 204  | total loss: \u001b[1m\u001b[32m0.25483\u001b[0m\u001b[0m | time: 12.626s\n\u001b[2K\r| SGD | epoch: 001 | loss: 0.25483 - acc: 0.9295 -- iter: 04080/55000\n"
     ]
    },
    {
     "name": "stdout",
     "output_type": "stream",
     "text": [
      "Training Step: 205  | total loss: \u001b[1m\u001b[32m0.28214\u001b[0m\u001b[0m | time: 12.688s\n\u001b[2K\r| SGD | epoch: 001 | loss: 0.28214 - acc: 0.9315 -- iter: 04100/55000\n"
     ]
    },
    {
     "name": "stdout",
     "output_type": "stream",
     "text": [
      "Training Step: 206  | total loss: \u001b[1m\u001b[32m0.28046\u001b[0m\u001b[0m | time: 12.745s\n\u001b[2K\r| SGD | epoch: 001 | loss: 0.28046 - acc: 0.9284 -- iter: 04120/55000\n"
     ]
    },
    {
     "name": "stdout",
     "output_type": "stream",
     "text": [
      "Training Step: 207  | total loss: \u001b[1m\u001b[32m0.27977\u001b[0m\u001b[0m | time: 12.796s\n\u001b[2K\r| SGD | epoch: 001 | loss: 0.27977 - acc: 0.9205 -- iter: 04140/55000\n"
     ]
    },
    {
     "name": "stdout",
     "output_type": "stream",
     "text": [
      "Training Step: 208  | total loss: \u001b[1m\u001b[32m0.29157\u001b[0m\u001b[0m | time: 12.858s\n\u001b[2K\r| SGD | epoch: 001 | loss: 0.29157 - acc: 0.9135 -- iter: 04160/55000\n"
     ]
    },
    {
     "name": "stdout",
     "output_type": "stream",
     "text": [
      "Training Step: 209  | total loss: \u001b[1m\u001b[32m0.27694\u001b[0m\u001b[0m | time: 12.936s\n\u001b[2K\r| SGD | epoch: 001 | loss: 0.27694 - acc: 0.9121 -- iter: 04180/55000\n"
     ]
    },
    {
     "name": "stdout",
     "output_type": "stream",
     "text": [
      "Training Step: 210  | total loss: \u001b[1m\u001b[32m0.26011\u001b[0m\u001b[0m | time: 12.999s\n\u001b[2K\r| SGD | epoch: 001 | loss: 0.26011 - acc: 0.9209 -- iter: 04200/55000\n"
     ]
    },
    {
     "name": "stdout",
     "output_type": "stream",
     "text": [
      "Training Step: 211  | total loss: \u001b[1m\u001b[32m0.27675\u001b[0m\u001b[0m | time: 13.061s\n\u001b[2K\r| SGD | epoch: 001 | loss: 0.27675 - acc: 0.9188 -- iter: 04220/55000\n"
     ]
    },
    {
     "name": "stdout",
     "output_type": "stream",
     "text": [
      "Training Step: 212  | total loss: \u001b[1m\u001b[32m0.29944\u001b[0m\u001b[0m | time: 13.108s\n\u001b[2K\r| SGD | epoch: 001 | loss: 0.29944 - acc: 0.9069 -- iter: 04240/55000\n"
     ]
    },
    {
     "name": "stdout",
     "output_type": "stream",
     "text": [
      "Training Step: 213  | total loss: \u001b[1m\u001b[32m0.28254\u001b[0m\u001b[0m | time: 13.171s\n\u001b[2K\r| SGD | epoch: 001 | loss: 0.28254 - acc: 0.9112 -- iter: 04260/55000\n"
     ]
    },
    {
     "name": "stdout",
     "output_type": "stream",
     "text": [
      "Training Step: 214  | total loss: \u001b[1m\u001b[32m0.26692\u001b[0m\u001b[0m | time: 13.233s\n\u001b[2K\r| SGD | epoch: 001 | loss: 0.26692 - acc: 0.9201 -- iter: 04280/55000\n"
     ]
    },
    {
     "name": "stdout",
     "output_type": "stream",
     "text": [
      "Training Step: 215  | total loss: \u001b[1m\u001b[32m0.25146\u001b[0m\u001b[0m | time: 13.296s\n\u001b[2K\r| SGD | epoch: 001 | loss: 0.25146 - acc: 0.9281 -- iter: 04300/55000\n"
     ]
    },
    {
     "name": "stdout",
     "output_type": "stream",
     "text": [
      "Training Step: 216  | total loss: \u001b[1m\u001b[32m0.25095\u001b[0m\u001b[0m | time: 13.358s\n\u001b[2K\r| SGD | epoch: 001 | loss: 0.25095 - acc: 0.9253 -- iter: 04320/55000\n"
     ]
    },
    {
     "name": "stdout",
     "output_type": "stream",
     "text": [
      "Training Step: 217  | total loss: \u001b[1m\u001b[32m0.24217\u001b[0m\u001b[0m | time: 13.436s\n\u001b[2K\r| SGD | epoch: 001 | loss: 0.24217 - acc: 0.9228 -- iter: 04340/55000\n"
     ]
    },
    {
     "name": "stdout",
     "output_type": "stream",
     "text": [
      "Training Step: 218  | total loss: \u001b[1m\u001b[32m0.23103\u001b[0m\u001b[0m | time: 13.499s\n\u001b[2K\r| SGD | epoch: 001 | loss: 0.23103 - acc: 0.9255 -- iter: 04360/55000\n"
     ]
    },
    {
     "name": "stdout",
     "output_type": "stream",
     "text": [
      "Training Step: 219  | total loss: \u001b[1m\u001b[32m0.24810\u001b[0m\u001b[0m | time: 13.561s\n\u001b[2K\r| SGD | epoch: 001 | loss: 0.24810 - acc: 0.9179 -- iter: 04380/55000\n"
     ]
    },
    {
     "name": "stdout",
     "output_type": "stream",
     "text": [
      "Training Step: 220  | total loss: \u001b[1m\u001b[32m0.23418\u001b[0m\u001b[0m | time: 13.608s\n\u001b[2K\r| SGD | epoch: 001 | loss: 0.23418 - acc: 0.9262 -- iter: 04400/55000\n"
     ]
    },
    {
     "name": "stdout",
     "output_type": "stream",
     "text": [
      "Training Step: 221  | total loss: \u001b[1m\u001b[32m0.24019\u001b[0m\u001b[0m | time: 13.671s\n\u001b[2K\r| SGD | epoch: 001 | loss: 0.24019 - acc: 0.9185 -- iter: 04420/55000\n"
     ]
    },
    {
     "name": "stdout",
     "output_type": "stream",
     "text": [
      "Training Step: 222  | total loss: \u001b[1m\u001b[32m0.23722\u001b[0m\u001b[0m | time: 13.734s\n\u001b[2K\r| SGD | epoch: 001 | loss: 0.23722 - acc: 0.9167 -- iter: 04440/55000\n"
     ]
    },
    {
     "name": "stdout",
     "output_type": "stream",
     "text": [
      "Training Step: 223  | total loss: \u001b[1m\u001b[32m0.22323\u001b[0m\u001b[0m | time: 13.797s\n\u001b[2K\r| SGD | epoch: 001 | loss: 0.22323 - acc: 0.9250 -- iter: 04460/55000\n"
     ]
    },
    {
     "name": "stdout",
     "output_type": "stream",
     "text": [
      "Training Step: 224  | total loss: \u001b[1m\u001b[32m0.20595\u001b[0m\u001b[0m | time: 13.859s\n\u001b[2K\r| SGD | epoch: 001 | loss: 0.20595 - acc: 0.9325 -- iter: 04480/55000\n"
     ]
    },
    {
     "name": "stdout",
     "output_type": "stream",
     "text": [
      "Training Step: 225  | total loss: \u001b[1m\u001b[32m0.19701\u001b[0m\u001b[0m | time: 13.906s\n\u001b[2K\r| SGD | epoch: 001 | loss: 0.19701 - acc: 0.9343 -- iter: 04500/55000\n"
     ]
    },
    {
     "name": "stdout",
     "output_type": "stream",
     "text": [
      "Training Step: 226  | total loss: \u001b[1m\u001b[32m0.25379\u001b[0m\u001b[0m | time: 13.969s\n\u001b[2K\r| SGD | epoch: 001 | loss: 0.25379 - acc: 0.9258 -- iter: 04520/55000\n"
     ]
    },
    {
     "name": "stdout",
     "output_type": "stream",
     "text": [
      "Training Step: 227  | total loss: \u001b[1m\u001b[32m0.27430\u001b[0m\u001b[0m | time: 14.031s\n\u001b[2K\r| SGD | epoch: 001 | loss: 0.27430 - acc: 0.9183 -- iter: 04540/55000\n"
     ]
    },
    {
     "name": "stdout",
     "output_type": "stream",
     "text": [
      "Training Step: 228  | total loss: \u001b[1m\u001b[32m0.25965\u001b[0m\u001b[0m | time: 14.094s\n\u001b[2K\r| SGD | epoch: 001 | loss: 0.25965 - acc: 0.9264 -- iter: 04560/55000\n"
     ]
    },
    {
     "name": "stdout",
     "output_type": "stream",
     "text": [
      "Training Step: 229  | total loss: \u001b[1m\u001b[32m0.24320\u001b[0m\u001b[0m | time: 14.156s\n\u001b[2K\r| SGD | epoch: 001 | loss: 0.24320 - acc: 0.9288 -- iter: 04580/55000\n"
     ]
    },
    {
     "name": "stdout",
     "output_type": "stream",
     "text": [
      "Training Step: 230  | total loss: \u001b[1m\u001b[32m0.25804\u001b[0m\u001b[0m | time: 14.203s\n\u001b[2K\r| SGD | epoch: 001 | loss: 0.25804 - acc: 0.9109 -- iter: 04600/55000\n"
     ]
    },
    {
     "name": "stdout",
     "output_type": "stream",
     "text": [
      "Training Step: 231  | total loss: \u001b[1m\u001b[32m0.25103\u001b[0m\u001b[0m | time: 14.265s\n\u001b[2K\r| SGD | epoch: 001 | loss: 0.25103 - acc: 0.9148 -- iter: 04620/55000\n"
     ]
    },
    {
     "name": "stdout",
     "output_type": "stream",
     "text": [
      "Training Step: 232  | total loss: \u001b[1m\u001b[32m0.23606\u001b[0m\u001b[0m | time: 14.328s\n\u001b[2K\r| SGD | epoch: 001 | loss: 0.23606 - acc: 0.9183 -- iter: 04640/55000\n"
     ]
    },
    {
     "name": "stdout",
     "output_type": "stream",
     "text": [
      "Training Step: 233  | total loss: \u001b[1m\u001b[32m0.24768\u001b[0m\u001b[0m | time: 14.390s\n\u001b[2K\r| SGD | epoch: 001 | loss: 0.24768 - acc: 0.9215 -- iter: 04660/55000\n"
     ]
    },
    {
     "name": "stdout",
     "output_type": "stream",
     "text": [
      "Training Step: 234  | total loss: \u001b[1m\u001b[32m0.25235\u001b[0m\u001b[0m | time: 14.453s\n\u001b[2K\r| SGD | epoch: 001 | loss: 0.25235 - acc: 0.9143 -- iter: 04680/55000\n"
     ]
    },
    {
     "name": "stdout",
     "output_type": "stream",
     "text": [
      "Training Step: 235  | total loss: \u001b[1m\u001b[32m0.24542\u001b[0m\u001b[0m | time: 14.515s\n\u001b[2K\r| SGD | epoch: 001 | loss: 0.24542 - acc: 0.9179 -- iter: 04700/55000\n"
     ]
    },
    {
     "name": "stdout",
     "output_type": "stream",
     "text": [
      "Training Step: 236  | total loss: \u001b[1m\u001b[32m0.24535\u001b[0m\u001b[0m | time: 14.578s\n\u001b[2K\r| SGD | epoch: 001 | loss: 0.24535 - acc: 0.9161 -- iter: 04720/55000\n"
     ]
    },
    {
     "name": "stdout",
     "output_type": "stream",
     "text": [
      "Training Step: 237  | total loss: \u001b[1m\u001b[32m0.23359\u001b[0m\u001b[0m | time: 14.625s\n\u001b[2K\r| SGD | epoch: 001 | loss: 0.23359 - acc: 0.9195 -- iter: 04740/55000\n"
     ]
    },
    {
     "name": "stdout",
     "output_type": "stream",
     "text": [
      "Training Step: 238  | total loss: \u001b[1m\u001b[32m0.21426\u001b[0m\u001b[0m | time: 14.687s\n\u001b[2K\r| SGD | epoch: 001 | loss: 0.21426 - acc: 0.9276 -- iter: 04760/55000\n"
     ]
    },
    {
     "name": "stdout",
     "output_type": "stream",
     "text": [
      "Training Step: 239  | total loss: \u001b[1m\u001b[32m0.25873\u001b[0m\u001b[0m | time: 14.755s\n\u001b[2K\r| SGD | epoch: 001 | loss: 0.25873 - acc: 0.9198 -- iter: 04780/55000\n"
     ]
    },
    {
     "name": "stdout",
     "output_type": "stream",
     "text": [
      "Training Step: 240  | total loss: \u001b[1m\u001b[32m0.26261\u001b[0m\u001b[0m | time: 14.802s\n\u001b[2K\r| SGD | epoch: 001 | loss: 0.26261 - acc: 0.9178 -- iter: 04800/55000\n"
     ]
    },
    {
     "name": "stdout",
     "output_type": "stream",
     "text": [
      "Training Step: 241  | total loss: \u001b[1m\u001b[32m0.27625\u001b[0m\u001b[0m | time: 14.849s\n\u001b[2K\r| SGD | epoch: 001 | loss: 0.27625 - acc: 0.9110 -- iter: 04820/55000\n"
     ]
    },
    {
     "name": "stdout",
     "output_type": "stream",
     "text": [
      "Training Step: 242  | total loss: \u001b[1m\u001b[32m0.27011\u001b[0m\u001b[0m | time: 14.912s\n\u001b[2K\r| SGD | epoch: 001 | loss: 0.27011 - acc: 0.9099 -- iter: 04840/55000\n"
     ]
    },
    {
     "name": "stdout",
     "output_type": "stream",
     "text": [
      "Training Step: 243  | total loss: \u001b[1m\u001b[32m0.26230\u001b[0m\u001b[0m | time: 14.974s\n\u001b[2K\r| SGD | epoch: 001 | loss: 0.26230 - acc: 0.9089 -- iter: 04860/55000\n"
     ]
    },
    {
     "name": "stdout",
     "output_type": "stream",
     "text": [
      "Training Step: 244  | total loss: \u001b[1m\u001b[32m0.24908\u001b[0m\u001b[0m | time: 15.028s\n\u001b[2K\r| SGD | epoch: 001 | loss: 0.24908 - acc: 0.9130 -- iter: 04880/55000\n"
     ]
    },
    {
     "name": "stdout",
     "output_type": "stream",
     "text": [
      "Training Step: 245  | total loss: \u001b[1m\u001b[32m0.24216\u001b[0m\u001b[0m | time: 15.091s\n\u001b[2K\r| SGD | epoch: 001 | loss: 0.24216 - acc: 0.9117 -- iter: 04900/55000\n"
     ]
    },
    {
     "name": "stdout",
     "output_type": "stream",
     "text": [
      "Training Step: 246  | total loss: \u001b[1m\u001b[32m0.23416\u001b[0m\u001b[0m | time: 15.138s\n\u001b[2K\r| SGD | epoch: 001 | loss: 0.23416 - acc: 0.9106 -- iter: 04920/55000\n"
     ]
    },
    {
     "name": "stdout",
     "output_type": "stream",
     "text": [
      "Training Step: 247  | total loss: \u001b[1m\u001b[32m0.24768\u001b[0m\u001b[0m | time: 15.185s\n\u001b[2K\r| SGD | epoch: 001 | loss: 0.24768 - acc: 0.9095 -- iter: 04940/55000\n"
     ]
    },
    {
     "name": "stdout",
     "output_type": "stream",
     "text": [
      "Training Step: 248  | total loss: \u001b[1m\u001b[32m0.24483\u001b[0m\u001b[0m | time: 15.247s\n\u001b[2K\r| SGD | epoch: 001 | loss: 0.24483 - acc: 0.9086 -- iter: 04960/55000\n"
     ]
    },
    {
     "name": "stdout",
     "output_type": "stream",
     "text": [
      "Training Step: 249  | total loss: \u001b[1m\u001b[32m0.27707\u001b[0m\u001b[0m | time: 15.294s\n\u001b[2K\r| SGD | epoch: 001 | loss: 0.27707 - acc: 0.8977 -- iter: 04980/55000\n"
     ]
    },
    {
     "name": "stdout",
     "output_type": "stream",
     "text": [
      "Training Step: 250  | total loss: \u001b[1m\u001b[32m0.29398\u001b[0m\u001b[0m | time: 15.341s\n\u001b[2K\r| SGD | epoch: 001 | loss: 0.29398 - acc: 0.8979 -- iter: 05000/55000\n"
     ]
    },
    {
     "name": "stdout",
     "output_type": "stream",
     "text": [
      "Training Step: 251  | total loss: \u001b[1m\u001b[32m0.30686\u001b[0m\u001b[0m | time: 15.404s\n\u001b[2K\r| SGD | epoch: 001 | loss: 0.30686 - acc: 0.8931 -- iter: 05020/55000\n"
     ]
    },
    {
     "name": "stdout",
     "output_type": "stream",
     "text": [
      "Training Step: 252  | total loss: \u001b[1m\u001b[32m0.29088\u001b[0m\u001b[0m | time: 15.466s\n\u001b[2K\r| SGD | epoch: 001 | loss: 0.29088 - acc: 0.8988 -- iter: 05040/55000\n"
     ]
    },
    {
     "name": "stdout",
     "output_type": "stream",
     "text": [
      "Training Step: 253  | total loss: \u001b[1m\u001b[32m0.30488\u001b[0m\u001b[0m | time: 15.513s\n\u001b[2K\r| SGD | epoch: 001 | loss: 0.30488 - acc: 0.8989 -- iter: 05060/55000\n"
     ]
    },
    {
     "name": "stdout",
     "output_type": "stream",
     "text": [
      "Training Step: 254  | total loss: \u001b[1m\u001b[32m0.28118\u001b[0m\u001b[0m | time: 15.575s\n\u001b[2K\r| SGD | epoch: 001 | loss: 0.28118 - acc: 0.9091 -- iter: 05080/55000\n"
     ]
    },
    {
     "name": "stdout",
     "output_type": "stream",
     "text": [
      "Training Step: 255  | total loss: \u001b[1m\u001b[32m0.27526\u001b[0m\u001b[0m | time: 15.622s\n\u001b[2K\r| SGD | epoch: 001 | loss: 0.27526 - acc: 0.9081 -- iter: 05100/55000\n"
     ]
    },
    {
     "name": "stdout",
     "output_type": "stream",
     "text": [
      "Training Step: 256  | total loss: \u001b[1m\u001b[32m0.26193\u001b[0m\u001b[0m | time: 15.673s\n\u001b[2K\r| SGD | epoch: 001 | loss: 0.26193 - acc: 0.9123 -- iter: 05120/55000\n"
     ]
    },
    {
     "name": "stdout",
     "output_type": "stream",
     "text": [
      "Training Step: 257  | total loss: \u001b[1m\u001b[32m0.24413\u001b[0m\u001b[0m | time: 15.735s\n\u001b[2K\r| SGD | epoch: 001 | loss: 0.24413 - acc: 0.9211 -- iter: 05140/55000\n"
     ]
    },
    {
     "name": "stdout",
     "output_type": "stream",
     "text": [
      "Training Step: 258  | total loss: \u001b[1m\u001b[32m0.22719\u001b[0m\u001b[0m | time: 15.798s\n\u001b[2K\r| SGD | epoch: 001 | loss: 0.22719 - acc: 0.9290 -- iter: 05160/55000\n"
     ]
    },
    {
     "name": "stdout",
     "output_type": "stream",
     "text": [
      "Training Step: 259  | total loss: \u001b[1m\u001b[32m0.23262\u001b[0m\u001b[0m | time: 15.845s\n\u001b[2K\r| SGD | epoch: 001 | loss: 0.23262 - acc: 0.9211 -- iter: 05180/55000\n"
     ]
    },
    {
     "name": "stdout",
     "output_type": "stream",
     "text": [
      "Training Step: 260  | total loss: \u001b[1m\u001b[32m0.26365\u001b[0m\u001b[0m | time: 15.907s\n\u001b[2K\r| SGD | epoch: 001 | loss: 0.26365 - acc: 0.9190 -- iter: 05200/55000\n"
     ]
    },
    {
     "name": "stdout",
     "output_type": "stream",
     "text": [
      "Training Step: 261  | total loss: \u001b[1m\u001b[32m0.26240\u001b[0m\u001b[0m | time: 15.970s\n\u001b[2K\r| SGD | epoch: 001 | loss: 0.26240 - acc: 0.9171 -- iter: 05220/55000\n"
     ]
    },
    {
     "name": "stdout",
     "output_type": "stream",
     "text": [
      "Training Step: 262  | total loss: \u001b[1m\u001b[32m0.24121\u001b[0m\u001b[0m | time: 16.032s\n\u001b[2K\r| SGD | epoch: 001 | loss: 0.24121 - acc: 0.9254 -- iter: 05240/55000\n"
     ]
    },
    {
     "name": "stdout",
     "output_type": "stream",
     "text": [
      "Training Step: 263  | total loss: \u001b[1m\u001b[32m0.26556\u001b[0m\u001b[0m | time: 16.079s\n\u001b[2K\r| SGD | epoch: 001 | loss: 0.26556 - acc: 0.9128 -- iter: 05260/55000\n"
     ]
    },
    {
     "name": "stdout",
     "output_type": "stream",
     "text": [
      "Training Step: 264  | total loss: \u001b[1m\u001b[32m0.28420\u001b[0m\u001b[0m | time: 16.142s\n\u001b[2K\r| SGD | epoch: 001 | loss: 0.28420 - acc: 0.9066 -- iter: 05280/55000\n"
     ]
    },
    {
     "name": "stdout",
     "output_type": "stream",
     "text": [
      "Training Step: 265  | total loss: \u001b[1m\u001b[32m0.27407\u001b[0m\u001b[0m | time: 16.204s\n\u001b[2K\r| SGD | epoch: 001 | loss: 0.27407 - acc: 0.9109 -- iter: 05300/55000\n"
     ]
    },
    {
     "name": "stdout",
     "output_type": "stream",
     "text": [
      "Training Step: 266  | total loss: \u001b[1m\u001b[32m0.27117\u001b[0m\u001b[0m | time: 16.267s\n\u001b[2K\r| SGD | epoch: 001 | loss: 0.27117 - acc: 0.9098 -- iter: 05320/55000\n"
     ]
    },
    {
     "name": "stdout",
     "output_type": "stream",
     "text": [
      "Training Step: 267  | total loss: \u001b[1m\u001b[32m0.26028\u001b[0m\u001b[0m | time: 16.329s\n\u001b[2K\r| SGD | epoch: 001 | loss: 0.26028 - acc: 0.9138 -- iter: 05340/55000\n"
     ]
    },
    {
     "name": "stdout",
     "output_type": "stream",
     "text": [
      "Training Step: 268  | total loss: \u001b[1m\u001b[32m0.24875\u001b[0m\u001b[0m | time: 16.392s\n\u001b[2K\r| SGD | epoch: 001 | loss: 0.24875 - acc: 0.9224 -- iter: 05360/55000\n"
     ]
    },
    {
     "name": "stdout",
     "output_type": "stream",
     "text": [
      "Training Step: 269  | total loss: \u001b[1m\u001b[32m0.23405\u001b[0m\u001b[0m | time: 16.454s\n\u001b[2K\r| SGD | epoch: 001 | loss: 0.23405 - acc: 0.9252 -- iter: 05380/55000\n"
     ]
    },
    {
     "name": "stdout",
     "output_type": "stream",
     "text": [
      "Training Step: 270  | total loss: \u001b[1m\u001b[32m0.21864\u001b[0m\u001b[0m | time: 16.517s\n\u001b[2K\r| SGD | epoch: 001 | loss: 0.21864 - acc: 0.9277 -- iter: 05400/55000\n"
     ]
    },
    {
     "name": "stdout",
     "output_type": "stream",
     "text": [
      "Training Step: 271  | total loss: \u001b[1m\u001b[32m0.21529\u001b[0m\u001b[0m | time: 16.564s\n\u001b[2K\r| SGD | epoch: 001 | loss: 0.21529 - acc: 0.9299 -- iter: 05420/55000\n"
     ]
    },
    {
     "name": "stdout",
     "output_type": "stream",
     "text": [
      "Training Step: 272  | total loss: \u001b[1m\u001b[32m0.21572\u001b[0m\u001b[0m | time: 16.626s\n\u001b[2K\r| SGD | epoch: 001 | loss: 0.21572 - acc: 0.9319 -- iter: 05440/55000\n"
     ]
    },
    {
     "name": "stdout",
     "output_type": "stream",
     "text": [
      "Training Step: 273  | total loss: \u001b[1m\u001b[32m0.19444\u001b[0m\u001b[0m | time: 16.692s\n\u001b[2K\r| SGD | epoch: 001 | loss: 0.19444 - acc: 0.9387 -- iter: 05460/55000\n"
     ]
    },
    {
     "name": "stdout",
     "output_type": "stream",
     "text": [
      "Training Step: 274  | total loss: \u001b[1m\u001b[32m0.19693\u001b[0m\u001b[0m | time: 16.755s\n\u001b[2K\r| SGD | epoch: 001 | loss: 0.19693 - acc: 0.9399 -- iter: 05480/55000\n"
     ]
    },
    {
     "name": "stdout",
     "output_type": "stream",
     "text": [
      "Training Step: 275  | total loss: \u001b[1m\u001b[32m0.19342\u001b[0m\u001b[0m | time: 16.817s\n\u001b[2K\r| SGD | epoch: 001 | loss: 0.19342 - acc: 0.9359 -- iter: 05500/55000\n"
     ]
    },
    {
     "name": "stdout",
     "output_type": "stream",
     "text": [
      "Training Step: 276  | total loss: \u001b[1m\u001b[32m0.17603\u001b[0m\u001b[0m | time: 16.880s\n\u001b[2K\r| SGD | epoch: 001 | loss: 0.17603 - acc: 0.9423 -- iter: 05520/55000\n"
     ]
    },
    {
     "name": "stdout",
     "output_type": "stream",
     "text": [
      "Training Step: 277  | total loss: \u001b[1m\u001b[32m0.22489\u001b[0m\u001b[0m | time: 16.927s\n\u001b[2K\r| SGD | epoch: 001 | loss: 0.22489 - acc: 0.9331 -- iter: 05540/55000\n"
     ]
    },
    {
     "name": "stdout",
     "output_type": "stream",
     "text": [
      "Training Step: 278  | total loss: \u001b[1m\u001b[32m0.23087\u001b[0m\u001b[0m | time: 16.989s\n\u001b[2K\r| SGD | epoch: 001 | loss: 0.23087 - acc: 0.9297 -- iter: 05560/55000\n"
     ]
    },
    {
     "name": "stdout",
     "output_type": "stream",
     "text": [
      "Training Step: 279  | total loss: \u001b[1m\u001b[32m0.23272\u001b[0m\u001b[0m | time: 17.067s\n\u001b[2K\r| SGD | epoch: 001 | loss: 0.23272 - acc: 0.9268 -- iter: 05580/55000\n"
     ]
    },
    {
     "name": "stdout",
     "output_type": "stream",
     "text": [
      "Training Step: 280  | total loss: \u001b[1m\u001b[32m0.22019\u001b[0m\u001b[0m | time: 17.114s\n\u001b[2K\r| SGD | epoch: 001 | loss: 0.22019 - acc: 0.9341 -- iter: 05600/55000\n"
     ]
    },
    {
     "name": "stdout",
     "output_type": "stream",
     "text": [
      "Training Step: 281  | total loss: \u001b[1m\u001b[32m0.21073\u001b[0m\u001b[0m | time: 17.177s\n\u001b[2K\r| SGD | epoch: 001 | loss: 0.21073 - acc: 0.9407 -- iter: 05620/55000\n"
     ]
    },
    {
     "name": "stdout",
     "output_type": "stream",
     "text": [
      "Training Step: 282  | total loss: \u001b[1m\u001b[32m0.23240\u001b[0m\u001b[0m | time: 17.239s\n\u001b[2K\r| SGD | epoch: 001 | loss: 0.23240 - acc: 0.9416 -- iter: 05640/55000\n"
     ]
    },
    {
     "name": "stdout",
     "output_type": "stream",
     "text": [
      "Training Step: 283  | total loss: \u001b[1m\u001b[32m0.22584\u001b[0m\u001b[0m | time: 17.302s\n\u001b[2K\r| SGD | epoch: 001 | loss: 0.22584 - acc: 0.9375 -- iter: 05660/55000\n"
     ]
    },
    {
     "name": "stdout",
     "output_type": "stream",
     "text": [
      "Training Step: 284  | total loss: \u001b[1m\u001b[32m0.26286\u001b[0m\u001b[0m | time: 17.348s\n\u001b[2K\r| SGD | epoch: 001 | loss: 0.26286 - acc: 0.9187 -- iter: 05680/55000\n"
     ]
    },
    {
     "name": "stdout",
     "output_type": "stream",
     "text": [
      "Training Step: 285  | total loss: \u001b[1m\u001b[32m0.28074\u001b[0m\u001b[0m | time: 17.411s\n\u001b[2K\r| SGD | epoch: 001 | loss: 0.28074 - acc: 0.9168 -- iter: 05700/55000\n"
     ]
    },
    {
     "name": "stdout",
     "output_type": "stream",
     "text": [
      "Training Step: 286  | total loss: \u001b[1m\u001b[32m0.29612\u001b[0m\u001b[0m | time: 17.473s\n\u001b[2K\r| SGD | epoch: 001 | loss: 0.29612 - acc: 0.9152 -- iter: 05720/55000\n"
     ]
    },
    {
     "name": "stdout",
     "output_type": "stream",
     "text": [
      "Training Step: 287  | total loss: \u001b[1m\u001b[32m0.28627\u001b[0m\u001b[0m | time: 17.520s\n\u001b[2K\r| SGD | epoch: 001 | loss: 0.28627 - acc: 0.9136 -- iter: 05740/55000\n"
     ]
    },
    {
     "name": "stdout",
     "output_type": "stream",
     "text": [
      "Training Step: 288  | total loss: \u001b[1m\u001b[32m0.28384\u001b[0m\u001b[0m | time: 17.567s\n\u001b[2K\r| SGD | epoch: 001 | loss: 0.28384 - acc: 0.9073 -- iter: 05760/55000\n"
     ]
    },
    {
     "name": "stdout",
     "output_type": "stream",
     "text": [
      "Training Step: 289  | total loss: \u001b[1m\u001b[32m0.27736\u001b[0m\u001b[0m | time: 17.641s\n\u001b[2K\r| SGD | epoch: 001 | loss: 0.27736 - acc: 0.9065 -- iter: 05780/55000\n"
     ]
    },
    {
     "name": "stdout",
     "output_type": "stream",
     "text": [
      "Training Step: 290  | total loss: \u001b[1m\u001b[32m0.31312\u001b[0m\u001b[0m | time: 17.696s\n\u001b[2K\r| SGD | epoch: 001 | loss: 0.31312 - acc: 0.9009 -- iter: 05800/55000\n"
     ]
    },
    {
     "name": "stdout",
     "output_type": "stream",
     "text": [
      "Training Step: 291  | total loss: \u001b[1m\u001b[32m0.30210\u001b[0m\u001b[0m | time: 17.743s\n\u001b[2K\r| SGD | epoch: 001 | loss: 0.30210 - acc: 0.9058 -- iter: 05820/55000\n"
     ]
    },
    {
     "name": "stdout",
     "output_type": "stream",
     "text": [
      "Training Step: 292  | total loss: \u001b[1m\u001b[32m0.31153\u001b[0m\u001b[0m | time: 17.805s\n\u001b[2K\r| SGD | epoch: 001 | loss: 0.31153 - acc: 0.9102 -- iter: 05840/55000\n"
     ]
    },
    {
     "name": "stdout",
     "output_type": "stream",
     "text": [
      "Training Step: 293  | total loss: \u001b[1m\u001b[32m0.28416\u001b[0m\u001b[0m | time: 17.868s\n\u001b[2K\r| SGD | epoch: 001 | loss: 0.28416 - acc: 0.9192 -- iter: 05860/55000\n"
     ]
    },
    {
     "name": "stdout",
     "output_type": "stream",
     "text": [
      "Training Step: 294  | total loss: \u001b[1m\u001b[32m0.26105\u001b[0m\u001b[0m | time: 17.915s\n\u001b[2K\r| SGD | epoch: 001 | loss: 0.26105 - acc: 0.9273 -- iter: 05880/55000\n"
     ]
    },
    {
     "name": "stdout",
     "output_type": "stream",
     "text": [
      "Training Step: 295  | total loss: \u001b[1m\u001b[32m0.25721\u001b[0m\u001b[0m | time: 17.977s\n\u001b[2K\r| SGD | epoch: 001 | loss: 0.25721 - acc: 0.9246 -- iter: 05900/55000\n"
     ]
    },
    {
     "name": "stdout",
     "output_type": "stream",
     "text": [
      "Training Step: 296  | total loss: \u001b[1m\u001b[32m0.24242\u001b[0m\u001b[0m | time: 18.040s\n\u001b[2K\r| SGD | epoch: 001 | loss: 0.24242 - acc: 0.9321 -- iter: 05920/55000\n"
     ]
    },
    {
     "name": "stdout",
     "output_type": "stream",
     "text": [
      "Training Step: 297  | total loss: \u001b[1m\u001b[32m0.22292\u001b[0m\u001b[0m | time: 18.102s\n\u001b[2K\r| SGD | epoch: 001 | loss: 0.22292 - acc: 0.9389 -- iter: 05940/55000\n"
     ]
    },
    {
     "name": "stdout",
     "output_type": "stream",
     "text": [
      "Training Step: 298  | total loss: \u001b[1m\u001b[32m0.21327\u001b[0m\u001b[0m | time: 18.165s\n\u001b[2K\r| SGD | epoch: 001 | loss: 0.21327 - acc: 0.9400 -- iter: 05960/55000\n"
     ]
    },
    {
     "name": "stdout",
     "output_type": "stream",
     "text": [
      "Training Step: 299  | total loss: \u001b[1m\u001b[32m0.20606\u001b[0m\u001b[0m | time: 18.212s\n\u001b[2K\r| SGD | epoch: 001 | loss: 0.20606 - acc: 0.9410 -- iter: 05980/55000\n"
     ]
    },
    {
     "name": "stdout",
     "output_type": "stream",
     "text": [
      "Training Step: 300  | total loss: \u001b[1m\u001b[32m0.19840\u001b[0m\u001b[0m | time: 18.274s\n\u001b[2K\r| SGD | epoch: 001 | loss: 0.19840 - acc: 0.9419 -- iter: 06000/55000\n"
     ]
    },
    {
     "name": "stdout",
     "output_type": "stream",
     "text": [
      "Training Step: 301  | total loss: \u001b[1m\u001b[32m0.21723\u001b[0m\u001b[0m | time: 18.337s\n\u001b[2K\r| SGD | epoch: 001 | loss: 0.21723 - acc: 0.9377 -- iter: 06020/55000\n"
     ]
    },
    {
     "name": "stdout",
     "output_type": "stream",
     "text": [
      "Training Step: 302  | total loss: \u001b[1m\u001b[32m0.19591\u001b[0m\u001b[0m | time: 18.399s\n\u001b[2K\r| SGD | epoch: 001 | loss: 0.19591 - acc: 0.9439 -- iter: 06040/55000\n"
     ]
    },
    {
     "name": "stdout",
     "output_type": "stream",
     "text": [
      "Training Step: 303  | total loss: \u001b[1m\u001b[32m0.18304\u001b[0m\u001b[0m | time: 18.462s\n\u001b[2K\r| SGD | epoch: 001 | loss: 0.18304 - acc: 0.9495 -- iter: 06060/55000\n"
     ]
    },
    {
     "name": "stdout",
     "output_type": "stream",
     "text": [
      "Training Step: 304  | total loss: \u001b[1m\u001b[32m0.17046\u001b[0m\u001b[0m | time: 18.524s\n\u001b[2K\r| SGD | epoch: 001 | loss: 0.17046 - acc: 0.9496 -- iter: 06080/55000\n"
     ]
    },
    {
     "name": "stdout",
     "output_type": "stream",
     "text": [
      "Training Step: 305  | total loss: \u001b[1m\u001b[32m0.15900\u001b[0m\u001b[0m | time: 18.587s\n\u001b[2K\r| SGD | epoch: 001 | loss: 0.15900 - acc: 0.9546 -- iter: 06100/55000\n"
     ]
    },
    {
     "name": "stdout",
     "output_type": "stream",
     "text": [
      "Training Step: 306  | total loss: \u001b[1m\u001b[32m0.15599\u001b[0m\u001b[0m | time: 18.645s\n\u001b[2K\r| SGD | epoch: 001 | loss: 0.15599 - acc: 0.9542 -- iter: 06120/55000\n"
     ]
    },
    {
     "name": "stdout",
     "output_type": "stream",
     "text": [
      "Training Step: 307  | total loss: \u001b[1m\u001b[32m0.19363\u001b[0m\u001b[0m | time: 18.708s\n\u001b[2K\r| SGD | epoch: 001 | loss: 0.19363 - acc: 0.9388 -- iter: 06140/55000\n"
     ]
    },
    {
     "name": "stdout",
     "output_type": "stream",
     "text": [
      "Training Step: 308  | total loss: \u001b[1m\u001b[32m0.17700\u001b[0m\u001b[0m | time: 18.770s\n\u001b[2K\r| SGD | epoch: 001 | loss: 0.17700 - acc: 0.9449 -- iter: 06160/55000\n"
     ]
    },
    {
     "name": "stdout",
     "output_type": "stream",
     "text": [
      "Training Step: 309  | total loss: \u001b[1m\u001b[32m0.17011\u001b[0m\u001b[0m | time: 18.817s\n\u001b[2K\r| SGD | epoch: 001 | loss: 0.17011 - acc: 0.9454 -- iter: 06180/55000\n"
     ]
    },
    {
     "name": "stdout",
     "output_type": "stream",
     "text": [
      "Training Step: 310  | total loss: \u001b[1m\u001b[32m0.16359\u001b[0m\u001b[0m | time: 18.880s\n\u001b[2K\r| SGD | epoch: 001 | loss: 0.16359 - acc: 0.9458 -- iter: 06200/55000\n"
     ]
    },
    {
     "name": "stdout",
     "output_type": "stream",
     "text": [
      "Training Step: 311  | total loss: \u001b[1m\u001b[32m0.14805\u001b[0m\u001b[0m | time: 18.942s\n\u001b[2K\r| SGD | epoch: 001 | loss: 0.14805 - acc: 0.9513 -- iter: 06220/55000\n"
     ]
    },
    {
     "name": "stdout",
     "output_type": "stream",
     "text": [
      "Training Step: 312  | total loss: \u001b[1m\u001b[32m0.14830\u001b[0m\u001b[0m | time: 19.005s\n\u001b[2K\r| SGD | epoch: 001 | loss: 0.14830 - acc: 0.9511 -- iter: 06240/55000\n"
     ]
    },
    {
     "name": "stdout",
     "output_type": "stream",
     "text": [
      "Training Step: 313  | total loss: \u001b[1m\u001b[32m0.14274\u001b[0m\u001b[0m | time: 19.067s\n\u001b[2K\r| SGD | epoch: 001 | loss: 0.14274 - acc: 0.9560 -- iter: 06260/55000\n"
     ]
    },
    {
     "name": "stdout",
     "output_type": "stream",
     "text": [
      "Training Step: 314  | total loss: \u001b[1m\u001b[32m0.13483\u001b[0m\u001b[0m | time: 19.114s\n\u001b[2K\r| SGD | epoch: 001 | loss: 0.13483 - acc: 0.9554 -- iter: 06280/55000\n"
     ]
    },
    {
     "name": "stdout",
     "output_type": "stream",
     "text": [
      "Training Step: 315  | total loss: \u001b[1m\u001b[32m0.15976\u001b[0m\u001b[0m | time: 19.161s\n\u001b[2K\r| SGD | epoch: 001 | loss: 0.15976 - acc: 0.9499 -- iter: 06300/55000\n"
     ]
    },
    {
     "name": "stdout",
     "output_type": "stream",
     "text": [
      "Training Step: 316  | total loss: \u001b[1m\u001b[32m0.16656\u001b[0m\u001b[0m | time: 19.223s\n\u001b[2K\r| SGD | epoch: 001 | loss: 0.16656 - acc: 0.9499 -- iter: 06320/55000\n"
     ]
    },
    {
     "name": "stdout",
     "output_type": "stream",
     "text": [
      "Training Step: 317  | total loss: \u001b[1m\u001b[32m0.16052\u001b[0m\u001b[0m | time: 19.286s\n\u001b[2K\r| SGD | epoch: 001 | loss: 0.16052 - acc: 0.9499 -- iter: 06340/55000\n"
     ]
    },
    {
     "name": "stdout",
     "output_type": "stream",
     "text": [
      "Training Step: 318  | total loss: \u001b[1m\u001b[32m0.16764\u001b[0m\u001b[0m | time: 19.348s\n\u001b[2K\r| SGD | epoch: 001 | loss: 0.16764 - acc: 0.9449 -- iter: 06360/55000\n"
     ]
    },
    {
     "name": "stdout",
     "output_type": "stream",
     "text": [
      "Training Step: 319  | total loss: \u001b[1m\u001b[32m0.15862\u001b[0m\u001b[0m | time: 19.395s\n\u001b[2K\r| SGD | epoch: 001 | loss: 0.15862 - acc: 0.9504 -- iter: 06380/55000\n"
     ]
    },
    {
     "name": "stdout",
     "output_type": "stream",
     "text": [
      "Training Step: 320  | total loss: \u001b[1m\u001b[32m0.15389\u001b[0m\u001b[0m | time: 19.442s\n\u001b[2K\r| SGD | epoch: 001 | loss: 0.15389 - acc: 0.9454 -- iter: 06400/55000\n"
     ]
    },
    {
     "name": "stdout",
     "output_type": "stream",
     "text": [
      "Training Step: 321  | total loss: \u001b[1m\u001b[32m0.14752\u001b[0m\u001b[0m | time: 19.505s\n\u001b[2K\r| SGD | epoch: 001 | loss: 0.14752 - acc: 0.9458 -- iter: 06420/55000\n"
     ]
    },
    {
     "name": "stdout",
     "output_type": "stream",
     "text": [
      "Training Step: 322  | total loss: \u001b[1m\u001b[32m0.13889\u001b[0m\u001b[0m | time: 19.552s\n\u001b[2K\r| SGD | epoch: 001 | loss: 0.13889 - acc: 0.9513 -- iter: 06440/55000\n"
     ]
    },
    {
     "name": "stdout",
     "output_type": "stream",
     "text": [
      "Training Step: 323  | total loss: \u001b[1m\u001b[32m0.15266\u001b[0m\u001b[0m | time: 19.612s\n\u001b[2K\r| SGD | epoch: 001 | loss: 0.15266 - acc: 0.9511 -- iter: 06460/55000\n"
     ]
    },
    {
     "name": "stdout",
     "output_type": "stream",
     "text": [
      "Training Step: 324  | total loss: \u001b[1m\u001b[32m0.14345\u001b[0m\u001b[0m | time: 19.667s\n\u001b[2K\r| SGD | epoch: 001 | loss: 0.14345 - acc: 0.9560 -- iter: 06480/55000\n"
     ]
    },
    {
     "name": "stdout",
     "output_type": "stream",
     "text": [
      "Training Step: 325  | total loss: \u001b[1m\u001b[32m0.15996\u001b[0m\u001b[0m | time: 19.714s\n\u001b[2K\r| SGD | epoch: 001 | loss: 0.15996 - acc: 0.9504 -- iter: 06500/55000\n"
     ]
    },
    {
     "name": "stdout",
     "output_type": "stream",
     "text": [
      "Training Step: 326  | total loss: \u001b[1m\u001b[32m0.14632\u001b[0m\u001b[0m | time: 19.761s\n\u001b[2K\r| SGD | epoch: 001 | loss: 0.14632 - acc: 0.9554 -- iter: 06520/55000\n"
     ]
    },
    {
     "name": "stdout",
     "output_type": "stream",
     "text": [
      "Training Step: 327  | total loss: \u001b[1m\u001b[32m0.13720\u001b[0m\u001b[0m | time: 19.823s\n\u001b[2K\r| SGD | epoch: 001 | loss: 0.13720 - acc: 0.9598 -- iter: 06540/55000\n"
     ]
    },
    {
     "name": "stdout",
     "output_type": "stream",
     "text": [
      "Training Step: 328  | total loss: \u001b[1m\u001b[32m0.15089\u001b[0m\u001b[0m | time: 19.886s\n\u001b[2K\r| SGD | epoch: 001 | loss: 0.15089 - acc: 0.9539 -- iter: 06560/55000\n"
     ]
    },
    {
     "name": "stdout",
     "output_type": "stream",
     "text": [
      "Training Step: 329  | total loss: \u001b[1m\u001b[32m0.13834\u001b[0m\u001b[0m | time: 19.948s\n\u001b[2K\r| SGD | epoch: 001 | loss: 0.13834 - acc: 0.9585 -- iter: 06580/55000\n"
     ]
    },
    {
     "name": "stdout",
     "output_type": "stream",
     "text": [
      "Training Step: 330  | total loss: \u001b[1m\u001b[32m0.13222\u001b[0m\u001b[0m | time: 19.995s\n\u001b[2K\r| SGD | epoch: 001 | loss: 0.13222 - acc: 0.9626 -- iter: 06600/55000\n"
     ]
    },
    {
     "name": "stdout",
     "output_type": "stream",
     "text": [
      "Training Step: 331  | total loss: \u001b[1m\u001b[32m0.17191\u001b[0m\u001b[0m | time: 20.042s\n\u001b[2K\r| SGD | epoch: 001 | loss: 0.17191 - acc: 0.9564 -- iter: 06620/55000\n"
     ]
    },
    {
     "name": "stdout",
     "output_type": "stream",
     "text": [
      "Training Step: 332  | total loss: \u001b[1m\u001b[32m0.16061\u001b[0m\u001b[0m | time: 20.105s\n\u001b[2K\r| SGD | epoch: 001 | loss: 0.16061 - acc: 0.9607 -- iter: 06640/55000\n"
     ]
    },
    {
     "name": "stdout",
     "output_type": "stream",
     "text": [
      "Training Step: 333  | total loss: \u001b[1m\u001b[32m0.16074\u001b[0m\u001b[0m | time: 20.183s\n\u001b[2K\r| SGD | epoch: 001 | loss: 0.16074 - acc: 0.9597 -- iter: 06660/55000\n"
     ]
    },
    {
     "name": "stdout",
     "output_type": "stream",
     "text": [
      "Training Step: 334  | total loss: \u001b[1m\u001b[32m0.15694\u001b[0m\u001b[0m | time: 20.245s\n\u001b[2K\r| SGD | epoch: 001 | loss: 0.15694 - acc: 0.9637 -- iter: 06680/55000\n"
     ]
    },
    {
     "name": "stdout",
     "output_type": "stream",
     "text": [
      "Training Step: 335  | total loss: \u001b[1m\u001b[32m0.14272\u001b[0m\u001b[0m | time: 20.323s\n\u001b[2K\r| SGD | epoch: 001 | loss: 0.14272 - acc: 0.9673 -- iter: 06700/55000\n"
     ]
    },
    {
     "name": "stdout",
     "output_type": "stream",
     "text": [
      "Training Step: 336  | total loss: \u001b[1m\u001b[32m0.13608\u001b[0m\u001b[0m | time: 20.402s\n\u001b[2K\r| SGD | epoch: 001 | loss: 0.13608 - acc: 0.9656 -- iter: 06720/55000\n"
     ]
    },
    {
     "name": "stdout",
     "output_type": "stream",
     "text": [
      "Training Step: 337  | total loss: \u001b[1m\u001b[32m0.13947\u001b[0m\u001b[0m | time: 20.464s\n\u001b[2K\r| SGD | epoch: 001 | loss: 0.13947 - acc: 0.9640 -- iter: 06740/55000\n"
     ]
    },
    {
     "name": "stdout",
     "output_type": "stream",
     "text": [
      "Training Step: 338  | total loss: \u001b[1m\u001b[32m0.14368\u001b[0m\u001b[0m | time: 20.527s\n\u001b[2K\r| SGD | epoch: 001 | loss: 0.14368 - acc: 0.9626 -- iter: 06760/55000\n"
     ]
    },
    {
     "name": "stdout",
     "output_type": "stream",
     "text": [
      "Training Step: 339  | total loss: \u001b[1m\u001b[32m0.14670\u001b[0m\u001b[0m | time: 20.591s\n\u001b[2K\r| SGD | epoch: 001 | loss: 0.14670 - acc: 0.9564 -- iter: 06780/55000\n"
     ]
    },
    {
     "name": "stdout",
     "output_type": "stream",
     "text": [
      "Training Step: 340  | total loss: \u001b[1m\u001b[32m0.13513\u001b[0m\u001b[0m | time: 20.638s\n\u001b[2K\r| SGD | epoch: 001 | loss: 0.13513 - acc: 0.9607 -- iter: 06800/55000\n"
     ]
    },
    {
     "name": "stdout",
     "output_type": "stream",
     "text": [
      "Training Step: 341  | total loss: \u001b[1m\u001b[32m0.12411\u001b[0m\u001b[0m | time: 20.685s\n\u001b[2K\r| SGD | epoch: 001 | loss: 0.12411 - acc: 0.9647 -- iter: 06820/55000\n"
     ]
    },
    {
     "name": "stdout",
     "output_type": "stream",
     "text": [
      "Training Step: 342  | total loss: \u001b[1m\u001b[32m0.11312\u001b[0m\u001b[0m | time: 20.763s\n\u001b[2K\r| SGD | epoch: 001 | loss: 0.11312 - acc: 0.9682 -- iter: 06840/55000\n"
     ]
    },
    {
     "name": "stdout",
     "output_type": "stream",
     "text": [
      "Training Step: 343  | total loss: \u001b[1m\u001b[32m0.10661\u001b[0m\u001b[0m | time: 20.810s\n\u001b[2K\r| SGD | epoch: 001 | loss: 0.10661 - acc: 0.9714 -- iter: 06860/55000\n"
     ]
    },
    {
     "name": "stdout",
     "output_type": "stream",
     "text": [
      "Training Step: 344  | total loss: \u001b[1m\u001b[32m0.10452\u001b[0m\u001b[0m | time: 20.857s\n\u001b[2K\r| SGD | epoch: 001 | loss: 0.10452 - acc: 0.9692 -- iter: 06880/55000\n"
     ]
    },
    {
     "name": "stdout",
     "output_type": "stream",
     "text": [
      "Training Step: 345  | total loss: \u001b[1m\u001b[32m0.10231\u001b[0m\u001b[0m | time: 20.919s\n\u001b[2K\r| SGD | epoch: 001 | loss: 0.10231 - acc: 0.9673 -- iter: 06900/55000\n"
     ]
    },
    {
     "name": "stdout",
     "output_type": "stream",
     "text": [
      "Training Step: 346  | total loss: \u001b[1m\u001b[32m0.09530\u001b[0m\u001b[0m | time: 20.982s\n\u001b[2K\r| SGD | epoch: 001 | loss: 0.09530 - acc: 0.9706 -- iter: 06920/55000\n"
     ]
    },
    {
     "name": "stdout",
     "output_type": "stream",
     "text": [
      "Training Step: 347  | total loss: \u001b[1m\u001b[32m0.10313\u001b[0m\u001b[0m | time: 21.044s\n\u001b[2K\r| SGD | epoch: 001 | loss: 0.10313 - acc: 0.9685 -- iter: 06940/55000\n"
     ]
    },
    {
     "name": "stdout",
     "output_type": "stream",
     "text": [
      "Training Step: 348  | total loss: \u001b[1m\u001b[32m0.12836\u001b[0m\u001b[0m | time: 21.107s\n\u001b[2K\r| SGD | epoch: 001 | loss: 0.12836 - acc: 0.9617 -- iter: 06960/55000\n"
     ]
    },
    {
     "name": "stdout",
     "output_type": "stream",
     "text": [
      "Training Step: 349  | total loss: \u001b[1m\u001b[32m0.13320\u001b[0m\u001b[0m | time: 21.169s\n\u001b[2K\r| SGD | epoch: 001 | loss: 0.13320 - acc: 0.9605 -- iter: 06980/55000\n"
     ]
    },
    {
     "name": "stdout",
     "output_type": "stream",
     "text": [
      "Training Step: 350  | total loss: \u001b[1m\u001b[32m0.14492\u001b[0m\u001b[0m | time: 21.232s\n\u001b[2K\r| SGD | epoch: 001 | loss: 0.14492 - acc: 0.9545 -- iter: 07000/55000\n"
     ]
    },
    {
     "name": "stdout",
     "output_type": "stream",
     "text": [
      "Training Step: 351  | total loss: \u001b[1m\u001b[32m0.14402\u001b[0m\u001b[0m | time: 21.279s\n\u001b[2K\r| SGD | epoch: 001 | loss: 0.14402 - acc: 0.9540 -- iter: 07020/55000\n"
     ]
    },
    {
     "name": "stdout",
     "output_type": "stream",
     "text": [
      "Training Step: 352  | total loss: \u001b[1m\u001b[32m0.16632\u001b[0m\u001b[0m | time: 21.341s\n\u001b[2K\r| SGD | epoch: 001 | loss: 0.16632 - acc: 0.9436 -- iter: 07040/55000\n"
     ]
    },
    {
     "name": "stdout",
     "output_type": "stream",
     "text": [
      "Training Step: 353  | total loss: \u001b[1m\u001b[32m0.17875\u001b[0m\u001b[0m | time: 21.388s\n\u001b[2K\r| SGD | epoch: 001 | loss: 0.17875 - acc: 0.9392 -- iter: 07060/55000\n"
     ]
    },
    {
     "name": "stdout",
     "output_type": "stream",
     "text": [
      "Training Step: 354  | total loss: \u001b[1m\u001b[32m0.18613\u001b[0m\u001b[0m | time: 21.466s\n\u001b[2K\r| SGD | epoch: 001 | loss: 0.18613 - acc: 0.9353 -- iter: 07080/55000\n"
     ]
    },
    {
     "name": "stdout",
     "output_type": "stream",
     "text": [
      "Training Step: 355  | total loss: \u001b[1m\u001b[32m0.20773\u001b[0m\u001b[0m | time: 21.532s\n\u001b[2K\r| SGD | epoch: 001 | loss: 0.20773 - acc: 0.9318 -- iter: 07100/55000\n"
     ]
    },
    {
     "name": "stdout",
     "output_type": "stream",
     "text": [
      "Training Step: 356  | total loss: \u001b[1m\u001b[32m0.24666\u001b[0m\u001b[0m | time: 21.586s\n\u001b[2K\r| SGD | epoch: 001 | loss: 0.24666 - acc: 0.9186 -- iter: 07120/55000\n"
     ]
    },
    {
     "name": "stdout",
     "output_type": "stream",
     "text": [
      "Training Step: 357  | total loss: \u001b[1m\u001b[32m0.23779\u001b[0m\u001b[0m | time: 21.649s\n\u001b[2K\r| SGD | epoch: 001 | loss: 0.23779 - acc: 0.9217 -- iter: 07140/55000\n"
     ]
    },
    {
     "name": "stdout",
     "output_type": "stream",
     "text": [
      "Training Step: 358  | total loss: \u001b[1m\u001b[32m0.26064\u001b[0m\u001b[0m | time: 21.711s\n\u001b[2K\r| SGD | epoch: 001 | loss: 0.26064 - acc: 0.9196 -- iter: 07160/55000\n"
     ]
    },
    {
     "name": "stdout",
     "output_type": "stream",
     "text": [
      "Training Step: 359  | total loss: \u001b[1m\u001b[32m0.25287\u001b[0m\u001b[0m | time: 21.758s\n\u001b[2K\r| SGD | epoch: 001 | loss: 0.25287 - acc: 0.9226 -- iter: 07180/55000\n"
     ]
    },
    {
     "name": "stdout",
     "output_type": "stream",
     "text": [
      "Training Step: 360  | total loss: \u001b[1m\u001b[32m0.23938\u001b[0m\u001b[0m | time: 21.820s\n\u001b[2K\r| SGD | epoch: 001 | loss: 0.23938 - acc: 0.9254 -- iter: 07200/55000\n"
     ]
    },
    {
     "name": "stdout",
     "output_type": "stream",
     "text": [
      "Training Step: 361  | total loss: \u001b[1m\u001b[32m0.22097\u001b[0m\u001b[0m | time: 21.883s\n\u001b[2K\r| SGD | epoch: 001 | loss: 0.22097 - acc: 0.9278 -- iter: 07220/55000\n"
     ]
    },
    {
     "name": "stdout",
     "output_type": "stream",
     "text": [
      "Training Step: 362  | total loss: \u001b[1m\u001b[32m0.23358\u001b[0m\u001b[0m | time: 21.945s\n\u001b[2K\r| SGD | epoch: 001 | loss: 0.23358 - acc: 0.9300 -- iter: 07240/55000\n"
     ]
    },
    {
     "name": "stdout",
     "output_type": "stream",
     "text": [
      "Training Step: 363  | total loss: \u001b[1m\u001b[32m0.24236\u001b[0m\u001b[0m | time: 21.992s\n\u001b[2K\r| SGD | epoch: 001 | loss: 0.24236 - acc: 0.9270 -- iter: 07260/55000\n"
     ]
    },
    {
     "name": "stdout",
     "output_type": "stream",
     "text": [
      "Training Step: 364  | total loss: \u001b[1m\u001b[32m0.22975\u001b[0m\u001b[0m | time: 22.039s\n\u001b[2K\r| SGD | epoch: 001 | loss: 0.22975 - acc: 0.9293 -- iter: 07280/55000\n"
     ]
    },
    {
     "name": "stdout",
     "output_type": "stream",
     "text": [
      "Training Step: 365  | total loss: \u001b[1m\u001b[32m0.22486\u001b[0m\u001b[0m | time: 22.102s\n\u001b[2K\r| SGD | epoch: 001 | loss: 0.22486 - acc: 0.9314 -- iter: 07300/55000\n"
     ]
    },
    {
     "name": "stdout",
     "output_type": "stream",
     "text": [
      "Training Step: 366  | total loss: \u001b[1m\u001b[32m0.21244\u001b[0m\u001b[0m | time: 22.164s\n\u001b[2K\r| SGD | epoch: 001 | loss: 0.21244 - acc: 0.9333 -- iter: 07320/55000\n"
     ]
    },
    {
     "name": "stdout",
     "output_type": "stream",
     "text": [
      "Training Step: 367  | total loss: \u001b[1m\u001b[32m0.20186\u001b[0m\u001b[0m | time: 22.211s\n\u001b[2K\r| SGD | epoch: 001 | loss: 0.20186 - acc: 0.9349 -- iter: 07340/55000\n"
     ]
    },
    {
     "name": "stdout",
     "output_type": "stream",
     "text": [
      "Training Step: 368  | total loss: \u001b[1m\u001b[32m0.18526\u001b[0m\u001b[0m | time: 22.273s\n\u001b[2K\r| SGD | epoch: 001 | loss: 0.18526 - acc: 0.9414 -- iter: 07360/55000\n"
     ]
    },
    {
     "name": "stdout",
     "output_type": "stream",
     "text": [
      "Training Step: 369  | total loss: \u001b[1m\u001b[32m0.18596\u001b[0m\u001b[0m | time: 22.320s\n\u001b[2K\r| SGD | epoch: 001 | loss: 0.18596 - acc: 0.9373 -- iter: 07380/55000\n"
     ]
    },
    {
     "name": "stdout",
     "output_type": "stream",
     "text": [
      "Training Step: 370  | total loss: \u001b[1m\u001b[32m0.17589\u001b[0m\u001b[0m | time: 22.383s\n\u001b[2K\r| SGD | epoch: 001 | loss: 0.17589 - acc: 0.9386 -- iter: 07400/55000\n"
     ]
    },
    {
     "name": "stdout",
     "output_type": "stream",
     "text": [
      "Training Step: 371  | total loss: \u001b[1m\u001b[32m0.19168\u001b[0m\u001b[0m | time: 22.450s\n\u001b[2K\r| SGD | epoch: 001 | loss: 0.19168 - acc: 0.9297 -- iter: 07420/55000\n"
     ]
    },
    {
     "name": "stdout",
     "output_type": "stream",
     "text": [
      "Training Step: 372  | total loss: \u001b[1m\u001b[32m0.19281\u001b[0m\u001b[0m | time: 22.502s\n\u001b[2K\r| SGD | epoch: 001 | loss: 0.19281 - acc: 0.9267 -- iter: 07440/55000\n"
     ]
    },
    {
     "name": "stdout",
     "output_type": "stream",
     "text": [
      "Training Step: 373  | total loss: \u001b[1m\u001b[32m0.17858\u001b[0m\u001b[0m | time: 22.564s\n\u001b[2K\r| SGD | epoch: 001 | loss: 0.17858 - acc: 0.9341 -- iter: 07460/55000\n"
     ]
    },
    {
     "name": "stdout",
     "output_type": "stream",
     "text": [
      "Training Step: 374  | total loss: \u001b[1m\u001b[32m0.17613\u001b[0m\u001b[0m | time: 22.611s\n\u001b[2K\r| SGD | epoch: 001 | loss: 0.17613 - acc: 0.9307 -- iter: 07480/55000\n"
     ]
    },
    {
     "name": "stdout",
     "output_type": "stream",
     "text": [
      "Training Step: 375  | total loss: \u001b[1m\u001b[32m0.16344\u001b[0m\u001b[0m | time: 22.674s\n\u001b[2K\r| SGD | epoch: 001 | loss: 0.16344 - acc: 0.9376 -- iter: 07500/55000\n"
     ]
    },
    {
     "name": "stdout",
     "output_type": "stream",
     "text": [
      "Training Step: 376  | total loss: \u001b[1m\u001b[32m0.15537\u001b[0m\u001b[0m | time: 22.735s\n\u001b[2K\r| SGD | epoch: 001 | loss: 0.15537 - acc: 0.9388 -- iter: 07520/55000\n"
     ]
    },
    {
     "name": "stdout",
     "output_type": "stream",
     "text": [
      "Training Step: 377  | total loss: \u001b[1m\u001b[32m0.15453\u001b[0m\u001b[0m | time: 22.784s\n\u001b[2K\r| SGD | epoch: 001 | loss: 0.15453 - acc: 0.9399 -- iter: 07540/55000\n"
     ]
    },
    {
     "name": "stdout",
     "output_type": "stream",
     "text": [
      "Training Step: 378  | total loss: \u001b[1m\u001b[32m0.16684\u001b[0m\u001b[0m | time: 22.862s\n\u001b[2K\r| SGD | epoch: 001 | loss: 0.16684 - acc: 0.9410 -- iter: 07560/55000\n"
     ]
    },
    {
     "name": "stdout",
     "output_type": "stream",
     "text": [
      "Training Step: 379  | total loss: \u001b[1m\u001b[32m0.17447\u001b[0m\u001b[0m | time: 22.940s\n\u001b[2K\r| SGD | epoch: 001 | loss: 0.17447 - acc: 0.9419 -- iter: 07580/55000\n"
     ]
    },
    {
     "name": "stdout",
     "output_type": "stream",
     "text": [
      "Training Step: 380  | total loss: \u001b[1m\u001b[32m0.18507\u001b[0m\u001b[0m | time: 23.018s\n\u001b[2K\r| SGD | epoch: 001 | loss: 0.18507 - acc: 0.9427 -- iter: 07600/55000\n"
     ]
    },
    {
     "name": "stdout",
     "output_type": "stream",
     "text": [
      "Training Step: 381  | total loss: \u001b[1m\u001b[32m0.19816\u001b[0m\u001b[0m | time: 23.081s\n\u001b[2K\r| SGD | epoch: 001 | loss: 0.19816 - acc: 0.9434 -- iter: 07620/55000\n"
     ]
    },
    {
     "name": "stdout",
     "output_type": "stream",
     "text": [
      "Training Step: 382  | total loss: \u001b[1m\u001b[32m0.19801\u001b[0m\u001b[0m | time: 23.143s\n\u001b[2K\r| SGD | epoch: 001 | loss: 0.19801 - acc: 0.9441 -- iter: 07640/55000\n"
     ]
    },
    {
     "name": "stdout",
     "output_type": "stream",
     "text": [
      "Training Step: 383  | total loss: \u001b[1m\u001b[32m0.20181\u001b[0m\u001b[0m | time: 23.206s\n\u001b[2K\r| SGD | epoch: 001 | loss: 0.20181 - acc: 0.9447 -- iter: 07660/55000\n"
     ]
    },
    {
     "name": "stdout",
     "output_type": "stream",
     "text": [
      "Training Step: 384  | total loss: \u001b[1m\u001b[32m0.19231\u001b[0m\u001b[0m | time: 23.268s\n\u001b[2K\r| SGD | epoch: 001 | loss: 0.19231 - acc: 0.9452 -- iter: 07680/55000\n"
     ]
    },
    {
     "name": "stdout",
     "output_type": "stream",
     "text": [
      "Training Step: 385  | total loss: \u001b[1m\u001b[32m0.17620\u001b[0m\u001b[0m | time: 23.331s\n\u001b[2K\r| SGD | epoch: 001 | loss: 0.17620 - acc: 0.9507 -- iter: 07700/55000\n"
     ]
    },
    {
     "name": "stdout",
     "output_type": "stream",
     "text": [
      "Training Step: 386  | total loss: \u001b[1m\u001b[32m0.18435\u001b[0m\u001b[0m | time: 23.378s\n\u001b[2K\r| SGD | epoch: 001 | loss: 0.18435 - acc: 0.9456 -- iter: 07720/55000\n"
     ]
    },
    {
     "name": "stdout",
     "output_type": "stream",
     "text": [
      "Training Step: 387  | total loss: \u001b[1m\u001b[32m0.18071\u001b[0m\u001b[0m | time: 23.453s\n\u001b[2K\r| SGD | epoch: 001 | loss: 0.18071 - acc: 0.9410 -- iter: 07740/55000\n"
     ]
    },
    {
     "name": "stdout",
     "output_type": "stream",
     "text": [
      "Training Step: 388  | total loss: \u001b[1m\u001b[32m0.18027\u001b[0m\u001b[0m | time: 23.506s\n\u001b[2K\r| SGD | epoch: 001 | loss: 0.18027 - acc: 0.9319 -- iter: 07760/55000\n"
     ]
    },
    {
     "name": "stdout",
     "output_type": "stream",
     "text": [
      "Training Step: 389  | total loss: \u001b[1m\u001b[32m0.16445\u001b[0m\u001b[0m | time: 23.569s\n\u001b[2K\r| SGD | epoch: 001 | loss: 0.16445 - acc: 0.9387 -- iter: 07780/55000\n"
     ]
    },
    {
     "name": "stdout",
     "output_type": "stream",
     "text": [
      "Training Step: 390  | total loss: \u001b[1m\u001b[32m0.15995\u001b[0m\u001b[0m | time: 23.631s\n\u001b[2K\r| SGD | epoch: 001 | loss: 0.15995 - acc: 0.9399 -- iter: 07800/55000\n"
     ]
    },
    {
     "name": "stdout",
     "output_type": "stream",
     "text": [
      "Training Step: 391  | total loss: \u001b[1m\u001b[32m0.14864\u001b[0m\u001b[0m | time: 23.694s\n\u001b[2K\r| SGD | epoch: 001 | loss: 0.14864 - acc: 0.9459 -- iter: 07820/55000\n"
     ]
    },
    {
     "name": "stdout",
     "output_type": "stream",
     "text": [
      "Training Step: 392  | total loss: \u001b[1m\u001b[32m0.15466\u001b[0m\u001b[0m | time: 23.756s\n\u001b[2K\r| SGD | epoch: 001 | loss: 0.15466 - acc: 0.9413 -- iter: 07840/55000\n"
     ]
    },
    {
     "name": "stdout",
     "output_type": "stream",
     "text": [
      "Training Step: 393  | total loss: \u001b[1m\u001b[32m0.15490\u001b[0m\u001b[0m | time: 23.819s\n\u001b[2K\r| SGD | epoch: 001 | loss: 0.15490 - acc: 0.9422 -- iter: 07860/55000\n"
     ]
    },
    {
     "name": "stdout",
     "output_type": "stream",
     "text": [
      "Training Step: 394  | total loss: \u001b[1m\u001b[32m0.18473\u001b[0m\u001b[0m | time: 23.881s\n\u001b[2K\r| SGD | epoch: 001 | loss: 0.18473 - acc: 0.9330 -- iter: 07880/55000\n"
     ]
    },
    {
     "name": "stdout",
     "output_type": "stream",
     "text": [
      "Training Step: 395  | total loss: \u001b[1m\u001b[32m0.16911\u001b[0m\u001b[0m | time: 23.928s\n\u001b[2K\r| SGD | epoch: 001 | loss: 0.16911 - acc: 0.9397 -- iter: 07900/55000\n"
     ]
    },
    {
     "name": "stdout",
     "output_type": "stream",
     "text": [
      "Training Step: 396  | total loss: \u001b[1m\u001b[32m0.15788\u001b[0m\u001b[0m | time: 23.975s\n\u001b[2K\r| SGD | epoch: 001 | loss: 0.15788 - acc: 0.9457 -- iter: 07920/55000\n"
     ]
    },
    {
     "name": "stdout",
     "output_type": "stream",
     "text": [
      "Training Step: 397  | total loss: \u001b[1m\u001b[32m0.15842\u001b[0m\u001b[0m | time: 24.038s\n\u001b[2K\r| SGD | epoch: 001 | loss: 0.15842 - acc: 0.9461 -- iter: 07940/55000\n"
     ]
    },
    {
     "name": "stdout",
     "output_type": "stream",
     "text": [
      "Training Step: 398  | total loss: \u001b[1m\u001b[32m0.15454\u001b[0m\u001b[0m | time: 24.100s\n\u001b[2K\r| SGD | epoch: 001 | loss: 0.15454 - acc: 0.9415 -- iter: 07960/55000\n"
     ]
    },
    {
     "name": "stdout",
     "output_type": "stream",
     "text": [
      "Training Step: 399  | total loss: \u001b[1m\u001b[32m0.15520\u001b[0m\u001b[0m | time: 24.163s\n\u001b[2K\r| SGD | epoch: 001 | loss: 0.15520 - acc: 0.9374 -- iter: 07980/55000\n"
     ]
    },
    {
     "name": "stdout",
     "output_type": "stream",
     "text": [
      "Training Step: 400  | total loss: \u001b[1m\u001b[32m0.15930\u001b[0m\u001b[0m | time: 24.225s\n\u001b[2K\r| SGD | epoch: 001 | loss: 0.15930 - acc: 0.9336 -- iter: 08000/55000\n"
     ]
    },
    {
     "name": "stdout",
     "output_type": "stream",
     "text": [
      "Training Step: 401  | total loss: \u001b[1m\u001b[32m0.17260\u001b[0m\u001b[0m | time: 24.288s\n\u001b[2K\r| SGD | epoch: 001 | loss: 0.17260 - acc: 0.9303 -- iter: 08020/55000\n"
     ]
    },
    {
     "name": "stdout",
     "output_type": "stream",
     "text": [
      "Training Step: 402  | total loss: \u001b[1m\u001b[32m0.17248\u001b[0m\u001b[0m | time: 24.334s\n\u001b[2K\r| SGD | epoch: 001 | loss: 0.17248 - acc: 0.9322 -- iter: 08040/55000\n"
     ]
    },
    {
     "name": "stdout",
     "output_type": "stream",
     "text": [
      "Training Step: 403  | total loss: \u001b[1m\u001b[32m0.15993\u001b[0m\u001b[0m | time: 24.381s\n\u001b[2K\r| SGD | epoch: 001 | loss: 0.15993 - acc: 0.9340 -- iter: 08060/55000\n"
     ]
    },
    {
     "name": "stdout",
     "output_type": "stream",
     "text": [
      "Training Step: 404  | total loss: \u001b[1m\u001b[32m0.14766\u001b[0m\u001b[0m | time: 24.453s\n\u001b[2K\r| SGD | epoch: 001 | loss: 0.14766 - acc: 0.9406 -- iter: 08080/55000\n"
     ]
    },
    {
     "name": "stdout",
     "output_type": "stream",
     "text": [
      "Training Step: 405  | total loss: \u001b[1m\u001b[32m0.13647\u001b[0m\u001b[0m | time: 24.515s\n\u001b[2K\r| SGD | epoch: 001 | loss: 0.13647 - acc: 0.9465 -- iter: 08100/55000\n"
     ]
    },
    {
     "name": "stdout",
     "output_type": "stream",
     "text": [
      "Training Step: 406  | total loss: \u001b[1m\u001b[32m0.12666\u001b[0m\u001b[0m | time: 24.562s\n\u001b[2K\r| SGD | epoch: 001 | loss: 0.12666 - acc: 0.9519 -- iter: 08120/55000\n"
     ]
    },
    {
     "name": "stdout",
     "output_type": "stream",
     "text": [
      "Training Step: 407  | total loss: \u001b[1m\u001b[32m0.11636\u001b[0m\u001b[0m | time: 24.624s\n\u001b[2K\r| SGD | epoch: 001 | loss: 0.11636 - acc: 0.9567 -- iter: 08140/55000\n"
     ]
    },
    {
     "name": "stdout",
     "output_type": "stream",
     "text": [
      "Training Step: 408  | total loss: \u001b[1m\u001b[32m0.10534\u001b[0m\u001b[0m | time: 24.687s\n\u001b[2K\r| SGD | epoch: 001 | loss: 0.10534 - acc: 0.9610 -- iter: 08160/55000\n"
     ]
    },
    {
     "name": "stdout",
     "output_type": "stream",
     "text": [
      "Training Step: 409  | total loss: \u001b[1m\u001b[32m0.11140\u001b[0m\u001b[0m | time: 24.749s\n\u001b[2K\r| SGD | epoch: 001 | loss: 0.11140 - acc: 0.9499 -- iter: 08180/55000\n"
     ]
    },
    {
     "name": "stdout",
     "output_type": "stream",
     "text": [
      "Training Step: 410  | total loss: \u001b[1m\u001b[32m0.10510\u001b[0m\u001b[0m | time: 24.812s\n\u001b[2K\r| SGD | epoch: 001 | loss: 0.10510 - acc: 0.9549 -- iter: 08200/55000\n"
     ]
    },
    {
     "name": "stdout",
     "output_type": "stream",
     "text": [
      "Training Step: 411  | total loss: \u001b[1m\u001b[32m0.10785\u001b[0m\u001b[0m | time: 24.874s\n\u001b[2K\r| SGD | epoch: 001 | loss: 0.10785 - acc: 0.9544 -- iter: 08220/55000\n"
     ]
    },
    {
     "name": "stdout",
     "output_type": "stream",
     "text": [
      "Training Step: 412  | total loss: \u001b[1m\u001b[32m0.11945\u001b[0m\u001b[0m | time: 24.937s\n\u001b[2K\r| SGD | epoch: 001 | loss: 0.11945 - acc: 0.9490 -- iter: 08240/55000\n"
     ]
    },
    {
     "name": "stdout",
     "output_type": "stream",
     "text": [
      "Training Step: 413  | total loss: \u001b[1m\u001b[32m0.11123\u001b[0m\u001b[0m | time: 24.999s\n\u001b[2K\r| SGD | epoch: 001 | loss: 0.11123 - acc: 0.9541 -- iter: 08260/55000\n"
     ]
    },
    {
     "name": "stdout",
     "output_type": "stream",
     "text": [
      "Training Step: 414  | total loss: \u001b[1m\u001b[32m0.11008\u001b[0m\u001b[0m | time: 25.062s\n\u001b[2K\r| SGD | epoch: 001 | loss: 0.11008 - acc: 0.9537 -- iter: 08280/55000\n"
     ]
    },
    {
     "name": "stdout",
     "output_type": "stream",
     "text": [
      "Training Step: 415  | total loss: \u001b[1m\u001b[32m0.10977\u001b[0m\u001b[0m | time: 25.124s\n\u001b[2K\r| SGD | epoch: 001 | loss: 0.10977 - acc: 0.9533 -- iter: 08300/55000\n"
     ]
    },
    {
     "name": "stdout",
     "output_type": "stream",
     "text": [
      "Training Step: 416  | total loss: \u001b[1m\u001b[32m0.10371\u001b[0m\u001b[0m | time: 25.187s\n\u001b[2K\r| SGD | epoch: 001 | loss: 0.10371 - acc: 0.9580 -- iter: 08320/55000\n"
     ]
    },
    {
     "name": "stdout",
     "output_type": "stream",
     "text": [
      "Training Step: 417  | total loss: \u001b[1m\u001b[32m0.10596\u001b[0m\u001b[0m | time: 25.249s\n\u001b[2K\r| SGD | epoch: 001 | loss: 0.10596 - acc: 0.9572 -- iter: 08340/55000\n"
     ]
    },
    {
     "name": "stdout",
     "output_type": "stream",
     "text": [
      "Training Step: 418  | total loss: \u001b[1m\u001b[32m0.11587\u001b[0m\u001b[0m | time: 25.312s\n\u001b[2K\r| SGD | epoch: 001 | loss: 0.11587 - acc: 0.9565 -- iter: 08360/55000\n"
     ]
    },
    {
     "name": "stdout",
     "output_type": "stream",
     "text": [
      "Training Step: 419  | total loss: \u001b[1m\u001b[32m0.10938\u001b[0m\u001b[0m | time: 25.374s\n\u001b[2K\r| SGD | epoch: 001 | loss: 0.10938 - acc: 0.9608 -- iter: 08380/55000\n"
     ]
    },
    {
     "name": "stdout",
     "output_type": "stream",
     "text": [
      "Training Step: 420  | total loss: \u001b[1m\u001b[32m0.09985\u001b[0m\u001b[0m | time: 25.440s\n\u001b[2K\r| SGD | epoch: 001 | loss: 0.09985 - acc: 0.9647 -- iter: 08400/55000\n"
     ]
    },
    {
     "name": "stdout",
     "output_type": "stream",
     "text": [
      "Training Step: 421  | total loss: \u001b[1m\u001b[32m0.09362\u001b[0m\u001b[0m | time: 25.503s\n\u001b[2K\r| SGD | epoch: 001 | loss: 0.09362 - acc: 0.9683 -- iter: 08420/55000\n"
     ]
    },
    {
     "name": "stdout",
     "output_type": "stream",
     "text": [
      "Training Step: 422  | total loss: \u001b[1m\u001b[32m0.09053\u001b[0m\u001b[0m | time: 25.565s\n\u001b[2K\r| SGD | epoch: 001 | loss: 0.09053 - acc: 0.9664 -- iter: 08440/55000\n"
     ]
    },
    {
     "name": "stdout",
     "output_type": "stream",
     "text": [
      "Training Step: 423  | total loss: \u001b[1m\u001b[32m0.11282\u001b[0m\u001b[0m | time: 25.612s\n\u001b[2K\r| SGD | epoch: 001 | loss: 0.11282 - acc: 0.9548 -- iter: 08460/55000\n"
     ]
    },
    {
     "name": "stdout",
     "output_type": "stream",
     "text": [
      "Training Step: 424  | total loss: \u001b[1m\u001b[32m0.13024\u001b[0m\u001b[0m | time: 25.659s\n\u001b[2K\r| SGD | epoch: 001 | loss: 0.13024 - acc: 0.9543 -- iter: 08480/55000\n"
     ]
    },
    {
     "name": "stdout",
     "output_type": "stream",
     "text": [
      "Training Step: 425  | total loss: \u001b[1m\u001b[32m0.18433\u001b[0m\u001b[0m | time: 25.722s\n\u001b[2K\r| SGD | epoch: 001 | loss: 0.18433 - acc: 0.9389 -- iter: 08500/55000\n"
     ]
    },
    {
     "name": "stdout",
     "output_type": "stream",
     "text": [
      "Training Step: 426  | total loss: \u001b[1m\u001b[32m0.16928\u001b[0m\u001b[0m | time: 25.800s\n\u001b[2K\r| SGD | epoch: 001 | loss: 0.16928 - acc: 0.9450 -- iter: 08520/55000\n"
     ]
    },
    {
     "name": "stdout",
     "output_type": "stream",
     "text": [
      "Training Step: 427  | total loss: \u001b[1m\u001b[32m0.16053\u001b[0m\u001b[0m | time: 25.862s\n\u001b[2K\r| SGD | epoch: 001 | loss: 0.16053 - acc: 0.9505 -- iter: 08540/55000\n"
     ]
    },
    {
     "name": "stdout",
     "output_type": "stream",
     "text": [
      "Training Step: 428  | total loss: \u001b[1m\u001b[32m0.15208\u001b[0m\u001b[0m | time: 25.925s\n\u001b[2K\r| SGD | epoch: 001 | loss: 0.15208 - acc: 0.9504 -- iter: 08560/55000\n"
     ]
    },
    {
     "name": "stdout",
     "output_type": "stream",
     "text": [
      "Training Step: 429  | total loss: \u001b[1m\u001b[32m0.15344\u001b[0m\u001b[0m | time: 25.972s\n\u001b[2K\r| SGD | epoch: 001 | loss: 0.15344 - acc: 0.9504 -- iter: 08580/55000\n"
     ]
    },
    {
     "name": "stdout",
     "output_type": "stream",
     "text": [
      "Training Step: 430  | total loss: \u001b[1m\u001b[32m0.15929\u001b[0m\u001b[0m | time: 26.019s\n\u001b[2K\r| SGD | epoch: 001 | loss: 0.15929 - acc: 0.9454 -- iter: 08600/55000\n"
     ]
    },
    {
     "name": "stdout",
     "output_type": "stream",
     "text": [
      "Training Step: 431  | total loss: \u001b[1m\u001b[32m0.17504\u001b[0m\u001b[0m | time: 26.065s\n\u001b[2K\r| SGD | epoch: 001 | loss: 0.17504 - acc: 0.9458 -- iter: 08620/55000\n"
     ]
    },
    {
     "name": "stdout",
     "output_type": "stream",
     "text": [
      "Training Step: 432  | total loss: \u001b[1m\u001b[32m0.20421\u001b[0m\u001b[0m | time: 26.128s\n\u001b[2K\r| SGD | epoch: 001 | loss: 0.20421 - acc: 0.9462 -- iter: 08640/55000\n"
     ]
    },
    {
     "name": "stdout",
     "output_type": "stream",
     "text": [
      "Training Step: 433  | total loss: \u001b[1m\u001b[32m0.19101\u001b[0m\u001b[0m | time: 26.190s\n\u001b[2K\r| SGD | epoch: 001 | loss: 0.19101 - acc: 0.9466 -- iter: 08660/55000\n"
     ]
    },
    {
     "name": "stdout",
     "output_type": "stream",
     "text": [
      "Training Step: 434  | total loss: \u001b[1m\u001b[32m0.18985\u001b[0m\u001b[0m | time: 26.253s\n\u001b[2K\r| SGD | epoch: 001 | loss: 0.18985 - acc: 0.9420 -- iter: 08680/55000\n"
     ]
    },
    {
     "name": "stdout",
     "output_type": "stream",
     "text": [
      "Training Step: 435  | total loss: \u001b[1m\u001b[32m0.18105\u001b[0m\u001b[0m | time: 26.315s\n\u001b[2K\r| SGD | epoch: 001 | loss: 0.18105 - acc: 0.9428 -- iter: 08700/55000\n"
     ]
    },
    {
     "name": "stdout",
     "output_type": "stream",
     "text": [
      "Training Step: 436  | total loss: \u001b[1m\u001b[32m0.16648\u001b[0m\u001b[0m | time: 26.373s\n\u001b[2K\r| SGD | epoch: 001 | loss: 0.16648 - acc: 0.9485 -- iter: 08720/55000\n"
     ]
    },
    {
     "name": "stdout",
     "output_type": "stream",
     "text": [
      "Training Step: 437  | total loss: \u001b[1m\u001b[32m0.15179\u001b[0m\u001b[0m | time: 26.420s\n\u001b[2K\r| SGD | epoch: 001 | loss: 0.15179 - acc: 0.9536 -- iter: 08740/55000\n"
     ]
    },
    {
     "name": "stdout",
     "output_type": "stream",
     "text": [
      "Training Step: 438  | total loss: \u001b[1m\u001b[32m0.15327\u001b[0m\u001b[0m | time: 26.466s\n\u001b[2K\r| SGD | epoch: 001 | loss: 0.15327 - acc: 0.9483 -- iter: 08760/55000\n"
     ]
    },
    {
     "name": "stdout",
     "output_type": "stream",
     "text": [
      "Training Step: 439  | total loss: \u001b[1m\u001b[32m0.16535\u001b[0m\u001b[0m | time: 26.545s\n\u001b[2K\r| SGD | epoch: 001 | loss: 0.16535 - acc: 0.9484 -- iter: 08780/55000\n"
     ]
    },
    {
     "name": "stdout",
     "output_type": "stream",
     "text": [
      "Training Step: 440  | total loss: \u001b[1m\u001b[32m0.15044\u001b[0m\u001b[0m | time: 26.591s\n\u001b[2K\r| SGD | epoch: 001 | loss: 0.15044 - acc: 0.9536 -- iter: 08800/55000\n"
     ]
    },
    {
     "name": "stdout",
     "output_type": "stream",
     "text": [
      "Training Step: 441  | total loss: \u001b[1m\u001b[32m0.14300\u001b[0m\u001b[0m | time: 26.638s\n\u001b[2K\r| SGD | epoch: 001 | loss: 0.14300 - acc: 0.9532 -- iter: 08820/55000\n"
     ]
    },
    {
     "name": "stdout",
     "output_type": "stream",
     "text": [
      "Training Step: 442  | total loss: \u001b[1m\u001b[32m0.14349\u001b[0m\u001b[0m | time: 26.701s\n\u001b[2K\r| SGD | epoch: 001 | loss: 0.14349 - acc: 0.9529 -- iter: 08840/55000\n"
     ]
    },
    {
     "name": "stdout",
     "output_type": "stream",
     "text": [
      "Training Step: 443  | total loss: \u001b[1m\u001b[32m0.16034\u001b[0m\u001b[0m | time: 26.763s\n\u001b[2K\r| SGD | epoch: 001 | loss: 0.16034 - acc: 0.9476 -- iter: 08860/55000\n"
     ]
    },
    {
     "name": "stdout",
     "output_type": "stream",
     "text": [
      "Training Step: 444  | total loss: \u001b[1m\u001b[32m0.15620\u001b[0m\u001b[0m | time: 26.826s\n\u001b[2K\r| SGD | epoch: 001 | loss: 0.15620 - acc: 0.9529 -- iter: 08880/55000\n"
     ]
    },
    {
     "name": "stdout",
     "output_type": "stream",
     "text": [
      "Training Step: 445  | total loss: \u001b[1m\u001b[32m0.14539\u001b[0m\u001b[0m | time: 26.873s\n\u001b[2K\r| SGD | epoch: 001 | loss: 0.14539 - acc: 0.9576 -- iter: 08900/55000\n"
     ]
    },
    {
     "name": "stdout",
     "output_type": "stream",
     "text": [
      "Training Step: 446  | total loss: \u001b[1m\u001b[32m0.15262\u001b[0m\u001b[0m | time: 26.920s\n\u001b[2K\r| SGD | epoch: 001 | loss: 0.15262 - acc: 0.9518 -- iter: 08920/55000\n"
     ]
    },
    {
     "name": "stdout",
     "output_type": "stream",
     "text": [
      "Training Step: 447  | total loss: \u001b[1m\u001b[32m0.16429\u001b[0m\u001b[0m | time: 26.982s\n\u001b[2K\r| SGD | epoch: 001 | loss: 0.16429 - acc: 0.9466 -- iter: 08940/55000\n"
     ]
    },
    {
     "name": "stdout",
     "output_type": "stream",
     "text": [
      "Training Step: 448  | total loss: \u001b[1m\u001b[32m0.17259\u001b[0m\u001b[0m | time: 27.060s\n\u001b[2K\r| SGD | epoch: 001 | loss: 0.17259 - acc: 0.9470 -- iter: 08960/55000\n"
     ]
    },
    {
     "name": "stdout",
     "output_type": "stream",
     "text": [
      "Training Step: 449  | total loss: \u001b[1m\u001b[32m0.16607\u001b[0m\u001b[0m | time: 27.154s\n\u001b[2K\r| SGD | epoch: 001 | loss: 0.16607 - acc: 0.9473 -- iter: 08980/55000\n"
     ]
    },
    {
     "name": "stdout",
     "output_type": "stream",
     "text": [
      "Training Step: 450  | total loss: \u001b[1m\u001b[32m0.18529\u001b[0m\u001b[0m | time: 27.216s\n\u001b[2K\r| SGD | epoch: 001 | loss: 0.18529 - acc: 0.9425 -- iter: 09000/55000\n"
     ]
    },
    {
     "name": "stdout",
     "output_type": "stream",
     "text": [
      "Training Step: 451  | total loss: \u001b[1m\u001b[32m0.19325\u001b[0m\u001b[0m | time: 27.280s\n\u001b[2K\r| SGD | epoch: 001 | loss: 0.19325 - acc: 0.9433 -- iter: 09020/55000\n"
     ]
    },
    {
     "name": "stdout",
     "output_type": "stream",
     "text": [
      "Training Step: 452  | total loss: \u001b[1m\u001b[32m0.19148\u001b[0m\u001b[0m | time: 27.332s\n\u001b[2K\r| SGD | epoch: 001 | loss: 0.19148 - acc: 0.9440 -- iter: 09040/55000\n"
     ]
    },
    {
     "name": "stdout",
     "output_type": "stream",
     "text": [
      "Training Step: 453  | total loss: \u001b[1m\u001b[32m0.17361\u001b[0m\u001b[0m | time: 27.395s\n\u001b[2K\r| SGD | epoch: 001 | loss: 0.17361 - acc: 0.9496 -- iter: 09060/55000\n"
     ]
    },
    {
     "name": "stdout",
     "output_type": "stream",
     "text": [
      "Training Step: 454  | total loss: \u001b[1m\u001b[32m0.16086\u001b[0m\u001b[0m | time: 27.457s\n\u001b[2K\r| SGD | epoch: 001 | loss: 0.16086 - acc: 0.9546 -- iter: 09080/55000\n"
     ]
    },
    {
     "name": "stdout",
     "output_type": "stream",
     "text": [
      "Training Step: 455  | total loss: \u001b[1m\u001b[32m0.16900\u001b[0m\u001b[0m | time: 27.520s\n\u001b[2K\r| SGD | epoch: 001 | loss: 0.16900 - acc: 0.9491 -- iter: 09100/55000\n"
     ]
    },
    {
     "name": "stdout",
     "output_type": "stream",
     "text": [
      "Training Step: 456  | total loss: \u001b[1m\u001b[32m0.15784\u001b[0m\u001b[0m | time: 27.582s\n\u001b[2K\r| SGD | epoch: 001 | loss: 0.15784 - acc: 0.9542 -- iter: 09120/55000\n"
     ]
    },
    {
     "name": "stdout",
     "output_type": "stream",
     "text": [
      "Training Step: 457  | total loss: \u001b[1m\u001b[32m0.16913\u001b[0m\u001b[0m | time: 27.645s\n\u001b[2K\r| SGD | epoch: 001 | loss: 0.16913 - acc: 0.9488 -- iter: 09140/55000\n"
     ]
    },
    {
     "name": "stdout",
     "output_type": "stream",
     "text": [
      "Training Step: 458  | total loss: \u001b[1m\u001b[32m0.17011\u001b[0m\u001b[0m | time: 27.707s\n\u001b[2K\r| SGD | epoch: 001 | loss: 0.17011 - acc: 0.9439 -- iter: 09160/55000\n"
     ]
    },
    {
     "name": "stdout",
     "output_type": "stream",
     "text": [
      "Training Step: 459  | total loss: \u001b[1m\u001b[32m0.17696\u001b[0m\u001b[0m | time: 27.770s\n\u001b[2K\r| SGD | epoch: 001 | loss: 0.17696 - acc: 0.9395 -- iter: 09180/55000\n"
     ]
    },
    {
     "name": "stdout",
     "output_type": "stream",
     "text": [
      "Training Step: 460  | total loss: \u001b[1m\u001b[32m0.16246\u001b[0m\u001b[0m | time: 27.832s\n\u001b[2K\r| SGD | epoch: 001 | loss: 0.16246 - acc: 0.9456 -- iter: 09200/55000\n"
     ]
    },
    {
     "name": "stdout",
     "output_type": "stream",
     "text": [
      "Training Step: 461  | total loss: \u001b[1m\u001b[32m0.16472\u001b[0m\u001b[0m | time: 27.895s\n\u001b[2K\r| SGD | epoch: 001 | loss: 0.16472 - acc: 0.9460 -- iter: 09220/55000\n"
     ]
    },
    {
     "name": "stdout",
     "output_type": "stream",
     "text": [
      "Training Step: 462  | total loss: \u001b[1m\u001b[32m0.15312\u001b[0m\u001b[0m | time: 27.957s\n\u001b[2K\r| SGD | epoch: 001 | loss: 0.15312 - acc: 0.9514 -- iter: 09240/55000\n"
     ]
    },
    {
     "name": "stdout",
     "output_type": "stream",
     "text": [
      "Training Step: 463  | total loss: \u001b[1m\u001b[32m0.14824\u001b[0m\u001b[0m | time: 28.020s\n\u001b[2K\r| SGD | epoch: 001 | loss: 0.14824 - acc: 0.9513 -- iter: 09260/55000\n"
     ]
    },
    {
     "name": "stdout",
     "output_type": "stream",
     "text": [
      "Training Step: 464  | total loss: \u001b[1m\u001b[32m0.13987\u001b[0m\u001b[0m | time: 28.082s\n\u001b[2K\r| SGD | epoch: 001 | loss: 0.13987 - acc: 0.9562 -- iter: 09280/55000\n"
     ]
    },
    {
     "name": "stdout",
     "output_type": "stream",
     "text": [
      "Training Step: 465  | total loss: \u001b[1m\u001b[32m0.13513\u001b[0m\u001b[0m | time: 28.145s\n\u001b[2K\r| SGD | epoch: 001 | loss: 0.13513 - acc: 0.9555 -- iter: 09300/55000\n"
     ]
    },
    {
     "name": "stdout",
     "output_type": "stream",
     "text": [
      "Training Step: 466  | total loss: \u001b[1m\u001b[32m0.12505\u001b[0m\u001b[0m | time: 28.207s\n\u001b[2K\r| SGD | epoch: 001 | loss: 0.12505 - acc: 0.9600 -- iter: 09320/55000\n"
     ]
    },
    {
     "name": "stdout",
     "output_type": "stream",
     "text": [
      "Training Step: 467  | total loss: \u001b[1m\u001b[32m0.12961\u001b[0m\u001b[0m | time: 28.270s\n\u001b[2K\r| SGD | epoch: 001 | loss: 0.12961 - acc: 0.9590 -- iter: 09340/55000\n"
     ]
    },
    {
     "name": "stdout",
     "output_type": "stream",
     "text": [
      "Training Step: 468  | total loss: \u001b[1m\u001b[32m0.15745\u001b[0m\u001b[0m | time: 28.334s\n\u001b[2K\r| SGD | epoch: 001 | loss: 0.15745 - acc: 0.9481 -- iter: 09360/55000\n"
     ]
    },
    {
     "name": "stdout",
     "output_type": "stream",
     "text": [
      "Training Step: 469  | total loss: \u001b[1m\u001b[32m0.19558\u001b[0m\u001b[0m | time: 28.396s\n\u001b[2K\r| SGD | epoch: 001 | loss: 0.19558 - acc: 0.9433 -- iter: 09380/55000\n"
     ]
    },
    {
     "name": "stdout",
     "output_type": "stream",
     "text": [
      "Training Step: 470  | total loss: \u001b[1m\u001b[32m0.19042\u001b[0m\u001b[0m | time: 28.459s\n\u001b[2K\r| SGD | epoch: 001 | loss: 0.19042 - acc: 0.9440 -- iter: 09400/55000\n"
     ]
    },
    {
     "name": "stdout",
     "output_type": "stream",
     "text": [
      "Training Step: 471  | total loss: \u001b[1m\u001b[32m0.19984\u001b[0m\u001b[0m | time: 28.506s\n\u001b[2K\r| SGD | epoch: 001 | loss: 0.19984 - acc: 0.9346 -- iter: 09420/55000\n"
     ]
    },
    {
     "name": "stdout",
     "output_type": "stream",
     "text": [
      "Training Step: 472  | total loss: \u001b[1m\u001b[32m0.19045\u001b[0m\u001b[0m | time: 28.553s\n\u001b[2K\r| SGD | epoch: 001 | loss: 0.19045 - acc: 0.9361 -- iter: 09440/55000\n"
     ]
    },
    {
     "name": "stdout",
     "output_type": "stream",
     "text": [
      "Training Step: 473  | total loss: \u001b[1m\u001b[32m0.19089\u001b[0m\u001b[0m | time: 28.615s\n\u001b[2K\r| SGD | epoch: 001 | loss: 0.19089 - acc: 0.9325 -- iter: 09460/55000\n"
     ]
    },
    {
     "name": "stdout",
     "output_type": "stream",
     "text": [
      "Training Step: 474  | total loss: \u001b[1m\u001b[32m0.17967\u001b[0m\u001b[0m | time: 28.678s\n\u001b[2K\r| SGD | epoch: 001 | loss: 0.17967 - acc: 0.9392 -- iter: 09480/55000\n"
     ]
    },
    {
     "name": "stdout",
     "output_type": "stream",
     "text": [
      "Training Step: 475  | total loss: \u001b[1m\u001b[32m0.16331\u001b[0m\u001b[0m | time: 28.740s\n\u001b[2K\r| SGD | epoch: 001 | loss: 0.16331 - acc: 0.9453 -- iter: 09500/55000\n"
     ]
    },
    {
     "name": "stdout",
     "output_type": "stream",
     "text": [
      "Training Step: 476  | total loss: \u001b[1m\u001b[32m0.14791\u001b[0m\u001b[0m | time: 28.787s\n\u001b[2K\r| SGD | epoch: 001 | loss: 0.14791 - acc: 0.9508 -- iter: 09520/55000\n"
     ]
    },
    {
     "name": "stdout",
     "output_type": "stream",
     "text": [
      "Training Step: 477  | total loss: \u001b[1m\u001b[32m0.13809\u001b[0m\u001b[0m | time: 28.834s\n\u001b[2K\r| SGD | epoch: 001 | loss: 0.13809 - acc: 0.9557 -- iter: 09540/55000\n"
     ]
    },
    {
     "name": "stdout",
     "output_type": "stream",
     "text": [
      "Training Step: 478  | total loss: \u001b[1m\u001b[32m0.14174\u001b[0m\u001b[0m | time: 28.896s\n\u001b[2K\r| SGD | epoch: 001 | loss: 0.14174 - acc: 0.9551 -- iter: 09560/55000\n"
     ]
    },
    {
     "name": "stdout",
     "output_type": "stream",
     "text": [
      "Training Step: 479  | total loss: \u001b[1m\u001b[32m0.13240\u001b[0m\u001b[0m | time: 28.959s\n\u001b[2K\r| SGD | epoch: 001 | loss: 0.13240 - acc: 0.9546 -- iter: 09580/55000\n"
     ]
    },
    {
     "name": "stdout",
     "output_type": "stream",
     "text": [
      "Training Step: 480  | total loss: \u001b[1m\u001b[32m0.12578\u001b[0m\u001b[0m | time: 29.037s\n\u001b[2K\r| SGD | epoch: 001 | loss: 0.12578 - acc: 0.9592 -- iter: 09600/55000\n"
     ]
    },
    {
     "name": "stdout",
     "output_type": "stream",
     "text": [
      "Training Step: 481  | total loss: \u001b[1m\u001b[32m0.15310\u001b[0m\u001b[0m | time: 29.115s\n\u001b[2K\r| SGD | epoch: 001 | loss: 0.15310 - acc: 0.9582 -- iter: 09620/55000\n"
     ]
    },
    {
     "name": "stdout",
     "output_type": "stream",
     "text": [
      "Training Step: 482  | total loss: \u001b[1m\u001b[32m0.14300\u001b[0m\u001b[0m | time: 29.178s\n\u001b[2K\r| SGD | epoch: 001 | loss: 0.14300 - acc: 0.9624 -- iter: 09640/55000\n"
     ]
    },
    {
     "name": "stdout",
     "output_type": "stream",
     "text": [
      "Training Step: 483  | total loss: \u001b[1m\u001b[32m0.13837\u001b[0m\u001b[0m | time: 29.253s\n\u001b[2K\r| SGD | epoch: 001 | loss: 0.13837 - acc: 0.9612 -- iter: 09660/55000\n"
     ]
    },
    {
     "name": "stdout",
     "output_type": "stream",
     "text": [
      "Training Step: 484  | total loss: \u001b[1m\u001b[32m0.12933\u001b[0m\u001b[0m | time: 29.304s\n\u001b[2K\r| SGD | epoch: 001 | loss: 0.12933 - acc: 0.9651 -- iter: 09680/55000\n"
     ]
    },
    {
     "name": "stdout",
     "output_type": "stream",
     "text": [
      "Training Step: 485  | total loss: \u001b[1m\u001b[32m0.11809\u001b[0m\u001b[0m | time: 29.366s\n\u001b[2K\r| SGD | epoch: 001 | loss: 0.11809 - acc: 0.9686 -- iter: 09700/55000\n"
     ]
    },
    {
     "name": "stdout",
     "output_type": "stream",
     "text": [
      "Training Step: 486  | total loss: \u001b[1m\u001b[32m0.11626\u001b[0m\u001b[0m | time: 29.429s\n\u001b[2K\r| SGD | epoch: 001 | loss: 0.11626 - acc: 0.9667 -- iter: 09720/55000\n"
     ]
    },
    {
     "name": "stdout",
     "output_type": "stream",
     "text": [
      "Training Step: 487  | total loss: \u001b[1m\u001b[32m0.12986\u001b[0m\u001b[0m | time: 29.491s\n\u001b[2K\r| SGD | epoch: 001 | loss: 0.12986 - acc: 0.9650 -- iter: 09740/55000\n"
     ]
    },
    {
     "name": "stdout",
     "output_type": "stream",
     "text": [
      "Training Step: 488  | total loss: \u001b[1m\u001b[32m0.13319\u001b[0m\u001b[0m | time: 29.569s\n\u001b[2K\r| SGD | epoch: 001 | loss: 0.13319 - acc: 0.9635 -- iter: 09760/55000\n"
     ]
    },
    {
     "name": "stdout",
     "output_type": "stream",
     "text": [
      "Training Step: 489  | total loss: \u001b[1m\u001b[32m0.12295\u001b[0m\u001b[0m | time: 29.632s\n\u001b[2K\r| SGD | epoch: 001 | loss: 0.12295 - acc: 0.9672 -- iter: 09780/55000\n"
     ]
    },
    {
     "name": "stdout",
     "output_type": "stream",
     "text": [
      "Training Step: 490  | total loss: \u001b[1m\u001b[32m0.11146\u001b[0m\u001b[0m | time: 29.694s\n\u001b[2K\r| SGD | epoch: 001 | loss: 0.11146 - acc: 0.9705 -- iter: 09800/55000\n"
     ]
    },
    {
     "name": "stdout",
     "output_type": "stream",
     "text": [
      "Training Step: 491  | total loss: \u001b[1m\u001b[32m0.11203\u001b[0m\u001b[0m | time: 29.757s\n\u001b[2K\r| SGD | epoch: 001 | loss: 0.11203 - acc: 0.9684 -- iter: 09820/55000\n"
     ]
    },
    {
     "name": "stdout",
     "output_type": "stream",
     "text": [
      "Training Step: 492  | total loss: \u001b[1m\u001b[32m0.10497\u001b[0m\u001b[0m | time: 29.819s\n\u001b[2K\r| SGD | epoch: 001 | loss: 0.10497 - acc: 0.9716 -- iter: 09840/55000\n"
     ]
    },
    {
     "name": "stdout",
     "output_type": "stream",
     "text": [
      "Training Step: 493  | total loss: \u001b[1m\u001b[32m0.09546\u001b[0m\u001b[0m | time: 29.882s\n\u001b[2K\r| SGD | epoch: 001 | loss: 0.09546 - acc: 0.9744 -- iter: 09860/55000\n"
     ]
    },
    {
     "name": "stdout",
     "output_type": "stream",
     "text": [
      "Training Step: 494  | total loss: \u001b[1m\u001b[32m0.08877\u001b[0m\u001b[0m | time: 29.944s\n\u001b[2K\r| SGD | epoch: 001 | loss: 0.08877 - acc: 0.9770 -- iter: 09880/55000\n"
     ]
    },
    {
     "name": "stdout",
     "output_type": "stream",
     "text": [
      "Training Step: 495  | total loss: \u001b[1m\u001b[32m0.08301\u001b[0m\u001b[0m | time: 30.007s\n\u001b[2K\r| SGD | epoch: 001 | loss: 0.08301 - acc: 0.9793 -- iter: 09900/55000\n"
     ]
    },
    {
     "name": "stdout",
     "output_type": "stream",
     "text": [
      "Training Step: 496  | total loss: \u001b[1m\u001b[32m0.07846\u001b[0m\u001b[0m | time: 30.069s\n\u001b[2K\r| SGD | epoch: 001 | loss: 0.07846 - acc: 0.9813 -- iter: 09920/55000\n"
     ]
    },
    {
     "name": "stdout",
     "output_type": "stream",
     "text": [
      "Training Step: 497  | total loss: \u001b[1m\u001b[32m0.09085\u001b[0m\u001b[0m | time: 30.132s\n\u001b[2K\r| SGD | epoch: 001 | loss: 0.09085 - acc: 0.9732 -- iter: 09940/55000\n"
     ]
    },
    {
     "name": "stdout",
     "output_type": "stream",
     "text": [
      "Training Step: 498  | total loss: \u001b[1m\u001b[32m0.08461\u001b[0m\u001b[0m | time: 30.194s\n\u001b[2K\r| SGD | epoch: 001 | loss: 0.08461 - acc: 0.9759 -- iter: 09960/55000\n"
     ]
    },
    {
     "name": "stdout",
     "output_type": "stream",
     "text": [
      "Training Step: 499  | total loss: \u001b[1m\u001b[32m0.08609\u001b[0m\u001b[0m | time: 30.261s\n\u001b[2K\r| SGD | epoch: 001 | loss: 0.08609 - acc: 0.9733 -- iter: 09980/55000\n"
     ]
    },
    {
     "name": "stdout",
     "output_type": "stream",
     "text": [
      "Training Step: 500  | total loss: \u001b[1m\u001b[32m0.10747\u001b[0m\u001b[0m | time: 30.318s\n\u001b[2K\r| SGD | epoch: 001 | loss: 0.10747 - acc: 0.9610 -- iter: 10000/55000\n"
     ]
    },
    {
     "name": "stdout",
     "output_type": "stream",
     "text": [
      "Training Step: 501  | total loss: \u001b[1m\u001b[32m0.16429\u001b[0m\u001b[0m | time: 30.365s\n\u001b[2K\r| SGD | epoch: 001 | loss: 0.16429 - acc: 0.9499 -- iter: 10020/55000\n"
     ]
    },
    {
     "name": "stdout",
     "output_type": "stream",
     "text": [
      "Training Step: 502  | total loss: \u001b[1m\u001b[32m0.17520\u001b[0m\u001b[0m | time: 30.428s\n\u001b[2K\r| SGD | epoch: 001 | loss: 0.17520 - acc: 0.9499 -- iter: 10040/55000\n"
     ]
    },
    {
     "name": "stdout",
     "output_type": "stream",
     "text": [
      "Training Step: 503  | total loss: \u001b[1m\u001b[32m0.17035\u001b[0m\u001b[0m | time: 30.490s\n\u001b[2K\r| SGD | epoch: 001 | loss: 0.17035 - acc: 0.9499 -- iter: 10060/55000\n"
     ]
    },
    {
     "name": "stdout",
     "output_type": "stream",
     "text": [
      "Training Step: 504  | total loss: \u001b[1m\u001b[32m0.17205\u001b[0m\u001b[0m | time: 30.553s\n\u001b[2K\r| SGD | epoch: 001 | loss: 0.17205 - acc: 0.9499 -- iter: 10080/55000\n"
     ]
    },
    {
     "name": "stdout",
     "output_type": "stream",
     "text": [
      "Training Step: 505  | total loss: \u001b[1m\u001b[32m0.17158\u001b[0m\u001b[0m | time: 30.600s\n\u001b[2K\r| SGD | epoch: 001 | loss: 0.17158 - acc: 0.9449 -- iter: 10100/55000\n"
     ]
    },
    {
     "name": "stdout",
     "output_type": "stream",
     "text": [
      "Training Step: 506  | total loss: \u001b[1m\u001b[32m0.18577\u001b[0m\u001b[0m | time: 30.662s\n\u001b[2K\r| SGD | epoch: 001 | loss: 0.18577 - acc: 0.9454 -- iter: 10120/55000\n"
     ]
    },
    {
     "name": "stdout",
     "output_type": "stream",
     "text": [
      "Training Step: 507  | total loss: \u001b[1m\u001b[32m0.18522\u001b[0m\u001b[0m | time: 30.725s\n\u001b[2K\r| SGD | epoch: 001 | loss: 0.18522 - acc: 0.9459 -- iter: 10140/55000\n"
     ]
    },
    {
     "name": "stdout",
     "output_type": "stream",
     "text": [
      "Training Step: 508  | total loss: \u001b[1m\u001b[32m0.17614\u001b[0m\u001b[0m | time: 30.787s\n\u001b[2K\r| SGD | epoch: 001 | loss: 0.17614 - acc: 0.9463 -- iter: 10160/55000\n"
     ]
    },
    {
     "name": "stdout",
     "output_type": "stream",
     "text": [
      "Training Step: 509  | total loss: \u001b[1m\u001b[32m0.16625\u001b[0m\u001b[0m | time: 30.834s\n\u001b[2K\r| SGD | epoch: 001 | loss: 0.16625 - acc: 0.9467 -- iter: 10180/55000\n"
     ]
    },
    {
     "name": "stdout",
     "output_type": "stream",
     "text": [
      "Training Step: 510  | total loss: \u001b[1m\u001b[32m0.16295\u001b[0m\u001b[0m | time: 30.897s\n\u001b[2K\r| SGD | epoch: 001 | loss: 0.16295 - acc: 0.9470 -- iter: 10200/55000\n"
     ]
    },
    {
     "name": "stdout",
     "output_type": "stream",
     "text": [
      "Training Step: 511  | total loss: \u001b[1m\u001b[32m0.15337\u001b[0m\u001b[0m | time: 30.959s\n\u001b[2K\r| SGD | epoch: 001 | loss: 0.15337 - acc: 0.9523 -- iter: 10220/55000\n"
     ]
    },
    {
     "name": "stdout",
     "output_type": "stream",
     "text": [
      "Training Step: 512  | total loss: \u001b[1m\u001b[32m0.15393\u001b[0m\u001b[0m | time: 31.022s\n\u001b[2K\r| SGD | epoch: 001 | loss: 0.15393 - acc: 0.9521 -- iter: 10240/55000\n"
     ]
    },
    {
     "name": "stdout",
     "output_type": "stream",
     "text": [
      "Training Step: 513  | total loss: \u001b[1m\u001b[32m0.14758\u001b[0m\u001b[0m | time: 31.084s\n\u001b[2K\r| SGD | epoch: 001 | loss: 0.14758 - acc: 0.9569 -- iter: 10260/55000\n"
     ]
    },
    {
     "name": "stdout",
     "output_type": "stream",
     "text": [
      "Training Step: 514  | total loss: \u001b[1m\u001b[32m0.17108\u001b[0m\u001b[0m | time: 31.147s\n\u001b[2K\r| SGD | epoch: 001 | loss: 0.17108 - acc: 0.9562 -- iter: 10280/55000\n"
     ]
    },
    {
     "name": "stdout",
     "output_type": "stream",
     "text": [
      "Training Step: 515  | total loss: \u001b[1m\u001b[32m0.17487\u001b[0m\u001b[0m | time: 31.212s\n\u001b[2K\r| SGD | epoch: 001 | loss: 0.17487 - acc: 0.9506 -- iter: 10300/55000\n"
     ]
    },
    {
     "name": "stdout",
     "output_type": "stream",
     "text": [
      "Training Step: 516  | total loss: \u001b[1m\u001b[32m0.26902\u001b[0m\u001b[0m | time: 31.264s\n\u001b[2K\r| SGD | epoch: 001 | loss: 0.26902 - acc: 0.9405 -- iter: 10320/55000\n"
     ]
    },
    {
     "name": "stdout",
     "output_type": "stream",
     "text": [
      "Training Step: 517  | total loss: \u001b[1m\u001b[32m0.24845\u001b[0m\u001b[0m | time: 31.326s\n\u001b[2K\r| SGD | epoch: 001 | loss: 0.24845 - acc: 0.9465 -- iter: 10340/55000\n"
     ]
    },
    {
     "name": "stdout",
     "output_type": "stream",
     "text": [
      "Training Step: 518  | total loss: \u001b[1m\u001b[32m0.23263\u001b[0m\u001b[0m | time: 31.373s\n\u001b[2K\r| SGD | epoch: 001 | loss: 0.23263 - acc: 0.9518 -- iter: 10360/55000\n"
     ]
    },
    {
     "name": "stdout",
     "output_type": "stream",
     "text": [
      "Training Step: 519  | total loss: \u001b[1m\u001b[32m0.22519\u001b[0m\u001b[0m | time: 31.420s\n\u001b[2K\r| SGD | epoch: 001 | loss: 0.22519 - acc: 0.9516 -- iter: 10380/55000\n"
     ]
    },
    {
     "name": "stdout",
     "output_type": "stream",
     "text": [
      "Training Step: 520  | total loss: \u001b[1m\u001b[32m0.20429\u001b[0m\u001b[0m | time: 31.482s\n\u001b[2K\r| SGD | epoch: 001 | loss: 0.20429 - acc: 0.9565 -- iter: 10400/55000\n"
     ]
    },
    {
     "name": "stdout",
     "output_type": "stream",
     "text": [
      "Training Step: 521  | total loss: \u001b[1m\u001b[32m0.19519\u001b[0m\u001b[0m | time: 31.545s\n\u001b[2K\r| SGD | epoch: 001 | loss: 0.19519 - acc: 0.9558 -- iter: 10420/55000\n"
     ]
    },
    {
     "name": "stdout",
     "output_type": "stream",
     "text": [
      "Training Step: 522  | total loss: \u001b[1m\u001b[32m0.17857\u001b[0m\u001b[0m | time: 31.607s\n\u001b[2K\r| SGD | epoch: 001 | loss: 0.17857 - acc: 0.9602 -- iter: 10440/55000\n"
     ]
    },
    {
     "name": "stdout",
     "output_type": "stream",
     "text": [
      "Training Step: 523  | total loss: \u001b[1m\u001b[32m0.18468\u001b[0m\u001b[0m | time: 31.670s\n\u001b[2K\r| SGD | epoch: 001 | loss: 0.18468 - acc: 0.9592 -- iter: 10460/55000\n"
     ]
    },
    {
     "name": "stdout",
     "output_type": "stream",
     "text": [
      "Training Step: 524  | total loss: \u001b[1m\u001b[32m0.16941\u001b[0m\u001b[0m | time: 31.732s\n\u001b[2K\r| SGD | epoch: 001 | loss: 0.16941 - acc: 0.9633 -- iter: 10480/55000\n"
     ]
    },
    {
     "name": "stdout",
     "output_type": "stream",
     "text": [
      "Training Step: 525  | total loss: \u001b[1m\u001b[32m0.17124\u001b[0m\u001b[0m | time: 31.795s\n\u001b[2K\r| SGD | epoch: 001 | loss: 0.17124 - acc: 0.9620 -- iter: 10500/55000\n"
     ]
    },
    {
     "name": "stdout",
     "output_type": "stream",
     "text": [
      "Training Step: 526  | total loss: \u001b[1m\u001b[32m0.16391\u001b[0m\u001b[0m | time: 31.857s\n\u001b[2K\r| SGD | epoch: 001 | loss: 0.16391 - acc: 0.9608 -- iter: 10520/55000\n"
     ]
    },
    {
     "name": "stdout",
     "output_type": "stream",
     "text": [
      "Training Step: 527  | total loss: \u001b[1m\u001b[32m0.15035\u001b[0m\u001b[0m | time: 31.920s\n\u001b[2K\r| SGD | epoch: 001 | loss: 0.15035 - acc: 0.9647 -- iter: 10540/55000\n"
     ]
    },
    {
     "name": "stdout",
     "output_type": "stream",
     "text": [
      "Training Step: 528  | total loss: \u001b[1m\u001b[32m0.16242\u001b[0m\u001b[0m | time: 31.982s\n\u001b[2K\r| SGD | epoch: 001 | loss: 0.16242 - acc: 0.9582 -- iter: 10560/55000\n"
     ]
    },
    {
     "name": "stdout",
     "output_type": "stream",
     "text": [
      "Training Step: 529  | total loss: \u001b[1m\u001b[32m0.17249\u001b[0m\u001b[0m | time: 32.045s\n\u001b[2K\r| SGD | epoch: 001 | loss: 0.17249 - acc: 0.9474 -- iter: 10580/55000\n"
     ]
    },
    {
     "name": "stdout",
     "output_type": "stream",
     "text": [
      "Training Step: 530  | total loss: \u001b[1m\u001b[32m0.15968\u001b[0m\u001b[0m | time: 32.107s\n\u001b[2K\r| SGD | epoch: 001 | loss: 0.15968 - acc: 0.9527 -- iter: 10600/55000\n"
     ]
    },
    {
     "name": "stdout",
     "output_type": "stream",
     "text": [
      "Training Step: 531  | total loss: \u001b[1m\u001b[32m0.14811\u001b[0m\u001b[0m | time: 32.170s\n\u001b[2K\r| SGD | epoch: 001 | loss: 0.14811 - acc: 0.9574 -- iter: 10620/55000\n"
     ]
    },
    {
     "name": "stdout",
     "output_type": "stream",
     "text": [
      "Training Step: 532  | total loss: \u001b[1m\u001b[32m0.13416\u001b[0m\u001b[0m | time: 32.228s\n\u001b[2K\r| SGD | epoch: 001 | loss: 0.13416 - acc: 0.9617 -- iter: 10640/55000\n"
     ]
    },
    {
     "name": "stdout",
     "output_type": "stream",
     "text": [
      "Training Step: 533  | total loss: \u001b[1m\u001b[32m0.12784\u001b[0m\u001b[0m | time: 32.291s\n\u001b[2K\r| SGD | epoch: 001 | loss: 0.12784 - acc: 0.9655 -- iter: 10660/55000\n"
     ]
    },
    {
     "name": "stdout",
     "output_type": "stream",
     "text": [
      "Training Step: 534  | total loss: \u001b[1m\u001b[32m0.11796\u001b[0m\u001b[0m | time: 32.353s\n\u001b[2K\r| SGD | epoch: 001 | loss: 0.11796 - acc: 0.9689 -- iter: 10680/55000\n"
     ]
    },
    {
     "name": "stdout",
     "output_type": "stream",
     "text": [
      "Training Step: 535  | total loss: \u001b[1m\u001b[32m0.10678\u001b[0m\u001b[0m | time: 32.416s\n\u001b[2K\r| SGD | epoch: 001 | loss: 0.10678 - acc: 0.9720 -- iter: 10700/55000\n"
     ]
    },
    {
     "name": "stdout",
     "output_type": "stream",
     "text": [
      "Training Step: 536  | total loss: \u001b[1m\u001b[32m0.18110\u001b[0m\u001b[0m | time: 32.478s\n\u001b[2K\r| SGD | epoch: 001 | loss: 0.18110 - acc: 0.9548 -- iter: 10720/55000\n"
     ]
    },
    {
     "name": "stdout",
     "output_type": "stream",
     "text": [
      "Training Step: 537  | total loss: \u001b[1m\u001b[32m0.21693\u001b[0m\u001b[0m | time: 32.541s\n\u001b[2K\r| SGD | epoch: 001 | loss: 0.21693 - acc: 0.9394 -- iter: 10740/55000\n"
     ]
    },
    {
     "name": "stdout",
     "output_type": "stream",
     "text": [
      "Training Step: 538  | total loss: \u001b[1m\u001b[32m0.20549\u001b[0m\u001b[0m | time: 32.603s\n\u001b[2K\r| SGD | epoch: 001 | loss: 0.20549 - acc: 0.9404 -- iter: 10760/55000\n"
     ]
    },
    {
     "name": "stdout",
     "output_type": "stream",
     "text": [
      "Training Step: 539  | total loss: \u001b[1m\u001b[32m0.20541\u001b[0m\u001b[0m | time: 32.666s\n\u001b[2K\r| SGD | epoch: 001 | loss: 0.20541 - acc: 0.9414 -- iter: 10780/55000\n"
     ]
    },
    {
     "name": "stdout",
     "output_type": "stream",
     "text": [
      "Training Step: 540  | total loss: \u001b[1m\u001b[32m0.20370\u001b[0m\u001b[0m | time: 32.728s\n\u001b[2K\r| SGD | epoch: 001 | loss: 0.20370 - acc: 0.9372 -- iter: 10800/55000\n"
     ]
    },
    {
     "name": "stdout",
     "output_type": "stream",
     "text": [
      "Training Step: 541  | total loss: \u001b[1m\u001b[32m0.19336\u001b[0m\u001b[0m | time: 32.791s\n\u001b[2K\r| SGD | epoch: 001 | loss: 0.19336 - acc: 0.9385 -- iter: 10820/55000\n"
     ]
    },
    {
     "name": "stdout",
     "output_type": "stream",
     "text": [
      "Training Step: 542  | total loss: \u001b[1m\u001b[32m0.17896\u001b[0m\u001b[0m | time: 32.838s\n\u001b[2K\r| SGD | epoch: 001 | loss: 0.17896 - acc: 0.9447 -- iter: 10840/55000\n"
     ]
    },
    {
     "name": "stdout",
     "output_type": "stream",
     "text": [
      "Training Step: 543  | total loss: \u001b[1m\u001b[32m0.17960\u001b[0m\u001b[0m | time: 32.893s\n\u001b[2K\r| SGD | epoch: 001 | loss: 0.17960 - acc: 0.9452 -- iter: 10860/55000\n"
     ]
    },
    {
     "name": "stdout",
     "output_type": "stream",
     "text": [
      "Training Step: 544  | total loss: \u001b[1m\u001b[32m0.16709\u001b[0m\u001b[0m | time: 32.955s\n\u001b[2K\r| SGD | epoch: 001 | loss: 0.16709 - acc: 0.9507 -- iter: 10880/55000\n"
     ]
    },
    {
     "name": "stdout",
     "output_type": "stream",
     "text": [
      "Training Step: 545  | total loss: \u001b[1m\u001b[32m0.15669\u001b[0m\u001b[0m | time: 33.018s\n\u001b[2K\r| SGD | epoch: 001 | loss: 0.15669 - acc: 0.9556 -- iter: 10900/55000\n"
     ]
    },
    {
     "name": "stdout",
     "output_type": "stream",
     "text": [
      "Training Step: 546  | total loss: \u001b[1m\u001b[32m0.18274\u001b[0m\u001b[0m | time: 33.078s\n\u001b[2K\r| SGD | epoch: 001 | loss: 0.18274 - acc: 0.9450 -- iter: 10920/55000\n"
     ]
    },
    {
     "name": "stdout",
     "output_type": "stream",
     "text": [
      "Training Step: 547  | total loss: \u001b[1m\u001b[32m0.18444\u001b[0m\u001b[0m | time: 33.141s\n\u001b[2K\r| SGD | epoch: 001 | loss: 0.18444 - acc: 0.9405 -- iter: 10940/55000\n"
     ]
    },
    {
     "name": "stdout",
     "output_type": "stream",
     "text": [
      "Training Step: 548  | total loss: \u001b[1m\u001b[32m0.19267\u001b[0m\u001b[0m | time: 33.204s\n\u001b[2K\r| SGD | epoch: 001 | loss: 0.19267 - acc: 0.9365 -- iter: 10960/55000\n"
     ]
    },
    {
     "name": "stdout",
     "output_type": "stream",
     "text": [
      "Training Step: 549  | total loss: \u001b[1m\u001b[32m0.17926\u001b[0m\u001b[0m | time: 33.257s\n\u001b[2K\r| SGD | epoch: 001 | loss: 0.17926 - acc: 0.9428 -- iter: 10980/55000\n"
     ]
    },
    {
     "name": "stdout",
     "output_type": "stream",
     "text": [
      "Training Step: 550  | total loss: \u001b[1m\u001b[32m0.16224\u001b[0m\u001b[0m | time: 33.319s\n\u001b[2K\r| SGD | epoch: 001 | loss: 0.16224 - acc: 0.9486 -- iter: 11000/55000\n"
     ]
    },
    {
     "name": "stdout",
     "output_type": "stream",
     "text": [
      "Training Step: 551  | total loss: \u001b[1m\u001b[32m0.16299\u001b[0m\u001b[0m | time: 33.366s\n\u001b[2K\r| SGD | epoch: 001 | loss: 0.16299 - acc: 0.9487 -- iter: 11020/55000\n"
     ]
    },
    {
     "name": "stdout",
     "output_type": "stream",
     "text": [
      "Training Step: 552  | total loss: \u001b[1m\u001b[32m0.16547\u001b[0m\u001b[0m | time: 33.429s\n\u001b[2K\r| SGD | epoch: 001 | loss: 0.16547 - acc: 0.9438 -- iter: 11040/55000\n"
     ]
    },
    {
     "name": "stdout",
     "output_type": "stream",
     "text": [
      "Training Step: 553  | total loss: \u001b[1m\u001b[32m0.15637\u001b[0m\u001b[0m | time: 33.491s\n\u001b[2K\r| SGD | epoch: 001 | loss: 0.15637 - acc: 0.9444 -- iter: 11060/55000\n"
     ]
    },
    {
     "name": "stdout",
     "output_type": "stream",
     "text": [
      "Training Step: 554  | total loss: \u001b[1m\u001b[32m0.20814\u001b[0m\u001b[0m | time: 33.554s\n\u001b[2K\r| SGD | epoch: 001 | loss: 0.20814 - acc: 0.9350 -- iter: 11080/55000\n"
     ]
    },
    {
     "name": "stdout",
     "output_type": "stream",
     "text": [
      "Training Step: 555  | total loss: \u001b[1m\u001b[32m0.19773\u001b[0m\u001b[0m | time: 33.616s\n\u001b[2K\r| SGD | epoch: 001 | loss: 0.19773 - acc: 0.9415 -- iter: 11100/55000\n"
     ]
    },
    {
     "name": "stdout",
     "output_type": "stream",
     "text": [
      "Training Step: 556  | total loss: \u001b[1m\u001b[32m0.18275\u001b[0m\u001b[0m | time: 33.679s\n\u001b[2K\r| SGD | epoch: 001 | loss: 0.18275 - acc: 0.9474 -- iter: 11120/55000\n"
     ]
    },
    {
     "name": "stdout",
     "output_type": "stream",
     "text": [
      "Training Step: 557  | total loss: \u001b[1m\u001b[32m0.20702\u001b[0m\u001b[0m | time: 33.741s\n\u001b[2K\r| SGD | epoch: 001 | loss: 0.20702 - acc: 0.9426 -- iter: 11140/55000\n"
     ]
    },
    {
     "name": "stdout",
     "output_type": "stream",
     "text": [
      "Training Step: 558  | total loss: \u001b[1m\u001b[32m0.19615\u001b[0m\u001b[0m | time: 33.788s\n\u001b[2K\r| SGD | epoch: 001 | loss: 0.19615 - acc: 0.9484 -- iter: 11160/55000\n"
     ]
    },
    {
     "name": "stdout",
     "output_type": "stream",
     "text": [
      "Training Step: 559  | total loss: \u001b[1m\u001b[32m0.17925\u001b[0m\u001b[0m | time: 33.835s\n\u001b[2K\r| SGD | epoch: 001 | loss: 0.17925 - acc: 0.9535 -- iter: 11180/55000\n"
     ]
    },
    {
     "name": "stdout",
     "output_type": "stream",
     "text": [
      "Training Step: 560  | total loss: \u001b[1m\u001b[32m0.16752\u001b[0m\u001b[0m | time: 33.882s\n\u001b[2K\r| SGD | epoch: 001 | loss: 0.16752 - acc: 0.9582 -- iter: 11200/55000\n"
     ]
    },
    {
     "name": "stdout",
     "output_type": "stream",
     "text": [
      "Training Step: 561  | total loss: \u001b[1m\u001b[32m0.15567\u001b[0m\u001b[0m | time: 33.929s\n\u001b[2K\r| SGD | epoch: 001 | loss: 0.15567 - acc: 0.9624 -- iter: 11220/55000\n"
     ]
    },
    {
     "name": "stdout",
     "output_type": "stream",
     "text": [
      "Training Step: 562  | total loss: \u001b[1m\u001b[32m0.14377\u001b[0m\u001b[0m | time: 33.976s\n\u001b[2K\r| SGD | epoch: 001 | loss: 0.14377 - acc: 0.9661 -- iter: 11240/55000\n"
     ]
    },
    {
     "name": "stdout",
     "output_type": "stream",
     "text": [
      "Training Step: 563  | total loss: \u001b[1m\u001b[32m0.15232\u001b[0m\u001b[0m | time: 34.033s\n\u001b[2K\r| SGD | epoch: 001 | loss: 0.15232 - acc: 0.9645 -- iter: 11260/55000\n"
     ]
    },
    {
     "name": "stdout",
     "output_type": "stream",
     "text": [
      "Training Step: 564  | total loss: \u001b[1m\u001b[32m0.13867\u001b[0m\u001b[0m | time: 34.101s\n\u001b[2K\r| SGD | epoch: 001 | loss: 0.13867 - acc: 0.9681 -- iter: 11280/55000\n"
     ]
    },
    {
     "name": "stdout",
     "output_type": "stream",
     "text": [
      "Training Step: 565  | total loss: \u001b[1m\u001b[32m0.14015\u001b[0m\u001b[0m | time: 34.155s\n\u001b[2K\r| SGD | epoch: 001 | loss: 0.14015 - acc: 0.9662 -- iter: 11300/55000\n"
     ]
    },
    {
     "name": "stdout",
     "output_type": "stream",
     "text": [
      "Training Step: 566  | total loss: \u001b[1m\u001b[32m0.13351\u001b[0m\u001b[0m | time: 34.218s\n\u001b[2K\r| SGD | epoch: 001 | loss: 0.13351 - acc: 0.9696 -- iter: 11320/55000\n"
     ]
    },
    {
     "name": "stdout",
     "output_type": "stream",
     "text": [
      "Training Step: 567  | total loss: \u001b[1m\u001b[32m0.12759\u001b[0m\u001b[0m | time: 34.280s\n\u001b[2K\r| SGD | epoch: 001 | loss: 0.12759 - acc: 0.9677 -- iter: 11340/55000\n"
     ]
    },
    {
     "name": "stdout",
     "output_type": "stream",
     "text": [
      "Training Step: 568  | total loss: \u001b[1m\u001b[32m0.12900\u001b[0m\u001b[0m | time: 34.343s\n\u001b[2K\r| SGD | epoch: 001 | loss: 0.12900 - acc: 0.9659 -- iter: 11360/55000\n"
     ]
    },
    {
     "name": "stdout",
     "output_type": "stream",
     "text": [
      "Training Step: 569  | total loss: \u001b[1m\u001b[32m0.12262\u001b[0m\u001b[0m | time: 34.405s\n\u001b[2K\r| SGD | epoch: 001 | loss: 0.12262 - acc: 0.9643 -- iter: 11380/55000\n"
     ]
    },
    {
     "name": "stdout",
     "output_type": "stream",
     "text": [
      "Training Step: 570  | total loss: \u001b[1m\u001b[32m0.12487\u001b[0m\u001b[0m | time: 34.452s\n\u001b[2K\r| SGD | epoch: 001 | loss: 0.12487 - acc: 0.9629 -- iter: 11400/55000\n"
     ]
    },
    {
     "name": "stdout",
     "output_type": "stream",
     "text": [
      "Training Step: 571  | total loss: \u001b[1m\u001b[32m0.11705\u001b[0m\u001b[0m | time: 34.515s\n\u001b[2K\r| SGD | epoch: 001 | loss: 0.11705 - acc: 0.9666 -- iter: 11420/55000\n"
     ]
    },
    {
     "name": "stdout",
     "output_type": "stream",
     "text": [
      "Training Step: 572  | total loss: \u001b[1m\u001b[32m0.11392\u001b[0m\u001b[0m | time: 34.577s\n\u001b[2K\r| SGD | epoch: 001 | loss: 0.11392 - acc: 0.9649 -- iter: 11440/55000\n"
     ]
    },
    {
     "name": "stdout",
     "output_type": "stream",
     "text": [
      "Training Step: 573  | total loss: \u001b[1m\u001b[32m0.10350\u001b[0m\u001b[0m | time: 34.640s\n\u001b[2K\r| SGD | epoch: 001 | loss: 0.10350 - acc: 0.9684 -- iter: 11460/55000\n"
     ]
    },
    {
     "name": "stdout",
     "output_type": "stream",
     "text": [
      "Training Step: 574  | total loss: \u001b[1m\u001b[32m0.09580\u001b[0m\u001b[0m | time: 34.702s\n\u001b[2K\r| SGD | epoch: 001 | loss: 0.09580 - acc: 0.9716 -- iter: 11480/55000\n"
     ]
    },
    {
     "name": "stdout",
     "output_type": "stream",
     "text": [
      "Training Step: 575  | total loss: \u001b[1m\u001b[32m0.09001\u001b[0m\u001b[0m | time: 34.765s\n\u001b[2K\r| SGD | epoch: 001 | loss: 0.09001 - acc: 0.9744 -- iter: 11500/55000\n"
     ]
    },
    {
     "name": "stdout",
     "output_type": "stream",
     "text": [
      "Training Step: 576  | total loss: \u001b[1m\u001b[32m0.11179\u001b[0m\u001b[0m | time: 34.827s\n\u001b[2K\r| SGD | epoch: 001 | loss: 0.11179 - acc: 0.9720 -- iter: 11520/55000\n"
     ]
    },
    {
     "name": "stdout",
     "output_type": "stream",
     "text": [
      "Training Step: 577  | total loss: \u001b[1m\u001b[32m0.10083\u001b[0m\u001b[0m | time: 34.890s\n\u001b[2K\r| SGD | epoch: 001 | loss: 0.10083 - acc: 0.9748 -- iter: 11540/55000\n"
     ]
    },
    {
     "name": "stdout",
     "output_type": "stream",
     "text": [
      "Training Step: 578  | total loss: \u001b[1m\u001b[32m0.11293\u001b[0m\u001b[0m | time: 34.952s\n\u001b[2K\r| SGD | epoch: 001 | loss: 0.11293 - acc: 0.9673 -- iter: 11560/55000\n"
     ]
    },
    {
     "name": "stdout",
     "output_type": "stream",
     "text": [
      "Training Step: 579  | total loss: \u001b[1m\u001b[32m0.10319\u001b[0m\u001b[0m | time: 35.015s\n\u001b[2K\r| SGD | epoch: 001 | loss: 0.10319 - acc: 0.9706 -- iter: 11580/55000\n"
     ]
    },
    {
     "name": "stdout",
     "output_type": "stream",
     "text": [
      "Training Step: 580  | total loss: \u001b[1m\u001b[32m0.10115\u001b[0m\u001b[0m | time: 35.077s\n\u001b[2K\r| SGD | epoch: 001 | loss: 0.10115 - acc: 0.9685 -- iter: 11600/55000\n"
     ]
    },
    {
     "name": "stdout",
     "output_type": "stream",
     "text": [
      "Training Step: 581  | total loss: \u001b[1m\u001b[32m0.12575\u001b[0m\u001b[0m | time: 35.128s\n\u001b[2K\r| SGD | epoch: 001 | loss: 0.12575 - acc: 0.9617 -- iter: 11620/55000\n"
     ]
    },
    {
     "name": "stdout",
     "output_type": "stream",
     "text": [
      "Training Step: 582  | total loss: \u001b[1m\u001b[32m0.14159\u001b[0m\u001b[0m | time: 35.191s\n\u001b[2K\r| SGD | epoch: 001 | loss: 0.14159 - acc: 0.9555 -- iter: 11640/55000\n"
     ]
    },
    {
     "name": "stdout",
     "output_type": "stream",
     "text": [
      "Training Step: 583  | total loss: \u001b[1m\u001b[32m0.13706\u001b[0m\u001b[0m | time: 35.253s\n\u001b[2K\r| SGD | epoch: 001 | loss: 0.13706 - acc: 0.9550 -- iter: 11660/55000\n"
     ]
    },
    {
     "name": "stdout",
     "output_type": "stream",
     "text": [
      "Training Step: 584  | total loss: \u001b[1m\u001b[32m0.12457\u001b[0m\u001b[0m | time: 35.316s\n\u001b[2K\r| SGD | epoch: 001 | loss: 0.12457 - acc: 0.9595 -- iter: 11680/55000\n"
     ]
    },
    {
     "name": "stdout",
     "output_type": "stream",
     "text": [
      "Training Step: 585  | total loss: \u001b[1m\u001b[32m0.12354\u001b[0m\u001b[0m | time: 35.394s\n\u001b[2K\r| SGD | epoch: 001 | loss: 0.12354 - acc: 0.9535 -- iter: 11700/55000\n"
     ]
    },
    {
     "name": "stdout",
     "output_type": "stream",
     "text": [
      "Training Step: 586  | total loss: \u001b[1m\u001b[32m0.12786\u001b[0m\u001b[0m | time: 35.456s\n\u001b[2K\r| SGD | epoch: 001 | loss: 0.12786 - acc: 0.9532 -- iter: 11720/55000\n"
     ]
    },
    {
     "name": "stdout",
     "output_type": "stream",
     "text": [
      "Training Step: 587  | total loss: \u001b[1m\u001b[32m0.15732\u001b[0m\u001b[0m | time: 35.519s\n\u001b[2K\r| SGD | epoch: 001 | loss: 0.15732 - acc: 0.9528 -- iter: 11740/55000\n"
     ]
    },
    {
     "name": "stdout",
     "output_type": "stream",
     "text": [
      "Training Step: 588  | total loss: \u001b[1m\u001b[32m0.16280\u001b[0m\u001b[0m | time: 35.581s\n\u001b[2K\r| SGD | epoch: 001 | loss: 0.16280 - acc: 0.9426 -- iter: 11760/55000\n"
     ]
    },
    {
     "name": "stdout",
     "output_type": "stream",
     "text": [
      "Training Step: 589  | total loss: \u001b[1m\u001b[32m0.15101\u001b[0m\u001b[0m | time: 35.644s\n\u001b[2K\r| SGD | epoch: 001 | loss: 0.15101 - acc: 0.9483 -- iter: 11780/55000\n"
     ]
    },
    {
     "name": "stdout",
     "output_type": "stream",
     "text": [
      "Training Step: 590  | total loss: \u001b[1m\u001b[32m0.14096\u001b[0m\u001b[0m | time: 35.706s\n\u001b[2K\r| SGD | epoch: 001 | loss: 0.14096 - acc: 0.9535 -- iter: 11800/55000\n"
     ]
    },
    {
     "name": "stdout",
     "output_type": "stream",
     "text": [
      "Training Step: 591  | total loss: \u001b[1m\u001b[32m0.13051\u001b[0m\u001b[0m | time: 35.769s\n\u001b[2K\r| SGD | epoch: 001 | loss: 0.13051 - acc: 0.9581 -- iter: 11820/55000\n"
     ]
    },
    {
     "name": "stdout",
     "output_type": "stream",
     "text": [
      "Training Step: 592  | total loss: \u001b[1m\u001b[32m0.11821\u001b[0m\u001b[0m | time: 35.831s\n\u001b[2K\r| SGD | epoch: 001 | loss: 0.11821 - acc: 0.9623 -- iter: 11840/55000\n"
     ]
    },
    {
     "name": "stdout",
     "output_type": "stream",
     "text": [
      "Training Step: 593  | total loss: \u001b[1m\u001b[32m0.11205\u001b[0m\u001b[0m | time: 35.894s\n\u001b[2K\r| SGD | epoch: 001 | loss: 0.11205 - acc: 0.9661 -- iter: 11860/55000\n"
     ]
    },
    {
     "name": "stdout",
     "output_type": "stream",
     "text": [
      "Training Step: 594  | total loss: \u001b[1m\u001b[32m0.10223\u001b[0m\u001b[0m | time: 35.956s\n\u001b[2K\r| SGD | epoch: 001 | loss: 0.10223 - acc: 0.9695 -- iter: 11880/55000\n"
     ]
    },
    {
     "name": "stdout",
     "output_type": "stream",
     "text": [
      "Training Step: 595  | total loss: \u001b[1m\u001b[32m0.09922\u001b[0m\u001b[0m | time: 36.023s\n\u001b[2K\r| SGD | epoch: 001 | loss: 0.09922 - acc: 0.9675 -- iter: 11900/55000\n"
     ]
    },
    {
     "name": "stdout",
     "output_type": "stream",
     "text": [
      "Training Step: 596  | total loss: \u001b[1m\u001b[32m0.10262\u001b[0m\u001b[0m | time: 36.076s\n\u001b[2K\r| SGD | epoch: 001 | loss: 0.10262 - acc: 0.9658 -- iter: 11920/55000\n"
     ]
    },
    {
     "name": "stdout",
     "output_type": "stream",
     "text": [
      "Training Step: 597  | total loss: \u001b[1m\u001b[32m0.09310\u001b[0m\u001b[0m | time: 36.138s\n\u001b[2K\r| SGD | epoch: 001 | loss: 0.09310 - acc: 0.9692 -- iter: 11940/55000\n"
     ]
    },
    {
     "name": "stdout",
     "output_type": "stream",
     "text": [
      "Training Step: 598  | total loss: \u001b[1m\u001b[32m0.09151\u001b[0m\u001b[0m | time: 36.201s\n\u001b[2K\r| SGD | epoch: 001 | loss: 0.09151 - acc: 0.9673 -- iter: 11960/55000\n"
     ]
    },
    {
     "name": "stdout",
     "output_type": "stream",
     "text": [
      "Training Step: 599  | total loss: \u001b[1m\u001b[32m0.08521\u001b[0m\u001b[0m | time: 36.263s\n\u001b[2K\r| SGD | epoch: 001 | loss: 0.08521 - acc: 0.9705 -- iter: 11980/55000\n"
     ]
    },
    {
     "name": "stdout",
     "output_type": "stream",
     "text": [
      "Training Step: 600  | total loss: \u001b[1m\u001b[32m0.08217\u001b[0m\u001b[0m | time: 36.341s\n\u001b[2K\r| SGD | epoch: 001 | loss: 0.08217 - acc: 0.9735 -- iter: 12000/55000\n"
     ]
    },
    {
     "name": "stdout",
     "output_type": "stream",
     "text": [
      "Training Step: 601  | total loss: \u001b[1m\u001b[32m0.09460\u001b[0m\u001b[0m | time: 36.404s\n\u001b[2K\r| SGD | epoch: 001 | loss: 0.09460 - acc: 0.9711 -- iter: 12020/55000\n"
     ]
    },
    {
     "name": "stdout",
     "output_type": "stream",
     "text": [
      "Training Step: 602  | total loss: \u001b[1m\u001b[32m0.09188\u001b[0m\u001b[0m | time: 36.466s\n\u001b[2K\r| SGD | epoch: 001 | loss: 0.09188 - acc: 0.9690 -- iter: 12040/55000\n"
     ]
    },
    {
     "name": "stdout",
     "output_type": "stream",
     "text": [
      "Training Step: 603  | total loss: \u001b[1m\u001b[32m0.09553\u001b[0m\u001b[0m | time: 36.529s\n\u001b[2K\r| SGD | epoch: 001 | loss: 0.09553 - acc: 0.9621 -- iter: 12060/55000\n"
     ]
    },
    {
     "name": "stdout",
     "output_type": "stream",
     "text": [
      "Training Step: 604  | total loss: \u001b[1m\u001b[32m0.09766\u001b[0m\u001b[0m | time: 36.591s\n\u001b[2K\r| SGD | epoch: 001 | loss: 0.09766 - acc: 0.9609 -- iter: 12080/55000\n"
     ]
    },
    {
     "name": "stdout",
     "output_type": "stream",
     "text": [
      "Training Step: 605  | total loss: \u001b[1m\u001b[32m0.08943\u001b[0m\u001b[0m | time: 36.654s\n\u001b[2K\r| SGD | epoch: 001 | loss: 0.08943 - acc: 0.9648 -- iter: 12100/55000\n"
     ]
    },
    {
     "name": "stdout",
     "output_type": "stream",
     "text": [
      "Training Step: 606  | total loss: \u001b[1m\u001b[32m0.08341\u001b[0m\u001b[0m | time: 36.716s\n\u001b[2K\r| SGD | epoch: 001 | loss: 0.08341 - acc: 0.9683 -- iter: 12120/55000\n"
     ]
    },
    {
     "name": "stdout",
     "output_type": "stream",
     "text": [
      "Training Step: 607  | total loss: \u001b[1m\u001b[32m0.10997\u001b[0m\u001b[0m | time: 36.779s\n\u001b[2K\r| SGD | epoch: 001 | loss: 0.10997 - acc: 0.9565 -- iter: 12140/55000\n"
     ]
    },
    {
     "name": "stdout",
     "output_type": "stream",
     "text": [
      "Training Step: 608  | total loss: \u001b[1m\u001b[32m0.12820\u001b[0m\u001b[0m | time: 36.841s\n\u001b[2K\r| SGD | epoch: 001 | loss: 0.12820 - acc: 0.9559 -- iter: 12160/55000\n"
     ]
    },
    {
     "name": "stdout",
     "output_type": "stream",
     "text": [
      "Training Step: 609  | total loss: \u001b[1m\u001b[32m0.12210\u001b[0m\u001b[0m | time: 36.904s\n\u001b[2K\r| SGD | epoch: 001 | loss: 0.12210 - acc: 0.9603 -- iter: 12180/55000\n"
     ]
    },
    {
     "name": "stdout",
     "output_type": "stream",
     "text": [
      "Training Step: 610  | total loss: \u001b[1m\u001b[32m0.11890\u001b[0m\u001b[0m | time: 36.975s\n\u001b[2K\r| SGD | epoch: 001 | loss: 0.11890 - acc: 0.9592 -- iter: 12200/55000\n"
     ]
    },
    {
     "name": "stdout",
     "output_type": "stream",
     "text": [
      "Training Step: 611  | total loss: \u001b[1m\u001b[32m0.11861\u001b[0m\u001b[0m | time: 37.033s\n\u001b[2K\r| SGD | epoch: 001 | loss: 0.11861 - acc: 0.9583 -- iter: 12220/55000\n"
     ]
    },
    {
     "name": "stdout",
     "output_type": "stream",
     "text": [
      "Training Step: 612  | total loss: \u001b[1m\u001b[32m0.11402\u001b[0m\u001b[0m | time: 37.095s\n\u001b[2K\r| SGD | epoch: 001 | loss: 0.11402 - acc: 0.9575 -- iter: 12240/55000\n"
     ]
    },
    {
     "name": "stdout",
     "output_type": "stream",
     "text": [
      "Training Step: 613  | total loss: \u001b[1m\u001b[32m0.10947\u001b[0m\u001b[0m | time: 37.158s\n\u001b[2K\r| SGD | epoch: 001 | loss: 0.10947 - acc: 0.9617 -- iter: 12260/55000\n"
     ]
    },
    {
     "name": "stdout",
     "output_type": "stream",
     "text": [
      "Training Step: 614  | total loss: \u001b[1m\u001b[32m0.10263\u001b[0m\u001b[0m | time: 37.220s\n\u001b[2K\r| SGD | epoch: 001 | loss: 0.10263 - acc: 0.9656 -- iter: 12280/55000\n"
     ]
    },
    {
     "name": "stdout",
     "output_type": "stream",
     "text": [
      "Training Step: 615  | total loss: \u001b[1m\u001b[32m0.10075\u001b[0m\u001b[0m | time: 37.283s\n\u001b[2K\r| SGD | epoch: 001 | loss: 0.10075 - acc: 0.9640 -- iter: 12300/55000\n"
     ]
    },
    {
     "name": "stdout",
     "output_type": "stream",
     "text": [
      "Training Step: 616  | total loss: \u001b[1m\u001b[32m0.09163\u001b[0m\u001b[0m | time: 37.345s\n\u001b[2K\r| SGD | epoch: 001 | loss: 0.09163 - acc: 0.9676 -- iter: 12320/55000\n"
     ]
    },
    {
     "name": "stdout",
     "output_type": "stream",
     "text": [
      "Training Step: 617  | total loss: \u001b[1m\u001b[32m0.10824\u001b[0m\u001b[0m | time: 37.408s\n\u001b[2K\r| SGD | epoch: 001 | loss: 0.10824 - acc: 0.9658 -- iter: 12340/55000\n"
     ]
    },
    {
     "name": "stdout",
     "output_type": "stream",
     "text": [
      "Training Step: 618  | total loss: \u001b[1m\u001b[32m0.10365\u001b[0m\u001b[0m | time: 37.470s\n\u001b[2K\r| SGD | epoch: 001 | loss: 0.10365 - acc: 0.9643 -- iter: 12360/55000\n"
     ]
    },
    {
     "name": "stdout",
     "output_type": "stream",
     "text": [
      "Training Step: 619  | total loss: \u001b[1m\u001b[32m0.10589\u001b[0m\u001b[0m | time: 37.533s\n\u001b[2K\r| SGD | epoch: 001 | loss: 0.10589 - acc: 0.9578 -- iter: 12380/55000\n"
     ]
    },
    {
     "name": "stdout",
     "output_type": "stream",
     "text": [
      "Training Step: 620  | total loss: \u001b[1m\u001b[32m0.10152\u001b[0m\u001b[0m | time: 37.595s\n\u001b[2K\r| SGD | epoch: 001 | loss: 0.10152 - acc: 0.9621 -- iter: 12400/55000\n"
     ]
    },
    {
     "name": "stdout",
     "output_type": "stream",
     "text": [
      "Training Step: 621  | total loss: \u001b[1m\u001b[32m0.09538\u001b[0m\u001b[0m | time: 37.658s\n\u001b[2K\r| SGD | epoch: 001 | loss: 0.09538 - acc: 0.9658 -- iter: 12420/55000\n"
     ]
    },
    {
     "name": "stdout",
     "output_type": "stream",
     "text": [
      "Training Step: 622  | total loss: \u001b[1m\u001b[32m0.09465\u001b[0m\u001b[0m | time: 37.720s\n\u001b[2K\r| SGD | epoch: 001 | loss: 0.09465 - acc: 0.9643 -- iter: 12440/55000\n"
     ]
    },
    {
     "name": "stdout",
     "output_type": "stream",
     "text": [
      "Training Step: 623  | total loss: \u001b[1m\u001b[32m0.10117\u001b[0m\u001b[0m | time: 37.783s\n\u001b[2K\r| SGD | epoch: 001 | loss: 0.10117 - acc: 0.9628 -- iter: 12460/55000\n"
     ]
    },
    {
     "name": "stdout",
     "output_type": "stream",
     "text": [
      "Training Step: 624  | total loss: \u001b[1m\u001b[32m0.09557\u001b[0m\u001b[0m | time: 37.845s\n\u001b[2K\r| SGD | epoch: 001 | loss: 0.09557 - acc: 0.9666 -- iter: 12480/55000\n"
     ]
    },
    {
     "name": "stdout",
     "output_type": "stream",
     "text": [
      "Training Step: 625  | total loss: \u001b[1m\u001b[32m0.09729\u001b[0m\u001b[0m | time: 37.908s\n\u001b[2K\r| SGD | epoch: 001 | loss: 0.09729 - acc: 0.9649 -- iter: 12500/55000\n"
     ]
    },
    {
     "name": "stdout",
     "output_type": "stream",
     "text": [
      "Training Step: 626  | total loss: \u001b[1m\u001b[32m0.14338\u001b[0m\u001b[0m | time: 37.970s\n\u001b[2K\r| SGD | epoch: 001 | loss: 0.14338 - acc: 0.9584 -- iter: 12520/55000\n"
     ]
    },
    {
     "name": "stdout",
     "output_type": "stream",
     "text": [
      "Training Step: 627  | total loss: \u001b[1m\u001b[32m0.13704\u001b[0m\u001b[0m | time: 38.021s\n\u001b[2K\r| SGD | epoch: 001 | loss: 0.13704 - acc: 0.9576 -- iter: 12540/55000\n"
     ]
    },
    {
     "name": "stdout",
     "output_type": "stream",
     "text": [
      "Training Step: 628  | total loss: \u001b[1m\u001b[32m0.14731\u001b[0m\u001b[0m | time: 38.099s\n\u001b[2K\r| SGD | epoch: 001 | loss: 0.14731 - acc: 0.9518 -- iter: 12560/55000\n"
     ]
    },
    {
     "name": "stdout",
     "output_type": "stream",
     "text": [
      "Training Step: 629  | total loss: \u001b[1m\u001b[32m0.13779\u001b[0m\u001b[0m | time: 38.177s\n\u001b[2K\r| SGD | epoch: 001 | loss: 0.13779 - acc: 0.9566 -- iter: 12580/55000\n"
     ]
    },
    {
     "name": "stdout",
     "output_type": "stream",
     "text": [
      "Training Step: 630  | total loss: \u001b[1m\u001b[32m0.13166\u001b[0m\u001b[0m | time: 38.240s\n\u001b[2K\r| SGD | epoch: 001 | loss: 0.13166 - acc: 0.9610 -- iter: 12600/55000\n"
     ]
    },
    {
     "name": "stdout",
     "output_type": "stream",
     "text": [
      "Training Step: 631  | total loss: \u001b[1m\u001b[32m0.12274\u001b[0m\u001b[0m | time: 38.302s\n\u001b[2K\r| SGD | epoch: 001 | loss: 0.12274 - acc: 0.9649 -- iter: 12620/55000\n"
     ]
    },
    {
     "name": "stdout",
     "output_type": "stream",
     "text": [
      "Training Step: 632  | total loss: \u001b[1m\u001b[32m0.11872\u001b[0m\u001b[0m | time: 38.365s\n\u001b[2K\r| SGD | epoch: 001 | loss: 0.11872 - acc: 0.9634 -- iter: 12640/55000\n"
     ]
    },
    {
     "name": "stdout",
     "output_type": "stream",
     "text": [
      "Training Step: 633  | total loss: \u001b[1m\u001b[32m0.11101\u001b[0m\u001b[0m | time: 38.427s\n\u001b[2K\r| SGD | epoch: 001 | loss: 0.11101 - acc: 0.9670 -- iter: 12660/55000\n"
     ]
    },
    {
     "name": "stdout",
     "output_type": "stream",
     "text": [
      "Training Step: 634  | total loss: \u001b[1m\u001b[32m0.10889\u001b[0m\u001b[0m | time: 38.490s\n\u001b[2K\r| SGD | epoch: 001 | loss: 0.10889 - acc: 0.9653 -- iter: 12680/55000\n"
     ]
    },
    {
     "name": "stdout",
     "output_type": "stream",
     "text": [
      "Training Step: 635  | total loss: \u001b[1m\u001b[32m0.10839\u001b[0m\u001b[0m | time: 38.552s\n\u001b[2K\r| SGD | epoch: 001 | loss: 0.10839 - acc: 0.9588 -- iter: 12700/55000\n"
     ]
    },
    {
     "name": "stdout",
     "output_type": "stream",
     "text": [
      "Training Step: 636  | total loss: \u001b[1m\u001b[32m0.13063\u001b[0m\u001b[0m | time: 38.615s\n\u001b[2K\r| SGD | epoch: 001 | loss: 0.13063 - acc: 0.9429 -- iter: 12720/55000\n"
     ]
    },
    {
     "name": "stdout",
     "output_type": "stream",
     "text": [
      "Training Step: 637  | total loss: \u001b[1m\u001b[32m0.11781\u001b[0m\u001b[0m | time: 38.677s\n\u001b[2K\r| SGD | epoch: 001 | loss: 0.11781 - acc: 0.9486 -- iter: 12740/55000\n"
     ]
    },
    {
     "name": "stdout",
     "output_type": "stream",
     "text": [
      "Training Step: 638  | total loss: \u001b[1m\u001b[32m0.11051\u001b[0m\u001b[0m | time: 38.755s\n\u001b[2K\r| SGD | epoch: 001 | loss: 0.11051 - acc: 0.9538 -- iter: 12760/55000\n"
     ]
    },
    {
     "name": "stdout",
     "output_type": "stream",
     "text": [
      "Training Step: 639  | total loss: \u001b[1m\u001b[32m0.10327\u001b[0m\u001b[0m | time: 38.818s\n\u001b[2K\r| SGD | epoch: 001 | loss: 0.10327 - acc: 0.9584 -- iter: 12780/55000\n"
     ]
    },
    {
     "name": "stdout",
     "output_type": "stream",
     "text": [
      "Training Step: 640  | total loss: \u001b[1m\u001b[32m0.12135\u001b[0m\u001b[0m | time: 38.880s\n\u001b[2K\r| SGD | epoch: 001 | loss: 0.12135 - acc: 0.9526 -- iter: 12800/55000\n"
     ]
    },
    {
     "name": "stdout",
     "output_type": "stream",
     "text": [
      "Training Step: 641  | total loss: \u001b[1m\u001b[32m0.11221\u001b[0m\u001b[0m | time: 38.947s\n\u001b[2K\r| SGD | epoch: 001 | loss: 0.11221 - acc: 0.9573 -- iter: 12820/55000\n"
     ]
    },
    {
     "name": "stdout",
     "output_type": "stream",
     "text": [
      "Training Step: 642  | total loss: \u001b[1m\u001b[32m0.10927\u001b[0m\u001b[0m | time: 39.004s\n\u001b[2K\r| SGD | epoch: 001 | loss: 0.10927 - acc: 0.9566 -- iter: 12840/55000\n"
     ]
    },
    {
     "name": "stdout",
     "output_type": "stream",
     "text": [
      "Training Step: 643  | total loss: \u001b[1m\u001b[32m0.10056\u001b[0m\u001b[0m | time: 39.067s\n\u001b[2K\r| SGD | epoch: 001 | loss: 0.10056 - acc: 0.9609 -- iter: 12860/55000\n"
     ]
    },
    {
     "name": "stdout",
     "output_type": "stream",
     "text": [
      "Training Step: 644  | total loss: \u001b[1m\u001b[32m0.09224\u001b[0m\u001b[0m | time: 39.129s\n\u001b[2K\r| SGD | epoch: 001 | loss: 0.09224 - acc: 0.9648 -- iter: 12880/55000\n"
     ]
    },
    {
     "name": "stdout",
     "output_type": "stream",
     "text": [
      "Training Step: 645  | total loss: \u001b[1m\u001b[32m0.09005\u001b[0m\u001b[0m | time: 39.192s\n\u001b[2K\r| SGD | epoch: 001 | loss: 0.09005 - acc: 0.9633 -- iter: 12900/55000\n"
     ]
    },
    {
     "name": "stdout",
     "output_type": "stream",
     "text": [
      "Training Step: 646  | total loss: \u001b[1m\u001b[32m0.08387\u001b[0m\u001b[0m | time: 39.254s\n\u001b[2K\r| SGD | epoch: 001 | loss: 0.08387 - acc: 0.9670 -- iter: 12920/55000\n"
     ]
    },
    {
     "name": "stdout",
     "output_type": "stream",
     "text": [
      "Training Step: 647  | total loss: \u001b[1m\u001b[32m0.07557\u001b[0m\u001b[0m | time: 39.317s\n\u001b[2K\r| SGD | epoch: 001 | loss: 0.07557 - acc: 0.9703 -- iter: 12940/55000\n"
     ]
    },
    {
     "name": "stdout",
     "output_type": "stream",
     "text": [
      "Training Step: 648  | total loss: \u001b[1m\u001b[32m0.07856\u001b[0m\u001b[0m | time: 39.395s\n\u001b[2K\r| SGD | epoch: 001 | loss: 0.07856 - acc: 0.9683 -- iter: 12960/55000\n"
     ]
    },
    {
     "name": "stdout",
     "output_type": "stream",
     "text": [
      "Training Step: 649  | total loss: \u001b[1m\u001b[32m0.08268\u001b[0m\u001b[0m | time: 39.457s\n\u001b[2K\r| SGD | epoch: 001 | loss: 0.08268 - acc: 0.9664 -- iter: 12980/55000\n"
     ]
    },
    {
     "name": "stdout",
     "output_type": "stream",
     "text": [
      "Training Step: 650  | total loss: \u001b[1m\u001b[32m0.07686\u001b[0m\u001b[0m | time: 39.520s\n\u001b[2K\r| SGD | epoch: 001 | loss: 0.07686 - acc: 0.9698 -- iter: 13000/55000\n"
     ]
    },
    {
     "name": "stdout",
     "output_type": "stream",
     "text": [
      "Training Step: 651  | total loss: \u001b[1m\u001b[32m0.08017\u001b[0m\u001b[0m | time: 39.582s\n\u001b[2K\r| SGD | epoch: 001 | loss: 0.08017 - acc: 0.9678 -- iter: 13020/55000\n"
     ]
    },
    {
     "name": "stdout",
     "output_type": "stream",
     "text": [
      "Training Step: 652  | total loss: \u001b[1m\u001b[32m0.07548\u001b[0m\u001b[0m | time: 39.645s\n\u001b[2K\r| SGD | epoch: 001 | loss: 0.07548 - acc: 0.9710 -- iter: 13040/55000\n"
     ]
    },
    {
     "name": "stdout",
     "output_type": "stream",
     "text": [
      "Training Step: 653  | total loss: \u001b[1m\u001b[32m0.07676\u001b[0m\u001b[0m | time: 39.707s\n\u001b[2K\r| SGD | epoch: 001 | loss: 0.07676 - acc: 0.9689 -- iter: 13060/55000\n"
     ]
    },
    {
     "name": "stdout",
     "output_type": "stream",
     "text": [
      "Training Step: 654  | total loss: \u001b[1m\u001b[32m0.07214\u001b[0m\u001b[0m | time: 39.770s\n\u001b[2K\r| SGD | epoch: 001 | loss: 0.07214 - acc: 0.9720 -- iter: 13080/55000\n"
     ]
    },
    {
     "name": "stdout",
     "output_type": "stream",
     "text": [
      "Training Step: 655  | total loss: \u001b[1m\u001b[32m0.07546\u001b[0m\u001b[0m | time: 39.832s\n\u001b[2K\r| SGD | epoch: 001 | loss: 0.07546 - acc: 0.9698 -- iter: 13100/55000\n"
     ]
    },
    {
     "name": "stdout",
     "output_type": "stream",
     "text": [
      "Training Step: 656  | total loss: \u001b[1m\u001b[32m0.07836\u001b[0m\u001b[0m | time: 39.895s\n\u001b[2K\r| SGD | epoch: 001 | loss: 0.07836 - acc: 0.9679 -- iter: 13120/55000\n"
     ]
    },
    {
     "name": "stdout",
     "output_type": "stream",
     "text": [
      "Training Step: 657  | total loss: \u001b[1m\u001b[32m0.07307\u001b[0m\u001b[0m | time: 39.962s\n\u001b[2K\r| SGD | epoch: 001 | loss: 0.07307 - acc: 0.9711 -- iter: 13140/55000\n"
     ]
    },
    {
     "name": "stdout",
     "output_type": "stream",
     "text": [
      "Training Step: 658  | total loss: \u001b[1m\u001b[32m0.06607\u001b[0m\u001b[0m | time: 40.017s\n\u001b[2K\r| SGD | epoch: 001 | loss: 0.06607 - acc: 0.9740 -- iter: 13160/55000\n"
     ]
    },
    {
     "name": "stdout",
     "output_type": "stream",
     "text": [
      "Training Step: 659  | total loss: \u001b[1m\u001b[32m0.06250\u001b[0m\u001b[0m | time: 40.079s\n\u001b[2K\r| SGD | epoch: 001 | loss: 0.06250 - acc: 0.9766 -- iter: 13180/55000\n"
     ]
    },
    {
     "name": "stdout",
     "output_type": "stream",
     "text": [
      "Training Step: 660  | total loss: \u001b[1m\u001b[32m0.08235\u001b[0m\u001b[0m | time: 40.142s\n\u001b[2K\r| SGD | epoch: 001 | loss: 0.08235 - acc: 0.9739 -- iter: 13200/55000\n"
     ]
    },
    {
     "name": "stdout",
     "output_type": "stream",
     "text": [
      "Training Step: 661  | total loss: \u001b[1m\u001b[32m0.08100\u001b[0m\u001b[0m | time: 40.204s\n\u001b[2K\r| SGD | epoch: 001 | loss: 0.08100 - acc: 0.9715 -- iter: 13220/55000\n"
     ]
    },
    {
     "name": "stdout",
     "output_type": "stream",
     "text": [
      "Training Step: 662  | total loss: \u001b[1m\u001b[32m0.09179\u001b[0m\u001b[0m | time: 40.267s\n\u001b[2K\r| SGD | epoch: 001 | loss: 0.09179 - acc: 0.9644 -- iter: 13240/55000\n"
     ]
    },
    {
     "name": "stdout",
     "output_type": "stream",
     "text": [
      "Training Step: 663  | total loss: \u001b[1m\u001b[32m0.08878\u001b[0m\u001b[0m | time: 40.329s\n\u001b[2K\r| SGD | epoch: 001 | loss: 0.08878 - acc: 0.9629 -- iter: 13260/55000\n"
     ]
    },
    {
     "name": "stdout",
     "output_type": "stream",
     "text": [
      "Training Step: 664  | total loss: \u001b[1m\u001b[32m0.09689\u001b[0m\u001b[0m | time: 40.376s\n\u001b[2K\r| SGD | epoch: 001 | loss: 0.09689 - acc: 0.9566 -- iter: 13280/55000\n"
     ]
    },
    {
     "name": "stdout",
     "output_type": "stream",
     "text": [
      "Training Step: 665  | total loss: \u001b[1m\u001b[32m0.11333\u001b[0m\u001b[0m | time: 40.423s\n\u001b[2K\r| SGD | epoch: 001 | loss: 0.11333 - acc: 0.9510 -- iter: 13300/55000\n"
     ]
    },
    {
     "name": "stdout",
     "output_type": "stream",
     "text": [
      "Training Step: 666  | total loss: \u001b[1m\u001b[32m0.10282\u001b[0m\u001b[0m | time: 40.470s\n\u001b[2K\r| SGD | epoch: 001 | loss: 0.10282 - acc: 0.9559 -- iter: 13320/55000\n"
     ]
    },
    {
     "name": "stdout",
     "output_type": "stream",
     "text": [
      "Training Step: 667  | total loss: \u001b[1m\u001b[32m0.10424\u001b[0m\u001b[0m | time: 40.517s\n\u001b[2K\r| SGD | epoch: 001 | loss: 0.10424 - acc: 0.9553 -- iter: 13340/55000\n"
     ]
    },
    {
     "name": "stdout",
     "output_type": "stream",
     "text": [
      "Training Step: 668  | total loss: \u001b[1m\u001b[32m0.09765\u001b[0m\u001b[0m | time: 40.564s\n\u001b[2K\r| SGD | epoch: 001 | loss: 0.09765 - acc: 0.9598 -- iter: 13360/55000\n"
     ]
    },
    {
     "name": "stdout",
     "output_type": "stream",
     "text": [
      "Training Step: 669  | total loss: \u001b[1m\u001b[32m0.08884\u001b[0m\u001b[0m | time: 40.626s\n\u001b[2K\r| SGD | epoch: 001 | loss: 0.08884 - acc: 0.9638 -- iter: 13380/55000\n"
     ]
    },
    {
     "name": "stdout",
     "output_type": "stream",
     "text": [
      "Training Step: 670  | total loss: \u001b[1m\u001b[32m0.08173\u001b[0m\u001b[0m | time: 40.689s\n\u001b[2K\r| SGD | epoch: 001 | loss: 0.08173 - acc: 0.9674 -- iter: 13400/55000\n"
     ]
    },
    {
     "name": "stdout",
     "output_type": "stream",
     "text": [
      "Training Step: 671  | total loss: \u001b[1m\u001b[32m0.07376\u001b[0m\u001b[0m | time: 40.751s\n\u001b[2K\r| SGD | epoch: 001 | loss: 0.07376 - acc: 0.9707 -- iter: 13420/55000\n"
     ]
    },
    {
     "name": "stdout",
     "output_type": "stream",
     "text": [
      "Training Step: 672  | total loss: \u001b[1m\u001b[32m0.08681\u001b[0m\u001b[0m | time: 40.814s\n\u001b[2K\r| SGD | epoch: 001 | loss: 0.08681 - acc: 0.9686 -- iter: 13440/55000\n"
     ]
    },
    {
     "name": "stdout",
     "output_type": "stream",
     "text": [
      "Training Step: 673  | total loss: \u001b[1m\u001b[32m0.12979\u001b[0m\u001b[0m | time: 40.877s\n\u001b[2K\r| SGD | epoch: 001 | loss: 0.12979 - acc: 0.9567 -- iter: 13460/55000\n"
     ]
    },
    {
     "name": "stdout",
     "output_type": "stream",
     "text": [
      "Training Step: 674  | total loss: \u001b[1m\u001b[32m0.12520\u001b[0m\u001b[0m | time: 40.933s\n\u001b[2K\r| SGD | epoch: 001 | loss: 0.12520 - acc: 0.9611 -- iter: 13480/55000\n"
     ]
    },
    {
     "name": "stdout",
     "output_type": "stream",
     "text": [
      "Training Step: 675  | total loss: \u001b[1m\u001b[32m0.11305\u001b[0m\u001b[0m | time: 41.011s\n\u001b[2K\r| SGD | epoch: 001 | loss: 0.11305 - acc: 0.9650 -- iter: 13500/55000\n"
     ]
    },
    {
     "name": "stdout",
     "output_type": "stream",
     "text": [
      "Training Step: 676  | total loss: \u001b[1m\u001b[32m0.10408\u001b[0m\u001b[0m | time: 41.074s\n\u001b[2K\r| SGD | epoch: 001 | loss: 0.10408 - acc: 0.9685 -- iter: 13520/55000\n"
     ]
    },
    {
     "name": "stdout",
     "output_type": "stream",
     "text": [
      "Training Step: 677  | total loss: \u001b[1m\u001b[32m0.09628\u001b[0m\u001b[0m | time: 41.152s\n\u001b[2K\r| SGD | epoch: 001 | loss: 0.09628 - acc: 0.9716 -- iter: 13540/55000\n"
     ]
    },
    {
     "name": "stdout",
     "output_type": "stream",
     "text": [
      "Training Step: 678  | total loss: \u001b[1m\u001b[32m0.09953\u001b[0m\u001b[0m | time: 41.207s\n\u001b[2K\r| SGD | epoch: 001 | loss: 0.09953 - acc: 0.9645 -- iter: 13560/55000\n"
     ]
    },
    {
     "name": "stdout",
     "output_type": "stream",
     "text": [
      "Training Step: 679  | total loss: \u001b[1m\u001b[32m0.09600\u001b[0m\u001b[0m | time: 41.269s\n\u001b[2K\r| SGD | epoch: 001 | loss: 0.09600 - acc: 0.9680 -- iter: 13580/55000\n"
     ]
    },
    {
     "name": "stdout",
     "output_type": "stream",
     "text": [
      "Training Step: 680  | total loss: \u001b[1m\u001b[32m0.08647\u001b[0m\u001b[0m | time: 41.332s\n\u001b[2K\r| SGD | epoch: 001 | loss: 0.08647 - acc: 0.9712 -- iter: 13600/55000\n"
     ]
    },
    {
     "name": "stdout",
     "output_type": "stream",
     "text": [
      "Training Step: 681  | total loss: \u001b[1m\u001b[32m0.07886\u001b[0m\u001b[0m | time: 41.394s\n\u001b[2K\r| SGD | epoch: 001 | loss: 0.07886 - acc: 0.9741 -- iter: 13620/55000\n"
     ]
    },
    {
     "name": "stdout",
     "output_type": "stream",
     "text": [
      "Training Step: 682  | total loss: \u001b[1m\u001b[32m0.11398\u001b[0m\u001b[0m | time: 41.457s\n\u001b[2K\r| SGD | epoch: 001 | loss: 0.11398 - acc: 0.9667 -- iter: 13640/55000\n"
     ]
    },
    {
     "name": "stdout",
     "output_type": "stream",
     "text": [
      "Training Step: 683  | total loss: \u001b[1m\u001b[32m0.11694\u001b[0m\u001b[0m | time: 41.519s\n\u001b[2K\r| SGD | epoch: 001 | loss: 0.11694 - acc: 0.9650 -- iter: 13660/55000\n"
     ]
    },
    {
     "name": "stdout",
     "output_type": "stream",
     "text": [
      "Training Step: 684  | total loss: \u001b[1m\u001b[32m0.11491\u001b[0m\u001b[0m | time: 41.598s\n\u001b[2K\r| SGD | epoch: 001 | loss: 0.11491 - acc: 0.9635 -- iter: 13680/55000\n"
     ]
    },
    {
     "name": "stdout",
     "output_type": "stream",
     "text": [
      "Training Step: 685  | total loss: \u001b[1m\u001b[32m0.11511\u001b[0m\u001b[0m | time: 41.660s\n\u001b[2K\r| SGD | epoch: 001 | loss: 0.11511 - acc: 0.9622 -- iter: 13700/55000\n"
     ]
    },
    {
     "name": "stdout",
     "output_type": "stream",
     "text": [
      "Training Step: 686  | total loss: \u001b[1m\u001b[32m0.12099\u001b[0m\u001b[0m | time: 41.723s\n\u001b[2K\r| SGD | epoch: 001 | loss: 0.12099 - acc: 0.9609 -- iter: 13720/55000\n"
     ]
    },
    {
     "name": "stdout",
     "output_type": "stream",
     "text": [
      "Training Step: 687  | total loss: \u001b[1m\u001b[32m0.13005\u001b[0m\u001b[0m | time: 41.801s\n\u001b[2K\r| SGD | epoch: 001 | loss: 0.13005 - acc: 0.9598 -- iter: 13740/55000\n"
     ]
    },
    {
     "name": "stdout",
     "output_type": "stream",
     "text": [
      "Training Step: 688  | total loss: \u001b[1m\u001b[32m0.11890\u001b[0m\u001b[0m | time: 41.872s\n\u001b[2K\r| SGD | epoch: 001 | loss: 0.11890 - acc: 0.9639 -- iter: 13760/55000\n"
     ]
    },
    {
     "name": "stdout",
     "output_type": "stream",
     "text": [
      "Training Step: 689  | total loss: \u001b[1m\u001b[32m0.11886\u001b[0m\u001b[0m | time: 41.925s\n\u001b[2K\r| SGD | epoch: 001 | loss: 0.11886 - acc: 0.9625 -- iter: 13780/55000\n"
     ]
    },
    {
     "name": "stdout",
     "output_type": "stream",
     "text": [
      "Training Step: 690  | total loss: \u001b[1m\u001b[32m0.13425\u001b[0m\u001b[0m | time: 41.988s\n\u001b[2K\r| SGD | epoch: 001 | loss: 0.13425 - acc: 0.9612 -- iter: 13800/55000\n"
     ]
    },
    {
     "name": "stdout",
     "output_type": "stream",
     "text": [
      "Training Step: 691  | total loss: \u001b[1m\u001b[32m0.12372\u001b[0m\u001b[0m | time: 42.050s\n\u001b[2K\r| SGD | epoch: 001 | loss: 0.12372 - acc: 0.9651 -- iter: 13820/55000\n"
     ]
    },
    {
     "name": "stdout",
     "output_type": "stream",
     "text": [
      "Training Step: 692  | total loss: \u001b[1m\u001b[32m0.11292\u001b[0m\u001b[0m | time: 42.113s\n\u001b[2K\r| SGD | epoch: 001 | loss: 0.11292 - acc: 0.9686 -- iter: 13840/55000\n"
     ]
    },
    {
     "name": "stdout",
     "output_type": "stream",
     "text": [
      "Training Step: 693  | total loss: \u001b[1m\u001b[32m0.10290\u001b[0m\u001b[0m | time: 42.175s\n\u001b[2K\r| SGD | epoch: 001 | loss: 0.10290 - acc: 0.9717 -- iter: 13860/55000\n"
     ]
    },
    {
     "name": "stdout",
     "output_type": "stream",
     "text": [
      "Training Step: 694  | total loss: \u001b[1m\u001b[32m0.11334\u001b[0m\u001b[0m | time: 42.238s\n\u001b[2K\r| SGD | epoch: 001 | loss: 0.11334 - acc: 0.9646 -- iter: 13880/55000\n"
     ]
    },
    {
     "name": "stdout",
     "output_type": "stream",
     "text": [
      "Training Step: 695  | total loss: \u001b[1m\u001b[32m0.10814\u001b[0m\u001b[0m | time: 42.300s\n\u001b[2K\r| SGD | epoch: 001 | loss: 0.10814 - acc: 0.9631 -- iter: 13900/55000\n"
     ]
    },
    {
     "name": "stdout",
     "output_type": "stream",
     "text": [
      "Training Step: 696  | total loss: \u001b[1m\u001b[32m0.10046\u001b[0m\u001b[0m | time: 42.363s\n\u001b[2K\r| SGD | epoch: 001 | loss: 0.10046 - acc: 0.9668 -- iter: 13920/55000\n"
     ]
    },
    {
     "name": "stdout",
     "output_type": "stream",
     "text": [
      "Training Step: 697  | total loss: \u001b[1m\u001b[32m0.09576\u001b[0m\u001b[0m | time: 42.425s\n\u001b[2K\r| SGD | epoch: 001 | loss: 0.09576 - acc: 0.9701 -- iter: 13940/55000\n"
     ]
    },
    {
     "name": "stdout",
     "output_type": "stream",
     "text": [
      "Training Step: 698  | total loss: \u001b[1m\u001b[32m0.08756\u001b[0m\u001b[0m | time: 42.488s\n\u001b[2K\r| SGD | epoch: 001 | loss: 0.08756 - acc: 0.9731 -- iter: 13960/55000\n"
     ]
    },
    {
     "name": "stdout",
     "output_type": "stream",
     "text": [
      "Training Step: 699  | total loss: \u001b[1m\u001b[32m0.08988\u001b[0m\u001b[0m | time: 42.550s\n\u001b[2K\r| SGD | epoch: 001 | loss: 0.08988 - acc: 0.9758 -- iter: 13980/55000\n"
     ]
    },
    {
     "name": "stdout",
     "output_type": "stream",
     "text": [
      "Training Step: 700  | total loss: \u001b[1m\u001b[32m0.09495\u001b[0m\u001b[0m | time: 42.613s\n\u001b[2K\r| SGD | epoch: 001 | loss: 0.09495 - acc: 0.9732 -- iter: 14000/55000\n"
     ]
    },
    {
     "name": "stdout",
     "output_type": "stream",
     "text": [
      "Training Step: 701  | total loss: \u001b[1m\u001b[32m0.10656\u001b[0m\u001b[0m | time: 42.675s\n\u001b[2K\r| SGD | epoch: 001 | loss: 0.10656 - acc: 0.9709 -- iter: 14020/55000\n"
     ]
    },
    {
     "name": "stdout",
     "output_type": "stream",
     "text": [
      "Training Step: 702  | total loss: \u001b[1m\u001b[32m0.09817\u001b[0m\u001b[0m | time: 42.738s\n\u001b[2K\r| SGD | epoch: 001 | loss: 0.09817 - acc: 0.9738 -- iter: 14040/55000\n"
     ]
    },
    {
     "name": "stdout",
     "output_type": "stream",
     "text": [
      "Training Step: 703  | total loss: \u001b[1m\u001b[32m0.09372\u001b[0m\u001b[0m | time: 42.814s\n\u001b[2K\r| SGD | epoch: 001 | loss: 0.09372 - acc: 0.9764 -- iter: 14060/55000\n"
     ]
    },
    {
     "name": "stdout",
     "output_type": "stream",
     "text": [
      "Training Step: 704  | total loss: \u001b[1m\u001b[32m0.09421\u001b[0m\u001b[0m | time: 42.866s\n\u001b[2K\r| SGD | epoch: 001 | loss: 0.09421 - acc: 0.9738 -- iter: 14080/55000\n"
     ]
    },
    {
     "name": "stdout",
     "output_type": "stream",
     "text": [
      "Training Step: 705  | total loss: \u001b[1m\u001b[32m0.09655\u001b[0m\u001b[0m | time: 42.928s\n\u001b[2K\r| SGD | epoch: 001 | loss: 0.09655 - acc: 0.9664 -- iter: 14100/55000\n"
     ]
    },
    {
     "name": "stdout",
     "output_type": "stream",
     "text": [
      "Training Step: 706  | total loss: \u001b[1m\u001b[32m0.09001\u001b[0m\u001b[0m | time: 42.991s\n\u001b[2K\r| SGD | epoch: 001 | loss: 0.09001 - acc: 0.9698 -- iter: 14120/55000\n"
     ]
    },
    {
     "name": "stdout",
     "output_type": "stream",
     "text": [
      "Training Step: 707  | total loss: \u001b[1m\u001b[32m0.08241\u001b[0m\u001b[0m | time: 43.053s\n\u001b[2K\r| SGD | epoch: 001 | loss: 0.08241 - acc: 0.9728 -- iter: 14140/55000\n"
     ]
    },
    {
     "name": "stdout",
     "output_type": "stream",
     "text": [
      "Training Step: 708  | total loss: \u001b[1m\u001b[32m0.07825\u001b[0m\u001b[0m | time: 43.132s\n\u001b[2K\r| SGD | epoch: 001 | loss: 0.07825 - acc: 0.9755 -- iter: 14160/55000\n"
     ]
    },
    {
     "name": "stdout",
     "output_type": "stream",
     "text": [
      "Training Step: 709  | total loss: \u001b[1m\u001b[32m0.09023\u001b[0m\u001b[0m | time: 43.194s\n\u001b[2K\r| SGD | epoch: 001 | loss: 0.09023 - acc: 0.9730 -- iter: 14180/55000\n"
     ]
    },
    {
     "name": "stdout",
     "output_type": "stream",
     "text": [
      "Training Step: 710  | total loss: \u001b[1m\u001b[32m0.08357\u001b[0m\u001b[0m | time: 43.272s\n\u001b[2K\r| SGD | epoch: 001 | loss: 0.08357 - acc: 0.9757 -- iter: 14200/55000\n"
     ]
    },
    {
     "name": "stdout",
     "output_type": "stream",
     "text": [
      "Training Step: 711  | total loss: \u001b[1m\u001b[32m0.13608\u001b[0m\u001b[0m | time: 43.335s\n\u001b[2K\r| SGD | epoch: 001 | loss: 0.13608 - acc: 0.9581 -- iter: 14220/55000\n"
     ]
    },
    {
     "name": "stdout",
     "output_type": "stream",
     "text": [
      "Training Step: 712  | total loss: \u001b[1m\u001b[32m0.13780\u001b[0m\u001b[0m | time: 43.397s\n\u001b[2K\r| SGD | epoch: 001 | loss: 0.13780 - acc: 0.9573 -- iter: 14240/55000\n"
     ]
    },
    {
     "name": "stdout",
     "output_type": "stream",
     "text": [
      "Training Step: 713  | total loss: \u001b[1m\u001b[32m0.12450\u001b[0m\u001b[0m | time: 43.460s\n\u001b[2K\r| SGD | epoch: 001 | loss: 0.12450 - acc: 0.9616 -- iter: 14260/55000\n"
     ]
    },
    {
     "name": "stdout",
     "output_type": "stream",
     "text": [
      "Training Step: 714  | total loss: \u001b[1m\u001b[32m0.12010\u001b[0m\u001b[0m | time: 43.522s\n\u001b[2K\r| SGD | epoch: 001 | loss: 0.12010 - acc: 0.9604 -- iter: 14280/55000\n"
     ]
    },
    {
     "name": "stdout",
     "output_type": "stream",
     "text": [
      "Training Step: 715  | total loss: \u001b[1m\u001b[32m0.13536\u001b[0m\u001b[0m | time: 43.585s\n\u001b[2K\r| SGD | epoch: 001 | loss: 0.13536 - acc: 0.9544 -- iter: 14300/55000\n"
     ]
    },
    {
     "name": "stdout",
     "output_type": "stream",
     "text": [
      "Training Step: 716  | total loss: \u001b[1m\u001b[32m0.14562\u001b[0m\u001b[0m | time: 43.632s\n\u001b[2K\r| SGD | epoch: 001 | loss: 0.14562 - acc: 0.9539 -- iter: 14320/55000\n"
     ]
    },
    {
     "name": "stdout",
     "output_type": "stream",
     "text": [
      "Training Step: 717  | total loss: \u001b[1m\u001b[32m0.13973\u001b[0m\u001b[0m | time: 43.694s\n\u001b[2K\r| SGD | epoch: 001 | loss: 0.13973 - acc: 0.9535 -- iter: 14340/55000\n"
     ]
    },
    {
     "name": "stdout",
     "output_type": "stream",
     "text": [
      "Training Step: 718  | total loss: \u001b[1m\u001b[32m0.12806\u001b[0m\u001b[0m | time: 43.775s\n\u001b[2K\r| SGD | epoch: 001 | loss: 0.12806 - acc: 0.9582 -- iter: 14360/55000\n"
     ]
    },
    {
     "name": "stdout",
     "output_type": "stream",
     "text": [
      "Training Step: 719  | total loss: \u001b[1m\u001b[32m0.11796\u001b[0m\u001b[0m | time: 43.838s\n\u001b[2K\r| SGD | epoch: 001 | loss: 0.11796 - acc: 0.9624 -- iter: 14380/55000\n"
     ]
    },
    {
     "name": "stdout",
     "output_type": "stream",
     "text": [
      "Training Step: 720  | total loss: \u001b[1m\u001b[32m0.12341\u001b[0m\u001b[0m | time: 43.900s\n\u001b[2K\r| SGD | epoch: 001 | loss: 0.12341 - acc: 0.9611 -- iter: 14400/55000\n"
     ]
    },
    {
     "name": "stdout",
     "output_type": "stream",
     "text": [
      "Training Step: 721  | total loss: \u001b[1m\u001b[32m0.11394\u001b[0m\u001b[0m | time: 43.963s\n\u001b[2K\r| SGD | epoch: 001 | loss: 0.11394 - acc: 0.9650 -- iter: 14420/55000\n"
     ]
    },
    {
     "name": "stdout",
     "output_type": "stream",
     "text": [
      "Training Step: 722  | total loss: \u001b[1m\u001b[32m0.12140\u001b[0m\u001b[0m | time: 44.035s\n\u001b[2K\r| SGD | epoch: 001 | loss: 0.12140 - acc: 0.9635 -- iter: 14440/55000\n"
     ]
    },
    {
     "name": "stdout",
     "output_type": "stream",
     "text": [
      "Training Step: 723  | total loss: \u001b[1m\u001b[32m0.14734\u001b[0m\u001b[0m | time: 44.098s\n\u001b[2K\r| SGD | epoch: 001 | loss: 0.14734 - acc: 0.9622 -- iter: 14460/55000\n"
     ]
    },
    {
     "name": "stdout",
     "output_type": "stream",
     "text": [
      "Training Step: 724  | total loss: \u001b[1m\u001b[32m0.16381\u001b[0m\u001b[0m | time: 44.160s\n\u001b[2K\r| SGD | epoch: 001 | loss: 0.16381 - acc: 0.9609 -- iter: 14480/55000\n"
     ]
    },
    {
     "name": "stdout",
     "output_type": "stream",
     "text": [
      "Training Step: 725  | total loss: \u001b[1m\u001b[32m0.15808\u001b[0m\u001b[0m | time: 44.223s\n\u001b[2K\r| SGD | epoch: 001 | loss: 0.15808 - acc: 0.9598 -- iter: 14500/55000\n"
     ]
    },
    {
     "name": "stdout",
     "output_type": "stream",
     "text": [
      "Training Step: 726  | total loss: \u001b[1m\u001b[32m0.15464\u001b[0m\u001b[0m | time: 44.285s\n\u001b[2K\r| SGD | epoch: 001 | loss: 0.15464 - acc: 0.9589 -- iter: 14520/55000\n"
     ]
    },
    {
     "name": "stdout",
     "output_type": "stream",
     "text": [
      "Training Step: 727  | total loss: \u001b[1m\u001b[32m0.16794\u001b[0m\u001b[0m | time: 44.348s\n\u001b[2K\r| SGD | epoch: 001 | loss: 0.16794 - acc: 0.9580 -- iter: 14540/55000\n"
     ]
    },
    {
     "name": "stdout",
     "output_type": "stream",
     "text": [
      "Training Step: 728  | total loss: \u001b[1m\u001b[32m0.15846\u001b[0m\u001b[0m | time: 44.410s\n\u001b[2K\r| SGD | epoch: 001 | loss: 0.15846 - acc: 0.9572 -- iter: 14560/55000\n"
     ]
    },
    {
     "name": "stdout",
     "output_type": "stream",
     "text": [
      "Training Step: 729  | total loss: \u001b[1m\u001b[32m0.15454\u001b[0m\u001b[0m | time: 44.473s\n\u001b[2K\r| SGD | epoch: 001 | loss: 0.15454 - acc: 0.9565 -- iter: 14580/55000\n"
     ]
    },
    {
     "name": "stdout",
     "output_type": "stream",
     "text": [
      "Training Step: 730  | total loss: \u001b[1m\u001b[32m0.15121\u001b[0m\u001b[0m | time: 44.535s\n\u001b[2K\r| SGD | epoch: 001 | loss: 0.15121 - acc: 0.9558 -- iter: 14600/55000\n"
     ]
    },
    {
     "name": "stdout",
     "output_type": "stream",
     "text": [
      "Training Step: 731  | total loss: \u001b[1m\u001b[32m0.14726\u001b[0m\u001b[0m | time: 44.598s\n\u001b[2K\r| SGD | epoch: 001 | loss: 0.14726 - acc: 0.9552 -- iter: 14620/55000\n"
     ]
    },
    {
     "name": "stdout",
     "output_type": "stream",
     "text": [
      "Training Step: 732  | total loss: \u001b[1m\u001b[32m0.13509\u001b[0m\u001b[0m | time: 44.660s\n\u001b[2K\r| SGD | epoch: 001 | loss: 0.13509 - acc: 0.9597 -- iter: 14640/55000\n"
     ]
    },
    {
     "name": "stdout",
     "output_type": "stream",
     "text": [
      "Training Step: 733  | total loss: \u001b[1m\u001b[32m0.12556\u001b[0m\u001b[0m | time: 44.713s\n\u001b[2K\r| SGD | epoch: 001 | loss: 0.12556 - acc: 0.9637 -- iter: 14660/55000\n"
     ]
    },
    {
     "name": "stdout",
     "output_type": "stream",
     "text": [
      "Training Step: 734  | total loss: \u001b[1m\u001b[32m0.13664\u001b[0m\u001b[0m | time: 44.776s\n\u001b[2K\r| SGD | epoch: 001 | loss: 0.13664 - acc: 0.9624 -- iter: 14680/55000\n"
     ]
    },
    {
     "name": "stdout",
     "output_type": "stream",
     "text": [
      "Training Step: 735  | total loss: \u001b[1m\u001b[32m0.12615\u001b[0m\u001b[0m | time: 44.854s\n\u001b[2K\r| SGD | epoch: 001 | loss: 0.12615 - acc: 0.9661 -- iter: 14700/55000\n"
     ]
    },
    {
     "name": "stdout",
     "output_type": "stream",
     "text": [
      "Training Step: 736  | total loss: \u001b[1m\u001b[32m0.12477\u001b[0m\u001b[0m | time: 44.916s\n\u001b[2K\r| SGD | epoch: 001 | loss: 0.12477 - acc: 0.9695 -- iter: 14720/55000\n"
     ]
    },
    {
     "name": "stdout",
     "output_type": "stream",
     "text": [
      "Training Step: 737  | total loss: \u001b[1m\u001b[32m0.12402\u001b[0m\u001b[0m | time: 44.979s\n\u001b[2K\r| SGD | epoch: 001 | loss: 0.12402 - acc: 0.9676 -- iter: 14740/55000\n"
     ]
    },
    {
     "name": "stdout",
     "output_type": "stream",
     "text": [
      "Training Step: 738  | total loss: \u001b[1m\u001b[32m0.12641\u001b[0m\u001b[0m | time: 45.041s\n\u001b[2K\r| SGD | epoch: 001 | loss: 0.12641 - acc: 0.9658 -- iter: 14760/55000\n"
     ]
    },
    {
     "name": "stdout",
     "output_type": "stream",
     "text": [
      "Training Step: 739  | total loss: \u001b[1m\u001b[32m0.11621\u001b[0m\u001b[0m | time: 45.119s\n\u001b[2K\r| SGD | epoch: 001 | loss: 0.11621 - acc: 0.9692 -- iter: 14780/55000\n"
     ]
    },
    {
     "name": "stdout",
     "output_type": "stream",
     "text": [
      "Training Step: 740  | total loss: \u001b[1m\u001b[32m0.10857\u001b[0m\u001b[0m | time: 45.182s\n\u001b[2K\r| SGD | epoch: 001 | loss: 0.10857 - acc: 0.9723 -- iter: 14800/55000\n"
     ]
    },
    {
     "name": "stdout",
     "output_type": "stream",
     "text": [
      "Training Step: 741  | total loss: \u001b[1m\u001b[32m0.10933\u001b[0m\u001b[0m | time: 45.244s\n\u001b[2K\r| SGD | epoch: 001 | loss: 0.10933 - acc: 0.9701 -- iter: 14820/55000\n"
     ]
    },
    {
     "name": "stdout",
     "output_type": "stream",
     "text": [
      "Training Step: 742  | total loss: \u001b[1m\u001b[32m0.09946\u001b[0m\u001b[0m | time: 45.307s\n\u001b[2K\r| SGD | epoch: 001 | loss: 0.09946 - acc: 0.9731 -- iter: 14840/55000\n"
     ]
    },
    {
     "name": "stdout",
     "output_type": "stream",
     "text": [
      "Training Step: 743  | total loss: \u001b[1m\u001b[32m0.09385\u001b[0m\u001b[0m | time: 45.385s\n\u001b[2K\r| SGD | epoch: 001 | loss: 0.09385 - acc: 0.9758 -- iter: 14860/55000\n"
     ]
    },
    {
     "name": "stdout",
     "output_type": "stream",
     "text": [
      "Training Step: 744  | total loss: \u001b[1m\u001b[32m0.08579\u001b[0m\u001b[0m | time: 45.448s\n\u001b[2K\r| SGD | epoch: 001 | loss: 0.08579 - acc: 0.9782 -- iter: 14880/55000\n"
     ]
    },
    {
     "name": "stdout",
     "output_type": "stream",
     "text": [
      "Training Step: 745  | total loss: \u001b[1m\u001b[32m0.08085\u001b[0m\u001b[0m | time: 45.510s\n\u001b[2K\r| SGD | epoch: 001 | loss: 0.08085 - acc: 0.9804 -- iter: 14900/55000\n"
     ]
    },
    {
     "name": "stdout",
     "output_type": "stream",
     "text": [
      "Training Step: 746  | total loss: \u001b[1m\u001b[32m0.08492\u001b[0m\u001b[0m | time: 45.588s\n\u001b[2K\r| SGD | epoch: 001 | loss: 0.08492 - acc: 0.9773 -- iter: 14920/55000\n"
     ]
    },
    {
     "name": "stdout",
     "output_type": "stream",
     "text": [
      "Training Step: 747  | total loss: \u001b[1m\u001b[32m0.07952\u001b[0m\u001b[0m | time: 45.651s\n\u001b[2K\r| SGD | epoch: 001 | loss: 0.07952 - acc: 0.9796 -- iter: 14940/55000\n"
     ]
    },
    {
     "name": "stdout",
     "output_type": "stream",
     "text": [
      "Training Step: 748  | total loss: \u001b[1m\u001b[32m0.07256\u001b[0m\u001b[0m | time: 45.721s\n\u001b[2K\r| SGD | epoch: 001 | loss: 0.07256 - acc: 0.9816 -- iter: 14960/55000\n"
     ]
    },
    {
     "name": "stdout",
     "output_type": "stream",
     "text": [
      "Training Step: 749  | total loss: \u001b[1m\u001b[32m0.09532\u001b[0m\u001b[0m | time: 45.784s\n\u001b[2K\r| SGD | epoch: 001 | loss: 0.09532 - acc: 0.9735 -- iter: 14980/55000\n"
     ]
    },
    {
     "name": "stdout",
     "output_type": "stream",
     "text": [
      "Training Step: 750  | total loss: \u001b[1m\u001b[32m0.13226\u001b[0m\u001b[0m | time: 45.862s\n\u001b[2K\r| SGD | epoch: 001 | loss: 0.13226 - acc: 0.9661 -- iter: 15000/55000\n"
     ]
    },
    {
     "name": "stdout",
     "output_type": "stream",
     "text": [
      "Training Step: 751  | total loss: \u001b[1m\u001b[32m0.12413\u001b[0m\u001b[0m | time: 45.940s\n\u001b[2K\r| SGD | epoch: 001 | loss: 0.12413 - acc: 0.9645 -- iter: 15020/55000\n"
     ]
    },
    {
     "name": "stdout",
     "output_type": "stream",
     "text": [
      "Training Step: 752  | total loss: \u001b[1m\u001b[32m0.12768\u001b[0m\u001b[0m | time: 46.003s\n\u001b[2K\r| SGD | epoch: 001 | loss: 0.12768 - acc: 0.9581 -- iter: 15040/55000\n"
     ]
    },
    {
     "name": "stdout",
     "output_type": "stream",
     "text": [
      "Training Step: 753  | total loss: \u001b[1m\u001b[32m0.13821\u001b[0m\u001b[0m | time: 46.065s\n\u001b[2K\r| SGD | epoch: 001 | loss: 0.13821 - acc: 0.9573 -- iter: 15060/55000\n"
     ]
    },
    {
     "name": "stdout",
     "output_type": "stream",
     "text": [
      "Training Step: 754  | total loss: \u001b[1m\u001b[32m0.12661\u001b[0m\u001b[0m | time: 46.143s\n\u001b[2K\r| SGD | epoch: 001 | loss: 0.12661 - acc: 0.9615 -- iter: 15080/55000\n"
     ]
    },
    {
     "name": "stdout",
     "output_type": "stream",
     "text": [
      "Training Step: 755  | total loss: \u001b[1m\u001b[32m0.12365\u001b[0m\u001b[0m | time: 46.206s\n\u001b[2K\r| SGD | epoch: 001 | loss: 0.12365 - acc: 0.9654 -- iter: 15100/55000\n"
     ]
    },
    {
     "name": "stdout",
     "output_type": "stream",
     "text": [
      "Training Step: 756  | total loss: \u001b[1m\u001b[32m0.11509\u001b[0m\u001b[0m | time: 46.284s\n\u001b[2K\r| SGD | epoch: 001 | loss: 0.11509 - acc: 0.9688 -- iter: 15120/55000\n"
     ]
    },
    {
     "name": "stdout",
     "output_type": "stream",
     "text": [
      "Training Step: 757  | total loss: \u001b[1m\u001b[32m0.11169\u001b[0m\u001b[0m | time: 46.346s\n\u001b[2K\r| SGD | epoch: 001 | loss: 0.11169 - acc: 0.9620 -- iter: 15140/55000\n"
     ]
    },
    {
     "name": "stdout",
     "output_type": "stream",
     "text": [
      "Training Step: 758  | total loss: \u001b[1m\u001b[32m0.10357\u001b[0m\u001b[0m | time: 46.425s\n\u001b[2K\r| SGD | epoch: 001 | loss: 0.10357 - acc: 0.9658 -- iter: 15160/55000\n"
     ]
    },
    {
     "name": "stdout",
     "output_type": "stream",
     "text": [
      "Training Step: 759  | total loss: \u001b[1m\u001b[32m0.09494\u001b[0m\u001b[0m | time: 46.487s\n\u001b[2K\r| SGD | epoch: 001 | loss: 0.09494 - acc: 0.9692 -- iter: 15180/55000\n"
     ]
    },
    {
     "name": "stdout",
     "output_type": "stream",
     "text": [
      "Training Step: 760  | total loss: \u001b[1m\u001b[32m0.11426\u001b[0m\u001b[0m | time: 46.550s\n\u001b[2K\r| SGD | epoch: 001 | loss: 0.11426 - acc: 0.9673 -- iter: 15200/55000\n"
     ]
    },
    {
     "name": "stdout",
     "output_type": "stream",
     "text": [
      "Training Step: 761  | total loss: \u001b[1m\u001b[32m0.12852\u001b[0m\u001b[0m | time: 46.612s\n\u001b[2K\r| SGD | epoch: 001 | loss: 0.12852 - acc: 0.9605 -- iter: 15220/55000\n"
     ]
    },
    {
     "name": "stdout",
     "output_type": "stream",
     "text": [
      "Training Step: 762  | total loss: \u001b[1m\u001b[32m0.11673\u001b[0m\u001b[0m | time: 46.675s\n\u001b[2K\r| SGD | epoch: 001 | loss: 0.11673 - acc: 0.9645 -- iter: 15240/55000\n"
     ]
    },
    {
     "name": "stdout",
     "output_type": "stream",
     "text": [
      "Training Step: 763  | total loss: \u001b[1m\u001b[32m0.14456\u001b[0m\u001b[0m | time: 46.727s\n\u001b[2K\r| SGD | epoch: 001 | loss: 0.14456 - acc: 0.9630 -- iter: 15260/55000\n"
     ]
    },
    {
     "name": "stdout",
     "output_type": "stream",
     "text": [
      "Training Step: 764  | total loss: \u001b[1m\u001b[32m0.14084\u001b[0m\u001b[0m | time: 46.805s\n\u001b[2K\r| SGD | epoch: 001 | loss: 0.14084 - acc: 0.9617 -- iter: 15280/55000\n"
     ]
    },
    {
     "name": "stdout",
     "output_type": "stream",
     "text": [
      "Training Step: 765  | total loss: \u001b[1m\u001b[32m0.12722\u001b[0m\u001b[0m | time: 46.867s\n\u001b[2K\r| SGD | epoch: 001 | loss: 0.12722 - acc: 0.9656 -- iter: 15300/55000\n"
     ]
    },
    {
     "name": "stdout",
     "output_type": "stream",
     "text": [
      "Training Step: 766  | total loss: \u001b[1m\u001b[32m0.12107\u001b[0m\u001b[0m | time: 46.930s\n\u001b[2K\r| SGD | epoch: 001 | loss: 0.12107 - acc: 0.9640 -- iter: 15320/55000\n"
     ]
    },
    {
     "name": "stdout",
     "output_type": "stream",
     "text": [
      "Training Step: 767  | total loss: \u001b[1m\u001b[32m0.13378\u001b[0m\u001b[0m | time: 47.008s\n\u001b[2K\r| SGD | epoch: 001 | loss: 0.13378 - acc: 0.9576 -- iter: 15340/55000\n"
     ]
    },
    {
     "name": "stdout",
     "output_type": "stream",
     "text": [
      "Training Step: 768  | total loss: \u001b[1m\u001b[32m0.12660\u001b[0m\u001b[0m | time: 47.070s\n\u001b[2K\r| SGD | epoch: 001 | loss: 0.12660 - acc: 0.9618 -- iter: 15360/55000\n"
     ]
    },
    {
     "name": "stdout",
     "output_type": "stream",
     "text": [
      "Training Step: 769  | total loss: \u001b[1m\u001b[32m0.13809\u001b[0m\u001b[0m | time: 47.133s\n\u001b[2K\r| SGD | epoch: 001 | loss: 0.13809 - acc: 0.9557 -- iter: 15380/55000\n"
     ]
    },
    {
     "name": "stdout",
     "output_type": "stream",
     "text": [
      "Training Step: 770  | total loss: \u001b[1m\u001b[32m0.18733\u001b[0m\u001b[0m | time: 47.195s\n\u001b[2K\r| SGD | epoch: 001 | loss: 0.18733 - acc: 0.9501 -- iter: 15400/55000\n"
     ]
    },
    {
     "name": "stdout",
     "output_type": "stream",
     "text": [
      "Training Step: 771  | total loss: \u001b[1m\u001b[32m0.18333\u001b[0m\u001b[0m | time: 47.258s\n\u001b[2K\r| SGD | epoch: 001 | loss: 0.18333 - acc: 0.9501 -- iter: 15420/55000\n"
     ]
    },
    {
     "name": "stdout",
     "output_type": "stream",
     "text": [
      "Training Step: 772  | total loss: \u001b[1m\u001b[32m0.17298\u001b[0m\u001b[0m | time: 47.336s\n\u001b[2K\r| SGD | epoch: 001 | loss: 0.17298 - acc: 0.9551 -- iter: 15440/55000\n"
     ]
    },
    {
     "name": "stdout",
     "output_type": "stream",
     "text": [
      "Training Step: 773  | total loss: \u001b[1m\u001b[32m0.15702\u001b[0m\u001b[0m | time: 47.399s\n\u001b[2K\r| SGD | epoch: 001 | loss: 0.15702 - acc: 0.9596 -- iter: 15460/55000\n"
     ]
    },
    {
     "name": "stdout",
     "output_type": "stream",
     "text": [
      "Training Step: 774  | total loss: \u001b[1m\u001b[32m0.15275\u001b[0m\u001b[0m | time: 47.461s\n\u001b[2K\r| SGD | epoch: 001 | loss: 0.15275 - acc: 0.9586 -- iter: 15480/55000\n"
     ]
    },
    {
     "name": "stdout",
     "output_type": "stream",
     "text": [
      "Training Step: 775  | total loss: \u001b[1m\u001b[32m0.14116\u001b[0m\u001b[0m | time: 47.539s\n\u001b[2K\r| SGD | epoch: 001 | loss: 0.14116 - acc: 0.9627 -- iter: 15500/55000\n"
     ]
    },
    {
     "name": "stdout",
     "output_type": "stream",
     "text": [
      "Training Step: 776  | total loss: \u001b[1m\u001b[32m0.12874\u001b[0m\u001b[0m | time: 47.602s\n\u001b[2K\r| SGD | epoch: 001 | loss: 0.12874 - acc: 0.9665 -- iter: 15520/55000\n"
     ]
    },
    {
     "name": "stdout",
     "output_type": "stream",
     "text": [
      "Training Step: 777  | total loss: \u001b[1m\u001b[32m0.11773\u001b[0m\u001b[0m | time: 47.678s\n\u001b[2K\r| SGD | epoch: 001 | loss: 0.11773 - acc: 0.9698 -- iter: 15540/55000\n"
     ]
    },
    {
     "name": "stdout",
     "output_type": "stream",
     "text": [
      "Training Step: 778  | total loss: \u001b[1m\u001b[32m0.12522\u001b[0m\u001b[0m | time: 47.749s\n\u001b[2K\r| SGD | epoch: 001 | loss: 0.12522 - acc: 0.9628 -- iter: 15560/55000\n"
     ]
    },
    {
     "name": "stdout",
     "output_type": "stream",
     "text": [
      "Training Step: 779  | total loss: \u001b[1m\u001b[32m0.12224\u001b[0m\u001b[0m | time: 47.827s\n\u001b[2K\r| SGD | epoch: 001 | loss: 0.12224 - acc: 0.9566 -- iter: 15580/55000\n"
     ]
    },
    {
     "name": "stdout",
     "output_type": "stream",
     "text": [
      "Training Step: 780  | total loss: \u001b[1m\u001b[32m0.15099\u001b[0m\u001b[0m | time: 47.890s\n\u001b[2K\r| SGD | epoch: 001 | loss: 0.15099 - acc: 0.9509 -- iter: 15600/55000\n"
     ]
    },
    {
     "name": "stdout",
     "output_type": "stream",
     "text": [
      "Training Step: 781  | total loss: \u001b[1m\u001b[32m0.13867\u001b[0m\u001b[0m | time: 47.952s\n\u001b[2K\r| SGD | epoch: 001 | loss: 0.13867 - acc: 0.9558 -- iter: 15620/55000\n"
     ]
    },
    {
     "name": "stdout",
     "output_type": "stream",
     "text": [
      "Training Step: 782  | total loss: \u001b[1m\u001b[32m0.13664\u001b[0m\u001b[0m | time: 48.015s\n\u001b[2K\r| SGD | epoch: 001 | loss: 0.13664 - acc: 0.9552 -- iter: 15640/55000\n"
     ]
    },
    {
     "name": "stdout",
     "output_type": "stream",
     "text": [
      "Training Step: 783  | total loss: \u001b[1m\u001b[32m0.12598\u001b[0m\u001b[0m | time: 48.077s\n\u001b[2K\r| SGD | epoch: 001 | loss: 0.12598 - acc: 0.9597 -- iter: 15660/55000\n"
     ]
    },
    {
     "name": "stdout",
     "output_type": "stream",
     "text": [
      "Training Step: 784  | total loss: \u001b[1m\u001b[32m0.12166\u001b[0m\u001b[0m | time: 48.140s\n\u001b[2K\r| SGD | epoch: 001 | loss: 0.12166 - acc: 0.9587 -- iter: 15680/55000\n"
     ]
    },
    {
     "name": "stdout",
     "output_type": "stream",
     "text": [
      "Training Step: 785  | total loss: \u001b[1m\u001b[32m0.14465\u001b[0m\u001b[0m | time: 48.202s\n\u001b[2K\r| SGD | epoch: 001 | loss: 0.14465 - acc: 0.9479 -- iter: 15700/55000\n"
     ]
    },
    {
     "name": "stdout",
     "output_type": "stream",
     "text": [
      "Training Step: 786  | total loss: \u001b[1m\u001b[32m0.15430\u001b[0m\u001b[0m | time: 48.280s\n\u001b[2K\r| SGD | epoch: 001 | loss: 0.15430 - acc: 0.9431 -- iter: 15720/55000\n"
     ]
    },
    {
     "name": "stdout",
     "output_type": "stream",
     "text": [
      "Training Step: 787  | total loss: \u001b[1m\u001b[32m0.14054\u001b[0m\u001b[0m | time: 48.343s\n\u001b[2K\r| SGD | epoch: 001 | loss: 0.14054 - acc: 0.9488 -- iter: 15740/55000\n"
     ]
    },
    {
     "name": "stdout",
     "output_type": "stream",
     "text": [
      "Training Step: 788  | total loss: \u001b[1m\u001b[32m0.14199\u001b[0m\u001b[0m | time: 48.421s\n\u001b[2K\r| SGD | epoch: 001 | loss: 0.14199 - acc: 0.9489 -- iter: 15760/55000\n"
     ]
    },
    {
     "name": "stdout",
     "output_type": "stream",
     "text": [
      "Training Step: 789  | total loss: \u001b[1m\u001b[32m0.13474\u001b[0m\u001b[0m | time: 48.499s\n\u001b[2K\r| SGD | epoch: 001 | loss: 0.13474 - acc: 0.9490 -- iter: 15780/55000\n"
     ]
    },
    {
     "name": "stdout",
     "output_type": "stream",
     "text": [
      "Training Step: 790  | total loss: \u001b[1m\u001b[32m0.14434\u001b[0m\u001b[0m | time: 48.577s\n\u001b[2K\r| SGD | epoch: 001 | loss: 0.14434 - acc: 0.9491 -- iter: 15800/55000\n"
     ]
    },
    {
     "name": "stdout",
     "output_type": "stream",
     "text": [
      "Training Step: 791  | total loss: \u001b[1m\u001b[32m0.13905\u001b[0m\u001b[0m | time: 48.646s\n\u001b[2K\r| SGD | epoch: 001 | loss: 0.13905 - acc: 0.9542 -- iter: 15820/55000\n"
     ]
    },
    {
     "name": "stdout",
     "output_type": "stream",
     "text": [
      "Training Step: 792  | total loss: \u001b[1m\u001b[32m0.12878\u001b[0m\u001b[0m | time: 48.706s\n\u001b[2K\r| SGD | epoch: 001 | loss: 0.12878 - acc: 0.9588 -- iter: 15840/55000\n"
     ]
    },
    {
     "name": "stdout",
     "output_type": "stream",
     "text": [
      "Training Step: 793  | total loss: \u001b[1m\u001b[32m0.13226\u001b[0m\u001b[0m | time: 48.784s\n\u001b[2K\r| SGD | epoch: 001 | loss: 0.13226 - acc: 0.9579 -- iter: 15860/55000\n"
     ]
    },
    {
     "name": "stdout",
     "output_type": "stream",
     "text": [
      "Training Step: 794  | total loss: \u001b[1m\u001b[32m0.13127\u001b[0m\u001b[0m | time: 48.847s\n\u001b[2K\r| SGD | epoch: 001 | loss: 0.13127 - acc: 0.9571 -- iter: 15880/55000\n"
     ]
    },
    {
     "name": "stdout",
     "output_type": "stream",
     "text": [
      "Training Step: 795  | total loss: \u001b[1m\u001b[32m0.12183\u001b[0m\u001b[0m | time: 48.909s\n\u001b[2K\r| SGD | epoch: 001 | loss: 0.12183 - acc: 0.9614 -- iter: 15900/55000\n"
     ]
    },
    {
     "name": "stdout",
     "output_type": "stream",
     "text": [
      "Training Step: 796  | total loss: \u001b[1m\u001b[32m0.11630\u001b[0m\u001b[0m | time: 48.987s\n\u001b[2K\r| SGD | epoch: 001 | loss: 0.11630 - acc: 0.9653 -- iter: 15920/55000\n"
     ]
    },
    {
     "name": "stdout",
     "output_type": "stream",
     "text": [
      "Training Step: 797  | total loss: \u001b[1m\u001b[32m0.12095\u001b[0m\u001b[0m | time: 49.050s\n\u001b[2K\r| SGD | epoch: 001 | loss: 0.12095 - acc: 0.9637 -- iter: 15940/55000\n"
     ]
    },
    {
     "name": "stdout",
     "output_type": "stream",
     "text": [
      "Training Step: 798  | total loss: \u001b[1m\u001b[32m0.11803\u001b[0m\u001b[0m | time: 49.112s\n\u001b[2K\r| SGD | epoch: 001 | loss: 0.11803 - acc: 0.9624 -- iter: 15960/55000\n"
     ]
    },
    {
     "name": "stdout",
     "output_type": "stream",
     "text": [
      "Training Step: 799  | total loss: \u001b[1m\u001b[32m0.12740\u001b[0m\u001b[0m | time: 49.175s\n\u001b[2K\r| SGD | epoch: 001 | loss: 0.12740 - acc: 0.9611 -- iter: 15980/55000\n"
     ]
    },
    {
     "name": "stdout",
     "output_type": "stream",
     "text": [
      "Training Step: 800  | total loss: \u001b[1m\u001b[32m0.12796\u001b[0m\u001b[0m | time: 49.237s\n\u001b[2K\r| SGD | epoch: 001 | loss: 0.12796 - acc: 0.9600 -- iter: 16000/55000\n"
     ]
    },
    {
     "name": "stdout",
     "output_type": "stream",
     "text": [
      "Training Step: 801  | total loss: \u001b[1m\u001b[32m0.11665\u001b[0m\u001b[0m | time: 49.300s\n\u001b[2K\r| SGD | epoch: 001 | loss: 0.11665 - acc: 0.9640 -- iter: 16020/55000\n"
     ]
    },
    {
     "name": "stdout",
     "output_type": "stream",
     "text": [
      "Training Step: 802  | total loss: \u001b[1m\u001b[32m0.10905\u001b[0m\u001b[0m | time: 49.378s\n\u001b[2K\r| SGD | epoch: 001 | loss: 0.10905 - acc: 0.9676 -- iter: 16040/55000\n"
     ]
    },
    {
     "name": "stdout",
     "output_type": "stream",
     "text": [
      "Training Step: 803  | total loss: \u001b[1m\u001b[32m0.11327\u001b[0m\u001b[0m | time: 49.440s\n\u001b[2K\r| SGD | epoch: 001 | loss: 0.11327 - acc: 0.9658 -- iter: 16060/55000\n"
     ]
    },
    {
     "name": "stdout",
     "output_type": "stream",
     "text": [
      "Training Step: 804  | total loss: \u001b[1m\u001b[32m0.10334\u001b[0m\u001b[0m | time: 49.518s\n\u001b[2K\r| SGD | epoch: 001 | loss: 0.10334 - acc: 0.9693 -- iter: 16080/55000\n"
     ]
    },
    {
     "name": "stdout",
     "output_type": "stream",
     "text": [
      "Training Step: 805  | total loss: \u001b[1m\u001b[32m0.09611\u001b[0m\u001b[0m | time: 49.581s\n\u001b[2K\r| SGD | epoch: 001 | loss: 0.09611 - acc: 0.9723 -- iter: 16100/55000\n"
     ]
    },
    {
     "name": "stdout",
     "output_type": "stream",
     "text": [
      "Training Step: 806  | total loss: \u001b[1m\u001b[32m0.09511\u001b[0m\u001b[0m | time: 49.651s\n\u001b[2K\r| SGD | epoch: 001 | loss: 0.09511 - acc: 0.9701 -- iter: 16120/55000\n"
     ]
    },
    {
     "name": "stdout",
     "output_type": "stream",
     "text": [
      "Training Step: 807  | total loss: \u001b[1m\u001b[32m0.08715\u001b[0m\u001b[0m | time: 49.714s\n\u001b[2K\r| SGD | epoch: 001 | loss: 0.08715 - acc: 0.9731 -- iter: 16140/55000\n"
     ]
    },
    {
     "name": "stdout",
     "output_type": "stream",
     "text": [
      "Training Step: 808  | total loss: \u001b[1m\u001b[32m0.08017\u001b[0m\u001b[0m | time: 49.776s\n\u001b[2K\r| SGD | epoch: 001 | loss: 0.08017 - acc: 0.9758 -- iter: 16160/55000\n"
     ]
    },
    {
     "name": "stdout",
     "output_type": "stream",
     "text": [
      "Training Step: 809  | total loss: \u001b[1m\u001b[32m0.07818\u001b[0m\u001b[0m | time: 49.854s\n\u001b[2K\r| SGD | epoch: 001 | loss: 0.07818 - acc: 0.9782 -- iter: 16180/55000\n"
     ]
    },
    {
     "name": "stdout",
     "output_type": "stream",
     "text": [
      "Training Step: 810  | total loss: \u001b[1m\u001b[32m0.07350\u001b[0m\u001b[0m | time: 49.917s\n\u001b[2K\r| SGD | epoch: 001 | loss: 0.07350 - acc: 0.9804 -- iter: 16200/55000\n"
     ]
    },
    {
     "name": "stdout",
     "output_type": "stream",
     "text": [
      "Training Step: 811  | total loss: \u001b[1m\u001b[32m0.06849\u001b[0m\u001b[0m | time: 49.995s\n\u001b[2K\r| SGD | epoch: 001 | loss: 0.06849 - acc: 0.9823 -- iter: 16220/55000\n"
     ]
    },
    {
     "name": "stdout",
     "output_type": "stream",
     "text": [
      "Training Step: 812  | total loss: \u001b[1m\u001b[32m0.06449\u001b[0m\u001b[0m | time: 50.057s\n\u001b[2K\r| SGD | epoch: 001 | loss: 0.06449 - acc: 0.9841 -- iter: 16240/55000\n"
     ]
    },
    {
     "name": "stdout",
     "output_type": "stream",
     "text": [
      "Training Step: 813  | total loss: \u001b[1m\u001b[32m0.06984\u001b[0m\u001b[0m | time: 50.120s\n\u001b[2K\r| SGD | epoch: 001 | loss: 0.06984 - acc: 0.9807 -- iter: 16260/55000\n"
     ]
    },
    {
     "name": "stdout",
     "output_type": "stream",
     "text": [
      "Training Step: 814  | total loss: \u001b[1m\u001b[32m0.08248\u001b[0m\u001b[0m | time: 50.182s\n\u001b[2K\r| SGD | epoch: 001 | loss: 0.08248 - acc: 0.9776 -- iter: 16280/55000\n"
     ]
    },
    {
     "name": "stdout",
     "output_type": "stream",
     "text": [
      "Training Step: 815  | total loss: \u001b[1m\u001b[32m0.09246\u001b[0m\u001b[0m | time: 50.245s\n\u001b[2K\r| SGD | epoch: 001 | loss: 0.09246 - acc: 0.9749 -- iter: 16300/55000\n"
     ]
    },
    {
     "name": "stdout",
     "output_type": "stream",
     "text": [
      "Training Step: 816  | total loss: \u001b[1m\u001b[32m0.08442\u001b[0m\u001b[0m | time: 50.307s\n\u001b[2K\r| SGD | epoch: 001 | loss: 0.08442 - acc: 0.9774 -- iter: 16320/55000\n"
     ]
    },
    {
     "name": "stdout",
     "output_type": "stream",
     "text": [
      "Training Step: 817  | total loss: \u001b[1m\u001b[32m0.08154\u001b[0m\u001b[0m | time: 50.370s\n\u001b[2K\r| SGD | epoch: 001 | loss: 0.08154 - acc: 0.9746 -- iter: 16340/55000\n"
     ]
    },
    {
     "name": "stdout",
     "output_type": "stream",
     "text": [
      "Training Step: 818  | total loss: \u001b[1m\u001b[32m0.09921\u001b[0m\u001b[0m | time: 50.448s\n\u001b[2K\r| SGD | epoch: 001 | loss: 0.09921 - acc: 0.9622 -- iter: 16360/55000\n"
     ]
    },
    {
     "name": "stdout",
     "output_type": "stream",
     "text": [
      "Training Step: 819  | total loss: \u001b[1m\u001b[32m0.09747\u001b[0m\u001b[0m | time: 50.511s\n\u001b[2K\r| SGD | epoch: 001 | loss: 0.09747 - acc: 0.9610 -- iter: 16380/55000\n"
     ]
    },
    {
     "name": "stdout",
     "output_type": "stream",
     "text": [
      "Training Step: 820  | total loss: \u001b[1m\u001b[32m0.08837\u001b[0m\u001b[0m | time: 50.592s\n\u001b[2K\r| SGD | epoch: 001 | loss: 0.08837 - acc: 0.9649 -- iter: 16400/55000\n"
     ]
    },
    {
     "name": "stdout",
     "output_type": "stream",
     "text": [
      "Training Step: 821  | total loss: \u001b[1m\u001b[32m0.11433\u001b[0m\u001b[0m | time: 50.649s\n\u001b[2K\r| SGD | epoch: 001 | loss: 0.11433 - acc: 0.9634 -- iter: 16420/55000\n"
     ]
    },
    {
     "name": "stdout",
     "output_type": "stream",
     "text": [
      "Training Step: 822  | total loss: \u001b[1m\u001b[32m0.12776\u001b[0m\u001b[0m | time: 50.712s\n\u001b[2K\r| SGD | epoch: 001 | loss: 0.12776 - acc: 0.9570 -- iter: 16440/55000\n"
     ]
    },
    {
     "name": "stdout",
     "output_type": "stream",
     "text": [
      "Training Step: 823  | total loss: \u001b[1m\u001b[32m0.11531\u001b[0m\u001b[0m | time: 50.774s\n\u001b[2K\r| SGD | epoch: 001 | loss: 0.11531 - acc: 0.9613 -- iter: 16460/55000\n"
     ]
    },
    {
     "name": "stdout",
     "output_type": "stream",
     "text": [
      "Training Step: 824  | total loss: \u001b[1m\u001b[32m0.12110\u001b[0m\u001b[0m | time: 50.837s\n\u001b[2K\r| SGD | epoch: 001 | loss: 0.12110 - acc: 0.9552 -- iter: 16480/55000\n"
     ]
    },
    {
     "name": "stdout",
     "output_type": "stream",
     "text": [
      "Training Step: 825  | total loss: \u001b[1m\u001b[32m0.11884\u001b[0m\u001b[0m | time: 50.899s\n\u001b[2K\r| SGD | epoch: 001 | loss: 0.11884 - acc: 0.9547 -- iter: 16500/55000\n"
     ]
    },
    {
     "name": "stdout",
     "output_type": "stream",
     "text": [
      "Training Step: 826  | total loss: \u001b[1m\u001b[32m0.11043\u001b[0m\u001b[0m | time: 50.977s\n\u001b[2K\r| SGD | epoch: 001 | loss: 0.11043 - acc: 0.9592 -- iter: 16520/55000\n"
     ]
    },
    {
     "name": "stdout",
     "output_type": "stream",
     "text": [
      "Training Step: 827  | total loss: \u001b[1m\u001b[32m0.10522\u001b[0m\u001b[0m | time: 51.040s\n\u001b[2K\r| SGD | epoch: 001 | loss: 0.10522 - acc: 0.9633 -- iter: 16540/55000\n"
     ]
    },
    {
     "name": "stdout",
     "output_type": "stream",
     "text": [
      "Training Step: 828  | total loss: \u001b[1m\u001b[32m0.10051\u001b[0m\u001b[0m | time: 51.102s\n\u001b[2K\r| SGD | epoch: 001 | loss: 0.10051 - acc: 0.9620 -- iter: 16560/55000\n"
     ]
    },
    {
     "name": "stdout",
     "output_type": "stream",
     "text": [
      "Training Step: 829  | total loss: \u001b[1m\u001b[32m0.09498\u001b[0m\u001b[0m | time: 51.181s\n\u001b[2K\r| SGD | epoch: 001 | loss: 0.09498 - acc: 0.9658 -- iter: 16580/55000\n"
     ]
    },
    {
     "name": "stdout",
     "output_type": "stream",
     "text": [
      "Training Step: 830  | total loss: \u001b[1m\u001b[32m0.09340\u001b[0m\u001b[0m | time: 51.243s\n\u001b[2K\r| SGD | epoch: 001 | loss: 0.09340 - acc: 0.9642 -- iter: 16600/55000\n"
     ]
    },
    {
     "name": "stdout",
     "output_type": "stream",
     "text": [
      "Training Step: 831  | total loss: \u001b[1m\u001b[32m0.09232\u001b[0m\u001b[0m | time: 51.306s\n\u001b[2K\r| SGD | epoch: 001 | loss: 0.09232 - acc: 0.9628 -- iter: 16620/55000\n"
     ]
    },
    {
     "name": "stdout",
     "output_type": "stream",
     "text": [
      "Training Step: 832  | total loss: \u001b[1m\u001b[32m0.09787\u001b[0m\u001b[0m | time: 51.384s\n\u001b[2K\r| SGD | epoch: 001 | loss: 0.09787 - acc: 0.9615 -- iter: 16640/55000\n"
     ]
    },
    {
     "name": "stdout",
     "output_type": "stream",
     "text": [
      "Training Step: 833  | total loss: \u001b[1m\u001b[32m0.11652\u001b[0m\u001b[0m | time: 51.446s\n\u001b[2K\r| SGD | epoch: 001 | loss: 0.11652 - acc: 0.9603 -- iter: 16660/55000\n"
     ]
    },
    {
     "name": "stdout",
     "output_type": "stream",
     "text": [
      "Training Step: 834  | total loss: \u001b[1m\u001b[32m0.11960\u001b[0m\u001b[0m | time: 51.509s\n\u001b[2K\r| SGD | epoch: 001 | loss: 0.11960 - acc: 0.9593 -- iter: 16680/55000\n"
     ]
    },
    {
     "name": "stdout",
     "output_type": "stream",
     "text": [
      "Training Step: 835  | total loss: \u001b[1m\u001b[32m0.10886\u001b[0m\u001b[0m | time: 51.573s\n\u001b[2K\r| SGD | epoch: 001 | loss: 0.10886 - acc: 0.9634 -- iter: 16700/55000\n"
     ]
    },
    {
     "name": "stdout",
     "output_type": "stream",
     "text": [
      "Training Step: 836  | total loss: \u001b[1m\u001b[32m0.10253\u001b[0m\u001b[0m | time: 51.635s\n\u001b[2K\r| SGD | epoch: 001 | loss: 0.10253 - acc: 0.9670 -- iter: 16720/55000\n"
     ]
    },
    {
     "name": "stdout",
     "output_type": "stream",
     "text": [
      "Training Step: 837  | total loss: \u001b[1m\u001b[32m0.09530\u001b[0m\u001b[0m | time: 51.713s\n\u001b[2K\r| SGD | epoch: 001 | loss: 0.09530 - acc: 0.9703 -- iter: 16740/55000\n"
     ]
    },
    {
     "name": "stdout",
     "output_type": "stream",
     "text": [
      "Training Step: 838  | total loss: \u001b[1m\u001b[32m0.09498\u001b[0m\u001b[0m | time: 51.776s\n\u001b[2K\r| SGD | epoch: 001 | loss: 0.09498 - acc: 0.9733 -- iter: 16760/55000\n"
     ]
    },
    {
     "name": "stdout",
     "output_type": "stream",
     "text": [
      "Training Step: 839  | total loss: \u001b[1m\u001b[32m0.09739\u001b[0m\u001b[0m | time: 51.838s\n\u001b[2K\r| SGD | epoch: 001 | loss: 0.09739 - acc: 0.9710 -- iter: 16780/55000\n"
     ]
    },
    {
     "name": "stdout",
     "output_type": "stream",
     "text": [
      "Training Step: 840  | total loss: \u001b[1m\u001b[32m0.10231\u001b[0m\u001b[0m | time: 51.916s\n\u001b[2K\r| SGD | epoch: 001 | loss: 0.10231 - acc: 0.9689 -- iter: 16800/55000\n"
     ]
    },
    {
     "name": "stdout",
     "output_type": "stream",
     "text": [
      "Training Step: 841  | total loss: \u001b[1m\u001b[32m0.10209\u001b[0m\u001b[0m | time: 51.979s\n\u001b[2K\r| SGD | epoch: 001 | loss: 0.10209 - acc: 0.9670 -- iter: 16820/55000\n"
     ]
    },
    {
     "name": "stdout",
     "output_type": "stream",
     "text": [
      "Training Step: 842  | total loss: \u001b[1m\u001b[32m0.09952\u001b[0m\u001b[0m | time: 52.057s\n\u001b[2K\r| SGD | epoch: 001 | loss: 0.09952 - acc: 0.9653 -- iter: 16840/55000\n"
     ]
    },
    {
     "name": "stdout",
     "output_type": "stream",
     "text": [
      "Training Step: 843  | total loss: \u001b[1m\u001b[32m0.09380\u001b[0m\u001b[0m | time: 52.119s\n\u001b[2K\r| SGD | epoch: 001 | loss: 0.09380 - acc: 0.9688 -- iter: 16860/55000\n"
     ]
    },
    {
     "name": "stdout",
     "output_type": "stream",
     "text": [
      "Training Step: 844  | total loss: \u001b[1m\u001b[32m0.08718\u001b[0m\u001b[0m | time: 52.182s\n\u001b[2K\r| SGD | epoch: 001 | loss: 0.08718 - acc: 0.9719 -- iter: 16880/55000\n"
     ]
    },
    {
     "name": "stdout",
     "output_type": "stream",
     "text": [
      "Training Step: 845  | total loss: \u001b[1m\u001b[32m0.07946\u001b[0m\u001b[0m | time: 52.244s\n\u001b[2K\r| SGD | epoch: 001 | loss: 0.07946 - acc: 0.9747 -- iter: 16900/55000\n"
     ]
    },
    {
     "name": "stdout",
     "output_type": "stream",
     "text": [
      "Training Step: 846  | total loss: \u001b[1m\u001b[32m0.07943\u001b[0m\u001b[0m | time: 52.307s\n\u001b[2K\r| SGD | epoch: 001 | loss: 0.07943 - acc: 0.9722 -- iter: 16920/55000\n"
     ]
    },
    {
     "name": "stdout",
     "output_type": "stream",
     "text": [
      "Training Step: 847  | total loss: \u001b[1m\u001b[32m0.07653\u001b[0m\u001b[0m | time: 52.369s\n\u001b[2K\r| SGD | epoch: 001 | loss: 0.07653 - acc: 0.9750 -- iter: 16940/55000\n"
     ]
    },
    {
     "name": "stdout",
     "output_type": "stream",
     "text": [
      "Training Step: 848  | total loss: \u001b[1m\u001b[32m0.09864\u001b[0m\u001b[0m | time: 52.432s\n\u001b[2K\r| SGD | epoch: 001 | loss: 0.09864 - acc: 0.9725 -- iter: 16960/55000\n"
     ]
    },
    {
     "name": "stdout",
     "output_type": "stream",
     "text": [
      "Training Step: 849  | total loss: \u001b[1m\u001b[32m0.09349\u001b[0m\u001b[0m | time: 52.500s\n\u001b[2K\r| SGD | epoch: 001 | loss: 0.09349 - acc: 0.9753 -- iter: 16980/55000\n"
     ]
    },
    {
     "name": "stdout",
     "output_type": "stream",
     "text": [
      "Training Step: 850  | total loss: \u001b[1m\u001b[32m0.08485\u001b[0m\u001b[0m | time: 52.562s\n\u001b[2K\r| SGD | epoch: 001 | loss: 0.08485 - acc: 0.9777 -- iter: 17000/55000\n"
     ]
    },
    {
     "name": "stdout",
     "output_type": "stream",
     "text": [
      "Training Step: 851  | total loss: \u001b[1m\u001b[32m0.07969\u001b[0m\u001b[0m | time: 52.640s\n\u001b[2K\r| SGD | epoch: 001 | loss: 0.07969 - acc: 0.9800 -- iter: 17020/55000\n"
     ]
    },
    {
     "name": "stdout",
     "output_type": "stream",
     "text": [
      "Training Step: 852  | total loss: \u001b[1m\u001b[32m0.09067\u001b[0m\u001b[0m | time: 52.702s\n\u001b[2K\r| SGD | epoch: 001 | loss: 0.09067 - acc: 0.9720 -- iter: 17040/55000\n"
     ]
    },
    {
     "name": "stdout",
     "output_type": "stream",
     "text": [
      "Training Step: 853  | total loss: \u001b[1m\u001b[32m0.08622\u001b[0m\u001b[0m | time: 52.765s\n\u001b[2K\r| SGD | epoch: 001 | loss: 0.08622 - acc: 0.9698 -- iter: 17060/55000\n"
     ]
    },
    {
     "name": "stdout",
     "output_type": "stream",
     "text": [
      "Training Step: 854  | total loss: \u001b[1m\u001b[32m0.08088\u001b[0m\u001b[0m | time: 52.827s\n\u001b[2K\r| SGD | epoch: 001 | loss: 0.08088 - acc: 0.9728 -- iter: 17080/55000\n"
     ]
    },
    {
     "name": "stdout",
     "output_type": "stream",
     "text": [
      "Training Step: 855  | total loss: \u001b[1m\u001b[32m0.08067\u001b[0m\u001b[0m | time: 52.905s\n\u001b[2K\r| SGD | epoch: 001 | loss: 0.08067 - acc: 0.9755 -- iter: 17100/55000\n"
     ]
    },
    {
     "name": "stdout",
     "output_type": "stream",
     "text": [
      "Training Step: 856  | total loss: \u001b[1m\u001b[32m0.07700\u001b[0m\u001b[0m | time: 52.968s\n\u001b[2K\r| SGD | epoch: 001 | loss: 0.07700 - acc: 0.9730 -- iter: 17120/55000\n"
     ]
    },
    {
     "name": "stdout",
     "output_type": "stream",
     "text": [
      "Training Step: 857  | total loss: \u001b[1m\u001b[32m0.09092\u001b[0m\u001b[0m | time: 53.030s\n\u001b[2K\r| SGD | epoch: 001 | loss: 0.09092 - acc: 0.9707 -- iter: 17140/55000\n"
     ]
    },
    {
     "name": "stdout",
     "output_type": "stream",
     "text": [
      "Training Step: 858  | total loss: \u001b[1m\u001b[32m0.08326\u001b[0m\u001b[0m | time: 53.093s\n\u001b[2K\r| SGD | epoch: 001 | loss: 0.08326 - acc: 0.9736 -- iter: 17160/55000\n"
     ]
    },
    {
     "name": "stdout",
     "output_type": "stream",
     "text": [
      "Training Step: 859  | total loss: \u001b[1m\u001b[32m0.08823\u001b[0m\u001b[0m | time: 53.171s\n\u001b[2K\r| SGD | epoch: 001 | loss: 0.08823 - acc: 0.9712 -- iter: 17180/55000\n"
     ]
    },
    {
     "name": "stdout",
     "output_type": "stream",
     "text": [
      "Training Step: 860  | total loss: \u001b[1m\u001b[32m0.08395\u001b[0m\u001b[0m | time: 53.234s\n\u001b[2K\r| SGD | epoch: 001 | loss: 0.08395 - acc: 0.9741 -- iter: 17200/55000\n"
     ]
    },
    {
     "name": "stdout",
     "output_type": "stream",
     "text": [
      "Training Step: 861  | total loss: \u001b[1m\u001b[32m0.08239\u001b[0m\u001b[0m | time: 53.312s\n\u001b[2K\r| SGD | epoch: 001 | loss: 0.08239 - acc: 0.9767 -- iter: 17220/55000\n"
     ]
    },
    {
     "name": "stdout",
     "output_type": "stream",
     "text": [
      "Training Step: 862  | total loss: \u001b[1m\u001b[32m0.10733\u001b[0m\u001b[0m | time: 53.374s\n\u001b[2K\r| SGD | epoch: 001 | loss: 0.10733 - acc: 0.9740 -- iter: 17240/55000\n"
     ]
    },
    {
     "name": "stdout",
     "output_type": "stream",
     "text": [
      "Training Step: 863  | total loss: \u001b[1m\u001b[32m0.10601\u001b[0m\u001b[0m | time: 53.438s\n\u001b[2K\r| SGD | epoch: 001 | loss: 0.10601 - acc: 0.9716 -- iter: 17260/55000\n"
     ]
    },
    {
     "name": "stdout",
     "output_type": "stream",
     "text": [
      "Training Step: 864  | total loss: \u001b[1m\u001b[32m0.09686\u001b[0m\u001b[0m | time: 53.493s\n\u001b[2K\r| SGD | epoch: 001 | loss: 0.09686 - acc: 0.9745 -- iter: 17280/55000\n"
     ]
    },
    {
     "name": "stdout",
     "output_type": "stream",
     "text": [
      "Training Step: 865  | total loss: \u001b[1m\u001b[32m0.09109\u001b[0m\u001b[0m | time: 53.571s\n\u001b[2K\r| SGD | epoch: 001 | loss: 0.09109 - acc: 0.9770 -- iter: 17300/55000\n"
     ]
    },
    {
     "name": "stdout",
     "output_type": "stream",
     "text": [
      "Training Step: 866  | total loss: \u001b[1m\u001b[32m0.11033\u001b[0m\u001b[0m | time: 53.633s\n\u001b[2K\r| SGD | epoch: 001 | loss: 0.11033 - acc: 0.9693 -- iter: 17320/55000\n"
     ]
    },
    {
     "name": "stdout",
     "output_type": "stream",
     "text": [
      "Training Step: 867  | total loss: \u001b[1m\u001b[32m0.11352\u001b[0m\u001b[0m | time: 53.696s\n\u001b[2K\r| SGD | epoch: 001 | loss: 0.11352 - acc: 0.9624 -- iter: 17340/55000\n"
     ]
    },
    {
     "name": "stdout",
     "output_type": "stream",
     "text": [
      "Training Step: 868  | total loss: \u001b[1m\u001b[32m0.11275\u001b[0m\u001b[0m | time: 53.758s\n\u001b[2K\r| SGD | epoch: 001 | loss: 0.11275 - acc: 0.9611 -- iter: 17360/55000\n"
     ]
    },
    {
     "name": "stdout",
     "output_type": "stream",
     "text": [
      "Training Step: 869  | total loss: \u001b[1m\u001b[32m0.10242\u001b[0m\u001b[0m | time: 53.837s\n\u001b[2K\r| SGD | epoch: 001 | loss: 0.10242 - acc: 0.9650 -- iter: 17380/55000\n"
     ]
    },
    {
     "name": "stdout",
     "output_type": "stream",
     "text": [
      "Training Step: 870  | total loss: \u001b[1m\u001b[32m0.09329\u001b[0m\u001b[0m | time: 53.915s\n\u001b[2K\r| SGD | epoch: 001 | loss: 0.09329 - acc: 0.9685 -- iter: 17400/55000\n"
     ]
    },
    {
     "name": "stdout",
     "output_type": "stream",
     "text": [
      "Training Step: 871  | total loss: \u001b[1m\u001b[32m0.08740\u001b[0m\u001b[0m | time: 53.977s\n\u001b[2K\r| SGD | epoch: 001 | loss: 0.08740 - acc: 0.9717 -- iter: 17420/55000\n"
     ]
    },
    {
     "name": "stdout",
     "output_type": "stream",
     "text": [
      "Training Step: 872  | total loss: \u001b[1m\u001b[32m0.08818\u001b[0m\u001b[0m | time: 54.040s\n\u001b[2K\r| SGD | epoch: 001 | loss: 0.08818 - acc: 0.9695 -- iter: 17440/55000\n"
     ]
    },
    {
     "name": "stdout",
     "output_type": "stream",
     "text": [
      "Training Step: 873  | total loss: \u001b[1m\u001b[32m0.08054\u001b[0m\u001b[0m | time: 54.102s\n\u001b[2K\r| SGD | epoch: 001 | loss: 0.08054 - acc: 0.9726 -- iter: 17460/55000\n"
     ]
    },
    {
     "name": "stdout",
     "output_type": "stream",
     "text": [
      "Training Step: 874  | total loss: \u001b[1m\u001b[32m0.09249\u001b[0m\u001b[0m | time: 54.165s\n\u001b[2K\r| SGD | epoch: 001 | loss: 0.09249 - acc: 0.9653 -- iter: 17480/55000\n"
     ]
    },
    {
     "name": "stdout",
     "output_type": "stream",
     "text": [
      "Training Step: 875  | total loss: \u001b[1m\u001b[32m0.08924\u001b[0m\u001b[0m | time: 54.227s\n\u001b[2K\r| SGD | epoch: 001 | loss: 0.08924 - acc: 0.9688 -- iter: 17500/55000\n"
     ]
    },
    {
     "name": "stdout",
     "output_type": "stream",
     "text": [
      "Training Step: 876  | total loss: \u001b[1m\u001b[32m0.08489\u001b[0m\u001b[0m | time: 54.290s\n\u001b[2K\r| SGD | epoch: 001 | loss: 0.08489 - acc: 0.9719 -- iter: 17520/55000\n"
     ]
    },
    {
     "name": "stdout",
     "output_type": "stream",
     "text": [
      "Training Step: 877  | total loss: \u001b[1m\u001b[32m0.07702\u001b[0m\u001b[0m | time: 54.368s\n\u001b[2K\r| SGD | epoch: 001 | loss: 0.07702 - acc: 0.9747 -- iter: 17540/55000\n"
     ]
    },
    {
     "name": "stdout",
     "output_type": "stream",
     "text": [
      "Training Step: 878  | total loss: \u001b[1m\u001b[32m0.07072\u001b[0m\u001b[0m | time: 54.449s\n\u001b[2K\r| SGD | epoch: 001 | loss: 0.07072 - acc: 0.9772 -- iter: 17560/55000\n"
     ]
    },
    {
     "name": "stdout",
     "output_type": "stream",
     "text": [
      "Training Step: 879  | total loss: \u001b[1m\u001b[32m0.08286\u001b[0m\u001b[0m | time: 54.548s\n\u001b[2K\r| SGD | epoch: 001 | loss: 0.08286 - acc: 0.9745 -- iter: 17580/55000\n"
     ]
    },
    {
     "name": "stdout",
     "output_type": "stream",
     "text": [
      "Training Step: 880  | total loss: \u001b[1m\u001b[32m0.12290\u001b[0m\u001b[0m | time: 54.611s\n\u001b[2K\r| SGD | epoch: 001 | loss: 0.12290 - acc: 0.9671 -- iter: 17600/55000\n"
     ]
    },
    {
     "name": "stdout",
     "output_type": "stream",
     "text": [
      "Training Step: 881  | total loss: \u001b[1m\u001b[32m0.11880\u001b[0m\u001b[0m | time: 54.689s\n\u001b[2K\r| SGD | epoch: 001 | loss: 0.11880 - acc: 0.9654 -- iter: 17620/55000\n"
     ]
    },
    {
     "name": "stdout",
     "output_type": "stream",
     "text": [
      "Training Step: 882  | total loss: \u001b[1m\u001b[32m0.11774\u001b[0m\u001b[0m | time: 54.752s\n\u001b[2K\r| SGD | epoch: 001 | loss: 0.11774 - acc: 0.9638 -- iter: 17640/55000\n"
     ]
    },
    {
     "name": "stdout",
     "output_type": "stream",
     "text": [
      "Training Step: 883  | total loss: \u001b[1m\u001b[32m0.11406\u001b[0m\u001b[0m | time: 54.830s\n\u001b[2K\r| SGD | epoch: 001 | loss: 0.11406 - acc: 0.9674 -- iter: 17660/55000\n"
     ]
    },
    {
     "name": "stdout",
     "output_type": "stream",
     "text": [
      "Training Step: 884  | total loss: \u001b[1m\u001b[32m0.11160\u001b[0m\u001b[0m | time: 54.892s\n\u001b[2K\r| SGD | epoch: 001 | loss: 0.11160 - acc: 0.9657 -- iter: 17680/55000\n"
     ]
    },
    {
     "name": "stdout",
     "output_type": "stream",
     "text": [
      "Training Step: 885  | total loss: \u001b[1m\u001b[32m0.12502\u001b[0m\u001b[0m | time: 54.955s\n\u001b[2K\r| SGD | epoch: 001 | loss: 0.12502 - acc: 0.9591 -- iter: 17700/55000\n"
     ]
    },
    {
     "name": "stdout",
     "output_type": "stream",
     "text": [
      "Training Step: 886  | total loss: \u001b[1m\u001b[32m0.12339\u001b[0m\u001b[0m | time: 55.017s\n\u001b[2K\r| SGD | epoch: 001 | loss: 0.12339 - acc: 0.9582 -- iter: 17720/55000\n"
     ]
    },
    {
     "name": "stdout",
     "output_type": "stream",
     "text": [
      "Training Step: 887  | total loss: \u001b[1m\u001b[32m0.13764\u001b[0m\u001b[0m | time: 55.095s\n\u001b[2K\r| SGD | epoch: 001 | loss: 0.13764 - acc: 0.9524 -- iter: 17740/55000\n"
     ]
    },
    {
     "name": "stdout",
     "output_type": "stream",
     "text": [
      "Training Step: 888  | total loss: \u001b[1m\u001b[32m0.13872\u001b[0m\u001b[0m | time: 55.158s\n\u001b[2K\r| SGD | epoch: 001 | loss: 0.13872 - acc: 0.9522 -- iter: 17760/55000\n"
     ]
    },
    {
     "name": "stdout",
     "output_type": "stream",
     "text": [
      "Training Step: 889  | total loss: \u001b[1m\u001b[32m0.12712\u001b[0m\u001b[0m | time: 55.236s\n\u001b[2K\r| SGD | epoch: 001 | loss: 0.12712 - acc: 0.9569 -- iter: 17780/55000\n"
     ]
    },
    {
     "name": "stdout",
     "output_type": "stream",
     "text": [
      "Training Step: 890  | total loss: \u001b[1m\u001b[32m0.11596\u001b[0m\u001b[0m | time: 55.299s\n\u001b[2K\r| SGD | epoch: 001 | loss: 0.11596 - acc: 0.9612 -- iter: 17800/55000\n"
     ]
    },
    {
     "name": "stdout",
     "output_type": "stream",
     "text": [
      "Training Step: 891  | total loss: \u001b[1m\u001b[32m0.10746\u001b[0m\u001b[0m | time: 55.377s\n\u001b[2K\r| SGD | epoch: 001 | loss: 0.10746 - acc: 0.9651 -- iter: 17820/55000\n"
     ]
    },
    {
     "name": "stdout",
     "output_type": "stream",
     "text": [
      "Training Step: 892  | total loss: \u001b[1m\u001b[32m0.11620\u001b[0m\u001b[0m | time: 55.437s\n\u001b[2K\r| SGD | epoch: 001 | loss: 0.11620 - acc: 0.9636 -- iter: 17840/55000\n"
     ]
    },
    {
     "name": "stdout",
     "output_type": "stream",
     "text": [
      "Training Step: 893  | total loss: \u001b[1m\u001b[32m0.10913\u001b[0m\u001b[0m | time: 55.515s\n\u001b[2K\r| SGD | epoch: 001 | loss: 0.10913 - acc: 0.9672 -- iter: 17860/55000\n"
     ]
    },
    {
     "name": "stdout",
     "output_type": "stream",
     "text": [
      "Training Step: 894  | total loss: \u001b[1m\u001b[32m0.10108\u001b[0m\u001b[0m | time: 55.577s\n\u001b[2K\r| SGD | epoch: 001 | loss: 0.10108 - acc: 0.9705 -- iter: 17880/55000\n"
     ]
    },
    {
     "name": "stdout",
     "output_type": "stream",
     "text": [
      "Training Step: 895  | total loss: \u001b[1m\u001b[32m0.09344\u001b[0m\u001b[0m | time: 55.656s\n\u001b[2K\r| SGD | epoch: 001 | loss: 0.09344 - acc: 0.9735 -- iter: 17900/55000\n"
     ]
    },
    {
     "name": "stdout",
     "output_type": "stream",
     "text": [
      "Training Step: 896  | total loss: \u001b[1m\u001b[32m0.09301\u001b[0m\u001b[0m | time: 55.718s\n\u001b[2K\r| SGD | epoch: 001 | loss: 0.09301 - acc: 0.9711 -- iter: 17920/55000\n"
     ]
    },
    {
     "name": "stdout",
     "output_type": "stream",
     "text": [
      "Training Step: 897  | total loss: \u001b[1m\u001b[32m0.09244\u001b[0m\u001b[0m | time: 55.781s\n\u001b[2K\r| SGD | epoch: 001 | loss: 0.09244 - acc: 0.9690 -- iter: 17940/55000\n"
     ]
    },
    {
     "name": "stdout",
     "output_type": "stream",
     "text": [
      "Training Step: 898  | total loss: \u001b[1m\u001b[32m0.09665\u001b[0m\u001b[0m | time: 55.843s\n\u001b[2K\r| SGD | epoch: 001 | loss: 0.09665 - acc: 0.9621 -- iter: 17960/55000\n"
     ]
    },
    {
     "name": "stdout",
     "output_type": "stream",
     "text": [
      "Training Step: 899  | total loss: \u001b[1m\u001b[32m0.09599\u001b[0m\u001b[0m | time: 55.906s\n\u001b[2K\r| SGD | epoch: 001 | loss: 0.09599 - acc: 0.9609 -- iter: 17980/55000\n"
     ]
    },
    {
     "name": "stdout",
     "output_type": "stream",
     "text": [
      "Training Step: 900  | total loss: \u001b[1m\u001b[32m0.08739\u001b[0m\u001b[0m | time: 55.968s\n\u001b[2K\r| SGD | epoch: 001 | loss: 0.08739 - acc: 0.9648 -- iter: 18000/55000\n"
     ]
    },
    {
     "name": "stdout",
     "output_type": "stream",
     "text": [
      "Training Step: 901  | total loss: \u001b[1m\u001b[32m0.08997\u001b[0m\u001b[0m | time: 56.015s\n\u001b[2K\r| SGD | epoch: 001 | loss: 0.08997 - acc: 0.9633 -- iter: 18020/55000\n"
     ]
    },
    {
     "name": "stdout",
     "output_type": "stream",
     "text": [
      "Training Step: 902  | total loss: \u001b[1m\u001b[32m0.11273\u001b[0m\u001b[0m | time: 56.062s\n\u001b[2K\r| SGD | epoch: 001 | loss: 0.11273 - acc: 0.9520 -- iter: 18040/55000\n"
     ]
    },
    {
     "name": "stdout",
     "output_type": "stream",
     "text": [
      "Training Step: 903  | total loss: \u001b[1m\u001b[32m0.11170\u001b[0m\u001b[0m | time: 56.124s\n\u001b[2K\r| SGD | epoch: 001 | loss: 0.11170 - acc: 0.9468 -- iter: 18060/55000\n"
     ]
    },
    {
     "name": "stdout",
     "output_type": "stream",
     "text": [
      "Training Step: 904  | total loss: \u001b[1m\u001b[32m0.10248\u001b[0m\u001b[0m | time: 56.202s\n\u001b[2K\r| SGD | epoch: 001 | loss: 0.10248 - acc: 0.9521 -- iter: 18080/55000\n"
     ]
    },
    {
     "name": "stdout",
     "output_type": "stream",
     "text": [
      "Training Step: 905  | total loss: \u001b[1m\u001b[32m0.10246\u001b[0m\u001b[0m | time: 56.265s\n\u001b[2K\r| SGD | epoch: 001 | loss: 0.10246 - acc: 0.9519 -- iter: 18100/55000\n"
     ]
    },
    {
     "name": "stdout",
     "output_type": "stream",
     "text": [
      "Training Step: 906  | total loss: \u001b[1m\u001b[32m0.09537\u001b[0m\u001b[0m | time: 56.339s\n\u001b[2K\r| SGD | epoch: 001 | loss: 0.09537 - acc: 0.9567 -- iter: 18120/55000\n"
     ]
    },
    {
     "name": "stdout",
     "output_type": "stream",
     "text": [
      "Training Step: 907  | total loss: \u001b[1m\u001b[32m0.09807\u001b[0m\u001b[0m | time: 56.395s\n\u001b[2K\r| SGD | epoch: 001 | loss: 0.09807 - acc: 0.9560 -- iter: 18140/55000\n"
     ]
    },
    {
     "name": "stdout",
     "output_type": "stream",
     "text": [
      "Training Step: 908  | total loss: \u001b[1m\u001b[32m0.09480\u001b[0m\u001b[0m | time: 56.474s\n\u001b[2K\r| SGD | epoch: 001 | loss: 0.09480 - acc: 0.9554 -- iter: 18160/55000\n"
     ]
    },
    {
     "name": "stdout",
     "output_type": "stream",
     "text": [
      "Training Step: 909  | total loss: \u001b[1m\u001b[32m0.09668\u001b[0m\u001b[0m | time: 56.536s\n\u001b[2K\r| SGD | epoch: 001 | loss: 0.09668 - acc: 0.9549 -- iter: 18180/55000\n"
     ]
    },
    {
     "name": "stdout",
     "output_type": "stream",
     "text": [
      "Training Step: 910  | total loss: \u001b[1m\u001b[32m0.10425\u001b[0m\u001b[0m | time: 56.599s\n\u001b[2K\r| SGD | epoch: 001 | loss: 0.10425 - acc: 0.9544 -- iter: 18200/55000\n"
     ]
    },
    {
     "name": "stdout",
     "output_type": "stream",
     "text": [
      "Training Step: 911  | total loss: \u001b[1m\u001b[32m0.10218\u001b[0m\u001b[0m | time: 56.677s\n\u001b[2K\r| SGD | epoch: 001 | loss: 0.10218 - acc: 0.9540 -- iter: 18220/55000\n"
     ]
    },
    {
     "name": "stdout",
     "output_type": "stream",
     "text": [
      "Training Step: 912  | total loss: \u001b[1m\u001b[32m0.09498\u001b[0m\u001b[0m | time: 56.739s\n\u001b[2K\r| SGD | epoch: 001 | loss: 0.09498 - acc: 0.9586 -- iter: 18240/55000\n"
     ]
    },
    {
     "name": "stdout",
     "output_type": "stream",
     "text": [
      "Training Step: 913  | total loss: \u001b[1m\u001b[32m0.08668\u001b[0m\u001b[0m | time: 56.817s\n\u001b[2K\r| SGD | epoch: 001 | loss: 0.08668 - acc: 0.9627 -- iter: 18260/55000\n"
     ]
    },
    {
     "name": "stdout",
     "output_type": "stream",
     "text": [
      "Training Step: 914  | total loss: \u001b[1m\u001b[32m0.08574\u001b[0m\u001b[0m | time: 56.895s\n\u001b[2K\r| SGD | epoch: 001 | loss: 0.08574 - acc: 0.9614 -- iter: 18280/55000\n"
     ]
    },
    {
     "name": "stdout",
     "output_type": "stream",
     "text": [
      "Training Step: 915  | total loss: \u001b[1m\u001b[32m0.09099\u001b[0m\u001b[0m | time: 56.958s\n\u001b[2K\r| SGD | epoch: 001 | loss: 0.09099 - acc: 0.9603 -- iter: 18300/55000\n"
     ]
    },
    {
     "name": "stdout",
     "output_type": "stream",
     "text": [
      "Training Step: 916  | total loss: \u001b[1m\u001b[32m0.10445\u001b[0m\u001b[0m | time: 57.020s\n\u001b[2K\r| SGD | epoch: 001 | loss: 0.10445 - acc: 0.9493 -- iter: 18320/55000\n"
     ]
    },
    {
     "name": "stdout",
     "output_type": "stream",
     "text": [
      "Training Step: 917  | total loss: \u001b[1m\u001b[32m0.09944\u001b[0m\u001b[0m | time: 57.083s\n\u001b[2K\r| SGD | epoch: 001 | loss: 0.09944 - acc: 0.9543 -- iter: 18340/55000\n"
     ]
    },
    {
     "name": "stdout",
     "output_type": "stream",
     "text": [
      "Training Step: 918  | total loss: \u001b[1m\u001b[32m0.09833\u001b[0m\u001b[0m | time: 57.161s\n\u001b[2K\r| SGD | epoch: 001 | loss: 0.09833 - acc: 0.9539 -- iter: 18360/55000\n"
     ]
    },
    {
     "name": "stdout",
     "output_type": "stream",
     "text": [
      "Training Step: 919  | total loss: \u001b[1m\u001b[32m0.09611\u001b[0m\u001b[0m | time: 57.224s\n\u001b[2K\r| SGD | epoch: 001 | loss: 0.09611 - acc: 0.9535 -- iter: 18380/55000\n"
     ]
    },
    {
     "name": "stdout",
     "output_type": "stream",
     "text": [
      "Training Step: 920  | total loss: \u001b[1m\u001b[32m0.08722\u001b[0m\u001b[0m | time: 57.303s\n\u001b[2K\r| SGD | epoch: 001 | loss: 0.08722 - acc: 0.9582 -- iter: 18400/55000\n"
     ]
    },
    {
     "name": "stdout",
     "output_type": "stream",
     "text": [
      "Training Step: 921  | total loss: \u001b[1m\u001b[32m0.08751\u001b[0m\u001b[0m | time: 57.370s\n\u001b[2K\r| SGD | epoch: 001 | loss: 0.08751 - acc: 0.9623 -- iter: 18420/55000\n"
     ]
    },
    {
     "name": "stdout",
     "output_type": "stream",
     "text": [
      "Training Step: 922  | total loss: \u001b[1m\u001b[32m0.11521\u001b[0m\u001b[0m | time: 57.432s\n\u001b[2K\r| SGD | epoch: 001 | loss: 0.11521 - acc: 0.9461 -- iter: 18440/55000\n"
     ]
    },
    {
     "name": "stdout",
     "output_type": "stream",
     "text": [
      "Training Step: 923  | total loss: \u001b[1m\u001b[32m0.14591\u001b[0m\u001b[0m | time: 57.495s\n\u001b[2K\r| SGD | epoch: 001 | loss: 0.14591 - acc: 0.9365 -- iter: 18460/55000\n"
     ]
    },
    {
     "name": "stdout",
     "output_type": "stream",
     "text": [
      "Training Step: 924  | total loss: \u001b[1m\u001b[32m0.15345\u001b[0m\u001b[0m | time: 57.557s\n\u001b[2K\r| SGD | epoch: 001 | loss: 0.15345 - acc: 0.9329 -- iter: 18480/55000\n"
     ]
    },
    {
     "name": "stdout",
     "output_type": "stream",
     "text": [
      "Training Step: 925  | total loss: \u001b[1m\u001b[32m0.14946\u001b[0m\u001b[0m | time: 57.620s\n\u001b[2K\r| SGD | epoch: 001 | loss: 0.14946 - acc: 0.9346 -- iter: 18500/55000\n"
     ]
    },
    {
     "name": "stdout",
     "output_type": "stream",
     "text": [
      "Training Step: 926  | total loss: \u001b[1m\u001b[32m0.13641\u001b[0m\u001b[0m | time: 57.682s\n\u001b[2K\r| SGD | epoch: 001 | loss: 0.13641 - acc: 0.9411 -- iter: 18520/55000\n"
     ]
    },
    {
     "name": "stdout",
     "output_type": "stream",
     "text": [
      "Training Step: 927  | total loss: \u001b[1m\u001b[32m0.12992\u001b[0m\u001b[0m | time: 57.760s\n\u001b[2K\r| SGD | epoch: 001 | loss: 0.12992 - acc: 0.9470 -- iter: 18540/55000\n"
     ]
    },
    {
     "name": "stdout",
     "output_type": "stream",
     "text": [
      "Training Step: 928  | total loss: \u001b[1m\u001b[32m0.11883\u001b[0m\u001b[0m | time: 57.823s\n\u001b[2K\r| SGD | epoch: 001 | loss: 0.11883 - acc: 0.9523 -- iter: 18560/55000\n"
     ]
    },
    {
     "name": "stdout",
     "output_type": "stream",
     "text": [
      "Training Step: 929  | total loss: \u001b[1m\u001b[32m0.11306\u001b[0m\u001b[0m | time: 57.901s\n\u001b[2K\r| SGD | epoch: 001 | loss: 0.11306 - acc: 0.9571 -- iter: 18580/55000\n"
     ]
    },
    {
     "name": "stdout",
     "output_type": "stream",
     "text": [
      "Training Step: 930  | total loss: \u001b[1m\u001b[32m0.12740\u001b[0m\u001b[0m | time: 57.964s\n\u001b[2K\r| SGD | epoch: 001 | loss: 0.12740 - acc: 0.9564 -- iter: 18600/55000\n"
     ]
    },
    {
     "name": "stdout",
     "output_type": "stream",
     "text": [
      "Training Step: 931  | total loss: \u001b[1m\u001b[32m0.12533\u001b[0m\u001b[0m | time: 58.026s\n\u001b[2K\r| SGD | epoch: 001 | loss: 0.12533 - acc: 0.9557 -- iter: 18620/55000\n"
     ]
    },
    {
     "name": "stdout",
     "output_type": "stream",
     "text": [
      "Training Step: 932  | total loss: \u001b[1m\u001b[32m0.11535\u001b[0m\u001b[0m | time: 58.089s\n\u001b[2K\r| SGD | epoch: 001 | loss: 0.11535 - acc: 0.9602 -- iter: 18640/55000\n"
     ]
    },
    {
     "name": "stdout",
     "output_type": "stream",
     "text": [
      "Training Step: 933  | total loss: \u001b[1m\u001b[32m0.10909\u001b[0m\u001b[0m | time: 58.167s\n\u001b[2K\r| SGD | epoch: 001 | loss: 0.10909 - acc: 0.9641 -- iter: 18660/55000\n"
     ]
    },
    {
     "name": "stdout",
     "output_type": "stream",
     "text": [
      "Training Step: 934  | total loss: \u001b[1m\u001b[32m0.10977\u001b[0m\u001b[0m | time: 58.229s\n\u001b[2K\r| SGD | epoch: 001 | loss: 0.10977 - acc: 0.9627 -- iter: 18680/55000\n"
     ]
    },
    {
     "name": "stdout",
     "output_type": "stream",
     "text": [
      "Training Step: 935  | total loss: \u001b[1m\u001b[32m0.14135\u001b[0m\u001b[0m | time: 58.300s\n\u001b[2K\r| SGD | epoch: 001 | loss: 0.14135 - acc: 0.9465 -- iter: 18700/55000\n"
     ]
    },
    {
     "name": "stdout",
     "output_type": "stream",
     "text": [
      "Training Step: 936  | total loss: \u001b[1m\u001b[32m0.13693\u001b[0m\u001b[0m | time: 58.357s\n\u001b[2K\r| SGD | epoch: 001 | loss: 0.13693 - acc: 0.9468 -- iter: 18720/55000\n"
     ]
    },
    {
     "name": "stdout",
     "output_type": "stream",
     "text": [
      "Training Step: 937  | total loss: \u001b[1m\u001b[32m0.12559\u001b[0m\u001b[0m | time: 58.435s\n\u001b[2K\r| SGD | epoch: 001 | loss: 0.12559 - acc: 0.9521 -- iter: 18740/55000\n"
     ]
    },
    {
     "name": "stdout",
     "output_type": "stream",
     "text": [
      "Training Step: 938  | total loss: \u001b[1m\u001b[32m0.17422\u001b[0m\u001b[0m | time: 58.497s\n\u001b[2K\r| SGD | epoch: 001 | loss: 0.17422 - acc: 0.9519 -- iter: 18760/55000\n"
     ]
    },
    {
     "name": "stdout",
     "output_type": "stream",
     "text": [
      "Training Step: 939  | total loss: \u001b[1m\u001b[32m0.15879\u001b[0m\u001b[0m | time: 58.560s\n\u001b[2K\r| SGD | epoch: 001 | loss: 0.15879 - acc: 0.9567 -- iter: 18780/55000\n"
     ]
    },
    {
     "name": "stdout",
     "output_type": "stream",
     "text": [
      "Training Step: 940  | total loss: \u001b[1m\u001b[32m0.14409\u001b[0m\u001b[0m | time: 58.638s\n\u001b[2K\r| SGD | epoch: 001 | loss: 0.14409 - acc: 0.9610 -- iter: 18800/55000\n"
     ]
    },
    {
     "name": "stdout",
     "output_type": "stream",
     "text": [
      "Training Step: 941  | total loss: \u001b[1m\u001b[32m0.15191\u001b[0m\u001b[0m | time: 58.701s\n\u001b[2K\r| SGD | epoch: 001 | loss: 0.15191 - acc: 0.9599 -- iter: 18820/55000\n"
     ]
    },
    {
     "name": "stdout",
     "output_type": "stream",
     "text": [
      "Training Step: 942  | total loss: \u001b[1m\u001b[32m0.14562\u001b[0m\u001b[0m | time: 58.779s\n\u001b[2K\r| SGD | epoch: 001 | loss: 0.14562 - acc: 0.9590 -- iter: 18840/55000\n"
     ]
    },
    {
     "name": "stdout",
     "output_type": "stream",
     "text": [
      "Training Step: 943  | total loss: \u001b[1m\u001b[32m0.14871\u001b[0m\u001b[0m | time: 58.841s\n\u001b[2K\r| SGD | epoch: 001 | loss: 0.14871 - acc: 0.9581 -- iter: 18860/55000\n"
     ]
    },
    {
     "name": "stdout",
     "output_type": "stream",
     "text": [
      "Training Step: 944  | total loss: \u001b[1m\u001b[32m0.14712\u001b[0m\u001b[0m | time: 58.919s\n\u001b[2K\r| SGD | epoch: 001 | loss: 0.14712 - acc: 0.9572 -- iter: 18880/55000\n"
     ]
    },
    {
     "name": "stdout",
     "output_type": "stream",
     "text": [
      "Training Step: 945  | total loss: \u001b[1m\u001b[32m0.13429\u001b[0m\u001b[0m | time: 58.982s\n\u001b[2K\r| SGD | epoch: 001 | loss: 0.13429 - acc: 0.9615 -- iter: 18900/55000\n"
     ]
    },
    {
     "name": "stdout",
     "output_type": "stream",
     "text": [
      "Training Step: 946  | total loss: \u001b[1m\u001b[32m0.15658\u001b[0m\u001b[0m | time: 59.060s\n\u001b[2K\r| SGD | epoch: 001 | loss: 0.15658 - acc: 0.9604 -- iter: 18920/55000\n"
     ]
    },
    {
     "name": "stdout",
     "output_type": "stream",
     "text": [
      "Training Step: 947  | total loss: \u001b[1m\u001b[32m0.14582\u001b[0m\u001b[0m | time: 59.122s\n\u001b[2K\r| SGD | epoch: 001 | loss: 0.14582 - acc: 0.9643 -- iter: 18940/55000\n"
     ]
    },
    {
     "name": "stdout",
     "output_type": "stream",
     "text": [
      "Training Step: 948  | total loss: \u001b[1m\u001b[32m0.13536\u001b[0m\u001b[0m | time: 59.201s\n\u001b[2K\r| SGD | epoch: 001 | loss: 0.13536 - acc: 0.9679 -- iter: 18960/55000\n"
     ]
    },
    {
     "name": "stdout",
     "output_type": "stream",
     "text": [
      "Training Step: 949  | total loss: \u001b[1m\u001b[32m0.13806\u001b[0m\u001b[0m | time: 59.271s\n\u001b[2K\r| SGD | epoch: 001 | loss: 0.13806 - acc: 0.9611 -- iter: 18980/55000\n"
     ]
    },
    {
     "name": "stdout",
     "output_type": "stream",
     "text": [
      "Training Step: 950  | total loss: \u001b[1m\u001b[32m0.12596\u001b[0m\u001b[0m | time: 59.329s\n\u001b[2K\r| SGD | epoch: 001 | loss: 0.12596 - acc: 0.9650 -- iter: 19000/55000\n"
     ]
    },
    {
     "name": "stdout",
     "output_type": "stream",
     "text": [
      "Training Step: 951  | total loss: \u001b[1m\u001b[32m0.11387\u001b[0m\u001b[0m | time: 59.392s\n\u001b[2K\r| SGD | epoch: 001 | loss: 0.11387 - acc: 0.9685 -- iter: 19020/55000\n"
     ]
    },
    {
     "name": "stdout",
     "output_type": "stream",
     "text": [
      "Training Step: 952  | total loss: \u001b[1m\u001b[32m0.10991\u001b[0m\u001b[0m | time: 59.470s\n\u001b[2K\r| SGD | epoch: 001 | loss: 0.10991 - acc: 0.9667 -- iter: 19040/55000\n"
     ]
    },
    {
     "name": "stdout",
     "output_type": "stream",
     "text": [
      "Training Step: 953  | total loss: \u001b[1m\u001b[32m0.10106\u001b[0m\u001b[0m | time: 59.532s\n\u001b[2K\r| SGD | epoch: 001 | loss: 0.10106 - acc: 0.9700 -- iter: 19060/55000\n"
     ]
    },
    {
     "name": "stdout",
     "output_type": "stream",
     "text": [
      "Training Step: 954  | total loss: \u001b[1m\u001b[32m0.09557\u001b[0m\u001b[0m | time: 59.595s\n\u001b[2K\r| SGD | epoch: 001 | loss: 0.09557 - acc: 0.9730 -- iter: 19080/55000\n"
     ]
    },
    {
     "name": "stdout",
     "output_type": "stream",
     "text": [
      "Training Step: 955  | total loss: \u001b[1m\u001b[32m0.08671\u001b[0m\u001b[0m | time: 59.657s\n\u001b[2K\r| SGD | epoch: 001 | loss: 0.08671 - acc: 0.9757 -- iter: 19100/55000\n"
     ]
    },
    {
     "name": "stdout",
     "output_type": "stream",
     "text": [
      "Training Step: 956  | total loss: \u001b[1m\u001b[32m0.10802\u001b[0m\u001b[0m | time: 59.736s\n\u001b[2K\r| SGD | epoch: 001 | loss: 0.10802 - acc: 0.9631 -- iter: 19120/55000\n"
     ]
    },
    {
     "name": "stdout",
     "output_type": "stream",
     "text": [
      "Training Step: 957  | total loss: \u001b[1m\u001b[32m0.10639\u001b[0m\u001b[0m | time: 59.814s\n\u001b[2K\r| SGD | epoch: 001 | loss: 0.10639 - acc: 0.9618 -- iter: 19140/55000\n"
     ]
    },
    {
     "name": "stdout",
     "output_type": "stream",
     "text": [
      "Training Step: 958  | total loss: \u001b[1m\u001b[32m0.09753\u001b[0m\u001b[0m | time: 59.876s\n\u001b[2K\r| SGD | epoch: 001 | loss: 0.09753 - acc: 0.9656 -- iter: 19160/55000\n"
     ]
    },
    {
     "name": "stdout",
     "output_type": "stream",
     "text": [
      "Training Step: 959  | total loss: \u001b[1m\u001b[32m0.09355\u001b[0m\u001b[0m | time: 59.954s\n\u001b[2K\r| SGD | epoch: 001 | loss: 0.09355 - acc: 0.9691 -- iter: 19180/55000\n"
     ]
    },
    {
     "name": "stdout",
     "output_type": "stream",
     "text": [
      "Training Step: 960  | total loss: \u001b[1m\u001b[32m0.08639\u001b[0m\u001b[0m | time: 60.017s\n\u001b[2K\r| SGD | epoch: 001 | loss: 0.08639 - acc: 0.9722 -- iter: 19200/55000\n"
     ]
    },
    {
     "name": "stdout",
     "output_type": "stream",
     "text": [
      "Training Step: 961  | total loss: \u001b[1m\u001b[32m0.08316\u001b[0m\u001b[0m | time: 60.079s\n\u001b[2K\r| SGD | epoch: 001 | loss: 0.08316 - acc: 0.9699 -- iter: 19220/55000\n"
     ]
    },
    {
     "name": "stdout",
     "output_type": "stream",
     "text": [
      "Training Step: 962  | total loss: \u001b[1m\u001b[32m0.08037\u001b[0m\u001b[0m | time: 60.157s\n\u001b[2K\r| SGD | epoch: 001 | loss: 0.08037 - acc: 0.9679 -- iter: 19240/55000\n"
     ]
    },
    {
     "name": "stdout",
     "output_type": "stream",
     "text": [
      "Training Step: 963  | total loss: \u001b[1m\u001b[32m0.07966\u001b[0m\u001b[0m | time: 60.222s\n\u001b[2K\r| SGD | epoch: 001 | loss: 0.07966 - acc: 0.9712 -- iter: 19260/55000\n"
     ]
    },
    {
     "name": "stdout",
     "output_type": "stream",
     "text": [
      "Training Step: 964  | total loss: \u001b[1m\u001b[32m0.09940\u001b[0m\u001b[0m | time: 60.284s\n\u001b[2K\r| SGD | epoch: 001 | loss: 0.09940 - acc: 0.9690 -- iter: 19280/55000\n"
     ]
    },
    {
     "name": "stdout",
     "output_type": "stream",
     "text": [
      "Training Step: 965  | total loss: \u001b[1m\u001b[32m0.08993\u001b[0m\u001b[0m | time: 60.362s\n\u001b[2K\r| SGD | epoch: 001 | loss: 0.08993 - acc: 0.9721 -- iter: 19300/55000\n"
     ]
    },
    {
     "name": "stdout",
     "output_type": "stream",
     "text": [
      "Training Step: 966  | total loss: \u001b[1m\u001b[32m0.08196\u001b[0m\u001b[0m | time: 60.425s\n\u001b[2K\r| SGD | epoch: 001 | loss: 0.08196 - acc: 0.9749 -- iter: 19320/55000\n"
     ]
    },
    {
     "name": "stdout",
     "output_type": "stream",
     "text": [
      "Training Step: 967  | total loss: \u001b[1m\u001b[32m0.07425\u001b[0m\u001b[0m | time: 60.505s\n\u001b[2K\r| SGD | epoch: 001 | loss: 0.07425 - acc: 0.9774 -- iter: 19340/55000\n"
     ]
    },
    {
     "name": "stdout",
     "output_type": "stream",
     "text": [
      "Training Step: 968  | total loss: \u001b[1m\u001b[32m0.07846\u001b[0m\u001b[0m | time: 60.567s\n\u001b[2K\r| SGD | epoch: 001 | loss: 0.07846 - acc: 0.9747 -- iter: 19360/55000\n"
     ]
    },
    {
     "name": "stdout",
     "output_type": "stream",
     "text": [
      "Training Step: 969  | total loss: \u001b[1m\u001b[32m0.07826\u001b[0m\u001b[0m | time: 60.630s\n\u001b[2K\r| SGD | epoch: 001 | loss: 0.07826 - acc: 0.9722 -- iter: 19380/55000\n"
     ]
    },
    {
     "name": "stdout",
     "output_type": "stream",
     "text": [
      "Training Step: 970  | total loss: \u001b[1m\u001b[32m0.09247\u001b[0m\u001b[0m | time: 60.692s\n\u001b[2K\r| SGD | epoch: 001 | loss: 0.09247 - acc: 0.9650 -- iter: 19400/55000\n"
     ]
    },
    {
     "name": "stdout",
     "output_type": "stream",
     "text": [
      "Training Step: 971  | total loss: \u001b[1m\u001b[32m0.10755\u001b[0m\u001b[0m | time: 60.755s\n\u001b[2K\r| SGD | epoch: 001 | loss: 0.10755 - acc: 0.9585 -- iter: 19420/55000\n"
     ]
    },
    {
     "name": "stdout",
     "output_type": "stream",
     "text": [
      "Training Step: 972  | total loss: \u001b[1m\u001b[32m0.12090\u001b[0m\u001b[0m | time: 60.833s\n\u001b[2K\r| SGD | epoch: 001 | loss: 0.12090 - acc: 0.9476 -- iter: 19440/55000\n"
     ]
    },
    {
     "name": "stdout",
     "output_type": "stream",
     "text": [
      "Training Step: 973  | total loss: \u001b[1m\u001b[32m0.11231\u001b[0m\u001b[0m | time: 60.911s\n\u001b[2K\r| SGD | epoch: 001 | loss: 0.11231 - acc: 0.9529 -- iter: 19460/55000\n"
     ]
    },
    {
     "name": "stdout",
     "output_type": "stream",
     "text": [
      "Training Step: 974  | total loss: \u001b[1m\u001b[32m0.10666\u001b[0m\u001b[0m | time: 60.974s\n\u001b[2K\r| SGD | epoch: 001 | loss: 0.10666 - acc: 0.9576 -- iter: 19480/55000\n"
     ]
    },
    {
     "name": "stdout",
     "output_type": "stream",
     "text": [
      "Training Step: 975  | total loss: \u001b[1m\u001b[32m0.09797\u001b[0m\u001b[0m | time: 61.052s\n\u001b[2K\r| SGD | epoch: 001 | loss: 0.09797 - acc: 0.9618 -- iter: 19500/55000\n"
     ]
    },
    {
     "name": "stdout",
     "output_type": "stream",
     "text": [
      "Training Step: 976  | total loss: \u001b[1m\u001b[32m0.09096\u001b[0m\u001b[0m | time: 61.114s\n\u001b[2K\r| SGD | epoch: 001 | loss: 0.09096 - acc: 0.9657 -- iter: 19520/55000\n"
     ]
    },
    {
     "name": "stdout",
     "output_type": "stream",
     "text": [
      "Training Step: 977  | total loss: \u001b[1m\u001b[32m0.08333\u001b[0m\u001b[0m | time: 61.195s\n\u001b[2K\r| SGD | epoch: 001 | loss: 0.08333 - acc: 0.9691 -- iter: 19540/55000\n"
     ]
    },
    {
     "name": "stdout",
     "output_type": "stream",
     "text": [
      "Training Step: 978  | total loss: \u001b[1m\u001b[32m0.08084\u001b[0m\u001b[0m | time: 61.251s\n\u001b[2K\r| SGD | epoch: 001 | loss: 0.08084 - acc: 0.9722 -- iter: 19560/55000\n"
     ]
    },
    {
     "name": "stdout",
     "output_type": "stream",
     "text": [
      "Training Step: 979  | total loss: \u001b[1m\u001b[32m0.07287\u001b[0m\u001b[0m | time: 61.313s\n\u001b[2K\r| SGD | epoch: 001 | loss: 0.07287 - acc: 0.9750 -- iter: 19580/55000\n"
     ]
    },
    {
     "name": "stdout",
     "output_type": "stream",
     "text": [
      "Training Step: 980  | total loss: \u001b[1m\u001b[32m0.07705\u001b[0m\u001b[0m | time: 61.391s\n\u001b[2K\r| SGD | epoch: 001 | loss: 0.07705 - acc: 0.9725 -- iter: 19600/55000\n"
     ]
    },
    {
     "name": "stdout",
     "output_type": "stream",
     "text": [
      "Training Step: 981  | total loss: \u001b[1m\u001b[32m0.10675\u001b[0m\u001b[0m | time: 61.454s\n\u001b[2K\r| SGD | epoch: 001 | loss: 0.10675 - acc: 0.9702 -- iter: 19620/55000\n"
     ]
    },
    {
     "name": "stdout",
     "output_type": "stream",
     "text": [
      "Training Step: 982  | total loss: \u001b[1m\u001b[32m0.09834\u001b[0m\u001b[0m | time: 61.532s\n\u001b[2K\r| SGD | epoch: 001 | loss: 0.09834 - acc: 0.9732 -- iter: 19640/55000\n"
     ]
    },
    {
     "name": "stdout",
     "output_type": "stream",
     "text": [
      "Training Step: 983  | total loss: \u001b[1m\u001b[32m0.09896\u001b[0m\u001b[0m | time: 61.610s\n\u001b[2K\r| SGD | epoch: 001 | loss: 0.09896 - acc: 0.9709 -- iter: 19660/55000\n"
     ]
    },
    {
     "name": "stdout",
     "output_type": "stream",
     "text": [
      "Training Step: 984  | total loss: \u001b[1m\u001b[32m0.10670\u001b[0m\u001b[0m | time: 61.672s\n\u001b[2K\r| SGD | epoch: 001 | loss: 0.10670 - acc: 0.9688 -- iter: 19680/55000\n"
     ]
    },
    {
     "name": "stdout",
     "output_type": "stream",
     "text": [
      "Training Step: 985  | total loss: \u001b[1m\u001b[32m0.10160\u001b[0m\u001b[0m | time: 61.751s\n\u001b[2K\r| SGD | epoch: 001 | loss: 0.10160 - acc: 0.9669 -- iter: 19700/55000\n"
     ]
    },
    {
     "name": "stdout",
     "output_type": "stream",
     "text": [
      "Training Step: 986  | total loss: \u001b[1m\u001b[32m0.09230\u001b[0m\u001b[0m | time: 61.813s\n\u001b[2K\r| SGD | epoch: 001 | loss: 0.09230 - acc: 0.9702 -- iter: 19720/55000\n"
     ]
    },
    {
     "name": "stdout",
     "output_type": "stream",
     "text": [
      "Training Step: 987  | total loss: \u001b[1m\u001b[32m0.08900\u001b[0m\u001b[0m | time: 61.876s\n\u001b[2K\r| SGD | epoch: 001 | loss: 0.08900 - acc: 0.9732 -- iter: 19740/55000\n"
     ]
    },
    {
     "name": "stdout",
     "output_type": "stream",
     "text": [
      "Training Step: 988  | total loss: \u001b[1m\u001b[32m0.08787\u001b[0m\u001b[0m | time: 61.954s\n\u001b[2K\r| SGD | epoch: 001 | loss: 0.08787 - acc: 0.9759 -- iter: 19760/55000\n"
     ]
    },
    {
     "name": "stdout",
     "output_type": "stream",
     "text": [
      "Training Step: 989  | total loss: \u001b[1m\u001b[32m0.08164\u001b[0m\u001b[0m | time: 62.016s\n\u001b[2K\r| SGD | epoch: 001 | loss: 0.08164 - acc: 0.9783 -- iter: 19780/55000\n"
     ]
    },
    {
     "name": "stdout",
     "output_type": "stream",
     "text": [
      "Training Step: 990  | total loss: \u001b[1m\u001b[32m0.08076\u001b[0m\u001b[0m | time: 62.110s\n\u001b[2K\r| SGD | epoch: 001 | loss: 0.08076 - acc: 0.9755 -- iter: 19800/55000\n"
     ]
    },
    {
     "name": "stdout",
     "output_type": "stream",
     "text": [
      "Training Step: 991  | total loss: \u001b[1m\u001b[32m0.08813\u001b[0m\u001b[0m | time: 62.195s\n\u001b[2K\r| SGD | epoch: 001 | loss: 0.08813 - acc: 0.9729 -- iter: 19820/55000\n"
     ]
    },
    {
     "name": "stdout",
     "output_type": "stream",
     "text": [
      "Training Step: 992  | total loss: \u001b[1m\u001b[32m0.08009\u001b[0m\u001b[0m | time: 62.273s\n\u001b[2K\r| SGD | epoch: 001 | loss: 0.08009 - acc: 0.9756 -- iter: 19840/55000\n"
     ]
    },
    {
     "name": "stdout",
     "output_type": "stream",
     "text": [
      "Training Step: 993  | total loss: \u001b[1m\u001b[32m0.08160\u001b[0m\u001b[0m | time: 62.335s\n\u001b[2K\r| SGD | epoch: 001 | loss: 0.08160 - acc: 0.9731 -- iter: 19860/55000\n"
     ]
    },
    {
     "name": "stdout",
     "output_type": "stream",
     "text": [
      "Training Step: 994  | total loss: \u001b[1m\u001b[32m0.07585\u001b[0m\u001b[0m | time: 62.398s\n\u001b[2K\r| SGD | epoch: 001 | loss: 0.07585 - acc: 0.9758 -- iter: 19880/55000\n"
     ]
    },
    {
     "name": "stdout",
     "output_type": "stream",
     "text": [
      "Training Step: 995  | total loss: \u001b[1m\u001b[32m0.07425\u001b[0m\u001b[0m | time: 62.476s\n\u001b[2K\r| SGD | epoch: 001 | loss: 0.07425 - acc: 0.9732 -- iter: 19900/55000\n"
     ]
    },
    {
     "name": "stdout",
     "output_type": "stream",
     "text": [
      "Training Step: 996  | total loss: \u001b[1m\u001b[32m0.06744\u001b[0m\u001b[0m | time: 62.538s\n\u001b[2K\r| SGD | epoch: 001 | loss: 0.06744 - acc: 0.9759 -- iter: 19920/55000\n"
     ]
    },
    {
     "name": "stdout",
     "output_type": "stream",
     "text": [
      "Training Step: 997  | total loss: \u001b[1m\u001b[32m0.06214\u001b[0m\u001b[0m | time: 62.617s\n\u001b[2K\r| SGD | epoch: 001 | loss: 0.06214 - acc: 0.9783 -- iter: 19940/55000\n"
     ]
    },
    {
     "name": "stdout",
     "output_type": "stream",
     "text": [
      "Training Step: 998  | total loss: \u001b[1m\u001b[32m0.05684\u001b[0m\u001b[0m | time: 62.679s\n\u001b[2K\r| SGD | epoch: 001 | loss: 0.05684 - acc: 0.9804 -- iter: 19960/55000\n"
     ]
    },
    {
     "name": "stdout",
     "output_type": "stream",
     "text": [
      "Training Step: 999  | total loss: \u001b[1m\u001b[32m0.07875\u001b[0m\u001b[0m | time: 62.742s\n\u001b[2K\r| SGD | epoch: 001 | loss: 0.07875 - acc: 0.9774 -- iter: 19980/55000\n"
     ]
    },
    {
     "name": "stdout",
     "output_type": "stream",
     "text": [
      "Training Step: 1000  | total loss: \u001b[1m\u001b[32m0.12534\u001b[0m\u001b[0m | time: 62.804s\n\u001b[2K\r| SGD | epoch: 001 | loss: 0.12534 - acc: 0.9647 -- iter: 20000/55000\n"
     ]
    },
    {
     "name": "stdout",
     "output_type": "stream",
     "text": [
      "Training Step: 1001  | total loss: \u001b[1m\u001b[32m0.12285\u001b[0m\u001b[0m | time: 62.867s\n\u001b[2K\r| SGD | epoch: 001 | loss: 0.12285 - acc: 0.9632 -- iter: 20020/55000\n"
     ]
    },
    {
     "name": "stdout",
     "output_type": "stream",
     "text": [
      "Training Step: 1002  | total loss: \u001b[1m\u001b[32m0.11667\u001b[0m\u001b[0m | time: 62.929s\n\u001b[2K\r| SGD | epoch: 001 | loss: 0.11667 - acc: 0.9669 -- iter: 20040/55000\n"
     ]
    },
    {
     "name": "stdout",
     "output_type": "stream",
     "text": [
      "Training Step: 1003  | total loss: \u001b[1m\u001b[32m0.10769\u001b[0m\u001b[0m | time: 62.992s\n\u001b[2K\r| SGD | epoch: 001 | loss: 0.10769 - acc: 0.9702 -- iter: 20060/55000\n"
     ]
    },
    {
     "name": "stdout",
     "output_type": "stream",
     "text": [
      "Training Step: 1004  | total loss: \u001b[1m\u001b[32m0.09735\u001b[0m\u001b[0m | time: 63.054s\n\u001b[2K\r| SGD | epoch: 001 | loss: 0.09735 - acc: 0.9732 -- iter: 20080/55000\n"
     ]
    },
    {
     "name": "stdout",
     "output_type": "stream",
     "text": [
      "Training Step: 1005  | total loss: \u001b[1m\u001b[32m0.08879\u001b[0m\u001b[0m | time: 63.128s\n\u001b[2K\r| SGD | epoch: 001 | loss: 0.08879 - acc: 0.9759 -- iter: 20100/55000\n"
     ]
    },
    {
     "name": "stdout",
     "output_type": "stream",
     "text": [
      "Training Step: 1006  | total loss: \u001b[1m\u001b[32m0.08049\u001b[0m\u001b[0m | time: 63.189s\n\u001b[2K\r| SGD | epoch: 001 | loss: 0.08049 - acc: 0.9783 -- iter: 20120/55000\n"
     ]
    },
    {
     "name": "stdout",
     "output_type": "stream",
     "text": [
      "Training Step: 1007  | total loss: \u001b[1m\u001b[32m0.07629\u001b[0m\u001b[0m | time: 63.252s\n\u001b[2K\r| SGD | epoch: 001 | loss: 0.07629 - acc: 0.9804 -- iter: 20140/55000\n"
     ]
    },
    {
     "name": "stdout",
     "output_type": "stream",
     "text": [
      "Training Step: 1008  | total loss: \u001b[1m\u001b[32m0.09257\u001b[0m\u001b[0m | time: 63.298s\n\u001b[2K\r| SGD | epoch: 001 | loss: 0.09257 - acc: 0.9774 -- iter: 20160/55000\n"
     ]
    },
    {
     "name": "stdout",
     "output_type": "stream",
     "text": [
      "Training Step: 1009  | total loss: \u001b[1m\u001b[32m0.10033\u001b[0m\u001b[0m | time: 63.361s\n\u001b[2K\r| SGD | epoch: 001 | loss: 0.10033 - acc: 0.9747 -- iter: 20180/55000\n"
     ]
    },
    {
     "name": "stdout",
     "output_type": "stream",
     "text": [
      "Training Step: 1010  | total loss: \u001b[1m\u001b[32m0.09116\u001b[0m\u001b[0m | time: 63.423s\n\u001b[2K\r| SGD | epoch: 001 | loss: 0.09116 - acc: 0.9772 -- iter: 20200/55000\n"
     ]
    },
    {
     "name": "stdout",
     "output_type": "stream",
     "text": [
      "Training Step: 1011  | total loss: \u001b[1m\u001b[32m0.08415\u001b[0m\u001b[0m | time: 63.486s\n\u001b[2K\r| SGD | epoch: 001 | loss: 0.08415 - acc: 0.9795 -- iter: 20220/55000\n"
     ]
    },
    {
     "name": "stdout",
     "output_type": "stream",
     "text": [
      "Training Step: 1012  | total loss: \u001b[1m\u001b[32m0.09071\u001b[0m\u001b[0m | time: 63.558s\n\u001b[2K\r| SGD | epoch: 001 | loss: 0.09071 - acc: 0.9765 -- iter: 20240/55000\n"
     ]
    },
    {
     "name": "stdout",
     "output_type": "stream",
     "text": [
      "Training Step: 1013  | total loss: \u001b[1m\u001b[32m0.08548\u001b[0m\u001b[0m | time: 63.636s\n\u001b[2K\r| SGD | epoch: 001 | loss: 0.08548 - acc: 0.9789 -- iter: 20260/55000\n"
     ]
    },
    {
     "name": "stdout",
     "output_type": "stream",
     "text": [
      "Training Step: 1014  | total loss: \u001b[1m\u001b[32m0.08340\u001b[0m\u001b[0m | time: 63.714s\n\u001b[2K\r| SGD | epoch: 001 | loss: 0.08340 - acc: 0.9760 -- iter: 20280/55000\n"
     ]
    },
    {
     "name": "stdout",
     "output_type": "stream",
     "text": [
      "Training Step: 1015  | total loss: \u001b[1m\u001b[32m0.07560\u001b[0m\u001b[0m | time: 63.776s\n\u001b[2K\r| SGD | epoch: 001 | loss: 0.07560 - acc: 0.9784 -- iter: 20300/55000\n"
     ]
    },
    {
     "name": "stdout",
     "output_type": "stream",
     "text": [
      "Training Step: 1016  | total loss: \u001b[1m\u001b[32m0.06917\u001b[0m\u001b[0m | time: 63.855s\n\u001b[2K\r| SGD | epoch: 001 | loss: 0.06917 - acc: 0.9805 -- iter: 20320/55000\n"
     ]
    },
    {
     "name": "stdout",
     "output_type": "stream",
     "text": [
      "Training Step: 1017  | total loss: \u001b[1m\u001b[32m0.07398\u001b[0m\u001b[0m | time: 63.933s\n\u001b[2K\r| SGD | epoch: 001 | loss: 0.07398 - acc: 0.9725 -- iter: 20340/55000\n"
     ]
    },
    {
     "name": "stdout",
     "output_type": "stream",
     "text": [
      "Training Step: 1018  | total loss: \u001b[1m\u001b[32m0.06884\u001b[0m\u001b[0m | time: 63.995s\n\u001b[2K\r| SGD | epoch: 001 | loss: 0.06884 - acc: 0.9752 -- iter: 20360/55000\n"
     ]
    },
    {
     "name": "stdout",
     "output_type": "stream",
     "text": [
      "Training Step: 1019  | total loss: \u001b[1m\u001b[32m0.06340\u001b[0m\u001b[0m | time: 64.074s\n\u001b[2K\r| SGD | epoch: 001 | loss: 0.06340 - acc: 0.9777 -- iter: 20380/55000\n"
     ]
    },
    {
     "name": "stdout",
     "output_type": "stream",
     "text": [
      "Training Step: 1020  | total loss: \u001b[1m\u001b[32m0.06144\u001b[0m\u001b[0m | time: 64.132s\n\u001b[2K\r| SGD | epoch: 001 | loss: 0.06144 - acc: 0.9749 -- iter: 20400/55000\n"
     ]
    },
    {
     "name": "stdout",
     "output_type": "stream",
     "text": [
      "Training Step: 1021  | total loss: \u001b[1m\u001b[32m0.05696\u001b[0m\u001b[0m | time: 64.210s\n\u001b[2K\r| SGD | epoch: 001 | loss: 0.05696 - acc: 0.9775 -- iter: 20420/55000\n"
     ]
    },
    {
     "name": "stdout",
     "output_type": "stream",
     "text": [
      "Training Step: 1022  | total loss: \u001b[1m\u001b[32m0.10468\u001b[0m\u001b[0m | time: 64.272s\n\u001b[2K\r| SGD | epoch: 001 | loss: 0.10468 - acc: 0.9747 -- iter: 20440/55000\n"
     ]
    },
    {
     "name": "stdout",
     "output_type": "stream",
     "text": [
      "Training Step: 1023  | total loss: \u001b[1m\u001b[32m0.09980\u001b[0m\u001b[0m | time: 64.335s\n\u001b[2K\r| SGD | epoch: 001 | loss: 0.09980 - acc: 0.9772 -- iter: 20460/55000\n"
     ]
    },
    {
     "name": "stdout",
     "output_type": "stream",
     "text": [
      "Training Step: 1024  | total loss: \u001b[1m\u001b[32m0.09106\u001b[0m\u001b[0m | time: 64.382s\n\u001b[2K\r| SGD | epoch: 001 | loss: 0.09106 - acc: 0.9795 -- iter: 20480/55000\n"
     ]
    },
    {
     "name": "stdout",
     "output_type": "stream",
     "text": [
      "Training Step: 1025  | total loss: \u001b[1m\u001b[32m0.08240\u001b[0m\u001b[0m | time: 64.444s\n\u001b[2K\r| SGD | epoch: 001 | loss: 0.08240 - acc: 0.9816 -- iter: 20500/55000\n"
     ]
    },
    {
     "name": "stdout",
     "output_type": "stream",
     "text": [
      "Training Step: 1026  | total loss: \u001b[1m\u001b[32m0.07685\u001b[0m\u001b[0m | time: 64.522s\n\u001b[2K\r| SGD | epoch: 001 | loss: 0.07685 - acc: 0.9834 -- iter: 20520/55000\n"
     ]
    },
    {
     "name": "stdout",
     "output_type": "stream",
     "text": [
      "Training Step: 1027  | total loss: \u001b[1m\u001b[32m0.07822\u001b[0m\u001b[0m | time: 64.600s\n\u001b[2K\r| SGD | epoch: 001 | loss: 0.07822 - acc: 0.9851 -- iter: 20540/55000\n"
     ]
    },
    {
     "name": "stdout",
     "output_type": "stream",
     "text": [
      "Training Step: 1028  | total loss: \u001b[1m\u001b[32m0.08424\u001b[0m\u001b[0m | time: 64.663s\n\u001b[2K\r| SGD | epoch: 001 | loss: 0.08424 - acc: 0.9816 -- iter: 20560/55000\n"
     ]
    },
    {
     "name": "stdout",
     "output_type": "stream",
     "text": [
      "Training Step: 1029  | total loss: \u001b[1m\u001b[32m0.10449\u001b[0m\u001b[0m | time: 64.725s\n\u001b[2K\r| SGD | epoch: 001 | loss: 0.10449 - acc: 0.9734 -- iter: 20580/55000\n"
     ]
    },
    {
     "name": "stdout",
     "output_type": "stream",
     "text": [
      "Training Step: 1030  | total loss: \u001b[1m\u001b[32m0.09451\u001b[0m\u001b[0m | time: 64.788s\n\u001b[2K\r| SGD | epoch: 001 | loss: 0.09451 - acc: 0.9761 -- iter: 20600/55000\n"
     ]
    },
    {
     "name": "stdout",
     "output_type": "stream",
     "text": [
      "Training Step: 1031  | total loss: \u001b[1m\u001b[32m0.09932\u001b[0m\u001b[0m | time: 64.866s\n\u001b[2K\r| SGD | epoch: 001 | loss: 0.09932 - acc: 0.9735 -- iter: 20620/55000\n"
     ]
    },
    {
     "name": "stdout",
     "output_type": "stream",
     "text": [
      "Training Step: 1032  | total loss: \u001b[1m\u001b[32m0.09440\u001b[0m\u001b[0m | time: 64.929s\n\u001b[2K\r| SGD | epoch: 001 | loss: 0.09440 - acc: 0.9761 -- iter: 20640/55000\n"
     ]
    },
    {
     "name": "stdout",
     "output_type": "stream",
     "text": [
      "Training Step: 1033  | total loss: \u001b[1m\u001b[32m0.09668\u001b[0m\u001b[0m | time: 65.011s\n\u001b[2K\r| SGD | epoch: 001 | loss: 0.09668 - acc: 0.9735 -- iter: 20660/55000\n"
     ]
    },
    {
     "name": "stdout",
     "output_type": "stream",
     "text": [
      "Training Step: 1034  | total loss: \u001b[1m\u001b[32m0.08916\u001b[0m\u001b[0m | time: 65.068s\n\u001b[2K\r| SGD | epoch: 001 | loss: 0.08916 - acc: 0.9761 -- iter: 20680/55000\n"
     ]
    },
    {
     "name": "stdout",
     "output_type": "stream",
     "text": [
      "Training Step: 1035  | total loss: \u001b[1m\u001b[32m0.08062\u001b[0m\u001b[0m | time: 65.146s\n\u001b[2K\r| SGD | epoch: 001 | loss: 0.08062 - acc: 0.9785 -- iter: 20700/55000\n"
     ]
    },
    {
     "name": "stdout",
     "output_type": "stream",
     "text": [
      "Training Step: 1036  | total loss: \u001b[1m\u001b[32m0.07539\u001b[0m\u001b[0m | time: 65.224s\n\u001b[2K\r| SGD | epoch: 001 | loss: 0.07539 - acc: 0.9807 -- iter: 20720/55000\n"
     ]
    },
    {
     "name": "stdout",
     "output_type": "stream",
     "text": [
      "Training Step: 1037  | total loss: \u001b[1m\u001b[32m0.07534\u001b[0m\u001b[0m | time: 65.287s\n\u001b[2K\r| SGD | epoch: 001 | loss: 0.07534 - acc: 0.9776 -- iter: 20740/55000\n"
     ]
    },
    {
     "name": "stdout",
     "output_type": "stream",
     "text": [
      "Training Step: 1038  | total loss: \u001b[1m\u001b[32m0.07117\u001b[0m\u001b[0m | time: 65.349s\n\u001b[2K\r| SGD | epoch: 001 | loss: 0.07117 - acc: 0.9799 -- iter: 20760/55000\n"
     ]
    },
    {
     "name": "stdout",
     "output_type": "stream",
     "text": [
      "Training Step: 1039  | total loss: \u001b[1m\u001b[32m0.06840\u001b[0m\u001b[0m | time: 65.412s\n\u001b[2K\r| SGD | epoch: 001 | loss: 0.06840 - acc: 0.9819 -- iter: 20780/55000\n"
     ]
    },
    {
     "name": "stdout",
     "output_type": "stream",
     "text": [
      "Training Step: 1040  | total loss: \u001b[1m\u001b[32m0.06781\u001b[0m\u001b[0m | time: 65.474s\n\u001b[2K\r| SGD | epoch: 001 | loss: 0.06781 - acc: 0.9787 -- iter: 20800/55000\n"
     ]
    },
    {
     "name": "stdout",
     "output_type": "stream",
     "text": [
      "Training Step: 1041  | total loss: \u001b[1m\u001b[32m0.12288\u001b[0m\u001b[0m | time: 65.537s\n\u001b[2K\r| SGD | epoch: 001 | loss: 0.12288 - acc: 0.9708 -- iter: 20820/55000\n"
     ]
    },
    {
     "name": "stdout",
     "output_type": "stream",
     "text": [
      "Training Step: 1042  | total loss: \u001b[1m\u001b[32m0.11843\u001b[0m\u001b[0m | time: 65.599s\n\u001b[2K\r| SGD | epoch: 001 | loss: 0.11843 - acc: 0.9687 -- iter: 20840/55000\n"
     ]
    },
    {
     "name": "stdout",
     "output_type": "stream",
     "text": [
      "Training Step: 1043  | total loss: \u001b[1m\u001b[32m0.10805\u001b[0m\u001b[0m | time: 65.678s\n\u001b[2K\r| SGD | epoch: 001 | loss: 0.10805 - acc: 0.9719 -- iter: 20860/55000\n"
     ]
    },
    {
     "name": "stdout",
     "output_type": "stream",
     "text": [
      "Training Step: 1044  | total loss: \u001b[1m\u001b[32m0.10075\u001b[0m\u001b[0m | time: 65.740s\n\u001b[2K\r| SGD | epoch: 001 | loss: 0.10075 - acc: 0.9747 -- iter: 20880/55000\n"
     ]
    },
    {
     "name": "stdout",
     "output_type": "stream",
     "text": [
      "Training Step: 1045  | total loss: \u001b[1m\u001b[32m0.09221\u001b[0m\u001b[0m | time: 65.803s\n\u001b[2K\r| SGD | epoch: 001 | loss: 0.09221 - acc: 0.9772 -- iter: 20900/55000\n"
     ]
    },
    {
     "name": "stdout",
     "output_type": "stream",
     "text": [
      "Training Step: 1046  | total loss: \u001b[1m\u001b[32m0.10053\u001b[0m\u001b[0m | time: 65.865s\n\u001b[2K\r| SGD | epoch: 001 | loss: 0.10053 - acc: 0.9745 -- iter: 20920/55000\n"
     ]
    },
    {
     "name": "stdout",
     "output_type": "stream",
     "text": [
      "Training Step: 1047  | total loss: \u001b[1m\u001b[32m0.09501\u001b[0m\u001b[0m | time: 65.935s\n\u001b[2K\r| SGD | epoch: 001 | loss: 0.09501 - acc: 0.9770 -- iter: 20940/55000\n"
     ]
    },
    {
     "name": "stdout",
     "output_type": "stream",
     "text": [
      "Training Step: 1048  | total loss: \u001b[1m\u001b[32m0.09995\u001b[0m\u001b[0m | time: 66.006s\n\u001b[2K\r| SGD | epoch: 001 | loss: 0.09995 - acc: 0.9743 -- iter: 20960/55000\n"
     ]
    },
    {
     "name": "stdout",
     "output_type": "stream",
     "text": [
      "Training Step: 1049  | total loss: \u001b[1m\u001b[32m0.09249\u001b[0m\u001b[0m | time: 66.084s\n\u001b[2K\r| SGD | epoch: 001 | loss: 0.09249 - acc: 0.9769 -- iter: 20980/55000\n"
     ]
    },
    {
     "name": "stdout",
     "output_type": "stream",
     "text": [
      "Training Step: 1050  | total loss: \u001b[1m\u001b[32m0.09139\u001b[0m\u001b[0m | time: 66.147s\n\u001b[2K\r| SGD | epoch: 001 | loss: 0.09139 - acc: 0.9742 -- iter: 21000/55000\n"
     ]
    },
    {
     "name": "stdout",
     "output_type": "stream",
     "text": [
      "Training Step: 1051  | total loss: \u001b[1m\u001b[32m0.08838\u001b[0m\u001b[0m | time: 66.209s\n\u001b[2K\r| SGD | epoch: 001 | loss: 0.08838 - acc: 0.9768 -- iter: 21020/55000\n"
     ]
    },
    {
     "name": "stdout",
     "output_type": "stream",
     "text": [
      "Training Step: 1052  | total loss: \u001b[1m\u001b[32m0.08111\u001b[0m\u001b[0m | time: 66.287s\n\u001b[2K\r| SGD | epoch: 001 | loss: 0.08111 - acc: 0.9791 -- iter: 21040/55000\n"
     ]
    },
    {
     "name": "stdout",
     "output_type": "stream",
     "text": [
      "Training Step: 1053  | total loss: \u001b[1m\u001b[32m0.07388\u001b[0m\u001b[0m | time: 66.350s\n\u001b[2K\r| SGD | epoch: 001 | loss: 0.07388 - acc: 0.9812 -- iter: 21060/55000\n"
     ]
    },
    {
     "name": "stdout",
     "output_type": "stream",
     "text": [
      "Training Step: 1054  | total loss: \u001b[1m\u001b[32m0.07530\u001b[0m\u001b[0m | time: 66.412s\n\u001b[2K\r| SGD | epoch: 001 | loss: 0.07530 - acc: 0.9781 -- iter: 21080/55000\n"
     ]
    },
    {
     "name": "stdout",
     "output_type": "stream",
     "text": [
      "Training Step: 1055  | total loss: \u001b[1m\u001b[32m0.07372\u001b[0m\u001b[0m | time: 66.490s\n\u001b[2K\r| SGD | epoch: 001 | loss: 0.07372 - acc: 0.9753 -- iter: 21100/55000\n"
     ]
    },
    {
     "name": "stdout",
     "output_type": "stream",
     "text": [
      "Training Step: 1056  | total loss: \u001b[1m\u001b[32m0.09246\u001b[0m\u001b[0m | time: 66.553s\n\u001b[2K\r| SGD | epoch: 001 | loss: 0.09246 - acc: 0.9727 -- iter: 21120/55000\n"
     ]
    },
    {
     "name": "stdout",
     "output_type": "stream",
     "text": [
      "Training Step: 1057  | total loss: \u001b[1m\u001b[32m0.11477\u001b[0m\u001b[0m | time: 66.615s\n\u001b[2K\r| SGD | epoch: 001 | loss: 0.11477 - acc: 0.9655 -- iter: 21140/55000\n"
     ]
    },
    {
     "name": "stdout",
     "output_type": "stream",
     "text": [
      "Training Step: 1058  | total loss: \u001b[1m\u001b[32m0.10517\u001b[0m\u001b[0m | time: 66.678s\n\u001b[2K\r| SGD | epoch: 001 | loss: 0.10517 - acc: 0.9689 -- iter: 21160/55000\n"
     ]
    },
    {
     "name": "stdout",
     "output_type": "stream",
     "text": [
      "Training Step: 1059  | total loss: \u001b[1m\u001b[32m0.12928\u001b[0m\u001b[0m | time: 66.740s\n\u001b[2K\r| SGD | epoch: 001 | loss: 0.12928 - acc: 0.9670 -- iter: 21180/55000\n"
     ]
    },
    {
     "name": "stdout",
     "output_type": "stream",
     "text": [
      "Training Step: 1060  | total loss: \u001b[1m\u001b[32m0.12874\u001b[0m\u001b[0m | time: 66.803s\n\u001b[2K\r| SGD | epoch: 001 | loss: 0.12874 - acc: 0.9653 -- iter: 21200/55000\n"
     ]
    },
    {
     "name": "stdout",
     "output_type": "stream",
     "text": [
      "Training Step: 1061  | total loss: \u001b[1m\u001b[32m0.12231\u001b[0m\u001b[0m | time: 66.893s\n\u001b[2K\r| SGD | epoch: 001 | loss: 0.12231 - acc: 0.9688 -- iter: 21220/55000\n"
     ]
    },
    {
     "name": "stdout",
     "output_type": "stream",
     "text": [
      "Training Step: 1062  | total loss: \u001b[1m\u001b[32m0.14288\u001b[0m\u001b[0m | time: 66.963s\n\u001b[2K\r| SGD | epoch: 001 | loss: 0.14288 - acc: 0.9569 -- iter: 21240/55000\n"
     ]
    },
    {
     "name": "stdout",
     "output_type": "stream",
     "text": [
      "Training Step: 1063  | total loss: \u001b[1m\u001b[32m0.13127\u001b[0m\u001b[0m | time: 67.025s\n\u001b[2K\r| SGD | epoch: 001 | loss: 0.13127 - acc: 0.9612 -- iter: 21260/55000\n"
     ]
    },
    {
     "name": "stdout",
     "output_type": "stream",
     "text": [
      "Training Step: 1064  | total loss: \u001b[1m\u001b[32m0.12316\u001b[0m\u001b[0m | time: 67.103s\n\u001b[2K\r| SGD | epoch: 001 | loss: 0.12316 - acc: 0.9651 -- iter: 21280/55000\n"
     ]
    },
    {
     "name": "stdout",
     "output_type": "stream",
     "text": [
      "Training Step: 1065  | total loss: \u001b[1m\u001b[32m0.11527\u001b[0m\u001b[0m | time: 67.166s\n\u001b[2K\r| SGD | epoch: 001 | loss: 0.11527 - acc: 0.9686 -- iter: 21300/55000\n"
     ]
    },
    {
     "name": "stdout",
     "output_type": "stream",
     "text": [
      "Training Step: 1066  | total loss: \u001b[1m\u001b[32m0.12385\u001b[0m\u001b[0m | time: 67.228s\n\u001b[2K\r| SGD | epoch: 001 | loss: 0.12385 - acc: 0.9667 -- iter: 21320/55000\n"
     ]
    },
    {
     "name": "stdout",
     "output_type": "stream",
     "text": [
      "Training Step: 1067  | total loss: \u001b[1m\u001b[32m0.13158\u001b[0m\u001b[0m | time: 67.306s\n\u001b[2K\r| SGD | epoch: 001 | loss: 0.13158 - acc: 0.9601 -- iter: 21340/55000\n"
     ]
    },
    {
     "name": "stdout",
     "output_type": "stream",
     "text": [
      "Training Step: 1068  | total loss: \u001b[1m\u001b[32m0.13522\u001b[0m\u001b[0m | time: 67.369s\n\u001b[2K\r| SGD | epoch: 001 | loss: 0.13522 - acc: 0.9541 -- iter: 21360/55000\n"
     ]
    },
    {
     "name": "stdout",
     "output_type": "stream",
     "text": [
      "Training Step: 1069  | total loss: \u001b[1m\u001b[32m0.12345\u001b[0m\u001b[0m | time: 67.431s\n\u001b[2K\r| SGD | epoch: 001 | loss: 0.12345 - acc: 0.9586 -- iter: 21380/55000\n"
     ]
    },
    {
     "name": "stdout",
     "output_type": "stream",
     "text": [
      "Training Step: 1070  | total loss: \u001b[1m\u001b[32m0.11868\u001b[0m\u001b[0m | time: 67.509s\n\u001b[2K\r| SGD | epoch: 001 | loss: 0.11868 - acc: 0.9628 -- iter: 21400/55000\n"
     ]
    },
    {
     "name": "stdout",
     "output_type": "stream",
     "text": [
      "Training Step: 1071  | total loss: \u001b[1m\u001b[32m0.10763\u001b[0m\u001b[0m | time: 67.572s\n\u001b[2K\r| SGD | epoch: 001 | loss: 0.10763 - acc: 0.9665 -- iter: 21420/55000\n"
     ]
    },
    {
     "name": "stdout",
     "output_type": "stream",
     "text": [
      "Training Step: 1072  | total loss: \u001b[1m\u001b[32m0.11720\u001b[0m\u001b[0m | time: 67.634s\n\u001b[2K\r| SGD | epoch: 001 | loss: 0.11720 - acc: 0.9599 -- iter: 21440/55000\n"
     ]
    },
    {
     "name": "stdout",
     "output_type": "stream",
     "text": [
      "Training Step: 1073  | total loss: \u001b[1m\u001b[32m0.10598\u001b[0m\u001b[0m | time: 67.697s\n\u001b[2K\r| SGD | epoch: 001 | loss: 0.10598 - acc: 0.9639 -- iter: 21460/55000\n"
     ]
    },
    {
     "name": "stdout",
     "output_type": "stream",
     "text": [
      "Training Step: 1074  | total loss: \u001b[1m\u001b[32m0.10377\u001b[0m\u001b[0m | time: 67.775s\n\u001b[2K\r| SGD | epoch: 001 | loss: 0.10377 - acc: 0.9625 -- iter: 21480/55000\n"
     ]
    },
    {
     "name": "stdout",
     "output_type": "stream",
     "text": [
      "Training Step: 1075  | total loss: \u001b[1m\u001b[32m0.09808\u001b[0m\u001b[0m | time: 67.854s\n\u001b[2K\r| SGD | epoch: 001 | loss: 0.09808 - acc: 0.9662 -- iter: 21500/55000\n"
     ]
    },
    {
     "name": "stdout",
     "output_type": "stream",
     "text": [
      "Training Step: 1076  | total loss: \u001b[1m\u001b[32m0.09430\u001b[0m\u001b[0m | time: 67.917s\n\u001b[2K\r| SGD | epoch: 001 | loss: 0.09430 - acc: 0.9646 -- iter: 21520/55000\n"
     ]
    },
    {
     "name": "stdout",
     "output_type": "stream",
     "text": [
      "Training Step: 1077  | total loss: \u001b[1m\u001b[32m0.08786\u001b[0m\u001b[0m | time: 67.995s\n\u001b[2K\r| SGD | epoch: 001 | loss: 0.08786 - acc: 0.9681 -- iter: 21540/55000\n"
     ]
    },
    {
     "name": "stdout",
     "output_type": "stream",
     "text": [
      "Training Step: 1078  | total loss: \u001b[1m\u001b[32m0.07980\u001b[0m\u001b[0m | time: 68.073s\n\u001b[2K\r| SGD | epoch: 001 | loss: 0.07980 - acc: 0.9713 -- iter: 21560/55000\n"
     ]
    },
    {
     "name": "stdout",
     "output_type": "stream",
     "text": [
      "Training Step: 1079  | total loss: \u001b[1m\u001b[32m0.07791\u001b[0m\u001b[0m | time: 68.136s\n\u001b[2K\r| SGD | epoch: 001 | loss: 0.07791 - acc: 0.9692 -- iter: 21580/55000\n"
     ]
    },
    {
     "name": "stdout",
     "output_type": "stream",
     "text": [
      "Training Step: 1080  | total loss: \u001b[1m\u001b[32m0.09133\u001b[0m\u001b[0m | time: 68.198s\n\u001b[2K\r| SGD | epoch: 001 | loss: 0.09133 - acc: 0.9673 -- iter: 21600/55000\n"
     ]
    },
    {
     "name": "stdout",
     "output_type": "stream",
     "text": [
      "Training Step: 1081  | total loss: \u001b[1m\u001b[32m0.08287\u001b[0m\u001b[0m | time: 68.261s\n\u001b[2K\r| SGD | epoch: 001 | loss: 0.08287 - acc: 0.9706 -- iter: 21620/55000\n"
     ]
    },
    {
     "name": "stdout",
     "output_type": "stream",
     "text": [
      "Training Step: 1082  | total loss: \u001b[1m\u001b[32m0.07600\u001b[0m\u001b[0m | time: 68.339s\n\u001b[2K\r| SGD | epoch: 001 | loss: 0.07600 - acc: 0.9735 -- iter: 21640/55000\n"
     ]
    },
    {
     "name": "stdout",
     "output_type": "stream",
     "text": [
      "Training Step: 1083  | total loss: \u001b[1m\u001b[32m0.07027\u001b[0m\u001b[0m | time: 68.417s\n\u001b[2K\r| SGD | epoch: 001 | loss: 0.07027 - acc: 0.9761 -- iter: 21660/55000\n"
     ]
    },
    {
     "name": "stdout",
     "output_type": "stream",
     "text": [
      "Training Step: 1084  | total loss: \u001b[1m\u001b[32m0.08162\u001b[0m\u001b[0m | time: 68.480s\n\u001b[2K\r| SGD | epoch: 001 | loss: 0.08162 - acc: 0.9685 -- iter: 21680/55000\n"
     ]
    },
    {
     "name": "stdout",
     "output_type": "stream",
     "text": [
      "Training Step: 1085  | total loss: \u001b[1m\u001b[32m0.07508\u001b[0m\u001b[0m | time: 68.558s\n\u001b[2K\r| SGD | epoch: 001 | loss: 0.07508 - acc: 0.9717 -- iter: 21700/55000\n"
     ]
    },
    {
     "name": "stdout",
     "output_type": "stream",
     "text": [
      "Training Step: 1086  | total loss: \u001b[1m\u001b[32m0.07150\u001b[0m\u001b[0m | time: 68.620s\n\u001b[2K\r| SGD | epoch: 001 | loss: 0.07150 - acc: 0.9745 -- iter: 21720/55000\n"
     ]
    },
    {
     "name": "stdout",
     "output_type": "stream",
     "text": [
      "Training Step: 1087  | total loss: \u001b[1m\u001b[32m0.08088\u001b[0m\u001b[0m | time: 68.698s\n\u001b[2K\r| SGD | epoch: 001 | loss: 0.08088 - acc: 0.9721 -- iter: 21740/55000\n"
     ]
    },
    {
     "name": "stdout",
     "output_type": "stream",
     "text": [
      "Training Step: 1088  | total loss: \u001b[1m\u001b[32m0.07314\u001b[0m\u001b[0m | time: 68.793s\n\u001b[2K\r| SGD | epoch: 001 | loss: 0.07314 - acc: 0.9749 -- iter: 21760/55000\n"
     ]
    },
    {
     "name": "stdout",
     "output_type": "stream",
     "text": [
      "Training Step: 1089  | total loss: \u001b[1m\u001b[32m0.09729\u001b[0m\u001b[0m | time: 68.849s\n\u001b[2K\r| SGD | epoch: 001 | loss: 0.09729 - acc: 0.9724 -- iter: 21780/55000\n"
     ]
    },
    {
     "name": "stdout",
     "output_type": "stream",
     "text": [
      "Training Step: 1090  | total loss: \u001b[1m\u001b[32m0.10192\u001b[0m\u001b[0m | time: 68.927s\n\u001b[2K\r| SGD | epoch: 001 | loss: 0.10192 - acc: 0.9701 -- iter: 21800/55000\n"
     ]
    },
    {
     "name": "stdout",
     "output_type": "stream",
     "text": [
      "Training Step: 1091  | total loss: \u001b[1m\u001b[32m0.09363\u001b[0m\u001b[0m | time: 68.990s\n\u001b[2K\r| SGD | epoch: 001 | loss: 0.09363 - acc: 0.9731 -- iter: 21820/55000\n"
     ]
    },
    {
     "name": "stdout",
     "output_type": "stream",
     "text": [
      "Training Step: 1092  | total loss: \u001b[1m\u001b[32m0.09282\u001b[0m\u001b[0m | time: 69.068s\n\u001b[2K\r| SGD | epoch: 001 | loss: 0.09282 - acc: 0.9708 -- iter: 21840/55000\n"
     ]
    },
    {
     "name": "stdout",
     "output_type": "stream",
     "text": [
      "Training Step: 1093  | total loss: \u001b[1m\u001b[32m0.08429\u001b[0m\u001b[0m | time: 69.130s\n\u001b[2K\r| SGD | epoch: 001 | loss: 0.08429 - acc: 0.9737 -- iter: 21860/55000\n"
     ]
    },
    {
     "name": "stdout",
     "output_type": "stream",
     "text": [
      "Training Step: 1094  | total loss: \u001b[1m\u001b[32m0.07606\u001b[0m\u001b[0m | time: 69.193s\n\u001b[2K\r| SGD | epoch: 001 | loss: 0.07606 - acc: 0.9764 -- iter: 21880/55000\n"
     ]
    },
    {
     "name": "stdout",
     "output_type": "stream",
     "text": [
      "Training Step: 1095  | total loss: \u001b[1m\u001b[32m0.07758\u001b[0m\u001b[0m | time: 69.261s\n\u001b[2K\r| SGD | epoch: 001 | loss: 0.07758 - acc: 0.9737 -- iter: 21900/55000\n"
     ]
    },
    {
     "name": "stdout",
     "output_type": "stream",
     "text": [
      "Training Step: 1096  | total loss: \u001b[1m\u001b[32m0.07650\u001b[0m\u001b[0m | time: 69.323s\n\u001b[2K\r| SGD | epoch: 001 | loss: 0.07650 - acc: 0.9713 -- iter: 21920/55000\n"
     ]
    },
    {
     "name": "stdout",
     "output_type": "stream",
     "text": [
      "Training Step: 1097  | total loss: \u001b[1m\u001b[32m0.06917\u001b[0m\u001b[0m | time: 69.401s\n\u001b[2K\r| SGD | epoch: 001 | loss: 0.06917 - acc: 0.9742 -- iter: 21940/55000\n"
     ]
    },
    {
     "name": "stdout",
     "output_type": "stream",
     "text": [
      "Training Step: 1098  | total loss: \u001b[1m\u001b[32m0.06496\u001b[0m\u001b[0m | time: 69.471s\n\u001b[2K\r| SGD | epoch: 001 | loss: 0.06496 - acc: 0.9768 -- iter: 21960/55000\n"
     ]
    },
    {
     "name": "stdout",
     "output_type": "stream",
     "text": [
      "Training Step: 1099  | total loss: \u001b[1m\u001b[32m0.06023\u001b[0m\u001b[0m | time: 69.534s\n\u001b[2K\r| SGD | epoch: 001 | loss: 0.06023 - acc: 0.9791 -- iter: 21980/55000\n"
     ]
    },
    {
     "name": "stdout",
     "output_type": "stream",
     "text": [
      "Training Step: 1100  | total loss: \u001b[1m\u001b[32m0.06019\u001b[0m\u001b[0m | time: 69.613s\n\u001b[2K\r| SGD | epoch: 001 | loss: 0.06019 - acc: 0.9762 -- iter: 22000/55000\n"
     ]
    },
    {
     "name": "stdout",
     "output_type": "stream",
     "text": [
      "Training Step: 1101  | total loss: \u001b[1m\u001b[32m0.05713\u001b[0m\u001b[0m | time: 69.675s\n\u001b[2K\r| SGD | epoch: 001 | loss: 0.05713 - acc: 0.9786 -- iter: 22020/55000\n"
     ]
    },
    {
     "name": "stdout",
     "output_type": "stream",
     "text": [
      "Training Step: 1102  | total loss: \u001b[1m\u001b[32m0.05237\u001b[0m\u001b[0m | time: 69.738s\n\u001b[2K\r| SGD | epoch: 001 | loss: 0.05237 - acc: 0.9807 -- iter: 22040/55000\n"
     ]
    },
    {
     "name": "stdout",
     "output_type": "stream",
     "text": [
      "Training Step: 1103  | total loss: \u001b[1m\u001b[32m0.04734\u001b[0m\u001b[0m | time: 69.800s\n\u001b[2K\r| SGD | epoch: 001 | loss: 0.04734 - acc: 0.9827 -- iter: 22060/55000\n"
     ]
    },
    {
     "name": "stdout",
     "output_type": "stream",
     "text": [
      "Training Step: 1104  | total loss: \u001b[1m\u001b[32m0.04409\u001b[0m\u001b[0m | time: 69.878s\n\u001b[2K\r| SGD | epoch: 001 | loss: 0.04409 - acc: 0.9844 -- iter: 22080/55000\n"
     ]
    },
    {
     "name": "stdout",
     "output_type": "stream",
     "text": [
      "Training Step: 1105  | total loss: \u001b[1m\u001b[32m0.04383\u001b[0m\u001b[0m | time: 69.941s\n\u001b[2K\r| SGD | epoch: 001 | loss: 0.04383 - acc: 0.9859 -- iter: 22100/55000\n"
     ]
    },
    {
     "name": "stdout",
     "output_type": "stream",
     "text": [
      "Training Step: 1106  | total loss: \u001b[1m\u001b[32m0.04095\u001b[0m\u001b[0m | time: 70.019s\n\u001b[2K\r| SGD | epoch: 001 | loss: 0.04095 - acc: 0.9874 -- iter: 22120/55000\n"
     ]
    },
    {
     "name": "stdout",
     "output_type": "stream",
     "text": [
      "Training Step: 1107  | total loss: \u001b[1m\u001b[32m0.04508\u001b[0m\u001b[0m | time: 70.081s\n\u001b[2K\r| SGD | epoch: 001 | loss: 0.04508 - acc: 0.9836 -- iter: 22140/55000\n"
     ]
    },
    {
     "name": "stdout",
     "output_type": "stream",
     "text": [
      "Training Step: 1108  | total loss: \u001b[1m\u001b[32m0.04102\u001b[0m\u001b[0m | time: 70.159s\n\u001b[2K\r| SGD | epoch: 001 | loss: 0.04102 - acc: 0.9853 -- iter: 22160/55000\n"
     ]
    },
    {
     "name": "stdout",
     "output_type": "stream",
     "text": [
      "Training Step: 1109  | total loss: \u001b[1m\u001b[32m0.03779\u001b[0m\u001b[0m | time: 70.222s\n\u001b[2K\r| SGD | epoch: 001 | loss: 0.03779 - acc: 0.9867 -- iter: 22180/55000\n"
     ]
    },
    {
     "name": "stdout",
     "output_type": "stream",
     "text": [
      "Training Step: 1110  | total loss: \u001b[1m\u001b[32m0.03939\u001b[0m\u001b[0m | time: 70.300s\n\u001b[2K\r| SGD | epoch: 001 | loss: 0.03939 - acc: 0.9881 -- iter: 22200/55000\n"
     ]
    },
    {
     "name": "stdout",
     "output_type": "stream",
     "text": [
      "Training Step: 1111  | total loss: \u001b[1m\u001b[32m0.06363\u001b[0m\u001b[0m | time: 70.363s\n\u001b[2K\r| SGD | epoch: 001 | loss: 0.06363 - acc: 0.9793 -- iter: 22220/55000\n"
     ]
    },
    {
     "name": "stdout",
     "output_type": "stream",
     "text": [
      "Training Step: 1112  | total loss: \u001b[1m\u001b[32m0.05814\u001b[0m\u001b[0m | time: 70.441s\n\u001b[2K\r| SGD | epoch: 001 | loss: 0.05814 - acc: 0.9813 -- iter: 22240/55000\n"
     ]
    },
    {
     "name": "stdout",
     "output_type": "stream",
     "text": [
      "Training Step: 1113  | total loss: \u001b[1m\u001b[32m0.05429\u001b[0m\u001b[0m | time: 70.519s\n\u001b[2K\r| SGD | epoch: 001 | loss: 0.05429 - acc: 0.9832 -- iter: 22260/55000\n"
     ]
    },
    {
     "name": "stdout",
     "output_type": "stream",
     "text": [
      "Training Step: 1114  | total loss: \u001b[1m\u001b[32m0.05735\u001b[0m\u001b[0m | time: 70.581s\n\u001b[2K\r| SGD | epoch: 001 | loss: 0.05735 - acc: 0.9799 -- iter: 22280/55000\n"
     ]
    },
    {
     "name": "stdout",
     "output_type": "stream",
     "text": [
      "Training Step: 1115  | total loss: \u001b[1m\u001b[32m0.05231\u001b[0m\u001b[0m | time: 70.659s\n\u001b[2K\r| SGD | epoch: 001 | loss: 0.05231 - acc: 0.9819 -- iter: 22300/55000\n"
     ]
    },
    {
     "name": "stdout",
     "output_type": "stream",
     "text": [
      "Training Step: 1116  | total loss: \u001b[1m\u001b[32m0.04723\u001b[0m\u001b[0m | time: 70.722s\n\u001b[2K\r| SGD | epoch: 001 | loss: 0.04723 - acc: 0.9837 -- iter: 22320/55000\n"
     ]
    },
    {
     "name": "stdout",
     "output_type": "stream",
     "text": [
      "Training Step: 1117  | total loss: \u001b[1m\u001b[32m0.06074\u001b[0m\u001b[0m | time: 70.780s\n\u001b[2K\r| SGD | epoch: 001 | loss: 0.06074 - acc: 0.9803 -- iter: 22340/55000\n"
     ]
    },
    {
     "name": "stdout",
     "output_type": "stream",
     "text": [
      "Training Step: 1118  | total loss: \u001b[1m\u001b[32m0.05822\u001b[0m\u001b[0m | time: 70.858s\n\u001b[2K\r| SGD | epoch: 001 | loss: 0.05822 - acc: 0.9823 -- iter: 22360/55000\n"
     ]
    },
    {
     "name": "stdout",
     "output_type": "stream",
     "text": [
      "Training Step: 1119  | total loss: \u001b[1m\u001b[32m0.05378\u001b[0m\u001b[0m | time: 70.921s\n\u001b[2K\r| SGD | epoch: 001 | loss: 0.05378 - acc: 0.9841 -- iter: 22380/55000\n"
     ]
    },
    {
     "name": "stdout",
     "output_type": "stream",
     "text": [
      "Training Step: 1120  | total loss: \u001b[1m\u001b[32m0.05524\u001b[0m\u001b[0m | time: 70.999s\n\u001b[2K\r| SGD | epoch: 001 | loss: 0.05524 - acc: 0.9807 -- iter: 22400/55000\n"
     ]
    },
    {
     "name": "stdout",
     "output_type": "stream",
     "text": [
      "Training Step: 1121  | total loss: \u001b[1m\u001b[32m0.05036\u001b[0m\u001b[0m | time: 71.061s\n\u001b[2K\r| SGD | epoch: 001 | loss: 0.05036 - acc: 0.9826 -- iter: 22420/55000\n"
     ]
    },
    {
     "name": "stdout",
     "output_type": "stream",
     "text": [
      "Training Step: 1122  | total loss: \u001b[1m\u001b[32m0.05230\u001b[0m\u001b[0m | time: 71.139s\n\u001b[2K\r| SGD | epoch: 001 | loss: 0.05230 - acc: 0.9793 -- iter: 22440/55000\n"
     ]
    },
    {
     "name": "stdout",
     "output_type": "stream",
     "text": [
      "Training Step: 1123  | total loss: \u001b[1m\u001b[32m0.07514\u001b[0m\u001b[0m | time: 71.217s\n\u001b[2K\r| SGD | epoch: 001 | loss: 0.07514 - acc: 0.9764 -- iter: 22460/55000\n"
     ]
    },
    {
     "name": "stdout",
     "output_type": "stream",
     "text": [
      "Training Step: 1124  | total loss: \u001b[1m\u001b[32m0.11603\u001b[0m\u001b[0m | time: 71.280s\n\u001b[2K\r| SGD | epoch: 001 | loss: 0.11603 - acc: 0.9688 -- iter: 22480/55000\n"
     ]
    },
    {
     "name": "stdout",
     "output_type": "stream",
     "text": [
      "Training Step: 1125  | total loss: \u001b[1m\u001b[32m0.10606\u001b[0m\u001b[0m | time: 71.342s\n\u001b[2K\r| SGD | epoch: 001 | loss: 0.10606 - acc: 0.9719 -- iter: 22500/55000\n"
     ]
    },
    {
     "name": "stdout",
     "output_type": "stream",
     "text": [
      "Training Step: 1126  | total loss: \u001b[1m\u001b[32m0.10115\u001b[0m\u001b[0m | time: 71.421s\n\u001b[2K\r| SGD | epoch: 001 | loss: 0.10115 - acc: 0.9697 -- iter: 22520/55000\n"
     ]
    },
    {
     "name": "stdout",
     "output_type": "stream",
     "text": [
      "Training Step: 1127  | total loss: \u001b[1m\u001b[32m0.12036\u001b[0m\u001b[0m | time: 71.499s\n\u001b[2K\r| SGD | epoch: 001 | loss: 0.12036 - acc: 0.9677 -- iter: 22540/55000\n"
     ]
    },
    {
     "name": "stdout",
     "output_type": "stream",
     "text": [
      "Training Step: 1128  | total loss: \u001b[1m\u001b[32m0.11431\u001b[0m\u001b[0m | time: 71.577s\n\u001b[2K\r| SGD | epoch: 001 | loss: 0.11431 - acc: 0.9710 -- iter: 22560/55000\n"
     ]
    },
    {
     "name": "stdout",
     "output_type": "stream",
     "text": [
      "Training Step: 1129  | total loss: \u001b[1m\u001b[32m0.11520\u001b[0m\u001b[0m | time: 71.639s\n\u001b[2K\r| SGD | epoch: 001 | loss: 0.11520 - acc: 0.9689 -- iter: 22580/55000\n"
     ]
    },
    {
     "name": "stdout",
     "output_type": "stream",
     "text": [
      "Training Step: 1130  | total loss: \u001b[1m\u001b[32m0.10655\u001b[0m\u001b[0m | time: 71.702s\n\u001b[2K\r| SGD | epoch: 001 | loss: 0.10655 - acc: 0.9720 -- iter: 22600/55000\n"
     ]
    },
    {
     "name": "stdout",
     "output_type": "stream",
     "text": [
      "Training Step: 1131  | total loss: \u001b[1m\u001b[32m0.12237\u001b[0m\u001b[0m | time: 71.769s\n\u001b[2K\r| SGD | epoch: 001 | loss: 0.12237 - acc: 0.9648 -- iter: 22620/55000\n"
     ]
    },
    {
     "name": "stdout",
     "output_type": "stream",
     "text": [
      "Training Step: 1132  | total loss: \u001b[1m\u001b[32m0.11382\u001b[0m\u001b[0m | time: 71.831s\n\u001b[2K\r| SGD | epoch: 001 | loss: 0.11382 - acc: 0.9683 -- iter: 22640/55000\n"
     ]
    },
    {
     "name": "stdout",
     "output_type": "stream",
     "text": [
      "Training Step: 1133  | total loss: \u001b[1m\u001b[32m0.11343\u001b[0m\u001b[0m | time: 71.909s\n\u001b[2K\r| SGD | epoch: 001 | loss: 0.11343 - acc: 0.9665 -- iter: 22660/55000\n"
     ]
    },
    {
     "name": "stdout",
     "output_type": "stream",
     "text": [
      "Training Step: 1134  | total loss: \u001b[1m\u001b[32m0.12110\u001b[0m\u001b[0m | time: 71.972s\n\u001b[2K\r| SGD | epoch: 001 | loss: 0.12110 - acc: 0.9648 -- iter: 22680/55000\n"
     ]
    },
    {
     "name": "stdout",
     "output_type": "stream",
     "text": [
      "Training Step: 1135  | total loss: \u001b[1m\u001b[32m0.11358\u001b[0m\u001b[0m | time: 72.034s\n\u001b[2K\r| SGD | epoch: 001 | loss: 0.11358 - acc: 0.9683 -- iter: 22700/55000\n"
     ]
    },
    {
     "name": "stdout",
     "output_type": "stream",
     "text": [
      "Training Step: 1136  | total loss: \u001b[1m\u001b[32m0.12182\u001b[0m\u001b[0m | time: 72.097s\n\u001b[2K\r| SGD | epoch: 001 | loss: 0.12182 - acc: 0.9665 -- iter: 22720/55000\n"
     ]
    },
    {
     "name": "stdout",
     "output_type": "stream",
     "text": [
      "Training Step: 1137  | total loss: \u001b[1m\u001b[32m0.11142\u001b[0m\u001b[0m | time: 72.159s\n\u001b[2K\r| SGD | epoch: 001 | loss: 0.11142 - acc: 0.9699 -- iter: 22740/55000\n"
     ]
    },
    {
     "name": "stdout",
     "output_type": "stream",
     "text": [
      "Training Step: 1138  | total loss: \u001b[1m\u001b[32m0.12021\u001b[0m\u001b[0m | time: 72.222s\n\u001b[2K\r| SGD | epoch: 001 | loss: 0.12021 - acc: 0.9629 -- iter: 22760/55000\n"
     ]
    },
    {
     "name": "stdout",
     "output_type": "stream",
     "text": [
      "Training Step: 1139  | total loss: \u001b[1m\u001b[32m0.11538\u001b[0m\u001b[0m | time: 72.284s\n\u001b[2K\r| SGD | epoch: 001 | loss: 0.11538 - acc: 0.9616 -- iter: 22780/55000\n"
     ]
    },
    {
     "name": "stdout",
     "output_type": "stream",
     "text": [
      "Training Step: 1140  | total loss: \u001b[1m\u001b[32m0.10525\u001b[0m\u001b[0m | time: 72.363s\n\u001b[2K\r| SGD | epoch: 001 | loss: 0.10525 - acc: 0.9654 -- iter: 22800/55000\n"
     ]
    },
    {
     "name": "stdout",
     "output_type": "stream",
     "text": [
      "Training Step: 1141  | total loss: \u001b[1m\u001b[32m0.09837\u001b[0m\u001b[0m | time: 72.425s\n\u001b[2K\r| SGD | epoch: 001 | loss: 0.09837 - acc: 0.9689 -- iter: 22820/55000\n"
     ]
    },
    {
     "name": "stdout",
     "output_type": "stream",
     "text": [
      "Training Step: 1142  | total loss: \u001b[1m\u001b[32m0.09503\u001b[0m\u001b[0m | time: 72.503s\n\u001b[2K\r| SGD | epoch: 001 | loss: 0.09503 - acc: 0.9720 -- iter: 22840/55000\n"
     ]
    },
    {
     "name": "stdout",
     "output_type": "stream",
     "text": [
      "Training Step: 1143  | total loss: \u001b[1m\u001b[32m0.10119\u001b[0m\u001b[0m | time: 72.566s\n\u001b[2K\r| SGD | epoch: 001 | loss: 0.10119 - acc: 0.9648 -- iter: 22860/55000\n"
     ]
    },
    {
     "name": "stdout",
     "output_type": "stream",
     "text": [
      "Training Step: 1144  | total loss: \u001b[1m\u001b[32m0.09669\u001b[0m\u001b[0m | time: 72.644s\n\u001b[2K\r| SGD | epoch: 001 | loss: 0.09669 - acc: 0.9683 -- iter: 22880/55000\n"
     ]
    },
    {
     "name": "stdout",
     "output_type": "stream",
     "text": [
      "Training Step: 1145  | total loss: \u001b[1m\u001b[32m0.08816\u001b[0m\u001b[0m | time: 72.706s\n\u001b[2K\r| SGD | epoch: 001 | loss: 0.08816 - acc: 0.9715 -- iter: 22900/55000\n"
     ]
    },
    {
     "name": "stdout",
     "output_type": "stream",
     "text": [
      "Training Step: 1146  | total loss: \u001b[1m\u001b[32m0.09413\u001b[0m\u001b[0m | time: 72.765s\n\u001b[2K\r| SGD | epoch: 001 | loss: 0.09413 - acc: 0.9693 -- iter: 22920/55000\n"
     ]
    },
    {
     "name": "stdout",
     "output_type": "stream",
     "text": [
      "Training Step: 1147  | total loss: \u001b[1m\u001b[32m0.08654\u001b[0m\u001b[0m | time: 72.843s\n\u001b[2K\r| SGD | epoch: 001 | loss: 0.08654 - acc: 0.9724 -- iter: 22940/55000\n"
     ]
    },
    {
     "name": "stdout",
     "output_type": "stream",
     "text": [
      "Training Step: 1148  | total loss: \u001b[1m\u001b[32m0.09999\u001b[0m\u001b[0m | time: 72.921s\n\u001b[2K\r| SGD | epoch: 001 | loss: 0.09999 - acc: 0.9602 -- iter: 22960/55000\n"
     ]
    },
    {
     "name": "stdout",
     "output_type": "stream",
     "text": [
      "Training Step: 1149  | total loss: \u001b[1m\u001b[32m0.10866\u001b[0m\u001b[0m | time: 72.984s\n\u001b[2K\r| SGD | epoch: 001 | loss: 0.10866 - acc: 0.9591 -- iter: 22980/55000\n"
     ]
    },
    {
     "name": "stdout",
     "output_type": "stream",
     "text": [
      "Training Step: 1150  | total loss: \u001b[1m\u001b[32m0.12594\u001b[0m\u001b[0m | time: 73.055s\n\u001b[2K\r| SGD | epoch: 001 | loss: 0.12594 - acc: 0.9482 -- iter: 23000/55000\n"
     ]
    },
    {
     "name": "stdout",
     "output_type": "stream",
     "text": [
      "Training Step: 1151  | total loss: \u001b[1m\u001b[32m0.12076\u001b[0m\u001b[0m | time: 73.118s\n\u001b[2K\r| SGD | epoch: 001 | loss: 0.12076 - acc: 0.9484 -- iter: 23020/55000\n"
     ]
    },
    {
     "name": "stdout",
     "output_type": "stream",
     "text": [
      "Training Step: 1152  | total loss: \u001b[1m\u001b[32m0.11242\u001b[0m\u001b[0m | time: 73.180s\n\u001b[2K\r| SGD | epoch: 001 | loss: 0.11242 - acc: 0.9536 -- iter: 23040/55000\n"
     ]
    },
    {
     "name": "stdout",
     "output_type": "stream",
     "text": [
      "Training Step: 1153  | total loss: \u001b[1m\u001b[32m0.11276\u001b[0m\u001b[0m | time: 73.243s\n\u001b[2K\r| SGD | epoch: 001 | loss: 0.11276 - acc: 0.9532 -- iter: 23060/55000\n"
     ]
    },
    {
     "name": "stdout",
     "output_type": "stream",
     "text": [
      "Training Step: 1154  | total loss: \u001b[1m\u001b[32m0.12035\u001b[0m\u001b[0m | time: 73.305s\n\u001b[2K\r| SGD | epoch: 001 | loss: 0.12035 - acc: 0.9529 -- iter: 23080/55000\n"
     ]
    },
    {
     "name": "stdout",
     "output_type": "stream",
     "text": [
      "Training Step: 1155  | total loss: \u001b[1m\u001b[32m0.10987\u001b[0m\u001b[0m | time: 73.383s\n\u001b[2K\r| SGD | epoch: 001 | loss: 0.10987 - acc: 0.9576 -- iter: 23100/55000\n"
     ]
    },
    {
     "name": "stdout",
     "output_type": "stream",
     "text": [
      "Training Step: 1156  | total loss: \u001b[1m\u001b[32m0.09914\u001b[0m\u001b[0m | time: 73.446s\n\u001b[2K\r| SGD | epoch: 001 | loss: 0.09914 - acc: 0.9618 -- iter: 23120/55000\n"
     ]
    },
    {
     "name": "stdout",
     "output_type": "stream",
     "text": [
      "Training Step: 1157  | total loss: \u001b[1m\u001b[32m0.10201\u001b[0m\u001b[0m | time: 73.508s\n\u001b[2K\r| SGD | epoch: 001 | loss: 0.10201 - acc: 0.9607 -- iter: 23140/55000\n"
     ]
    },
    {
     "name": "stdout",
     "output_type": "stream",
     "text": [
      "Training Step: 1158  | total loss: \u001b[1m\u001b[32m0.11990\u001b[0m\u001b[0m | time: 73.571s\n\u001b[2K\r| SGD | epoch: 001 | loss: 0.11990 - acc: 0.9596 -- iter: 23160/55000\n"
     ]
    },
    {
     "name": "stdout",
     "output_type": "stream",
     "text": [
      "Training Step: 1159  | total loss: \u001b[1m\u001b[32m0.13658\u001b[0m\u001b[0m | time: 73.633s\n\u001b[2K\r| SGD | epoch: 001 | loss: 0.13658 - acc: 0.9536 -- iter: 23180/55000\n"
     ]
    },
    {
     "name": "stdout",
     "output_type": "stream",
     "text": [
      "Training Step: 1160  | total loss: \u001b[1m\u001b[32m0.12800\u001b[0m\u001b[0m | time: 73.687s\n\u001b[2K\r| SGD | epoch: 001 | loss: 0.12800 - acc: 0.9583 -- iter: 23200/55000\n"
     ]
    },
    {
     "name": "stdout",
     "output_type": "stream",
     "text": [
      "Training Step: 1161  | total loss: \u001b[1m\u001b[32m0.14522\u001b[0m\u001b[0m | time: 73.749s\n\u001b[2K\r| SGD | epoch: 001 | loss: 0.14522 - acc: 0.9524 -- iter: 23220/55000\n"
     ]
    },
    {
     "name": "stdout",
     "output_type": "stream",
     "text": [
      "Training Step: 1162  | total loss: \u001b[1m\u001b[32m0.16897\u001b[0m\u001b[0m | time: 73.812s\n\u001b[2K\r| SGD | epoch: 001 | loss: 0.16897 - acc: 0.9472 -- iter: 23240/55000\n"
     ]
    },
    {
     "name": "stdout",
     "output_type": "stream",
     "text": [
      "Training Step: 1163  | total loss: \u001b[1m\u001b[32m0.16333\u001b[0m\u001b[0m | time: 73.890s\n\u001b[2K\r| SGD | epoch: 001 | loss: 0.16333 - acc: 0.9475 -- iter: 23260/55000\n"
     ]
    },
    {
     "name": "stdout",
     "output_type": "stream",
     "text": [
      "Training Step: 1164  | total loss: \u001b[1m\u001b[32m0.15625\u001b[0m\u001b[0m | time: 73.952s\n\u001b[2K\r| SGD | epoch: 001 | loss: 0.15625 - acc: 0.9477 -- iter: 23280/55000\n"
     ]
    },
    {
     "name": "stdout",
     "output_type": "stream",
     "text": [
      "Training Step: 1165  | total loss: \u001b[1m\u001b[32m0.14743\u001b[0m\u001b[0m | time: 74.030s\n\u001b[2K\r| SGD | epoch: 001 | loss: 0.14743 - acc: 0.9530 -- iter: 23300/55000\n"
     ]
    },
    {
     "name": "stdout",
     "output_type": "stream",
     "text": [
      "Training Step: 1166  | total loss: \u001b[1m\u001b[32m0.14147\u001b[0m\u001b[0m | time: 74.077s\n\u001b[2K\r| SGD | epoch: 001 | loss: 0.14147 - acc: 0.9577 -- iter: 23320/55000\n"
     ]
    },
    {
     "name": "stdout",
     "output_type": "stream",
     "text": [
      "Training Step: 1167  | total loss: \u001b[1m\u001b[32m0.12818\u001b[0m\u001b[0m | time: 74.140s\n\u001b[2K\r| SGD | epoch: 001 | loss: 0.12818 - acc: 0.9619 -- iter: 23340/55000\n"
     ]
    },
    {
     "name": "stdout",
     "output_type": "stream",
     "text": [
      "Training Step: 1168  | total loss: \u001b[1m\u001b[32m0.11660\u001b[0m\u001b[0m | time: 74.202s\n\u001b[2K\r| SGD | epoch: 001 | loss: 0.11660 - acc: 0.9657 -- iter: 23360/55000\n"
     ]
    },
    {
     "name": "stdout",
     "output_type": "stream",
     "text": [
      "Training Step: 1169  | total loss: \u001b[1m\u001b[32m0.12717\u001b[0m\u001b[0m | time: 74.280s\n\u001b[2K\r| SGD | epoch: 001 | loss: 0.12717 - acc: 0.9541 -- iter: 23380/55000\n"
     ]
    },
    {
     "name": "stdout",
     "output_type": "stream",
     "text": [
      "Training Step: 1170  | total loss: \u001b[1m\u001b[32m0.11819\u001b[0m\u001b[0m | time: 74.343s\n\u001b[2K\r| SGD | epoch: 001 | loss: 0.11819 - acc: 0.9587 -- iter: 23400/55000\n"
     ]
    },
    {
     "name": "stdout",
     "output_type": "stream",
     "text": [
      "Training Step: 1171  | total loss: \u001b[1m\u001b[32m0.10989\u001b[0m\u001b[0m | time: 74.421s\n\u001b[2K\r| SGD | epoch: 001 | loss: 0.10989 - acc: 0.9628 -- iter: 23420/55000\n"
     ]
    },
    {
     "name": "stdout",
     "output_type": "stream",
     "text": [
      "Training Step: 1172  | total loss: \u001b[1m\u001b[32m0.11017\u001b[0m\u001b[0m | time: 74.515s\n\u001b[2K\r| SGD | epoch: 001 | loss: 0.11017 - acc: 0.9616 -- iter: 23440/55000\n"
     ]
    },
    {
     "name": "stdout",
     "output_type": "stream",
     "text": [
      "Training Step: 1173  | total loss: \u001b[1m\u001b[32m0.10297\u001b[0m\u001b[0m | time: 74.593s\n\u001b[2K\r| SGD | epoch: 001 | loss: 0.10297 - acc: 0.9654 -- iter: 23460/55000\n"
     ]
    },
    {
     "name": "stdout",
     "output_type": "stream",
     "text": [
      "Training Step: 1174  | total loss: \u001b[1m\u001b[32m0.09359\u001b[0m\u001b[0m | time: 74.677s\n\u001b[2K\r| SGD | epoch: 001 | loss: 0.09359 - acc: 0.9689 -- iter: 23480/55000\n"
     ]
    },
    {
     "name": "stdout",
     "output_type": "stream",
     "text": [
      "Training Step: 1175  | total loss: \u001b[1m\u001b[32m0.10006\u001b[0m\u001b[0m | time: 74.770s\n\u001b[2K\r| SGD | epoch: 001 | loss: 0.10006 - acc: 0.9620 -- iter: 23500/55000\n"
     ]
    },
    {
     "name": "stdout",
     "output_type": "stream",
     "text": [
      "Training Step: 1176  | total loss: \u001b[1m\u001b[32m0.09048\u001b[0m\u001b[0m | time: 74.864s\n\u001b[2K\r| SGD | epoch: 001 | loss: 0.09048 - acc: 0.9658 -- iter: 23520/55000\n"
     ]
    },
    {
     "name": "stdout",
     "output_type": "stream",
     "text": [
      "Training Step: 1177  | total loss: \u001b[1m\u001b[32m0.08239\u001b[0m\u001b[0m | time: 74.942s\n\u001b[2K\r| SGD | epoch: 001 | loss: 0.08239 - acc: 0.9692 -- iter: 23540/55000\n"
     ]
    },
    {
     "name": "stdout",
     "output_type": "stream",
     "text": [
      "Training Step: 1178  | total loss: \u001b[1m\u001b[32m0.08112\u001b[0m\u001b[0m | time: 75.005s\n\u001b[2K\r| SGD | epoch: 001 | loss: 0.08112 - acc: 0.9673 -- iter: 23560/55000\n"
     ]
    },
    {
     "name": "stdout",
     "output_type": "stream",
     "text": [
      "Training Step: 1179  | total loss: \u001b[1m\u001b[32m0.10306\u001b[0m\u001b[0m | time: 75.083s\n\u001b[2K\r| SGD | epoch: 001 | loss: 0.10306 - acc: 0.9656 -- iter: 23580/55000\n"
     ]
    },
    {
     "name": "stdout",
     "output_type": "stream",
     "text": [
      "Training Step: 1180  | total loss: \u001b[1m\u001b[32m0.09646\u001b[0m\u001b[0m | time: 75.145s\n\u001b[2K\r| SGD | epoch: 001 | loss: 0.09646 - acc: 0.9690 -- iter: 23600/55000\n"
     ]
    },
    {
     "name": "stdout",
     "output_type": "stream",
     "text": [
      "Training Step: 1181  | total loss: \u001b[1m\u001b[32m0.10485\u001b[0m\u001b[0m | time: 75.224s\n\u001b[2K\r| SGD | epoch: 001 | loss: 0.10485 - acc: 0.9671 -- iter: 23620/55000\n"
     ]
    },
    {
     "name": "stdout",
     "output_type": "stream",
     "text": [
      "Training Step: 1182  | total loss: \u001b[1m\u001b[32m0.09460\u001b[0m\u001b[0m | time: 75.286s\n\u001b[2K\r| SGD | epoch: 001 | loss: 0.09460 - acc: 0.9704 -- iter: 23640/55000\n"
     ]
    },
    {
     "name": "stdout",
     "output_type": "stream",
     "text": [
      "Training Step: 1183  | total loss: \u001b[1m\u001b[32m0.08648\u001b[0m\u001b[0m | time: 75.349s\n\u001b[2K\r| SGD | epoch: 001 | loss: 0.08648 - acc: 0.9734 -- iter: 23660/55000\n"
     ]
    },
    {
     "name": "stdout",
     "output_type": "stream",
     "text": [
      "Training Step: 1184  | total loss: \u001b[1m\u001b[32m0.08541\u001b[0m\u001b[0m | time: 75.427s\n\u001b[2K\r| SGD | epoch: 001 | loss: 0.08541 - acc: 0.9710 -- iter: 23680/55000\n"
     ]
    },
    {
     "name": "stdout",
     "output_type": "stream",
     "text": [
      "Training Step: 1185  | total loss: \u001b[1m\u001b[32m0.08750\u001b[0m\u001b[0m | time: 75.489s\n\u001b[2K\r| SGD | epoch: 001 | loss: 0.08750 - acc: 0.9689 -- iter: 23700/55000\n"
     ]
    },
    {
     "name": "stdout",
     "output_type": "stream",
     "text": [
      "Training Step: 1186  | total loss: \u001b[1m\u001b[32m0.08674\u001b[0m\u001b[0m | time: 75.563s\n\u001b[2K\r| SGD | epoch: 001 | loss: 0.08674 - acc: 0.9670 -- iter: 23720/55000\n"
     ]
    },
    {
     "name": "stdout",
     "output_type": "stream",
     "text": [
      "Training Step: 1187  | total loss: \u001b[1m\u001b[32m0.08156\u001b[0m\u001b[0m | time: 75.618s\n\u001b[2K\r| SGD | epoch: 001 | loss: 0.08156 - acc: 0.9703 -- iter: 23740/55000\n"
     ]
    },
    {
     "name": "stdout",
     "output_type": "stream",
     "text": [
      "Training Step: 1188  | total loss: \u001b[1m\u001b[32m0.10910\u001b[0m\u001b[0m | time: 75.681s\n\u001b[2K\r| SGD | epoch: 001 | loss: 0.10910 - acc: 0.9633 -- iter: 23760/55000\n"
     ]
    },
    {
     "name": "stdout",
     "output_type": "stream",
     "text": [
      "Training Step: 1189  | total loss: \u001b[1m\u001b[32m0.10283\u001b[0m\u001b[0m | time: 75.743s\n\u001b[2K\r| SGD | epoch: 001 | loss: 0.10283 - acc: 0.9670 -- iter: 23780/55000\n"
     ]
    },
    {
     "name": "stdout",
     "output_type": "stream",
     "text": [
      "Training Step: 1190  | total loss: \u001b[1m\u001b[32m0.11743\u001b[0m\u001b[0m | time: 75.806s\n\u001b[2K\r| SGD | epoch: 001 | loss: 0.11743 - acc: 0.9653 -- iter: 23800/55000\n"
     ]
    },
    {
     "name": "stdout",
     "output_type": "stream",
     "text": [
      "Training Step: 1191  | total loss: \u001b[1m\u001b[32m0.11888\u001b[0m\u001b[0m | time: 75.884s\n\u001b[2K\r| SGD | epoch: 001 | loss: 0.11888 - acc: 0.9637 -- iter: 23820/55000\n"
     ]
    },
    {
     "name": "stdout",
     "output_type": "stream",
     "text": [
      "Training Step: 1192  | total loss: \u001b[1m\u001b[32m0.11496\u001b[0m\u001b[0m | time: 75.946s\n\u001b[2K\r| SGD | epoch: 001 | loss: 0.11496 - acc: 0.9624 -- iter: 23840/55000\n"
     ]
    },
    {
     "name": "stdout",
     "output_type": "stream",
     "text": [
      "Training Step: 1193  | total loss: \u001b[1m\u001b[32m0.10712\u001b[0m\u001b[0m | time: 76.009s\n\u001b[2K\r| SGD | epoch: 001 | loss: 0.10712 - acc: 0.9661 -- iter: 23860/55000\n"
     ]
    },
    {
     "name": "stdout",
     "output_type": "stream",
     "text": [
      "Training Step: 1194  | total loss: \u001b[1m\u001b[32m0.09752\u001b[0m\u001b[0m | time: 76.071s\n\u001b[2K\r| SGD | epoch: 001 | loss: 0.09752 - acc: 0.9695 -- iter: 23880/55000\n"
     ]
    },
    {
     "name": "stdout",
     "output_type": "stream",
     "text": [
      "Training Step: 1195  | total loss: \u001b[1m\u001b[32m0.10412\u001b[0m\u001b[0m | time: 76.134s\n\u001b[2K\r| SGD | epoch: 001 | loss: 0.10412 - acc: 0.9676 -- iter: 23900/55000\n"
     ]
    },
    {
     "name": "stdout",
     "output_type": "stream",
     "text": [
      "Training Step: 1196  | total loss: \u001b[1m\u001b[32m0.09514\u001b[0m\u001b[0m | time: 76.196s\n\u001b[2K\r| SGD | epoch: 001 | loss: 0.09514 - acc: 0.9708 -- iter: 23920/55000\n"
     ]
    },
    {
     "name": "stdout",
     "output_type": "stream",
     "text": [
      "Training Step: 1197  | total loss: \u001b[1m\u001b[32m0.10176\u001b[0m\u001b[0m | time: 76.259s\n\u001b[2K\r| SGD | epoch: 001 | loss: 0.10176 - acc: 0.9687 -- iter: 23940/55000\n"
     ]
    },
    {
     "name": "stdout",
     "output_type": "stream",
     "text": [
      "Training Step: 1198  | total loss: \u001b[1m\u001b[32m0.10756\u001b[0m\u001b[0m | time: 76.321s\n\u001b[2K\r| SGD | epoch: 001 | loss: 0.10756 - acc: 0.9619 -- iter: 23960/55000\n"
     ]
    },
    {
     "name": "stdout",
     "output_type": "stream",
     "text": [
      "Training Step: 1199  | total loss: \u001b[1m\u001b[32m0.10381\u001b[0m\u001b[0m | time: 76.384s\n\u001b[2K\r| SGD | epoch: 001 | loss: 0.10381 - acc: 0.9657 -- iter: 23980/55000\n"
     ]
    },
    {
     "name": "stdout",
     "output_type": "stream",
     "text": [
      "Training Step: 1200  | total loss: \u001b[1m\u001b[32m0.09881\u001b[0m\u001b[0m | time: 76.457s\n\u001b[2K\r| SGD | epoch: 001 | loss: 0.09881 - acc: 0.9641 -- iter: 24000/55000\n"
     ]
    },
    {
     "name": "stdout",
     "output_type": "stream",
     "text": [
      "Training Step: 1201  | total loss: \u001b[1m\u001b[32m0.09449\u001b[0m\u001b[0m | time: 76.510s\n\u001b[2K\r| SGD | epoch: 001 | loss: 0.09449 - acc: 0.9627 -- iter: 24020/55000\n"
     ]
    },
    {
     "name": "stdout",
     "output_type": "stream",
     "text": [
      "Training Step: 1202  | total loss: \u001b[1m\u001b[32m0.09033\u001b[0m\u001b[0m | time: 76.572s\n\u001b[2K\r| SGD | epoch: 001 | loss: 0.09033 - acc: 0.9664 -- iter: 24040/55000\n"
     ]
    },
    {
     "name": "stdout",
     "output_type": "stream",
     "text": [
      "Training Step: 1203  | total loss: \u001b[1m\u001b[32m0.08252\u001b[0m\u001b[0m | time: 76.635s\n\u001b[2K\r| SGD | epoch: 001 | loss: 0.08252 - acc: 0.9698 -- iter: 24060/55000\n"
     ]
    },
    {
     "name": "stdout",
     "output_type": "stream",
     "text": [
      "Training Step: 1204  | total loss: \u001b[1m\u001b[32m0.09023\u001b[0m\u001b[0m | time: 76.697s\n\u001b[2K\r| SGD | epoch: 001 | loss: 0.09023 - acc: 0.9628 -- iter: 24080/55000\n"
     ]
    },
    {
     "name": "stdout",
     "output_type": "stream",
     "text": [
      "Training Step: 1205  | total loss: \u001b[1m\u001b[32m0.08178\u001b[0m\u001b[0m | time: 76.760s\n\u001b[2K\r| SGD | epoch: 001 | loss: 0.08178 - acc: 0.9665 -- iter: 24100/55000\n"
     ]
    },
    {
     "name": "stdout",
     "output_type": "stream",
     "text": [
      "Training Step: 1206  | total loss: \u001b[1m\u001b[32m0.07413\u001b[0m\u001b[0m | time: 76.822s\n\u001b[2K\r| SGD | epoch: 001 | loss: 0.07413 - acc: 0.9699 -- iter: 24120/55000\n"
     ]
    },
    {
     "name": "stdout",
     "output_type": "stream",
     "text": [
      "Training Step: 1207  | total loss: \u001b[1m\u001b[32m0.07643\u001b[0m\u001b[0m | time: 76.900s\n\u001b[2K\r| SGD | epoch: 001 | loss: 0.07643 - acc: 0.9679 -- iter: 24140/55000\n"
     ]
    },
    {
     "name": "stdout",
     "output_type": "stream",
     "text": [
      "Training Step: 1208  | total loss: \u001b[1m\u001b[32m0.08171\u001b[0m\u001b[0m | time: 76.963s\n\u001b[2K\r| SGD | epoch: 001 | loss: 0.08171 - acc: 0.9661 -- iter: 24160/55000\n"
     ]
    },
    {
     "name": "stdout",
     "output_type": "stream",
     "text": [
      "Training Step: 1209  | total loss: \u001b[1m\u001b[32m0.11140\u001b[0m\u001b[0m | time: 77.041s\n\u001b[2K\r| SGD | epoch: 001 | loss: 0.11140 - acc: 0.9645 -- iter: 24180/55000\n"
     ]
    },
    {
     "name": "stdout",
     "output_type": "stream",
     "text": [
      "Training Step: 1210  | total loss: \u001b[1m\u001b[32m0.10276\u001b[0m\u001b[0m | time: 77.104s\n\u001b[2K\r| SGD | epoch: 001 | loss: 0.10276 - acc: 0.9680 -- iter: 24200/55000\n"
     ]
    },
    {
     "name": "stdout",
     "output_type": "stream",
     "text": [
      "Training Step: 1211  | total loss: \u001b[1m\u001b[32m0.09694\u001b[0m\u001b[0m | time: 77.182s\n\u001b[2K\r| SGD | epoch: 001 | loss: 0.09694 - acc: 0.9712 -- iter: 24220/55000\n"
     ]
    },
    {
     "name": "stdout",
     "output_type": "stream",
     "text": [
      "Training Step: 1212  | total loss: \u001b[1m\u001b[32m0.09811\u001b[0m\u001b[0m | time: 77.244s\n\u001b[2K\r| SGD | epoch: 001 | loss: 0.09811 - acc: 0.9691 -- iter: 24240/55000\n"
     ]
    },
    {
     "name": "stdout",
     "output_type": "stream",
     "text": [
      "Training Step: 1213  | total loss: \u001b[1m\u001b[32m0.09431\u001b[0m\u001b[0m | time: 77.307s\n\u001b[2K\r| SGD | epoch: 001 | loss: 0.09431 - acc: 0.9722 -- iter: 24260/55000\n"
     ]
    },
    {
     "name": "stdout",
     "output_type": "stream",
     "text": [
      "Training Step: 1214  | total loss: \u001b[1m\u001b[32m0.10899\u001b[0m\u001b[0m | time: 77.385s\n\u001b[2K\r| SGD | epoch: 001 | loss: 0.10899 - acc: 0.9700 -- iter: 24280/55000\n"
     ]
    },
    {
     "name": "stdout",
     "output_type": "stream",
     "text": [
      "Training Step: 1215  | total loss: \u001b[1m\u001b[32m0.11514\u001b[0m\u001b[0m | time: 77.457s\n\u001b[2K\r| SGD | epoch: 001 | loss: 0.11514 - acc: 0.9680 -- iter: 24300/55000\n"
     ]
    },
    {
     "name": "stdout",
     "output_type": "stream",
     "text": [
      "Training Step: 1216  | total loss: \u001b[1m\u001b[32m0.11426\u001b[0m\u001b[0m | time: 77.522s\n\u001b[2K\r| SGD | epoch: 001 | loss: 0.11426 - acc: 0.9662 -- iter: 24320/55000\n"
     ]
    },
    {
     "name": "stdout",
     "output_type": "stream",
     "text": [
      "Training Step: 1217  | total loss: \u001b[1m\u001b[32m0.10377\u001b[0m\u001b[0m | time: 77.584s\n\u001b[2K\r| SGD | epoch: 001 | loss: 0.10377 - acc: 0.9696 -- iter: 24340/55000\n"
     ]
    },
    {
     "name": "stdout",
     "output_type": "stream",
     "text": [
      "Training Step: 1218  | total loss: \u001b[1m\u001b[32m0.10208\u001b[0m\u001b[0m | time: 77.647s\n\u001b[2K\r| SGD | epoch: 001 | loss: 0.10208 - acc: 0.9676 -- iter: 24360/55000\n"
     ]
    },
    {
     "name": "stdout",
     "output_type": "stream",
     "text": [
      "Training Step: 1219  | total loss: \u001b[1m\u001b[32m0.11290\u001b[0m\u001b[0m | time: 77.725s\n\u001b[2K\r| SGD | epoch: 001 | loss: 0.11290 - acc: 0.9608 -- iter: 24380/55000\n"
     ]
    },
    {
     "name": "stdout",
     "output_type": "stream",
     "text": [
      "Training Step: 1220  | total loss: \u001b[1m\u001b[32m0.11334\u001b[0m\u001b[0m | time: 77.803s\n\u001b[2K\r| SGD | epoch: 001 | loss: 0.11334 - acc: 0.9598 -- iter: 24400/55000\n"
     ]
    },
    {
     "name": "stdout",
     "output_type": "stream",
     "text": [
      "Training Step: 1221  | total loss: \u001b[1m\u001b[32m0.10777\u001b[0m\u001b[0m | time: 77.865s\n\u001b[2K\r| SGD | epoch: 001 | loss: 0.10777 - acc: 0.9588 -- iter: 24420/55000\n"
     ]
    },
    {
     "name": "stdout",
     "output_type": "stream",
     "text": [
      "Training Step: 1222  | total loss: \u001b[1m\u001b[32m0.09887\u001b[0m\u001b[0m | time: 77.944s\n\u001b[2K\r| SGD | epoch: 001 | loss: 0.09887 - acc: 0.9629 -- iter: 24440/55000\n"
     ]
    },
    {
     "name": "stdout",
     "output_type": "stream",
     "text": [
      "Training Step: 1223  | total loss: \u001b[1m\u001b[32m0.08957\u001b[0m\u001b[0m | time: 78.022s\n\u001b[2K\r| SGD | epoch: 001 | loss: 0.08957 - acc: 0.9666 -- iter: 24460/55000\n"
     ]
    },
    {
     "name": "stdout",
     "output_type": "stream",
     "text": [
      "Training Step: 1224  | total loss: \u001b[1m\u001b[32m0.08482\u001b[0m\u001b[0m | time: 78.084s\n\u001b[2K\r| SGD | epoch: 001 | loss: 0.08482 - acc: 0.9700 -- iter: 24480/55000\n"
     ]
    },
    {
     "name": "stdout",
     "output_type": "stream",
     "text": [
      "Training Step: 1225  | total loss: \u001b[1m\u001b[32m0.08572\u001b[0m\u001b[0m | time: 78.147s\n\u001b[2K\r| SGD | epoch: 001 | loss: 0.08572 - acc: 0.9680 -- iter: 24500/55000\n"
     ]
    },
    {
     "name": "stdout",
     "output_type": "stream",
     "text": [
      "Training Step: 1226  | total loss: \u001b[1m\u001b[32m0.08318\u001b[0m\u001b[0m | time: 78.209s\n\u001b[2K\r| SGD | epoch: 001 | loss: 0.08318 - acc: 0.9712 -- iter: 24520/55000\n"
     ]
    },
    {
     "name": "stdout",
     "output_type": "stream",
     "text": [
      "Training Step: 1227  | total loss: \u001b[1m\u001b[32m0.10562\u001b[0m\u001b[0m | time: 78.272s\n\u001b[2K\r| SGD | epoch: 001 | loss: 0.10562 - acc: 0.9690 -- iter: 24540/55000\n"
     ]
    },
    {
     "name": "stdout",
     "output_type": "stream",
     "text": [
      "Training Step: 1228  | total loss: \u001b[1m\u001b[32m0.09624\u001b[0m\u001b[0m | time: 78.334s\n\u001b[2K\r| SGD | epoch: 001 | loss: 0.09624 - acc: 0.9721 -- iter: 24560/55000\n"
     ]
    },
    {
     "name": "stdout",
     "output_type": "stream",
     "text": [
      "Training Step: 1229  | total loss: \u001b[1m\u001b[32m0.09234\u001b[0m\u001b[0m | time: 78.402s\n\u001b[2K\r| SGD | epoch: 001 | loss: 0.09234 - acc: 0.9749 -- iter: 24580/55000\n"
     ]
    },
    {
     "name": "stdout",
     "output_type": "stream",
     "text": [
      "Training Step: 1230  | total loss: \u001b[1m\u001b[32m0.08662\u001b[0m\u001b[0m | time: 78.464s\n\u001b[2K\r| SGD | epoch: 001 | loss: 0.08662 - acc: 0.9774 -- iter: 24600/55000\n"
     ]
    },
    {
     "name": "stdout",
     "output_type": "stream",
     "text": [
      "Training Step: 1231  | total loss: \u001b[1m\u001b[32m0.08024\u001b[0m\u001b[0m | time: 78.527s\n\u001b[2K\r| SGD | epoch: 001 | loss: 0.08024 - acc: 0.9797 -- iter: 24620/55000\n"
     ]
    },
    {
     "name": "stdout",
     "output_type": "stream",
     "text": [
      "Training Step: 1232  | total loss: \u001b[1m\u001b[32m0.07239\u001b[0m\u001b[0m | time: 78.589s\n\u001b[2K\r| SGD | epoch: 001 | loss: 0.07239 - acc: 0.9817 -- iter: 24640/55000\n"
     ]
    },
    {
     "name": "stdout",
     "output_type": "stream",
     "text": [
      "Training Step: 1233  | total loss: \u001b[1m\u001b[32m0.06652\u001b[0m\u001b[0m | time: 78.667s\n\u001b[2K\r| SGD | epoch: 001 | loss: 0.06652 - acc: 0.9836 -- iter: 24660/55000\n"
     ]
    },
    {
     "name": "stdout",
     "output_type": "stream",
     "text": [
      "Training Step: 1234  | total loss: \u001b[1m\u001b[32m0.07380\u001b[0m\u001b[0m | time: 78.730s\n\u001b[2K\r| SGD | epoch: 001 | loss: 0.07380 - acc: 0.9752 -- iter: 24680/55000\n"
     ]
    },
    {
     "name": "stdout",
     "output_type": "stream",
     "text": [
      "Training Step: 1235  | total loss: \u001b[1m\u001b[32m0.08377\u001b[0m\u001b[0m | time: 78.792s\n\u001b[2K\r| SGD | epoch: 001 | loss: 0.08377 - acc: 0.9727 -- iter: 24700/55000\n"
     ]
    },
    {
     "name": "stdout",
     "output_type": "stream",
     "text": [
      "Training Step: 1236  | total loss: \u001b[1m\u001b[32m0.07884\u001b[0m\u001b[0m | time: 78.871s\n\u001b[2K\r| SGD | epoch: 001 | loss: 0.07884 - acc: 0.9754 -- iter: 24720/55000\n"
     ]
    },
    {
     "name": "stdout",
     "output_type": "stream",
     "text": [
      "Training Step: 1237  | total loss: \u001b[1m\u001b[32m0.07296\u001b[0m\u001b[0m | time: 78.933s\n\u001b[2K\r| SGD | epoch: 001 | loss: 0.07296 - acc: 0.9779 -- iter: 24740/55000\n"
     ]
    },
    {
     "name": "stdout",
     "output_type": "stream",
     "text": [
      "Training Step: 1238  | total loss: \u001b[1m\u001b[32m0.06688\u001b[0m\u001b[0m | time: 78.996s\n\u001b[2K\r| SGD | epoch: 001 | loss: 0.06688 - acc: 0.9801 -- iter: 24760/55000\n"
     ]
    },
    {
     "name": "stdout",
     "output_type": "stream",
     "text": [
      "Training Step: 1239  | total loss: \u001b[1m\u001b[32m0.06268\u001b[0m\u001b[0m | time: 79.074s\n\u001b[2K\r| SGD | epoch: 001 | loss: 0.06268 - acc: 0.9821 -- iter: 24780/55000\n"
     ]
    },
    {
     "name": "stdout",
     "output_type": "stream",
     "text": [
      "Training Step: 1240  | total loss: \u001b[1m\u001b[32m0.06946\u001b[0m\u001b[0m | time: 79.136s\n\u001b[2K\r| SGD | epoch: 001 | loss: 0.06946 - acc: 0.9739 -- iter: 24800/55000\n"
     ]
    },
    {
     "name": "stdout",
     "output_type": "stream",
     "text": [
      "Training Step: 1241  | total loss: \u001b[1m\u001b[32m0.06295\u001b[0m\u001b[0m | time: 79.214s\n\u001b[2K\r| SGD | epoch: 001 | loss: 0.06295 - acc: 0.9765 -- iter: 24820/55000\n"
     ]
    },
    {
     "name": "stdout",
     "output_type": "stream",
     "text": [
      "Training Step: 1242  | total loss: \u001b[1m\u001b[32m0.06510\u001b[0m\u001b[0m | time: 79.277s\n\u001b[2K\r| SGD | epoch: 001 | loss: 0.06510 - acc: 0.9738 -- iter: 24840/55000\n"
     ]
    },
    {
     "name": "stdout",
     "output_type": "stream",
     "text": [
      "Training Step: 1243  | total loss: \u001b[1m\u001b[32m0.06185\u001b[0m\u001b[0m | time: 79.339s\n\u001b[2K\r| SGD | epoch: 001 | loss: 0.06185 - acc: 0.9764 -- iter: 24860/55000\n"
     ]
    },
    {
     "name": "stdout",
     "output_type": "stream",
     "text": [
      "Training Step: 1244  | total loss: \u001b[1m\u001b[32m0.05810\u001b[0m\u001b[0m | time: 79.407s\n\u001b[2K\r| SGD | epoch: 001 | loss: 0.05810 - acc: 0.9788 -- iter: 24880/55000\n"
     ]
    },
    {
     "name": "stdout",
     "output_type": "stream",
     "text": [
      "Training Step: 1245  | total loss: \u001b[1m\u001b[32m0.06182\u001b[0m\u001b[0m | time: 79.470s\n\u001b[2K\r| SGD | epoch: 001 | loss: 0.06182 - acc: 0.9759 -- iter: 24900/55000\n"
     ]
    },
    {
     "name": "stdout",
     "output_type": "stream",
     "text": [
      "Training Step: 1246  | total loss: \u001b[1m\u001b[32m0.07136\u001b[0m\u001b[0m | time: 79.548s\n\u001b[2K\r| SGD | epoch: 001 | loss: 0.07136 - acc: 0.9733 -- iter: 24920/55000\n"
     ]
    },
    {
     "name": "stdout",
     "output_type": "stream",
     "text": [
      "Training Step: 1247  | total loss: \u001b[1m\u001b[32m0.07272\u001b[0m\u001b[0m | time: 79.611s\n\u001b[2K\r| SGD | epoch: 001 | loss: 0.07272 - acc: 0.9710 -- iter: 24940/55000\n"
     ]
    },
    {
     "name": "stdout",
     "output_type": "stream",
     "text": [
      "Training Step: 1248  | total loss: \u001b[1m\u001b[32m0.07196\u001b[0m\u001b[0m | time: 79.673s\n\u001b[2K\r| SGD | epoch: 001 | loss: 0.07196 - acc: 0.9739 -- iter: 24960/55000\n"
     ]
    },
    {
     "name": "stdout",
     "output_type": "stream",
     "text": [
      "Training Step: 1249  | total loss: \u001b[1m\u001b[32m0.06747\u001b[0m\u001b[0m | time: 79.736s\n\u001b[2K\r| SGD | epoch: 001 | loss: 0.06747 - acc: 0.9765 -- iter: 24980/55000\n"
     ]
    },
    {
     "name": "stdout",
     "output_type": "stream",
     "text": [
      "Training Step: 1250  | total loss: \u001b[1m\u001b[32m0.06467\u001b[0m\u001b[0m | time: 79.814s\n\u001b[2K\r| SGD | epoch: 001 | loss: 0.06467 - acc: 0.9789 -- iter: 25000/55000\n"
     ]
    },
    {
     "name": "stdout",
     "output_type": "stream",
     "text": [
      "Training Step: 1251  | total loss: \u001b[1m\u001b[32m0.05883\u001b[0m\u001b[0m | time: 79.876s\n\u001b[2K\r| SGD | epoch: 001 | loss: 0.05883 - acc: 0.9810 -- iter: 25020/55000\n"
     ]
    },
    {
     "name": "stdout",
     "output_type": "stream",
     "text": [
      "Training Step: 1252  | total loss: \u001b[1m\u001b[32m0.07220\u001b[0m\u001b[0m | time: 79.954s\n\u001b[2K\r| SGD | epoch: 001 | loss: 0.07220 - acc: 0.9779 -- iter: 25040/55000\n"
     ]
    },
    {
     "name": "stdout",
     "output_type": "stream",
     "text": [
      "Training Step: 1253  | total loss: \u001b[1m\u001b[32m0.06589\u001b[0m\u001b[0m | time: 80.017s\n\u001b[2K\r| SGD | epoch: 001 | loss: 0.06589 - acc: 0.9801 -- iter: 25060/55000\n"
     ]
    },
    {
     "name": "stdout",
     "output_type": "stream",
     "text": [
      "Training Step: 1254  | total loss: \u001b[1m\u001b[32m0.05996\u001b[0m\u001b[0m | time: 80.095s\n\u001b[2K\r| SGD | epoch: 001 | loss: 0.05996 - acc: 0.9821 -- iter: 25080/55000\n"
     ]
    },
    {
     "name": "stdout",
     "output_type": "stream",
     "text": [
      "Training Step: 1255  | total loss: \u001b[1m\u001b[32m0.05931\u001b[0m\u001b[0m | time: 80.157s\n\u001b[2K\r| SGD | epoch: 001 | loss: 0.05931 - acc: 0.9839 -- iter: 25100/55000\n"
     ]
    },
    {
     "name": "stdout",
     "output_type": "stream",
     "text": [
      "Training Step: 1256  | total loss: \u001b[1m\u001b[32m0.05365\u001b[0m\u001b[0m | time: 80.236s\n\u001b[2K\r| SGD | epoch: 001 | loss: 0.05365 - acc: 0.9855 -- iter: 25120/55000\n"
     ]
    },
    {
     "name": "stdout",
     "output_type": "stream",
     "text": [
      "Training Step: 1257  | total loss: \u001b[1m\u001b[32m0.06462\u001b[0m\u001b[0m | time: 80.309s\n\u001b[2K\r| SGD | epoch: 001 | loss: 0.06462 - acc: 0.9819 -- iter: 25140/55000\n"
     ]
    },
    {
     "name": "stdout",
     "output_type": "stream",
     "text": [
      "Training Step: 1258  | total loss: \u001b[1m\u001b[32m0.08880\u001b[0m\u001b[0m | time: 80.368s\n\u001b[2K\r| SGD | epoch: 001 | loss: 0.08880 - acc: 0.9787 -- iter: 25160/55000\n"
     ]
    },
    {
     "name": "stdout",
     "output_type": "stream",
     "text": [
      "Training Step: 1259  | total loss: \u001b[1m\u001b[32m0.08502\u001b[0m\u001b[0m | time: 80.446s\n\u001b[2K\r| SGD | epoch: 001 | loss: 0.08502 - acc: 0.9809 -- iter: 25180/55000\n"
     ]
    },
    {
     "name": "stdout",
     "output_type": "stream",
     "text": [
      "Training Step: 1260  | total loss: \u001b[1m\u001b[32m0.08394\u001b[0m\u001b[0m | time: 80.508s\n\u001b[2K\r| SGD | epoch: 001 | loss: 0.08394 - acc: 0.9778 -- iter: 25200/55000\n"
     ]
    },
    {
     "name": "stdout",
     "output_type": "stream",
     "text": [
      "Training Step: 1261  | total loss: \u001b[1m\u001b[32m0.07764\u001b[0m\u001b[0m | time: 80.571s\n\u001b[2K\r| SGD | epoch: 001 | loss: 0.07764 - acc: 0.9800 -- iter: 25220/55000\n"
     ]
    },
    {
     "name": "stdout",
     "output_type": "stream",
     "text": [
      "Training Step: 1262  | total loss: \u001b[1m\u001b[32m0.08902\u001b[0m\u001b[0m | time: 80.633s\n\u001b[2K\r| SGD | epoch: 001 | loss: 0.08902 - acc: 0.9720 -- iter: 25240/55000\n"
     ]
    },
    {
     "name": "stdout",
     "output_type": "stream",
     "text": [
      "Training Step: 1263  | total loss: \u001b[1m\u001b[32m0.08108\u001b[0m\u001b[0m | time: 80.696s\n\u001b[2K\r| SGD | epoch: 001 | loss: 0.08108 - acc: 0.9748 -- iter: 25260/55000\n"
     ]
    },
    {
     "name": "stdout",
     "output_type": "stream",
     "text": [
      "Training Step: 1264  | total loss: \u001b[1m\u001b[32m0.07940\u001b[0m\u001b[0m | time: 80.758s\n\u001b[2K\r| SGD | epoch: 001 | loss: 0.07940 - acc: 0.9773 -- iter: 25280/55000\n"
     ]
    },
    {
     "name": "stdout",
     "output_type": "stream",
     "text": [
      "Training Step: 1265  | total loss: \u001b[1m\u001b[32m0.07254\u001b[0m\u001b[0m | time: 80.836s\n\u001b[2K\r| SGD | epoch: 001 | loss: 0.07254 - acc: 0.9796 -- iter: 25300/55000\n"
     ]
    },
    {
     "name": "stdout",
     "output_type": "stream",
     "text": [
      "Training Step: 1266  | total loss: \u001b[1m\u001b[32m0.07866\u001b[0m\u001b[0m | time: 80.899s\n\u001b[2K\r| SGD | epoch: 001 | loss: 0.07866 - acc: 0.9766 -- iter: 25320/55000\n"
     ]
    },
    {
     "name": "stdout",
     "output_type": "stream",
     "text": [
      "Training Step: 1267  | total loss: \u001b[1m\u001b[32m0.07162\u001b[0m\u001b[0m | time: 80.961s\n\u001b[2K\r| SGD | epoch: 001 | loss: 0.07162 - acc: 0.9790 -- iter: 25340/55000\n"
     ]
    },
    {
     "name": "stdout",
     "output_type": "stream",
     "text": [
      "Training Step: 1268  | total loss: \u001b[1m\u001b[32m0.07045\u001b[0m\u001b[0m | time: 81.024s\n\u001b[2K\r| SGD | epoch: 001 | loss: 0.07045 - acc: 0.9761 -- iter: 25360/55000\n"
     ]
    },
    {
     "name": "stdout",
     "output_type": "stream",
     "text": [
      "Training Step: 1269  | total loss: \u001b[1m\u001b[32m0.07593\u001b[0m\u001b[0m | time: 81.086s\n\u001b[2K\r| SGD | epoch: 001 | loss: 0.07593 - acc: 0.9735 -- iter: 25380/55000\n"
     ]
    },
    {
     "name": "stdout",
     "output_type": "stream",
     "text": [
      "Training Step: 1270  | total loss: \u001b[1m\u001b[32m0.07124\u001b[0m\u001b[0m | time: 81.149s\n\u001b[2K\r| SGD | epoch: 001 | loss: 0.07124 - acc: 0.9761 -- iter: 25400/55000\n"
     ]
    },
    {
     "name": "stdout",
     "output_type": "stream",
     "text": [
      "Training Step: 1271  | total loss: \u001b[1m\u001b[32m0.09472\u001b[0m\u001b[0m | time: 81.211s\n\u001b[2K\r| SGD | epoch: 001 | loss: 0.09472 - acc: 0.9685 -- iter: 25420/55000\n"
     ]
    },
    {
     "name": "stdout",
     "output_type": "stream",
     "text": [
      "Training Step: 1272  | total loss: \u001b[1m\u001b[32m0.08949\u001b[0m\u001b[0m | time: 81.288s\n\u001b[2K\r| SGD | epoch: 001 | loss: 0.08949 - acc: 0.9717 -- iter: 25440/55000\n"
     ]
    },
    {
     "name": "stdout",
     "output_type": "stream",
     "text": [
      "Training Step: 1273  | total loss: \u001b[1m\u001b[32m0.08081\u001b[0m\u001b[0m | time: 81.357s\n\u001b[2K\r| SGD | epoch: 001 | loss: 0.08081 - acc: 0.9745 -- iter: 25460/55000\n"
     ]
    },
    {
     "name": "stdout",
     "output_type": "stream",
     "text": [
      "Training Step: 1274  | total loss: \u001b[1m\u001b[32m0.10604\u001b[0m\u001b[0m | time: 81.419s\n\u001b[2K\r| SGD | epoch: 001 | loss: 0.10604 - acc: 0.9670 -- iter: 25480/55000\n"
     ]
    },
    {
     "name": "stdout",
     "output_type": "stream",
     "text": [
      "Training Step: 1275  | total loss: \u001b[1m\u001b[32m0.09793\u001b[0m\u001b[0m | time: 81.482s\n\u001b[2K\r| SGD | epoch: 001 | loss: 0.09793 - acc: 0.9703 -- iter: 25500/55000\n"
     ]
    },
    {
     "name": "stdout",
     "output_type": "stream",
     "text": [
      "Training Step: 1276  | total loss: \u001b[1m\u001b[32m0.08968\u001b[0m\u001b[0m | time: 81.560s\n\u001b[2K\r| SGD | epoch: 001 | loss: 0.08968 - acc: 0.9733 -- iter: 25520/55000\n"
     ]
    },
    {
     "name": "stdout",
     "output_type": "stream",
     "text": [
      "Training Step: 1277  | total loss: \u001b[1m\u001b[32m0.09448\u001b[0m\u001b[0m | time: 81.622s\n\u001b[2K\r| SGD | epoch: 001 | loss: 0.09448 - acc: 0.9660 -- iter: 25540/55000\n"
     ]
    },
    {
     "name": "stdout",
     "output_type": "stream",
     "text": [
      "Training Step: 1278  | total loss: \u001b[1m\u001b[32m0.11105\u001b[0m\u001b[0m | time: 81.685s\n\u001b[2K\r| SGD | epoch: 001 | loss: 0.11105 - acc: 0.9644 -- iter: 25560/55000\n"
     ]
    },
    {
     "name": "stdout",
     "output_type": "stream",
     "text": [
      "Training Step: 1279  | total loss: \u001b[1m\u001b[32m0.10243\u001b[0m\u001b[0m | time: 81.747s\n\u001b[2K\r| SGD | epoch: 001 | loss: 0.10243 - acc: 0.9679 -- iter: 25580/55000\n"
     ]
    },
    {
     "name": "stdout",
     "output_type": "stream",
     "text": [
      "Training Step: 1280  | total loss: \u001b[1m\u001b[32m0.09973\u001b[0m\u001b[0m | time: 81.826s\n\u001b[2K\r| SGD | epoch: 001 | loss: 0.09973 - acc: 0.9661 -- iter: 25600/55000\n"
     ]
    },
    {
     "name": "stdout",
     "output_type": "stream",
     "text": [
      "Training Step: 1281  | total loss: \u001b[1m\u001b[32m0.09854\u001b[0m\u001b[0m | time: 81.888s\n\u001b[2K\r| SGD | epoch: 001 | loss: 0.09854 - acc: 0.9645 -- iter: 25620/55000\n"
     ]
    },
    {
     "name": "stdout",
     "output_type": "stream",
     "text": [
      "Training Step: 1282  | total loss: \u001b[1m\u001b[32m0.09063\u001b[0m\u001b[0m | time: 81.966s\n\u001b[2K\r| SGD | epoch: 001 | loss: 0.09063 - acc: 0.9681 -- iter: 25640/55000\n"
     ]
    },
    {
     "name": "stdout",
     "output_type": "stream",
     "text": [
      "Training Step: 1283  | total loss: \u001b[1m\u001b[32m0.08399\u001b[0m\u001b[0m | time: 82.029s\n\u001b[2K\r| SGD | epoch: 001 | loss: 0.08399 - acc: 0.9713 -- iter: 25660/55000\n"
     ]
    },
    {
     "name": "stdout",
     "output_type": "stream",
     "text": [
      "Training Step: 1284  | total loss: \u001b[1m\u001b[32m0.07685\u001b[0m\u001b[0m | time: 82.091s\n\u001b[2K\r| SGD | epoch: 001 | loss: 0.07685 - acc: 0.9741 -- iter: 25680/55000\n"
     ]
    },
    {
     "name": "stdout",
     "output_type": "stream",
     "text": [
      "Training Step: 1285  | total loss: \u001b[1m\u001b[32m0.07557\u001b[0m\u001b[0m | time: 82.154s\n\u001b[2K\r| SGD | epoch: 001 | loss: 0.07557 - acc: 0.9717 -- iter: 25700/55000\n"
     ]
    },
    {
     "name": "stdout",
     "output_type": "stream",
     "text": [
      "Training Step: 1286  | total loss: \u001b[1m\u001b[32m0.07669\u001b[0m\u001b[0m | time: 82.239s\n\u001b[2K\r| SGD | epoch: 001 | loss: 0.07669 - acc: 0.9696 -- iter: 25720/55000\n"
     ]
    },
    {
     "name": "stdout",
     "output_type": "stream",
     "text": [
      "Training Step: 1287  | total loss: \u001b[1m\u001b[32m0.07426\u001b[0m\u001b[0m | time: 82.294s\n\u001b[2K\r| SGD | epoch: 001 | loss: 0.07426 - acc: 0.9726 -- iter: 25740/55000\n"
     ]
    },
    {
     "name": "stdout",
     "output_type": "stream",
     "text": [
      "Training Step: 1288  | total loss: \u001b[1m\u001b[32m0.06850\u001b[0m\u001b[0m | time: 82.372s\n\u001b[2K\r| SGD | epoch: 001 | loss: 0.06850 - acc: 0.9753 -- iter: 25760/55000\n"
     ]
    },
    {
     "name": "stdout",
     "output_type": "stream",
     "text": [
      "Training Step: 1289  | total loss: \u001b[1m\u001b[32m0.09080\u001b[0m\u001b[0m | time: 82.450s\n\u001b[2K\r| SGD | epoch: 001 | loss: 0.09080 - acc: 0.9728 -- iter: 25780/55000\n"
     ]
    },
    {
     "name": "stdout",
     "output_type": "stream",
     "text": [
      "Training Step: 1290  | total loss: \u001b[1m\u001b[32m0.09195\u001b[0m\u001b[0m | time: 82.513s\n\u001b[2K\r| SGD | epoch: 001 | loss: 0.09195 - acc: 0.9755 -- iter: 25800/55000\n"
     ]
    },
    {
     "name": "stdout",
     "output_type": "stream",
     "text": [
      "Training Step: 1291  | total loss: \u001b[1m\u001b[32m0.10139\u001b[0m\u001b[0m | time: 82.575s\n\u001b[2K\r| SGD | epoch: 001 | loss: 0.10139 - acc: 0.9680 -- iter: 25820/55000\n"
     ]
    },
    {
     "name": "stdout",
     "output_type": "stream",
     "text": [
      "Training Step: 1292  | total loss: \u001b[1m\u001b[32m0.09351\u001b[0m\u001b[0m | time: 82.653s\n\u001b[2K\r| SGD | epoch: 001 | loss: 0.09351 - acc: 0.9712 -- iter: 25840/55000\n"
     ]
    },
    {
     "name": "stdout",
     "output_type": "stream",
     "text": [
      "Training Step: 1293  | total loss: \u001b[1m\u001b[32m0.09101\u001b[0m\u001b[0m | time: 82.716s\n\u001b[2K\r| SGD | epoch: 001 | loss: 0.09101 - acc: 0.9691 -- iter: 25860/55000\n"
     ]
    },
    {
     "name": "stdout",
     "output_type": "stream",
     "text": [
      "Training Step: 1294  | total loss: \u001b[1m\u001b[32m0.12526\u001b[0m\u001b[0m | time: 82.778s\n\u001b[2K\r| SGD | epoch: 001 | loss: 0.12526 - acc: 0.9622 -- iter: 25880/55000\n"
     ]
    },
    {
     "name": "stdout",
     "output_type": "stream",
     "text": [
      "Training Step: 1295  | total loss: \u001b[1m\u001b[32m0.12009\u001b[0m\u001b[0m | time: 82.841s\n\u001b[2K\r| SGD | epoch: 001 | loss: 0.12009 - acc: 0.9609 -- iter: 25900/55000\n"
     ]
    },
    {
     "name": "stdout",
     "output_type": "stream",
     "text": [
      "Training Step: 1296  | total loss: \u001b[1m\u001b[32m0.10847\u001b[0m\u001b[0m | time: 82.904s\n\u001b[2K\r| SGD | epoch: 001 | loss: 0.10847 - acc: 0.9648 -- iter: 25920/55000\n"
     ]
    },
    {
     "name": "stdout",
     "output_type": "stream",
     "text": [
      "Training Step: 1297  | total loss: \u001b[1m\u001b[32m0.09848\u001b[0m\u001b[0m | time: 82.966s\n\u001b[2K\r| SGD | epoch: 001 | loss: 0.09848 - acc: 0.9684 -- iter: 25940/55000\n"
     ]
    },
    {
     "name": "stdout",
     "output_type": "stream",
     "text": [
      "Training Step: 1298  | total loss: \u001b[1m\u001b[32m0.09030\u001b[0m\u001b[0m | time: 83.044s\n\u001b[2K\r| SGD | epoch: 001 | loss: 0.09030 - acc: 0.9715 -- iter: 25960/55000\n"
     ]
    },
    {
     "name": "stdout",
     "output_type": "stream",
     "text": [
      "Training Step: 1299  | total loss: \u001b[1m\u001b[32m0.11887\u001b[0m\u001b[0m | time: 83.107s\n\u001b[2K\r| SGD | epoch: 001 | loss: 0.11887 - acc: 0.9594 -- iter: 25980/55000\n"
     ]
    },
    {
     "name": "stdout",
     "output_type": "stream",
     "text": [
      "Training Step: 1300  | total loss: \u001b[1m\u001b[32m0.10987\u001b[0m\u001b[0m | time: 83.185s\n\u001b[2K\r| SGD | epoch: 001 | loss: 0.10987 - acc: 0.9634 -- iter: 26000/55000\n"
     ]
    },
    {
     "name": "stdout",
     "output_type": "stream",
     "text": [
      "Training Step: 1301  | total loss: \u001b[1m\u001b[32m0.10715\u001b[0m\u001b[0m | time: 83.253s\n\u001b[2K\r| SGD | epoch: 001 | loss: 0.10715 - acc: 0.9621 -- iter: 26020/55000\n"
     ]
    },
    {
     "name": "stdout",
     "output_type": "stream",
     "text": [
      "Training Step: 1302  | total loss: \u001b[1m\u001b[32m0.09695\u001b[0m\u001b[0m | time: 83.302s\n\u001b[2K\r| SGD | epoch: 001 | loss: 0.09695 - acc: 0.9659 -- iter: 26040/55000\n"
     ]
    },
    {
     "name": "stdout",
     "output_type": "stream",
     "text": [
      "Training Step: 1303  | total loss: \u001b[1m\u001b[32m0.08864\u001b[0m\u001b[0m | time: 83.365s\n\u001b[2K\r| SGD | epoch: 001 | loss: 0.08864 - acc: 0.9693 -- iter: 26060/55000\n"
     ]
    },
    {
     "name": "stdout",
     "output_type": "stream",
     "text": [
      "Training Step: 1304  | total loss: \u001b[1m\u001b[32m0.08126\u001b[0m\u001b[0m | time: 83.427s\n\u001b[2K\r| SGD | epoch: 001 | loss: 0.08126 - acc: 0.9724 -- iter: 26080/55000\n"
     ]
    },
    {
     "name": "stdout",
     "output_type": "stream",
     "text": [
      "Training Step: 1305  | total loss: \u001b[1m\u001b[32m0.10329\u001b[0m\u001b[0m | time: 83.490s\n\u001b[2K\r| SGD | epoch: 001 | loss: 0.10329 - acc: 0.9651 -- iter: 26100/55000\n"
     ]
    },
    {
     "name": "stdout",
     "output_type": "stream",
     "text": [
      "Training Step: 1306  | total loss: \u001b[1m\u001b[32m0.09409\u001b[0m\u001b[0m | time: 83.568s\n\u001b[2K\r| SGD | epoch: 001 | loss: 0.09409 - acc: 0.9686 -- iter: 26120/55000\n"
     ]
    },
    {
     "name": "stdout",
     "output_type": "stream",
     "text": [
      "Training Step: 1307  | total loss: \u001b[1m\u001b[32m0.09268\u001b[0m\u001b[0m | time: 83.631s\n\u001b[2K\r| SGD | epoch: 001 | loss: 0.09268 - acc: 0.9668 -- iter: 26140/55000\n"
     ]
    },
    {
     "name": "stdout",
     "output_type": "stream",
     "text": [
      "Training Step: 1308  | total loss: \u001b[1m\u001b[32m0.08384\u001b[0m\u001b[0m | time: 83.709s\n\u001b[2K\r| SGD | epoch: 001 | loss: 0.08384 - acc: 0.9701 -- iter: 26160/55000\n"
     ]
    },
    {
     "name": "stdout",
     "output_type": "stream",
     "text": [
      "Training Step: 1309  | total loss: \u001b[1m\u001b[32m0.08008\u001b[0m\u001b[0m | time: 83.771s\n\u001b[2K\r| SGD | epoch: 001 | loss: 0.08008 - acc: 0.9731 -- iter: 26180/55000\n"
     ]
    },
    {
     "name": "stdout",
     "output_type": "stream",
     "text": [
      "Training Step: 1310  | total loss: \u001b[1m\u001b[32m0.07966\u001b[0m\u001b[0m | time: 83.834s\n\u001b[2K\r| SGD | epoch: 001 | loss: 0.07966 - acc: 0.9708 -- iter: 26200/55000\n"
     ]
    },
    {
     "name": "stdout",
     "output_type": "stream",
     "text": [
      "Training Step: 1311  | total loss: \u001b[1m\u001b[32m0.07473\u001b[0m\u001b[0m | time: 83.896s\n\u001b[2K\r| SGD | epoch: 001 | loss: 0.07473 - acc: 0.9737 -- iter: 26220/55000\n"
     ]
    },
    {
     "name": "stdout",
     "output_type": "stream",
     "text": [
      "Training Step: 1312  | total loss: \u001b[1m\u001b[32m0.07037\u001b[0m\u001b[0m | time: 83.959s\n\u001b[2K\r| SGD | epoch: 001 | loss: 0.07037 - acc: 0.9763 -- iter: 26240/55000\n"
     ]
    },
    {
     "name": "stdout",
     "output_type": "stream",
     "text": [
      "Training Step: 1313  | total loss: \u001b[1m\u001b[32m0.06667\u001b[0m\u001b[0m | time: 84.021s\n\u001b[2K\r| SGD | epoch: 001 | loss: 0.06667 - acc: 0.9787 -- iter: 26260/55000\n"
     ]
    },
    {
     "name": "stdout",
     "output_type": "stream",
     "text": [
      "Training Step: 1314  | total loss: \u001b[1m\u001b[32m0.06109\u001b[0m\u001b[0m | time: 84.099s\n\u001b[2K\r| SGD | epoch: 001 | loss: 0.06109 - acc: 0.9808 -- iter: 26280/55000\n"
     ]
    },
    {
     "name": "stdout",
     "output_type": "stream",
     "text": [
      "Training Step: 1315  | total loss: \u001b[1m\u001b[32m0.05641\u001b[0m\u001b[0m | time: 84.172s\n\u001b[2K\r| SGD | epoch: 001 | loss: 0.05641 - acc: 0.9827 -- iter: 26300/55000\n"
     ]
    },
    {
     "name": "stdout",
     "output_type": "stream",
     "text": [
      "Training Step: 1316  | total loss: \u001b[1m\u001b[32m0.05138\u001b[0m\u001b[0m | time: 84.228s\n\u001b[2K\r| SGD | epoch: 001 | loss: 0.05138 - acc: 0.9845 -- iter: 26320/55000\n"
     ]
    },
    {
     "name": "stdout",
     "output_type": "stream",
     "text": [
      "Training Step: 1317  | total loss: \u001b[1m\u001b[32m0.04718\u001b[0m\u001b[0m | time: 84.306s\n\u001b[2K\r| SGD | epoch: 001 | loss: 0.04718 - acc: 0.9860 -- iter: 26340/55000\n"
     ]
    },
    {
     "name": "stdout",
     "output_type": "stream",
     "text": [
      "Training Step: 1318  | total loss: \u001b[1m\u001b[32m0.04446\u001b[0m\u001b[0m | time: 84.368s\n\u001b[2K\r| SGD | epoch: 001 | loss: 0.04446 - acc: 0.9874 -- iter: 26360/55000\n"
     ]
    },
    {
     "name": "stdout",
     "output_type": "stream",
     "text": [
      "Training Step: 1319  | total loss: \u001b[1m\u001b[32m0.08011\u001b[0m\u001b[0m | time: 84.431s\n\u001b[2K\r| SGD | epoch: 001 | loss: 0.08011 - acc: 0.9787 -- iter: 26380/55000\n"
     ]
    },
    {
     "name": "stdout",
     "output_type": "stream",
     "text": [
      "Training Step: 1320  | total loss: \u001b[1m\u001b[32m0.07603\u001b[0m\u001b[0m | time: 84.509s\n\u001b[2K\r| SGD | epoch: 001 | loss: 0.07603 - acc: 0.9808 -- iter: 26400/55000\n"
     ]
    },
    {
     "name": "stdout",
     "output_type": "stream",
     "text": [
      "Training Step: 1321  | total loss: \u001b[1m\u001b[32m0.07215\u001b[0m\u001b[0m | time: 84.571s\n\u001b[2K\r| SGD | epoch: 001 | loss: 0.07215 - acc: 0.9827 -- iter: 26420/55000\n"
     ]
    },
    {
     "name": "stdout",
     "output_type": "stream",
     "text": [
      "Training Step: 1322  | total loss: \u001b[1m\u001b[32m0.07166\u001b[0m\u001b[0m | time: 84.649s\n\u001b[2K\r| SGD | epoch: 001 | loss: 0.07166 - acc: 0.9845 -- iter: 26440/55000\n"
     ]
    },
    {
     "name": "stdout",
     "output_type": "stream",
     "text": [
      "Training Step: 1323  | total loss: \u001b[1m\u001b[32m0.10386\u001b[0m\u001b[0m | time: 84.712s\n\u001b[2K\r| SGD | epoch: 001 | loss: 0.10386 - acc: 0.9760 -- iter: 26460/55000\n"
     ]
    },
    {
     "name": "stdout",
     "output_type": "stream",
     "text": [
      "Training Step: 1324  | total loss: \u001b[1m\u001b[32m0.09383\u001b[0m\u001b[0m | time: 84.790s\n\u001b[2K\r| SGD | epoch: 001 | loss: 0.09383 - acc: 0.9784 -- iter: 26480/55000\n"
     ]
    },
    {
     "name": "stdout",
     "output_type": "stream",
     "text": [
      "Training Step: 1325  | total loss: \u001b[1m\u001b[32m0.11732\u001b[0m\u001b[0m | time: 84.853s\n\u001b[2K\r| SGD | epoch: 001 | loss: 0.11732 - acc: 0.9706 -- iter: 26500/55000\n"
     ]
    },
    {
     "name": "stdout",
     "output_type": "stream",
     "text": [
      "Training Step: 1326  | total loss: \u001b[1m\u001b[32m0.11211\u001b[0m\u001b[0m | time: 84.931s\n\u001b[2K\r| SGD | epoch: 001 | loss: 0.11211 - acc: 0.9685 -- iter: 26520/55000\n"
     ]
    },
    {
     "name": "stdout",
     "output_type": "stream",
     "text": [
      "Training Step: 1327  | total loss: \u001b[1m\u001b[32m0.10590\u001b[0m\u001b[0m | time: 84.993s\n\u001b[2K\r| SGD | epoch: 001 | loss: 0.10590 - acc: 0.9667 -- iter: 26540/55000\n"
     ]
    },
    {
     "name": "stdout",
     "output_type": "stream",
     "text": [
      "Training Step: 1328  | total loss: \u001b[1m\u001b[32m0.09605\u001b[0m\u001b[0m | time: 85.056s\n\u001b[2K\r| SGD | epoch: 001 | loss: 0.09605 - acc: 0.9700 -- iter: 26560/55000\n"
     ]
    },
    {
     "name": "stdout",
     "output_type": "stream",
     "text": [
      "Training Step: 1329  | total loss: \u001b[1m\u001b[32m0.10764\u001b[0m\u001b[0m | time: 85.134s\n\u001b[2K\r| SGD | epoch: 001 | loss: 0.10764 - acc: 0.9680 -- iter: 26580/55000\n"
     ]
    },
    {
     "name": "stdout",
     "output_type": "stream",
     "text": [
      "Training Step: 1330  | total loss: \u001b[1m\u001b[32m0.10923\u001b[0m\u001b[0m | time: 85.205s\n\u001b[2K\r| SGD | epoch: 001 | loss: 0.10923 - acc: 0.9662 -- iter: 26600/55000\n"
     ]
    },
    {
     "name": "stdout",
     "output_type": "stream",
     "text": [
      "Training Step: 1331  | total loss: \u001b[1m\u001b[32m0.10038\u001b[0m\u001b[0m | time: 85.268s\n\u001b[2K\r| SGD | epoch: 001 | loss: 0.10038 - acc: 0.9696 -- iter: 26620/55000\n"
     ]
    },
    {
     "name": "stdout",
     "output_type": "stream",
     "text": [
      "Training Step: 1332  | total loss: \u001b[1m\u001b[32m0.09582\u001b[0m\u001b[0m | time: 85.330s\n\u001b[2K\r| SGD | epoch: 001 | loss: 0.09582 - acc: 0.9676 -- iter: 26640/55000\n"
     ]
    },
    {
     "name": "stdout",
     "output_type": "stream",
     "text": [
      "Training Step: 1333  | total loss: \u001b[1m\u001b[32m0.08689\u001b[0m\u001b[0m | time: 85.409s\n\u001b[2K\r| SGD | epoch: 001 | loss: 0.08689 - acc: 0.9709 -- iter: 26660/55000\n"
     ]
    },
    {
     "name": "stdout",
     "output_type": "stream",
     "text": [
      "Training Step: 1334  | total loss: \u001b[1m\u001b[32m0.08014\u001b[0m\u001b[0m | time: 85.471s\n\u001b[2K\r| SGD | epoch: 001 | loss: 0.08014 - acc: 0.9738 -- iter: 26680/55000\n"
     ]
    },
    {
     "name": "stdout",
     "output_type": "stream",
     "text": [
      "Training Step: 1335  | total loss: \u001b[1m\u001b[32m0.07400\u001b[0m\u001b[0m | time: 85.534s\n\u001b[2K\r| SGD | epoch: 001 | loss: 0.07400 - acc: 0.9764 -- iter: 26700/55000\n"
     ]
    },
    {
     "name": "stdout",
     "output_type": "stream",
     "text": [
      "Training Step: 1336  | total loss: \u001b[1m\u001b[32m0.09028\u001b[0m\u001b[0m | time: 85.596s\n\u001b[2K\r| SGD | epoch: 001 | loss: 0.09028 - acc: 0.9738 -- iter: 26720/55000\n"
     ]
    },
    {
     "name": "stdout",
     "output_type": "stream",
     "text": [
      "Training Step: 1337  | total loss: \u001b[1m\u001b[32m0.08232\u001b[0m\u001b[0m | time: 85.674s\n\u001b[2K\r| SGD | epoch: 001 | loss: 0.08232 - acc: 0.9764 -- iter: 26740/55000\n"
     ]
    },
    {
     "name": "stdout",
     "output_type": "stream",
     "text": [
      "Training Step: 1338  | total loss: \u001b[1m\u001b[32m0.07564\u001b[0m\u001b[0m | time: 85.737s\n\u001b[2K\r| SGD | epoch: 001 | loss: 0.07564 - acc: 0.9787 -- iter: 26760/55000\n"
     ]
    },
    {
     "name": "stdout",
     "output_type": "stream",
     "text": [
      "Training Step: 1339  | total loss: \u001b[1m\u001b[32m0.06920\u001b[0m\u001b[0m | time: 85.799s\n\u001b[2K\r| SGD | epoch: 001 | loss: 0.06920 - acc: 0.9809 -- iter: 26780/55000\n"
     ]
    },
    {
     "name": "stdout",
     "output_type": "stream",
     "text": [
      "Training Step: 1340  | total loss: \u001b[1m\u001b[32m0.06346\u001b[0m\u001b[0m | time: 85.877s\n\u001b[2K\r| SGD | epoch: 001 | loss: 0.06346 - acc: 0.9828 -- iter: 26800/55000\n"
     ]
    },
    {
     "name": "stdout",
     "output_type": "stream",
     "text": [
      "Training Step: 1341  | total loss: \u001b[1m\u001b[32m0.06174\u001b[0m\u001b[0m | time: 85.940s\n\u001b[2K\r| SGD | epoch: 001 | loss: 0.06174 - acc: 0.9845 -- iter: 26820/55000\n"
     ]
    },
    {
     "name": "stdout",
     "output_type": "stream",
     "text": [
      "Training Step: 1342  | total loss: \u001b[1m\u001b[32m0.06983\u001b[0m\u001b[0m | time: 86.002s\n\u001b[2K\r| SGD | epoch: 001 | loss: 0.06983 - acc: 0.9811 -- iter: 26840/55000\n"
     ]
    },
    {
     "name": "stdout",
     "output_type": "stream",
     "text": [
      "Training Step: 1343  | total loss: \u001b[1m\u001b[32m0.06451\u001b[0m\u001b[0m | time: 86.065s\n\u001b[2K\r| SGD | epoch: 001 | loss: 0.06451 - acc: 0.9829 -- iter: 26860/55000\n"
     ]
    },
    {
     "name": "stdout",
     "output_type": "stream",
     "text": [
      "Training Step: 1344  | total loss: \u001b[1m\u001b[32m0.05845\u001b[0m\u001b[0m | time: 86.130s\n\u001b[2K\r| SGD | epoch: 001 | loss: 0.05845 - acc: 0.9847 -- iter: 26880/55000\n"
     ]
    },
    {
     "name": "stdout",
     "output_type": "stream",
     "text": [
      "Training Step: 1345  | total loss: \u001b[1m\u001b[32m0.05429\u001b[0m\u001b[0m | time: 86.187s\n\u001b[2K\r| SGD | epoch: 001 | loss: 0.05429 - acc: 0.9862 -- iter: 26900/55000\n"
     ]
    },
    {
     "name": "stdout",
     "output_type": "stream",
     "text": [
      "Training Step: 1346  | total loss: \u001b[1m\u001b[32m0.05188\u001b[0m\u001b[0m | time: 86.249s\n\u001b[2K\r| SGD | epoch: 001 | loss: 0.05188 - acc: 0.9876 -- iter: 26920/55000\n"
     ]
    },
    {
     "name": "stdout",
     "output_type": "stream",
     "text": [
      "Training Step: 1347  | total loss: \u001b[1m\u001b[32m0.05374\u001b[0m\u001b[0m | time: 86.312s\n\u001b[2K\r| SGD | epoch: 001 | loss: 0.05374 - acc: 0.9838 -- iter: 26940/55000\n"
     ]
    },
    {
     "name": "stdout",
     "output_type": "stream",
     "text": [
      "Training Step: 1348  | total loss: \u001b[1m\u001b[32m0.06057\u001b[0m\u001b[0m | time: 86.390s\n\u001b[2K\r| SGD | epoch: 001 | loss: 0.06057 - acc: 0.9804 -- iter: 26960/55000\n"
     ]
    },
    {
     "name": "stdout",
     "output_type": "stream",
     "text": [
      "Training Step: 1349  | total loss: \u001b[1m\u001b[32m0.06375\u001b[0m\u001b[0m | time: 86.452s\n\u001b[2K\r| SGD | epoch: 001 | loss: 0.06375 - acc: 0.9774 -- iter: 26980/55000\n"
     ]
    },
    {
     "name": "stdout",
     "output_type": "stream",
     "text": [
      "Training Step: 1350  | total loss: \u001b[1m\u001b[32m0.06439\u001b[0m\u001b[0m | time: 86.531s\n\u001b[2K\r| SGD | epoch: 001 | loss: 0.06439 - acc: 0.9746 -- iter: 27000/55000\n"
     ]
    },
    {
     "name": "stdout",
     "output_type": "stream",
     "text": [
      "Training Step: 1351  | total loss: \u001b[1m\u001b[32m0.06135\u001b[0m\u001b[0m | time: 86.593s\n\u001b[2K\r| SGD | epoch: 001 | loss: 0.06135 - acc: 0.9772 -- iter: 27020/55000\n"
     ]
    },
    {
     "name": "stdout",
     "output_type": "stream",
     "text": [
      "Training Step: 1352  | total loss: \u001b[1m\u001b[32m0.06260\u001b[0m\u001b[0m | time: 86.656s\n\u001b[2K\r| SGD | epoch: 001 | loss: 0.06260 - acc: 0.9795 -- iter: 27040/55000\n"
     ]
    },
    {
     "name": "stdout",
     "output_type": "stream",
     "text": [
      "Training Step: 1353  | total loss: \u001b[1m\u001b[32m0.06703\u001b[0m\u001b[0m | time: 86.718s\n\u001b[2K\r| SGD | epoch: 001 | loss: 0.06703 - acc: 0.9765 -- iter: 27060/55000\n"
     ]
    },
    {
     "name": "stdout",
     "output_type": "stream",
     "text": [
      "Training Step: 1354  | total loss: \u001b[1m\u001b[32m0.06115\u001b[0m\u001b[0m | time: 86.781s\n\u001b[2K\r| SGD | epoch: 001 | loss: 0.06115 - acc: 0.9789 -- iter: 27080/55000\n"
     ]
    },
    {
     "name": "stdout",
     "output_type": "stream",
     "text": [
      "Training Step: 1355  | total loss: \u001b[1m\u001b[32m0.05911\u001b[0m\u001b[0m | time: 86.843s\n\u001b[2K\r| SGD | epoch: 001 | loss: 0.05911 - acc: 0.9810 -- iter: 27100/55000\n"
     ]
    },
    {
     "name": "stdout",
     "output_type": "stream",
     "text": [
      "Training Step: 1356  | total loss: \u001b[1m\u001b[32m0.05653\u001b[0m\u001b[0m | time: 86.906s\n\u001b[2K\r| SGD | epoch: 001 | loss: 0.05653 - acc: 0.9829 -- iter: 27120/55000\n"
     ]
    },
    {
     "name": "stdout",
     "output_type": "stream",
     "text": [
      "Training Step: 1357  | total loss: \u001b[1m\u001b[32m0.05838\u001b[0m\u001b[0m | time: 86.968s\n\u001b[2K\r| SGD | epoch: 001 | loss: 0.05838 - acc: 0.9796 -- iter: 27140/55000\n"
     ]
    },
    {
     "name": "stdout",
     "output_type": "stream",
     "text": [
      "Training Step: 1358  | total loss: \u001b[1m\u001b[32m0.05283\u001b[0m\u001b[0m | time: 87.035s\n\u001b[2K\r| SGD | epoch: 001 | loss: 0.05283 - acc: 0.9816 -- iter: 27160/55000\n"
     ]
    },
    {
     "name": "stdout",
     "output_type": "stream",
     "text": [
      "Training Step: 1359  | total loss: \u001b[1m\u001b[32m0.05332\u001b[0m\u001b[0m | time: 87.097s\n\u001b[2K\r| SGD | epoch: 001 | loss: 0.05332 - acc: 0.9835 -- iter: 27180/55000\n"
     ]
    },
    {
     "name": "stdout",
     "output_type": "stream",
     "text": [
      "Training Step: 1360  | total loss: \u001b[1m\u001b[32m0.05542\u001b[0m\u001b[0m | time: 87.159s\n\u001b[2K\r| SGD | epoch: 001 | loss: 0.05542 - acc: 0.9801 -- iter: 27200/55000\n"
     ]
    },
    {
     "name": "stdout",
     "output_type": "stream",
     "text": [
      "Training Step: 1361  | total loss: \u001b[1m\u001b[32m0.05041\u001b[0m\u001b[0m | time: 87.222s\n\u001b[2K\r| SGD | epoch: 001 | loss: 0.05041 - acc: 0.9821 -- iter: 27220/55000\n"
     ]
    },
    {
     "name": "stdout",
     "output_type": "stream",
     "text": [
      "Training Step: 1362  | total loss: \u001b[1m\u001b[32m0.04866\u001b[0m\u001b[0m | time: 87.284s\n\u001b[2K\r| SGD | epoch: 001 | loss: 0.04866 - acc: 0.9839 -- iter: 27240/55000\n"
     ]
    },
    {
     "name": "stdout",
     "output_type": "stream",
     "text": [
      "Training Step: 1363  | total loss: \u001b[1m\u001b[32m0.04417\u001b[0m\u001b[0m | time: 87.347s\n\u001b[2K\r| SGD | epoch: 001 | loss: 0.04417 - acc: 0.9855 -- iter: 27260/55000\n"
     ]
    },
    {
     "name": "stdout",
     "output_type": "stream",
     "text": [
      "Training Step: 1364  | total loss: \u001b[1m\u001b[32m0.04087\u001b[0m\u001b[0m | time: 87.425s\n\u001b[2K\r| SGD | epoch: 001 | loss: 0.04087 - acc: 0.9870 -- iter: 27280/55000\n"
     ]
    },
    {
     "name": "stdout",
     "output_type": "stream",
     "text": [
      "Training Step: 1365  | total loss: \u001b[1m\u001b[32m0.07639\u001b[0m\u001b[0m | time: 87.487s\n\u001b[2K\r| SGD | epoch: 001 | loss: 0.07639 - acc: 0.9783 -- iter: 27300/55000\n"
     ]
    },
    {
     "name": "stdout",
     "output_type": "stream",
     "text": [
      "Training Step: 1366  | total loss: \u001b[1m\u001b[32m0.07054\u001b[0m\u001b[0m | time: 87.550s\n\u001b[2K\r| SGD | epoch: 001 | loss: 0.07054 - acc: 0.9804 -- iter: 27320/55000\n"
     ]
    },
    {
     "name": "stdout",
     "output_type": "stream",
     "text": [
      "Training Step: 1367  | total loss: \u001b[1m\u001b[32m0.06918\u001b[0m\u001b[0m | time: 87.612s\n\u001b[2K\r| SGD | epoch: 001 | loss: 0.06918 - acc: 0.9774 -- iter: 27340/55000\n"
     ]
    },
    {
     "name": "stdout",
     "output_type": "stream",
     "text": [
      "Training Step: 1368  | total loss: \u001b[1m\u001b[32m0.06297\u001b[0m\u001b[0m | time: 87.675s\n\u001b[2K\r| SGD | epoch: 001 | loss: 0.06297 - acc: 0.9797 -- iter: 27360/55000\n"
     ]
    },
    {
     "name": "stdout",
     "output_type": "stream",
     "text": [
      "Training Step: 1369  | total loss: \u001b[1m\u001b[32m0.06665\u001b[0m\u001b[0m | time: 87.737s\n\u001b[2K\r| SGD | epoch: 001 | loss: 0.06665 - acc: 0.9767 -- iter: 27380/55000\n"
     ]
    },
    {
     "name": "stdout",
     "output_type": "stream",
     "text": [
      "Training Step: 1370  | total loss: \u001b[1m\u001b[32m0.06060\u001b[0m\u001b[0m | time: 87.816s\n\u001b[2K\r| SGD | epoch: 001 | loss: 0.06060 - acc: 0.9790 -- iter: 27400/55000\n"
     ]
    },
    {
     "name": "stdout",
     "output_type": "stream",
     "text": [
      "Training Step: 1371  | total loss: \u001b[1m\u001b[32m0.07067\u001b[0m\u001b[0m | time: 87.878s\n\u001b[2K\r| SGD | epoch: 001 | loss: 0.07067 - acc: 0.9761 -- iter: 27420/55000\n"
     ]
    },
    {
     "name": "stdout",
     "output_type": "stream",
     "text": [
      "Training Step: 1372  | total loss: \u001b[1m\u001b[32m0.06717\u001b[0m\u001b[0m | time: 87.941s\n\u001b[2K\r| SGD | epoch: 001 | loss: 0.06717 - acc: 0.9785 -- iter: 27440/55000\n"
     ]
    },
    {
     "name": "stdout",
     "output_type": "stream",
     "text": [
      "Training Step: 1373  | total loss: \u001b[1m\u001b[32m0.08100\u001b[0m\u001b[0m | time: 88.016s\n\u001b[2K\r| SGD | epoch: 001 | loss: 0.08100 - acc: 0.9757 -- iter: 27460/55000\n"
     ]
    },
    {
     "name": "stdout",
     "output_type": "stream",
     "text": [
      "Training Step: 1374  | total loss: \u001b[1m\u001b[32m0.07324\u001b[0m\u001b[0m | time: 88.080s\n\u001b[2K\r| SGD | epoch: 001 | loss: 0.07324 - acc: 0.9781 -- iter: 27480/55000\n"
     ]
    },
    {
     "name": "stdout",
     "output_type": "stream",
     "text": [
      "Training Step: 1375  | total loss: \u001b[1m\u001b[32m0.06604\u001b[0m\u001b[0m | time: 88.143s\n\u001b[2K\r| SGD | epoch: 001 | loss: 0.06604 - acc: 0.9803 -- iter: 27500/55000\n"
     ]
    },
    {
     "name": "stdout",
     "output_type": "stream",
     "text": [
      "Training Step: 1376  | total loss: \u001b[1m\u001b[32m0.06033\u001b[0m\u001b[0m | time: 88.205s\n\u001b[2K\r| SGD | epoch: 001 | loss: 0.06033 - acc: 0.9823 -- iter: 27520/55000\n"
     ]
    },
    {
     "name": "stdout",
     "output_type": "stream",
     "text": [
      "Training Step: 1377  | total loss: \u001b[1m\u001b[32m0.05596\u001b[0m\u001b[0m | time: 88.283s\n\u001b[2K\r| SGD | epoch: 001 | loss: 0.05596 - acc: 0.9840 -- iter: 27540/55000\n"
     ]
    },
    {
     "name": "stdout",
     "output_type": "stream",
     "text": [
      "Training Step: 1378  | total loss: \u001b[1m\u001b[32m0.05145\u001b[0m\u001b[0m | time: 88.346s\n\u001b[2K\r| SGD | epoch: 001 | loss: 0.05145 - acc: 0.9856 -- iter: 27560/55000\n"
     ]
    },
    {
     "name": "stdout",
     "output_type": "stream",
     "text": [
      "Training Step: 1379  | total loss: \u001b[1m\u001b[32m0.06161\u001b[0m\u001b[0m | time: 88.408s\n\u001b[2K\r| SGD | epoch: 001 | loss: 0.06161 - acc: 0.9821 -- iter: 27580/55000\n"
     ]
    },
    {
     "name": "stdout",
     "output_type": "stream",
     "text": [
      "Training Step: 1380  | total loss: \u001b[1m\u001b[32m0.05549\u001b[0m\u001b[0m | time: 88.471s\n\u001b[2K\r| SGD | epoch: 001 | loss: 0.05549 - acc: 0.9839 -- iter: 27600/55000\n"
     ]
    },
    {
     "name": "stdout",
     "output_type": "stream",
     "text": [
      "Training Step: 1381  | total loss: \u001b[1m\u001b[32m0.05110\u001b[0m\u001b[0m | time: 88.549s\n\u001b[2K\r| SGD | epoch: 001 | loss: 0.05110 - acc: 0.9855 -- iter: 27620/55000\n"
     ]
    },
    {
     "name": "stdout",
     "output_type": "stream",
     "text": [
      "Training Step: 1382  | total loss: \u001b[1m\u001b[32m0.05650\u001b[0m\u001b[0m | time: 88.627s\n\u001b[2K\r| SGD | epoch: 001 | loss: 0.05650 - acc: 0.9819 -- iter: 27640/55000\n"
     ]
    },
    {
     "name": "stdout",
     "output_type": "stream",
     "text": [
      "Training Step: 1383  | total loss: \u001b[1m\u001b[32m0.07301\u001b[0m\u001b[0m | time: 88.690s\n\u001b[2K\r| SGD | epoch: 001 | loss: 0.07301 - acc: 0.9787 -- iter: 27660/55000\n"
     ]
    },
    {
     "name": "stdout",
     "output_type": "stream",
     "text": [
      "Training Step: 1384  | total loss: \u001b[1m\u001b[32m0.06882\u001b[0m\u001b[0m | time: 88.768s\n\u001b[2K\r| SGD | epoch: 001 | loss: 0.06882 - acc: 0.9809 -- iter: 27680/55000\n"
     ]
    },
    {
     "name": "stdout",
     "output_type": "stream",
     "text": [
      "Training Step: 1385  | total loss: \u001b[1m\u001b[32m0.07321\u001b[0m\u001b[0m | time: 88.830s\n\u001b[2K\r| SGD | epoch: 001 | loss: 0.07321 - acc: 0.9778 -- iter: 27700/55000\n"
     ]
    },
    {
     "name": "stdout",
     "output_type": "stream",
     "text": [
      "Training Step: 1386  | total loss: \u001b[1m\u001b[32m0.06615\u001b[0m\u001b[0m | time: 88.908s\n\u001b[2K\r| SGD | epoch: 001 | loss: 0.06615 - acc: 0.9800 -- iter: 27720/55000\n"
     ]
    },
    {
     "name": "stdout",
     "output_type": "stream",
     "text": [
      "Training Step: 1387  | total loss: \u001b[1m\u001b[32m0.06470\u001b[0m\u001b[0m | time: 88.980s\n\u001b[2K\r| SGD | epoch: 001 | loss: 0.06470 - acc: 0.9820 -- iter: 27740/55000\n"
     ]
    },
    {
     "name": "stdout",
     "output_type": "stream",
     "text": [
      "Training Step: 1388  | total loss: \u001b[1m\u001b[32m0.05945\u001b[0m\u001b[0m | time: 89.054s\n\u001b[2K\r| SGD | epoch: 001 | loss: 0.05945 - acc: 0.9838 -- iter: 27760/55000\n"
     ]
    },
    {
     "name": "stdout",
     "output_type": "stream",
     "text": [
      "Training Step: 1389  | total loss: \u001b[1m\u001b[32m0.05472\u001b[0m\u001b[0m | time: 89.116s\n\u001b[2K\r| SGD | epoch: 001 | loss: 0.05472 - acc: 0.9854 -- iter: 27780/55000\n"
     ]
    },
    {
     "name": "stdout",
     "output_type": "stream",
     "text": [
      "Training Step: 1390  | total loss: \u001b[1m\u001b[32m0.05476\u001b[0m\u001b[0m | time: 89.194s\n\u001b[2K\r| SGD | epoch: 001 | loss: 0.05476 - acc: 0.9869 -- iter: 27800/55000\n"
     ]
    },
    {
     "name": "stdout",
     "output_type": "stream",
     "text": [
      "Training Step: 1391  | total loss: \u001b[1m\u001b[32m0.06015\u001b[0m\u001b[0m | time: 89.257s\n\u001b[2K\r| SGD | epoch: 001 | loss: 0.06015 - acc: 0.9832 -- iter: 27820/55000\n"
     ]
    },
    {
     "name": "stdout",
     "output_type": "stream",
     "text": [
      "Training Step: 1392  | total loss: \u001b[1m\u001b[32m0.07838\u001b[0m\u001b[0m | time: 89.335s\n\u001b[2K\r| SGD | epoch: 001 | loss: 0.07838 - acc: 0.9799 -- iter: 27840/55000\n"
     ]
    },
    {
     "name": "stdout",
     "output_type": "stream",
     "text": [
      "Training Step: 1393  | total loss: \u001b[1m\u001b[32m0.07804\u001b[0m\u001b[0m | time: 89.397s\n\u001b[2K\r| SGD | epoch: 001 | loss: 0.07804 - acc: 0.9769 -- iter: 27860/55000\n"
     ]
    },
    {
     "name": "stdout",
     "output_type": "stream",
     "text": [
      "Training Step: 1394  | total loss: \u001b[1m\u001b[32m0.08236\u001b[0m\u001b[0m | time: 89.460s\n\u001b[2K\r| SGD | epoch: 001 | loss: 0.08236 - acc: 0.9692 -- iter: 27880/55000\n"
     ]
    },
    {
     "name": "stdout",
     "output_type": "stream",
     "text": [
      "Training Step: 1395  | total loss: \u001b[1m\u001b[32m0.08944\u001b[0m\u001b[0m | time: 89.522s\n\u001b[2K\r| SGD | epoch: 001 | loss: 0.08944 - acc: 0.9673 -- iter: 27900/55000\n"
     ]
    },
    {
     "name": "stdout",
     "output_type": "stream",
     "text": [
      "Training Step: 1396  | total loss: \u001b[1m\u001b[32m0.09224\u001b[0m\u001b[0m | time: 89.585s\n\u001b[2K\r| SGD | epoch: 001 | loss: 0.09224 - acc: 0.9655 -- iter: 27920/55000\n"
     ]
    },
    {
     "name": "stdout",
     "output_type": "stream",
     "text": [
      "Training Step: 1397  | total loss: \u001b[1m\u001b[32m0.08316\u001b[0m\u001b[0m | time: 89.647s\n\u001b[2K\r| SGD | epoch: 001 | loss: 0.08316 - acc: 0.9690 -- iter: 27940/55000\n"
     ]
    },
    {
     "name": "stdout",
     "output_type": "stream",
     "text": [
      "Training Step: 1398  | total loss: \u001b[1m\u001b[32m0.08581\u001b[0m\u001b[0m | time: 89.725s\n\u001b[2K\r| SGD | epoch: 001 | loss: 0.08581 - acc: 0.9671 -- iter: 27960/55000\n"
     ]
    },
    {
     "name": "stdout",
     "output_type": "stream",
     "text": [
      "Training Step: 1399  | total loss: \u001b[1m\u001b[32m0.07801\u001b[0m\u001b[0m | time: 89.788s\n\u001b[2K\r| SGD | epoch: 001 | loss: 0.07801 - acc: 0.9704 -- iter: 27980/55000\n"
     ]
    },
    {
     "name": "stdout",
     "output_type": "stream",
     "text": [
      "Training Step: 1400  | total loss: \u001b[1m\u001b[32m0.07057\u001b[0m\u001b[0m | time: 89.850s\n\u001b[2K\r| SGD | epoch: 001 | loss: 0.07057 - acc: 0.9733 -- iter: 28000/55000\n"
     ]
    },
    {
     "name": "stdout",
     "output_type": "stream",
     "text": [
      "Training Step: 1401  | total loss: \u001b[1m\u001b[32m0.08661\u001b[0m\u001b[0m | time: 89.913s\n\u001b[2K\r| SGD | epoch: 001 | loss: 0.08661 - acc: 0.9710 -- iter: 28020/55000\n"
     ]
    },
    {
     "name": "stdout",
     "output_type": "stream",
     "text": [
      "Training Step: 1402  | total loss: \u001b[1m\u001b[32m0.09219\u001b[0m\u001b[0m | time: 89.976s\n\u001b[2K\r| SGD | epoch: 001 | loss: 0.09219 - acc: 0.9689 -- iter: 28040/55000\n"
     ]
    },
    {
     "name": "stdout",
     "output_type": "stream",
     "text": [
      "Training Step: 1403  | total loss: \u001b[1m\u001b[32m0.08622\u001b[0m\u001b[0m | time: 90.039s\n\u001b[2K\r| SGD | epoch: 001 | loss: 0.08622 - acc: 0.9720 -- iter: 28060/55000\n"
     ]
    },
    {
     "name": "stdout",
     "output_type": "stream",
     "text": [
      "Training Step: 1404  | total loss: \u001b[1m\u001b[32m0.08017\u001b[0m\u001b[0m | time: 90.101s\n\u001b[2K\r| SGD | epoch: 001 | loss: 0.08017 - acc: 0.9748 -- iter: 28080/55000\n"
     ]
    },
    {
     "name": "stdout",
     "output_type": "stream",
     "text": [
      "Training Step: 1405  | total loss: \u001b[1m\u001b[32m0.07568\u001b[0m\u001b[0m | time: 90.164s\n\u001b[2K\r| SGD | epoch: 001 | loss: 0.07568 - acc: 0.9773 -- iter: 28100/55000\n"
     ]
    },
    {
     "name": "stdout",
     "output_type": "stream",
     "text": [
      "Training Step: 1406  | total loss: \u001b[1m\u001b[32m0.06839\u001b[0m\u001b[0m | time: 90.226s\n\u001b[2K\r| SGD | epoch: 001 | loss: 0.06839 - acc: 0.9796 -- iter: 28120/55000\n"
     ]
    },
    {
     "name": "stdout",
     "output_type": "stream",
     "text": [
      "Training Step: 1407  | total loss: \u001b[1m\u001b[32m0.06249\u001b[0m\u001b[0m | time: 90.289s\n\u001b[2K\r| SGD | epoch: 001 | loss: 0.06249 - acc: 0.9816 -- iter: 28140/55000\n"
     ]
    },
    {
     "name": "stdout",
     "output_type": "stream",
     "text": [
      "Training Step: 1408  | total loss: \u001b[1m\u001b[32m0.06032\u001b[0m\u001b[0m | time: 90.367s\n\u001b[2K\r| SGD | epoch: 001 | loss: 0.06032 - acc: 0.9835 -- iter: 28160/55000\n"
     ]
    },
    {
     "name": "stdout",
     "output_type": "stream",
     "text": [
      "Training Step: 1409  | total loss: \u001b[1m\u001b[32m0.05515\u001b[0m\u001b[0m | time: 90.430s\n\u001b[2K\r| SGD | epoch: 001 | loss: 0.05515 - acc: 0.9851 -- iter: 28180/55000\n"
     ]
    },
    {
     "name": "stdout",
     "output_type": "stream",
     "text": [
      "Training Step: 1410  | total loss: \u001b[1m\u001b[32m0.05451\u001b[0m\u001b[0m | time: 90.492s\n\u001b[2K\r| SGD | epoch: 001 | loss: 0.05451 - acc: 0.9866 -- iter: 28200/55000\n"
     ]
    },
    {
     "name": "stdout",
     "output_type": "stream",
     "text": [
      "Training Step: 1411  | total loss: \u001b[1m\u001b[32m0.05764\u001b[0m\u001b[0m | time: 90.555s\n\u001b[2K\r| SGD | epoch: 001 | loss: 0.05764 - acc: 0.9830 -- iter: 28220/55000\n"
     ]
    },
    {
     "name": "stdout",
     "output_type": "stream",
     "text": [
      "Training Step: 1412  | total loss: \u001b[1m\u001b[32m0.05220\u001b[0m\u001b[0m | time: 90.617s\n\u001b[2K\r| SGD | epoch: 001 | loss: 0.05220 - acc: 0.9847 -- iter: 28240/55000\n"
     ]
    },
    {
     "name": "stdout",
     "output_type": "stream",
     "text": [
      "Training Step: 1413  | total loss: \u001b[1m\u001b[32m0.04976\u001b[0m\u001b[0m | time: 90.680s\n\u001b[2K\r| SGD | epoch: 001 | loss: 0.04976 - acc: 0.9862 -- iter: 28260/55000\n"
     ]
    },
    {
     "name": "stdout",
     "output_type": "stream",
     "text": [
      "Training Step: 1414  | total loss: \u001b[1m\u001b[32m0.06208\u001b[0m\u001b[0m | time: 90.758s\n\u001b[2K\r| SGD | epoch: 001 | loss: 0.06208 - acc: 0.9826 -- iter: 28280/55000\n"
     ]
    },
    {
     "name": "stdout",
     "output_type": "stream",
     "text": [
      "Training Step: 1415  | total loss: \u001b[1m\u001b[32m0.07357\u001b[0m\u001b[0m | time: 90.820s\n\u001b[2K\r| SGD | epoch: 001 | loss: 0.07357 - acc: 0.9743 -- iter: 28300/55000\n"
     ]
    },
    {
     "name": "stdout",
     "output_type": "stream",
     "text": [
      "Training Step: 1416  | total loss: \u001b[1m\u001b[32m0.08936\u001b[0m\u001b[0m | time: 90.889s\n\u001b[2K\r| SGD | epoch: 001 | loss: 0.08936 - acc: 0.9669 -- iter: 28320/55000\n"
     ]
    },
    {
     "name": "stdout",
     "output_type": "stream",
     "text": [
      "Training Step: 1417  | total loss: \u001b[1m\u001b[32m0.10953\u001b[0m\u001b[0m | time: 90.959s\n\u001b[2K\r| SGD | epoch: 001 | loss: 0.10953 - acc: 0.9602 -- iter: 28340/55000\n"
     ]
    },
    {
     "name": "stdout",
     "output_type": "stream",
     "text": [
      "Training Step: 1418  | total loss: \u001b[1m\u001b[32m0.11156\u001b[0m\u001b[0m | time: 91.021s\n\u001b[2K\r| SGD | epoch: 001 | loss: 0.11156 - acc: 0.9592 -- iter: 28360/55000\n"
     ]
    },
    {
     "name": "stdout",
     "output_type": "stream",
     "text": [
      "Training Step: 1419  | total loss: \u001b[1m\u001b[32m0.10837\u001b[0m\u001b[0m | time: 91.100s\n\u001b[2K\r| SGD | epoch: 001 | loss: 0.10837 - acc: 0.9633 -- iter: 28380/55000\n"
     ]
    },
    {
     "name": "stdout",
     "output_type": "stream",
     "text": [
      "Training Step: 1420  | total loss: \u001b[1m\u001b[32m0.11367\u001b[0m\u001b[0m | time: 91.162s\n\u001b[2K\r| SGD | epoch: 001 | loss: 0.11367 - acc: 0.9619 -- iter: 28400/55000\n"
     ]
    },
    {
     "name": "stdout",
     "output_type": "stream",
     "text": [
      "Training Step: 1421  | total loss: \u001b[1m\u001b[32m0.15277\u001b[0m\u001b[0m | time: 91.240s\n\u001b[2K\r| SGD | epoch: 001 | loss: 0.15277 - acc: 0.9507 -- iter: 28420/55000\n"
     ]
    },
    {
     "name": "stdout",
     "output_type": "stream",
     "text": [
      "Training Step: 1422  | total loss: \u001b[1m\u001b[32m0.13911\u001b[0m\u001b[0m | time: 91.303s\n\u001b[2K\r| SGD | epoch: 001 | loss: 0.13911 - acc: 0.9557 -- iter: 28440/55000\n"
     ]
    },
    {
     "name": "stdout",
     "output_type": "stream",
     "text": [
      "Training Step: 1423  | total loss: \u001b[1m\u001b[32m0.13419\u001b[0m\u001b[0m | time: 91.365s\n\u001b[2K\r| SGD | epoch: 001 | loss: 0.13419 - acc: 0.9601 -- iter: 28460/55000\n"
     ]
    },
    {
     "name": "stdout",
     "output_type": "stream",
     "text": [
      "Training Step: 1424  | total loss: \u001b[1m\u001b[32m0.13953\u001b[0m\u001b[0m | time: 91.428s\n\u001b[2K\r| SGD | epoch: 001 | loss: 0.13953 - acc: 0.9591 -- iter: 28480/55000\n"
     ]
    },
    {
     "name": "stdout",
     "output_type": "stream",
     "text": [
      "Training Step: 1425  | total loss: \u001b[1m\u001b[32m0.12755\u001b[0m\u001b[0m | time: 91.506s\n\u001b[2K\r| SGD | epoch: 001 | loss: 0.12755 - acc: 0.9632 -- iter: 28500/55000\n"
     ]
    },
    {
     "name": "stdout",
     "output_type": "stream",
     "text": [
      "Training Step: 1426  | total loss: \u001b[1m\u001b[32m0.11527\u001b[0m\u001b[0m | time: 91.568s\n\u001b[2K\r| SGD | epoch: 001 | loss: 0.11527 - acc: 0.9669 -- iter: 28520/55000\n"
     ]
    },
    {
     "name": "stdout",
     "output_type": "stream",
     "text": [
      "Training Step: 1427  | total loss: \u001b[1m\u001b[32m0.10945\u001b[0m\u001b[0m | time: 91.631s\n\u001b[2K\r| SGD | epoch: 001 | loss: 0.10945 - acc: 0.9702 -- iter: 28540/55000\n"
     ]
    },
    {
     "name": "stdout",
     "output_type": "stream",
     "text": [
      "Training Step: 1428  | total loss: \u001b[1m\u001b[32m0.10291\u001b[0m\u001b[0m | time: 91.693s\n\u001b[2K\r| SGD | epoch: 001 | loss: 0.10291 - acc: 0.9732 -- iter: 28560/55000\n"
     ]
    },
    {
     "name": "stdout",
     "output_type": "stream",
     "text": [
      "Training Step: 1429  | total loss: \u001b[1m\u001b[32m0.09318\u001b[0m\u001b[0m | time: 91.756s\n\u001b[2K\r| SGD | epoch: 001 | loss: 0.09318 - acc: 0.9758 -- iter: 28580/55000\n"
     ]
    },
    {
     "name": "stdout",
     "output_type": "stream",
     "text": [
      "Training Step: 1430  | total loss: \u001b[1m\u001b[32m0.08507\u001b[0m\u001b[0m | time: 91.818s\n\u001b[2K\r| SGD | epoch: 001 | loss: 0.08507 - acc: 0.9783 -- iter: 28600/55000\n"
     ]
    },
    {
     "name": "stdout",
     "output_type": "stream",
     "text": [
      "Training Step: 1431  | total loss: \u001b[1m\u001b[32m0.07900\u001b[0m\u001b[0m | time: 91.888s\n\u001b[2K\r| SGD | epoch: 001 | loss: 0.07900 - acc: 0.9804 -- iter: 28620/55000\n"
     ]
    },
    {
     "name": "stdout",
     "output_type": "stream",
     "text": [
      "Training Step: 1432  | total loss: \u001b[1m\u001b[32m0.07121\u001b[0m\u001b[0m | time: 91.966s\n\u001b[2K\r| SGD | epoch: 001 | loss: 0.07121 - acc: 0.9824 -- iter: 28640/55000\n"
     ]
    },
    {
     "name": "stdout",
     "output_type": "stream",
     "text": [
      "Training Step: 1433  | total loss: \u001b[1m\u001b[32m0.07095\u001b[0m\u001b[0m | time: 92.029s\n\u001b[2K\r| SGD | epoch: 001 | loss: 0.07095 - acc: 0.9842 -- iter: 28660/55000\n"
     ]
    },
    {
     "name": "stdout",
     "output_type": "stream",
     "text": [
      "Training Step: 1434  | total loss: \u001b[1m\u001b[32m0.06431\u001b[0m\u001b[0m | time: 92.091s\n\u001b[2K\r| SGD | epoch: 001 | loss: 0.06431 - acc: 0.9857 -- iter: 28680/55000\n"
     ]
    },
    {
     "name": "stdout",
     "output_type": "stream",
     "text": [
      "Training Step: 1435  | total loss: \u001b[1m\u001b[32m0.06011\u001b[0m\u001b[0m | time: 92.154s\n\u001b[2K\r| SGD | epoch: 001 | loss: 0.06011 - acc: 0.9872 -- iter: 28700/55000\n"
     ]
    },
    {
     "name": "stdout",
     "output_type": "stream",
     "text": [
      "Training Step: 1436  | total loss: \u001b[1m\u001b[32m0.05491\u001b[0m\u001b[0m | time: 92.216s\n\u001b[2K\r| SGD | epoch: 001 | loss: 0.05491 - acc: 0.9884 -- iter: 28720/55000\n"
     ]
    },
    {
     "name": "stdout",
     "output_type": "stream",
     "text": [
      "Training Step: 1437  | total loss: \u001b[1m\u001b[32m0.05408\u001b[0m\u001b[0m | time: 92.279s\n\u001b[2K\r| SGD | epoch: 001 | loss: 0.05408 - acc: 0.9896 -- iter: 28740/55000\n"
     ]
    },
    {
     "name": "stdout",
     "output_type": "stream",
     "text": [
      "Training Step: 1438  | total loss: \u001b[1m\u001b[32m0.05565\u001b[0m\u001b[0m | time: 92.357s\n\u001b[2K\r| SGD | epoch: 001 | loss: 0.05565 - acc: 0.9906 -- iter: 28760/55000\n"
     ]
    },
    {
     "name": "stdout",
     "output_type": "stream",
     "text": [
      "Training Step: 1439  | total loss: \u001b[1m\u001b[32m0.05540\u001b[0m\u001b[0m | time: 92.419s\n\u001b[2K\r| SGD | epoch: 001 | loss: 0.05540 - acc: 0.9866 -- iter: 28780/55000\n"
     ]
    },
    {
     "name": "stdout",
     "output_type": "stream",
     "text": [
      "Training Step: 1440  | total loss: \u001b[1m\u001b[32m0.05021\u001b[0m\u001b[0m | time: 92.482s\n\u001b[2K\r| SGD | epoch: 001 | loss: 0.05021 - acc: 0.9879 -- iter: 28800/55000\n"
     ]
    },
    {
     "name": "stdout",
     "output_type": "stream",
     "text": [
      "Training Step: 1441  | total loss: \u001b[1m\u001b[32m0.05124\u001b[0m\u001b[0m | time: 92.544s\n\u001b[2K\r| SGD | epoch: 001 | loss: 0.05124 - acc: 0.9891 -- iter: 28820/55000\n"
     ]
    },
    {
     "name": "stdout",
     "output_type": "stream",
     "text": [
      "Training Step: 1442  | total loss: \u001b[1m\u001b[32m0.06426\u001b[0m\u001b[0m | time: 92.622s\n\u001b[2K\r| SGD | epoch: 001 | loss: 0.06426 - acc: 0.9852 -- iter: 28840/55000\n"
     ]
    },
    {
     "name": "stdout",
     "output_type": "stream",
     "text": [
      "Training Step: 1443  | total loss: \u001b[1m\u001b[32m0.06640\u001b[0m\u001b[0m | time: 92.685s\n\u001b[2K\r| SGD | epoch: 001 | loss: 0.06640 - acc: 0.9817 -- iter: 28860/55000\n"
     ]
    },
    {
     "name": "stdout",
     "output_type": "stream",
     "text": [
      "Training Step: 1444  | total loss: \u001b[1m\u001b[32m0.06984\u001b[0m\u001b[0m | time: 92.763s\n\u001b[2K\r| SGD | epoch: 001 | loss: 0.06984 - acc: 0.9785 -- iter: 28880/55000\n"
     ]
    },
    {
     "name": "stdout",
     "output_type": "stream",
     "text": [
      "Training Step: 1445  | total loss: \u001b[1m\u001b[32m0.06452\u001b[0m\u001b[0m | time: 92.837s\n\u001b[2K\r| SGD | epoch: 001 | loss: 0.06452 - acc: 0.9807 -- iter: 28900/55000\n"
     ]
    },
    {
     "name": "stdout",
     "output_type": "stream",
     "text": [
      "Training Step: 1446  | total loss: \u001b[1m\u001b[32m0.05910\u001b[0m\u001b[0m | time: 92.906s\n\u001b[2K\r| SGD | epoch: 001 | loss: 0.05910 - acc: 0.9826 -- iter: 28920/55000\n"
     ]
    },
    {
     "name": "stdout",
     "output_type": "stream",
     "text": [
      "Training Step: 1447  | total loss: \u001b[1m\u001b[32m0.05352\u001b[0m\u001b[0m | time: 92.963s\n\u001b[2K\r| SGD | epoch: 001 | loss: 0.05352 - acc: 0.9843 -- iter: 28940/55000\n"
     ]
    },
    {
     "name": "stdout",
     "output_type": "stream",
     "text": [
      "Training Step: 1448  | total loss: \u001b[1m\u001b[32m0.04913\u001b[0m\u001b[0m | time: 93.025s\n\u001b[2K\r| SGD | epoch: 001 | loss: 0.04913 - acc: 0.9859 -- iter: 28960/55000\n"
     ]
    },
    {
     "name": "stdout",
     "output_type": "stream",
     "text": [
      "Training Step: 1449  | total loss: \u001b[1m\u001b[32m0.04985\u001b[0m\u001b[0m | time: 93.103s\n\u001b[2K\r| SGD | epoch: 001 | loss: 0.04985 - acc: 0.9823 -- iter: 28980/55000\n"
     ]
    },
    {
     "name": "stdout",
     "output_type": "stream",
     "text": [
      "Training Step: 1450  | total loss: \u001b[1m\u001b[32m0.04638\u001b[0m\u001b[0m | time: 93.166s\n\u001b[2K\r| SGD | epoch: 001 | loss: 0.04638 - acc: 0.9841 -- iter: 29000/55000\n"
     ]
    },
    {
     "name": "stdout",
     "output_type": "stream",
     "text": [
      "Training Step: 1451  | total loss: \u001b[1m\u001b[32m0.04237\u001b[0m\u001b[0m | time: 93.244s\n\u001b[2K\r| SGD | epoch: 001 | loss: 0.04237 - acc: 0.9857 -- iter: 29020/55000\n"
     ]
    },
    {
     "name": "stdout",
     "output_type": "stream",
     "text": [
      "Training Step: 1452  | total loss: \u001b[1m\u001b[32m0.06056\u001b[0m\u001b[0m | time: 93.321s\n\u001b[2K\r| SGD | epoch: 001 | loss: 0.06056 - acc: 0.9771 -- iter: 29040/55000\n"
     ]
    },
    {
     "name": "stdout",
     "output_type": "stream",
     "text": [
      "Training Step: 1453  | total loss: \u001b[1m\u001b[32m0.06503\u001b[0m\u001b[0m | time: 93.384s\n\u001b[2K\r| SGD | epoch: 001 | loss: 0.06503 - acc: 0.9744 -- iter: 29060/55000\n"
     ]
    },
    {
     "name": "stdout",
     "output_type": "stream",
     "text": [
      "Training Step: 1454  | total loss: \u001b[1m\u001b[32m0.07396\u001b[0m\u001b[0m | time: 93.462s\n\u001b[2K\r| SGD | epoch: 001 | loss: 0.07396 - acc: 0.9720 -- iter: 29080/55000\n"
     ]
    },
    {
     "name": "stdout",
     "output_type": "stream",
     "text": [
      "Training Step: 1455  | total loss: \u001b[1m\u001b[32m0.06907\u001b[0m\u001b[0m | time: 93.524s\n\u001b[2K\r| SGD | epoch: 001 | loss: 0.06907 - acc: 0.9748 -- iter: 29100/55000\n"
     ]
    },
    {
     "name": "stdout",
     "output_type": "stream",
     "text": [
      "Training Step: 1456  | total loss: \u001b[1m\u001b[32m0.06374\u001b[0m\u001b[0m | time: 93.587s\n\u001b[2K\r| SGD | epoch: 001 | loss: 0.06374 - acc: 0.9773 -- iter: 29120/55000\n"
     ]
    },
    {
     "name": "stdout",
     "output_type": "stream",
     "text": [
      "Training Step: 1457  | total loss: \u001b[1m\u001b[32m0.06970\u001b[0m\u001b[0m | time: 93.649s\n\u001b[2K\r| SGD | epoch: 001 | loss: 0.06970 - acc: 0.9746 -- iter: 29140/55000\n"
     ]
    },
    {
     "name": "stdout",
     "output_type": "stream",
     "text": [
      "Training Step: 1458  | total loss: \u001b[1m\u001b[32m0.06310\u001b[0m\u001b[0m | time: 93.728s\n\u001b[2K\r| SGD | epoch: 001 | loss: 0.06310 - acc: 0.9771 -- iter: 29160/55000\n"
     ]
    },
    {
     "name": "stdout",
     "output_type": "stream",
     "text": [
      "Training Step: 1459  | total loss: \u001b[1m\u001b[32m0.06672\u001b[0m\u001b[0m | time: 93.801s\n\u001b[2K\r| SGD | epoch: 001 | loss: 0.06672 - acc: 0.9794 -- iter: 29180/55000\n"
     ]
    },
    {
     "name": "stdout",
     "output_type": "stream",
     "text": [
      "Training Step: 1460  | total loss: \u001b[1m\u001b[32m0.06095\u001b[0m\u001b[0m | time: 93.870s\n\u001b[2K\r| SGD | epoch: 001 | loss: 0.06095 - acc: 0.9815 -- iter: 29200/55000\n"
     ]
    },
    {
     "name": "stdout",
     "output_type": "stream",
     "text": [
      "Training Step: 1461  | total loss: \u001b[1m\u001b[32m0.05977\u001b[0m\u001b[0m | time: 93.932s\n\u001b[2K\r| SGD | epoch: 001 | loss: 0.05977 - acc: 0.9833 -- iter: 29220/55000\n"
     ]
    },
    {
     "name": "stdout",
     "output_type": "stream",
     "text": [
      "Training Step: 1462  | total loss: \u001b[1m\u001b[32m0.05765\u001b[0m\u001b[0m | time: 94.010s\n\u001b[2K\r| SGD | epoch: 001 | loss: 0.05765 - acc: 0.9850 -- iter: 29240/55000\n"
     ]
    },
    {
     "name": "stdout",
     "output_type": "stream",
     "text": [
      "Training Step: 1463  | total loss: \u001b[1m\u001b[32m0.07354\u001b[0m\u001b[0m | time: 94.089s\n\u001b[2K\r| SGD | epoch: 001 | loss: 0.07354 - acc: 0.9815 -- iter: 29260/55000\n"
     ]
    },
    {
     "name": "stdout",
     "output_type": "stream",
     "text": [
      "Training Step: 1464  | total loss: \u001b[1m\u001b[32m0.06693\u001b[0m\u001b[0m | time: 94.151s\n\u001b[2K\r| SGD | epoch: 001 | loss: 0.06693 - acc: 0.9833 -- iter: 29280/55000\n"
     ]
    },
    {
     "name": "stdout",
     "output_type": "stream",
     "text": [
      "Training Step: 1465  | total loss: \u001b[1m\u001b[32m0.06531\u001b[0m\u001b[0m | time: 94.214s\n\u001b[2K\r| SGD | epoch: 001 | loss: 0.06531 - acc: 0.9800 -- iter: 29300/55000\n"
     ]
    },
    {
     "name": "stdout",
     "output_type": "stream",
     "text": [
      "Training Step: 1466  | total loss: \u001b[1m\u001b[32m0.05959\u001b[0m\u001b[0m | time: 94.276s\n\u001b[2K\r| SGD | epoch: 001 | loss: 0.05959 - acc: 0.9820 -- iter: 29320/55000\n"
     ]
    },
    {
     "name": "stdout",
     "output_type": "stream",
     "text": [
      "Training Step: 1467  | total loss: \u001b[1m\u001b[32m0.06412\u001b[0m\u001b[0m | time: 94.354s\n\u001b[2K\r| SGD | epoch: 001 | loss: 0.06412 - acc: 0.9788 -- iter: 29340/55000\n"
     ]
    },
    {
     "name": "stdout",
     "output_type": "stream",
     "text": [
      "Training Step: 1468  | total loss: \u001b[1m\u001b[32m0.07111\u001b[0m\u001b[0m | time: 94.417s\n\u001b[2K\r| SGD | epoch: 001 | loss: 0.07111 - acc: 0.9759 -- iter: 29360/55000\n"
     ]
    },
    {
     "name": "stdout",
     "output_type": "stream",
     "text": [
      "Training Step: 1469  | total loss: \u001b[1m\u001b[32m0.07625\u001b[0m\u001b[0m | time: 94.495s\n\u001b[2K\r| SGD | epoch: 001 | loss: 0.07625 - acc: 0.9683 -- iter: 29380/55000\n"
     ]
    },
    {
     "name": "stdout",
     "output_type": "stream",
     "text": [
      "Training Step: 1470  | total loss: \u001b[1m\u001b[32m0.07519\u001b[0m\u001b[0m | time: 94.573s\n\u001b[2K\r| SGD | epoch: 001 | loss: 0.07519 - acc: 0.9665 -- iter: 29400/55000\n"
     ]
    },
    {
     "name": "stdout",
     "output_type": "stream",
     "text": [
      "Training Step: 1471  | total loss: \u001b[1m\u001b[32m0.10097\u001b[0m\u001b[0m | time: 94.651s\n\u001b[2K\r| SGD | epoch: 001 | loss: 0.10097 - acc: 0.9648 -- iter: 29420/55000\n"
     ]
    },
    {
     "name": "stdout",
     "output_type": "stream",
     "text": [
      "Training Step: 1472  | total loss: \u001b[1m\u001b[32m0.09308\u001b[0m\u001b[0m | time: 94.729s\n\u001b[2K\r| SGD | epoch: 001 | loss: 0.09308 - acc: 0.9684 -- iter: 29440/55000\n"
     ]
    },
    {
     "name": "stdout",
     "output_type": "stream",
     "text": [
      "Training Step: 1473  | total loss: \u001b[1m\u001b[32m0.08402\u001b[0m\u001b[0m | time: 94.807s\n\u001b[2K\r| SGD | epoch: 001 | loss: 0.08402 - acc: 0.9715 -- iter: 29460/55000\n"
     ]
    },
    {
     "name": "stdout",
     "output_type": "stream",
     "text": [
      "Training Step: 1474  | total loss: \u001b[1m\u001b[32m0.07963\u001b[0m\u001b[0m | time: 94.870s\n\u001b[2K\r| SGD | epoch: 001 | loss: 0.07963 - acc: 0.9744 -- iter: 29480/55000\n"
     ]
    },
    {
     "name": "stdout",
     "output_type": "stream",
     "text": [
      "Training Step: 1475  | total loss: \u001b[1m\u001b[32m0.07616\u001b[0m\u001b[0m | time: 94.948s\n\u001b[2K\r| SGD | epoch: 001 | loss: 0.07616 - acc: 0.9769 -- iter: 29500/55000\n"
     ]
    },
    {
     "name": "stdout",
     "output_type": "stream",
     "text": [
      "Training Step: 1476  | total loss: \u001b[1m\u001b[32m0.07785\u001b[0m\u001b[0m | time: 95.026s\n\u001b[2K\r| SGD | epoch: 001 | loss: 0.07785 - acc: 0.9742 -- iter: 29520/55000\n"
     ]
    },
    {
     "name": "stdout",
     "output_type": "stream",
     "text": [
      "Training Step: 1477  | total loss: \u001b[1m\u001b[32m0.07634\u001b[0m\u001b[0m | time: 95.104s\n\u001b[2K\r| SGD | epoch: 001 | loss: 0.07634 - acc: 0.9718 -- iter: 29540/55000\n"
     ]
    },
    {
     "name": "stdout",
     "output_type": "stream",
     "text": [
      "Training Step: 1478  | total loss: \u001b[1m\u001b[32m0.07039\u001b[0m\u001b[0m | time: 95.167s\n\u001b[2K\r| SGD | epoch: 001 | loss: 0.07039 - acc: 0.9746 -- iter: 29560/55000\n"
     ]
    },
    {
     "name": "stdout",
     "output_type": "stream",
     "text": [
      "Training Step: 1479  | total loss: \u001b[1m\u001b[32m0.06385\u001b[0m\u001b[0m | time: 95.245s\n\u001b[2K\r| SGD | epoch: 001 | loss: 0.06385 - acc: 0.9772 -- iter: 29580/55000\n"
     ]
    },
    {
     "name": "stdout",
     "output_type": "stream",
     "text": [
      "Training Step: 1480  | total loss: \u001b[1m\u001b[32m0.06999\u001b[0m\u001b[0m | time: 95.323s\n\u001b[2K\r| SGD | epoch: 001 | loss: 0.06999 - acc: 0.9745 -- iter: 29600/55000\n"
     ]
    },
    {
     "name": "stdout",
     "output_type": "stream",
     "text": [
      "Training Step: 1481  | total loss: \u001b[1m\u001b[32m0.06747\u001b[0m\u001b[0m | time: 95.401s\n\u001b[2K\r| SGD | epoch: 001 | loss: 0.06747 - acc: 0.9720 -- iter: 29620/55000\n"
     ]
    },
    {
     "name": "stdout",
     "output_type": "stream",
     "text": [
      "Training Step: 1482  | total loss: \u001b[1m\u001b[32m0.06105\u001b[0m\u001b[0m | time: 95.479s\n\u001b[2K\r| SGD | epoch: 001 | loss: 0.06105 - acc: 0.9748 -- iter: 29640/55000\n"
     ]
    },
    {
     "name": "stdout",
     "output_type": "stream",
     "text": [
      "Training Step: 1483  | total loss: \u001b[1m\u001b[32m0.09144\u001b[0m\u001b[0m | time: 95.557s\n\u001b[2K\r| SGD | epoch: 001 | loss: 0.09144 - acc: 0.9673 -- iter: 29660/55000\n"
     ]
    },
    {
     "name": "stdout",
     "output_type": "stream",
     "text": [
      "Training Step: 1484  | total loss: \u001b[1m\u001b[32m0.08241\u001b[0m\u001b[0m | time: 95.651s\n\u001b[2K\r| SGD | epoch: 001 | loss: 0.08241 - acc: 0.9706 -- iter: 29680/55000\n"
     ]
    },
    {
     "name": "stdout",
     "output_type": "stream",
     "text": [
      "Training Step: 1485  | total loss: \u001b[1m\u001b[32m0.09831\u001b[0m\u001b[0m | time: 95.729s\n\u001b[2K\r| SGD | epoch: 001 | loss: 0.09831 - acc: 0.9685 -- iter: 29700/55000\n"
     ]
    },
    {
     "name": "stdout",
     "output_type": "stream",
     "text": [
      "Training Step: 1486  | total loss: \u001b[1m\u001b[32m0.08955\u001b[0m\u001b[0m | time: 95.809s\n\u001b[2K\r| SGD | epoch: 001 | loss: 0.08955 - acc: 0.9717 -- iter: 29720/55000\n"
     ]
    },
    {
     "name": "stdout",
     "output_type": "stream",
     "text": [
      "Training Step: 1487  | total loss: \u001b[1m\u001b[32m0.09514\u001b[0m\u001b[0m | time: 95.881s\n\u001b[2K\r| SGD | epoch: 001 | loss: 0.09514 - acc: 0.9695 -- iter: 29740/55000\n"
     ]
    },
    {
     "name": "stdout",
     "output_type": "stream",
     "text": [
      "Training Step: 1488  | total loss: \u001b[1m\u001b[32m0.08955\u001b[0m\u001b[0m | time: 95.943s\n\u001b[2K\r| SGD | epoch: 001 | loss: 0.08955 - acc: 0.9726 -- iter: 29760/55000\n"
     ]
    },
    {
     "name": "stdout",
     "output_type": "stream",
     "text": [
      "Training Step: 1489  | total loss: \u001b[1m\u001b[32m0.08363\u001b[0m\u001b[0m | time: 96.021s\n\u001b[2K\r| SGD | epoch: 001 | loss: 0.08363 - acc: 0.9753 -- iter: 29780/55000\n"
     ]
    },
    {
     "name": "stdout",
     "output_type": "stream",
     "text": [
      "Training Step: 1490  | total loss: \u001b[1m\u001b[32m0.07659\u001b[0m\u001b[0m | time: 96.084s\n\u001b[2K\r| SGD | epoch: 001 | loss: 0.07659 - acc: 0.9778 -- iter: 29800/55000\n"
     ]
    },
    {
     "name": "stdout",
     "output_type": "stream",
     "text": [
      "Training Step: 1491  | total loss: \u001b[1m\u001b[32m0.06940\u001b[0m\u001b[0m | time: 96.146s\n\u001b[2K\r| SGD | epoch: 001 | loss: 0.06940 - acc: 0.9800 -- iter: 29820/55000\n"
     ]
    },
    {
     "name": "stdout",
     "output_type": "stream",
     "text": [
      "Training Step: 1492  | total loss: \u001b[1m\u001b[32m0.06650\u001b[0m\u001b[0m | time: 96.209s\n\u001b[2K\r| SGD | epoch: 001 | loss: 0.06650 - acc: 0.9820 -- iter: 29840/55000\n"
     ]
    },
    {
     "name": "stdout",
     "output_type": "stream",
     "text": [
      "Training Step: 1493  | total loss: \u001b[1m\u001b[32m0.06632\u001b[0m\u001b[0m | time: 96.271s\n\u001b[2K\r| SGD | epoch: 001 | loss: 0.06632 - acc: 0.9788 -- iter: 29860/55000\n"
     ]
    },
    {
     "name": "stdout",
     "output_type": "stream",
     "text": [
      "Training Step: 1494  | total loss: \u001b[1m\u001b[32m0.10449\u001b[0m\u001b[0m | time: 96.349s\n\u001b[2K\r| SGD | epoch: 001 | loss: 0.10449 - acc: 0.9759 -- iter: 29880/55000\n"
     ]
    },
    {
     "name": "stdout",
     "output_type": "stream",
     "text": [
      "Training Step: 1495  | total loss: \u001b[1m\u001b[32m0.10679\u001b[0m\u001b[0m | time: 96.412s\n\u001b[2K\r| SGD | epoch: 001 | loss: 0.10679 - acc: 0.9733 -- iter: 29900/55000\n"
     ]
    },
    {
     "name": "stdout",
     "output_type": "stream",
     "text": [
      "Training Step: 1496  | total loss: \u001b[1m\u001b[32m0.10476\u001b[0m\u001b[0m | time: 96.474s\n\u001b[2K\r| SGD | epoch: 001 | loss: 0.10476 - acc: 0.9710 -- iter: 29920/55000\n"
     ]
    },
    {
     "name": "stdout",
     "output_type": "stream",
     "text": [
      "Training Step: 1497  | total loss: \u001b[1m\u001b[32m0.10654\u001b[0m\u001b[0m | time: 96.537s\n\u001b[2K\r| SGD | epoch: 001 | loss: 0.10654 - acc: 0.9689 -- iter: 29940/55000\n"
     ]
    },
    {
     "name": "stdout",
     "output_type": "stream",
     "text": [
      "Training Step: 1498  | total loss: \u001b[1m\u001b[32m0.11577\u001b[0m\u001b[0m | time: 96.599s\n\u001b[2K\r| SGD | epoch: 001 | loss: 0.11577 - acc: 0.9670 -- iter: 29960/55000\n"
     ]
    },
    {
     "name": "stdout",
     "output_type": "stream",
     "text": [
      "Training Step: 1499  | total loss: \u001b[1m\u001b[32m0.10455\u001b[0m\u001b[0m | time: 96.662s\n\u001b[2K\r| SGD | epoch: 001 | loss: 0.10455 - acc: 0.9703 -- iter: 29980/55000\n"
     ]
    },
    {
     "name": "stdout",
     "output_type": "stream",
     "text": [
      "Training Step: 1500  | total loss: \u001b[1m\u001b[32m0.11081\u001b[0m\u001b[0m | time: 96.738s\n\u001b[2K\r| SGD | epoch: 001 | loss: 0.11081 - acc: 0.9683 -- iter: 30000/55000\n"
     ]
    },
    {
     "name": "stdout",
     "output_type": "stream",
     "text": [
      "Training Step: 1501  | total loss: \u001b[1m\u001b[32m0.10132\u001b[0m\u001b[0m | time: 96.795s\n\u001b[2K\r| SGD | epoch: 001 | loss: 0.10132 - acc: 0.9714 -- iter: 30020/55000\n"
     ]
    },
    {
     "name": "stdout",
     "output_type": "stream",
     "text": [
      "Training Step: 1502  | total loss: \u001b[1m\u001b[32m0.12913\u001b[0m\u001b[0m | time: 96.873s\n\u001b[2K\r| SGD | epoch: 001 | loss: 0.12913 - acc: 0.9593 -- iter: 30040/55000\n"
     ]
    },
    {
     "name": "stdout",
     "output_type": "stream",
     "text": [
      "Training Step: 1503  | total loss: \u001b[1m\u001b[32m0.14167\u001b[0m\u001b[0m | time: 96.920s\n\u001b[2K\r| SGD | epoch: 001 | loss: 0.14167 - acc: 0.9584 -- iter: 30060/55000\n"
     ]
    },
    {
     "name": "stdout",
     "output_type": "stream",
     "text": [
      "Training Step: 1504  | total loss: \u001b[1m\u001b[32m0.17050\u001b[0m\u001b[0m | time: 96.982s\n\u001b[2K\r| SGD | epoch: 001 | loss: 0.17050 - acc: 0.9475 -- iter: 30080/55000\n"
     ]
    },
    {
     "name": "stdout",
     "output_type": "stream",
     "text": [
      "Training Step: 1505  | total loss: \u001b[1m\u001b[32m0.15402\u001b[0m\u001b[0m | time: 97.045s\n\u001b[2K\r| SGD | epoch: 001 | loss: 0.15402 - acc: 0.9528 -- iter: 30100/55000\n"
     ]
    },
    {
     "name": "stdout",
     "output_type": "stream",
     "text": [
      "Training Step: 1506  | total loss: \u001b[1m\u001b[32m0.14097\u001b[0m\u001b[0m | time: 97.107s\n\u001b[2K\r| SGD | epoch: 001 | loss: 0.14097 - acc: 0.9575 -- iter: 30120/55000\n"
     ]
    },
    {
     "name": "stdout",
     "output_type": "stream",
     "text": [
      "Training Step: 1507  | total loss: \u001b[1m\u001b[32m0.13632\u001b[0m\u001b[0m | time: 97.170s\n\u001b[2K\r| SGD | epoch: 001 | loss: 0.13632 - acc: 0.9568 -- iter: 30140/55000\n"
     ]
    },
    {
     "name": "stdout",
     "output_type": "stream",
     "text": [
      "Training Step: 1508  | total loss: \u001b[1m\u001b[32m0.12571\u001b[0m\u001b[0m | time: 97.232s\n\u001b[2K\r| SGD | epoch: 001 | loss: 0.12571 - acc: 0.9611 -- iter: 30160/55000\n"
     ]
    },
    {
     "name": "stdout",
     "output_type": "stream",
     "text": [
      "Training Step: 1509  | total loss: \u001b[1m\u001b[32m0.14537\u001b[0m\u001b[0m | time: 97.295s\n\u001b[2K\r| SGD | epoch: 001 | loss: 0.14537 - acc: 0.9600 -- iter: 30180/55000\n"
     ]
    },
    {
     "name": "stdout",
     "output_type": "stream",
     "text": [
      "Training Step: 1510  | total loss: \u001b[1m\u001b[32m0.13865\u001b[0m\u001b[0m | time: 97.373s\n\u001b[2K\r| SGD | epoch: 001 | loss: 0.13865 - acc: 0.9590 -- iter: 30200/55000\n"
     ]
    },
    {
     "name": "stdout",
     "output_type": "stream",
     "text": [
      "Training Step: 1511  | total loss: \u001b[1m\u001b[32m0.12538\u001b[0m\u001b[0m | time: 97.436s\n\u001b[2K\r| SGD | epoch: 001 | loss: 0.12538 - acc: 0.9631 -- iter: 30220/55000\n"
     ]
    },
    {
     "name": "stdout",
     "output_type": "stream",
     "text": [
      "Training Step: 1512  | total loss: \u001b[1m\u001b[32m0.11645\u001b[0m\u001b[0m | time: 97.498s\n\u001b[2K\r| SGD | epoch: 001 | loss: 0.11645 - acc: 0.9668 -- iter: 30240/55000\n"
     ]
    },
    {
     "name": "stdout",
     "output_type": "stream",
     "text": [
      "Training Step: 1513  | total loss: \u001b[1m\u001b[32m0.10669\u001b[0m\u001b[0m | time: 97.576s\n\u001b[2K\r| SGD | epoch: 001 | loss: 0.10669 - acc: 0.9701 -- iter: 30260/55000\n"
     ]
    },
    {
     "name": "stdout",
     "output_type": "stream",
     "text": [
      "Training Step: 1514  | total loss: \u001b[1m\u001b[32m0.10527\u001b[0m\u001b[0m | time: 97.649s\n\u001b[2K\r| SGD | epoch: 001 | loss: 0.10527 - acc: 0.9681 -- iter: 30280/55000\n"
     ]
    },
    {
     "name": "stdout",
     "output_type": "stream",
     "text": [
      "Training Step: 1515  | total loss: \u001b[1m\u001b[32m0.12404\u001b[0m\u001b[0m | time: 97.719s\n\u001b[2K\r| SGD | epoch: 001 | loss: 0.12404 - acc: 0.9613 -- iter: 30300/55000\n"
     ]
    },
    {
     "name": "stdout",
     "output_type": "stream",
     "text": [
      "Training Step: 1516  | total loss: \u001b[1m\u001b[32m0.11622\u001b[0m\u001b[0m | time: 97.797s\n\u001b[2K\r| SGD | epoch: 001 | loss: 0.11622 - acc: 0.9651 -- iter: 30320/55000\n"
     ]
    },
    {
     "name": "stdout",
     "output_type": "stream",
     "text": [
      "Training Step: 1517  | total loss: \u001b[1m\u001b[32m0.10651\u001b[0m\u001b[0m | time: 97.860s\n\u001b[2K\r| SGD | epoch: 001 | loss: 0.10651 - acc: 0.9686 -- iter: 30340/55000\n"
     ]
    },
    {
     "name": "stdout",
     "output_type": "stream",
     "text": [
      "Training Step: 1518  | total loss: \u001b[1m\u001b[32m0.09647\u001b[0m\u001b[0m | time: 97.938s\n\u001b[2K\r| SGD | epoch: 001 | loss: 0.09647 - acc: 0.9718 -- iter: 30360/55000\n"
     ]
    },
    {
     "name": "stdout",
     "output_type": "stream",
     "text": [
      "Training Step: 1519  | total loss: \u001b[1m\u001b[32m0.09072\u001b[0m\u001b[0m | time: 98.000s\n\u001b[2K\r| SGD | epoch: 001 | loss: 0.09072 - acc: 0.9746 -- iter: 30380/55000\n"
     ]
    },
    {
     "name": "stdout",
     "output_type": "stream",
     "text": [
      "Training Step: 1520  | total loss: \u001b[1m\u001b[32m0.09763\u001b[0m\u001b[0m | time: 98.078s\n\u001b[2K\r| SGD | epoch: 001 | loss: 0.09763 - acc: 0.9721 -- iter: 30400/55000\n"
     ]
    },
    {
     "name": "stdout",
     "output_type": "stream",
     "text": [
      "Training Step: 1521  | total loss: \u001b[1m\u001b[32m0.08930\u001b[0m\u001b[0m | time: 98.157s\n\u001b[2K\r| SGD | epoch: 001 | loss: 0.08930 - acc: 0.9749 -- iter: 30420/55000\n"
     ]
    },
    {
     "name": "stdout",
     "output_type": "stream",
     "text": [
      "Training Step: 1522  | total loss: \u001b[1m\u001b[32m0.08786\u001b[0m\u001b[0m | time: 98.219s\n\u001b[2K\r| SGD | epoch: 001 | loss: 0.08786 - acc: 0.9774 -- iter: 30440/55000\n"
     ]
    },
    {
     "name": "stdout",
     "output_type": "stream",
     "text": [
      "Training Step: 1523  | total loss: \u001b[1m\u001b[32m0.10971\u001b[0m\u001b[0m | time: 98.282s\n\u001b[2K\r| SGD | epoch: 001 | loss: 0.10971 - acc: 0.9747 -- iter: 30460/55000\n"
     ]
    },
    {
     "name": "stdout",
     "output_type": "stream",
     "text": [
      "Training Step: 1524  | total loss: \u001b[1m\u001b[32m0.10660\u001b[0m\u001b[0m | time: 98.350s\n\u001b[2K\r| SGD | epoch: 001 | loss: 0.10660 - acc: 0.9772 -- iter: 30480/55000\n"
     ]
    },
    {
     "name": "stdout",
     "output_type": "stream",
     "text": [
      "Training Step: 1525  | total loss: \u001b[1m\u001b[32m0.10564\u001b[0m\u001b[0m | time: 98.428s\n\u001b[2K\r| SGD | epoch: 001 | loss: 0.10564 - acc: 0.9745 -- iter: 30500/55000\n"
     ]
    },
    {
     "name": "stdout",
     "output_type": "stream",
     "text": [
      "Training Step: 1526  | total loss: \u001b[1m\u001b[32m0.12383\u001b[0m\u001b[0m | time: 98.506s\n\u001b[2K\r| SGD | epoch: 001 | loss: 0.12383 - acc: 0.9720 -- iter: 30520/55000\n"
     ]
    },
    {
     "name": "stdout",
     "output_type": "stream",
     "text": [
      "Training Step: 1527  | total loss: \u001b[1m\u001b[32m0.11536\u001b[0m\u001b[0m | time: 98.569s\n\u001b[2K\r| SGD | epoch: 001 | loss: 0.11536 - acc: 0.9698 -- iter: 30540/55000\n"
     ]
    },
    {
     "name": "stdout",
     "output_type": "stream",
     "text": [
      "Training Step: 1528  | total loss: \u001b[1m\u001b[32m0.10472\u001b[0m\u001b[0m | time: 98.635s\n\u001b[2K\r| SGD | epoch: 001 | loss: 0.10472 - acc: 0.9729 -- iter: 30560/55000\n"
     ]
    },
    {
     "name": "stdout",
     "output_type": "stream",
     "text": [
      "Training Step: 1529  | total loss: \u001b[1m\u001b[32m0.10890\u001b[0m\u001b[0m | time: 98.696s\n\u001b[2K\r| SGD | epoch: 001 | loss: 0.10890 - acc: 0.9706 -- iter: 30580/55000\n"
     ]
    },
    {
     "name": "stdout",
     "output_type": "stream",
     "text": [
      "Training Step: 1530  | total loss: \u001b[1m\u001b[32m0.10086\u001b[0m\u001b[0m | time: 98.759s\n\u001b[2K\r| SGD | epoch: 001 | loss: 0.10086 - acc: 0.9735 -- iter: 30600/55000\n"
     ]
    },
    {
     "name": "stdout",
     "output_type": "stream",
     "text": [
      "Training Step: 1531  | total loss: \u001b[1m\u001b[32m0.09655\u001b[0m\u001b[0m | time: 98.821s\n\u001b[2K\r| SGD | epoch: 001 | loss: 0.09655 - acc: 0.9712 -- iter: 30620/55000\n"
     ]
    },
    {
     "name": "stdout",
     "output_type": "stream",
     "text": [
      "Training Step: 1532  | total loss: \u001b[1m\u001b[32m0.10450\u001b[0m\u001b[0m | time: 98.884s\n\u001b[2K\r| SGD | epoch: 001 | loss: 0.10450 - acc: 0.9640 -- iter: 30640/55000\n"
     ]
    },
    {
     "name": "stdout",
     "output_type": "stream",
     "text": [
      "Training Step: 1533  | total loss: \u001b[1m\u001b[32m0.09727\u001b[0m\u001b[0m | time: 98.946s\n\u001b[2K\r| SGD | epoch: 001 | loss: 0.09727 - acc: 0.9676 -- iter: 30660/55000\n"
     ]
    },
    {
     "name": "stdout",
     "output_type": "stream",
     "text": [
      "Training Step: 1534  | total loss: \u001b[1m\u001b[32m0.08779\u001b[0m\u001b[0m | time: 99.009s\n\u001b[2K\r| SGD | epoch: 001 | loss: 0.08779 - acc: 0.9709 -- iter: 30680/55000\n"
     ]
    },
    {
     "name": "stdout",
     "output_type": "stream",
     "text": [
      "Training Step: 1535  | total loss: \u001b[1m\u001b[32m0.08203\u001b[0m\u001b[0m | time: 99.087s\n\u001b[2K\r| SGD | epoch: 001 | loss: 0.08203 - acc: 0.9738 -- iter: 30700/55000\n"
     ]
    },
    {
     "name": "stdout",
     "output_type": "stream",
     "text": [
      "Training Step: 1536  | total loss: \u001b[1m\u001b[32m0.07678\u001b[0m\u001b[0m | time: 99.149s\n\u001b[2K\r| SGD | epoch: 001 | loss: 0.07678 - acc: 0.9764 -- iter: 30720/55000\n"
     ]
    },
    {
     "name": "stdout",
     "output_type": "stream",
     "text": [
      "Training Step: 1537  | total loss: \u001b[1m\u001b[32m0.07510\u001b[0m\u001b[0m | time: 99.212s\n\u001b[2K\r| SGD | epoch: 001 | loss: 0.07510 - acc: 0.9788 -- iter: 30740/55000\n"
     ]
    },
    {
     "name": "stdout",
     "output_type": "stream",
     "text": [
      "Training Step: 1538  | total loss: \u001b[1m\u001b[32m0.07945\u001b[0m\u001b[0m | time: 99.274s\n\u001b[2K\r| SGD | epoch: 001 | loss: 0.07945 - acc: 0.9759 -- iter: 30760/55000\n"
     ]
    },
    {
     "name": "stdout",
     "output_type": "stream",
     "text": [
      "Training Step: 1539  | total loss: \u001b[1m\u001b[32m0.08010\u001b[0m\u001b[0m | time: 99.352s\n\u001b[2K\r| SGD | epoch: 001 | loss: 0.08010 - acc: 0.9783 -- iter: 30780/55000\n"
     ]
    },
    {
     "name": "stdout",
     "output_type": "stream",
     "text": [
      "Training Step: 1540  | total loss: \u001b[1m\u001b[32m0.07686\u001b[0m\u001b[0m | time: 99.431s\n\u001b[2K\r| SGD | epoch: 001 | loss: 0.07686 - acc: 0.9805 -- iter: 30800/55000\n"
     ]
    },
    {
     "name": "stdout",
     "output_type": "stream",
     "text": [
      "Training Step: 1541  | total loss: \u001b[1m\u001b[32m0.06955\u001b[0m\u001b[0m | time: 99.509s\n\u001b[2K\r| SGD | epoch: 001 | loss: 0.06955 - acc: 0.9824 -- iter: 30820/55000\n"
     ]
    },
    {
     "name": "stdout",
     "output_type": "stream",
     "text": [
      "Training Step: 1542  | total loss: \u001b[1m\u001b[32m0.06336\u001b[0m\u001b[0m | time: 99.588s\n\u001b[2K\r| SGD | epoch: 001 | loss: 0.06336 - acc: 0.9842 -- iter: 30840/55000\n"
     ]
    },
    {
     "name": "stdout",
     "output_type": "stream",
     "text": [
      "Training Step: 1543  | total loss: \u001b[1m\u001b[32m0.05729\u001b[0m\u001b[0m | time: 99.656s\n\u001b[2K\r| SGD | epoch: 001 | loss: 0.05729 - acc: 0.9858 -- iter: 30860/55000\n"
     ]
    },
    {
     "name": "stdout",
     "output_type": "stream",
     "text": [
      "Training Step: 1544  | total loss: \u001b[1m\u001b[32m0.05576\u001b[0m\u001b[0m | time: 99.735s\n\u001b[2K\r| SGD | epoch: 001 | loss: 0.05576 - acc: 0.9872 -- iter: 30880/55000\n"
     ]
    },
    {
     "name": "stdout",
     "output_type": "stream",
     "text": [
      "Training Step: 1545  | total loss: \u001b[1m\u001b[32m0.06203\u001b[0m\u001b[0m | time: 99.797s\n\u001b[2K\r| SGD | epoch: 001 | loss: 0.06203 - acc: 0.9785 -- iter: 30900/55000\n"
     ]
    },
    {
     "name": "stdout",
     "output_type": "stream",
     "text": [
      "Training Step: 1546  | total loss: \u001b[1m\u001b[32m0.07956\u001b[0m\u001b[0m | time: 99.875s\n\u001b[2K\r| SGD | epoch: 001 | loss: 0.07956 - acc: 0.9756 -- iter: 30920/55000\n"
     ]
    },
    {
     "name": "stdout",
     "output_type": "stream",
     "text": [
      "Training Step: 1547  | total loss: \u001b[1m\u001b[32m0.07538\u001b[0m\u001b[0m | time: 99.953s\n\u001b[2K\r| SGD | epoch: 001 | loss: 0.07538 - acc: 0.9781 -- iter: 30940/55000\n"
     ]
    },
    {
     "name": "stdout",
     "output_type": "stream",
     "text": [
      "Training Step: 1548  | total loss: \u001b[1m\u001b[32m0.08373\u001b[0m\u001b[0m | time: 100.031s\n\u001b[2K\r| SGD | epoch: 001 | loss: 0.08373 - acc: 0.9753 -- iter: 30960/55000\n"
     ]
    },
    {
     "name": "stdout",
     "output_type": "stream",
     "text": [
      "Training Step: 1549  | total loss: \u001b[1m\u001b[32m0.08254\u001b[0m\u001b[0m | time: 100.088s\n\u001b[2K\r| SGD | epoch: 001 | loss: 0.08254 - acc: 0.9777 -- iter: 30980/55000\n"
     ]
    },
    {
     "name": "stdout",
     "output_type": "stream",
     "text": [
      "Training Step: 1550  | total loss: \u001b[1m\u001b[32m0.07566\u001b[0m\u001b[0m | time: 100.166s\n\u001b[2K\r| SGD | epoch: 001 | loss: 0.07566 - acc: 0.9800 -- iter: 31000/55000\n"
     ]
    },
    {
     "name": "stdout",
     "output_type": "stream",
     "text": [
      "Training Step: 1551  | total loss: \u001b[1m\u001b[32m0.06885\u001b[0m\u001b[0m | time: 100.228s\n\u001b[2K\r| SGD | epoch: 001 | loss: 0.06885 - acc: 0.9820 -- iter: 31020/55000\n"
     ]
    },
    {
     "name": "stdout",
     "output_type": "stream",
     "text": [
      "Training Step: 1552  | total loss: \u001b[1m\u001b[32m0.06269\u001b[0m\u001b[0m | time: 100.306s\n\u001b[2K\r| SGD | epoch: 001 | loss: 0.06269 - acc: 0.9838 -- iter: 31040/55000\n"
     ]
    },
    {
     "name": "stdout",
     "output_type": "stream",
     "text": [
      "Training Step: 1553  | total loss: \u001b[1m\u001b[32m0.06129\u001b[0m\u001b[0m | time: 100.385s\n\u001b[2K\r| SGD | epoch: 001 | loss: 0.06129 - acc: 0.9854 -- iter: 31060/55000\n"
     ]
    },
    {
     "name": "stdout",
     "output_type": "stream",
     "text": [
      "Training Step: 1554  | total loss: \u001b[1m\u001b[32m0.05566\u001b[0m\u001b[0m | time: 100.447s\n\u001b[2K\r| SGD | epoch: 001 | loss: 0.05566 - acc: 0.9868 -- iter: 31080/55000\n"
     ]
    },
    {
     "name": "stdout",
     "output_type": "stream",
     "text": [
      "Training Step: 1555  | total loss: \u001b[1m\u001b[32m0.05165\u001b[0m\u001b[0m | time: 100.510s\n\u001b[2K\r| SGD | epoch: 001 | loss: 0.05165 - acc: 0.9882 -- iter: 31100/55000\n"
     ]
    },
    {
     "name": "stdout",
     "output_type": "stream",
     "text": [
      "Training Step: 1556  | total loss: \u001b[1m\u001b[32m0.04912\u001b[0m\u001b[0m | time: 100.579s\n\u001b[2K\r| SGD | epoch: 001 | loss: 0.04912 - acc: 0.9893 -- iter: 31120/55000\n"
     ]
    },
    {
     "name": "stdout",
     "output_type": "stream",
     "text": [
      "Training Step: 1557  | total loss: \u001b[1m\u001b[32m0.04660\u001b[0m\u001b[0m | time: 100.652s\n\u001b[2K\r| SGD | epoch: 001 | loss: 0.04660 - acc: 0.9904 -- iter: 31140/55000\n"
     ]
    },
    {
     "name": "stdout",
     "output_type": "stream",
     "text": [
      "Training Step: 1558  | total loss: \u001b[1m\u001b[32m0.05214\u001b[0m\u001b[0m | time: 100.714s\n\u001b[2K\r| SGD | epoch: 001 | loss: 0.05214 - acc: 0.9864 -- iter: 31160/55000\n"
     ]
    },
    {
     "name": "stdout",
     "output_type": "stream",
     "text": [
      "Training Step: 1559  | total loss: \u001b[1m\u001b[32m0.04783\u001b[0m\u001b[0m | time: 100.777s\n\u001b[2K\r| SGD | epoch: 001 | loss: 0.04783 - acc: 0.9877 -- iter: 31180/55000\n"
     ]
    },
    {
     "name": "stdout",
     "output_type": "stream",
     "text": [
      "Training Step: 1560  | total loss: \u001b[1m\u001b[32m0.05282\u001b[0m\u001b[0m | time: 100.840s\n\u001b[2K\r| SGD | epoch: 001 | loss: 0.05282 - acc: 0.9840 -- iter: 31200/55000\n"
     ]
    },
    {
     "name": "stdout",
     "output_type": "stream",
     "text": [
      "Training Step: 1561  | total loss: \u001b[1m\u001b[32m0.04831\u001b[0m\u001b[0m | time: 100.918s\n\u001b[2K\r| SGD | epoch: 001 | loss: 0.04831 - acc: 0.9856 -- iter: 31220/55000\n"
     ]
    },
    {
     "name": "stdout",
     "output_type": "stream",
     "text": [
      "Training Step: 1562  | total loss: \u001b[1m\u001b[32m0.05396\u001b[0m\u001b[0m | time: 100.980s\n\u001b[2K\r| SGD | epoch: 001 | loss: 0.05396 - acc: 0.9820 -- iter: 31240/55000\n"
     ]
    },
    {
     "name": "stdout",
     "output_type": "stream",
     "text": [
      "Training Step: 1563  | total loss: \u001b[1m\u001b[32m0.04889\u001b[0m\u001b[0m | time: 101.043s\n\u001b[2K\r| SGD | epoch: 001 | loss: 0.04889 - acc: 0.9838 -- iter: 31260/55000\n"
     ]
    },
    {
     "name": "stdout",
     "output_type": "stream",
     "text": [
      "Training Step: 1564  | total loss: \u001b[1m\u001b[32m0.04418\u001b[0m\u001b[0m | time: 101.105s\n\u001b[2K\r| SGD | epoch: 001 | loss: 0.04418 - acc: 0.9854 -- iter: 31280/55000\n"
     ]
    },
    {
     "name": "stdout",
     "output_type": "stream",
     "text": [
      "Training Step: 1565  | total loss: \u001b[1m\u001b[32m0.04204\u001b[0m\u001b[0m | time: 101.168s\n\u001b[2K\r| SGD | epoch: 001 | loss: 0.04204 - acc: 0.9869 -- iter: 31300/55000\n"
     ]
    },
    {
     "name": "stdout",
     "output_type": "stream",
     "text": [
      "Training Step: 1566  | total loss: \u001b[1m\u001b[32m0.03875\u001b[0m\u001b[0m | time: 101.230s\n\u001b[2K\r| SGD | epoch: 001 | loss: 0.03875 - acc: 0.9882 -- iter: 31320/55000\n"
     ]
    },
    {
     "name": "stdout",
     "output_type": "stream",
     "text": [
      "Training Step: 1567  | total loss: \u001b[1m\u001b[32m0.03800\u001b[0m\u001b[0m | time: 101.308s\n\u001b[2K\r| SGD | epoch: 001 | loss: 0.03800 - acc: 0.9894 -- iter: 31340/55000\n"
     ]
    },
    {
     "name": "stdout",
     "output_type": "stream",
     "text": [
      "Training Step: 1568  | total loss: \u001b[1m\u001b[32m0.05013\u001b[0m\u001b[0m | time: 101.371s\n\u001b[2K\r| SGD | epoch: 001 | loss: 0.05013 - acc: 0.9854 -- iter: 31360/55000\n"
     ]
    },
    {
     "name": "stdout",
     "output_type": "stream",
     "text": [
      "Training Step: 1569  | total loss: \u001b[1m\u001b[32m0.04563\u001b[0m\u001b[0m | time: 101.433s\n\u001b[2K\r| SGD | epoch: 001 | loss: 0.04563 - acc: 0.9869 -- iter: 31380/55000\n"
     ]
    },
    {
     "name": "stdout",
     "output_type": "stream",
     "text": [
      "Training Step: 1570  | total loss: \u001b[1m\u001b[32m0.05092\u001b[0m\u001b[0m | time: 101.496s\n\u001b[2K\r| SGD | epoch: 001 | loss: 0.05092 - acc: 0.9832 -- iter: 31400/55000\n"
     ]
    },
    {
     "name": "stdout",
     "output_type": "stream",
     "text": [
      "Training Step: 1571  | total loss: \u001b[1m\u001b[32m0.04728\u001b[0m\u001b[0m | time: 101.549s\n\u001b[2K\r| SGD | epoch: 001 | loss: 0.04728 - acc: 0.9849 -- iter: 31420/55000\n"
     ]
    },
    {
     "name": "stdout",
     "output_type": "stream",
     "text": [
      "Training Step: 1572  | total loss: \u001b[1m\u001b[32m0.04463\u001b[0m\u001b[0m | time: 101.627s\n\u001b[2K\r| SGD | epoch: 001 | loss: 0.04463 - acc: 0.9864 -- iter: 31440/55000\n"
     ]
    },
    {
     "name": "stdout",
     "output_type": "stream",
     "text": [
      "Training Step: 1573  | total loss: \u001b[1m\u001b[32m0.04136\u001b[0m\u001b[0m | time: 101.690s\n\u001b[2K\r| SGD | epoch: 001 | loss: 0.04136 - acc: 0.9878 -- iter: 31460/55000\n"
     ]
    },
    {
     "name": "stdout",
     "output_type": "stream",
     "text": [
      "Training Step: 1574  | total loss: \u001b[1m\u001b[32m0.03956\u001b[0m\u001b[0m | time: 101.768s\n\u001b[2K\r| SGD | epoch: 001 | loss: 0.03956 - acc: 0.9890 -- iter: 31480/55000\n"
     ]
    },
    {
     "name": "stdout",
     "output_type": "stream",
     "text": [
      "Training Step: 1575  | total loss: \u001b[1m\u001b[32m0.03576\u001b[0m\u001b[0m | time: 101.862s\n\u001b[2K\r| SGD | epoch: 001 | loss: 0.03576 - acc: 0.9901 -- iter: 31500/55000\n"
     ]
    },
    {
     "name": "stdout",
     "output_type": "stream",
     "text": [
      "Training Step: 1576  | total loss: \u001b[1m\u001b[32m0.05085\u001b[0m\u001b[0m | time: 101.924s\n\u001b[2K\r| SGD | epoch: 001 | loss: 0.05085 - acc: 0.9861 -- iter: 31520/55000\n"
     ]
    },
    {
     "name": "stdout",
     "output_type": "stream",
     "text": [
      "Training Step: 1577  | total loss: \u001b[1m\u001b[32m0.07214\u001b[0m\u001b[0m | time: 101.987s\n\u001b[2K\r| SGD | epoch: 001 | loss: 0.07214 - acc: 0.9825 -- iter: 31540/55000\n"
     ]
    },
    {
     "name": "stdout",
     "output_type": "stream",
     "text": [
      "Training Step: 1578  | total loss: \u001b[1m\u001b[32m0.06613\u001b[0m\u001b[0m | time: 102.049s\n\u001b[2K\r| SGD | epoch: 001 | loss: 0.06613 - acc: 0.9842 -- iter: 31560/55000\n"
     ]
    },
    {
     "name": "stdout",
     "output_type": "stream",
     "text": [
      "Training Step: 1579  | total loss: \u001b[1m\u001b[32m0.07093\u001b[0m\u001b[0m | time: 102.127s\n\u001b[2K\r| SGD | epoch: 001 | loss: 0.07093 - acc: 0.9808 -- iter: 31580/55000\n"
     ]
    },
    {
     "name": "stdout",
     "output_type": "stream",
     "text": [
      "Training Step: 1580  | total loss: \u001b[1m\u001b[32m0.08441\u001b[0m\u001b[0m | time: 102.205s\n\u001b[2K\r| SGD | epoch: 001 | loss: 0.08441 - acc: 0.9777 -- iter: 31600/55000\n"
     ]
    },
    {
     "name": "stdout",
     "output_type": "stream",
     "text": [
      "Training Step: 1581  | total loss: \u001b[1m\u001b[32m0.08422\u001b[0m\u001b[0m | time: 102.268s\n\u001b[2K\r| SGD | epoch: 001 | loss: 0.08422 - acc: 0.9749 -- iter: 31620/55000\n"
     ]
    },
    {
     "name": "stdout",
     "output_type": "stream",
     "text": [
      "Training Step: 1582  | total loss: \u001b[1m\u001b[32m0.08251\u001b[0m\u001b[0m | time: 102.330s\n\u001b[2K\r| SGD | epoch: 001 | loss: 0.08251 - acc: 0.9775 -- iter: 31640/55000\n"
     ]
    },
    {
     "name": "stdout",
     "output_type": "stream",
     "text": [
      "Training Step: 1583  | total loss: \u001b[1m\u001b[32m0.07810\u001b[0m\u001b[0m | time: 102.408s\n\u001b[2K\r| SGD | epoch: 001 | loss: 0.07810 - acc: 0.9797 -- iter: 31660/55000\n"
     ]
    },
    {
     "name": "stdout",
     "output_type": "stream",
     "text": [
      "Training Step: 1584  | total loss: \u001b[1m\u001b[32m0.09559\u001b[0m\u001b[0m | time: 102.492s\n\u001b[2K\r| SGD | epoch: 001 | loss: 0.09559 - acc: 0.9767 -- iter: 31680/55000\n"
     ]
    },
    {
     "name": "stdout",
     "output_type": "stream",
     "text": [
      "Training Step: 1585  | total loss: \u001b[1m\u001b[32m0.09088\u001b[0m\u001b[0m | time: 102.547s\n\u001b[2K\r| SGD | epoch: 001 | loss: 0.09088 - acc: 0.9741 -- iter: 31700/55000\n"
     ]
    },
    {
     "name": "stdout",
     "output_type": "stream",
     "text": [
      "Training Step: 1586  | total loss: \u001b[1m\u001b[32m0.11270\u001b[0m\u001b[0m | time: 102.625s\n\u001b[2K\r| SGD | epoch: 001 | loss: 0.11270 - acc: 0.9717 -- iter: 31720/55000\n"
     ]
    },
    {
     "name": "stdout",
     "output_type": "stream",
     "text": [
      "Training Step: 1587  | total loss: \u001b[1m\u001b[32m0.13473\u001b[0m\u001b[0m | time: 102.688s\n\u001b[2K\r| SGD | epoch: 001 | loss: 0.13473 - acc: 0.9645 -- iter: 31740/55000\n"
     ]
    },
    {
     "name": "stdout",
     "output_type": "stream",
     "text": [
      "Training Step: 1588  | total loss: \u001b[1m\u001b[32m0.12448\u001b[0m\u001b[0m | time: 102.766s\n\u001b[2K\r| SGD | epoch: 001 | loss: 0.12448 - acc: 0.9680 -- iter: 31760/55000\n"
     ]
    },
    {
     "name": "stdout",
     "output_type": "stream",
     "text": [
      "Training Step: 1589  | total loss: \u001b[1m\u001b[32m0.11851\u001b[0m\u001b[0m | time: 102.828s\n\u001b[2K\r| SGD | epoch: 001 | loss: 0.11851 - acc: 0.9712 -- iter: 31780/55000\n"
     ]
    },
    {
     "name": "stdout",
     "output_type": "stream",
     "text": [
      "Training Step: 1590  | total loss: \u001b[1m\u001b[32m0.12161\u001b[0m\u001b[0m | time: 102.907s\n\u001b[2K\r| SGD | epoch: 001 | loss: 0.12161 - acc: 0.9641 -- iter: 31800/55000\n"
     ]
    },
    {
     "name": "stdout",
     "output_type": "stream",
     "text": [
      "Training Step: 1591  | total loss: \u001b[1m\u001b[32m0.11693\u001b[0m\u001b[0m | time: 102.969s\n\u001b[2K\r| SGD | epoch: 001 | loss: 0.11693 - acc: 0.9627 -- iter: 31820/55000\n"
     ]
    },
    {
     "name": "stdout",
     "output_type": "stream",
     "text": [
      "Training Step: 1592  | total loss: \u001b[1m\u001b[32m0.10962\u001b[0m\u001b[0m | time: 103.032s\n\u001b[2K\r| SGD | epoch: 001 | loss: 0.10962 - acc: 0.9664 -- iter: 31840/55000\n"
     ]
    },
    {
     "name": "stdout",
     "output_type": "stream",
     "text": [
      "Training Step: 1593  | total loss: \u001b[1m\u001b[32m0.10137\u001b[0m\u001b[0m | time: 103.110s\n\u001b[2K\r| SGD | epoch: 001 | loss: 0.10137 - acc: 0.9698 -- iter: 31860/55000\n"
     ]
    },
    {
     "name": "stdout",
     "output_type": "stream",
     "text": [
      "Training Step: 1594  | total loss: \u001b[1m\u001b[32m0.12688\u001b[0m\u001b[0m | time: 103.172s\n\u001b[2K\r| SGD | epoch: 001 | loss: 0.12688 - acc: 0.9678 -- iter: 31880/55000\n"
     ]
    },
    {
     "name": "stdout",
     "output_type": "stream",
     "text": [
      "Training Step: 1595  | total loss: \u001b[1m\u001b[32m0.11518\u001b[0m\u001b[0m | time: 103.235s\n\u001b[2K\r| SGD | epoch: 001 | loss: 0.11518 - acc: 0.9710 -- iter: 31900/55000\n"
     ]
    },
    {
     "name": "stdout",
     "output_type": "stream",
     "text": [
      "Training Step: 1596  | total loss: \u001b[1m\u001b[32m0.11827\u001b[0m\u001b[0m | time: 103.313s\n\u001b[2K\r| SGD | epoch: 001 | loss: 0.11827 - acc: 0.9689 -- iter: 31920/55000\n"
     ]
    },
    {
     "name": "stdout",
     "output_type": "stream",
     "text": [
      "Training Step: 1597  | total loss: \u001b[1m\u001b[32m0.11308\u001b[0m\u001b[0m | time: 103.375s\n\u001b[2K\r| SGD | epoch: 001 | loss: 0.11308 - acc: 0.9670 -- iter: 31940/55000\n"
     ]
    },
    {
     "name": "stdout",
     "output_type": "stream",
     "text": [
      "Training Step: 1598  | total loss: \u001b[1m\u001b[32m0.10451\u001b[0m\u001b[0m | time: 103.438s\n\u001b[2K\r| SGD | epoch: 001 | loss: 0.10451 - acc: 0.9703 -- iter: 31960/55000\n"
     ]
    },
    {
     "name": "stdout",
     "output_type": "stream",
     "text": [
      "Training Step: 1599  | total loss: \u001b[1m\u001b[32m0.09565\u001b[0m\u001b[0m | time: 103.510s\n\u001b[2K\r| SGD | epoch: 001 | loss: 0.09565 - acc: 0.9733 -- iter: 31980/55000\n"
     ]
    },
    {
     "name": "stdout",
     "output_type": "stream",
     "text": [
      "Training Step: 1600  | total loss: \u001b[1m\u001b[32m0.09996\u001b[0m\u001b[0m | time: 103.573s\n\u001b[2K\r| SGD | epoch: 001 | loss: 0.09996 - acc: 0.9660 -- iter: 32000/55000\n"
     ]
    },
    {
     "name": "stdout",
     "output_type": "stream",
     "text": [
      "Training Step: 1601  | total loss: \u001b[1m\u001b[32m0.09160\u001b[0m\u001b[0m | time: 103.651s\n\u001b[2K\r| SGD | epoch: 001 | loss: 0.09160 - acc: 0.9694 -- iter: 32020/55000\n"
     ]
    },
    {
     "name": "stdout",
     "output_type": "stream",
     "text": [
      "Training Step: 1602  | total loss: \u001b[1m\u001b[32m0.08330\u001b[0m\u001b[0m | time: 103.729s\n\u001b[2K\r| SGD | epoch: 001 | loss: 0.08330 - acc: 0.9724 -- iter: 32040/55000\n"
     ]
    },
    {
     "name": "stdout",
     "output_type": "stream",
     "text": [
      "Training Step: 1603  | total loss: \u001b[1m\u001b[32m0.08058\u001b[0m\u001b[0m | time: 103.792s\n\u001b[2K\r| SGD | epoch: 001 | loss: 0.08058 - acc: 0.9702 -- iter: 32060/55000\n"
     ]
    },
    {
     "name": "stdout",
     "output_type": "stream",
     "text": [
      "Training Step: 1604  | total loss: \u001b[1m\u001b[32m0.07361\u001b[0m\u001b[0m | time: 103.854s\n\u001b[2K\r| SGD | epoch: 001 | loss: 0.07361 - acc: 0.9732 -- iter: 32080/55000\n"
     ]
    },
    {
     "name": "stdout",
     "output_type": "stream",
     "text": [
      "Training Step: 1605  | total loss: \u001b[1m\u001b[32m0.07883\u001b[0m\u001b[0m | time: 103.932s\n\u001b[2K\r| SGD | epoch: 001 | loss: 0.07883 - acc: 0.9709 -- iter: 32100/55000\n"
     ]
    },
    {
     "name": "stdout",
     "output_type": "stream",
     "text": [
      "Training Step: 1606  | total loss: \u001b[1m\u001b[32m0.09161\u001b[0m\u001b[0m | time: 103.995s\n\u001b[2K\r| SGD | epoch: 001 | loss: 0.09161 - acc: 0.9688 -- iter: 32120/55000\n"
     ]
    },
    {
     "name": "stdout",
     "output_type": "stream",
     "text": [
      "Training Step: 1607  | total loss: \u001b[1m\u001b[32m0.11575\u001b[0m\u001b[0m | time: 104.057s\n\u001b[2K\r| SGD | epoch: 001 | loss: 0.11575 - acc: 0.9669 -- iter: 32140/55000\n"
     ]
    },
    {
     "name": "stdout",
     "output_type": "stream",
     "text": [
      "Training Step: 1608  | total loss: \u001b[1m\u001b[32m0.10543\u001b[0m\u001b[0m | time: 104.135s\n\u001b[2K\r| SGD | epoch: 001 | loss: 0.10543 - acc: 0.9702 -- iter: 32160/55000\n"
     ]
    },
    {
     "name": "stdout",
     "output_type": "stream",
     "text": [
      "Training Step: 1609  | total loss: \u001b[1m\u001b[32m0.09699\u001b[0m\u001b[0m | time: 104.198s\n\u001b[2K\r| SGD | epoch: 001 | loss: 0.09699 - acc: 0.9732 -- iter: 32180/55000\n"
     ]
    },
    {
     "name": "stdout",
     "output_type": "stream",
     "text": [
      "Training Step: 1610  | total loss: \u001b[1m\u001b[32m0.09010\u001b[0m\u001b[0m | time: 104.276s\n\u001b[2K\r| SGD | epoch: 001 | loss: 0.09010 - acc: 0.9759 -- iter: 32200/55000\n"
     ]
    },
    {
     "name": "stdout",
     "output_type": "stream",
     "text": [
      "Training Step: 1611  | total loss: \u001b[1m\u001b[32m0.08611\u001b[0m\u001b[0m | time: 104.339s\n\u001b[2K\r| SGD | epoch: 001 | loss: 0.08611 - acc: 0.9783 -- iter: 32220/55000\n"
     ]
    },
    {
     "name": "stdout",
     "output_type": "stream",
     "text": [
      "Training Step: 1612  | total loss: \u001b[1m\u001b[32m0.07980\u001b[0m\u001b[0m | time: 104.417s\n\u001b[2K\r| SGD | epoch: 001 | loss: 0.07980 - acc: 0.9804 -- iter: 32240/55000\n"
     ]
    },
    {
     "name": "stdout",
     "output_type": "stream",
     "text": [
      "Training Step: 1613  | total loss: \u001b[1m\u001b[32m0.08520\u001b[0m\u001b[0m | time: 104.485s\n\u001b[2K\r| SGD | epoch: 001 | loss: 0.08520 - acc: 0.9724 -- iter: 32260/55000\n"
     ]
    },
    {
     "name": "stdout",
     "output_type": "stream",
     "text": [
      "Training Step: 1614  | total loss: \u001b[1m\u001b[32m0.08882\u001b[0m\u001b[0m | time: 104.563s\n\u001b[2K\r| SGD | epoch: 001 | loss: 0.08882 - acc: 0.9702 -- iter: 32280/55000\n"
     ]
    },
    {
     "name": "stdout",
     "output_type": "stream",
     "text": [
      "Training Step: 1615  | total loss: \u001b[1m\u001b[32m0.08156\u001b[0m\u001b[0m | time: 104.641s\n\u001b[2K\r| SGD | epoch: 001 | loss: 0.08156 - acc: 0.9731 -- iter: 32300/55000\n"
     ]
    },
    {
     "name": "stdout",
     "output_type": "stream",
     "text": [
      "Training Step: 1616  | total loss: \u001b[1m\u001b[32m0.07432\u001b[0m\u001b[0m | time: 104.704s\n\u001b[2K\r| SGD | epoch: 001 | loss: 0.07432 - acc: 0.9758 -- iter: 32320/55000\n"
     ]
    },
    {
     "name": "stdout",
     "output_type": "stream",
     "text": [
      "Training Step: 1617  | total loss: \u001b[1m\u001b[32m0.08373\u001b[0m\u001b[0m | time: 104.766s\n\u001b[2K\r| SGD | epoch: 001 | loss: 0.08373 - acc: 0.9732 -- iter: 32340/55000\n"
     ]
    },
    {
     "name": "stdout",
     "output_type": "stream",
     "text": [
      "Training Step: 1618  | total loss: \u001b[1m\u001b[32m0.07753\u001b[0m\u001b[0m | time: 104.844s\n\u001b[2K\r| SGD | epoch: 001 | loss: 0.07753 - acc: 0.9759 -- iter: 32360/55000\n"
     ]
    },
    {
     "name": "stdout",
     "output_type": "stream",
     "text": [
      "Training Step: 1619  | total loss: \u001b[1m\u001b[32m0.07203\u001b[0m\u001b[0m | time: 104.907s\n\u001b[2K\r| SGD | epoch: 001 | loss: 0.07203 - acc: 0.9783 -- iter: 32380/55000\n"
     ]
    },
    {
     "name": "stdout",
     "output_type": "stream",
     "text": [
      "Training Step: 1620  | total loss: \u001b[1m\u001b[32m0.06572\u001b[0m\u001b[0m | time: 104.969s\n\u001b[2K\r| SGD | epoch: 001 | loss: 0.06572 - acc: 0.9805 -- iter: 32400/55000\n"
     ]
    },
    {
     "name": "stdout",
     "output_type": "stream",
     "text": [
      "Training Step: 1621  | total loss: \u001b[1m\u001b[32m0.07419\u001b[0m\u001b[0m | time: 105.032s\n\u001b[2K\r| SGD | epoch: 001 | loss: 0.07419 - acc: 0.9724 -- iter: 32420/55000\n"
     ]
    },
    {
     "name": "stdout",
     "output_type": "stream",
     "text": [
      "Training Step: 1622  | total loss: \u001b[1m\u001b[32m0.10157\u001b[0m\u001b[0m | time: 105.110s\n\u001b[2K\r| SGD | epoch: 001 | loss: 0.10157 - acc: 0.9652 -- iter: 32440/55000\n"
     ]
    },
    {
     "name": "stdout",
     "output_type": "stream",
     "text": [
      "Training Step: 1623  | total loss: \u001b[1m\u001b[32m0.10005\u001b[0m\u001b[0m | time: 105.172s\n\u001b[2K\r| SGD | epoch: 001 | loss: 0.10005 - acc: 0.9637 -- iter: 32460/55000\n"
     ]
    },
    {
     "name": "stdout",
     "output_type": "stream",
     "text": [
      "Training Step: 1624  | total loss: \u001b[1m\u001b[32m0.09339\u001b[0m\u001b[0m | time: 105.250s\n\u001b[2K\r| SGD | epoch: 001 | loss: 0.09339 - acc: 0.9673 -- iter: 32480/55000\n"
     ]
    },
    {
     "name": "stdout",
     "output_type": "stream",
     "text": [
      "Training Step: 1625  | total loss: \u001b[1m\u001b[32m0.08461\u001b[0m\u001b[0m | time: 105.313s\n\u001b[2K\r| SGD | epoch: 001 | loss: 0.08461 - acc: 0.9706 -- iter: 32500/55000\n"
     ]
    },
    {
     "name": "stdout",
     "output_type": "stream",
     "text": [
      "Training Step: 1626  | total loss: \u001b[1m\u001b[32m0.07749\u001b[0m\u001b[0m | time: 105.375s\n\u001b[2K\r| SGD | epoch: 001 | loss: 0.07749 - acc: 0.9735 -- iter: 32520/55000\n"
     ]
    },
    {
     "name": "stdout",
     "output_type": "stream",
     "text": [
      "Training Step: 1627  | total loss: \u001b[1m\u001b[32m0.08270\u001b[0m\u001b[0m | time: 105.451s\n\u001b[2K\r| SGD | epoch: 001 | loss: 0.08270 - acc: 0.9712 -- iter: 32540/55000\n"
     ]
    },
    {
     "name": "stdout",
     "output_type": "stream",
     "text": [
      "Training Step: 1628  | total loss: \u001b[1m\u001b[32m0.08836\u001b[0m\u001b[0m | time: 105.506s\n\u001b[2K\r| SGD | epoch: 001 | loss: 0.08836 - acc: 0.9691 -- iter: 32560/55000\n"
     ]
    },
    {
     "name": "stdout",
     "output_type": "stream",
     "text": [
      "Training Step: 1629  | total loss: \u001b[1m\u001b[32m0.09709\u001b[0m\u001b[0m | time: 105.568s\n\u001b[2K\r| SGD | epoch: 001 | loss: 0.09709 - acc: 0.9672 -- iter: 32580/55000\n"
     ]
    },
    {
     "name": "stdout",
     "output_type": "stream",
     "text": [
      "Training Step: 1630  | total loss: \u001b[1m\u001b[32m0.09465\u001b[0m\u001b[0m | time: 105.631s\n\u001b[2K\r| SGD | epoch: 001 | loss: 0.09465 - acc: 0.9704 -- iter: 32600/55000\n"
     ]
    },
    {
     "name": "stdout",
     "output_type": "stream",
     "text": [
      "Training Step: 1631  | total loss: \u001b[1m\u001b[32m0.08965\u001b[0m\u001b[0m | time: 105.693s\n\u001b[2K\r| SGD | epoch: 001 | loss: 0.08965 - acc: 0.9734 -- iter: 32620/55000\n"
     ]
    },
    {
     "name": "stdout",
     "output_type": "stream",
     "text": [
      "Training Step: 1632  | total loss: \u001b[1m\u001b[32m0.11864\u001b[0m\u001b[0m | time: 105.771s\n\u001b[2K\r| SGD | epoch: 001 | loss: 0.11864 - acc: 0.9711 -- iter: 32640/55000\n"
     ]
    },
    {
     "name": "stdout",
     "output_type": "stream",
     "text": [
      "Training Step: 1633  | total loss: \u001b[1m\u001b[32m0.11148\u001b[0m\u001b[0m | time: 105.834s\n\u001b[2K\r| SGD | epoch: 001 | loss: 0.11148 - acc: 0.9739 -- iter: 32660/55000\n"
     ]
    },
    {
     "name": "stdout",
     "output_type": "stream",
     "text": [
      "Training Step: 1634  | total loss: \u001b[1m\u001b[32m0.10151\u001b[0m\u001b[0m | time: 105.896s\n\u001b[2K\r| SGD | epoch: 001 | loss: 0.10151 - acc: 0.9766 -- iter: 32680/55000\n"
     ]
    },
    {
     "name": "stdout",
     "output_type": "stream",
     "text": [
      "Training Step: 1635  | total loss: \u001b[1m\u001b[32m0.11201\u001b[0m\u001b[0m | time: 105.943s\n\u001b[2K\r| SGD | epoch: 001 | loss: 0.11201 - acc: 0.9689 -- iter: 32700/55000\n"
     ]
    },
    {
     "name": "stdout",
     "output_type": "stream",
     "text": [
      "Training Step: 1636  | total loss: \u001b[1m\u001b[32m0.11033\u001b[0m\u001b[0m | time: 106.006s\n\u001b[2K\r| SGD | epoch: 001 | loss: 0.11033 - acc: 0.9670 -- iter: 32720/55000\n"
     ]
    },
    {
     "name": "stdout",
     "output_type": "stream",
     "text": [
      "Training Step: 1637  | total loss: \u001b[1m\u001b[32m0.11111\u001b[0m\u001b[0m | time: 106.068s\n\u001b[2K\r| SGD | epoch: 001 | loss: 0.11111 - acc: 0.9653 -- iter: 32740/55000\n"
     ]
    },
    {
     "name": "stdout",
     "output_type": "stream",
     "text": [
      "Training Step: 1638  | total loss: \u001b[1m\u001b[32m0.10227\u001b[0m\u001b[0m | time: 106.146s\n\u001b[2K\r| SGD | epoch: 001 | loss: 0.10227 - acc: 0.9688 -- iter: 32760/55000\n"
     ]
    },
    {
     "name": "stdout",
     "output_type": "stream",
     "text": [
      "Training Step: 1639  | total loss: \u001b[1m\u001b[32m0.10370\u001b[0m\u001b[0m | time: 106.209s\n\u001b[2K\r| SGD | epoch: 001 | loss: 0.10370 - acc: 0.9669 -- iter: 32780/55000\n"
     ]
    },
    {
     "name": "stdout",
     "output_type": "stream",
     "text": [
      "Training Step: 1640  | total loss: \u001b[1m\u001b[32m0.09405\u001b[0m\u001b[0m | time: 106.287s\n\u001b[2K\r| SGD | epoch: 001 | loss: 0.09405 - acc: 0.9702 -- iter: 32800/55000\n"
     ]
    },
    {
     "name": "stdout",
     "output_type": "stream",
     "text": [
      "Training Step: 1641  | total loss: \u001b[1m\u001b[32m0.08688\u001b[0m\u001b[0m | time: 106.350s\n\u001b[2K\r| SGD | epoch: 001 | loss: 0.08688 - acc: 0.9732 -- iter: 32820/55000\n"
     ]
    },
    {
     "name": "stdout",
     "output_type": "stream",
     "text": [
      "Training Step: 1642  | total loss: \u001b[1m\u001b[32m0.07900\u001b[0m\u001b[0m | time: 106.421s\n\u001b[2K\r| SGD | epoch: 001 | loss: 0.07900 - acc: 0.9759 -- iter: 32840/55000\n"
     ]
    },
    {
     "name": "stdout",
     "output_type": "stream",
     "text": [
      "Training Step: 1643  | total loss: \u001b[1m\u001b[32m0.07542\u001b[0m\u001b[0m | time: 106.499s\n\u001b[2K\r| SGD | epoch: 001 | loss: 0.07542 - acc: 0.9783 -- iter: 32860/55000\n"
     ]
    },
    {
     "name": "stdout",
     "output_type": "stream",
     "text": [
      "Training Step: 1644  | total loss: \u001b[1m\u001b[32m0.07308\u001b[0m\u001b[0m | time: 106.562s\n\u001b[2K\r| SGD | epoch: 001 | loss: 0.07308 - acc: 0.9755 -- iter: 32880/55000\n"
     ]
    },
    {
     "name": "stdout",
     "output_type": "stream",
     "text": [
      "Training Step: 1645  | total loss: \u001b[1m\u001b[32m0.06687\u001b[0m\u001b[0m | time: 106.640s\n\u001b[2K\r| SGD | epoch: 001 | loss: 0.06687 - acc: 0.9779 -- iter: 32900/55000\n"
     ]
    },
    {
     "name": "stdout",
     "output_type": "stream",
     "text": [
      "Training Step: 1646  | total loss: \u001b[1m\u001b[32m0.06594\u001b[0m\u001b[0m | time: 106.718s\n\u001b[2K\r| SGD | epoch: 001 | loss: 0.06594 - acc: 0.9801 -- iter: 32920/55000\n"
     ]
    },
    {
     "name": "stdout",
     "output_type": "stream",
     "text": [
      "Training Step: 1647  | total loss: \u001b[1m\u001b[32m0.06338\u001b[0m\u001b[0m | time: 106.780s\n\u001b[2K\r| SGD | epoch: 001 | loss: 0.06338 - acc: 0.9821 -- iter: 32940/55000\n"
     ]
    },
    {
     "name": "stdout",
     "output_type": "stream",
     "text": [
      "Training Step: 1648  | total loss: \u001b[1m\u001b[32m0.07589\u001b[0m\u001b[0m | time: 106.859s\n\u001b[2K\r| SGD | epoch: 001 | loss: 0.07589 - acc: 0.9789 -- iter: 32960/55000\n"
     ]
    },
    {
     "name": "stdout",
     "output_type": "stream",
     "text": [
      "Training Step: 1649  | total loss: \u001b[1m\u001b[32m0.08303\u001b[0m\u001b[0m | time: 106.921s\n\u001b[2K\r| SGD | epoch: 001 | loss: 0.08303 - acc: 0.9760 -- iter: 32980/55000\n"
     ]
    },
    {
     "name": "stdout",
     "output_type": "stream",
     "text": [
      "Training Step: 1650  | total loss: \u001b[1m\u001b[32m0.07525\u001b[0m\u001b[0m | time: 106.999s\n\u001b[2K\r| SGD | epoch: 001 | loss: 0.07525 - acc: 0.9784 -- iter: 33000/55000\n"
     ]
    },
    {
     "name": "stdout",
     "output_type": "stream",
     "text": [
      "Training Step: 1651  | total loss: \u001b[1m\u001b[32m0.06899\u001b[0m\u001b[0m | time: 107.062s\n\u001b[2K\r| SGD | epoch: 001 | loss: 0.06899 - acc: 0.9806 -- iter: 33020/55000\n"
     ]
    },
    {
     "name": "stdout",
     "output_type": "stream",
     "text": [
      "Training Step: 1652  | total loss: \u001b[1m\u001b[32m0.06429\u001b[0m\u001b[0m | time: 107.140s\n\u001b[2K\r| SGD | epoch: 001 | loss: 0.06429 - acc: 0.9825 -- iter: 33040/55000\n"
     ]
    },
    {
     "name": "stdout",
     "output_type": "stream",
     "text": [
      "Training Step: 1653  | total loss: \u001b[1m\u001b[32m0.05835\u001b[0m\u001b[0m | time: 107.202s\n\u001b[2K\r| SGD | epoch: 001 | loss: 0.05835 - acc: 0.9843 -- iter: 33060/55000\n"
     ]
    },
    {
     "name": "stdout",
     "output_type": "stream",
     "text": [
      "Training Step: 1654  | total loss: \u001b[1m\u001b[32m0.05363\u001b[0m\u001b[0m | time: 107.280s\n\u001b[2K\r| SGD | epoch: 001 | loss: 0.05363 - acc: 0.9858 -- iter: 33080/55000\n"
     ]
    },
    {
     "name": "stdout",
     "output_type": "stream",
     "text": [
      "Training Step: 1655  | total loss: \u001b[1m\u001b[32m0.05609\u001b[0m\u001b[0m | time: 107.359s\n\u001b[2K\r| SGD | epoch: 001 | loss: 0.05609 - acc: 0.9822 -- iter: 33100/55000\n"
     ]
    },
    {
     "name": "stdout",
     "output_type": "stream",
     "text": [
      "Training Step: 1656  | total loss: \u001b[1m\u001b[32m0.05567\u001b[0m\u001b[0m | time: 107.425s\n\u001b[2K\r| SGD | epoch: 001 | loss: 0.05567 - acc: 0.9840 -- iter: 33120/55000\n"
     ]
    },
    {
     "name": "stdout",
     "output_type": "stream",
     "text": [
      "Training Step: 1657  | total loss: \u001b[1m\u001b[32m0.05103\u001b[0m\u001b[0m | time: 107.488s\n\u001b[2K\r| SGD | epoch: 001 | loss: 0.05103 - acc: 0.9856 -- iter: 33140/55000\n"
     ]
    },
    {
     "name": "stdout",
     "output_type": "stream",
     "text": [
      "Training Step: 1658  | total loss: \u001b[1m\u001b[32m0.04657\u001b[0m\u001b[0m | time: 107.566s\n\u001b[2K\r| SGD | epoch: 001 | loss: 0.04657 - acc: 0.9871 -- iter: 33160/55000\n"
     ]
    },
    {
     "name": "stdout",
     "output_type": "stream",
     "text": [
      "Training Step: 1659  | total loss: \u001b[1m\u001b[32m0.04225\u001b[0m\u001b[0m | time: 107.628s\n\u001b[2K\r| SGD | epoch: 001 | loss: 0.04225 - acc: 0.9884 -- iter: 33180/55000\n"
     ]
    },
    {
     "name": "stdout",
     "output_type": "stream",
     "text": [
      "Training Step: 1660  | total loss: \u001b[1m\u001b[32m0.03848\u001b[0m\u001b[0m | time: 107.706s\n\u001b[2K\r| SGD | epoch: 001 | loss: 0.03848 - acc: 0.9895 -- iter: 33200/55000\n"
     ]
    },
    {
     "name": "stdout",
     "output_type": "stream",
     "text": [
      "Training Step: 1661  | total loss: \u001b[1m\u001b[32m0.03482\u001b[0m\u001b[0m | time: 107.769s\n\u001b[2K\r| SGD | epoch: 001 | loss: 0.03482 - acc: 0.9906 -- iter: 33220/55000\n"
     ]
    },
    {
     "name": "stdout",
     "output_type": "stream",
     "text": [
      "Training Step: 1662  | total loss: \u001b[1m\u001b[32m0.05293\u001b[0m\u001b[0m | time: 107.831s\n\u001b[2K\r| SGD | epoch: 001 | loss: 0.05293 - acc: 0.9865 -- iter: 33240/55000\n"
     ]
    },
    {
     "name": "stdout",
     "output_type": "stream",
     "text": [
      "Training Step: 1663  | total loss: \u001b[1m\u001b[32m0.05649\u001b[0m\u001b[0m | time: 107.894s\n\u001b[2K\r| SGD | epoch: 001 | loss: 0.05649 - acc: 0.9829 -- iter: 33260/55000\n"
     ]
    },
    {
     "name": "stdout",
     "output_type": "stream",
     "text": [
      "Training Step: 1664  | total loss: \u001b[1m\u001b[32m0.05138\u001b[0m\u001b[0m | time: 107.956s\n\u001b[2K\r| SGD | epoch: 001 | loss: 0.05138 - acc: 0.9846 -- iter: 33280/55000\n"
     ]
    },
    {
     "name": "stdout",
     "output_type": "stream",
     "text": [
      "Training Step: 1665  | total loss: \u001b[1m\u001b[32m0.05847\u001b[0m\u001b[0m | time: 108.019s\n\u001b[2K\r| SGD | epoch: 001 | loss: 0.05847 - acc: 0.9861 -- iter: 33300/55000\n"
     ]
    },
    {
     "name": "stdout",
     "output_type": "stream",
     "text": [
      "Training Step: 1666  | total loss: \u001b[1m\u001b[32m0.05776\u001b[0m\u001b[0m | time: 108.081s\n\u001b[2K\r| SGD | epoch: 001 | loss: 0.05776 - acc: 0.9875 -- iter: 33320/55000\n"
     ]
    },
    {
     "name": "stdout",
     "output_type": "stream",
     "text": [
      "Training Step: 1667  | total loss: \u001b[1m\u001b[32m0.05403\u001b[0m\u001b[0m | time: 108.160s\n\u001b[2K\r| SGD | epoch: 001 | loss: 0.05403 - acc: 0.9888 -- iter: 33340/55000\n"
     ]
    },
    {
     "name": "stdout",
     "output_type": "stream",
     "text": [
      "Training Step: 1668  | total loss: \u001b[1m\u001b[32m0.04946\u001b[0m\u001b[0m | time: 108.222s\n\u001b[2K\r| SGD | epoch: 001 | loss: 0.04946 - acc: 0.9899 -- iter: 33360/55000\n"
     ]
    },
    {
     "name": "stdout",
     "output_type": "stream",
     "text": [
      "Training Step: 1669  | total loss: \u001b[1m\u001b[32m0.04726\u001b[0m\u001b[0m | time: 108.285s\n\u001b[2K\r| SGD | epoch: 001 | loss: 0.04726 - acc: 0.9909 -- iter: 33380/55000\n"
     ]
    },
    {
     "name": "stdout",
     "output_type": "stream",
     "text": [
      "Training Step: 1670  | total loss: \u001b[1m\u001b[32m0.04431\u001b[0m\u001b[0m | time: 108.362s\n\u001b[2K\r| SGD | epoch: 001 | loss: 0.04431 - acc: 0.9918 -- iter: 33400/55000\n"
     ]
    },
    {
     "name": "stdout",
     "output_type": "stream",
     "text": [
      "Training Step: 1671  | total loss: \u001b[1m\u001b[32m0.04197\u001b[0m\u001b[0m | time: 108.417s\n\u001b[2K\r| SGD | epoch: 001 | loss: 0.04197 - acc: 0.9926 -- iter: 33420/55000\n"
     ]
    },
    {
     "name": "stdout",
     "output_type": "stream",
     "text": [
      "Training Step: 1672  | total loss: \u001b[1m\u001b[32m0.04423\u001b[0m\u001b[0m | time: 108.480s\n\u001b[2K\r| SGD | epoch: 001 | loss: 0.04423 - acc: 0.9934 -- iter: 33440/55000\n"
     ]
    },
    {
     "name": "stdout",
     "output_type": "stream",
     "text": [
      "Training Step: 1673  | total loss: \u001b[1m\u001b[32m0.06159\u001b[0m\u001b[0m | time: 108.542s\n\u001b[2K\r| SGD | epoch: 001 | loss: 0.06159 - acc: 0.9890 -- iter: 33460/55000\n"
     ]
    },
    {
     "name": "stdout",
     "output_type": "stream",
     "text": [
      "Training Step: 1674  | total loss: \u001b[1m\u001b[32m0.08497\u001b[0m\u001b[0m | time: 108.636s\n\u001b[2K\r| SGD | epoch: 001 | loss: 0.08497 - acc: 0.9851 -- iter: 33480/55000\n"
     ]
    },
    {
     "name": "stdout",
     "output_type": "stream",
     "text": [
      "Training Step: 1675  | total loss: \u001b[1m\u001b[32m0.09317\u001b[0m\u001b[0m | time: 108.698s\n\u001b[2K\r| SGD | epoch: 001 | loss: 0.09317 - acc: 0.9816 -- iter: 33500/55000\n"
     ]
    },
    {
     "name": "stdout",
     "output_type": "stream",
     "text": [
      "Training Step: 1676  | total loss: \u001b[1m\u001b[32m0.09536\u001b[0m\u001b[0m | time: 108.776s\n\u001b[2K\r| SGD | epoch: 001 | loss: 0.09536 - acc: 0.9784 -- iter: 33520/55000\n"
     ]
    },
    {
     "name": "stdout",
     "output_type": "stream",
     "text": [
      "Training Step: 1677  | total loss: \u001b[1m\u001b[32m0.09125\u001b[0m\u001b[0m | time: 108.855s\n\u001b[2K\r| SGD | epoch: 001 | loss: 0.09125 - acc: 0.9756 -- iter: 33540/55000\n"
     ]
    },
    {
     "name": "stdout",
     "output_type": "stream",
     "text": [
      "Training Step: 1678  | total loss: \u001b[1m\u001b[32m0.08271\u001b[0m\u001b[0m | time: 108.917s\n\u001b[2K\r| SGD | epoch: 001 | loss: 0.08271 - acc: 0.9780 -- iter: 33560/55000\n"
     ]
    },
    {
     "name": "stdout",
     "output_type": "stream",
     "text": [
      "Training Step: 1679  | total loss: \u001b[1m\u001b[32m0.08082\u001b[0m\u001b[0m | time: 108.995s\n\u001b[2K\r| SGD | epoch: 001 | loss: 0.08082 - acc: 0.9752 -- iter: 33580/55000\n"
     ]
    },
    {
     "name": "stdout",
     "output_type": "stream",
     "text": [
      "Training Step: 1680  | total loss: \u001b[1m\u001b[32m0.07334\u001b[0m\u001b[0m | time: 109.058s\n\u001b[2K\r| SGD | epoch: 001 | loss: 0.07334 - acc: 0.9777 -- iter: 33600/55000\n"
     ]
    },
    {
     "name": "stdout",
     "output_type": "stream",
     "text": [
      "Training Step: 1681  | total loss: \u001b[1m\u001b[32m0.06732\u001b[0m\u001b[0m | time: 109.136s\n\u001b[2K\r| SGD | epoch: 001 | loss: 0.06732 - acc: 0.9799 -- iter: 33620/55000\n"
     ]
    },
    {
     "name": "stdout",
     "output_type": "stream",
     "text": [
      "Training Step: 1682  | total loss: \u001b[1m\u001b[32m0.06594\u001b[0m\u001b[0m | time: 109.214s\n\u001b[2K\r| SGD | epoch: 001 | loss: 0.06594 - acc: 0.9769 -- iter: 33640/55000\n"
     ]
    },
    {
     "name": "stdout",
     "output_type": "stream",
     "text": [
      "Training Step: 1683  | total loss: \u001b[1m\u001b[32m0.06777\u001b[0m\u001b[0m | time: 109.276s\n\u001b[2K\r| SGD | epoch: 001 | loss: 0.06777 - acc: 0.9743 -- iter: 33660/55000\n"
     ]
    },
    {
     "name": "stdout",
     "output_type": "stream",
     "text": [
      "Training Step: 1684  | total loss: \u001b[1m\u001b[32m0.07764\u001b[0m\u001b[0m | time: 109.358s\n\u001b[2K\r| SGD | epoch: 001 | loss: 0.07764 - acc: 0.9668 -- iter: 33680/55000\n"
     ]
    },
    {
     "name": "stdout",
     "output_type": "stream",
     "text": [
      "Training Step: 1685  | total loss: \u001b[1m\u001b[32m0.07090\u001b[0m\u001b[0m | time: 109.431s\n\u001b[2K\r| SGD | epoch: 001 | loss: 0.07090 - acc: 0.9701 -- iter: 33700/55000\n"
     ]
    },
    {
     "name": "stdout",
     "output_type": "stream",
     "text": [
      "Training Step: 1686  | total loss: \u001b[1m\u001b[32m0.06862\u001b[0m\u001b[0m | time: 109.493s\n\u001b[2K\r| SGD | epoch: 001 | loss: 0.06862 - acc: 0.9731 -- iter: 33720/55000\n"
     ]
    },
    {
     "name": "stdout",
     "output_type": "stream",
     "text": [
      "Training Step: 1687  | total loss: \u001b[1m\u001b[32m0.06337\u001b[0m\u001b[0m | time: 109.571s\n\u001b[2K\r| SGD | epoch: 001 | loss: 0.06337 - acc: 0.9758 -- iter: 33740/55000\n"
     ]
    },
    {
     "name": "stdout",
     "output_type": "stream",
     "text": [
      "Training Step: 1688  | total loss: \u001b[1m\u001b[32m0.06224\u001b[0m\u001b[0m | time: 109.634s\n\u001b[2K\r| SGD | epoch: 001 | loss: 0.06224 - acc: 0.9782 -- iter: 33760/55000\n"
     ]
    },
    {
     "name": "stdout",
     "output_type": "stream",
     "text": [
      "Training Step: 1689  | total loss: \u001b[1m\u001b[32m0.05914\u001b[0m\u001b[0m | time: 109.696s\n\u001b[2K\r| SGD | epoch: 001 | loss: 0.05914 - acc: 0.9804 -- iter: 33780/55000\n"
     ]
    },
    {
     "name": "stdout",
     "output_type": "stream",
     "text": [
      "Training Step: 1690  | total loss: \u001b[1m\u001b[32m0.07245\u001b[0m\u001b[0m | time: 109.775s\n\u001b[2K\r| SGD | epoch: 001 | loss: 0.07245 - acc: 0.9774 -- iter: 33800/55000\n"
     ]
    },
    {
     "name": "stdout",
     "output_type": "stream",
     "text": [
      "Training Step: 1691  | total loss: \u001b[1m\u001b[32m0.10322\u001b[0m\u001b[0m | time: 109.837s\n\u001b[2K\r| SGD | epoch: 001 | loss: 0.10322 - acc: 0.9596 -- iter: 33820/55000\n"
     ]
    },
    {
     "name": "stdout",
     "output_type": "stream",
     "text": [
      "Training Step: 1692  | total loss: \u001b[1m\u001b[32m0.09334\u001b[0m\u001b[0m | time: 109.915s\n\u001b[2K\r| SGD | epoch: 001 | loss: 0.09334 - acc: 0.9637 -- iter: 33840/55000\n"
     ]
    },
    {
     "name": "stdout",
     "output_type": "stream",
     "text": [
      "Training Step: 1693  | total loss: \u001b[1m\u001b[32m0.09304\u001b[0m\u001b[0m | time: 109.978s\n\u001b[2K\r| SGD | epoch: 001 | loss: 0.09304 - acc: 0.9623 -- iter: 33860/55000\n"
     ]
    },
    {
     "name": "stdout",
     "output_type": "stream",
     "text": [
      "Training Step: 1694  | total loss: \u001b[1m\u001b[32m0.08419\u001b[0m\u001b[0m | time: 110.040s\n\u001b[2K\r| SGD | epoch: 001 | loss: 0.08419 - acc: 0.9661 -- iter: 33880/55000\n"
     ]
    },
    {
     "name": "stdout",
     "output_type": "stream",
     "text": [
      "Training Step: 1695  | total loss: \u001b[1m\u001b[32m0.08132\u001b[0m\u001b[0m | time: 110.103s\n\u001b[2K\r| SGD | epoch: 001 | loss: 0.08132 - acc: 0.9695 -- iter: 33900/55000\n"
     ]
    },
    {
     "name": "stdout",
     "output_type": "stream",
     "text": [
      "Training Step: 1696  | total loss: \u001b[1m\u001b[32m0.08555\u001b[0m\u001b[0m | time: 110.165s\n\u001b[2K\r| SGD | epoch: 001 | loss: 0.08555 - acc: 0.9675 -- iter: 33920/55000\n"
     ]
    },
    {
     "name": "stdout",
     "output_type": "stream",
     "text": [
      "Training Step: 1697  | total loss: \u001b[1m\u001b[32m0.07845\u001b[0m\u001b[0m | time: 110.212s\n\u001b[2K\r| SGD | epoch: 001 | loss: 0.07845 - acc: 0.9708 -- iter: 33940/55000\n"
     ]
    },
    {
     "name": "stdout",
     "output_type": "stream",
     "text": [
      "Training Step: 1698  | total loss: \u001b[1m\u001b[32m0.09019\u001b[0m\u001b[0m | time: 110.275s\n\u001b[2K\r| SGD | epoch: 001 | loss: 0.09019 - acc: 0.9587 -- iter: 33960/55000\n"
     ]
    },
    {
     "name": "stdout",
     "output_type": "stream",
     "text": [
      "Training Step: 1699  | total loss: \u001b[1m\u001b[32m0.09028\u001b[0m\u001b[0m | time: 110.348s\n\u001b[2K\r| SGD | epoch: 001 | loss: 0.09028 - acc: 0.9578 -- iter: 33980/55000\n"
     ]
    },
    {
     "name": "stdout",
     "output_type": "stream",
     "text": [
      "Training Step: 1700  | total loss: \u001b[1m\u001b[32m0.08196\u001b[0m\u001b[0m | time: 110.407s\n\u001b[2K\r| SGD | epoch: 001 | loss: 0.08196 - acc: 0.9620 -- iter: 34000/55000\n"
     ]
    },
    {
     "name": "stdout",
     "output_type": "stream",
     "text": [
      "Training Step: 1701  | total loss: \u001b[1m\u001b[32m0.07687\u001b[0m\u001b[0m | time: 110.469s\n\u001b[2K\r| SGD | epoch: 001 | loss: 0.07687 - acc: 0.9658 -- iter: 34020/55000\n"
     ]
    },
    {
     "name": "stdout",
     "output_type": "stream",
     "text": [
      "Training Step: 1702  | total loss: \u001b[1m\u001b[32m0.07134\u001b[0m\u001b[0m | time: 110.548s\n\u001b[2K\r| SGD | epoch: 001 | loss: 0.07134 - acc: 0.9693 -- iter: 34040/55000\n"
     ]
    },
    {
     "name": "stdout",
     "output_type": "stream",
     "text": [
      "Training Step: 1703  | total loss: \u001b[1m\u001b[32m0.06613\u001b[0m\u001b[0m | time: 110.610s\n\u001b[2K\r| SGD | epoch: 001 | loss: 0.06613 - acc: 0.9723 -- iter: 34060/55000\n"
     ]
    },
    {
     "name": "stdout",
     "output_type": "stream",
     "text": [
      "Training Step: 1704  | total loss: \u001b[1m\u001b[32m0.07579\u001b[0m\u001b[0m | time: 110.673s\n\u001b[2K\r| SGD | epoch: 001 | loss: 0.07579 - acc: 0.9651 -- iter: 34080/55000\n"
     ]
    },
    {
     "name": "stdout",
     "output_type": "stream",
     "text": [
      "Training Step: 1705  | total loss: \u001b[1m\u001b[32m0.06844\u001b[0m\u001b[0m | time: 110.735s\n\u001b[2K\r| SGD | epoch: 001 | loss: 0.06844 - acc: 0.9686 -- iter: 34100/55000\n"
     ]
    },
    {
     "name": "stdout",
     "output_type": "stream",
     "text": [
      "Training Step: 1706  | total loss: \u001b[1m\u001b[32m0.06365\u001b[0m\u001b[0m | time: 110.798s\n\u001b[2K\r| SGD | epoch: 001 | loss: 0.06365 - acc: 0.9717 -- iter: 34120/55000\n"
     ]
    },
    {
     "name": "stdout",
     "output_type": "stream",
     "text": [
      "Training Step: 1707  | total loss: \u001b[1m\u001b[32m0.08195\u001b[0m\u001b[0m | time: 110.876s\n\u001b[2K\r| SGD | epoch: 001 | loss: 0.08195 - acc: 0.9646 -- iter: 34140/55000\n"
     ]
    },
    {
     "name": "stdout",
     "output_type": "stream",
     "text": [
      "Training Step: 1708  | total loss: \u001b[1m\u001b[32m0.09529\u001b[0m\u001b[0m | time: 110.938s\n\u001b[2K\r| SGD | epoch: 001 | loss: 0.09529 - acc: 0.9631 -- iter: 34160/55000\n"
     ]
    },
    {
     "name": "stdout",
     "output_type": "stream",
     "text": [
      "Training Step: 1709  | total loss: \u001b[1m\u001b[32m0.08824\u001b[0m\u001b[0m | time: 111.016s\n\u001b[2K\r| SGD | epoch: 001 | loss: 0.08824 - acc: 0.9668 -- iter: 34180/55000\n"
     ]
    },
    {
     "name": "stdout",
     "output_type": "stream",
     "text": [
      "Training Step: 1710  | total loss: \u001b[1m\u001b[32m0.08851\u001b[0m\u001b[0m | time: 111.094s\n\u001b[2K\r| SGD | epoch: 001 | loss: 0.08851 - acc: 0.9651 -- iter: 34200/55000\n"
     ]
    },
    {
     "name": "stdout",
     "output_type": "stream",
     "text": [
      "Training Step: 1711  | total loss: \u001b[1m\u001b[32m0.08297\u001b[0m\u001b[0m | time: 111.157s\n\u001b[2K\r| SGD | epoch: 001 | loss: 0.08297 - acc: 0.9686 -- iter: 34220/55000\n"
     ]
    },
    {
     "name": "stdout",
     "output_type": "stream",
     "text": [
      "Training Step: 1712  | total loss: \u001b[1m\u001b[32m0.08752\u001b[0m\u001b[0m | time: 111.219s\n\u001b[2K\r| SGD | epoch: 001 | loss: 0.08752 - acc: 0.9667 -- iter: 34240/55000\n"
     ]
    },
    {
     "name": "stdout",
     "output_type": "stream",
     "text": [
      "Training Step: 1713  | total loss: \u001b[1m\u001b[32m0.08348\u001b[0m\u001b[0m | time: 111.305s\n\u001b[2K\r| SGD | epoch: 001 | loss: 0.08348 - acc: 0.9701 -- iter: 34260/55000\n"
     ]
    },
    {
     "name": "stdout",
     "output_type": "stream",
     "text": [
      "Training Step: 1714  | total loss: \u001b[1m\u001b[32m0.07631\u001b[0m\u001b[0m | time: 111.376s\n\u001b[2K\r| SGD | epoch: 001 | loss: 0.07631 - acc: 0.9731 -- iter: 34280/55000\n"
     ]
    },
    {
     "name": "stdout",
     "output_type": "stream",
     "text": [
      "Training Step: 1715  | total loss: \u001b[1m\u001b[32m0.08690\u001b[0m\u001b[0m | time: 111.438s\n\u001b[2K\r| SGD | epoch: 001 | loss: 0.08690 - acc: 0.9658 -- iter: 34300/55000\n"
     ]
    },
    {
     "name": "stdout",
     "output_type": "stream",
     "text": [
      "Training Step: 1716  | total loss: \u001b[1m\u001b[32m0.07960\u001b[0m\u001b[0m | time: 111.501s\n\u001b[2K\r| SGD | epoch: 001 | loss: 0.07960 - acc: 0.9692 -- iter: 34320/55000\n"
     ]
    },
    {
     "name": "stdout",
     "output_type": "stream",
     "text": [
      "Training Step: 1717  | total loss: \u001b[1m\u001b[32m0.07377\u001b[0m\u001b[0m | time: 111.563s\n\u001b[2K\r| SGD | epoch: 001 | loss: 0.07377 - acc: 0.9723 -- iter: 34340/55000\n"
     ]
    },
    {
     "name": "stdout",
     "output_type": "stream",
     "text": [
      "Training Step: 1718  | total loss: \u001b[1m\u001b[32m0.08080\u001b[0m\u001b[0m | time: 111.626s\n\u001b[2K\r| SGD | epoch: 001 | loss: 0.08080 - acc: 0.9700 -- iter: 34360/55000\n"
     ]
    },
    {
     "name": "stdout",
     "output_type": "stream",
     "text": [
      "Training Step: 1719  | total loss: \u001b[1m\u001b[32m0.07994\u001b[0m\u001b[0m | time: 111.704s\n\u001b[2K\r| SGD | epoch: 001 | loss: 0.07994 - acc: 0.9730 -- iter: 34380/55000\n"
     ]
    },
    {
     "name": "stdout",
     "output_type": "stream",
     "text": [
      "Training Step: 1720  | total loss: \u001b[1m\u001b[32m0.07618\u001b[0m\u001b[0m | time: 111.766s\n\u001b[2K\r| SGD | epoch: 001 | loss: 0.07618 - acc: 0.9757 -- iter: 34400/55000\n"
     ]
    },
    {
     "name": "stdout",
     "output_type": "stream",
     "text": [
      "Training Step: 1721  | total loss: \u001b[1m\u001b[32m0.06874\u001b[0m\u001b[0m | time: 111.845s\n\u001b[2K\r| SGD | epoch: 001 | loss: 0.06874 - acc: 0.9782 -- iter: 34420/55000\n"
     ]
    },
    {
     "name": "stdout",
     "output_type": "stream",
     "text": [
      "Training Step: 1722  | total loss: \u001b[1m\u001b[32m0.06300\u001b[0m\u001b[0m | time: 111.923s\n\u001b[2K\r| SGD | epoch: 001 | loss: 0.06300 - acc: 0.9803 -- iter: 34440/55000\n"
     ]
    },
    {
     "name": "stdout",
     "output_type": "stream",
     "text": [
      "Training Step: 1723  | total loss: \u001b[1m\u001b[32m0.05831\u001b[0m\u001b[0m | time: 111.985s\n\u001b[2K\r| SGD | epoch: 001 | loss: 0.05831 - acc: 0.9823 -- iter: 34460/55000\n"
     ]
    },
    {
     "name": "stdout",
     "output_type": "stream",
     "text": [
      "Training Step: 1724  | total loss: \u001b[1m\u001b[32m0.05413\u001b[0m\u001b[0m | time: 112.048s\n\u001b[2K\r| SGD | epoch: 001 | loss: 0.05413 - acc: 0.9841 -- iter: 34480/55000\n"
     ]
    },
    {
     "name": "stdout",
     "output_type": "stream",
     "text": [
      "Training Step: 1725  | total loss: \u001b[1m\u001b[32m0.05024\u001b[0m\u001b[0m | time: 112.110s\n\u001b[2K\r| SGD | epoch: 001 | loss: 0.05024 - acc: 0.9857 -- iter: 34500/55000\n"
     ]
    },
    {
     "name": "stdout",
     "output_type": "stream",
     "text": [
      "Training Step: 1726  | total loss: \u001b[1m\u001b[32m0.04556\u001b[0m\u001b[0m | time: 112.173s\n\u001b[2K\r| SGD | epoch: 001 | loss: 0.04556 - acc: 0.9871 -- iter: 34520/55000\n"
     ]
    },
    {
     "name": "stdout",
     "output_type": "stream",
     "text": [
      "Training Step: 1727  | total loss: \u001b[1m\u001b[32m0.04143\u001b[0m\u001b[0m | time: 112.245s\n\u001b[2K\r| SGD | epoch: 001 | loss: 0.04143 - acc: 0.9884 -- iter: 34540/55000\n"
     ]
    },
    {
     "name": "stdout",
     "output_type": "stream",
     "text": [
      "Training Step: 1728  | total loss: \u001b[1m\u001b[32m0.03781\u001b[0m\u001b[0m | time: 112.300s\n\u001b[2K\r| SGD | epoch: 001 | loss: 0.03781 - acc: 0.9896 -- iter: 34560/55000\n"
     ]
    },
    {
     "name": "stdout",
     "output_type": "stream",
     "text": [
      "Training Step: 1729  | total loss: \u001b[1m\u001b[32m0.03656\u001b[0m\u001b[0m | time: 112.362s\n\u001b[2K\r| SGD | epoch: 001 | loss: 0.03656 - acc: 0.9906 -- iter: 34580/55000\n"
     ]
    },
    {
     "name": "stdout",
     "output_type": "stream",
     "text": [
      "Training Step: 1730  | total loss: \u001b[1m\u001b[32m0.03302\u001b[0m\u001b[0m | time: 112.425s\n\u001b[2K\r| SGD | epoch: 001 | loss: 0.03302 - acc: 0.9915 -- iter: 34600/55000\n"
     ]
    },
    {
     "name": "stdout",
     "output_type": "stream",
     "text": [
      "Training Step: 1731  | total loss: \u001b[1m\u001b[32m0.05523\u001b[0m\u001b[0m | time: 112.503s\n\u001b[2K\r| SGD | epoch: 001 | loss: 0.05523 - acc: 0.9874 -- iter: 34620/55000\n"
     ]
    },
    {
     "name": "stdout",
     "output_type": "stream",
     "text": [
      "Training Step: 1732  | total loss: \u001b[1m\u001b[32m0.06053\u001b[0m\u001b[0m | time: 112.566s\n\u001b[2K\r| SGD | epoch: 001 | loss: 0.06053 - acc: 0.9836 -- iter: 34640/55000\n"
     ]
    },
    {
     "name": "stdout",
     "output_type": "stream",
     "text": [
      "Training Step: 1733  | total loss: \u001b[1m\u001b[32m0.05610\u001b[0m\u001b[0m | time: 112.628s\n\u001b[2K\r| SGD | epoch: 001 | loss: 0.05610 - acc: 0.9853 -- iter: 34660/55000\n"
     ]
    },
    {
     "name": "stdout",
     "output_type": "stream",
     "text": [
      "Training Step: 1734  | total loss: \u001b[1m\u001b[32m0.05670\u001b[0m\u001b[0m | time: 112.691s\n\u001b[2K\r| SGD | epoch: 001 | loss: 0.05670 - acc: 0.9818 -- iter: 34680/55000\n"
     ]
    },
    {
     "name": "stdout",
     "output_type": "stream",
     "text": [
      "Training Step: 1735  | total loss: \u001b[1m\u001b[32m0.06254\u001b[0m\u001b[0m | time: 112.753s\n\u001b[2K\r| SGD | epoch: 001 | loss: 0.06254 - acc: 0.9736 -- iter: 34700/55000\n"
     ]
    },
    {
     "name": "stdout",
     "output_type": "stream",
     "text": [
      "Training Step: 1736  | total loss: \u001b[1m\u001b[32m0.06206\u001b[0m\u001b[0m | time: 112.831s\n\u001b[2K\r| SGD | epoch: 001 | loss: 0.06206 - acc: 0.9712 -- iter: 34720/55000\n"
     ]
    },
    {
     "name": "stdout",
     "output_type": "stream",
     "text": [
      "Training Step: 1737  | total loss: \u001b[1m\u001b[32m0.05971\u001b[0m\u001b[0m | time: 112.894s\n\u001b[2K\r| SGD | epoch: 001 | loss: 0.05971 - acc: 0.9741 -- iter: 34740/55000\n"
     ]
    },
    {
     "name": "stdout",
     "output_type": "stream",
     "text": [
      "Training Step: 1738  | total loss: \u001b[1m\u001b[32m0.05430\u001b[0m\u001b[0m | time: 112.956s\n\u001b[2K\r| SGD | epoch: 001 | loss: 0.05430 - acc: 0.9767 -- iter: 34760/55000\n"
     ]
    },
    {
     "name": "stdout",
     "output_type": "stream",
     "text": [
      "Training Step: 1739  | total loss: \u001b[1m\u001b[32m0.06822\u001b[0m\u001b[0m | time: 113.034s\n\u001b[2K\r| SGD | epoch: 001 | loss: 0.06822 - acc: 0.9740 -- iter: 34780/55000\n"
     ]
    },
    {
     "name": "stdout",
     "output_type": "stream",
     "text": [
      "Training Step: 1740  | total loss: \u001b[1m\u001b[32m0.06644\u001b[0m\u001b[0m | time: 113.112s\n\u001b[2K\r| SGD | epoch: 001 | loss: 0.06644 - acc: 0.9766 -- iter: 34800/55000\n"
     ]
    },
    {
     "name": "stdout",
     "output_type": "stream",
     "text": [
      "Training Step: 1741  | total loss: \u001b[1m\u001b[32m0.06574\u001b[0m\u001b[0m | time: 113.191s\n\u001b[2K\r| SGD | epoch: 001 | loss: 0.06574 - acc: 0.9790 -- iter: 34820/55000\n"
     ]
    },
    {
     "name": "stdout",
     "output_type": "stream",
     "text": [
      "Training Step: 1742  | total loss: \u001b[1m\u001b[32m0.05984\u001b[0m\u001b[0m | time: 113.259s\n\u001b[2K\r| SGD | epoch: 001 | loss: 0.05984 - acc: 0.9811 -- iter: 34840/55000\n"
     ]
    },
    {
     "name": "stdout",
     "output_type": "stream",
     "text": [
      "Training Step: 1743  | total loss: \u001b[1m\u001b[32m0.05936\u001b[0m\u001b[0m | time: 113.314s\n\u001b[2K\r| SGD | epoch: 001 | loss: 0.05936 - acc: 0.9780 -- iter: 34860/55000\n"
     ]
    },
    {
     "name": "stdout",
     "output_type": "stream",
     "text": [
      "Training Step: 1744  | total loss: \u001b[1m\u001b[32m0.05419\u001b[0m\u001b[0m | time: 113.377s\n\u001b[2K\r| SGD | epoch: 001 | loss: 0.05419 - acc: 0.9802 -- iter: 34880/55000\n"
     ]
    },
    {
     "name": "stdout",
     "output_type": "stream",
     "text": [
      "Training Step: 1745  | total loss: \u001b[1m\u001b[32m0.04920\u001b[0m\u001b[0m | time: 113.439s\n\u001b[2K\r| SGD | epoch: 001 | loss: 0.04920 - acc: 0.9821 -- iter: 34900/55000\n"
     ]
    },
    {
     "name": "stdout",
     "output_type": "stream",
     "text": [
      "Training Step: 1746  | total loss: \u001b[1m\u001b[32m0.04479\u001b[0m\u001b[0m | time: 113.502s\n\u001b[2K\r| SGD | epoch: 001 | loss: 0.04479 - acc: 0.9839 -- iter: 34920/55000\n"
     ]
    },
    {
     "name": "stdout",
     "output_type": "stream",
     "text": [
      "Training Step: 1747  | total loss: \u001b[1m\u001b[32m0.04700\u001b[0m\u001b[0m | time: 113.564s\n\u001b[2K\r| SGD | epoch: 001 | loss: 0.04700 - acc: 0.9805 -- iter: 34940/55000\n"
     ]
    },
    {
     "name": "stdout",
     "output_type": "stream",
     "text": [
      "Training Step: 1748  | total loss: \u001b[1m\u001b[32m0.05834\u001b[0m\u001b[0m | time: 113.627s\n\u001b[2K\r| SGD | epoch: 001 | loss: 0.05834 - acc: 0.9775 -- iter: 34960/55000\n"
     ]
    },
    {
     "name": "stdout",
     "output_type": "stream",
     "text": [
      "Training Step: 1749  | total loss: \u001b[1m\u001b[32m0.05262\u001b[0m\u001b[0m | time: 113.705s\n\u001b[2K\r| SGD | epoch: 001 | loss: 0.05262 - acc: 0.9797 -- iter: 34980/55000\n"
     ]
    },
    {
     "name": "stdout",
     "output_type": "stream",
     "text": [
      "Training Step: 1750  | total loss: \u001b[1m\u001b[32m0.05682\u001b[0m\u001b[0m | time: 113.767s\n\u001b[2K\r| SGD | epoch: 001 | loss: 0.05682 - acc: 0.9718 -- iter: 35000/55000\n"
     ]
    },
    {
     "name": "stdout",
     "output_type": "stream",
     "text": [
      "Training Step: 1751  | total loss: \u001b[1m\u001b[32m0.05203\u001b[0m\u001b[0m | time: 113.830s\n\u001b[2K\r| SGD | epoch: 001 | loss: 0.05203 - acc: 0.9746 -- iter: 35020/55000\n"
     ]
    },
    {
     "name": "stdout",
     "output_type": "stream",
     "text": [
      "Training Step: 1752  | total loss: \u001b[1m\u001b[32m0.04736\u001b[0m\u001b[0m | time: 113.892s\n\u001b[2K\r| SGD | epoch: 001 | loss: 0.04736 - acc: 0.9771 -- iter: 35040/55000\n"
     ]
    },
    {
     "name": "stdout",
     "output_type": "stream",
     "text": [
      "Training Step: 1753  | total loss: \u001b[1m\u001b[32m0.08036\u001b[0m\u001b[0m | time: 113.970s\n\u001b[2K\r| SGD | epoch: 001 | loss: 0.08036 - acc: 0.9644 -- iter: 35060/55000\n"
     ]
    },
    {
     "name": "stdout",
     "output_type": "stream",
     "text": [
      "Training Step: 1754  | total loss: \u001b[1m\u001b[32m0.11204\u001b[0m\u001b[0m | time: 114.033s\n\u001b[2K\r| SGD | epoch: 001 | loss: 0.11204 - acc: 0.9580 -- iter: 35080/55000\n"
     ]
    },
    {
     "name": "stdout",
     "output_type": "stream",
     "text": [
      "Training Step: 1755  | total loss: \u001b[1m\u001b[32m0.10117\u001b[0m\u001b[0m | time: 114.095s\n\u001b[2K\r| SGD | epoch: 001 | loss: 0.10117 - acc: 0.9622 -- iter: 35100/55000\n"
     ]
    },
    {
     "name": "stdout",
     "output_type": "stream",
     "text": [
      "Training Step: 1756  | total loss: \u001b[1m\u001b[32m0.11317\u001b[0m\u001b[0m | time: 114.169s\n\u001b[2K\r| SGD | epoch: 001 | loss: 0.11317 - acc: 0.9610 -- iter: 35120/55000\n"
     ]
    },
    {
     "name": "stdout",
     "output_type": "stream",
     "text": [
      "Training Step: 1757  | total loss: \u001b[1m\u001b[32m0.14812\u001b[0m\u001b[0m | time: 114.226s\n\u001b[2K\r| SGD | epoch: 001 | loss: 0.14812 - acc: 0.9599 -- iter: 35140/55000\n"
     ]
    },
    {
     "name": "stdout",
     "output_type": "stream",
     "text": [
      "Training Step: 1758  | total loss: \u001b[1m\u001b[32m0.13804\u001b[0m\u001b[0m | time: 114.304s\n\u001b[2K\r| SGD | epoch: 001 | loss: 0.13804 - acc: 0.9639 -- iter: 35160/55000\n"
     ]
    },
    {
     "name": "stdout",
     "output_type": "stream",
     "text": [
      "Training Step: 1759  | total loss: \u001b[1m\u001b[32m0.12701\u001b[0m\u001b[0m | time: 114.367s\n\u001b[2K\r| SGD | epoch: 001 | loss: 0.12701 - acc: 0.9675 -- iter: 35180/55000\n"
     ]
    },
    {
     "name": "stdout",
     "output_type": "stream",
     "text": [
      "Training Step: 1760  | total loss: \u001b[1m\u001b[32m0.13552\u001b[0m\u001b[0m | time: 114.429s\n\u001b[2K\r| SGD | epoch: 001 | loss: 0.13552 - acc: 0.9607 -- iter: 35200/55000\n"
     ]
    },
    {
     "name": "stdout",
     "output_type": "stream",
     "text": [
      "Training Step: 1761  | total loss: \u001b[1m\u001b[32m0.12265\u001b[0m\u001b[0m | time: 114.507s\n\u001b[2K\r| SGD | epoch: 001 | loss: 0.12265 - acc: 0.9647 -- iter: 35220/55000\n"
     ]
    },
    {
     "name": "stdout",
     "output_type": "stream",
     "text": [
      "Training Step: 1762  | total loss: \u001b[1m\u001b[32m0.11086\u001b[0m\u001b[0m | time: 114.570s\n\u001b[2K\r| SGD | epoch: 001 | loss: 0.11086 - acc: 0.9682 -- iter: 35240/55000\n"
     ]
    },
    {
     "name": "stdout",
     "output_type": "stream",
     "text": [
      "Training Step: 1763  | total loss: \u001b[1m\u001b[32m0.10091\u001b[0m\u001b[0m | time: 114.632s\n\u001b[2K\r| SGD | epoch: 001 | loss: 0.10091 - acc: 0.9714 -- iter: 35260/55000\n"
     ]
    },
    {
     "name": "stdout",
     "output_type": "stream",
     "text": [
      "Training Step: 1764  | total loss: \u001b[1m\u001b[32m0.09707\u001b[0m\u001b[0m | time: 114.710s\n\u001b[2K\r| SGD | epoch: 001 | loss: 0.09707 - acc: 0.9742 -- iter: 35280/55000\n"
     ]
    },
    {
     "name": "stdout",
     "output_type": "stream",
     "text": [
      "Training Step: 1765  | total loss: \u001b[1m\u001b[32m0.08897\u001b[0m\u001b[0m | time: 114.773s\n\u001b[2K\r| SGD | epoch: 001 | loss: 0.08897 - acc: 0.9768 -- iter: 35300/55000\n"
     ]
    },
    {
     "name": "stdout",
     "output_type": "stream",
     "text": [
      "Training Step: 1766  | total loss: \u001b[1m\u001b[32m0.08232\u001b[0m\u001b[0m | time: 114.835s\n\u001b[2K\r| SGD | epoch: 001 | loss: 0.08232 - acc: 0.9791 -- iter: 35320/55000\n"
     ]
    },
    {
     "name": "stdout",
     "output_type": "stream",
     "text": [
      "Training Step: 1767  | total loss: \u001b[1m\u001b[32m0.07691\u001b[0m\u001b[0m | time: 114.913s\n\u001b[2K\r| SGD | epoch: 001 | loss: 0.07691 - acc: 0.9812 -- iter: 35340/55000\n"
     ]
    },
    {
     "name": "stdout",
     "output_type": "stream",
     "text": [
      "Training Step: 1768  | total loss: \u001b[1m\u001b[32m0.06978\u001b[0m\u001b[0m | time: 114.976s\n\u001b[2K\r| SGD | epoch: 001 | loss: 0.06978 - acc: 0.9831 -- iter: 35360/55000\n"
     ]
    },
    {
     "name": "stdout",
     "output_type": "stream",
     "text": [
      "Training Step: 1769  | total loss: \u001b[1m\u001b[32m0.08338\u001b[0m\u001b[0m | time: 115.038s\n\u001b[2K\r| SGD | epoch: 001 | loss: 0.08338 - acc: 0.9798 -- iter: 35380/55000\n"
     ]
    },
    {
     "name": "stdout",
     "output_type": "stream",
     "text": [
      "Training Step: 1770  | total loss: \u001b[1m\u001b[32m0.07744\u001b[0m\u001b[0m | time: 115.101s\n\u001b[2K\r| SGD | epoch: 001 | loss: 0.07744 - acc: 0.9818 -- iter: 35400/55000\n"
     ]
    },
    {
     "name": "stdout",
     "output_type": "stream",
     "text": [
      "Training Step: 1771  | total loss: \u001b[1m\u001b[32m0.07454\u001b[0m\u001b[0m | time: 115.169s\n\u001b[2K\r| SGD | epoch: 001 | loss: 0.07454 - acc: 0.9836 -- iter: 35420/55000\n"
     ]
    },
    {
     "name": "stdout",
     "output_type": "stream",
     "text": [
      "Training Step: 1772  | total loss: \u001b[1m\u001b[32m0.08001\u001b[0m\u001b[0m | time: 115.226s\n\u001b[2K\r| SGD | epoch: 001 | loss: 0.08001 - acc: 0.9803 -- iter: 35440/55000\n"
     ]
    },
    {
     "name": "stdout",
     "output_type": "stream",
     "text": [
      "Training Step: 1773  | total loss: \u001b[1m\u001b[32m0.07314\u001b[0m\u001b[0m | time: 115.289s\n\u001b[2K\r| SGD | epoch: 001 | loss: 0.07314 - acc: 0.9822 -- iter: 35460/55000\n"
     ]
    },
    {
     "name": "stdout",
     "output_type": "stream",
     "text": [
      "Training Step: 1774  | total loss: \u001b[1m\u001b[32m0.06915\u001b[0m\u001b[0m | time: 115.367s\n\u001b[2K\r| SGD | epoch: 001 | loss: 0.06915 - acc: 0.9840 -- iter: 35480/55000\n"
     ]
    },
    {
     "name": "stdout",
     "output_type": "stream",
     "text": [
      "Training Step: 1775  | total loss: \u001b[1m\u001b[32m0.06842\u001b[0m\u001b[0m | time: 115.429s\n\u001b[2K\r| SGD | epoch: 001 | loss: 0.06842 - acc: 0.9806 -- iter: 35500/55000\n"
     ]
    },
    {
     "name": "stdout",
     "output_type": "stream",
     "text": [
      "Training Step: 1776  | total loss: \u001b[1m\u001b[32m0.06404\u001b[0m\u001b[0m | time: 115.523s\n\u001b[2K\r| SGD | epoch: 001 | loss: 0.06404 - acc: 0.9826 -- iter: 35520/55000\n"
     ]
    },
    {
     "name": "stdout",
     "output_type": "stream",
     "text": [
      "Training Step: 1777  | total loss: \u001b[1m\u001b[32m0.06523\u001b[0m\u001b[0m | time: 115.585s\n\u001b[2K\r| SGD | epoch: 001 | loss: 0.06523 - acc: 0.9793 -- iter: 35540/55000\n"
     ]
    },
    {
     "name": "stdout",
     "output_type": "stream",
     "text": [
      "Training Step: 1778  | total loss: \u001b[1m\u001b[32m0.06032\u001b[0m\u001b[0m | time: 115.648s\n\u001b[2K\r| SGD | epoch: 001 | loss: 0.06032 - acc: 0.9814 -- iter: 35560/55000\n"
     ]
    },
    {
     "name": "stdout",
     "output_type": "stream",
     "text": [
      "Training Step: 1779  | total loss: \u001b[1m\u001b[32m0.05498\u001b[0m\u001b[0m | time: 115.726s\n\u001b[2K\r| SGD | epoch: 001 | loss: 0.05498 - acc: 0.9832 -- iter: 35580/55000\n"
     ]
    },
    {
     "name": "stdout",
     "output_type": "stream",
     "text": [
      "Training Step: 1780  | total loss: \u001b[1m\u001b[32m0.04993\u001b[0m\u001b[0m | time: 115.789s\n\u001b[2K\r| SGD | epoch: 001 | loss: 0.04993 - acc: 0.9849 -- iter: 35600/55000\n"
     ]
    },
    {
     "name": "stdout",
     "output_type": "stream",
     "text": [
      "Training Step: 1781  | total loss: \u001b[1m\u001b[32m0.04596\u001b[0m\u001b[0m | time: 115.867s\n\u001b[2K\r| SGD | epoch: 001 | loss: 0.04596 - acc: 0.9864 -- iter: 35620/55000\n"
     ]
    },
    {
     "name": "stdout",
     "output_type": "stream",
     "text": [
      "Training Step: 1782  | total loss: \u001b[1m\u001b[32m0.07626\u001b[0m\u001b[0m | time: 115.929s\n\u001b[2K\r| SGD | epoch: 001 | loss: 0.07626 - acc: 0.9778 -- iter: 35640/55000\n"
     ]
    },
    {
     "name": "stdout",
     "output_type": "stream",
     "text": [
      "Training Step: 1783  | total loss: \u001b[1m\u001b[32m0.09779\u001b[0m\u001b[0m | time: 115.992s\n\u001b[2K\r| SGD | epoch: 001 | loss: 0.09779 - acc: 0.9750 -- iter: 35660/55000\n"
     ]
    },
    {
     "name": "stdout",
     "output_type": "stream",
     "text": [
      "Training Step: 1784  | total loss: \u001b[1m\u001b[32m0.09056\u001b[0m\u001b[0m | time: 116.070s\n\u001b[2K\r| SGD | epoch: 001 | loss: 0.09056 - acc: 0.9775 -- iter: 35680/55000\n"
     ]
    },
    {
     "name": "stdout",
     "output_type": "stream",
     "text": [
      "Training Step: 1785  | total loss: \u001b[1m\u001b[32m0.08323\u001b[0m\u001b[0m | time: 116.149s\n\u001b[2K\r| SGD | epoch: 001 | loss: 0.08323 - acc: 0.9797 -- iter: 35700/55000\n"
     ]
    },
    {
     "name": "stdout",
     "output_type": "stream",
     "text": [
      "Training Step: 1786  | total loss: \u001b[1m\u001b[32m0.07538\u001b[0m\u001b[0m | time: 116.212s\n\u001b[2K\r| SGD | epoch: 001 | loss: 0.07538 - acc: 0.9818 -- iter: 35720/55000\n"
     ]
    },
    {
     "name": "stdout",
     "output_type": "stream",
     "text": [
      "Training Step: 1787  | total loss: \u001b[1m\u001b[32m0.09070\u001b[0m\u001b[0m | time: 116.274s\n\u001b[2K\r| SGD | epoch: 001 | loss: 0.09070 - acc: 0.9736 -- iter: 35740/55000\n"
     ]
    },
    {
     "name": "stdout",
     "output_type": "stream",
     "text": [
      "Training Step: 1788  | total loss: \u001b[1m\u001b[32m0.12702\u001b[0m\u001b[0m | time: 116.353s\n\u001b[2K\r| SGD | epoch: 001 | loss: 0.12702 - acc: 0.9662 -- iter: 35760/55000\n"
     ]
    },
    {
     "name": "stdout",
     "output_type": "stream",
     "text": [
      "Training Step: 1789  | total loss: \u001b[1m\u001b[32m0.11601\u001b[0m\u001b[0m | time: 116.415s\n\u001b[2K\r| SGD | epoch: 001 | loss: 0.11601 - acc: 0.9696 -- iter: 35780/55000\n"
     ]
    },
    {
     "name": "stdout",
     "output_type": "stream",
     "text": [
      "Training Step: 1790  | total loss: \u001b[1m\u001b[32m0.10955\u001b[0m\u001b[0m | time: 116.493s\n\u001b[2K\r| SGD | epoch: 001 | loss: 0.10955 - acc: 0.9727 -- iter: 35800/55000\n"
     ]
    },
    {
     "name": "stdout",
     "output_type": "stream",
     "text": [
      "Training Step: 1791  | total loss: \u001b[1m\u001b[32m0.11660\u001b[0m\u001b[0m | time: 116.556s\n\u001b[2K\r| SGD | epoch: 001 | loss: 0.11660 - acc: 0.9704 -- iter: 35820/55000\n"
     ]
    },
    {
     "name": "stdout",
     "output_type": "stream",
     "text": [
      "Training Step: 1792  | total loss: \u001b[1m\u001b[32m0.10724\u001b[0m\u001b[0m | time: 116.634s\n\u001b[2K\r| SGD | epoch: 001 | loss: 0.10724 - acc: 0.9733 -- iter: 35840/55000\n"
     ]
    },
    {
     "name": "stdout",
     "output_type": "stream",
     "text": [
      "Training Step: 1793  | total loss: \u001b[1m\u001b[32m0.09893\u001b[0m\u001b[0m | time: 116.696s\n\u001b[2K\r| SGD | epoch: 001 | loss: 0.09893 - acc: 0.9760 -- iter: 35860/55000\n"
     ]
    },
    {
     "name": "stdout",
     "output_type": "stream",
     "text": [
      "Training Step: 1794  | total loss: \u001b[1m\u001b[32m0.09039\u001b[0m\u001b[0m | time: 116.774s\n\u001b[2K\r| SGD | epoch: 001 | loss: 0.09039 - acc: 0.9784 -- iter: 35880/55000\n"
     ]
    },
    {
     "name": "stdout",
     "output_type": "stream",
     "text": [
      "Training Step: 1795  | total loss: \u001b[1m\u001b[32m0.08170\u001b[0m\u001b[0m | time: 116.837s\n\u001b[2K\r| SGD | epoch: 001 | loss: 0.08170 - acc: 0.9806 -- iter: 35900/55000\n"
     ]
    },
    {
     "name": "stdout",
     "output_type": "stream",
     "text": [
      "Training Step: 1796  | total loss: \u001b[1m\u001b[32m0.08125\u001b[0m\u001b[0m | time: 116.899s\n\u001b[2K\r| SGD | epoch: 001 | loss: 0.08125 - acc: 0.9775 -- iter: 35920/55000\n"
     ]
    },
    {
     "name": "stdout",
     "output_type": "stream",
     "text": [
      "Training Step: 1797  | total loss: \u001b[1m\u001b[32m0.07423\u001b[0m\u001b[0m | time: 116.962s\n\u001b[2K\r| SGD | epoch: 001 | loss: 0.07423 - acc: 0.9798 -- iter: 35940/55000\n"
     ]
    },
    {
     "name": "stdout",
     "output_type": "stream",
     "text": [
      "Training Step: 1798  | total loss: \u001b[1m\u001b[32m0.06744\u001b[0m\u001b[0m | time: 117.024s\n\u001b[2K\r| SGD | epoch: 001 | loss: 0.06744 - acc: 0.9818 -- iter: 35960/55000\n"
     ]
    },
    {
     "name": "stdout",
     "output_type": "stream",
     "text": [
      "Training Step: 1799  | total loss: \u001b[1m\u001b[32m0.07031\u001b[0m\u001b[0m | time: 117.087s\n\u001b[2K\r| SGD | epoch: 001 | loss: 0.07031 - acc: 0.9786 -- iter: 35980/55000\n"
     ]
    },
    {
     "name": "stdout",
     "output_type": "stream",
     "text": [
      "Training Step: 1800  | total loss: \u001b[1m\u001b[32m0.06692\u001b[0m\u001b[0m | time: 117.155s\n\u001b[2K\r| SGD | epoch: 001 | loss: 0.06692 - acc: 0.9807 -- iter: 36000/55000\n"
     ]
    },
    {
     "name": "stdout",
     "output_type": "stream",
     "text": [
      "Training Step: 1801  | total loss: \u001b[1m\u001b[32m0.06171\u001b[0m\u001b[0m | time: 117.217s\n\u001b[2K\r| SGD | epoch: 001 | loss: 0.06171 - acc: 0.9827 -- iter: 36020/55000\n"
     ]
    },
    {
     "name": "stdout",
     "output_type": "stream",
     "text": [
      "Training Step: 1802  | total loss: \u001b[1m\u001b[32m0.07215\u001b[0m\u001b[0m | time: 117.296s\n\u001b[2K\r| SGD | epoch: 001 | loss: 0.07215 - acc: 0.9794 -- iter: 36040/55000\n"
     ]
    },
    {
     "name": "stdout",
     "output_type": "stream",
     "text": [
      "Training Step: 1803  | total loss: \u001b[1m\u001b[32m0.06569\u001b[0m\u001b[0m | time: 117.358s\n\u001b[2K\r| SGD | epoch: 001 | loss: 0.06569 - acc: 0.9815 -- iter: 36060/55000\n"
     ]
    },
    {
     "name": "stdout",
     "output_type": "stream",
     "text": [
      "Training Step: 1804  | total loss: \u001b[1m\u001b[32m0.06605\u001b[0m\u001b[0m | time: 117.421s\n\u001b[2K\r| SGD | epoch: 001 | loss: 0.06605 - acc: 0.9833 -- iter: 36080/55000\n"
     ]
    },
    {
     "name": "stdout",
     "output_type": "stream",
     "text": [
      "Training Step: 1805  | total loss: \u001b[1m\u001b[32m0.06084\u001b[0m\u001b[0m | time: 117.499s\n\u001b[2K\r| SGD | epoch: 001 | loss: 0.06084 - acc: 0.9850 -- iter: 36100/55000\n"
     ]
    },
    {
     "name": "stdout",
     "output_type": "stream",
     "text": [
      "Training Step: 1806  | total loss: \u001b[1m\u001b[32m0.05553\u001b[0m\u001b[0m | time: 117.561s\n\u001b[2K\r| SGD | epoch: 001 | loss: 0.05553 - acc: 0.9865 -- iter: 36120/55000\n"
     ]
    },
    {
     "name": "stdout",
     "output_type": "stream",
     "text": [
      "Training Step: 1807  | total loss: \u001b[1m\u001b[32m0.05040\u001b[0m\u001b[0m | time: 117.624s\n\u001b[2K\r| SGD | epoch: 001 | loss: 0.05040 - acc: 0.9878 -- iter: 36140/55000\n"
     ]
    },
    {
     "name": "stdout",
     "output_type": "stream",
     "text": [
      "Training Step: 1808  | total loss: \u001b[1m\u001b[32m0.04661\u001b[0m\u001b[0m | time: 117.702s\n\u001b[2K\r| SGD | epoch: 001 | loss: 0.04661 - acc: 0.9891 -- iter: 36160/55000\n"
     ]
    },
    {
     "name": "stdout",
     "output_type": "stream",
     "text": [
      "Training Step: 1809  | total loss: \u001b[1m\u001b[32m0.04538\u001b[0m\u001b[0m | time: 117.764s\n\u001b[2K\r| SGD | epoch: 001 | loss: 0.04538 - acc: 0.9901 -- iter: 36180/55000\n"
     ]
    },
    {
     "name": "stdout",
     "output_type": "stream",
     "text": [
      "Training Step: 1810  | total loss: \u001b[1m\u001b[32m0.05853\u001b[0m\u001b[0m | time: 117.842s\n\u001b[2K\r| SGD | epoch: 001 | loss: 0.05853 - acc: 0.9861 -- iter: 36200/55000\n"
     ]
    },
    {
     "name": "stdout",
     "output_type": "stream",
     "text": [
      "Training Step: 1811  | total loss: \u001b[1m\u001b[32m0.05323\u001b[0m\u001b[0m | time: 117.905s\n\u001b[2K\r| SGD | epoch: 001 | loss: 0.05323 - acc: 0.9875 -- iter: 36220/55000\n"
     ]
    },
    {
     "name": "stdout",
     "output_type": "stream",
     "text": [
      "Training Step: 1812  | total loss: \u001b[1m\u001b[32m0.05958\u001b[0m\u001b[0m | time: 117.967s\n\u001b[2K\r| SGD | epoch: 001 | loss: 0.05958 - acc: 0.9838 -- iter: 36240/55000\n"
     ]
    },
    {
     "name": "stdout",
     "output_type": "stream",
     "text": [
      "Training Step: 1813  | total loss: \u001b[1m\u001b[32m0.05888\u001b[0m\u001b[0m | time: 118.046s\n\u001b[2K\r| SGD | epoch: 001 | loss: 0.05888 - acc: 0.9804 -- iter: 36260/55000\n"
     ]
    },
    {
     "name": "stdout",
     "output_type": "stream",
     "text": [
      "Training Step: 1814  | total loss: \u001b[1m\u001b[32m0.07393\u001b[0m\u001b[0m | time: 118.115s\n\u001b[2K\r| SGD | epoch: 001 | loss: 0.07393 - acc: 0.9774 -- iter: 36280/55000\n"
     ]
    },
    {
     "name": "stdout",
     "output_type": "stream",
     "text": [
      "Training Step: 1815  | total loss: \u001b[1m\u001b[32m0.07328\u001b[0m\u001b[0m | time: 118.167s\n\u001b[2K\r| SGD | epoch: 001 | loss: 0.07328 - acc: 0.9796 -- iter: 36300/55000\n"
     ]
    },
    {
     "name": "stdout",
     "output_type": "stream",
     "text": [
      "Training Step: 1816  | total loss: \u001b[1m\u001b[32m0.06722\u001b[0m\u001b[0m | time: 118.229s\n\u001b[2K\r| SGD | epoch: 001 | loss: 0.06722 - acc: 0.9817 -- iter: 36320/55000\n"
     ]
    },
    {
     "name": "stdout",
     "output_type": "stream",
     "text": [
      "Training Step: 1817  | total loss: \u001b[1m\u001b[32m0.06382\u001b[0m\u001b[0m | time: 118.308s\n\u001b[2K\r| SGD | epoch: 001 | loss: 0.06382 - acc: 0.9835 -- iter: 36340/55000\n"
     ]
    },
    {
     "name": "stdout",
     "output_type": "stream",
     "text": [
      "Training Step: 1818  | total loss: \u001b[1m\u001b[32m0.07723\u001b[0m\u001b[0m | time: 118.370s\n\u001b[2K\r| SGD | epoch: 001 | loss: 0.07723 - acc: 0.9701 -- iter: 36360/55000\n"
     ]
    },
    {
     "name": "stdout",
     "output_type": "stream",
     "text": [
      "Training Step: 1819  | total loss: \u001b[1m\u001b[32m0.07841\u001b[0m\u001b[0m | time: 118.448s\n\u001b[2K\r| SGD | epoch: 001 | loss: 0.07841 - acc: 0.9681 -- iter: 36380/55000\n"
     ]
    },
    {
     "name": "stdout",
     "output_type": "stream",
     "text": [
      "Training Step: 1820  | total loss: \u001b[1m\u001b[32m0.07427\u001b[0m\u001b[0m | time: 118.511s\n\u001b[2K\r| SGD | epoch: 001 | loss: 0.07427 - acc: 0.9713 -- iter: 36400/55000\n"
     ]
    },
    {
     "name": "stdout",
     "output_type": "stream",
     "text": [
      "Training Step: 1821  | total loss: \u001b[1m\u001b[32m0.06853\u001b[0m\u001b[0m | time: 118.589s\n\u001b[2K\r| SGD | epoch: 001 | loss: 0.06853 - acc: 0.9742 -- iter: 36420/55000\n"
     ]
    },
    {
     "name": "stdout",
     "output_type": "stream",
     "text": [
      "Training Step: 1822  | total loss: \u001b[1m\u001b[32m0.06499\u001b[0m\u001b[0m | time: 118.651s\n\u001b[2K\r| SGD | epoch: 001 | loss: 0.06499 - acc: 0.9768 -- iter: 36440/55000\n"
     ]
    },
    {
     "name": "stdout",
     "output_type": "stream",
     "text": [
      "Training Step: 1823  | total loss: \u001b[1m\u001b[32m0.05944\u001b[0m\u001b[0m | time: 118.729s\n\u001b[2K\r| SGD | epoch: 001 | loss: 0.05944 - acc: 0.9791 -- iter: 36460/55000\n"
     ]
    },
    {
     "name": "stdout",
     "output_type": "stream",
     "text": [
      "Training Step: 1824  | total loss: \u001b[1m\u001b[32m0.05536\u001b[0m\u001b[0m | time: 118.792s\n\u001b[2K\r| SGD | epoch: 001 | loss: 0.05536 - acc: 0.9812 -- iter: 36480/55000\n"
     ]
    },
    {
     "name": "stdout",
     "output_type": "stream",
     "text": [
      "Training Step: 1825  | total loss: \u001b[1m\u001b[32m0.05879\u001b[0m\u001b[0m | time: 118.854s\n\u001b[2K\r| SGD | epoch: 001 | loss: 0.05879 - acc: 0.9781 -- iter: 36500/55000\n"
     ]
    },
    {
     "name": "stdout",
     "output_type": "stream",
     "text": [
      "Training Step: 1826  | total loss: \u001b[1m\u001b[32m0.05682\u001b[0m\u001b[0m | time: 118.917s\n\u001b[2K\r| SGD | epoch: 001 | loss: 0.05682 - acc: 0.9803 -- iter: 36520/55000\n"
     ]
    },
    {
     "name": "stdout",
     "output_type": "stream",
     "text": [
      "Training Step: 1827  | total loss: \u001b[1m\u001b[32m0.05262\u001b[0m\u001b[0m | time: 118.979s\n\u001b[2K\r| SGD | epoch: 001 | loss: 0.05262 - acc: 0.9822 -- iter: 36540/55000\n"
     ]
    },
    {
     "name": "stdout",
     "output_type": "stream",
     "text": [
      "Training Step: 1828  | total loss: \u001b[1m\u001b[32m0.05369\u001b[0m\u001b[0m | time: 119.042s\n\u001b[2K\r| SGD | epoch: 001 | loss: 0.05369 - acc: 0.9790 -- iter: 36560/55000\n"
     ]
    },
    {
     "name": "stdout",
     "output_type": "stream",
     "text": [
      "Training Step: 1829  | total loss: \u001b[1m\u001b[32m0.04908\u001b[0m\u001b[0m | time: 119.122s\n\u001b[2K\r| SGD | epoch: 001 | loss: 0.04908 - acc: 0.9811 -- iter: 36580/55000\n"
     ]
    },
    {
     "name": "stdout",
     "output_type": "stream",
     "text": [
      "Training Step: 1830  | total loss: \u001b[1m\u001b[32m0.04592\u001b[0m\u001b[0m | time: 119.185s\n\u001b[2K\r| SGD | epoch: 001 | loss: 0.04592 - acc: 0.9830 -- iter: 36600/55000\n"
     ]
    },
    {
     "name": "stdout",
     "output_type": "stream",
     "text": [
      "Training Step: 1831  | total loss: \u001b[1m\u001b[32m0.04506\u001b[0m\u001b[0m | time: 119.247s\n\u001b[2K\r| SGD | epoch: 001 | loss: 0.04506 - acc: 0.9847 -- iter: 36620/55000\n"
     ]
    },
    {
     "name": "stdout",
     "output_type": "stream",
     "text": [
      "Training Step: 1832  | total loss: \u001b[1m\u001b[32m0.04151\u001b[0m\u001b[0m | time: 119.325s\n\u001b[2K\r| SGD | epoch: 001 | loss: 0.04151 - acc: 0.9862 -- iter: 36640/55000\n"
     ]
    },
    {
     "name": "stdout",
     "output_type": "stream",
     "text": [
      "Training Step: 1833  | total loss: \u001b[1m\u001b[32m0.03853\u001b[0m\u001b[0m | time: 119.388s\n\u001b[2K\r| SGD | epoch: 001 | loss: 0.03853 - acc: 0.9876 -- iter: 36660/55000\n"
     ]
    },
    {
     "name": "stdout",
     "output_type": "stream",
     "text": [
      "Training Step: 1834  | total loss: \u001b[1m\u001b[32m0.03549\u001b[0m\u001b[0m | time: 119.466s\n\u001b[2K\r| SGD | epoch: 001 | loss: 0.03549 - acc: 0.9888 -- iter: 36680/55000\n"
     ]
    },
    {
     "name": "stdout",
     "output_type": "stream",
     "text": [
      "Training Step: 1835  | total loss: \u001b[1m\u001b[32m0.03966\u001b[0m\u001b[0m | time: 119.544s\n\u001b[2K\r| SGD | epoch: 001 | loss: 0.03966 - acc: 0.9850 -- iter: 36700/55000\n"
     ]
    },
    {
     "name": "stdout",
     "output_type": "stream",
     "text": [
      "Training Step: 1836  | total loss: \u001b[1m\u001b[32m0.05086\u001b[0m\u001b[0m | time: 119.606s\n\u001b[2K\r| SGD | epoch: 001 | loss: 0.05086 - acc: 0.9765 -- iter: 36720/55000\n"
     ]
    },
    {
     "name": "stdout",
     "output_type": "stream",
     "text": [
      "Training Step: 1837  | total loss: \u001b[1m\u001b[32m0.06389\u001b[0m\u001b[0m | time: 119.669s\n\u001b[2K\r| SGD | epoch: 001 | loss: 0.06389 - acc: 0.9738 -- iter: 36740/55000\n"
     ]
    },
    {
     "name": "stdout",
     "output_type": "stream",
     "text": [
      "Training Step: 1838  | total loss: \u001b[1m\u001b[32m0.05759\u001b[0m\u001b[0m | time: 119.731s\n\u001b[2K\r| SGD | epoch: 001 | loss: 0.05759 - acc: 0.9764 -- iter: 36760/55000\n"
     ]
    },
    {
     "name": "stdout",
     "output_type": "stream",
     "text": [
      "Training Step: 1839  | total loss: \u001b[1m\u001b[32m0.06459\u001b[0m\u001b[0m | time: 119.810s\n\u001b[2K\r| SGD | epoch: 001 | loss: 0.06459 - acc: 0.9738 -- iter: 36780/55000\n"
     ]
    },
    {
     "name": "stdout",
     "output_type": "stream",
     "text": [
      "Training Step: 1840  | total loss: \u001b[1m\u001b[32m0.05841\u001b[0m\u001b[0m | time: 119.872s\n\u001b[2K\r| SGD | epoch: 001 | loss: 0.05841 - acc: 0.9764 -- iter: 36800/55000\n"
     ]
    },
    {
     "name": "stdout",
     "output_type": "stream",
     "text": [
      "Training Step: 1841  | total loss: \u001b[1m\u001b[32m0.05499\u001b[0m\u001b[0m | time: 119.950s\n\u001b[2K\r| SGD | epoch: 001 | loss: 0.05499 - acc: 0.9788 -- iter: 36820/55000\n"
     ]
    },
    {
     "name": "stdout",
     "output_type": "stream",
     "text": [
      "Training Step: 1842  | total loss: \u001b[1m\u001b[32m0.07021\u001b[0m\u001b[0m | time: 120.013s\n\u001b[2K\r| SGD | epoch: 001 | loss: 0.07021 - acc: 0.9709 -- iter: 36840/55000\n"
     ]
    },
    {
     "name": "stdout",
     "output_type": "stream",
     "text": [
      "Training Step: 1843  | total loss: \u001b[1m\u001b[32m0.06433\u001b[0m\u001b[0m | time: 120.094s\n\u001b[2K\r| SGD | epoch: 001 | loss: 0.06433 - acc: 0.9738 -- iter: 36860/55000\n"
     ]
    },
    {
     "name": "stdout",
     "output_type": "stream",
     "text": [
      "Training Step: 1844  | total loss: \u001b[1m\u001b[32m0.06363\u001b[0m\u001b[0m | time: 120.157s\n\u001b[2K\r| SGD | epoch: 001 | loss: 0.06363 - acc: 0.9714 -- iter: 36880/55000\n"
     ]
    },
    {
     "name": "stdout",
     "output_type": "stream",
     "text": [
      "Training Step: 1845  | total loss: \u001b[1m\u001b[32m0.05776\u001b[0m\u001b[0m | time: 120.235s\n\u001b[2K\r| SGD | epoch: 001 | loss: 0.05776 - acc: 0.9743 -- iter: 36900/55000\n"
     ]
    },
    {
     "name": "stdout",
     "output_type": "stream",
     "text": [
      "Training Step: 1846  | total loss: \u001b[1m\u001b[32m0.05230\u001b[0m\u001b[0m | time: 120.297s\n\u001b[2K\r| SGD | epoch: 001 | loss: 0.05230 - acc: 0.9769 -- iter: 36920/55000\n"
     ]
    },
    {
     "name": "stdout",
     "output_type": "stream",
     "text": [
      "Training Step: 1847  | total loss: \u001b[1m\u001b[32m0.05389\u001b[0m\u001b[0m | time: 120.360s\n\u001b[2K\r| SGD | epoch: 001 | loss: 0.05389 - acc: 0.9742 -- iter: 36940/55000\n"
     ]
    },
    {
     "name": "stdout",
     "output_type": "stream",
     "text": [
      "Training Step: 1848  | total loss: \u001b[1m\u001b[32m0.06297\u001b[0m\u001b[0m | time: 120.438s\n\u001b[2K\r| SGD | epoch: 001 | loss: 0.06297 - acc: 0.9718 -- iter: 36960/55000\n"
     ]
    },
    {
     "name": "stdout",
     "output_type": "stream",
     "text": [
      "Training Step: 1849  | total loss: \u001b[1m\u001b[32m0.05777\u001b[0m\u001b[0m | time: 120.501s\n\u001b[2K\r| SGD | epoch: 001 | loss: 0.05777 - acc: 0.9746 -- iter: 36980/55000\n"
     ]
    },
    {
     "name": "stdout",
     "output_type": "stream",
     "text": [
      "Training Step: 1850  | total loss: \u001b[1m\u001b[32m0.06098\u001b[0m\u001b[0m | time: 120.579s\n\u001b[2K\r| SGD | epoch: 001 | loss: 0.06098 - acc: 0.9721 -- iter: 37000/55000\n"
     ]
    },
    {
     "name": "stdout",
     "output_type": "stream",
     "text": [
      "Training Step: 1851  | total loss: \u001b[1m\u001b[32m0.05721\u001b[0m\u001b[0m | time: 120.641s\n\u001b[2K\r| SGD | epoch: 001 | loss: 0.05721 - acc: 0.9749 -- iter: 37020/55000\n"
     ]
    },
    {
     "name": "stdout",
     "output_type": "stream",
     "text": [
      "Training Step: 1852  | total loss: \u001b[1m\u001b[32m0.05570\u001b[0m\u001b[0m | time: 120.719s\n\u001b[2K\r| SGD | epoch: 001 | loss: 0.05570 - acc: 0.9724 -- iter: 37040/55000\n"
     ]
    },
    {
     "name": "stdout",
     "output_type": "stream",
     "text": [
      "Training Step: 1853  | total loss: \u001b[1m\u001b[32m0.07021\u001b[0m\u001b[0m | time: 120.782s\n\u001b[2K\r| SGD | epoch: 001 | loss: 0.07021 - acc: 0.9702 -- iter: 37060/55000\n"
     ]
    },
    {
     "name": "stdout",
     "output_type": "stream",
     "text": [
      "Training Step: 1854  | total loss: \u001b[1m\u001b[32m0.09627\u001b[0m\u001b[0m | time: 120.860s\n\u001b[2K\r| SGD | epoch: 001 | loss: 0.09627 - acc: 0.9682 -- iter: 37080/55000\n"
     ]
    },
    {
     "name": "stdout",
     "output_type": "stream",
     "text": [
      "Training Step: 1855  | total loss: \u001b[1m\u001b[32m0.08703\u001b[0m\u001b[0m | time: 120.922s\n\u001b[2K\r| SGD | epoch: 001 | loss: 0.08703 - acc: 0.9713 -- iter: 37100/55000\n"
     ]
    },
    {
     "name": "stdout",
     "output_type": "stream",
     "text": [
      "Training Step: 1856  | total loss: \u001b[1m\u001b[32m0.10606\u001b[0m\u001b[0m | time: 120.985s\n\u001b[2K\r| SGD | epoch: 001 | loss: 0.10606 - acc: 0.9642 -- iter: 37120/55000\n"
     ]
    },
    {
     "name": "stdout",
     "output_type": "stream",
     "text": [
      "Training Step: 1857  | total loss: \u001b[1m\u001b[32m0.09568\u001b[0m\u001b[0m | time: 121.063s\n\u001b[2K\r| SGD | epoch: 001 | loss: 0.09568 - acc: 0.9678 -- iter: 37140/55000\n"
     ]
    },
    {
     "name": "stdout",
     "output_type": "stream",
     "text": [
      "Training Step: 1858  | total loss: \u001b[1m\u001b[32m0.09083\u001b[0m\u001b[0m | time: 121.120s\n\u001b[2K\r| SGD | epoch: 001 | loss: 0.09083 - acc: 0.9710 -- iter: 37160/55000\n"
     ]
    },
    {
     "name": "stdout",
     "output_type": "stream",
     "text": [
      "Training Step: 1859  | total loss: \u001b[1m\u001b[32m0.08419\u001b[0m\u001b[0m | time: 121.203s\n\u001b[2K\r| SGD | epoch: 001 | loss: 0.08419 - acc: 0.9739 -- iter: 37180/55000\n"
     ]
    },
    {
     "name": "stdout",
     "output_type": "stream",
     "text": [
      "Training Step: 1860  | total loss: \u001b[1m\u001b[32m0.10480\u001b[0m\u001b[0m | time: 121.267s\n\u001b[2K\r| SGD | epoch: 001 | loss: 0.10480 - acc: 0.9715 -- iter: 37200/55000\n"
     ]
    },
    {
     "name": "stdout",
     "output_type": "stream",
     "text": [
      "Training Step: 1861  | total loss: \u001b[1m\u001b[32m0.09834\u001b[0m\u001b[0m | time: 121.330s\n\u001b[2K\r| SGD | epoch: 001 | loss: 0.09834 - acc: 0.9744 -- iter: 37220/55000\n"
     ]
    },
    {
     "name": "stdout",
     "output_type": "stream",
     "text": [
      "Training Step: 1862  | total loss: \u001b[1m\u001b[32m0.10286\u001b[0m\u001b[0m | time: 121.392s\n\u001b[2K\r| SGD | epoch: 001 | loss: 0.10286 - acc: 0.9669 -- iter: 37240/55000\n"
     ]
    },
    {
     "name": "stdout",
     "output_type": "stream",
     "text": [
      "Training Step: 1863  | total loss: \u001b[1m\u001b[32m0.12969\u001b[0m\u001b[0m | time: 121.470s\n\u001b[2K\r| SGD | epoch: 001 | loss: 0.12969 - acc: 0.9602 -- iter: 37260/55000\n"
     ]
    },
    {
     "name": "stdout",
     "output_type": "stream",
     "text": [
      "Training Step: 1864  | total loss: \u001b[1m\u001b[32m0.15801\u001b[0m\u001b[0m | time: 121.533s\n\u001b[2K\r| SGD | epoch: 001 | loss: 0.15801 - acc: 0.9542 -- iter: 37280/55000\n"
     ]
    },
    {
     "name": "stdout",
     "output_type": "stream",
     "text": [
      "Training Step: 1865  | total loss: \u001b[1m\u001b[32m0.14528\u001b[0m\u001b[0m | time: 121.595s\n\u001b[2K\r| SGD | epoch: 001 | loss: 0.14528 - acc: 0.9588 -- iter: 37300/55000\n"
     ]
    },
    {
     "name": "stdout",
     "output_type": "stream",
     "text": [
      "Training Step: 1866  | total loss: \u001b[1m\u001b[32m0.13261\u001b[0m\u001b[0m | time: 121.673s\n\u001b[2K\r| SGD | epoch: 001 | loss: 0.13261 - acc: 0.9629 -- iter: 37320/55000\n"
     ]
    },
    {
     "name": "stdout",
     "output_type": "stream",
     "text": [
      "Training Step: 1867  | total loss: \u001b[1m\u001b[32m0.12307\u001b[0m\u001b[0m | time: 121.736s\n\u001b[2K\r| SGD | epoch: 001 | loss: 0.12307 - acc: 0.9666 -- iter: 37340/55000\n"
     ]
    },
    {
     "name": "stdout",
     "output_type": "stream",
     "text": [
      "Training Step: 1868  | total loss: \u001b[1m\u001b[32m0.11754\u001b[0m\u001b[0m | time: 121.798s\n\u001b[2K\r| SGD | epoch: 001 | loss: 0.11754 - acc: 0.9650 -- iter: 37360/55000\n"
     ]
    },
    {
     "name": "stdout",
     "output_type": "stream",
     "text": [
      "Training Step: 1869  | total loss: \u001b[1m\u001b[32m0.11837\u001b[0m\u001b[0m | time: 121.876s\n\u001b[2K\r| SGD | epoch: 001 | loss: 0.11837 - acc: 0.9635 -- iter: 37380/55000\n"
     ]
    },
    {
     "name": "stdout",
     "output_type": "stream",
     "text": [
      "Training Step: 1870  | total loss: \u001b[1m\u001b[32m0.10722\u001b[0m\u001b[0m | time: 121.939s\n\u001b[2K\r| SGD | epoch: 001 | loss: 0.10722 - acc: 0.9671 -- iter: 37400/55000\n"
     ]
    },
    {
     "name": "stdout",
     "output_type": "stream",
     "text": [
      "Training Step: 1871  | total loss: \u001b[1m\u001b[32m0.11445\u001b[0m\u001b[0m | time: 122.017s\n\u001b[2K\r| SGD | epoch: 001 | loss: 0.11445 - acc: 0.9654 -- iter: 37420/55000\n"
     ]
    },
    {
     "name": "stdout",
     "output_type": "stream",
     "text": [
      "Training Step: 1872  | total loss: \u001b[1m\u001b[32m0.10419\u001b[0m\u001b[0m | time: 122.075s\n\u001b[2K\r| SGD | epoch: 001 | loss: 0.10419 - acc: 0.9689 -- iter: 37440/55000\n"
     ]
    },
    {
     "name": "stdout",
     "output_type": "stream",
     "text": [
      "Training Step: 1873  | total loss: \u001b[1m\u001b[32m0.09800\u001b[0m\u001b[0m | time: 122.138s\n\u001b[2K\r| SGD | epoch: 001 | loss: 0.09800 - acc: 0.9670 -- iter: 37460/55000\n"
     ]
    },
    {
     "name": "stdout",
     "output_type": "stream",
     "text": [
      "Training Step: 1874  | total loss: \u001b[1m\u001b[32m0.08892\u001b[0m\u001b[0m | time: 122.200s\n\u001b[2K\r| SGD | epoch: 001 | loss: 0.08892 - acc: 0.9703 -- iter: 37480/55000\n"
     ]
    },
    {
     "name": "stdout",
     "output_type": "stream",
     "text": [
      "Training Step: 1875  | total loss: \u001b[1m\u001b[32m0.08182\u001b[0m\u001b[0m | time: 122.263s\n\u001b[2K\r| SGD | epoch: 001 | loss: 0.08182 - acc: 0.9733 -- iter: 37500/55000\n"
     ]
    },
    {
     "name": "stdout",
     "output_type": "stream",
     "text": [
      "Training Step: 1876  | total loss: \u001b[1m\u001b[32m0.07691\u001b[0m\u001b[0m | time: 122.372s\n\u001b[2K\r| SGD | epoch: 001 | loss: 0.07691 - acc: 0.9759 -- iter: 37520/55000\n"
     ]
    },
    {
     "name": "stdout",
     "output_type": "stream",
     "text": [
      "Training Step: 1877  | total loss: \u001b[1m\u001b[32m0.08234\u001b[0m\u001b[0m | time: 122.466s\n\u001b[2K\r| SGD | epoch: 001 | loss: 0.08234 - acc: 0.9733 -- iter: 37540/55000\n"
     ]
    },
    {
     "name": "stdout",
     "output_type": "stream",
     "text": [
      "Training Step: 1878  | total loss: \u001b[1m\u001b[32m0.11475\u001b[0m\u001b[0m | time: 122.575s\n\u001b[2K\r| SGD | epoch: 001 | loss: 0.11475 - acc: 0.9610 -- iter: 37560/55000\n"
     ]
    },
    {
     "name": "stdout",
     "output_type": "stream",
     "text": [
      "Training Step: 1879  | total loss: \u001b[1m\u001b[32m0.10509\u001b[0m\u001b[0m | time: 122.669s\n\u001b[2K\r| SGD | epoch: 001 | loss: 0.10509 - acc: 0.9649 -- iter: 37580/55000\n"
     ]
    },
    {
     "name": "stdout",
     "output_type": "stream",
     "text": [
      "Training Step: 1880  | total loss: \u001b[1m\u001b[32m0.09494\u001b[0m\u001b[0m | time: 122.763s\n\u001b[2K\r| SGD | epoch: 001 | loss: 0.09494 - acc: 0.9684 -- iter: 37600/55000\n"
     ]
    },
    {
     "name": "stdout",
     "output_type": "stream",
     "text": [
      "Training Step: 1881  | total loss: \u001b[1m\u001b[32m0.08963\u001b[0m\u001b[0m | time: 122.857s\n\u001b[2K\r| SGD | epoch: 001 | loss: 0.08963 - acc: 0.9716 -- iter: 37620/55000\n"
     ]
    },
    {
     "name": "stdout",
     "output_type": "stream",
     "text": [
      "Training Step: 1882  | total loss: \u001b[1m\u001b[32m0.08265\u001b[0m\u001b[0m | time: 122.919s\n\u001b[2K\r| SGD | epoch: 001 | loss: 0.08265 - acc: 0.9744 -- iter: 37640/55000\n"
     ]
    },
    {
     "name": "stdout",
     "output_type": "stream",
     "text": [
      "Training Step: 1883  | total loss: \u001b[1m\u001b[32m0.07480\u001b[0m\u001b[0m | time: 123.003s\n\u001b[2K\r| SGD | epoch: 001 | loss: 0.07480 - acc: 0.9770 -- iter: 37660/55000\n"
     ]
    },
    {
     "name": "stdout",
     "output_type": "stream",
     "text": [
      "Training Step: 1884  | total loss: \u001b[1m\u001b[32m0.07709\u001b[0m\u001b[0m | time: 123.061s\n\u001b[2K\r| SGD | epoch: 001 | loss: 0.07709 - acc: 0.9743 -- iter: 37680/55000\n"
     ]
    },
    {
     "name": "stdout",
     "output_type": "stream",
     "text": [
      "Training Step: 1885  | total loss: \u001b[1m\u001b[32m0.07077\u001b[0m\u001b[0m | time: 123.139s\n\u001b[2K\r| SGD | epoch: 001 | loss: 0.07077 - acc: 0.9768 -- iter: 37700/55000\n"
     ]
    },
    {
     "name": "stdout",
     "output_type": "stream",
     "text": [
      "Training Step: 1886  | total loss: \u001b[1m\u001b[32m0.06993\u001b[0m\u001b[0m | time: 123.202s\n\u001b[2K\r| SGD | epoch: 001 | loss: 0.06993 - acc: 0.9742 -- iter: 37720/55000\n"
     ]
    },
    {
     "name": "stdout",
     "output_type": "stream",
     "text": [
      "Training Step: 1887  | total loss: \u001b[1m\u001b[32m0.06918\u001b[0m\u001b[0m | time: 123.266s\n\u001b[2K\r| SGD | epoch: 001 | loss: 0.06918 - acc: 0.9717 -- iter: 37740/55000\n"
     ]
    },
    {
     "name": "stdout",
     "output_type": "stream",
     "text": [
      "Training Step: 1888  | total loss: \u001b[1m\u001b[32m0.06796\u001b[0m\u001b[0m | time: 123.322s\n\u001b[2K\r| SGD | epoch: 001 | loss: 0.06796 - acc: 0.9746 -- iter: 37760/55000\n"
     ]
    },
    {
     "name": "stdout",
     "output_type": "stream",
     "text": [
      "Training Step: 1889  | total loss: \u001b[1m\u001b[32m0.06316\u001b[0m\u001b[0m | time: 123.400s\n\u001b[2K\r| SGD | epoch: 001 | loss: 0.06316 - acc: 0.9771 -- iter: 37780/55000\n"
     ]
    },
    {
     "name": "stdout",
     "output_type": "stream",
     "text": [
      "Training Step: 1890  | total loss: \u001b[1m\u001b[32m0.05708\u001b[0m\u001b[0m | time: 123.478s\n\u001b[2K\r| SGD | epoch: 001 | loss: 0.05708 - acc: 0.9794 -- iter: 37800/55000\n"
     ]
    },
    {
     "name": "stdout",
     "output_type": "stream",
     "text": [
      "Training Step: 1891  | total loss: \u001b[1m\u001b[32m0.06299\u001b[0m\u001b[0m | time: 123.541s\n\u001b[2K\r| SGD | epoch: 001 | loss: 0.06299 - acc: 0.9765 -- iter: 37820/55000\n"
     ]
    },
    {
     "name": "stdout",
     "output_type": "stream",
     "text": [
      "Training Step: 1892  | total loss: \u001b[1m\u001b[32m0.06695\u001b[0m\u001b[0m | time: 123.603s\n\u001b[2K\r| SGD | epoch: 001 | loss: 0.06695 - acc: 0.9738 -- iter: 37840/55000\n"
     ]
    },
    {
     "name": "stdout",
     "output_type": "stream",
     "text": [
      "Training Step: 1893  | total loss: \u001b[1m\u001b[32m0.07374\u001b[0m\u001b[0m | time: 123.666s\n\u001b[2K\r| SGD | epoch: 001 | loss: 0.07374 - acc: 0.9664 -- iter: 37860/55000\n"
     ]
    },
    {
     "name": "stdout",
     "output_type": "stream",
     "text": [
      "Training Step: 1894  | total loss: \u001b[1m\u001b[32m0.07473\u001b[0m\u001b[0m | time: 123.728s\n\u001b[2K\r| SGD | epoch: 001 | loss: 0.07473 - acc: 0.9648 -- iter: 37880/55000\n"
     ]
    },
    {
     "name": "stdout",
     "output_type": "stream",
     "text": [
      "Training Step: 1895  | total loss: \u001b[1m\u001b[32m0.06965\u001b[0m\u001b[0m | time: 123.806s\n\u001b[2K\r| SGD | epoch: 001 | loss: 0.06965 - acc: 0.9683 -- iter: 37900/55000\n"
     ]
    },
    {
     "name": "stdout",
     "output_type": "stream",
     "text": [
      "Training Step: 1896  | total loss: \u001b[1m\u001b[32m0.06286\u001b[0m\u001b[0m | time: 123.869s\n\u001b[2K\r| SGD | epoch: 001 | loss: 0.06286 - acc: 0.9715 -- iter: 37920/55000\n"
     ]
    },
    {
     "name": "stdout",
     "output_type": "stream",
     "text": [
      "Training Step: 1897  | total loss: \u001b[1m\u001b[32m0.07471\u001b[0m\u001b[0m | time: 123.944s\n\u001b[2K\r| SGD | epoch: 001 | loss: 0.07471 - acc: 0.9693 -- iter: 37940/55000\n"
     ]
    },
    {
     "name": "stdout",
     "output_type": "stream",
     "text": [
      "Training Step: 1898  | total loss: \u001b[1m\u001b[32m0.08728\u001b[0m\u001b[0m | time: 124.009s\n\u001b[2K\r| SGD | epoch: 001 | loss: 0.08728 - acc: 0.9624 -- iter: 37960/55000\n"
     ]
    },
    {
     "name": "stdout",
     "output_type": "stream",
     "text": [
      "Training Step: 1899  | total loss: \u001b[1m\u001b[32m0.08825\u001b[0m\u001b[0m | time: 124.071s\n\u001b[2K\r| SGD | epoch: 001 | loss: 0.08825 - acc: 0.9612 -- iter: 37980/55000\n"
     ]
    },
    {
     "name": "stdout",
     "output_type": "stream",
     "text": [
      "Training Step: 1900  | total loss: \u001b[1m\u001b[32m0.08218\u001b[0m\u001b[0m | time: 124.134s\n\u001b[2K\r| SGD | epoch: 001 | loss: 0.08218 - acc: 0.9650 -- iter: 38000/55000\n"
     ]
    },
    {
     "name": "stdout",
     "output_type": "stream",
     "text": [
      "Training Step: 1901  | total loss: \u001b[1m\u001b[32m0.07612\u001b[0m\u001b[0m | time: 124.212s\n\u001b[2K\r| SGD | epoch: 001 | loss: 0.07612 - acc: 0.9685 -- iter: 38020/55000\n"
     ]
    },
    {
     "name": "stdout",
     "output_type": "stream",
     "text": [
      "Training Step: 1902  | total loss: \u001b[1m\u001b[32m0.07501\u001b[0m\u001b[0m | time: 124.275s\n\u001b[2K\r| SGD | epoch: 001 | loss: 0.07501 - acc: 0.9667 -- iter: 38040/55000\n"
     ]
    },
    {
     "name": "stdout",
     "output_type": "stream",
     "text": [
      "Training Step: 1903  | total loss: \u001b[1m\u001b[32m0.06854\u001b[0m\u001b[0m | time: 124.337s\n\u001b[2K\r| SGD | epoch: 001 | loss: 0.06854 - acc: 0.9700 -- iter: 38060/55000\n"
     ]
    },
    {
     "name": "stdout",
     "output_type": "stream",
     "text": [
      "Training Step: 1904  | total loss: \u001b[1m\u001b[32m0.07450\u001b[0m\u001b[0m | time: 124.400s\n\u001b[2K\r| SGD | epoch: 001 | loss: 0.07450 - acc: 0.9630 -- iter: 38080/55000\n"
     ]
    },
    {
     "name": "stdout",
     "output_type": "stream",
     "text": [
      "Training Step: 1905  | total loss: \u001b[1m\u001b[32m0.06724\u001b[0m\u001b[0m | time: 124.478s\n\u001b[2K\r| SGD | epoch: 001 | loss: 0.06724 - acc: 0.9667 -- iter: 38100/55000\n"
     ]
    },
    {
     "name": "stdout",
     "output_type": "stream",
     "text": [
      "Training Step: 1906  | total loss: \u001b[1m\u001b[32m0.06424\u001b[0m\u001b[0m | time: 124.556s\n\u001b[2K\r| SGD | epoch: 001 | loss: 0.06424 - acc: 0.9700 -- iter: 38120/55000\n"
     ]
    },
    {
     "name": "stdout",
     "output_type": "stream",
     "text": [
      "Training Step: 1907  | total loss: \u001b[1m\u001b[32m0.09698\u001b[0m\u001b[0m | time: 124.618s\n\u001b[2K\r| SGD | epoch: 001 | loss: 0.09698 - acc: 0.9630 -- iter: 38140/55000\n"
     ]
    },
    {
     "name": "stdout",
     "output_type": "stream",
     "text": [
      "Training Step: 1908  | total loss: \u001b[1m\u001b[32m0.09011\u001b[0m\u001b[0m | time: 124.681s\n\u001b[2K\r| SGD | epoch: 001 | loss: 0.09011 - acc: 0.9667 -- iter: 38160/55000\n"
     ]
    },
    {
     "name": "stdout",
     "output_type": "stream",
     "text": [
      "Training Step: 1909  | total loss: \u001b[1m\u001b[32m0.09200\u001b[0m\u001b[0m | time: 124.759s\n\u001b[2K\r| SGD | epoch: 001 | loss: 0.09200 - acc: 0.9651 -- iter: 38180/55000\n"
     ]
    },
    {
     "name": "stdout",
     "output_type": "stream",
     "text": [
      "Training Step: 1910  | total loss: \u001b[1m\u001b[32m0.08404\u001b[0m\u001b[0m | time: 124.837s\n\u001b[2K\r| SGD | epoch: 001 | loss: 0.08404 - acc: 0.9686 -- iter: 38200/55000\n"
     ]
    },
    {
     "name": "stdout",
     "output_type": "stream",
     "text": [
      "Training Step: 1911  | total loss: \u001b[1m\u001b[32m0.07633\u001b[0m\u001b[0m | time: 124.900s\n\u001b[2K\r| SGD | epoch: 001 | loss: 0.07633 - acc: 0.9717 -- iter: 38220/55000\n"
     ]
    },
    {
     "name": "stdout",
     "output_type": "stream",
     "text": [
      "Training Step: 1912  | total loss: \u001b[1m\u001b[32m0.07019\u001b[0m\u001b[0m | time: 124.974s\n\u001b[2K\r| SGD | epoch: 001 | loss: 0.07019 - acc: 0.9745 -- iter: 38240/55000\n"
     ]
    },
    {
     "name": "stdout",
     "output_type": "stream",
     "text": [
      "Training Step: 1913  | total loss: \u001b[1m\u001b[32m0.08309\u001b[0m\u001b[0m | time: 125.028s\n\u001b[2K\r| SGD | epoch: 001 | loss: 0.08309 - acc: 0.9721 -- iter: 38260/55000\n"
     ]
    },
    {
     "name": "stdout",
     "output_type": "stream",
     "text": [
      "Training Step: 1914  | total loss: \u001b[1m\u001b[32m0.07720\u001b[0m\u001b[0m | time: 125.106s\n\u001b[2K\r| SGD | epoch: 001 | loss: 0.07720 - acc: 0.9749 -- iter: 38280/55000\n"
     ]
    },
    {
     "name": "stdout",
     "output_type": "stream",
     "text": [
      "Training Step: 1915  | total loss: \u001b[1m\u001b[32m0.07208\u001b[0m\u001b[0m | time: 125.184s\n\u001b[2K\r| SGD | epoch: 001 | loss: 0.07208 - acc: 0.9774 -- iter: 38300/55000\n"
     ]
    },
    {
     "name": "stdout",
     "output_type": "stream",
     "text": [
      "Training Step: 1916  | total loss: \u001b[1m\u001b[32m0.06840\u001b[0m\u001b[0m | time: 125.247s\n\u001b[2K\r| SGD | epoch: 001 | loss: 0.06840 - acc: 0.9796 -- iter: 38320/55000\n"
     ]
    },
    {
     "name": "stdout",
     "output_type": "stream",
     "text": [
      "Training Step: 1917  | total loss: \u001b[1m\u001b[32m0.06301\u001b[0m\u001b[0m | time: 125.309s\n\u001b[2K\r| SGD | epoch: 001 | loss: 0.06301 - acc: 0.9817 -- iter: 38340/55000\n"
     ]
    },
    {
     "name": "stdout",
     "output_type": "stream",
     "text": [
      "Training Step: 1918  | total loss: \u001b[1m\u001b[32m0.06029\u001b[0m\u001b[0m | time: 125.387s\n\u001b[2K\r| SGD | epoch: 001 | loss: 0.06029 - acc: 0.9835 -- iter: 38360/55000\n"
     ]
    },
    {
     "name": "stdout",
     "output_type": "stream",
     "text": [
      "Training Step: 1919  | total loss: \u001b[1m\u001b[32m0.05549\u001b[0m\u001b[0m | time: 125.450s\n\u001b[2K\r| SGD | epoch: 001 | loss: 0.05549 - acc: 0.9852 -- iter: 38380/55000\n"
     ]
    },
    {
     "name": "stdout",
     "output_type": "stream",
     "text": [
      "Training Step: 1920  | total loss: \u001b[1m\u001b[32m0.05183\u001b[0m\u001b[0m | time: 125.528s\n\u001b[2K\r| SGD | epoch: 001 | loss: 0.05183 - acc: 0.9866 -- iter: 38400/55000\n"
     ]
    },
    {
     "name": "stdout",
     "output_type": "stream",
     "text": [
      "Training Step: 1921  | total loss: \u001b[1m\u001b[32m0.05059\u001b[0m\u001b[0m | time: 125.590s\n\u001b[2K\r| SGD | epoch: 001 | loss: 0.05059 - acc: 0.9880 -- iter: 38420/55000\n"
     ]
    },
    {
     "name": "stdout",
     "output_type": "stream",
     "text": [
      "Training Step: 1922  | total loss: \u001b[1m\u001b[32m0.04605\u001b[0m\u001b[0m | time: 125.668s\n\u001b[2K\r| SGD | epoch: 001 | loss: 0.04605 - acc: 0.9892 -- iter: 38440/55000\n"
     ]
    },
    {
     "name": "stdout",
     "output_type": "stream",
     "text": [
      "Training Step: 1923  | total loss: \u001b[1m\u001b[32m0.07026\u001b[0m\u001b[0m | time: 125.731s\n\u001b[2K\r| SGD | epoch: 001 | loss: 0.07026 - acc: 0.9803 -- iter: 38460/55000\n"
     ]
    },
    {
     "name": "stdout",
     "output_type": "stream",
     "text": [
      "Training Step: 1924  | total loss: \u001b[1m\u001b[32m0.06480\u001b[0m\u001b[0m | time: 125.793s\n\u001b[2K\r| SGD | epoch: 001 | loss: 0.06480 - acc: 0.9822 -- iter: 38480/55000\n"
     ]
    },
    {
     "name": "stdout",
     "output_type": "stream",
     "text": [
      "Training Step: 1925  | total loss: \u001b[1m\u001b[32m0.05848\u001b[0m\u001b[0m | time: 125.856s\n\u001b[2K\r| SGD | epoch: 001 | loss: 0.05848 - acc: 0.9840 -- iter: 38500/55000\n"
     ]
    },
    {
     "name": "stdout",
     "output_type": "stream",
     "text": [
      "Training Step: 1926  | total loss: \u001b[1m\u001b[32m0.08086\u001b[0m\u001b[0m | time: 125.918s\n\u001b[2K\r| SGD | epoch: 001 | loss: 0.08086 - acc: 0.9806 -- iter: 38520/55000\n"
     ]
    },
    {
     "name": "stdout",
     "output_type": "stream",
     "text": [
      "Training Step: 1927  | total loss: \u001b[1m\u001b[32m0.07617\u001b[0m\u001b[0m | time: 125.995s\n\u001b[2K\r| SGD | epoch: 001 | loss: 0.07617 - acc: 0.9826 -- iter: 38540/55000\n"
     ]
    },
    {
     "name": "stdout",
     "output_type": "stream",
     "text": [
      "Training Step: 1928  | total loss: \u001b[1m\u001b[32m0.09144\u001b[0m\u001b[0m | time: 126.057s\n\u001b[2K\r| SGD | epoch: 001 | loss: 0.09144 - acc: 0.9793 -- iter: 38560/55000\n"
     ]
    },
    {
     "name": "stdout",
     "output_type": "stream",
     "text": [
      "Training Step: 1929  | total loss: \u001b[1m\u001b[32m0.08633\u001b[0m\u001b[0m | time: 126.120s\n\u001b[2K\r| SGD | epoch: 001 | loss: 0.08633 - acc: 0.9814 -- iter: 38580/55000\n"
     ]
    },
    {
     "name": "stdout",
     "output_type": "stream",
     "text": [
      "Training Step: 1930  | total loss: \u001b[1m\u001b[32m0.07798\u001b[0m\u001b[0m | time: 126.182s\n\u001b[2K\r| SGD | epoch: 001 | loss: 0.07798 - acc: 0.9832 -- iter: 38600/55000\n"
     ]
    },
    {
     "name": "stdout",
     "output_type": "stream",
     "text": [
      "Training Step: 1931  | total loss: \u001b[1m\u001b[32m0.07127\u001b[0m\u001b[0m | time: 126.245s\n\u001b[2K\r| SGD | epoch: 001 | loss: 0.07127 - acc: 0.9849 -- iter: 38620/55000\n"
     ]
    },
    {
     "name": "stdout",
     "output_type": "stream",
     "text": [
      "Training Step: 1932  | total loss: \u001b[1m\u001b[32m0.06826\u001b[0m\u001b[0m | time: 126.323s\n\u001b[2K\r| SGD | epoch: 001 | loss: 0.06826 - acc: 0.9864 -- iter: 38640/55000\n"
     ]
    },
    {
     "name": "stdout",
     "output_type": "stream",
     "text": [
      "Training Step: 1933  | total loss: \u001b[1m\u001b[32m0.06979\u001b[0m\u001b[0m | time: 126.370s\n\u001b[2K\r| SGD | epoch: 001 | loss: 0.06979 - acc: 0.9828 -- iter: 38660/55000\n"
     ]
    },
    {
     "name": "stdout",
     "output_type": "stream",
     "text": [
      "Training Step: 1934  | total loss: \u001b[1m\u001b[32m0.07941\u001b[0m\u001b[0m | time: 126.448s\n\u001b[2K\r| SGD | epoch: 001 | loss: 0.07941 - acc: 0.9795 -- iter: 38680/55000\n"
     ]
    },
    {
     "name": "stdout",
     "output_type": "stream",
     "text": [
      "Training Step: 1935  | total loss: \u001b[1m\u001b[32m0.07157\u001b[0m\u001b[0m | time: 126.511s\n\u001b[2K\r| SGD | epoch: 001 | loss: 0.07157 - acc: 0.9815 -- iter: 38700/55000\n"
     ]
    },
    {
     "name": "stdout",
     "output_type": "stream",
     "text": [
      "Training Step: 1936  | total loss: \u001b[1m\u001b[32m0.06635\u001b[0m\u001b[0m | time: 126.589s\n\u001b[2K\r| SGD | epoch: 001 | loss: 0.06635 - acc: 0.9834 -- iter: 38720/55000\n"
     ]
    },
    {
     "name": "stdout",
     "output_type": "stream",
     "text": [
      "Training Step: 1937  | total loss: \u001b[1m\u001b[32m0.06003\u001b[0m\u001b[0m | time: 126.651s\n\u001b[2K\r| SGD | epoch: 001 | loss: 0.06003 - acc: 0.9851 -- iter: 38740/55000\n"
     ]
    },
    {
     "name": "stdout",
     "output_type": "stream",
     "text": [
      "Training Step: 1938  | total loss: \u001b[1m\u001b[32m0.05434\u001b[0m\u001b[0m | time: 126.714s\n\u001b[2K\r| SGD | epoch: 001 | loss: 0.05434 - acc: 0.9865 -- iter: 38760/55000\n"
     ]
    },
    {
     "name": "stdout",
     "output_type": "stream",
     "text": [
      "Training Step: 1939  | total loss: \u001b[1m\u001b[32m0.04973\u001b[0m\u001b[0m | time: 126.776s\n\u001b[2K\r| SGD | epoch: 001 | loss: 0.04973 - acc: 0.9879 -- iter: 38780/55000\n"
     ]
    },
    {
     "name": "stdout",
     "output_type": "stream",
     "text": [
      "Training Step: 1940  | total loss: \u001b[1m\u001b[32m0.04759\u001b[0m\u001b[0m | time: 126.839s\n\u001b[2K\r| SGD | epoch: 001 | loss: 0.04759 - acc: 0.9891 -- iter: 38800/55000\n"
     ]
    },
    {
     "name": "stdout",
     "output_type": "stream",
     "text": [
      "Training Step: 1941  | total loss: \u001b[1m\u001b[32m0.04379\u001b[0m\u001b[0m | time: 126.915s\n\u001b[2K\r| SGD | epoch: 001 | loss: 0.04379 - acc: 0.9902 -- iter: 38820/55000\n"
     ]
    },
    {
     "name": "stdout",
     "output_type": "stream",
     "text": [
      "Training Step: 1942  | total loss: \u001b[1m\u001b[32m0.04228\u001b[0m\u001b[0m | time: 126.968s\n\u001b[2K\r| SGD | epoch: 001 | loss: 0.04228 - acc: 0.9912 -- iter: 38840/55000\n"
     ]
    },
    {
     "name": "stdout",
     "output_type": "stream",
     "text": [
      "Training Step: 1943  | total loss: \u001b[1m\u001b[32m0.04751\u001b[0m\u001b[0m | time: 127.031s\n\u001b[2K\r| SGD | epoch: 001 | loss: 0.04751 - acc: 0.9871 -- iter: 38860/55000\n"
     ]
    },
    {
     "name": "stdout",
     "output_type": "stream",
     "text": [
      "Training Step: 1944  | total loss: \u001b[1m\u001b[32m0.04359\u001b[0m\u001b[0m | time: 127.109s\n\u001b[2K\r| SGD | epoch: 001 | loss: 0.04359 - acc: 0.9884 -- iter: 38880/55000\n"
     ]
    },
    {
     "name": "stdout",
     "output_type": "stream",
     "text": [
      "Training Step: 1945  | total loss: \u001b[1m\u001b[32m0.04346\u001b[0m\u001b[0m | time: 127.171s\n\u001b[2K\r| SGD | epoch: 001 | loss: 0.04346 - acc: 0.9895 -- iter: 38900/55000\n"
     ]
    },
    {
     "name": "stdout",
     "output_type": "stream",
     "text": [
      "Training Step: 1946  | total loss: \u001b[1m\u001b[32m0.05024\u001b[0m\u001b[0m | time: 127.250s\n\u001b[2K\r| SGD | epoch: 001 | loss: 0.05024 - acc: 0.9806 -- iter: 38920/55000\n"
     ]
    },
    {
     "name": "stdout",
     "output_type": "stream",
     "text": [
      "Training Step: 1947  | total loss: \u001b[1m\u001b[32m0.05284\u001b[0m\u001b[0m | time: 127.312s\n\u001b[2K\r| SGD | epoch: 001 | loss: 0.05284 - acc: 0.9775 -- iter: 38940/55000\n"
     ]
    },
    {
     "name": "stdout",
     "output_type": "stream",
     "text": [
      "Training Step: 1948  | total loss: \u001b[1m\u001b[32m0.06025\u001b[0m\u001b[0m | time: 127.375s\n\u001b[2K\r| SGD | epoch: 001 | loss: 0.06025 - acc: 0.9748 -- iter: 38960/55000\n"
     ]
    },
    {
     "name": "stdout",
     "output_type": "stream",
     "text": [
      "Training Step: 1949  | total loss: \u001b[1m\u001b[32m0.08129\u001b[0m\u001b[0m | time: 127.437s\n\u001b[2K\r| SGD | epoch: 001 | loss: 0.08129 - acc: 0.9723 -- iter: 38980/55000\n"
     ]
    },
    {
     "name": "stdout",
     "output_type": "stream",
     "text": [
      "Training Step: 1950  | total loss: \u001b[1m\u001b[32m0.07397\u001b[0m\u001b[0m | time: 127.515s\n\u001b[2K\r| SGD | epoch: 001 | loss: 0.07397 - acc: 0.9751 -- iter: 39000/55000\n"
     ]
    },
    {
     "name": "stdout",
     "output_type": "stream",
     "text": [
      "Training Step: 1951  | total loss: \u001b[1m\u001b[32m0.06875\u001b[0m\u001b[0m | time: 127.578s\n\u001b[2K\r| SGD | epoch: 001 | loss: 0.06875 - acc: 0.9775 -- iter: 39020/55000\n"
     ]
    },
    {
     "name": "stdout",
     "output_type": "stream",
     "text": [
      "Training Step: 1952  | total loss: \u001b[1m\u001b[32m0.09828\u001b[0m\u001b[0m | time: 127.640s\n\u001b[2K\r| SGD | epoch: 001 | loss: 0.09828 - acc: 0.9698 -- iter: 39040/55000\n"
     ]
    },
    {
     "name": "stdout",
     "output_type": "stream",
     "text": [
      "Training Step: 1953  | total loss: \u001b[1m\u001b[32m0.13421\u001b[0m\u001b[0m | time: 127.703s\n\u001b[2K\r| SGD | epoch: 001 | loss: 0.13421 - acc: 0.9628 -- iter: 39060/55000\n"
     ]
    },
    {
     "name": "stdout",
     "output_type": "stream",
     "text": [
      "Training Step: 1954  | total loss: \u001b[1m\u001b[32m0.12166\u001b[0m\u001b[0m | time: 127.781s\n\u001b[2K\r| SGD | epoch: 001 | loss: 0.12166 - acc: 0.9665 -- iter: 39080/55000\n"
     ]
    },
    {
     "name": "stdout",
     "output_type": "stream",
     "text": [
      "Training Step: 1955  | total loss: \u001b[1m\u001b[32m0.11112\u001b[0m\u001b[0m | time: 127.862s\n\u001b[2K\r| SGD | epoch: 001 | loss: 0.11112 - acc: 0.9699 -- iter: 39100/55000\n"
     ]
    },
    {
     "name": "stdout",
     "output_type": "stream",
     "text": [
      "Training Step: 1956  | total loss: \u001b[1m\u001b[32m0.14413\u001b[0m\u001b[0m | time: 127.916s\n\u001b[2K\r| SGD | epoch: 001 | loss: 0.14413 - acc: 0.9579 -- iter: 39120/55000\n"
     ]
    },
    {
     "name": "stdout",
     "output_type": "stream",
     "text": [
      "Training Step: 1957  | total loss: \u001b[1m\u001b[32m0.14312\u001b[0m\u001b[0m | time: 127.994s\n\u001b[2K\r| SGD | epoch: 001 | loss: 0.14312 - acc: 0.9571 -- iter: 39140/55000\n"
     ]
    },
    {
     "name": "stdout",
     "output_type": "stream",
     "text": [
      "Training Step: 1958  | total loss: \u001b[1m\u001b[32m0.13093\u001b[0m\u001b[0m | time: 128.057s\n\u001b[2K\r| SGD | epoch: 001 | loss: 0.13093 - acc: 0.9614 -- iter: 39160/55000\n"
     ]
    },
    {
     "name": "stdout",
     "output_type": "stream",
     "text": [
      "Training Step: 1959  | total loss: \u001b[1m\u001b[32m0.12346\u001b[0m\u001b[0m | time: 128.135s\n\u001b[2K\r| SGD | epoch: 001 | loss: 0.12346 - acc: 0.9653 -- iter: 39180/55000\n"
     ]
    },
    {
     "name": "stdout",
     "output_type": "stream",
     "text": [
      "Training Step: 1960  | total loss: \u001b[1m\u001b[32m0.11889\u001b[0m\u001b[0m | time: 128.197s\n\u001b[2K\r| SGD | epoch: 001 | loss: 0.11889 - acc: 0.9637 -- iter: 39200/55000\n"
     ]
    },
    {
     "name": "stdout",
     "output_type": "stream",
     "text": [
      "Training Step: 1961  | total loss: \u001b[1m\u001b[32m0.10781\u001b[0m\u001b[0m | time: 128.260s\n\u001b[2K\r| SGD | epoch: 001 | loss: 0.10781 - acc: 0.9674 -- iter: 39220/55000\n"
     ]
    },
    {
     "name": "stdout",
     "output_type": "stream",
     "text": [
      "Training Step: 1962  | total loss: \u001b[1m\u001b[32m0.10739\u001b[0m\u001b[0m | time: 128.322s\n\u001b[2K\r| SGD | epoch: 001 | loss: 0.10739 - acc: 0.9656 -- iter: 39240/55000\n"
     ]
    },
    {
     "name": "stdout",
     "output_type": "stream",
     "text": [
      "Training Step: 1963  | total loss: \u001b[1m\u001b[32m0.09871\u001b[0m\u001b[0m | time: 128.387s\n\u001b[2K\r| SGD | epoch: 001 | loss: 0.09871 - acc: 0.9691 -- iter: 39260/55000\n"
     ]
    },
    {
     "name": "stdout",
     "output_type": "stream",
     "text": [
      "Training Step: 1964  | total loss: \u001b[1m\u001b[32m0.09283\u001b[0m\u001b[0m | time: 128.449s\n\u001b[2K\r| SGD | epoch: 001 | loss: 0.09283 - acc: 0.9722 -- iter: 39280/55000\n"
     ]
    },
    {
     "name": "stdout",
     "output_type": "stream",
     "text": [
      "Training Step: 1965  | total loss: \u001b[1m\u001b[32m0.08502\u001b[0m\u001b[0m | time: 128.512s\n\u001b[2K\r| SGD | epoch: 001 | loss: 0.08502 - acc: 0.9749 -- iter: 39300/55000\n"
     ]
    },
    {
     "name": "stdout",
     "output_type": "stream",
     "text": [
      "Training Step: 1966  | total loss: \u001b[1m\u001b[32m0.08447\u001b[0m\u001b[0m | time: 128.574s\n\u001b[2K\r| SGD | epoch: 001 | loss: 0.08447 - acc: 0.9724 -- iter: 39320/55000\n"
     ]
    },
    {
     "name": "stdout",
     "output_type": "stream",
     "text": [
      "Training Step: 1967  | total loss: \u001b[1m\u001b[32m0.09111\u001b[0m\u001b[0m | time: 128.652s\n\u001b[2K\r| SGD | epoch: 001 | loss: 0.09111 - acc: 0.9702 -- iter: 39340/55000\n"
     ]
    },
    {
     "name": "stdout",
     "output_type": "stream",
     "text": [
      "Training Step: 1968  | total loss: \u001b[1m\u001b[32m0.08383\u001b[0m\u001b[0m | time: 128.715s\n\u001b[2K\r| SGD | epoch: 001 | loss: 0.08383 - acc: 0.9732 -- iter: 39360/55000\n"
     ]
    },
    {
     "name": "stdout",
     "output_type": "stream",
     "text": [
      "Training Step: 1969  | total loss: \u001b[1m\u001b[32m0.07742\u001b[0m\u001b[0m | time: 128.777s\n\u001b[2K\r| SGD | epoch: 001 | loss: 0.07742 - acc: 0.9759 -- iter: 39380/55000\n"
     ]
    },
    {
     "name": "stdout",
     "output_type": "stream",
     "text": [
      "Training Step: 1970  | total loss: \u001b[1m\u001b[32m0.07652\u001b[0m\u001b[0m | time: 128.840s\n\u001b[2K\r| SGD | epoch: 001 | loss: 0.07652 - acc: 0.9733 -- iter: 39400/55000\n"
     ]
    },
    {
     "name": "stdout",
     "output_type": "stream",
     "text": [
      "Training Step: 1971  | total loss: \u001b[1m\u001b[32m0.07693\u001b[0m\u001b[0m | time: 128.895s\n\u001b[2K\r| SGD | epoch: 001 | loss: 0.07693 - acc: 0.9759 -- iter: 39420/55000\n"
     ]
    },
    {
     "name": "stdout",
     "output_type": "stream",
     "text": [
      "Training Step: 1972  | total loss: \u001b[1m\u001b[32m0.07016\u001b[0m\u001b[0m | time: 128.957s\n\u001b[2K\r| SGD | epoch: 001 | loss: 0.07016 - acc: 0.9784 -- iter: 39440/55000\n"
     ]
    },
    {
     "name": "stdout",
     "output_type": "stream",
     "text": [
      "Training Step: 1973  | total loss: \u001b[1m\u001b[32m0.06455\u001b[0m\u001b[0m | time: 129.020s\n\u001b[2K\r| SGD | epoch: 001 | loss: 0.06455 - acc: 0.9805 -- iter: 39460/55000\n"
     ]
    },
    {
     "name": "stdout",
     "output_type": "stream",
     "text": [
      "Training Step: 1974  | total loss: \u001b[1m\u001b[32m0.05837\u001b[0m\u001b[0m | time: 129.082s\n\u001b[2K\r| SGD | epoch: 001 | loss: 0.05837 - acc: 0.9825 -- iter: 39480/55000\n"
     ]
    },
    {
     "name": "stdout",
     "output_type": "stream",
     "text": [
      "Training Step: 1975  | total loss: \u001b[1m\u001b[32m0.05287\u001b[0m\u001b[0m | time: 129.145s\n\u001b[2K\r| SGD | epoch: 001 | loss: 0.05287 - acc: 0.9842 -- iter: 39500/55000\n"
     ]
    },
    {
     "name": "stdout",
     "output_type": "stream",
     "text": [
      "Training Step: 1976  | total loss: \u001b[1m\u001b[32m0.04921\u001b[0m\u001b[0m | time: 129.207s\n\u001b[2K\r| SGD | epoch: 001 | loss: 0.04921 - acc: 0.9858 -- iter: 39520/55000\n"
     ]
    },
    {
     "name": "stdout",
     "output_type": "stream",
     "text": [
      "Training Step: 1977  | total loss: \u001b[1m\u001b[32m0.04756\u001b[0m\u001b[0m | time: 129.270s\n\u001b[2K\r| SGD | epoch: 001 | loss: 0.04756 - acc: 0.9872 -- iter: 39540/55000\n"
     ]
    },
    {
     "name": "stdout",
     "output_type": "stream",
     "text": [
      "Training Step: 1978  | total loss: \u001b[1m\u001b[32m0.04290\u001b[0m\u001b[0m | time: 129.332s\n\u001b[2K\r| SGD | epoch: 001 | loss: 0.04290 - acc: 0.9885 -- iter: 39560/55000\n"
     ]
    },
    {
     "name": "stdout",
     "output_type": "stream",
     "text": [
      "Training Step: 1979  | total loss: \u001b[1m\u001b[32m0.04221\u001b[0m\u001b[0m | time: 129.410s\n\u001b[2K\r| SGD | epoch: 001 | loss: 0.04221 - acc: 0.9896 -- iter: 39580/55000\n"
     ]
    },
    {
     "name": "stdout",
     "output_type": "stream",
     "text": [
      "Training Step: 1980  | total loss: \u001b[1m\u001b[32m0.06943\u001b[0m\u001b[0m | time: 129.473s\n\u001b[2K\r| SGD | epoch: 001 | loss: 0.06943 - acc: 0.9757 -- iter: 39600/55000\n"
     ]
    },
    {
     "name": "stdout",
     "output_type": "stream",
     "text": [
      "Training Step: 1981  | total loss: \u001b[1m\u001b[32m0.06489\u001b[0m\u001b[0m | time: 129.535s\n\u001b[2K\r| SGD | epoch: 001 | loss: 0.06489 - acc: 0.9781 -- iter: 39620/55000\n"
     ]
    },
    {
     "name": "stdout",
     "output_type": "stream",
     "text": [
      "Training Step: 1982  | total loss: \u001b[1m\u001b[32m0.05934\u001b[0m\u001b[0m | time: 129.598s\n\u001b[2K\r| SGD | epoch: 001 | loss: 0.05934 - acc: 0.9803 -- iter: 39640/55000\n"
     ]
    },
    {
     "name": "stdout",
     "output_type": "stream",
     "text": [
      "Training Step: 1983  | total loss: \u001b[1m\u001b[32m0.05582\u001b[0m\u001b[0m | time: 129.660s\n\u001b[2K\r| SGD | epoch: 001 | loss: 0.05582 - acc: 0.9823 -- iter: 39660/55000\n"
     ]
    },
    {
     "name": "stdout",
     "output_type": "stream",
     "text": [
      "Training Step: 1984  | total loss: \u001b[1m\u001b[32m0.05100\u001b[0m\u001b[0m | time: 129.740s\n\u001b[2K\r| SGD | epoch: 001 | loss: 0.05100 - acc: 0.9840 -- iter: 39680/55000\n"
     ]
    },
    {
     "name": "stdout",
     "output_type": "stream",
     "text": [
      "Training Step: 1985  | total loss: \u001b[1m\u001b[32m0.09109\u001b[0m\u001b[0m | time: 129.796s\n\u001b[2K\r| SGD | epoch: 001 | loss: 0.09109 - acc: 0.9706 -- iter: 39700/55000\n"
     ]
    },
    {
     "name": "stdout",
     "output_type": "stream",
     "text": [
      "Training Step: 1986  | total loss: \u001b[1m\u001b[32m0.08227\u001b[0m\u001b[0m | time: 129.874s\n\u001b[2K\r| SGD | epoch: 001 | loss: 0.08227 - acc: 0.9736 -- iter: 39720/55000\n"
     ]
    },
    {
     "name": "stdout",
     "output_type": "stream",
     "text": [
      "Training Step: 1987  | total loss: \u001b[1m\u001b[32m0.09252\u001b[0m\u001b[0m | time: 129.936s\n\u001b[2K\r| SGD | epoch: 001 | loss: 0.09252 - acc: 0.9662 -- iter: 39740/55000\n"
     ]
    },
    {
     "name": "stdout",
     "output_type": "stream",
     "text": [
      "Training Step: 1988  | total loss: \u001b[1m\u001b[32m0.08739\u001b[0m\u001b[0m | time: 130.014s\n\u001b[2K\r| SGD | epoch: 001 | loss: 0.08739 - acc: 0.9696 -- iter: 39760/55000\n"
     ]
    },
    {
     "name": "stdout",
     "output_type": "stream",
     "text": [
      "Training Step: 1989  | total loss: \u001b[1m\u001b[32m0.08222\u001b[0m\u001b[0m | time: 130.077s\n\u001b[2K\r| SGD | epoch: 001 | loss: 0.08222 - acc: 0.9726 -- iter: 39780/55000\n"
     ]
    },
    {
     "name": "stdout",
     "output_type": "stream",
     "text": [
      "Training Step: 1990  | total loss: \u001b[1m\u001b[32m0.07695\u001b[0m\u001b[0m | time: 130.139s\n\u001b[2K\r| SGD | epoch: 001 | loss: 0.07695 - acc: 0.9754 -- iter: 39800/55000\n"
     ]
    },
    {
     "name": "stdout",
     "output_type": "stream",
     "text": [
      "Training Step: 1991  | total loss: \u001b[1m\u001b[32m0.09536\u001b[0m\u001b[0m | time: 130.202s\n\u001b[2K\r| SGD | epoch: 001 | loss: 0.09536 - acc: 0.9728 -- iter: 39820/55000\n"
     ]
    },
    {
     "name": "stdout",
     "output_type": "stream",
     "text": [
      "Training Step: 1992  | total loss: \u001b[1m\u001b[32m0.09087\u001b[0m\u001b[0m | time: 130.264s\n\u001b[2K\r| SGD | epoch: 001 | loss: 0.09087 - acc: 0.9756 -- iter: 39840/55000\n"
     ]
    },
    {
     "name": "stdout",
     "output_type": "stream",
     "text": [
      "Training Step: 1993  | total loss: \u001b[1m\u001b[32m0.09126\u001b[0m\u001b[0m | time: 130.342s\n\u001b[2K\r| SGD | epoch: 001 | loss: 0.09126 - acc: 0.9730 -- iter: 39860/55000\n"
     ]
    },
    {
     "name": "stdout",
     "output_type": "stream",
     "text": [
      "Training Step: 1994  | total loss: \u001b[1m\u001b[32m0.08270\u001b[0m\u001b[0m | time: 130.405s\n\u001b[2K\r| SGD | epoch: 001 | loss: 0.08270 - acc: 0.9757 -- iter: 39880/55000\n"
     ]
    },
    {
     "name": "stdout",
     "output_type": "stream",
     "text": [
      "Training Step: 1995  | total loss: \u001b[1m\u001b[32m0.07945\u001b[0m\u001b[0m | time: 130.468s\n\u001b[2K\r| SGD | epoch: 001 | loss: 0.07945 - acc: 0.9731 -- iter: 39900/55000\n"
     ]
    },
    {
     "name": "stdout",
     "output_type": "stream",
     "text": [
      "Training Step: 1996  | total loss: \u001b[1m\u001b[32m0.08288\u001b[0m\u001b[0m | time: 130.546s\n\u001b[2K\r| SGD | epoch: 001 | loss: 0.08288 - acc: 0.9708 -- iter: 39920/55000\n"
     ]
    },
    {
     "name": "stdout",
     "output_type": "stream",
     "text": [
      "Training Step: 1997  | total loss: \u001b[1m\u001b[32m0.07939\u001b[0m\u001b[0m | time: 130.608s\n\u001b[2K\r| SGD | epoch: 001 | loss: 0.07939 - acc: 0.9737 -- iter: 39940/55000\n"
     ]
    },
    {
     "name": "stdout",
     "output_type": "stream",
     "text": [
      "Training Step: 1998  | total loss: \u001b[1m\u001b[32m0.08958\u001b[0m\u001b[0m | time: 130.671s\n\u001b[2K\r| SGD | epoch: 001 | loss: 0.08958 - acc: 0.9664 -- iter: 39960/55000\n"
     ]
    },
    {
     "name": "stdout",
     "output_type": "stream",
     "text": [
      "Training Step: 1999  | total loss: \u001b[1m\u001b[32m0.15177\u001b[0m\u001b[0m | time: 130.750s\n\u001b[2K\r| SGD | epoch: 001 | loss: 0.15177 - acc: 0.9547 -- iter: 39980/55000\n"
     ]
    },
    {
     "name": "stdout",
     "output_type": "stream",
     "text": [
      "Training Step: 2000  | total loss: \u001b[1m\u001b[32m0.13761\u001b[0m\u001b[0m | time: 130.815s\n\u001b[2K\r| SGD | epoch: 001 | loss: 0.13761 - acc: 0.9593 -- iter: 40000/55000\n"
     ]
    },
    {
     "name": "stdout",
     "output_type": "stream",
     "text": [
      "Training Step: 2001  | total loss: \u001b[1m\u001b[32m0.14166\u001b[0m\u001b[0m | time: 130.877s\n\u001b[2K\r| SGD | epoch: 001 | loss: 0.14166 - acc: 0.9583 -- iter: 40020/55000\n"
     ]
    },
    {
     "name": "stdout",
     "output_type": "stream",
     "text": [
      "Training Step: 2002  | total loss: \u001b[1m\u001b[32m0.13009\u001b[0m\u001b[0m | time: 130.940s\n\u001b[2K\r| SGD | epoch: 001 | loss: 0.13009 - acc: 0.9625 -- iter: 40040/55000\n"
     ]
    },
    {
     "name": "stdout",
     "output_type": "stream",
     "text": [
      "Training Step: 2003  | total loss: \u001b[1m\u001b[32m0.12515\u001b[0m\u001b[0m | time: 131.018s\n\u001b[2K\r| SGD | epoch: 001 | loss: 0.12515 - acc: 0.9612 -- iter: 40060/55000\n"
     ]
    },
    {
     "name": "stdout",
     "output_type": "stream",
     "text": [
      "Training Step: 2004  | total loss: \u001b[1m\u001b[32m0.11481\u001b[0m\u001b[0m | time: 131.080s\n\u001b[2K\r| SGD | epoch: 001 | loss: 0.11481 - acc: 0.9651 -- iter: 40080/55000\n"
     ]
    },
    {
     "name": "stdout",
     "output_type": "stream",
     "text": [
      "Training Step: 2005  | total loss: \u001b[1m\u001b[32m0.10487\u001b[0m\u001b[0m | time: 131.143s\n\u001b[2K\r| SGD | epoch: 001 | loss: 0.10487 - acc: 0.9686 -- iter: 40100/55000\n"
     ]
    },
    {
     "name": "stdout",
     "output_type": "stream",
     "text": [
      "Training Step: 2006  | total loss: \u001b[1m\u001b[32m0.09470\u001b[0m\u001b[0m | time: 131.205s\n\u001b[2K\r| SGD | epoch: 001 | loss: 0.09470 - acc: 0.9717 -- iter: 40120/55000\n"
     ]
    },
    {
     "name": "stdout",
     "output_type": "stream",
     "text": [
      "Training Step: 2007  | total loss: \u001b[1m\u001b[32m0.08609\u001b[0m\u001b[0m | time: 131.283s\n\u001b[2K\r| SGD | epoch: 001 | loss: 0.08609 - acc: 0.9746 -- iter: 40140/55000\n"
     ]
    },
    {
     "name": "stdout",
     "output_type": "stream",
     "text": [
      "Training Step: 2008  | total loss: \u001b[1m\u001b[32m0.07879\u001b[0m\u001b[0m | time: 131.346s\n\u001b[2K\r| SGD | epoch: 001 | loss: 0.07879 - acc: 0.9771 -- iter: 40160/55000\n"
     ]
    },
    {
     "name": "stdout",
     "output_type": "stream",
     "text": [
      "Training Step: 2009  | total loss: \u001b[1m\u001b[32m0.08986\u001b[0m\u001b[0m | time: 131.408s\n\u001b[2K\r| SGD | epoch: 001 | loss: 0.08986 - acc: 0.9744 -- iter: 40180/55000\n"
     ]
    },
    {
     "name": "stdout",
     "output_type": "stream",
     "text": [
      "Training Step: 2010  | total loss: \u001b[1m\u001b[32m0.10730\u001b[0m\u001b[0m | time: 131.486s\n\u001b[2K\r| SGD | epoch: 001 | loss: 0.10730 - acc: 0.9670 -- iter: 40200/55000\n"
     ]
    },
    {
     "name": "stdout",
     "output_type": "stream",
     "text": [
      "Training Step: 2011  | total loss: \u001b[1m\u001b[32m0.10024\u001b[0m\u001b[0m | time: 131.565s\n\u001b[2K\r| SGD | epoch: 001 | loss: 0.10024 - acc: 0.9703 -- iter: 40220/55000\n"
     ]
    },
    {
     "name": "stdout",
     "output_type": "stream",
     "text": [
      "Training Step: 2012  | total loss: \u001b[1m\u001b[32m0.09263\u001b[0m\u001b[0m | time: 131.627s\n\u001b[2K\r| SGD | epoch: 001 | loss: 0.09263 - acc: 0.9732 -- iter: 40240/55000\n"
     ]
    },
    {
     "name": "stdout",
     "output_type": "stream",
     "text": [
      "Training Step: 2013  | total loss: \u001b[1m\u001b[32m0.08388\u001b[0m\u001b[0m | time: 131.708s\n\u001b[2K\r| SGD | epoch: 001 | loss: 0.08388 - acc: 0.9759 -- iter: 40260/55000\n"
     ]
    },
    {
     "name": "stdout",
     "output_type": "stream",
     "text": [
      "Training Step: 2014  | total loss: \u001b[1m\u001b[32m0.08619\u001b[0m\u001b[0m | time: 131.761s\n\u001b[2K\r| SGD | epoch: 001 | loss: 0.08619 - acc: 0.9733 -- iter: 40280/55000\n"
     ]
    },
    {
     "name": "stdout",
     "output_type": "stream",
     "text": [
      "Training Step: 2015  | total loss: \u001b[1m\u001b[32m0.07927\u001b[0m\u001b[0m | time: 131.823s\n\u001b[2K\r| SGD | epoch: 001 | loss: 0.07927 - acc: 0.9760 -- iter: 40300/55000\n"
     ]
    },
    {
     "name": "stdout",
     "output_type": "stream",
     "text": [
      "Training Step: 2016  | total loss: \u001b[1m\u001b[32m0.07679\u001b[0m\u001b[0m | time: 131.886s\n\u001b[2K\r| SGD | epoch: 001 | loss: 0.07679 - acc: 0.9784 -- iter: 40320/55000\n"
     ]
    },
    {
     "name": "stdout",
     "output_type": "stream",
     "text": [
      "Training Step: 2017  | total loss: \u001b[1m\u001b[32m0.07154\u001b[0m\u001b[0m | time: 131.964s\n\u001b[2K\r| SGD | epoch: 001 | loss: 0.07154 - acc: 0.9806 -- iter: 40340/55000\n"
     ]
    },
    {
     "name": "stdout",
     "output_type": "stream",
     "text": [
      "Training Step: 2018  | total loss: \u001b[1m\u001b[32m0.06671\u001b[0m\u001b[0m | time: 132.027s\n\u001b[2K\r| SGD | epoch: 001 | loss: 0.06671 - acc: 0.9825 -- iter: 40360/55000\n"
     ]
    },
    {
     "name": "stdout",
     "output_type": "stream",
     "text": [
      "Training Step: 2019  | total loss: \u001b[1m\u001b[32m0.07028\u001b[0m\u001b[0m | time: 132.105s\n\u001b[2K\r| SGD | epoch: 001 | loss: 0.07028 - acc: 0.9792 -- iter: 40380/55000\n"
     ]
    },
    {
     "name": "stdout",
     "output_type": "stream",
     "text": [
      "Training Step: 2020  | total loss: \u001b[1m\u001b[32m0.06397\u001b[0m\u001b[0m | time: 132.167s\n\u001b[2K\r| SGD | epoch: 001 | loss: 0.06397 - acc: 0.9813 -- iter: 40400/55000\n"
     ]
    },
    {
     "name": "stdout",
     "output_type": "stream",
     "text": [
      "Training Step: 2021  | total loss: \u001b[1m\u001b[32m0.05933\u001b[0m\u001b[0m | time: 132.245s\n\u001b[2K\r| SGD | epoch: 001 | loss: 0.05933 - acc: 0.9832 -- iter: 40420/55000\n"
     ]
    },
    {
     "name": "stdout",
     "output_type": "stream",
     "text": [
      "Training Step: 2022  | total loss: \u001b[1m\u001b[32m0.05547\u001b[0m\u001b[0m | time: 132.308s\n\u001b[2K\r| SGD | epoch: 001 | loss: 0.05547 - acc: 0.9849 -- iter: 40440/55000\n"
     ]
    },
    {
     "name": "stdout",
     "output_type": "stream",
     "text": [
      "Training Step: 2023  | total loss: \u001b[1m\u001b[32m0.05312\u001b[0m\u001b[0m | time: 132.386s\n\u001b[2K\r| SGD | epoch: 001 | loss: 0.05312 - acc: 0.9864 -- iter: 40460/55000\n"
     ]
    },
    {
     "name": "stdout",
     "output_type": "stream",
     "text": [
      "Training Step: 2024  | total loss: \u001b[1m\u001b[32m0.06208\u001b[0m\u001b[0m | time: 132.448s\n\u001b[2K\r| SGD | epoch: 001 | loss: 0.06208 - acc: 0.9827 -- iter: 40480/55000\n"
     ]
    },
    {
     "name": "stdout",
     "output_type": "stream",
     "text": [
      "Training Step: 2025  | total loss: \u001b[1m\u001b[32m0.05922\u001b[0m\u001b[0m | time: 132.511s\n\u001b[2K\r| SGD | epoch: 001 | loss: 0.05922 - acc: 0.9845 -- iter: 40500/55000\n"
     ]
    },
    {
     "name": "stdout",
     "output_type": "stream",
     "text": [
      "Training Step: 2026  | total loss: \u001b[1m\u001b[32m0.05518\u001b[0m\u001b[0m | time: 132.589s\n\u001b[2K\r| SGD | epoch: 001 | loss: 0.05518 - acc: 0.9860 -- iter: 40520/55000\n"
     ]
    },
    {
     "name": "stdout",
     "output_type": "stream",
     "text": [
      "Training Step: 2027  | total loss: \u001b[1m\u001b[32m0.06052\u001b[0m\u001b[0m | time: 132.652s\n\u001b[2K\r| SGD | epoch: 001 | loss: 0.06052 - acc: 0.9824 -- iter: 40540/55000\n"
     ]
    },
    {
     "name": "stdout",
     "output_type": "stream",
     "text": [
      "Training Step: 2028  | total loss: \u001b[1m\u001b[32m0.05973\u001b[0m\u001b[0m | time: 132.728s\n\u001b[2K\r| SGD | epoch: 001 | loss: 0.05973 - acc: 0.9842 -- iter: 40560/55000\n"
     ]
    },
    {
     "name": "stdout",
     "output_type": "stream",
     "text": [
      "Training Step: 2029  | total loss: \u001b[1m\u001b[32m0.08241\u001b[0m\u001b[0m | time: 132.790s\n\u001b[2K\r| SGD | epoch: 001 | loss: 0.08241 - acc: 0.9758 -- iter: 40580/55000\n"
     ]
    },
    {
     "name": "stdout",
     "output_type": "stream",
     "text": [
      "Training Step: 2030  | total loss: \u001b[1m\u001b[32m0.08114\u001b[0m\u001b[0m | time: 132.868s\n\u001b[2K\r| SGD | epoch: 001 | loss: 0.08114 - acc: 0.9782 -- iter: 40600/55000\n"
     ]
    },
    {
     "name": "stdout",
     "output_type": "stream",
     "text": [
      "Training Step: 2031  | total loss: \u001b[1m\u001b[32m0.07837\u001b[0m\u001b[0m | time: 132.931s\n\u001b[2K\r| SGD | epoch: 001 | loss: 0.07837 - acc: 0.9804 -- iter: 40620/55000\n"
     ]
    },
    {
     "name": "stdout",
     "output_type": "stream",
     "text": [
      "Training Step: 2032  | total loss: \u001b[1m\u001b[32m0.07199\u001b[0m\u001b[0m | time: 132.993s\n\u001b[2K\r| SGD | epoch: 001 | loss: 0.07199 - acc: 0.9823 -- iter: 40640/55000\n"
     ]
    },
    {
     "name": "stdout",
     "output_type": "stream",
     "text": [
      "Training Step: 2033  | total loss: \u001b[1m\u001b[32m0.06696\u001b[0m\u001b[0m | time: 133.056s\n\u001b[2K\r| SGD | epoch: 001 | loss: 0.06696 - acc: 0.9841 -- iter: 40660/55000\n"
     ]
    },
    {
     "name": "stdout",
     "output_type": "stream",
     "text": [
      "Training Step: 2034  | total loss: \u001b[1m\u001b[32m0.07639\u001b[0m\u001b[0m | time: 133.118s\n\u001b[2K\r| SGD | epoch: 001 | loss: 0.07639 - acc: 0.9807 -- iter: 40680/55000\n"
     ]
    },
    {
     "name": "stdout",
     "output_type": "stream",
     "text": [
      "Training Step: 2035  | total loss: \u001b[1m\u001b[32m0.06977\u001b[0m\u001b[0m | time: 133.197s\n\u001b[2K\r| SGD | epoch: 001 | loss: 0.06977 - acc: 0.9826 -- iter: 40700/55000\n"
     ]
    },
    {
     "name": "stdout",
     "output_type": "stream",
     "text": [
      "Training Step: 2036  | total loss: \u001b[1m\u001b[32m0.07122\u001b[0m\u001b[0m | time: 133.259s\n\u001b[2K\r| SGD | epoch: 001 | loss: 0.07122 - acc: 0.9844 -- iter: 40720/55000\n"
     ]
    },
    {
     "name": "stdout",
     "output_type": "stream",
     "text": [
      "Training Step: 2037  | total loss: \u001b[1m\u001b[32m0.06574\u001b[0m\u001b[0m | time: 133.322s\n\u001b[2K\r| SGD | epoch: 001 | loss: 0.06574 - acc: 0.9859 -- iter: 40740/55000\n"
     ]
    },
    {
     "name": "stdout",
     "output_type": "stream",
     "text": [
      "Training Step: 2038  | total loss: \u001b[1m\u001b[32m0.07481\u001b[0m\u001b[0m | time: 133.400s\n\u001b[2K\r| SGD | epoch: 001 | loss: 0.07481 - acc: 0.9823 -- iter: 40760/55000\n"
     ]
    },
    {
     "name": "stdout",
     "output_type": "stream",
     "text": [
      "Training Step: 2039  | total loss: \u001b[1m\u001b[32m0.06850\u001b[0m\u001b[0m | time: 133.462s\n\u001b[2K\r| SGD | epoch: 001 | loss: 0.06850 - acc: 0.9841 -- iter: 40780/55000\n"
     ]
    },
    {
     "name": "stdout",
     "output_type": "stream",
     "text": [
      "Training Step: 2040  | total loss: \u001b[1m\u001b[32m0.06386\u001b[0m\u001b[0m | time: 133.525s\n\u001b[2K\r| SGD | epoch: 001 | loss: 0.06386 - acc: 0.9857 -- iter: 40800/55000\n"
     ]
    },
    {
     "name": "stdout",
     "output_type": "stream",
     "text": [
      "Training Step: 2041  | total loss: \u001b[1m\u001b[32m0.06316\u001b[0m\u001b[0m | time: 133.603s\n\u001b[2K\r| SGD | epoch: 001 | loss: 0.06316 - acc: 0.9821 -- iter: 40820/55000\n"
     ]
    },
    {
     "name": "stdout",
     "output_type": "stream",
     "text": [
      "Training Step: 2042  | total loss: \u001b[1m\u001b[32m0.05898\u001b[0m\u001b[0m | time: 133.676s\n\u001b[2K\r| SGD | epoch: 001 | loss: 0.05898 - acc: 0.9839 -- iter: 40840/55000\n"
     ]
    },
    {
     "name": "stdout",
     "output_type": "stream",
     "text": [
      "Training Step: 2043  | total loss: \u001b[1m\u001b[32m0.08341\u001b[0m\u001b[0m | time: 133.729s\n\u001b[2K\r| SGD | epoch: 001 | loss: 0.08341 - acc: 0.9805 -- iter: 40860/55000\n"
     ]
    },
    {
     "name": "stdout",
     "output_type": "stream",
     "text": [
      "Training Step: 2044  | total loss: \u001b[1m\u001b[32m0.07709\u001b[0m\u001b[0m | time: 133.807s\n\u001b[2K\r| SGD | epoch: 001 | loss: 0.07709 - acc: 0.9825 -- iter: 40880/55000\n"
     ]
    },
    {
     "name": "stdout",
     "output_type": "stream",
     "text": [
      "Training Step: 2045  | total loss: \u001b[1m\u001b[32m0.07207\u001b[0m\u001b[0m | time: 133.869s\n\u001b[2K\r| SGD | epoch: 001 | loss: 0.07207 - acc: 0.9842 -- iter: 40900/55000\n"
     ]
    },
    {
     "name": "stdout",
     "output_type": "stream",
     "text": [
      "Training Step: 2046  | total loss: \u001b[1m\u001b[32m0.06574\u001b[0m\u001b[0m | time: 133.932s\n\u001b[2K\r| SGD | epoch: 001 | loss: 0.06574 - acc: 0.9858 -- iter: 40920/55000\n"
     ]
    },
    {
     "name": "stdout",
     "output_type": "stream",
     "text": [
      "Training Step: 2047  | total loss: \u001b[1m\u001b[32m0.06170\u001b[0m\u001b[0m | time: 133.994s\n\u001b[2K\r| SGD | epoch: 001 | loss: 0.06170 - acc: 0.9872 -- iter: 40940/55000\n"
     ]
    },
    {
     "name": "stdout",
     "output_type": "stream",
     "text": [
      "Training Step: 2048  | total loss: \u001b[1m\u001b[32m0.05606\u001b[0m\u001b[0m | time: 134.057s\n\u001b[2K\r| SGD | epoch: 001 | loss: 0.05606 - acc: 0.9885 -- iter: 40960/55000\n"
     ]
    },
    {
     "name": "stdout",
     "output_type": "stream",
     "text": [
      "Training Step: 2049  | total loss: \u001b[1m\u001b[32m0.05088\u001b[0m\u001b[0m | time: 134.119s\n\u001b[2K\r| SGD | epoch: 001 | loss: 0.05088 - acc: 0.9896 -- iter: 40980/55000\n"
     ]
    },
    {
     "name": "stdout",
     "output_type": "stream",
     "text": [
      "Training Step: 2050  | total loss: \u001b[1m\u001b[32m0.04714\u001b[0m\u001b[0m | time: 134.182s\n\u001b[2K\r| SGD | epoch: 001 | loss: 0.04714 - acc: 0.9907 -- iter: 41000/55000\n"
     ]
    },
    {
     "name": "stdout",
     "output_type": "stream",
     "text": [
      "Training Step: 2051  | total loss: \u001b[1m\u001b[32m0.04291\u001b[0m\u001b[0m | time: 134.244s\n\u001b[2K\r| SGD | epoch: 001 | loss: 0.04291 - acc: 0.9916 -- iter: 41020/55000\n"
     ]
    },
    {
     "name": "stdout",
     "output_type": "stream",
     "text": [
      "Training Step: 2052  | total loss: \u001b[1m\u001b[32m0.03995\u001b[0m\u001b[0m | time: 134.307s\n\u001b[2K\r| SGD | epoch: 001 | loss: 0.03995 - acc: 0.9925 -- iter: 41040/55000\n"
     ]
    },
    {
     "name": "stdout",
     "output_type": "stream",
     "text": [
      "Training Step: 2053  | total loss: \u001b[1m\u001b[32m0.05016\u001b[0m\u001b[0m | time: 134.369s\n\u001b[2K\r| SGD | epoch: 001 | loss: 0.05016 - acc: 0.9882 -- iter: 41060/55000\n"
     ]
    },
    {
     "name": "stdout",
     "output_type": "stream",
     "text": [
      "Training Step: 2054  | total loss: \u001b[1m\u001b[32m0.04632\u001b[0m\u001b[0m | time: 134.432s\n\u001b[2K\r| SGD | epoch: 001 | loss: 0.04632 - acc: 0.9894 -- iter: 41080/55000\n"
     ]
    },
    {
     "name": "stdout",
     "output_type": "stream",
     "text": [
      "Training Step: 2055  | total loss: \u001b[1m\u001b[32m0.04239\u001b[0m\u001b[0m | time: 134.494s\n\u001b[2K\r| SGD | epoch: 001 | loss: 0.04239 - acc: 0.9904 -- iter: 41100/55000\n"
     ]
    },
    {
     "name": "stdout",
     "output_type": "stream",
     "text": [
      "Training Step: 2056  | total loss: \u001b[1m\u001b[32m0.03989\u001b[0m\u001b[0m | time: 134.557s\n\u001b[2K\r| SGD | epoch: 001 | loss: 0.03989 - acc: 0.9914 -- iter: 41120/55000\n"
     ]
    },
    {
     "name": "stdout",
     "output_type": "stream",
     "text": [
      "Training Step: 2057  | total loss: \u001b[1m\u001b[32m0.08750\u001b[0m\u001b[0m | time: 134.629s\n\u001b[2K\r| SGD | epoch: 001 | loss: 0.08750 - acc: 0.9823 -- iter: 41140/55000\n"
     ]
    },
    {
     "name": "stdout",
     "output_type": "stream",
     "text": [
      "Training Step: 2058  | total loss: \u001b[1m\u001b[32m0.11162\u001b[0m\u001b[0m | time: 134.691s\n\u001b[2K\r| SGD | epoch: 001 | loss: 0.11162 - acc: 0.9740 -- iter: 41160/55000\n"
     ]
    },
    {
     "name": "stdout",
     "output_type": "stream",
     "text": [
      "Training Step: 2059  | total loss: \u001b[1m\u001b[32m0.10064\u001b[0m\u001b[0m | time: 134.769s\n\u001b[2K\r| SGD | epoch: 001 | loss: 0.10064 - acc: 0.9766 -- iter: 41180/55000\n"
     ]
    },
    {
     "name": "stdout",
     "output_type": "stream",
     "text": [
      "Training Step: 2060  | total loss: \u001b[1m\u001b[32m0.10462\u001b[0m\u001b[0m | time: 134.832s\n\u001b[2K\r| SGD | epoch: 001 | loss: 0.10462 - acc: 0.9690 -- iter: 41200/55000\n"
     ]
    },
    {
     "name": "stdout",
     "output_type": "stream",
     "text": [
      "Training Step: 2061  | total loss: \u001b[1m\u001b[32m0.09996\u001b[0m\u001b[0m | time: 134.894s\n\u001b[2K\r| SGD | epoch: 001 | loss: 0.09996 - acc: 0.9671 -- iter: 41220/55000\n"
     ]
    },
    {
     "name": "stdout",
     "output_type": "stream",
     "text": [
      "Training Step: 2062  | total loss: \u001b[1m\u001b[32m0.09410\u001b[0m\u001b[0m | time: 134.957s\n\u001b[2K\r| SGD | epoch: 001 | loss: 0.09410 - acc: 0.9704 -- iter: 41240/55000\n"
     ]
    },
    {
     "name": "stdout",
     "output_type": "stream",
     "text": [
      "Training Step: 2063  | total loss: \u001b[1m\u001b[32m0.12279\u001b[0m\u001b[0m | time: 135.035s\n\u001b[2K\r| SGD | epoch: 001 | loss: 0.12279 - acc: 0.9633 -- iter: 41260/55000\n"
     ]
    },
    {
     "name": "stdout",
     "output_type": "stream",
     "text": [
      "Training Step: 2064  | total loss: \u001b[1m\u001b[32m0.11567\u001b[0m\u001b[0m | time: 135.097s\n\u001b[2K\r| SGD | epoch: 001 | loss: 0.11567 - acc: 0.9670 -- iter: 41280/55000\n"
     ]
    },
    {
     "name": "stdout",
     "output_type": "stream",
     "text": [
      "Training Step: 2065  | total loss: \u001b[1m\u001b[32m0.10606\u001b[0m\u001b[0m | time: 135.160s\n\u001b[2K\r| SGD | epoch: 001 | loss: 0.10606 - acc: 0.9703 -- iter: 41300/55000\n"
     ]
    },
    {
     "name": "stdout",
     "output_type": "stream",
     "text": [
      "Training Step: 2066  | total loss: \u001b[1m\u001b[32m0.09645\u001b[0m\u001b[0m | time: 135.222s\n\u001b[2K\r| SGD | epoch: 001 | loss: 0.09645 - acc: 0.9733 -- iter: 41320/55000\n"
     ]
    },
    {
     "name": "stdout",
     "output_type": "stream",
     "text": [
      "Training Step: 2067  | total loss: \u001b[1m\u001b[32m0.08915\u001b[0m\u001b[0m | time: 135.301s\n\u001b[2K\r| SGD | epoch: 001 | loss: 0.08915 - acc: 0.9759 -- iter: 41340/55000\n"
     ]
    },
    {
     "name": "stdout",
     "output_type": "stream",
     "text": [
      "Training Step: 2068  | total loss: \u001b[1m\u001b[32m0.08696\u001b[0m\u001b[0m | time: 135.363s\n\u001b[2K\r| SGD | epoch: 001 | loss: 0.08696 - acc: 0.9733 -- iter: 41360/55000\n"
     ]
    },
    {
     "name": "stdout",
     "output_type": "stream",
     "text": [
      "Training Step: 2069  | total loss: \u001b[1m\u001b[32m0.08928\u001b[0m\u001b[0m | time: 135.426s\n\u001b[2K\r| SGD | epoch: 001 | loss: 0.08928 - acc: 0.9710 -- iter: 41380/55000\n"
     ]
    },
    {
     "name": "stdout",
     "output_type": "stream",
     "text": [
      "Training Step: 2070  | total loss: \u001b[1m\u001b[32m0.08723\u001b[0m\u001b[0m | time: 135.504s\n\u001b[2K\r| SGD | epoch: 001 | loss: 0.08723 - acc: 0.9689 -- iter: 41400/55000\n"
     ]
    },
    {
     "name": "stdout",
     "output_type": "stream",
     "text": [
      "Training Step: 2071  | total loss: \u001b[1m\u001b[32m0.07992\u001b[0m\u001b[0m | time: 135.575s\n\u001b[2K\r| SGD | epoch: 001 | loss: 0.07992 - acc: 0.9720 -- iter: 41420/55000\n"
     ]
    },
    {
     "name": "stdout",
     "output_type": "stream",
     "text": [
      "Training Step: 2072  | total loss: \u001b[1m\u001b[32m0.09169\u001b[0m\u001b[0m | time: 135.624s\n\u001b[2K\r| SGD | epoch: 001 | loss: 0.09169 - acc: 0.9598 -- iter: 41440/55000\n"
     ]
    },
    {
     "name": "stdout",
     "output_type": "stream",
     "text": [
      "Training Step: 2073  | total loss: \u001b[1m\u001b[32m0.08466\u001b[0m\u001b[0m | time: 135.671s\n\u001b[2K\r| SGD | epoch: 001 | loss: 0.08466 - acc: 0.9638 -- iter: 41460/55000\n"
     ]
    },
    {
     "name": "stdout",
     "output_type": "stream",
     "text": [
      "Training Step: 2074  | total loss: \u001b[1m\u001b[32m0.08819\u001b[0m\u001b[0m | time: 135.733s\n\u001b[2K\r| SGD | epoch: 001 | loss: 0.08819 - acc: 0.9625 -- iter: 41480/55000\n"
     ]
    },
    {
     "name": "stdout",
     "output_type": "stream",
     "text": [
      "Training Step: 2075  | total loss: \u001b[1m\u001b[32m0.08148\u001b[0m\u001b[0m | time: 135.812s\n\u001b[2K\r| SGD | epoch: 001 | loss: 0.08148 - acc: 0.9662 -- iter: 41500/55000\n"
     ]
    },
    {
     "name": "stdout",
     "output_type": "stream",
     "text": [
      "Training Step: 2076  | total loss: \u001b[1m\u001b[32m0.07670\u001b[0m\u001b[0m | time: 135.874s\n\u001b[2K\r| SGD | epoch: 001 | loss: 0.07670 - acc: 0.9696 -- iter: 41520/55000\n"
     ]
    },
    {
     "name": "stdout",
     "output_type": "stream",
     "text": [
      "Training Step: 2077  | total loss: \u001b[1m\u001b[32m0.07176\u001b[0m\u001b[0m | time: 135.952s\n\u001b[2K\r| SGD | epoch: 001 | loss: 0.07176 - acc: 0.9726 -- iter: 41540/55000\n"
     ]
    },
    {
     "name": "stdout",
     "output_type": "stream",
     "text": [
      "Training Step: 2078  | total loss: \u001b[1m\u001b[32m0.06518\u001b[0m\u001b[0m | time: 136.015s\n\u001b[2K\r| SGD | epoch: 001 | loss: 0.06518 - acc: 0.9754 -- iter: 41560/55000\n"
     ]
    },
    {
     "name": "stdout",
     "output_type": "stream",
     "text": [
      "Training Step: 2079  | total loss: \u001b[1m\u001b[32m0.05926\u001b[0m\u001b[0m | time: 136.093s\n\u001b[2K\r| SGD | epoch: 001 | loss: 0.05926 - acc: 0.9778 -- iter: 41580/55000\n"
     ]
    },
    {
     "name": "stdout",
     "output_type": "stream",
     "text": [
      "Training Step: 2080  | total loss: \u001b[1m\u001b[32m0.06333\u001b[0m\u001b[0m | time: 136.171s\n\u001b[2K\r| SGD | epoch: 001 | loss: 0.06333 - acc: 0.9750 -- iter: 41600/55000\n"
     ]
    },
    {
     "name": "stdout",
     "output_type": "stream",
     "text": [
      "Training Step: 2081  | total loss: \u001b[1m\u001b[32m0.05802\u001b[0m\u001b[0m | time: 136.249s\n\u001b[2K\r| SGD | epoch: 001 | loss: 0.05802 - acc: 0.9775 -- iter: 41620/55000\n"
     ]
    },
    {
     "name": "stdout",
     "output_type": "stream",
     "text": [
      "Training Step: 2082  | total loss: \u001b[1m\u001b[32m0.05483\u001b[0m\u001b[0m | time: 136.312s\n\u001b[2K\r| SGD | epoch: 001 | loss: 0.05483 - acc: 0.9798 -- iter: 41640/55000\n"
     ]
    },
    {
     "name": "stdout",
     "output_type": "stream",
     "text": [
      "Training Step: 2083  | total loss: \u001b[1m\u001b[32m0.05453\u001b[0m\u001b[0m | time: 136.374s\n\u001b[2K\r| SGD | epoch: 001 | loss: 0.05453 - acc: 0.9818 -- iter: 41660/55000\n"
     ]
    },
    {
     "name": "stdout",
     "output_type": "stream",
     "text": [
      "Training Step: 2084  | total loss: \u001b[1m\u001b[32m0.04925\u001b[0m\u001b[0m | time: 136.452s\n\u001b[2K\r| SGD | epoch: 001 | loss: 0.04925 - acc: 0.9836 -- iter: 41680/55000\n"
     ]
    },
    {
     "name": "stdout",
     "output_type": "stream",
     "text": [
      "Training Step: 2085  | total loss: \u001b[1m\u001b[32m0.04649\u001b[0m\u001b[0m | time: 136.519s\n\u001b[2K\r| SGD | epoch: 001 | loss: 0.04649 - acc: 0.9853 -- iter: 41700/55000\n"
     ]
    },
    {
     "name": "stdout",
     "output_type": "stream",
     "text": [
      "Training Step: 2086  | total loss: \u001b[1m\u001b[32m0.04904\u001b[0m\u001b[0m | time: 136.591s\n\u001b[2K\r| SGD | epoch: 001 | loss: 0.04904 - acc: 0.9817 -- iter: 41720/55000\n"
     ]
    },
    {
     "name": "stdout",
     "output_type": "stream",
     "text": [
      "Training Step: 2087  | total loss: \u001b[1m\u001b[32m0.04464\u001b[0m\u001b[0m | time: 136.653s\n\u001b[2K\r| SGD | epoch: 001 | loss: 0.04464 - acc: 0.9836 -- iter: 41740/55000\n"
     ]
    },
    {
     "name": "stdout",
     "output_type": "stream",
     "text": [
      "Training Step: 2088  | total loss: \u001b[1m\u001b[32m0.04067\u001b[0m\u001b[0m | time: 136.716s\n\u001b[2K\r| SGD | epoch: 001 | loss: 0.04067 - acc: 0.9852 -- iter: 41760/55000\n"
     ]
    },
    {
     "name": "stdout",
     "output_type": "stream",
     "text": [
      "Training Step: 2089  | total loss: \u001b[1m\u001b[32m0.03682\u001b[0m\u001b[0m | time: 136.794s\n\u001b[2K\r| SGD | epoch: 001 | loss: 0.03682 - acc: 0.9867 -- iter: 41780/55000\n"
     ]
    },
    {
     "name": "stdout",
     "output_type": "stream",
     "text": [
      "Training Step: 2090  | total loss: \u001b[1m\u001b[32m0.04195\u001b[0m\u001b[0m | time: 136.856s\n\u001b[2K\r| SGD | epoch: 001 | loss: 0.04195 - acc: 0.9830 -- iter: 41800/55000\n"
     ]
    },
    {
     "name": "stdout",
     "output_type": "stream",
     "text": [
      "Training Step: 2091  | total loss: \u001b[1m\u001b[32m0.04302\u001b[0m\u001b[0m | time: 136.935s\n\u001b[2K\r| SGD | epoch: 001 | loss: 0.04302 - acc: 0.9797 -- iter: 41820/55000\n"
     ]
    },
    {
     "name": "stdout",
     "output_type": "stream",
     "text": [
      "Training Step: 2092  | total loss: \u001b[1m\u001b[32m0.03884\u001b[0m\u001b[0m | time: 136.997s\n\u001b[2K\r| SGD | epoch: 001 | loss: 0.03884 - acc: 0.9817 -- iter: 41840/55000\n"
     ]
    },
    {
     "name": "stdout",
     "output_type": "stream",
     "text": [
      "Training Step: 2093  | total loss: \u001b[1m\u001b[32m0.03678\u001b[0m\u001b[0m | time: 137.075s\n\u001b[2K\r| SGD | epoch: 001 | loss: 0.03678 - acc: 0.9836 -- iter: 41860/55000\n"
     ]
    },
    {
     "name": "stdout",
     "output_type": "stream",
     "text": [
      "Training Step: 2094  | total loss: \u001b[1m\u001b[32m0.03325\u001b[0m\u001b[0m | time: 137.138s\n\u001b[2K\r| SGD | epoch: 001 | loss: 0.03325 - acc: 0.9852 -- iter: 41880/55000\n"
     ]
    },
    {
     "name": "stdout",
     "output_type": "stream",
     "text": [
      "Training Step: 2095  | total loss: \u001b[1m\u001b[32m0.04662\u001b[0m\u001b[0m | time: 137.200s\n\u001b[2K\r| SGD | epoch: 001 | loss: 0.04662 - acc: 0.9817 -- iter: 41900/55000\n"
     ]
    },
    {
     "name": "stdout",
     "output_type": "stream",
     "text": [
      "Training Step: 2096  | total loss: \u001b[1m\u001b[32m0.04656\u001b[0m\u001b[0m | time: 137.263s\n\u001b[2K\r| SGD | epoch: 001 | loss: 0.04656 - acc: 0.9785 -- iter: 41920/55000\n"
     ]
    },
    {
     "name": "stdout",
     "output_type": "stream",
     "text": [
      "Training Step: 2097  | total loss: \u001b[1m\u001b[32m0.04382\u001b[0m\u001b[0m | time: 137.325s\n\u001b[2K\r| SGD | epoch: 001 | loss: 0.04382 - acc: 0.9807 -- iter: 41940/55000\n"
     ]
    },
    {
     "name": "stdout",
     "output_type": "stream",
     "text": [
      "Training Step: 2098  | total loss: \u001b[1m\u001b[32m0.04010\u001b[0m\u001b[0m | time: 137.403s\n\u001b[2K\r| SGD | epoch: 001 | loss: 0.04010 - acc: 0.9826 -- iter: 41960/55000\n"
     ]
    },
    {
     "name": "stdout",
     "output_type": "stream",
     "text": [
      "Training Step: 2099  | total loss: \u001b[1m\u001b[32m0.03639\u001b[0m\u001b[0m | time: 137.466s\n\u001b[2K\r| SGD | epoch: 001 | loss: 0.03639 - acc: 0.9843 -- iter: 41980/55000\n"
     ]
    },
    {
     "name": "stdout",
     "output_type": "stream",
     "text": [
      "Training Step: 2100  | total loss: \u001b[1m\u001b[32m0.05785\u001b[0m\u001b[0m | time: 137.545s\n\u001b[2K\r| SGD | epoch: 001 | loss: 0.05785 - acc: 0.9809 -- iter: 42000/55000\n"
     ]
    },
    {
     "name": "stdout",
     "output_type": "stream",
     "text": [
      "Training Step: 2101  | total loss: \u001b[1m\u001b[32m0.08609\u001b[0m\u001b[0m | time: 137.610s\n\u001b[2K\r| SGD | epoch: 001 | loss: 0.08609 - acc: 0.9728 -- iter: 42020/55000\n"
     ]
    },
    {
     "name": "stdout",
     "output_type": "stream",
     "text": [
      "Training Step: 2102  | total loss: \u001b[1m\u001b[32m0.09615\u001b[0m\u001b[0m | time: 137.672s\n\u001b[2K\r| SGD | epoch: 001 | loss: 0.09615 - acc: 0.9705 -- iter: 42040/55000\n"
     ]
    },
    {
     "name": "stdout",
     "output_type": "stream",
     "text": [
      "Training Step: 2103  | total loss: \u001b[1m\u001b[32m0.09057\u001b[0m\u001b[0m | time: 137.750s\n\u001b[2K\r| SGD | epoch: 001 | loss: 0.09057 - acc: 0.9735 -- iter: 42060/55000\n"
     ]
    },
    {
     "name": "stdout",
     "output_type": "stream",
     "text": [
      "Training Step: 2104  | total loss: \u001b[1m\u001b[32m0.11000\u001b[0m\u001b[0m | time: 137.828s\n\u001b[2K\r| SGD | epoch: 001 | loss: 0.11000 - acc: 0.9711 -- iter: 42080/55000\n"
     ]
    },
    {
     "name": "stdout",
     "output_type": "stream",
     "text": [
      "Training Step: 2105  | total loss: \u001b[1m\u001b[32m0.10330\u001b[0m\u001b[0m | time: 137.907s\n\u001b[2K\r| SGD | epoch: 001 | loss: 0.10330 - acc: 0.9740 -- iter: 42100/55000\n"
     ]
    },
    {
     "name": "stdout",
     "output_type": "stream",
     "text": [
      "Training Step: 2106  | total loss: \u001b[1m\u001b[32m0.09632\u001b[0m\u001b[0m | time: 137.985s\n\u001b[2K\r| SGD | epoch: 001 | loss: 0.09632 - acc: 0.9766 -- iter: 42120/55000\n"
     ]
    },
    {
     "name": "stdout",
     "output_type": "stream",
     "text": [
      "Training Step: 2107  | total loss: \u001b[1m\u001b[32m0.08718\u001b[0m\u001b[0m | time: 138.063s\n\u001b[2K\r| SGD | epoch: 001 | loss: 0.08718 - acc: 0.9790 -- iter: 42140/55000\n"
     ]
    },
    {
     "name": "stdout",
     "output_type": "stream",
     "text": [
      "Training Step: 2108  | total loss: \u001b[1m\u001b[32m0.07862\u001b[0m\u001b[0m | time: 138.141s\n\u001b[2K\r| SGD | epoch: 001 | loss: 0.07862 - acc: 0.9811 -- iter: 42160/55000\n"
     ]
    },
    {
     "name": "stdout",
     "output_type": "stream",
     "text": [
      "Training Step: 2109  | total loss: \u001b[1m\u001b[32m0.07643\u001b[0m\u001b[0m | time: 138.203s\n\u001b[2K\r| SGD | epoch: 001 | loss: 0.07643 - acc: 0.9780 -- iter: 42180/55000\n"
     ]
    },
    {
     "name": "stdout",
     "output_type": "stream",
     "text": [
      "Training Step: 2110  | total loss: \u001b[1m\u001b[32m0.07619\u001b[0m\u001b[0m | time: 138.266s\n\u001b[2K\r| SGD | epoch: 001 | loss: 0.07619 - acc: 0.9752 -- iter: 42200/55000\n"
     ]
    },
    {
     "name": "stdout",
     "output_type": "stream",
     "text": [
      "Training Step: 2111  | total loss: \u001b[1m\u001b[32m0.06992\u001b[0m\u001b[0m | time: 138.344s\n\u001b[2K\r| SGD | epoch: 001 | loss: 0.06992 - acc: 0.9776 -- iter: 42220/55000\n"
     ]
    },
    {
     "name": "stdout",
     "output_type": "stream",
     "text": [
      "Training Step: 2112  | total loss: \u001b[1m\u001b[32m0.06557\u001b[0m\u001b[0m | time: 138.407s\n\u001b[2K\r| SGD | epoch: 001 | loss: 0.06557 - acc: 0.9799 -- iter: 42240/55000\n"
     ]
    },
    {
     "name": "stdout",
     "output_type": "stream",
     "text": [
      "Training Step: 2113  | total loss: \u001b[1m\u001b[32m0.06464\u001b[0m\u001b[0m | time: 138.488s\n\u001b[2K\r| SGD | epoch: 001 | loss: 0.06464 - acc: 0.9769 -- iter: 42260/55000\n"
     ]
    },
    {
     "name": "stdout",
     "output_type": "stream",
     "text": [
      "Training Step: 2114  | total loss: \u001b[1m\u001b[32m0.06184\u001b[0m\u001b[0m | time: 138.542s\n\u001b[2K\r| SGD | epoch: 001 | loss: 0.06184 - acc: 0.9792 -- iter: 42280/55000\n"
     ]
    },
    {
     "name": "stdout",
     "output_type": "stream",
     "text": [
      "Training Step: 2115  | total loss: \u001b[1m\u001b[32m0.05595\u001b[0m\u001b[0m | time: 138.620s\n\u001b[2K\r| SGD | epoch: 001 | loss: 0.05595 - acc: 0.9813 -- iter: 42300/55000\n"
     ]
    },
    {
     "name": "stdout",
     "output_type": "stream",
     "text": [
      "Training Step: 2116  | total loss: \u001b[1m\u001b[32m0.05530\u001b[0m\u001b[0m | time: 138.698s\n\u001b[2K\r| SGD | epoch: 001 | loss: 0.05530 - acc: 0.9832 -- iter: 42320/55000\n"
     ]
    },
    {
     "name": "stdout",
     "output_type": "stream",
     "text": [
      "Training Step: 2117  | total loss: \u001b[1m\u001b[32m0.05002\u001b[0m\u001b[0m | time: 138.776s\n\u001b[2K\r| SGD | epoch: 001 | loss: 0.05002 - acc: 0.9848 -- iter: 42340/55000\n"
     ]
    },
    {
     "name": "stdout",
     "output_type": "stream",
     "text": [
      "Training Step: 2118  | total loss: \u001b[1m\u001b[32m0.05272\u001b[0m\u001b[0m | time: 138.839s\n\u001b[2K\r| SGD | epoch: 001 | loss: 0.05272 - acc: 0.9814 -- iter: 42360/55000\n"
     ]
    },
    {
     "name": "stdout",
     "output_type": "stream",
     "text": [
      "Training Step: 2119  | total loss: \u001b[1m\u001b[32m0.05890\u001b[0m\u001b[0m | time: 138.917s\n\u001b[2K\r| SGD | epoch: 001 | loss: 0.05890 - acc: 0.9782 -- iter: 42380/55000\n"
     ]
    },
    {
     "name": "stdout",
     "output_type": "stream",
     "text": [
      "Training Step: 2120  | total loss: \u001b[1m\u001b[32m0.05354\u001b[0m\u001b[0m | time: 138.980s\n\u001b[2K\r| SGD | epoch: 001 | loss: 0.05354 - acc: 0.9804 -- iter: 42400/55000\n"
     ]
    },
    {
     "name": "stdout",
     "output_type": "stream",
     "text": [
      "Training Step: 2121  | total loss: \u001b[1m\u001b[32m0.05993\u001b[0m\u001b[0m | time: 139.058s\n\u001b[2K\r| SGD | epoch: 001 | loss: 0.05993 - acc: 0.9774 -- iter: 42420/55000\n"
     ]
    },
    {
     "name": "stdout",
     "output_type": "stream",
     "text": [
      "Training Step: 2122  | total loss: \u001b[1m\u001b[32m0.06027\u001b[0m\u001b[0m | time: 139.136s\n\u001b[2K\r| SGD | epoch: 001 | loss: 0.06027 - acc: 0.9746 -- iter: 42440/55000\n"
     ]
    },
    {
     "name": "stdout",
     "output_type": "stream",
     "text": [
      "Training Step: 2123  | total loss: \u001b[1m\u001b[32m0.08768\u001b[0m\u001b[0m | time: 139.198s\n\u001b[2K\r| SGD | epoch: 001 | loss: 0.08768 - acc: 0.9722 -- iter: 42460/55000\n"
     ]
    },
    {
     "name": "stdout",
     "output_type": "stream",
     "text": [
      "Training Step: 2124  | total loss: \u001b[1m\u001b[32m0.08224\u001b[0m\u001b[0m | time: 139.276s\n\u001b[2K\r| SGD | epoch: 001 | loss: 0.08224 - acc: 0.9749 -- iter: 42480/55000\n"
     ]
    },
    {
     "name": "stdout",
     "output_type": "stream",
     "text": [
      "Training Step: 2125  | total loss: \u001b[1m\u001b[32m0.08540\u001b[0m\u001b[0m | time: 139.339s\n\u001b[2K\r| SGD | epoch: 001 | loss: 0.08540 - acc: 0.9724 -- iter: 42500/55000\n"
     ]
    },
    {
     "name": "stdout",
     "output_type": "stream",
     "text": [
      "Training Step: 2126  | total loss: \u001b[1m\u001b[32m0.08628\u001b[0m\u001b[0m | time: 139.417s\n\u001b[2K\r| SGD | epoch: 001 | loss: 0.08628 - acc: 0.9702 -- iter: 42520/55000\n"
     ]
    },
    {
     "name": "stdout",
     "output_type": "stream",
     "text": [
      "Training Step: 2127  | total loss: \u001b[1m\u001b[32m0.07887\u001b[0m\u001b[0m | time: 139.494s\n\u001b[2K\r| SGD | epoch: 001 | loss: 0.07887 - acc: 0.9732 -- iter: 42540/55000\n"
     ]
    },
    {
     "name": "stdout",
     "output_type": "stream",
     "text": [
      "Training Step: 2128  | total loss: \u001b[1m\u001b[32m0.07602\u001b[0m\u001b[0m | time: 139.552s\n\u001b[2K\r| SGD | epoch: 001 | loss: 0.07602 - acc: 0.9709 -- iter: 42560/55000\n"
     ]
    },
    {
     "name": "stdout",
     "output_type": "stream",
     "text": [
      "Training Step: 2129  | total loss: \u001b[1m\u001b[32m0.06908\u001b[0m\u001b[0m | time: 139.630s\n\u001b[2K\r| SGD | epoch: 001 | loss: 0.06908 - acc: 0.9738 -- iter: 42580/55000\n"
     ]
    },
    {
     "name": "stdout",
     "output_type": "stream",
     "text": [
      "Training Step: 2130  | total loss: \u001b[1m\u001b[32m0.07062\u001b[0m\u001b[0m | time: 139.692s\n\u001b[2K\r| SGD | epoch: 001 | loss: 0.07062 - acc: 0.9764 -- iter: 42600/55000\n"
     ]
    },
    {
     "name": "stdout",
     "output_type": "stream",
     "text": [
      "Training Step: 2131  | total loss: \u001b[1m\u001b[32m0.06464\u001b[0m\u001b[0m | time: 139.770s\n\u001b[2K\r| SGD | epoch: 001 | loss: 0.06464 - acc: 0.9788 -- iter: 42620/55000\n"
     ]
    },
    {
     "name": "stdout",
     "output_type": "stream",
     "text": [
      "Training Step: 2132  | total loss: \u001b[1m\u001b[32m0.06798\u001b[0m\u001b[0m | time: 139.833s\n\u001b[2K\r| SGD | epoch: 001 | loss: 0.06798 - acc: 0.9759 -- iter: 42640/55000\n"
     ]
    },
    {
     "name": "stdout",
     "output_type": "stream",
     "text": [
      "Training Step: 2133  | total loss: \u001b[1m\u001b[32m0.06462\u001b[0m\u001b[0m | time: 139.911s\n\u001b[2K\r| SGD | epoch: 001 | loss: 0.06462 - acc: 0.9783 -- iter: 42660/55000\n"
     ]
    },
    {
     "name": "stdout",
     "output_type": "stream",
     "text": [
      "Training Step: 2134  | total loss: \u001b[1m\u001b[32m0.06184\u001b[0m\u001b[0m | time: 139.974s\n\u001b[2K\r| SGD | epoch: 001 | loss: 0.06184 - acc: 0.9805 -- iter: 42680/55000\n"
     ]
    },
    {
     "name": "stdout",
     "output_type": "stream",
     "text": [
      "Training Step: 2135  | total loss: \u001b[1m\u001b[32m0.06007\u001b[0m\u001b[0m | time: 140.052s\n\u001b[2K\r| SGD | epoch: 001 | loss: 0.06007 - acc: 0.9824 -- iter: 42700/55000\n"
     ]
    },
    {
     "name": "stdout",
     "output_type": "stream",
     "text": [
      "Training Step: 2136  | total loss: \u001b[1m\u001b[32m0.05482\u001b[0m\u001b[0m | time: 140.114s\n\u001b[2K\r| SGD | epoch: 001 | loss: 0.05482 - acc: 0.9842 -- iter: 42720/55000\n"
     ]
    },
    {
     "name": "stdout",
     "output_type": "stream",
     "text": [
      "Training Step: 2137  | total loss: \u001b[1m\u001b[32m0.04972\u001b[0m\u001b[0m | time: 140.192s\n\u001b[2K\r| SGD | epoch: 001 | loss: 0.04972 - acc: 0.9858 -- iter: 42740/55000\n"
     ]
    },
    {
     "name": "stdout",
     "output_type": "stream",
     "text": [
      "Training Step: 2138  | total loss: \u001b[1m\u001b[32m0.05781\u001b[0m\u001b[0m | time: 140.255s\n\u001b[2K\r| SGD | epoch: 001 | loss: 0.05781 - acc: 0.9772 -- iter: 42760/55000\n"
     ]
    },
    {
     "name": "stdout",
     "output_type": "stream",
     "text": [
      "Training Step: 2139  | total loss: \u001b[1m\u001b[32m0.05254\u001b[0m\u001b[0m | time: 140.333s\n\u001b[2K\r| SGD | epoch: 001 | loss: 0.05254 - acc: 0.9795 -- iter: 42780/55000\n"
     ]
    },
    {
     "name": "stdout",
     "output_type": "stream",
     "text": [
      "Training Step: 2140  | total loss: \u001b[1m\u001b[32m0.04767\u001b[0m\u001b[0m | time: 140.395s\n\u001b[2K\r| SGD | epoch: 001 | loss: 0.04767 - acc: 0.9815 -- iter: 42800/55000\n"
     ]
    },
    {
     "name": "stdout",
     "output_type": "stream",
     "text": [
      "Training Step: 2141  | total loss: \u001b[1m\u001b[32m0.04836\u001b[0m\u001b[0m | time: 140.478s\n\u001b[2K\r| SGD | epoch: 001 | loss: 0.04836 - acc: 0.9784 -- iter: 42820/55000\n"
     ]
    },
    {
     "name": "stdout",
     "output_type": "stream",
     "text": [
      "Training Step: 2142  | total loss: \u001b[1m\u001b[32m0.04391\u001b[0m\u001b[0m | time: 140.547s\n\u001b[2K\r| SGD | epoch: 001 | loss: 0.04391 - acc: 0.9805 -- iter: 42840/55000\n"
     ]
    },
    {
     "name": "stdout",
     "output_type": "stream",
     "text": [
      "Training Step: 2143  | total loss: \u001b[1m\u001b[32m0.04394\u001b[0m\u001b[0m | time: 140.603s\n\u001b[2K\r| SGD | epoch: 001 | loss: 0.04394 - acc: 0.9825 -- iter: 42860/55000\n"
     ]
    },
    {
     "name": "stdout",
     "output_type": "stream",
     "text": [
      "Training Step: 2144  | total loss: \u001b[1m\u001b[32m0.04011\u001b[0m\u001b[0m | time: 140.666s\n\u001b[2K\r| SGD | epoch: 001 | loss: 0.04011 - acc: 0.9842 -- iter: 42880/55000\n"
     ]
    },
    {
     "name": "stdout",
     "output_type": "stream",
     "text": [
      "Training Step: 2145  | total loss: \u001b[1m\u001b[32m0.04000\u001b[0m\u001b[0m | time: 140.744s\n\u001b[2K\r| SGD | epoch: 001 | loss: 0.04000 - acc: 0.9858 -- iter: 42900/55000\n"
     ]
    },
    {
     "name": "stdout",
     "output_type": "stream",
     "text": [
      "Training Step: 2146  | total loss: \u001b[1m\u001b[32m0.03692\u001b[0m\u001b[0m | time: 140.822s\n\u001b[2K\r| SGD | epoch: 001 | loss: 0.03692 - acc: 0.9872 -- iter: 42920/55000\n"
     ]
    },
    {
     "name": "stdout",
     "output_type": "stream",
     "text": [
      "Training Step: 2147  | total loss: \u001b[1m\u001b[32m0.03383\u001b[0m\u001b[0m | time: 140.885s\n\u001b[2K\r| SGD | epoch: 001 | loss: 0.03383 - acc: 0.9885 -- iter: 42940/55000\n"
     ]
    },
    {
     "name": "stdout",
     "output_type": "stream",
     "text": [
      "Training Step: 2148  | total loss: \u001b[1m\u001b[32m0.03953\u001b[0m\u001b[0m | time: 140.947s\n\u001b[2K\r| SGD | epoch: 001 | loss: 0.03953 - acc: 0.9847 -- iter: 42960/55000\n"
     ]
    },
    {
     "name": "stdout",
     "output_type": "stream",
     "text": [
      "Training Step: 2149  | total loss: \u001b[1m\u001b[32m0.03875\u001b[0m\u001b[0m | time: 141.025s\n\u001b[2K\r| SGD | epoch: 001 | loss: 0.03875 - acc: 0.9862 -- iter: 42980/55000\n"
     ]
    },
    {
     "name": "stdout",
     "output_type": "stream",
     "text": [
      "Training Step: 2150  | total loss: \u001b[1m\u001b[32m0.03685\u001b[0m\u001b[0m | time: 141.088s\n\u001b[2K\r| SGD | epoch: 001 | loss: 0.03685 - acc: 0.9876 -- iter: 43000/55000\n"
     ]
    },
    {
     "name": "stdout",
     "output_type": "stream",
     "text": [
      "Training Step: 2151  | total loss: \u001b[1m\u001b[32m0.03901\u001b[0m\u001b[0m | time: 141.150s\n\u001b[2K\r| SGD | epoch: 001 | loss: 0.03901 - acc: 0.9888 -- iter: 43020/55000\n"
     ]
    },
    {
     "name": "stdout",
     "output_type": "stream",
     "text": [
      "Training Step: 2152  | total loss: \u001b[1m\u001b[32m0.03612\u001b[0m\u001b[0m | time: 141.213s\n\u001b[2K\r| SGD | epoch: 001 | loss: 0.03612 - acc: 0.9899 -- iter: 43040/55000\n"
     ]
    },
    {
     "name": "stdout",
     "output_type": "stream",
     "text": [
      "Training Step: 2153  | total loss: \u001b[1m\u001b[32m0.05675\u001b[0m\u001b[0m | time: 141.291s\n\u001b[2K\r| SGD | epoch: 001 | loss: 0.05675 - acc: 0.9859 -- iter: 43060/55000\n"
     ]
    },
    {
     "name": "stdout",
     "output_type": "stream",
     "text": [
      "Training Step: 2154  | total loss: \u001b[1m\u001b[32m0.05121\u001b[0m\u001b[0m | time: 141.353s\n\u001b[2K\r| SGD | epoch: 001 | loss: 0.05121 - acc: 0.9873 -- iter: 43080/55000\n"
     ]
    },
    {
     "name": "stdout",
     "output_type": "stream",
     "text": [
      "Training Step: 2155  | total loss: \u001b[1m\u001b[32m0.04639\u001b[0m\u001b[0m | time: 141.427s\n\u001b[2K\r| SGD | epoch: 001 | loss: 0.04639 - acc: 0.9886 -- iter: 43100/55000\n"
     ]
    },
    {
     "name": "stdout",
     "output_type": "stream",
     "text": [
      "Training Step: 2156  | total loss: \u001b[1m\u001b[32m0.04364\u001b[0m\u001b[0m | time: 141.483s\n\u001b[2K\r| SGD | epoch: 001 | loss: 0.04364 - acc: 0.9897 -- iter: 43120/55000\n"
     ]
    },
    {
     "name": "stdout",
     "output_type": "stream",
     "text": [
      "Training Step: 2157  | total loss: \u001b[1m\u001b[32m0.03978\u001b[0m\u001b[0m | time: 141.545s\n\u001b[2K\r| SGD | epoch: 001 | loss: 0.03978 - acc: 0.9908 -- iter: 43140/55000\n"
     ]
    },
    {
     "name": "stdout",
     "output_type": "stream",
     "text": [
      "Training Step: 2158  | total loss: \u001b[1m\u001b[32m0.03780\u001b[0m\u001b[0m | time: 141.623s\n\u001b[2K\r| SGD | epoch: 001 | loss: 0.03780 - acc: 0.9917 -- iter: 43160/55000\n"
     ]
    },
    {
     "name": "stdout",
     "output_type": "stream",
     "text": [
      "Training Step: 2159  | total loss: \u001b[1m\u001b[32m0.03433\u001b[0m\u001b[0m | time: 141.686s\n\u001b[2K\r| SGD | epoch: 001 | loss: 0.03433 - acc: 0.9925 -- iter: 43180/55000\n"
     ]
    },
    {
     "name": "stdout",
     "output_type": "stream",
     "text": [
      "Training Step: 2160  | total loss: \u001b[1m\u001b[32m0.03411\u001b[0m\u001b[0m | time: 141.748s\n\u001b[2K\r| SGD | epoch: 001 | loss: 0.03411 - acc: 0.9933 -- iter: 43200/55000\n"
     ]
    },
    {
     "name": "stdout",
     "output_type": "stream",
     "text": [
      "Training Step: 2161  | total loss: \u001b[1m\u001b[32m0.03235\u001b[0m\u001b[0m | time: 141.811s\n\u001b[2K\r| SGD | epoch: 001 | loss: 0.03235 - acc: 0.9939 -- iter: 43220/55000\n"
     ]
    },
    {
     "name": "stdout",
     "output_type": "stream",
     "text": [
      "Training Step: 2162  | total loss: \u001b[1m\u001b[32m0.02990\u001b[0m\u001b[0m | time: 141.858s\n\u001b[2K\r| SGD | epoch: 001 | loss: 0.02990 - acc: 0.9946 -- iter: 43240/55000\n"
     ]
    },
    {
     "name": "stdout",
     "output_type": "stream",
     "text": [
      "Training Step: 2163  | total loss: \u001b[1m\u001b[32m0.02864\u001b[0m\u001b[0m | time: 141.920s\n\u001b[2K\r| SGD | epoch: 001 | loss: 0.02864 - acc: 0.9951 -- iter: 43260/55000\n"
     ]
    },
    {
     "name": "stdout",
     "output_type": "stream",
     "text": [
      "Training Step: 2164  | total loss: \u001b[1m\u001b[32m0.02715\u001b[0m\u001b[0m | time: 141.983s\n\u001b[2K\r| SGD | epoch: 001 | loss: 0.02715 - acc: 0.9956 -- iter: 43280/55000\n"
     ]
    },
    {
     "name": "stdout",
     "output_type": "stream",
     "text": [
      "Training Step: 2165  | total loss: \u001b[1m\u001b[32m0.02486\u001b[0m\u001b[0m | time: 142.061s\n\u001b[2K\r| SGD | epoch: 001 | loss: 0.02486 - acc: 0.9960 -- iter: 43300/55000\n"
     ]
    },
    {
     "name": "stdout",
     "output_type": "stream",
     "text": [
      "Training Step: 2166  | total loss: \u001b[1m\u001b[32m0.02299\u001b[0m\u001b[0m | time: 142.123s\n\u001b[2K\r| SGD | epoch: 001 | loss: 0.02299 - acc: 0.9964 -- iter: 43320/55000\n"
     ]
    },
    {
     "name": "stdout",
     "output_type": "stream",
     "text": [
      "Training Step: 2167  | total loss: \u001b[1m\u001b[32m0.02114\u001b[0m\u001b[0m | time: 142.186s\n\u001b[2K\r| SGD | epoch: 001 | loss: 0.02114 - acc: 0.9968 -- iter: 43340/55000\n"
     ]
    },
    {
     "name": "stdout",
     "output_type": "stream",
     "text": [
      "Training Step: 2168  | total loss: \u001b[1m\u001b[32m0.01912\u001b[0m\u001b[0m | time: 142.248s\n\u001b[2K\r| SGD | epoch: 001 | loss: 0.01912 - acc: 0.9971 -- iter: 43360/55000\n"
     ]
    },
    {
     "name": "stdout",
     "output_type": "stream",
     "text": [
      "Training Step: 2169  | total loss: \u001b[1m\u001b[32m0.01735\u001b[0m\u001b[0m | time: 142.311s\n\u001b[2K\r| SGD | epoch: 001 | loss: 0.01735 - acc: 0.9974 -- iter: 43380/55000\n"
     ]
    },
    {
     "name": "stdout",
     "output_type": "stream",
     "text": [
      "Training Step: 2170  | total loss: \u001b[1m\u001b[32m0.03004\u001b[0m\u001b[0m | time: 142.381s\n\u001b[2K\r| SGD | epoch: 001 | loss: 0.03004 - acc: 0.9927 -- iter: 43400/55000\n"
     ]
    },
    {
     "name": "stdout",
     "output_type": "stream",
     "text": [
      "Training Step: 2171  | total loss: \u001b[1m\u001b[32m0.03140\u001b[0m\u001b[0m | time: 142.443s\n\u001b[2K\r| SGD | epoch: 001 | loss: 0.03140 - acc: 0.9884 -- iter: 43420/55000\n"
     ]
    },
    {
     "name": "stdout",
     "output_type": "stream",
     "text": [
      "Training Step: 2172  | total loss: \u001b[1m\u001b[32m0.02925\u001b[0m\u001b[0m | time: 142.506s\n\u001b[2K\r| SGD | epoch: 001 | loss: 0.02925 - acc: 0.9896 -- iter: 43440/55000\n"
     ]
    },
    {
     "name": "stdout",
     "output_type": "stream",
     "text": [
      "Training Step: 2173  | total loss: \u001b[1m\u001b[32m0.03362\u001b[0m\u001b[0m | time: 142.568s\n\u001b[2K\r| SGD | epoch: 001 | loss: 0.03362 - acc: 0.9906 -- iter: 43460/55000\n"
     ]
    },
    {
     "name": "stdout",
     "output_type": "stream",
     "text": [
      "Training Step: 2174  | total loss: \u001b[1m\u001b[32m0.03208\u001b[0m\u001b[0m | time: 142.646s\n\u001b[2K\r| SGD | epoch: 001 | loss: 0.03208 - acc: 0.9915 -- iter: 43480/55000\n"
     ]
    },
    {
     "name": "stdout",
     "output_type": "stream",
     "text": [
      "Training Step: 2175  | total loss: \u001b[1m\u001b[32m0.02909\u001b[0m\u001b[0m | time: 142.709s\n\u001b[2K\r| SGD | epoch: 001 | loss: 0.02909 - acc: 0.9924 -- iter: 43500/55000\n"
     ]
    },
    {
     "name": "stdout",
     "output_type": "stream",
     "text": [
      "Training Step: 2176  | total loss: \u001b[1m\u001b[32m0.02634\u001b[0m\u001b[0m | time: 142.771s\n\u001b[2K\r| SGD | epoch: 001 | loss: 0.02634 - acc: 0.9931 -- iter: 43520/55000\n"
     ]
    },
    {
     "name": "stdout",
     "output_type": "stream",
     "text": [
      "Training Step: 2177  | total loss: \u001b[1m\u001b[32m0.02927\u001b[0m\u001b[0m | time: 142.834s\n\u001b[2K\r| SGD | epoch: 001 | loss: 0.02927 - acc: 0.9888 -- iter: 43540/55000\n"
     ]
    },
    {
     "name": "stdout",
     "output_type": "stream",
     "text": [
      "Training Step: 2178  | total loss: \u001b[1m\u001b[32m0.02717\u001b[0m\u001b[0m | time: 142.912s\n\u001b[2K\r| SGD | epoch: 001 | loss: 0.02717 - acc: 0.9899 -- iter: 43560/55000\n"
     ]
    },
    {
     "name": "stdout",
     "output_type": "stream",
     "text": [
      "Training Step: 2179  | total loss: \u001b[1m\u001b[32m0.07060\u001b[0m\u001b[0m | time: 142.975s\n\u001b[2K\r| SGD | epoch: 001 | loss: 0.07060 - acc: 0.9760 -- iter: 43580/55000\n"
     ]
    },
    {
     "name": "stdout",
     "output_type": "stream",
     "text": [
      "Training Step: 2180  | total loss: \u001b[1m\u001b[32m0.07272\u001b[0m\u001b[0m | time: 143.037s\n\u001b[2K\r| SGD | epoch: 001 | loss: 0.07272 - acc: 0.9734 -- iter: 43600/55000\n"
     ]
    },
    {
     "name": "stdout",
     "output_type": "stream",
     "text": [
      "Training Step: 2181  | total loss: \u001b[1m\u001b[32m0.07011\u001b[0m\u001b[0m | time: 143.100s\n\u001b[2K\r| SGD | epoch: 001 | loss: 0.07011 - acc: 0.9760 -- iter: 43620/55000\n"
     ]
    },
    {
     "name": "stdout",
     "output_type": "stream",
     "text": [
      "Training Step: 2182  | total loss: \u001b[1m\u001b[32m0.06363\u001b[0m\u001b[0m | time: 143.178s\n\u001b[2K\r| SGD | epoch: 001 | loss: 0.06363 - acc: 0.9784 -- iter: 43640/55000\n"
     ]
    },
    {
     "name": "stdout",
     "output_type": "stream",
     "text": [
      "Training Step: 2183  | total loss: \u001b[1m\u001b[32m0.08144\u001b[0m\u001b[0m | time: 143.240s\n\u001b[2K\r| SGD | epoch: 001 | loss: 0.08144 - acc: 0.9756 -- iter: 43660/55000\n"
     ]
    },
    {
     "name": "stdout",
     "output_type": "stream",
     "text": [
      "Training Step: 2184  | total loss: \u001b[1m\u001b[32m0.08023\u001b[0m\u001b[0m | time: 143.320s\n\u001b[2K\r| SGD | epoch: 001 | loss: 0.08023 - acc: 0.9730 -- iter: 43680/55000\n"
     ]
    },
    {
     "name": "stdout",
     "output_type": "stream",
     "text": [
      "Training Step: 2185  | total loss: \u001b[1m\u001b[32m0.07767\u001b[0m\u001b[0m | time: 143.369s\n\u001b[2K\r| SGD | epoch: 001 | loss: 0.07767 - acc: 0.9757 -- iter: 43700/55000\n"
     ]
    },
    {
     "name": "stdout",
     "output_type": "stream",
     "text": [
      "Training Step: 2186  | total loss: \u001b[1m\u001b[32m0.07542\u001b[0m\u001b[0m | time: 143.447s\n\u001b[2K\r| SGD | epoch: 001 | loss: 0.07542 - acc: 0.9781 -- iter: 43720/55000\n"
     ]
    },
    {
     "name": "stdout",
     "output_type": "stream",
     "text": [
      "Training Step: 2187  | total loss: \u001b[1m\u001b[32m0.06819\u001b[0m\u001b[0m | time: 143.510s\n\u001b[2K\r| SGD | epoch: 001 | loss: 0.06819 - acc: 0.9803 -- iter: 43740/55000\n"
     ]
    },
    {
     "name": "stdout",
     "output_type": "stream",
     "text": [
      "Training Step: 2188  | total loss: \u001b[1m\u001b[32m0.06240\u001b[0m\u001b[0m | time: 143.572s\n\u001b[2K\r| SGD | epoch: 001 | loss: 0.06240 - acc: 0.9823 -- iter: 43760/55000\n"
     ]
    },
    {
     "name": "stdout",
     "output_type": "stream",
     "text": [
      "Training Step: 2189  | total loss: \u001b[1m\u001b[32m0.06211\u001b[0m\u001b[0m | time: 143.650s\n\u001b[2K\r| SGD | epoch: 001 | loss: 0.06211 - acc: 0.9841 -- iter: 43780/55000\n"
     ]
    },
    {
     "name": "stdout",
     "output_type": "stream",
     "text": [
      "Training Step: 2190  | total loss: \u001b[1m\u001b[32m0.05941\u001b[0m\u001b[0m | time: 143.713s\n\u001b[2K\r| SGD | epoch: 001 | loss: 0.05941 - acc: 0.9857 -- iter: 43800/55000\n"
     ]
    },
    {
     "name": "stdout",
     "output_type": "stream",
     "text": [
      "Training Step: 2191  | total loss: \u001b[1m\u001b[32m0.05386\u001b[0m\u001b[0m | time: 143.791s\n\u001b[2K\r| SGD | epoch: 001 | loss: 0.05386 - acc: 0.9871 -- iter: 43820/55000\n"
     ]
    },
    {
     "name": "stdout",
     "output_type": "stream",
     "text": [
      "Training Step: 2192  | total loss: \u001b[1m\u001b[32m0.04853\u001b[0m\u001b[0m | time: 143.869s\n\u001b[2K\r| SGD | epoch: 001 | loss: 0.04853 - acc: 0.9884 -- iter: 43840/55000\n"
     ]
    },
    {
     "name": "stdout",
     "output_type": "stream",
     "text": [
      "Training Step: 2193  | total loss: \u001b[1m\u001b[32m0.04375\u001b[0m\u001b[0m | time: 143.931s\n\u001b[2K\r| SGD | epoch: 001 | loss: 0.04375 - acc: 0.9895 -- iter: 43860/55000\n"
     ]
    },
    {
     "name": "stdout",
     "output_type": "stream",
     "text": [
      "Training Step: 2194  | total loss: \u001b[1m\u001b[32m0.04448\u001b[0m\u001b[0m | time: 144.010s\n\u001b[2K\r| SGD | epoch: 001 | loss: 0.04448 - acc: 0.9906 -- iter: 43880/55000\n"
     ]
    },
    {
     "name": "stdout",
     "output_type": "stream",
     "text": [
      "Training Step: 2195  | total loss: \u001b[1m\u001b[32m0.04056\u001b[0m\u001b[0m | time: 144.072s\n\u001b[2K\r| SGD | epoch: 001 | loss: 0.04056 - acc: 0.9915 -- iter: 43900/55000\n"
     ]
    },
    {
     "name": "stdout",
     "output_type": "stream",
     "text": [
      "Training Step: 2196  | total loss: \u001b[1m\u001b[32m0.03683\u001b[0m\u001b[0m | time: 144.150s\n\u001b[2K\r| SGD | epoch: 001 | loss: 0.03683 - acc: 0.9924 -- iter: 43920/55000\n"
     ]
    },
    {
     "name": "stdout",
     "output_type": "stream",
     "text": [
      "Training Step: 2197  | total loss: \u001b[1m\u001b[32m0.03389\u001b[0m\u001b[0m | time: 144.213s\n\u001b[2K\r| SGD | epoch: 001 | loss: 0.03389 - acc: 0.9931 -- iter: 43940/55000\n"
     ]
    },
    {
     "name": "stdout",
     "output_type": "stream",
     "text": [
      "Training Step: 2198  | total loss: \u001b[1m\u001b[32m0.03967\u001b[0m\u001b[0m | time: 144.275s\n\u001b[2K\r| SGD | epoch: 001 | loss: 0.03967 - acc: 0.9888 -- iter: 43960/55000\n"
     ]
    },
    {
     "name": "stdout",
     "output_type": "stream",
     "text": [
      "Training Step: 2199  | total loss: \u001b[1m\u001b[32m0.03574\u001b[0m\u001b[0m | time: 144.358s\n\u001b[2K\r| SGD | epoch: 001 | loss: 0.03574 - acc: 0.9899 -- iter: 43980/55000\n"
     ]
    },
    {
     "name": "stdout",
     "output_type": "stream",
     "text": [
      "Training Step: 2200  | total loss: \u001b[1m\u001b[32m0.03230\u001b[0m\u001b[0m | time: 144.420s\n\u001b[2K\r| SGD | epoch: 001 | loss: 0.03230 - acc: 0.9910 -- iter: 44000/55000\n"
     ]
    },
    {
     "name": "stdout",
     "output_type": "stream",
     "text": [
      "Training Step: 2201  | total loss: \u001b[1m\u001b[32m0.02964\u001b[0m\u001b[0m | time: 144.483s\n\u001b[2K\r| SGD | epoch: 001 | loss: 0.02964 - acc: 0.9919 -- iter: 44020/55000\n"
     ]
    },
    {
     "name": "stdout",
     "output_type": "stream",
     "text": [
      "Training Step: 2202  | total loss: \u001b[1m\u001b[32m0.06148\u001b[0m\u001b[0m | time: 144.545s\n\u001b[2K\r| SGD | epoch: 001 | loss: 0.06148 - acc: 0.9877 -- iter: 44040/55000\n"
     ]
    },
    {
     "name": "stdout",
     "output_type": "stream",
     "text": [
      "Training Step: 2203  | total loss: \u001b[1m\u001b[32m0.05701\u001b[0m\u001b[0m | time: 144.623s\n\u001b[2K\r| SGD | epoch: 001 | loss: 0.05701 - acc: 0.9889 -- iter: 44060/55000\n"
     ]
    },
    {
     "name": "stdout",
     "output_type": "stream",
     "text": [
      "Training Step: 2204  | total loss: \u001b[1m\u001b[32m0.05165\u001b[0m\u001b[0m | time: 144.686s\n\u001b[2K\r| SGD | epoch: 001 | loss: 0.05165 - acc: 0.9900 -- iter: 44080/55000\n"
     ]
    },
    {
     "name": "stdout",
     "output_type": "stream",
     "text": [
      "Training Step: 2205  | total loss: \u001b[1m\u001b[32m0.07957\u001b[0m\u001b[0m | time: 144.748s\n\u001b[2K\r| SGD | epoch: 001 | loss: 0.07957 - acc: 0.9810 -- iter: 44100/55000\n"
     ]
    },
    {
     "name": "stdout",
     "output_type": "stream",
     "text": [
      "Training Step: 2206  | total loss: \u001b[1m\u001b[32m0.07837\u001b[0m\u001b[0m | time: 144.811s\n\u001b[2K\r| SGD | epoch: 001 | loss: 0.07837 - acc: 0.9779 -- iter: 44120/55000\n"
     ]
    },
    {
     "name": "stdout",
     "output_type": "stream",
     "text": [
      "Training Step: 2207  | total loss: \u001b[1m\u001b[32m0.07070\u001b[0m\u001b[0m | time: 144.889s\n\u001b[2K\r| SGD | epoch: 001 | loss: 0.07070 - acc: 0.9801 -- iter: 44140/55000\n"
     ]
    },
    {
     "name": "stdout",
     "output_type": "stream",
     "text": [
      "Training Step: 2208  | total loss: \u001b[1m\u001b[32m0.08296\u001b[0m\u001b[0m | time: 144.952s\n\u001b[2K\r| SGD | epoch: 001 | loss: 0.08296 - acc: 0.9771 -- iter: 44160/55000\n"
     ]
    },
    {
     "name": "stdout",
     "output_type": "stream",
     "text": [
      "Training Step: 2209  | total loss: \u001b[1m\u001b[32m0.07571\u001b[0m\u001b[0m | time: 145.030s\n\u001b[2K\r| SGD | epoch: 001 | loss: 0.07571 - acc: 0.9794 -- iter: 44180/55000\n"
     ]
    },
    {
     "name": "stdout",
     "output_type": "stream",
     "text": [
      "Training Step: 2210  | total loss: \u001b[1m\u001b[32m0.06837\u001b[0m\u001b[0m | time: 145.092s\n\u001b[2K\r| SGD | epoch: 001 | loss: 0.06837 - acc: 0.9815 -- iter: 44200/55000\n"
     ]
    },
    {
     "name": "stdout",
     "output_type": "stream",
     "text": [
      "Training Step: 2211  | total loss: \u001b[1m\u001b[32m0.08919\u001b[0m\u001b[0m | time: 145.170s\n\u001b[2K\r| SGD | epoch: 001 | loss: 0.08919 - acc: 0.9783 -- iter: 44220/55000\n"
     ]
    },
    {
     "name": "stdout",
     "output_type": "stream",
     "text": [
      "Training Step: 2212  | total loss: \u001b[1m\u001b[32m0.08232\u001b[0m\u001b[0m | time: 145.233s\n\u001b[2K\r| SGD | epoch: 001 | loss: 0.08232 - acc: 0.9805 -- iter: 44240/55000\n"
     ]
    },
    {
     "name": "stdout",
     "output_type": "stream",
     "text": [
      "Training Step: 2213  | total loss: \u001b[1m\u001b[32m0.07837\u001b[0m\u001b[0m | time: 145.313s\n\u001b[2K\r| SGD | epoch: 001 | loss: 0.07837 - acc: 0.9824 -- iter: 44260/55000\n"
     ]
    },
    {
     "name": "stdout",
     "output_type": "stream",
     "text": [
      "Training Step: 2214  | total loss: \u001b[1m\u001b[32m0.07681\u001b[0m\u001b[0m | time: 145.372s\n\u001b[2K\r| SGD | epoch: 001 | loss: 0.07681 - acc: 0.9792 -- iter: 44280/55000\n"
     ]
    },
    {
     "name": "stdout",
     "output_type": "stream",
     "text": [
      "Training Step: 2215  | total loss: \u001b[1m\u001b[32m0.07045\u001b[0m\u001b[0m | time: 145.434s\n\u001b[2K\r| SGD | epoch: 001 | loss: 0.07045 - acc: 0.9813 -- iter: 44300/55000\n"
     ]
    },
    {
     "name": "stdout",
     "output_type": "stream",
     "text": [
      "Training Step: 2216  | total loss: \u001b[1m\u001b[32m0.07978\u001b[0m\u001b[0m | time: 145.481s\n\u001b[2K\r| SGD | epoch: 001 | loss: 0.07978 - acc: 0.9781 -- iter: 44320/55000\n"
     ]
    },
    {
     "name": "stdout",
     "output_type": "stream",
     "text": [
      "Training Step: 2217  | total loss: \u001b[1m\u001b[32m0.07733\u001b[0m\u001b[0m | time: 145.544s\n\u001b[2K\r| SGD | epoch: 001 | loss: 0.07733 - acc: 0.9803 -- iter: 44340/55000\n"
     ]
    },
    {
     "name": "stdout",
     "output_type": "stream",
     "text": [
      "Training Step: 2218  | total loss: \u001b[1m\u001b[32m0.08041\u001b[0m\u001b[0m | time: 145.606s\n\u001b[2K\r| SGD | epoch: 001 | loss: 0.08041 - acc: 0.9773 -- iter: 44360/55000\n"
     ]
    },
    {
     "name": "stdout",
     "output_type": "stream",
     "text": [
      "Training Step: 2219  | total loss: \u001b[1m\u001b[32m0.07425\u001b[0m\u001b[0m | time: 145.669s\n\u001b[2K\r| SGD | epoch: 001 | loss: 0.07425 - acc: 0.9796 -- iter: 44380/55000\n"
     ]
    },
    {
     "name": "stdout",
     "output_type": "stream",
     "text": [
      "Training Step: 2220  | total loss: \u001b[1m\u001b[32m0.08638\u001b[0m\u001b[0m | time: 145.731s\n\u001b[2K\r| SGD | epoch: 001 | loss: 0.08638 - acc: 0.9716 -- iter: 44400/55000\n"
     ]
    },
    {
     "name": "stdout",
     "output_type": "stream",
     "text": [
      "Training Step: 2221  | total loss: \u001b[1m\u001b[32m0.07808\u001b[0m\u001b[0m | time: 145.794s\n\u001b[2K\r| SGD | epoch: 001 | loss: 0.07808 - acc: 0.9744 -- iter: 44420/55000\n"
     ]
    },
    {
     "name": "stdout",
     "output_type": "stream",
     "text": [
      "Training Step: 2222  | total loss: \u001b[1m\u001b[32m0.07147\u001b[0m\u001b[0m | time: 145.872s\n\u001b[2K\r| SGD | epoch: 001 | loss: 0.07147 - acc: 0.9770 -- iter: 44440/55000\n"
     ]
    },
    {
     "name": "stdout",
     "output_type": "stream",
     "text": [
      "Training Step: 2223  | total loss: \u001b[1m\u001b[32m0.06454\u001b[0m\u001b[0m | time: 145.934s\n\u001b[2K\r| SGD | epoch: 001 | loss: 0.06454 - acc: 0.9793 -- iter: 44460/55000\n"
     ]
    },
    {
     "name": "stdout",
     "output_type": "stream",
     "text": [
      "Training Step: 2224  | total loss: \u001b[1m\u001b[32m0.06007\u001b[0m\u001b[0m | time: 146.013s\n\u001b[2K\r| SGD | epoch: 001 | loss: 0.06007 - acc: 0.9814 -- iter: 44480/55000\n"
     ]
    },
    {
     "name": "stdout",
     "output_type": "stream",
     "text": [
      "Training Step: 2225  | total loss: \u001b[1m\u001b[32m0.05743\u001b[0m\u001b[0m | time: 146.075s\n\u001b[2K\r| SGD | epoch: 001 | loss: 0.05743 - acc: 0.9832 -- iter: 44500/55000\n"
     ]
    },
    {
     "name": "stdout",
     "output_type": "stream",
     "text": [
      "Training Step: 2226  | total loss: \u001b[1m\u001b[32m0.05976\u001b[0m\u001b[0m | time: 146.153s\n\u001b[2K\r| SGD | epoch: 001 | loss: 0.05976 - acc: 0.9799 -- iter: 44520/55000\n"
     ]
    },
    {
     "name": "stdout",
     "output_type": "stream",
     "text": [
      "Training Step: 2227  | total loss: \u001b[1m\u001b[32m0.05853\u001b[0m\u001b[0m | time: 146.221s\n\u001b[2K\r| SGD | epoch: 001 | loss: 0.05853 - acc: 0.9769 -- iter: 44540/55000\n"
     ]
    },
    {
     "name": "stdout",
     "output_type": "stream",
     "text": [
      "Training Step: 2228  | total loss: \u001b[1m\u001b[32m0.05639\u001b[0m\u001b[0m | time: 146.277s\n\u001b[2K\r| SGD | epoch: 001 | loss: 0.05639 - acc: 0.9792 -- iter: 44560/55000\n"
     ]
    },
    {
     "name": "stdout",
     "output_type": "stream",
     "text": [
      "Training Step: 2229  | total loss: \u001b[1m\u001b[32m0.05402\u001b[0m\u001b[0m | time: 146.355s\n\u001b[2K\r| SGD | epoch: 001 | loss: 0.05402 - acc: 0.9813 -- iter: 44580/55000\n"
     ]
    },
    {
     "name": "stdout",
     "output_type": "stream",
     "text": [
      "Training Step: 2230  | total loss: \u001b[1m\u001b[32m0.04938\u001b[0m\u001b[0m | time: 146.418s\n\u001b[2K\r| SGD | epoch: 001 | loss: 0.04938 - acc: 0.9832 -- iter: 44600/55000\n"
     ]
    },
    {
     "name": "stdout",
     "output_type": "stream",
     "text": [
      "Training Step: 2231  | total loss: \u001b[1m\u001b[32m0.07718\u001b[0m\u001b[0m | time: 146.480s\n\u001b[2K\r| SGD | epoch: 001 | loss: 0.07718 - acc: 0.9749 -- iter: 44620/55000\n"
     ]
    },
    {
     "name": "stdout",
     "output_type": "stream",
     "text": [
      "Training Step: 2232  | total loss: \u001b[1m\u001b[32m0.06982\u001b[0m\u001b[0m | time: 146.543s\n\u001b[2K\r| SGD | epoch: 001 | loss: 0.06982 - acc: 0.9774 -- iter: 44640/55000\n"
     ]
    },
    {
     "name": "stdout",
     "output_type": "stream",
     "text": [
      "Training Step: 2233  | total loss: \u001b[1m\u001b[32m0.06802\u001b[0m\u001b[0m | time: 146.605s\n\u001b[2K\r| SGD | epoch: 001 | loss: 0.06802 - acc: 0.9746 -- iter: 44660/55000\n"
     ]
    },
    {
     "name": "stdout",
     "output_type": "stream",
     "text": [
      "Training Step: 2234  | total loss: \u001b[1m\u001b[32m0.06294\u001b[0m\u001b[0m | time: 146.668s\n\u001b[2K\r| SGD | epoch: 001 | loss: 0.06294 - acc: 0.9772 -- iter: 44680/55000\n"
     ]
    },
    {
     "name": "stdout",
     "output_type": "stream",
     "text": [
      "Training Step: 2235  | total loss: \u001b[1m\u001b[32m0.06511\u001b[0m\u001b[0m | time: 146.730s\n\u001b[2K\r| SGD | epoch: 001 | loss: 0.06511 - acc: 0.9745 -- iter: 44700/55000\n"
     ]
    },
    {
     "name": "stdout",
     "output_type": "stream",
     "text": [
      "Training Step: 2236  | total loss: \u001b[1m\u001b[32m0.06123\u001b[0m\u001b[0m | time: 146.793s\n\u001b[2K\r| SGD | epoch: 001 | loss: 0.06123 - acc: 0.9770 -- iter: 44720/55000\n"
     ]
    },
    {
     "name": "stdout",
     "output_type": "stream",
     "text": [
      "Training Step: 2237  | total loss: \u001b[1m\u001b[32m0.05970\u001b[0m\u001b[0m | time: 146.855s\n\u001b[2K\r| SGD | epoch: 001 | loss: 0.05970 - acc: 0.9793 -- iter: 44740/55000\n"
     ]
    },
    {
     "name": "stdout",
     "output_type": "stream",
     "text": [
      "Training Step: 2238  | total loss: \u001b[1m\u001b[32m0.06891\u001b[0m\u001b[0m | time: 146.918s\n\u001b[2K\r| SGD | epoch: 001 | loss: 0.06891 - acc: 0.9714 -- iter: 44760/55000\n"
     ]
    },
    {
     "name": "stdout",
     "output_type": "stream",
     "text": [
      "Training Step: 2239  | total loss: \u001b[1m\u001b[32m0.06354\u001b[0m\u001b[0m | time: 146.980s\n\u001b[2K\r| SGD | epoch: 001 | loss: 0.06354 - acc: 0.9742 -- iter: 44780/55000\n"
     ]
    },
    {
     "name": "stdout",
     "output_type": "stream",
     "text": [
      "Training Step: 2240  | total loss: \u001b[1m\u001b[32m0.06278\u001b[0m\u001b[0m | time: 147.058s\n\u001b[2K\r| SGD | epoch: 001 | loss: 0.06278 - acc: 0.9768 -- iter: 44800/55000\n"
     ]
    },
    {
     "name": "stdout",
     "output_type": "stream",
     "text": [
      "Training Step: 2241  | total loss: \u001b[1m\u001b[32m0.05808\u001b[0m\u001b[0m | time: 147.121s\n\u001b[2K\r| SGD | epoch: 001 | loss: 0.05808 - acc: 0.9791 -- iter: 44820/55000\n"
     ]
    },
    {
     "name": "stdout",
     "output_type": "stream",
     "text": [
      "Training Step: 2242  | total loss: \u001b[1m\u001b[32m0.05469\u001b[0m\u001b[0m | time: 147.197s\n\u001b[2K\r| SGD | epoch: 001 | loss: 0.05469 - acc: 0.9812 -- iter: 44840/55000\n"
     ]
    },
    {
     "name": "stdout",
     "output_type": "stream",
     "text": [
      "Training Step: 2243  | total loss: \u001b[1m\u001b[32m0.04950\u001b[0m\u001b[0m | time: 147.273s\n\u001b[2K\r| SGD | epoch: 001 | loss: 0.04950 - acc: 0.9831 -- iter: 44860/55000\n"
     ]
    },
    {
     "name": "stdout",
     "output_type": "stream",
     "text": [
      "Training Step: 2244  | total loss: \u001b[1m\u001b[32m0.05190\u001b[0m\u001b[0m | time: 147.342s\n\u001b[2K\r| SGD | epoch: 001 | loss: 0.05190 - acc: 0.9798 -- iter: 44880/55000\n"
     ]
    },
    {
     "name": "stdout",
     "output_type": "stream",
     "text": [
      "Training Step: 2245  | total loss: \u001b[1m\u001b[32m0.04908\u001b[0m\u001b[0m | time: 147.405s\n\u001b[2K\r| SGD | epoch: 001 | loss: 0.04908 - acc: 0.9818 -- iter: 44900/55000\n"
     ]
    },
    {
     "name": "stdout",
     "output_type": "stream",
     "text": [
      "Training Step: 2246  | total loss: \u001b[1m\u001b[32m0.06071\u001b[0m\u001b[0m | time: 147.467s\n\u001b[2K\r| SGD | epoch: 001 | loss: 0.06071 - acc: 0.9786 -- iter: 44920/55000\n"
     ]
    },
    {
     "name": "stdout",
     "output_type": "stream",
     "text": [
      "Training Step: 2247  | total loss: \u001b[1m\u001b[32m0.05796\u001b[0m\u001b[0m | time: 147.530s\n\u001b[2K\r| SGD | epoch: 001 | loss: 0.05796 - acc: 0.9808 -- iter: 44940/55000\n"
     ]
    },
    {
     "name": "stdout",
     "output_type": "stream",
     "text": [
      "Training Step: 2248  | total loss: \u001b[1m\u001b[32m0.09958\u001b[0m\u001b[0m | time: 147.608s\n\u001b[2K\r| SGD | epoch: 001 | loss: 0.09958 - acc: 0.9727 -- iter: 44960/55000\n"
     ]
    },
    {
     "name": "stdout",
     "output_type": "stream",
     "text": [
      "Training Step: 2249  | total loss: \u001b[1m\u001b[32m0.10995\u001b[0m\u001b[0m | time: 147.686s\n\u001b[2K\r| SGD | epoch: 001 | loss: 0.10995 - acc: 0.9704 -- iter: 44980/55000\n"
     ]
    },
    {
     "name": "stdout",
     "output_type": "stream",
     "text": [
      "Training Step: 2250  | total loss: \u001b[1m\u001b[32m0.09976\u001b[0m\u001b[0m | time: 147.748s\n\u001b[2K\r| SGD | epoch: 001 | loss: 0.09976 - acc: 0.9734 -- iter: 45000/55000\n"
     ]
    },
    {
     "name": "stdout",
     "output_type": "stream",
     "text": [
      "Training Step: 2251  | total loss: \u001b[1m\u001b[32m0.10894\u001b[0m\u001b[0m | time: 147.811s\n\u001b[2K\r| SGD | epoch: 001 | loss: 0.10894 - acc: 0.9660 -- iter: 45020/55000\n"
     ]
    },
    {
     "name": "stdout",
     "output_type": "stream",
     "text": [
      "Training Step: 2252  | total loss: \u001b[1m\u001b[32m0.10478\u001b[0m\u001b[0m | time: 147.858s\n\u001b[2K\r| SGD | epoch: 001 | loss: 0.10478 - acc: 0.9644 -- iter: 45040/55000\n"
     ]
    },
    {
     "name": "stdout",
     "output_type": "stream",
     "text": [
      "Training Step: 2253  | total loss: \u001b[1m\u001b[32m0.13338\u001b[0m\u001b[0m | time: 147.920s\n\u001b[2K\r| SGD | epoch: 001 | loss: 0.13338 - acc: 0.9630 -- iter: 45060/55000\n"
     ]
    },
    {
     "name": "stdout",
     "output_type": "stream",
     "text": [
      "Training Step: 2254  | total loss: \u001b[1m\u001b[32m0.12231\u001b[0m\u001b[0m | time: 147.998s\n\u001b[2K\r| SGD | epoch: 001 | loss: 0.12231 - acc: 0.9667 -- iter: 45080/55000\n"
     ]
    },
    {
     "name": "stdout",
     "output_type": "stream",
     "text": [
      "Training Step: 2255  | total loss: \u001b[1m\u001b[32m0.11337\u001b[0m\u001b[0m | time: 148.061s\n\u001b[2K\r| SGD | epoch: 001 | loss: 0.11337 - acc: 0.9700 -- iter: 45100/55000\n"
     ]
    },
    {
     "name": "stdout",
     "output_type": "stream",
     "text": [
      "Training Step: 2256  | total loss: \u001b[1m\u001b[32m0.10586\u001b[0m\u001b[0m | time: 148.144s\n\u001b[2K\r| SGD | epoch: 001 | loss: 0.10586 - acc: 0.9730 -- iter: 45120/55000\n"
     ]
    },
    {
     "name": "stdout",
     "output_type": "stream",
     "text": [
      "Training Step: 2257  | total loss: \u001b[1m\u001b[32m0.13647\u001b[0m\u001b[0m | time: 148.205s\n\u001b[2K\r| SGD | epoch: 001 | loss: 0.13647 - acc: 0.9657 -- iter: 45140/55000\n"
     ]
    },
    {
     "name": "stdout",
     "output_type": "stream",
     "text": [
      "Training Step: 2258  | total loss: \u001b[1m\u001b[32m0.12570\u001b[0m\u001b[0m | time: 148.283s\n\u001b[2K\r| SGD | epoch: 001 | loss: 0.12570 - acc: 0.9691 -- iter: 45160/55000\n"
     ]
    },
    {
     "name": "stdout",
     "output_type": "stream",
     "text": [
      "Training Step: 2259  | total loss: \u001b[1m\u001b[32m0.11955\u001b[0m\u001b[0m | time: 148.346s\n\u001b[2K\r| SGD | epoch: 001 | loss: 0.11955 - acc: 0.9722 -- iter: 45180/55000\n"
     ]
    },
    {
     "name": "stdout",
     "output_type": "stream",
     "text": [
      "Training Step: 2260  | total loss: \u001b[1m\u001b[32m0.11785\u001b[0m\u001b[0m | time: 148.424s\n\u001b[2K\r| SGD | epoch: 001 | loss: 0.11785 - acc: 0.9700 -- iter: 45200/55000\n"
     ]
    },
    {
     "name": "stdout",
     "output_type": "stream",
     "text": [
      "Training Step: 2261  | total loss: \u001b[1m\u001b[32m0.10663\u001b[0m\u001b[0m | time: 148.486s\n\u001b[2K\r| SGD | epoch: 001 | loss: 0.10663 - acc: 0.9730 -- iter: 45220/55000\n"
     ]
    },
    {
     "name": "stdout",
     "output_type": "stream",
     "text": [
      "Training Step: 2262  | total loss: \u001b[1m\u001b[32m0.09664\u001b[0m\u001b[0m | time: 148.564s\n\u001b[2K\r| SGD | epoch: 001 | loss: 0.09664 - acc: 0.9757 -- iter: 45240/55000\n"
     ]
    },
    {
     "name": "stdout",
     "output_type": "stream",
     "text": [
      "Training Step: 2263  | total loss: \u001b[1m\u001b[32m0.08883\u001b[0m\u001b[0m | time: 148.643s\n\u001b[2K\r| SGD | epoch: 001 | loss: 0.08883 - acc: 0.9781 -- iter: 45260/55000\n"
     ]
    },
    {
     "name": "stdout",
     "output_type": "stream",
     "text": [
      "Training Step: 2264  | total loss: \u001b[1m\u001b[32m0.08057\u001b[0m\u001b[0m | time: 148.705s\n\u001b[2K\r| SGD | epoch: 001 | loss: 0.08057 - acc: 0.9803 -- iter: 45280/55000\n"
     ]
    },
    {
     "name": "stdout",
     "output_type": "stream",
     "text": [
      "Training Step: 2265  | total loss: \u001b[1m\u001b[32m0.08120\u001b[0m\u001b[0m | time: 148.783s\n\u001b[2K\r| SGD | epoch: 001 | loss: 0.08120 - acc: 0.9773 -- iter: 45300/55000\n"
     ]
    },
    {
     "name": "stdout",
     "output_type": "stream",
     "text": [
      "Training Step: 2266  | total loss: \u001b[1m\u001b[32m0.08189\u001b[0m\u001b[0m | time: 148.830s\n\u001b[2K\r| SGD | epoch: 001 | loss: 0.08189 - acc: 0.9746 -- iter: 45320/55000\n"
     ]
    },
    {
     "name": "stdout",
     "output_type": "stream",
     "text": [
      "Training Step: 2267  | total loss: \u001b[1m\u001b[32m0.08263\u001b[0m\u001b[0m | time: 148.892s\n\u001b[2K\r| SGD | epoch: 001 | loss: 0.08263 - acc: 0.9721 -- iter: 45340/55000\n"
     ]
    },
    {
     "name": "stdout",
     "output_type": "stream",
     "text": [
      "Training Step: 2268  | total loss: \u001b[1m\u001b[32m0.07526\u001b[0m\u001b[0m | time: 148.955s\n\u001b[2K\r| SGD | epoch: 001 | loss: 0.07526 - acc: 0.9749 -- iter: 45360/55000\n"
     ]
    },
    {
     "name": "stdout",
     "output_type": "stream",
     "text": [
      "Training Step: 2269  | total loss: \u001b[1m\u001b[32m0.08061\u001b[0m\u001b[0m | time: 149.017s\n\u001b[2K\r| SGD | epoch: 001 | loss: 0.08061 - acc: 0.9724 -- iter: 45380/55000\n"
     ]
    },
    {
     "name": "stdout",
     "output_type": "stream",
     "text": [
      "Training Step: 2270  | total loss: \u001b[1m\u001b[32m0.07340\u001b[0m\u001b[0m | time: 149.080s\n\u001b[2K\r| SGD | epoch: 001 | loss: 0.07340 - acc: 0.9752 -- iter: 45400/55000\n"
     ]
    },
    {
     "name": "stdout",
     "output_type": "stream",
     "text": [
      "Training Step: 2271  | total loss: \u001b[1m\u001b[32m0.06685\u001b[0m\u001b[0m | time: 149.147s\n\u001b[2K\r| SGD | epoch: 001 | loss: 0.06685 - acc: 0.9776 -- iter: 45420/55000\n"
     ]
    },
    {
     "name": "stdout",
     "output_type": "stream",
     "text": [
      "Training Step: 2272  | total loss: \u001b[1m\u001b[32m0.06801\u001b[0m\u001b[0m | time: 149.210s\n\u001b[2K\r| SGD | epoch: 001 | loss: 0.06801 - acc: 0.9749 -- iter: 45440/55000\n"
     ]
    },
    {
     "name": "stdout",
     "output_type": "stream",
     "text": [
      "Training Step: 2273  | total loss: \u001b[1m\u001b[32m0.07995\u001b[0m\u001b[0m | time: 149.272s\n\u001b[2K\r| SGD | epoch: 001 | loss: 0.07995 - acc: 0.9674 -- iter: 45460/55000\n"
     ]
    },
    {
     "name": "stdout",
     "output_type": "stream",
     "text": [
      "Training Step: 2274  | total loss: \u001b[1m\u001b[32m0.07220\u001b[0m\u001b[0m | time: 149.335s\n\u001b[2K\r| SGD | epoch: 001 | loss: 0.07220 - acc: 0.9707 -- iter: 45480/55000\n"
     ]
    },
    {
     "name": "stdout",
     "output_type": "stream",
     "text": [
      "Training Step: 2275  | total loss: \u001b[1m\u001b[32m0.06715\u001b[0m\u001b[0m | time: 149.397s\n\u001b[2K\r| SGD | epoch: 001 | loss: 0.06715 - acc: 0.9736 -- iter: 45500/55000\n"
     ]
    },
    {
     "name": "stdout",
     "output_type": "stream",
     "text": [
      "Training Step: 2276  | total loss: \u001b[1m\u001b[32m0.06282\u001b[0m\u001b[0m | time: 149.460s\n\u001b[2K\r| SGD | epoch: 001 | loss: 0.06282 - acc: 0.9762 -- iter: 45520/55000\n"
     ]
    },
    {
     "name": "stdout",
     "output_type": "stream",
     "text": [
      "Training Step: 2277  | total loss: \u001b[1m\u001b[32m0.05809\u001b[0m\u001b[0m | time: 149.522s\n\u001b[2K\r| SGD | epoch: 001 | loss: 0.05809 - acc: 0.9786 -- iter: 45540/55000\n"
     ]
    },
    {
     "name": "stdout",
     "output_type": "stream",
     "text": [
      "Training Step: 2278  | total loss: \u001b[1m\u001b[32m0.05322\u001b[0m\u001b[0m | time: 149.616s\n\u001b[2K\r| SGD | epoch: 001 | loss: 0.05322 - acc: 0.9807 -- iter: 45560/55000\n"
     ]
    },
    {
     "name": "stdout",
     "output_type": "stream",
     "text": [
      "Training Step: 2279  | total loss: \u001b[1m\u001b[32m0.04923\u001b[0m\u001b[0m | time: 149.679s\n\u001b[2K\r| SGD | epoch: 001 | loss: 0.04923 - acc: 0.9827 -- iter: 45580/55000\n"
     ]
    },
    {
     "name": "stdout",
     "output_type": "stream",
     "text": [
      "Training Step: 2280  | total loss: \u001b[1m\u001b[32m0.04600\u001b[0m\u001b[0m | time: 149.757s\n\u001b[2K\r| SGD | epoch: 001 | loss: 0.04600 - acc: 0.9844 -- iter: 45600/55000\n"
     ]
    },
    {
     "name": "stdout",
     "output_type": "stream",
     "text": [
      "Training Step: 2281  | total loss: \u001b[1m\u001b[32m0.05427\u001b[0m\u001b[0m | time: 149.819s\n\u001b[2K\r| SGD | epoch: 001 | loss: 0.05427 - acc: 0.9810 -- iter: 45620/55000\n"
     ]
    },
    {
     "name": "stdout",
     "output_type": "stream",
     "text": [
      "Training Step: 2282  | total loss: \u001b[1m\u001b[32m0.04999\u001b[0m\u001b[0m | time: 149.897s\n\u001b[2K\r| SGD | epoch: 001 | loss: 0.04999 - acc: 0.9829 -- iter: 45640/55000\n"
     ]
    },
    {
     "name": "stdout",
     "output_type": "stream",
     "text": [
      "Training Step: 2283  | total loss: \u001b[1m\u001b[32m0.08307\u001b[0m\u001b[0m | time: 149.960s\n\u001b[2K\r| SGD | epoch: 001 | loss: 0.08307 - acc: 0.9696 -- iter: 45660/55000\n"
     ]
    },
    {
     "name": "stdout",
     "output_type": "stream",
     "text": [
      "Training Step: 2284  | total loss: \u001b[1m\u001b[32m0.07916\u001b[0m\u001b[0m | time: 150.022s\n\u001b[2K\r| SGD | epoch: 001 | loss: 0.07916 - acc: 0.9726 -- iter: 45680/55000\n"
     ]
    },
    {
     "name": "stdout",
     "output_type": "stream",
     "text": [
      "Training Step: 2285  | total loss: \u001b[1m\u001b[32m0.07473\u001b[0m\u001b[0m | time: 150.099s\n\u001b[2K\r| SGD | epoch: 001 | loss: 0.07473 - acc: 0.9754 -- iter: 45700/55000\n"
     ]
    },
    {
     "name": "stdout",
     "output_type": "stream",
     "text": [
      "Training Step: 2286  | total loss: \u001b[1m\u001b[32m0.06981\u001b[0m\u001b[0m | time: 150.153s\n\u001b[2K\r| SGD | epoch: 001 | loss: 0.06981 - acc: 0.9778 -- iter: 45720/55000\n"
     ]
    },
    {
     "name": "stdout",
     "output_type": "stream",
     "text": [
      "Training Step: 2287  | total loss: \u001b[1m\u001b[32m0.07080\u001b[0m\u001b[0m | time: 150.215s\n\u001b[2K\r| SGD | epoch: 001 | loss: 0.07080 - acc: 0.9750 -- iter: 45740/55000\n"
     ]
    },
    {
     "name": "stdout",
     "output_type": "stream",
     "text": [
      "Training Step: 2288  | total loss: \u001b[1m\u001b[32m0.06634\u001b[0m\u001b[0m | time: 150.278s\n\u001b[2K\r| SGD | epoch: 001 | loss: 0.06634 - acc: 0.9775 -- iter: 45760/55000\n"
     ]
    },
    {
     "name": "stdout",
     "output_type": "stream",
     "text": [
      "Training Step: 2289  | total loss: \u001b[1m\u001b[32m0.05985\u001b[0m\u001b[0m | time: 150.340s\n\u001b[2K\r| SGD | epoch: 001 | loss: 0.05985 - acc: 0.9798 -- iter: 45780/55000\n"
     ]
    },
    {
     "name": "stdout",
     "output_type": "stream",
     "text": [
      "Training Step: 2290  | total loss: \u001b[1m\u001b[32m0.06521\u001b[0m\u001b[0m | time: 150.403s\n\u001b[2K\r| SGD | epoch: 001 | loss: 0.06521 - acc: 0.9718 -- iter: 45800/55000\n"
     ]
    },
    {
     "name": "stdout",
     "output_type": "stream",
     "text": [
      "Training Step: 2291  | total loss: \u001b[1m\u001b[32m0.13442\u001b[0m\u001b[0m | time: 150.465s\n\u001b[2K\r| SGD | epoch: 001 | loss: 0.13442 - acc: 0.9596 -- iter: 45820/55000\n"
     ]
    },
    {
     "name": "stdout",
     "output_type": "stream",
     "text": [
      "Training Step: 2292  | total loss: \u001b[1m\u001b[32m0.12414\u001b[0m\u001b[0m | time: 150.528s\n\u001b[2K\r| SGD | epoch: 001 | loss: 0.12414 - acc: 0.9637 -- iter: 45840/55000\n"
     ]
    },
    {
     "name": "stdout",
     "output_type": "stream",
     "text": [
      "Training Step: 2293  | total loss: \u001b[1m\u001b[32m0.13730\u001b[0m\u001b[0m | time: 150.590s\n\u001b[2K\r| SGD | epoch: 001 | loss: 0.13730 - acc: 0.9523 -- iter: 45860/55000\n"
     ]
    },
    {
     "name": "stdout",
     "output_type": "stream",
     "text": [
      "Training Step: 2294  | total loss: \u001b[1m\u001b[32m0.12399\u001b[0m\u001b[0m | time: 150.653s\n\u001b[2K\r| SGD | epoch: 001 | loss: 0.12399 - acc: 0.9571 -- iter: 45880/55000\n"
     ]
    },
    {
     "name": "stdout",
     "output_type": "stream",
     "text": [
      "Training Step: 2295  | total loss: \u001b[1m\u001b[32m0.12037\u001b[0m\u001b[0m | time: 150.715s\n\u001b[2K\r| SGD | epoch: 001 | loss: 0.12037 - acc: 0.9564 -- iter: 45900/55000\n"
     ]
    },
    {
     "name": "stdout",
     "output_type": "stream",
     "text": [
      "Training Step: 2296  | total loss: \u001b[1m\u001b[32m0.11150\u001b[0m\u001b[0m | time: 150.778s\n\u001b[2K\r| SGD | epoch: 001 | loss: 0.11150 - acc: 0.9607 -- iter: 45920/55000\n"
     ]
    },
    {
     "name": "stdout",
     "output_type": "stream",
     "text": [
      "Training Step: 2297  | total loss: \u001b[1m\u001b[32m0.10350\u001b[0m\u001b[0m | time: 150.840s\n\u001b[2K\r| SGD | epoch: 001 | loss: 0.10350 - acc: 0.9647 -- iter: 45940/55000\n"
     ]
    },
    {
     "name": "stdout",
     "output_type": "stream",
     "text": [
      "Training Step: 2298  | total loss: \u001b[1m\u001b[32m0.09909\u001b[0m\u001b[0m | time: 150.918s\n\u001b[2K\r| SGD | epoch: 001 | loss: 0.09909 - acc: 0.9632 -- iter: 45960/55000\n"
     ]
    },
    {
     "name": "stdout",
     "output_type": "stream",
     "text": [
      "Training Step: 2299  | total loss: \u001b[1m\u001b[32m0.09495\u001b[0m\u001b[0m | time: 150.991s\n\u001b[2K\r| SGD | epoch: 001 | loss: 0.09495 - acc: 0.9619 -- iter: 45980/55000\n"
     ]
    },
    {
     "name": "stdout",
     "output_type": "stream",
     "text": [
      "Training Step: 2300  | total loss: \u001b[1m\u001b[32m0.13435\u001b[0m\u001b[0m | time: 151.050s\n\u001b[2K\r| SGD | epoch: 001 | loss: 0.13435 - acc: 0.9507 -- iter: 46000/55000\n"
     ]
    },
    {
     "name": "stdout",
     "output_type": "stream",
     "text": [
      "Training Step: 2301  | total loss: \u001b[1m\u001b[32m0.13551\u001b[0m\u001b[0m | time: 151.113s\n\u001b[2K\r| SGD | epoch: 001 | loss: 0.13551 - acc: 0.9456 -- iter: 46020/55000\n"
     ]
    },
    {
     "name": "stdout",
     "output_type": "stream",
     "text": [
      "Training Step: 2302  | total loss: \u001b[1m\u001b[32m0.12427\u001b[0m\u001b[0m | time: 151.175s\n\u001b[2K\r| SGD | epoch: 001 | loss: 0.12427 - acc: 0.9511 -- iter: 46040/55000\n"
     ]
    },
    {
     "name": "stdout",
     "output_type": "stream",
     "text": [
      "Training Step: 2303  | total loss: \u001b[1m\u001b[32m0.11250\u001b[0m\u001b[0m | time: 151.253s\n\u001b[2K\r| SGD | epoch: 001 | loss: 0.11250 - acc: 0.9559 -- iter: 46060/55000\n"
     ]
    },
    {
     "name": "stdout",
     "output_type": "stream",
     "text": [
      "Training Step: 2304  | total loss: \u001b[1m\u001b[32m0.10232\u001b[0m\u001b[0m | time: 151.316s\n\u001b[2K\r| SGD | epoch: 001 | loss: 0.10232 - acc: 0.9604 -- iter: 46080/55000\n"
     ]
    },
    {
     "name": "stdout",
     "output_type": "stream",
     "text": [
      "Training Step: 2305  | total loss: \u001b[1m\u001b[32m0.10262\u001b[0m\u001b[0m | time: 151.378s\n\u001b[2K\r| SGD | epoch: 001 | loss: 0.10262 - acc: 0.9593 -- iter: 46100/55000\n"
     ]
    },
    {
     "name": "stdout",
     "output_type": "stream",
     "text": [
      "Training Step: 2306  | total loss: \u001b[1m\u001b[32m0.09305\u001b[0m\u001b[0m | time: 151.441s\n\u001b[2K\r| SGD | epoch: 001 | loss: 0.09305 - acc: 0.9634 -- iter: 46120/55000\n"
     ]
    },
    {
     "name": "stdout",
     "output_type": "stream",
     "text": [
      "Training Step: 2307  | total loss: \u001b[1m\u001b[32m0.08982\u001b[0m\u001b[0m | time: 151.503s\n\u001b[2K\r| SGD | epoch: 001 | loss: 0.08982 - acc: 0.9620 -- iter: 46140/55000\n"
     ]
    },
    {
     "name": "stdout",
     "output_type": "stream",
     "text": [
      "Training Step: 2308  | total loss: \u001b[1m\u001b[32m0.08455\u001b[0m\u001b[0m | time: 151.566s\n\u001b[2K\r| SGD | epoch: 001 | loss: 0.08455 - acc: 0.9658 -- iter: 46160/55000\n"
     ]
    },
    {
     "name": "stdout",
     "output_type": "stream",
     "text": [
      "Training Step: 2309  | total loss: \u001b[1m\u001b[32m0.08053\u001b[0m\u001b[0m | time: 151.637s\n\u001b[2K\r| SGD | epoch: 001 | loss: 0.08053 - acc: 0.9693 -- iter: 46180/55000\n"
     ]
    },
    {
     "name": "stdout",
     "output_type": "stream",
     "text": [
      "Training Step: 2310  | total loss: \u001b[1m\u001b[32m0.09504\u001b[0m\u001b[0m | time: 151.699s\n\u001b[2K\r| SGD | epoch: 001 | loss: 0.09504 - acc: 0.9673 -- iter: 46200/55000\n"
     ]
    },
    {
     "name": "stdout",
     "output_type": "stream",
     "text": [
      "Training Step: 2311  | total loss: \u001b[1m\u001b[32m0.08646\u001b[0m\u001b[0m | time: 151.762s\n\u001b[2K\r| SGD | epoch: 001 | loss: 0.08646 - acc: 0.9706 -- iter: 46220/55000\n"
     ]
    },
    {
     "name": "stdout",
     "output_type": "stream",
     "text": [
      "Training Step: 2312  | total loss: \u001b[1m\u001b[32m0.07992\u001b[0m\u001b[0m | time: 151.824s\n\u001b[2K\r| SGD | epoch: 001 | loss: 0.07992 - acc: 0.9735 -- iter: 46240/55000\n"
     ]
    },
    {
     "name": "stdout",
     "output_type": "stream",
     "text": [
      "Training Step: 2313  | total loss: \u001b[1m\u001b[32m0.07264\u001b[0m\u001b[0m | time: 151.902s\n\u001b[2K\r| SGD | epoch: 001 | loss: 0.07264 - acc: 0.9762 -- iter: 46260/55000\n"
     ]
    },
    {
     "name": "stdout",
     "output_type": "stream",
     "text": [
      "Training Step: 2314  | total loss: \u001b[1m\u001b[32m0.06606\u001b[0m\u001b[0m | time: 151.977s\n\u001b[2K\r| SGD | epoch: 001 | loss: 0.06606 - acc: 0.9786 -- iter: 46280/55000\n"
     ]
    },
    {
     "name": "stdout",
     "output_type": "stream",
     "text": [
      "Training Step: 2315  | total loss: \u001b[1m\u001b[32m0.06310\u001b[0m\u001b[0m | time: 152.030s\n\u001b[2K\r| SGD | epoch: 001 | loss: 0.06310 - acc: 0.9807 -- iter: 46300/55000\n"
     ]
    },
    {
     "name": "stdout",
     "output_type": "stream",
     "text": [
      "Training Step: 2316  | total loss: \u001b[1m\u001b[32m0.06849\u001b[0m\u001b[0m | time: 152.092s\n\u001b[2K\r| SGD | epoch: 001 | loss: 0.06849 - acc: 0.9776 -- iter: 46320/55000\n"
     ]
    },
    {
     "name": "stdout",
     "output_type": "stream",
     "text": [
      "Training Step: 2317  | total loss: \u001b[1m\u001b[32m0.06594\u001b[0m\u001b[0m | time: 152.155s\n\u001b[2K\r| SGD | epoch: 001 | loss: 0.06594 - acc: 0.9799 -- iter: 46340/55000\n"
     ]
    },
    {
     "name": "stdout",
     "output_type": "stream",
     "text": [
      "Training Step: 2318  | total loss: \u001b[1m\u001b[32m0.06232\u001b[0m\u001b[0m | time: 152.217s\n\u001b[2K\r| SGD | epoch: 001 | loss: 0.06232 - acc: 0.9819 -- iter: 46360/55000\n"
     ]
    },
    {
     "name": "stdout",
     "output_type": "stream",
     "text": [
      "Training Step: 2319  | total loss: \u001b[1m\u001b[32m0.06078\u001b[0m\u001b[0m | time: 152.293s\n\u001b[2K\r| SGD | epoch: 001 | loss: 0.06078 - acc: 0.9837 -- iter: 46380/55000\n"
     ]
    },
    {
     "name": "stdout",
     "output_type": "stream",
     "text": [
      "Training Step: 2320  | total loss: \u001b[1m\u001b[32m0.05589\u001b[0m\u001b[0m | time: 152.371s\n\u001b[2K\r| SGD | epoch: 001 | loss: 0.05589 - acc: 0.9853 -- iter: 46400/55000\n"
     ]
    },
    {
     "name": "stdout",
     "output_type": "stream",
     "text": [
      "Training Step: 2321  | total loss: \u001b[1m\u001b[32m0.05141\u001b[0m\u001b[0m | time: 152.450s\n\u001b[2K\r| SGD | epoch: 001 | loss: 0.05141 - acc: 0.9868 -- iter: 46420/55000\n"
     ]
    },
    {
     "name": "stdout",
     "output_type": "stream",
     "text": [
      "Training Step: 2322  | total loss: \u001b[1m\u001b[32m0.06102\u001b[0m\u001b[0m | time: 152.512s\n\u001b[2K\r| SGD | epoch: 001 | loss: 0.06102 - acc: 0.9781 -- iter: 46440/55000\n"
     ]
    },
    {
     "name": "stdout",
     "output_type": "stream",
     "text": [
      "Training Step: 2323  | total loss: \u001b[1m\u001b[32m0.05732\u001b[0m\u001b[0m | time: 152.575s\n\u001b[2K\r| SGD | epoch: 001 | loss: 0.05732 - acc: 0.9803 -- iter: 46460/55000\n"
     ]
    },
    {
     "name": "stdout",
     "output_type": "stream",
     "text": [
      "Training Step: 2324  | total loss: \u001b[1m\u001b[32m0.05295\u001b[0m\u001b[0m | time: 152.637s\n\u001b[2K\r| SGD | epoch: 001 | loss: 0.05295 - acc: 0.9823 -- iter: 46480/55000\n"
     ]
    },
    {
     "name": "stdout",
     "output_type": "stream",
     "text": [
      "Training Step: 2325  | total loss: \u001b[1m\u001b[32m0.04838\u001b[0m\u001b[0m | time: 152.715s\n\u001b[2K\r| SGD | epoch: 001 | loss: 0.04838 - acc: 0.9840 -- iter: 46500/55000\n"
     ]
    },
    {
     "name": "stdout",
     "output_type": "stream",
     "text": [
      "Training Step: 2326  | total loss: \u001b[1m\u001b[32m0.04422\u001b[0m\u001b[0m | time: 152.778s\n\u001b[2K\r| SGD | epoch: 001 | loss: 0.04422 - acc: 0.9856 -- iter: 46520/55000\n"
     ]
    },
    {
     "name": "stdout",
     "output_type": "stream",
     "text": [
      "Training Step: 2327  | total loss: \u001b[1m\u001b[32m0.05808\u001b[0m\u001b[0m | time: 152.856s\n\u001b[2K\r| SGD | epoch: 001 | loss: 0.05808 - acc: 0.9821 -- iter: 46540/55000\n"
     ]
    },
    {
     "name": "stdout",
     "output_type": "stream",
     "text": [
      "Training Step: 2328  | total loss: \u001b[1m\u001b[32m0.05319\u001b[0m\u001b[0m | time: 152.930s\n\u001b[2K\r| SGD | epoch: 001 | loss: 0.05319 - acc: 0.9839 -- iter: 46560/55000\n"
     ]
    },
    {
     "name": "stdout",
     "output_type": "stream",
     "text": [
      "Training Step: 2329  | total loss: \u001b[1m\u001b[32m0.05186\u001b[0m\u001b[0m | time: 152.984s\n\u001b[2K\r| SGD | epoch: 001 | loss: 0.05186 - acc: 0.9855 -- iter: 46580/55000\n"
     ]
    },
    {
     "name": "stdout",
     "output_type": "stream",
     "text": [
      "Training Step: 2330  | total loss: \u001b[1m\u001b[32m0.04729\u001b[0m\u001b[0m | time: 153.062s\n\u001b[2K\r| SGD | epoch: 001 | loss: 0.04729 - acc: 0.9869 -- iter: 46600/55000\n"
     ]
    },
    {
     "name": "stdout",
     "output_type": "stream",
     "text": [
      "Training Step: 2331  | total loss: \u001b[1m\u001b[32m0.04699\u001b[0m\u001b[0m | time: 153.125s\n\u001b[2K\r| SGD | epoch: 001 | loss: 0.04699 - acc: 0.9882 -- iter: 46620/55000\n"
     ]
    },
    {
     "name": "stdout",
     "output_type": "stream",
     "text": [
      "Training Step: 2332  | total loss: \u001b[1m\u001b[32m0.04680\u001b[0m\u001b[0m | time: 153.203s\n\u001b[2K\r| SGD | epoch: 001 | loss: 0.04680 - acc: 0.9894 -- iter: 46640/55000\n"
     ]
    },
    {
     "name": "stdout",
     "output_type": "stream",
     "text": [
      "Training Step: 2333  | total loss: \u001b[1m\u001b[32m0.06362\u001b[0m\u001b[0m | time: 153.266s\n\u001b[2K\r| SGD | epoch: 001 | loss: 0.06362 - acc: 0.9855 -- iter: 46660/55000\n"
     ]
    },
    {
     "name": "stdout",
     "output_type": "stream",
     "text": [
      "Training Step: 2334  | total loss: \u001b[1m\u001b[32m0.06191\u001b[0m\u001b[0m | time: 153.328s\n\u001b[2K\r| SGD | epoch: 001 | loss: 0.06191 - acc: 0.9869 -- iter: 46680/55000\n"
     ]
    },
    {
     "name": "stdout",
     "output_type": "stream",
     "text": [
      "Training Step: 2335  | total loss: \u001b[1m\u001b[32m0.07489\u001b[0m\u001b[0m | time: 153.393s\n\u001b[2K\r| SGD | epoch: 001 | loss: 0.07489 - acc: 0.9782 -- iter: 46700/55000\n"
     ]
    },
    {
     "name": "stdout",
     "output_type": "stream",
     "text": [
      "Training Step: 2336  | total loss: \u001b[1m\u001b[32m0.08303\u001b[0m\u001b[0m | time: 153.456s\n\u001b[2K\r| SGD | epoch: 001 | loss: 0.08303 - acc: 0.9754 -- iter: 46720/55000\n"
     ]
    },
    {
     "name": "stdout",
     "output_type": "stream",
     "text": [
      "Training Step: 2337  | total loss: \u001b[1m\u001b[32m0.07675\u001b[0m\u001b[0m | time: 153.518s\n\u001b[2K\r| SGD | epoch: 001 | loss: 0.07675 - acc: 0.9779 -- iter: 46740/55000\n"
     ]
    },
    {
     "name": "stdout",
     "output_type": "stream",
     "text": [
      "Training Step: 2338  | total loss: \u001b[1m\u001b[32m0.07109\u001b[0m\u001b[0m | time: 153.596s\n\u001b[2K\r| SGD | epoch: 001 | loss: 0.07109 - acc: 0.9801 -- iter: 46760/55000\n"
     ]
    },
    {
     "name": "stdout",
     "output_type": "stream",
     "text": [
      "Training Step: 2339  | total loss: \u001b[1m\u001b[32m0.06427\u001b[0m\u001b[0m | time: 153.659s\n\u001b[2K\r| SGD | epoch: 001 | loss: 0.06427 - acc: 0.9821 -- iter: 46780/55000\n"
     ]
    },
    {
     "name": "stdout",
     "output_type": "stream",
     "text": [
      "Training Step: 2340  | total loss: \u001b[1m\u001b[32m0.05861\u001b[0m\u001b[0m | time: 153.721s\n\u001b[2K\r| SGD | epoch: 001 | loss: 0.05861 - acc: 0.9839 -- iter: 46800/55000\n"
     ]
    },
    {
     "name": "stdout",
     "output_type": "stream",
     "text": [
      "Training Step: 2341  | total loss: \u001b[1m\u001b[32m0.05361\u001b[0m\u001b[0m | time: 153.784s\n\u001b[2K\r| SGD | epoch: 001 | loss: 0.05361 - acc: 0.9855 -- iter: 46820/55000\n"
     ]
    },
    {
     "name": "stdout",
     "output_type": "stream",
     "text": [
      "Training Step: 2342  | total loss: \u001b[1m\u001b[32m0.07010\u001b[0m\u001b[0m | time: 153.846s\n\u001b[2K\r| SGD | epoch: 001 | loss: 0.07010 - acc: 0.9769 -- iter: 46840/55000\n"
     ]
    },
    {
     "name": "stdout",
     "output_type": "stream",
     "text": [
      "Training Step: 2343  | total loss: \u001b[1m\u001b[32m0.06396\u001b[0m\u001b[0m | time: 153.907s\n\u001b[2K\r| SGD | epoch: 001 | loss: 0.06396 - acc: 0.9792 -- iter: 46860/55000\n"
     ]
    },
    {
     "name": "stdout",
     "output_type": "stream",
     "text": [
      "Training Step: 2344  | total loss: \u001b[1m\u001b[32m0.05905\u001b[0m\u001b[0m | time: 153.962s\n\u001b[2K\r| SGD | epoch: 001 | loss: 0.05905 - acc: 0.9813 -- iter: 46880/55000\n"
     ]
    },
    {
     "name": "stdout",
     "output_type": "stream",
     "text": [
      "Training Step: 2345  | total loss: \u001b[1m\u001b[32m0.05444\u001b[0m\u001b[0m | time: 154.040s\n\u001b[2K\r| SGD | epoch: 001 | loss: 0.05444 - acc: 0.9832 -- iter: 46900/55000\n"
     ]
    },
    {
     "name": "stdout",
     "output_type": "stream",
     "text": [
      "Training Step: 2346  | total loss: \u001b[1m\u001b[32m0.07741\u001b[0m\u001b[0m | time: 154.118s\n\u001b[2K\r| SGD | epoch: 001 | loss: 0.07741 - acc: 0.9749 -- iter: 46920/55000\n"
     ]
    },
    {
     "name": "stdout",
     "output_type": "stream",
     "text": [
      "Training Step: 2347  | total loss: \u001b[1m\u001b[32m0.07080\u001b[0m\u001b[0m | time: 154.181s\n\u001b[2K\r| SGD | epoch: 001 | loss: 0.07080 - acc: 0.9774 -- iter: 46940/55000\n"
     ]
    },
    {
     "name": "stdout",
     "output_type": "stream",
     "text": [
      "Training Step: 2348  | total loss: \u001b[1m\u001b[32m0.06671\u001b[0m\u001b[0m | time: 154.259s\n\u001b[2K\r| SGD | epoch: 001 | loss: 0.06671 - acc: 0.9796 -- iter: 46960/55000\n"
     ]
    },
    {
     "name": "stdout",
     "output_type": "stream",
     "text": [
      "Training Step: 2349  | total loss: \u001b[1m\u001b[32m0.06176\u001b[0m\u001b[0m | time: 154.337s\n\u001b[2K\r| SGD | epoch: 001 | loss: 0.06176 - acc: 0.9817 -- iter: 46980/55000\n"
     ]
    },
    {
     "name": "stdout",
     "output_type": "stream",
     "text": [
      "Training Step: 2350  | total loss: \u001b[1m\u001b[32m0.06618\u001b[0m\u001b[0m | time: 154.415s\n\u001b[2K\r| SGD | epoch: 001 | loss: 0.06618 - acc: 0.9785 -- iter: 47000/55000\n"
     ]
    },
    {
     "name": "stdout",
     "output_type": "stream",
     "text": [
      "Training Step: 2351  | total loss: \u001b[1m\u001b[32m0.06017\u001b[0m\u001b[0m | time: 154.493s\n\u001b[2K\r| SGD | epoch: 001 | loss: 0.06017 - acc: 0.9807 -- iter: 47020/55000\n"
     ]
    },
    {
     "name": "stdout",
     "output_type": "stream",
     "text": [
      "Training Step: 2352  | total loss: \u001b[1m\u001b[32m0.05473\u001b[0m\u001b[0m | time: 154.572s\n\u001b[2K\r| SGD | epoch: 001 | loss: 0.05473 - acc: 0.9826 -- iter: 47040/55000\n"
     ]
    },
    {
     "name": "stdout",
     "output_type": "stream",
     "text": [
      "Training Step: 2353  | total loss: \u001b[1m\u001b[32m0.07284\u001b[0m\u001b[0m | time: 154.650s\n\u001b[2K\r| SGD | epoch: 001 | loss: 0.07284 - acc: 0.9793 -- iter: 47060/55000\n"
     ]
    },
    {
     "name": "stdout",
     "output_type": "stream",
     "text": [
      "Training Step: 2354  | total loss: \u001b[1m\u001b[32m0.06764\u001b[0m\u001b[0m | time: 154.728s\n\u001b[2K\r| SGD | epoch: 001 | loss: 0.06764 - acc: 0.9814 -- iter: 47080/55000\n"
     ]
    },
    {
     "name": "stdout",
     "output_type": "stream",
     "text": [
      "Training Step: 2355  | total loss: \u001b[1m\u001b[32m0.06124\u001b[0m\u001b[0m | time: 154.806s\n\u001b[2K\r| SGD | epoch: 001 | loss: 0.06124 - acc: 0.9833 -- iter: 47100/55000\n"
     ]
    },
    {
     "name": "stdout",
     "output_type": "stream",
     "text": [
      "Training Step: 2356  | total loss: \u001b[1m\u001b[32m0.06896\u001b[0m\u001b[0m | time: 154.884s\n\u001b[2K\r| SGD | epoch: 001 | loss: 0.06896 - acc: 0.9749 -- iter: 47120/55000\n"
     ]
    },
    {
     "name": "stdout",
     "output_type": "stream",
     "text": [
      "Training Step: 2357  | total loss: \u001b[1m\u001b[32m0.08591\u001b[0m\u001b[0m | time: 154.947s\n\u001b[2K\r| SGD | epoch: 001 | loss: 0.08591 - acc: 0.9674 -- iter: 47140/55000\n"
     ]
    },
    {
     "name": "stdout",
     "output_type": "stream",
     "text": [
      "Training Step: 2358  | total loss: \u001b[1m\u001b[32m0.10943\u001b[0m\u001b[0m | time: 155.024s\n\u001b[2K\r| SGD | epoch: 001 | loss: 0.10943 - acc: 0.9607 -- iter: 47160/55000\n"
     ]
    },
    {
     "name": "stdout",
     "output_type": "stream",
     "text": [
      "Training Step: 2359  | total loss: \u001b[1m\u001b[32m0.11470\u001b[0m\u001b[0m | time: 155.099s\n\u001b[2K\r| SGD | epoch: 001 | loss: 0.11470 - acc: 0.9596 -- iter: 47180/55000\n"
     ]
    },
    {
     "name": "stdout",
     "output_type": "stream",
     "text": [
      "Training Step: 2360  | total loss: \u001b[1m\u001b[32m0.10390\u001b[0m\u001b[0m | time: 155.172s\n\u001b[2K\r| SGD | epoch: 001 | loss: 0.10390 - acc: 0.9637 -- iter: 47200/55000\n"
     ]
    },
    {
     "name": "stdout",
     "output_type": "stream",
     "text": [
      "Training Step: 2361  | total loss: \u001b[1m\u001b[32m0.09949\u001b[0m\u001b[0m | time: 155.244s\n\u001b[2K\r| SGD | epoch: 001 | loss: 0.09949 - acc: 0.9673 -- iter: 47220/55000\n"
     ]
    },
    {
     "name": "stdout",
     "output_type": "stream",
     "text": [
      "Training Step: 2362  | total loss: \u001b[1m\u001b[32m0.10612\u001b[0m\u001b[0m | time: 155.314s\n\u001b[2K\r| SGD | epoch: 001 | loss: 0.10612 - acc: 0.9656 -- iter: 47240/55000\n"
     ]
    },
    {
     "name": "stdout",
     "output_type": "stream",
     "text": [
      "Training Step: 2363  | total loss: \u001b[1m\u001b[32m0.10305\u001b[0m\u001b[0m | time: 155.381s\n\u001b[2K\r| SGD | epoch: 001 | loss: 0.10305 - acc: 0.9640 -- iter: 47260/55000\n"
     ]
    },
    {
     "name": "stdout",
     "output_type": "stream",
     "text": [
      "Training Step: 2364  | total loss: \u001b[1m\u001b[32m0.09358\u001b[0m\u001b[0m | time: 155.454s\n\u001b[2K\r| SGD | epoch: 001 | loss: 0.09358 - acc: 0.9676 -- iter: 47280/55000\n"
     ]
    },
    {
     "name": "stdout",
     "output_type": "stream",
     "text": [
      "Training Step: 2365  | total loss: \u001b[1m\u001b[32m0.09241\u001b[0m\u001b[0m | time: 155.509s\n\u001b[2K\r| SGD | epoch: 001 | loss: 0.09241 - acc: 0.9658 -- iter: 47300/55000\n"
     ]
    },
    {
     "name": "stdout",
     "output_type": "stream",
     "text": [
      "Training Step: 2366  | total loss: \u001b[1m\u001b[32m0.08626\u001b[0m\u001b[0m | time: 155.587s\n\u001b[2K\r| SGD | epoch: 001 | loss: 0.08626 - acc: 0.9693 -- iter: 47320/55000\n"
     ]
    },
    {
     "name": "stdout",
     "output_type": "stream",
     "text": [
      "Training Step: 2367  | total loss: \u001b[1m\u001b[32m0.07923\u001b[0m\u001b[0m | time: 155.649s\n\u001b[2K\r| SGD | epoch: 001 | loss: 0.07923 - acc: 0.9723 -- iter: 47340/55000\n"
     ]
    },
    {
     "name": "stdout",
     "output_type": "stream",
     "text": [
      "Training Step: 2368  | total loss: \u001b[1m\u001b[32m0.09144\u001b[0m\u001b[0m | time: 155.712s\n\u001b[2K\r| SGD | epoch: 001 | loss: 0.09144 - acc: 0.9701 -- iter: 47360/55000\n"
     ]
    },
    {
     "name": "stdout",
     "output_type": "stream",
     "text": [
      "Training Step: 2369  | total loss: \u001b[1m\u001b[32m0.08471\u001b[0m\u001b[0m | time: 155.790s\n\u001b[2K\r| SGD | epoch: 001 | loss: 0.08471 - acc: 0.9731 -- iter: 47380/55000\n"
     ]
    },
    {
     "name": "stdout",
     "output_type": "stream",
     "text": [
      "Training Step: 2370  | total loss: \u001b[1m\u001b[32m0.08871\u001b[0m\u001b[0m | time: 155.855s\n\u001b[2K\r| SGD | epoch: 001 | loss: 0.08871 - acc: 0.9708 -- iter: 47400/55000\n"
     ]
    },
    {
     "name": "stdout",
     "output_type": "stream",
     "text": [
      "Training Step: 2371  | total loss: \u001b[1m\u001b[32m0.08028\u001b[0m\u001b[0m | time: 155.906s\n\u001b[2K\r| SGD | epoch: 001 | loss: 0.08028 - acc: 0.9737 -- iter: 47420/55000\n"
     ]
    },
    {
     "name": "stdout",
     "output_type": "stream",
     "text": [
      "Training Step: 2372  | total loss: \u001b[1m\u001b[32m0.09637\u001b[0m\u001b[0m | time: 155.984s\n\u001b[2K\r| SGD | epoch: 001 | loss: 0.09637 - acc: 0.9713 -- iter: 47440/55000\n"
     ]
    },
    {
     "name": "stdout",
     "output_type": "stream",
     "text": [
      "Training Step: 2373  | total loss: \u001b[1m\u001b[32m0.12337\u001b[0m\u001b[0m | time: 156.047s\n\u001b[2K\r| SGD | epoch: 001 | loss: 0.12337 - acc: 0.9642 -- iter: 47460/55000\n"
     ]
    },
    {
     "name": "stdout",
     "output_type": "stream",
     "text": [
      "Training Step: 2374  | total loss: \u001b[1m\u001b[32m0.11304\u001b[0m\u001b[0m | time: 156.109s\n\u001b[2K\r| SGD | epoch: 001 | loss: 0.11304 - acc: 0.9678 -- iter: 47480/55000\n"
     ]
    },
    {
     "name": "stdout",
     "output_type": "stream",
     "text": [
      "Training Step: 2375  | total loss: \u001b[1m\u001b[32m0.10284\u001b[0m\u001b[0m | time: 156.187s\n\u001b[2K\r| SGD | epoch: 001 | loss: 0.10284 - acc: 0.9710 -- iter: 47500/55000\n"
     ]
    },
    {
     "name": "stdout",
     "output_type": "stream",
     "text": [
      "Training Step: 2376  | total loss: \u001b[1m\u001b[32m0.11017\u001b[0m\u001b[0m | time: 156.250s\n\u001b[2K\r| SGD | epoch: 001 | loss: 0.11017 - acc: 0.9639 -- iter: 47520/55000\n"
     ]
    },
    {
     "name": "stdout",
     "output_type": "stream",
     "text": [
      "Training Step: 2377  | total loss: \u001b[1m\u001b[32m0.10052\u001b[0m\u001b[0m | time: 156.312s\n\u001b[2K\r| SGD | epoch: 001 | loss: 0.10052 - acc: 0.9675 -- iter: 47540/55000\n"
     ]
    },
    {
     "name": "stdout",
     "output_type": "stream",
     "text": [
      "Training Step: 2378  | total loss: \u001b[1m\u001b[32m0.09095\u001b[0m\u001b[0m | time: 156.390s\n\u001b[2K\r| SGD | epoch: 001 | loss: 0.09095 - acc: 0.9708 -- iter: 47560/55000\n"
     ]
    },
    {
     "name": "stdout",
     "output_type": "stream",
     "text": [
      "Training Step: 2379  | total loss: \u001b[1m\u001b[32m0.09623\u001b[0m\u001b[0m | time: 156.469s\n\u001b[2K\r| SGD | epoch: 001 | loss: 0.09623 - acc: 0.9687 -- iter: 47580/55000\n"
     ]
    },
    {
     "name": "stdout",
     "output_type": "stream",
     "text": [
      "Training Step: 2380  | total loss: \u001b[1m\u001b[32m0.08783\u001b[0m\u001b[0m | time: 156.535s\n\u001b[2K\r| SGD | epoch: 001 | loss: 0.08783 - acc: 0.9718 -- iter: 47600/55000\n"
     ]
    },
    {
     "name": "stdout",
     "output_type": "stream",
     "text": [
      "Training Step: 2381  | total loss: \u001b[1m\u001b[32m0.08032\u001b[0m\u001b[0m | time: 156.591s\n\u001b[2K\r| SGD | epoch: 001 | loss: 0.08032 - acc: 0.9746 -- iter: 47620/55000\n"
     ]
    },
    {
     "name": "stdout",
     "output_type": "stream",
     "text": [
      "Training Step: 2382  | total loss: \u001b[1m\u001b[32m0.11525\u001b[0m\u001b[0m | time: 156.653s\n\u001b[2K\r| SGD | epoch: 001 | loss: 0.11525 - acc: 0.9572 -- iter: 47640/55000\n"
     ]
    },
    {
     "name": "stdout",
     "output_type": "stream",
     "text": [
      "Training Step: 2383  | total loss: \u001b[1m\u001b[32m0.10537\u001b[0m\u001b[0m | time: 156.731s\n\u001b[2K\r| SGD | epoch: 001 | loss: 0.10537 - acc: 0.9615 -- iter: 47660/55000\n"
     ]
    },
    {
     "name": "stdout",
     "output_type": "stream",
     "text": [
      "Training Step: 2384  | total loss: \u001b[1m\u001b[32m0.09591\u001b[0m\u001b[0m | time: 156.794s\n\u001b[2K\r| SGD | epoch: 001 | loss: 0.09591 - acc: 0.9653 -- iter: 47680/55000\n"
     ]
    },
    {
     "name": "stdout",
     "output_type": "stream",
     "text": [
      "Training Step: 2385  | total loss: \u001b[1m\u001b[32m0.08665\u001b[0m\u001b[0m | time: 156.856s\n\u001b[2K\r| SGD | epoch: 001 | loss: 0.08665 - acc: 0.9688 -- iter: 47700/55000\n"
     ]
    },
    {
     "name": "stdout",
     "output_type": "stream",
     "text": [
      "Training Step: 2386  | total loss: \u001b[1m\u001b[32m0.07837\u001b[0m\u001b[0m | time: 156.919s\n\u001b[2K\r| SGD | epoch: 001 | loss: 0.07837 - acc: 0.9719 -- iter: 47720/55000\n"
     ]
    },
    {
     "name": "stdout",
     "output_type": "stream",
     "text": [
      "Training Step: 2387  | total loss: \u001b[1m\u001b[32m0.08046\u001b[0m\u001b[0m | time: 156.997s\n\u001b[2K\r| SGD | epoch: 001 | loss: 0.08046 - acc: 0.9697 -- iter: 47740/55000\n"
     ]
    },
    {
     "name": "stdout",
     "output_type": "stream",
     "text": [
      "Training Step: 2388  | total loss: \u001b[1m\u001b[32m0.07374\u001b[0m\u001b[0m | time: 157.060s\n\u001b[2K\r| SGD | epoch: 001 | loss: 0.07374 - acc: 0.9727 -- iter: 47760/55000\n"
     ]
    },
    {
     "name": "stdout",
     "output_type": "stream",
     "text": [
      "Training Step: 2389  | total loss: \u001b[1m\u001b[32m0.06688\u001b[0m\u001b[0m | time: 157.138s\n\u001b[2K\r| SGD | epoch: 001 | loss: 0.06688 - acc: 0.9755 -- iter: 47780/55000\n"
     ]
    },
    {
     "name": "stdout",
     "output_type": "stream",
     "text": [
      "Training Step: 2390  | total loss: \u001b[1m\u001b[32m0.06039\u001b[0m\u001b[0m | time: 157.200s\n\u001b[2K\r| SGD | epoch: 001 | loss: 0.06039 - acc: 0.9779 -- iter: 47800/55000\n"
     ]
    },
    {
     "name": "stdout",
     "output_type": "stream",
     "text": [
      "Training Step: 2391  | total loss: \u001b[1m\u001b[32m0.06243\u001b[0m\u001b[0m | time: 157.278s\n\u001b[2K\r| SGD | epoch: 001 | loss: 0.06243 - acc: 0.9801 -- iter: 47820/55000\n"
     ]
    },
    {
     "name": "stdout",
     "output_type": "stream",
     "text": [
      "Training Step: 2392  | total loss: \u001b[1m\u001b[32m0.06484\u001b[0m\u001b[0m | time: 157.341s\n\u001b[2K\r| SGD | epoch: 001 | loss: 0.06484 - acc: 0.9771 -- iter: 47840/55000\n"
     ]
    },
    {
     "name": "stdout",
     "output_type": "stream",
     "text": [
      "Training Step: 2393  | total loss: \u001b[1m\u001b[32m0.06236\u001b[0m\u001b[0m | time: 157.403s\n\u001b[2K\r| SGD | epoch: 001 | loss: 0.06236 - acc: 0.9744 -- iter: 47860/55000\n"
     ]
    },
    {
     "name": "stdout",
     "output_type": "stream",
     "text": [
      "Training Step: 2394  | total loss: \u001b[1m\u001b[32m0.05758\u001b[0m\u001b[0m | time: 157.466s\n\u001b[2K\r| SGD | epoch: 001 | loss: 0.05758 - acc: 0.9770 -- iter: 47880/55000\n"
     ]
    },
    {
     "name": "stdout",
     "output_type": "stream",
     "text": [
      "Training Step: 2395  | total loss: \u001b[1m\u001b[32m0.05325\u001b[0m\u001b[0m | time: 157.528s\n\u001b[2K\r| SGD | epoch: 001 | loss: 0.05325 - acc: 0.9793 -- iter: 47900/55000\n"
     ]
    },
    {
     "name": "stdout",
     "output_type": "stream",
     "text": [
      "Training Step: 2396  | total loss: \u001b[1m\u001b[32m0.04911\u001b[0m\u001b[0m | time: 157.575s\n\u001b[2K\r| SGD | epoch: 001 | loss: 0.04911 - acc: 0.9813 -- iter: 47920/55000\n"
     ]
    },
    {
     "name": "stdout",
     "output_type": "stream",
     "text": [
      "Training Step: 2397  | total loss: \u001b[1m\u001b[32m0.05719\u001b[0m\u001b[0m | time: 157.638s\n\u001b[2K\r| SGD | epoch: 001 | loss: 0.05719 - acc: 0.9782 -- iter: 47940/55000\n"
     ]
    },
    {
     "name": "stdout",
     "output_type": "stream",
     "text": [
      "Training Step: 2398  | total loss: \u001b[1m\u001b[32m0.08233\u001b[0m\u001b[0m | time: 157.700s\n\u001b[2K\r| SGD | epoch: 001 | loss: 0.08233 - acc: 0.9704 -- iter: 47960/55000\n"
     ]
    },
    {
     "name": "stdout",
     "output_type": "stream",
     "text": [
      "Training Step: 2399  | total loss: \u001b[1m\u001b[32m0.07613\u001b[0m\u001b[0m | time: 157.774s\n\u001b[2K\r| SGD | epoch: 001 | loss: 0.07613 - acc: 0.9733 -- iter: 47980/55000\n"
     ]
    },
    {
     "name": "stdout",
     "output_type": "stream",
     "text": [
      "Training Step: 2400  | total loss: \u001b[1m\u001b[32m0.06910\u001b[0m\u001b[0m | time: 157.836s\n\u001b[2K\r| SGD | epoch: 001 | loss: 0.06910 - acc: 0.9760 -- iter: 48000/55000\n"
     ]
    },
    {
     "name": "stdout",
     "output_type": "stream",
     "text": [
      "Training Step: 2401  | total loss: \u001b[1m\u001b[32m0.07065\u001b[0m\u001b[0m | time: 157.906s\n\u001b[2K\r| SGD | epoch: 001 | loss: 0.07065 - acc: 0.9784 -- iter: 48020/55000\n"
     ]
    },
    {
     "name": "stdout",
     "output_type": "stream",
     "text": [
      "Training Step: 2402  | total loss: \u001b[1m\u001b[32m0.08274\u001b[0m\u001b[0m | time: 157.968s\n\u001b[2K\r| SGD | epoch: 001 | loss: 0.08274 - acc: 0.9756 -- iter: 48040/55000\n"
     ]
    },
    {
     "name": "stdout",
     "output_type": "stream",
     "text": [
      "Training Step: 2403  | total loss: \u001b[1m\u001b[32m0.07551\u001b[0m\u001b[0m | time: 158.031s\n\u001b[2K\r| SGD | epoch: 001 | loss: 0.07551 - acc: 0.9780 -- iter: 48060/55000\n"
     ]
    },
    {
     "name": "stdout",
     "output_type": "stream",
     "text": [
      "Training Step: 2404  | total loss: \u001b[1m\u001b[32m0.06837\u001b[0m\u001b[0m | time: 158.093s\n\u001b[2K\r| SGD | epoch: 001 | loss: 0.06837 - acc: 0.9802 -- iter: 48080/55000\n"
     ]
    },
    {
     "name": "stdout",
     "output_type": "stream",
     "text": [
      "Training Step: 2405  | total loss: \u001b[1m\u001b[32m0.07998\u001b[0m\u001b[0m | time: 158.156s\n\u001b[2K\r| SGD | epoch: 001 | loss: 0.07998 - acc: 0.9772 -- iter: 48100/55000\n"
     ]
    },
    {
     "name": "stdout",
     "output_type": "stream",
     "text": [
      "Training Step: 2406  | total loss: \u001b[1m\u001b[32m0.07483\u001b[0m\u001b[0m | time: 158.218s\n\u001b[2K\r| SGD | epoch: 001 | loss: 0.07483 - acc: 0.9795 -- iter: 48120/55000\n"
     ]
    },
    {
     "name": "stdout",
     "output_type": "stream",
     "text": [
      "Training Step: 2407  | total loss: \u001b[1m\u001b[32m0.06769\u001b[0m\u001b[0m | time: 158.281s\n\u001b[2K\r| SGD | epoch: 001 | loss: 0.06769 - acc: 0.9815 -- iter: 48140/55000\n"
     ]
    },
    {
     "name": "stdout",
     "output_type": "stream",
     "text": [
      "Training Step: 2408  | total loss: \u001b[1m\u001b[32m0.06265\u001b[0m\u001b[0m | time: 158.343s\n\u001b[2K\r| SGD | epoch: 001 | loss: 0.06265 - acc: 0.9834 -- iter: 48160/55000\n"
     ]
    },
    {
     "name": "stdout",
     "output_type": "stream",
     "text": [
      "Training Step: 2409  | total loss: \u001b[1m\u001b[32m0.05736\u001b[0m\u001b[0m | time: 158.406s\n\u001b[2K\r| SGD | epoch: 001 | loss: 0.05736 - acc: 0.9850 -- iter: 48180/55000\n"
     ]
    },
    {
     "name": "stdout",
     "output_type": "stream",
     "text": [
      "Training Step: 2410  | total loss: \u001b[1m\u001b[32m0.05185\u001b[0m\u001b[0m | time: 158.484s\n\u001b[2K\r| SGD | epoch: 001 | loss: 0.05185 - acc: 0.9865 -- iter: 48200/55000\n"
     ]
    },
    {
     "name": "stdout",
     "output_type": "stream",
     "text": [
      "Training Step: 2411  | total loss: \u001b[1m\u001b[32m0.04749\u001b[0m\u001b[0m | time: 158.546s\n\u001b[2K\r| SGD | epoch: 001 | loss: 0.04749 - acc: 0.9879 -- iter: 48220/55000\n"
     ]
    },
    {
     "name": "stdout",
     "output_type": "stream",
     "text": [
      "Training Step: 2412  | total loss: \u001b[1m\u001b[32m0.04771\u001b[0m\u001b[0m | time: 158.609s\n\u001b[2K\r| SGD | epoch: 001 | loss: 0.04771 - acc: 0.9841 -- iter: 48240/55000\n"
     ]
    },
    {
     "name": "stdout",
     "output_type": "stream",
     "text": [
      "Training Step: 2413  | total loss: \u001b[1m\u001b[32m0.04728\u001b[0m\u001b[0m | time: 158.671s\n\u001b[2K\r| SGD | epoch: 001 | loss: 0.04728 - acc: 0.9807 -- iter: 48260/55000\n"
     ]
    },
    {
     "name": "stdout",
     "output_type": "stream",
     "text": [
      "Training Step: 2414  | total loss: \u001b[1m\u001b[32m0.04269\u001b[0m\u001b[0m | time: 158.740s\n\u001b[2K\r| SGD | epoch: 001 | loss: 0.04269 - acc: 0.9826 -- iter: 48280/55000\n"
     ]
    },
    {
     "name": "stdout",
     "output_type": "stream",
     "text": [
      "Training Step: 2415  | total loss: \u001b[1m\u001b[32m0.04737\u001b[0m\u001b[0m | time: 158.818s\n\u001b[2K\r| SGD | epoch: 001 | loss: 0.04737 - acc: 0.9794 -- iter: 48300/55000\n"
     ]
    },
    {
     "name": "stdout",
     "output_type": "stream",
     "text": [
      "Training Step: 2416  | total loss: \u001b[1m\u001b[32m0.05158\u001b[0m\u001b[0m | time: 158.880s\n\u001b[2K\r| SGD | epoch: 001 | loss: 0.05158 - acc: 0.9764 -- iter: 48320/55000\n"
     ]
    },
    {
     "name": "stdout",
     "output_type": "stream",
     "text": [
      "Training Step: 2417  | total loss: \u001b[1m\u001b[32m0.04762\u001b[0m\u001b[0m | time: 158.943s\n\u001b[2K\r| SGD | epoch: 001 | loss: 0.04762 - acc: 0.9788 -- iter: 48340/55000\n"
     ]
    },
    {
     "name": "stdout",
     "output_type": "stream",
     "text": [
      "Training Step: 2418  | total loss: \u001b[1m\u001b[32m0.04342\u001b[0m\u001b[0m | time: 159.005s\n\u001b[2K\r| SGD | epoch: 001 | loss: 0.04342 - acc: 0.9809 -- iter: 48360/55000\n"
     ]
    },
    {
     "name": "stdout",
     "output_type": "stream",
     "text": [
      "Training Step: 2419  | total loss: \u001b[1m\u001b[32m0.05582\u001b[0m\u001b[0m | time: 159.068s\n\u001b[2K\r| SGD | epoch: 001 | loss: 0.05582 - acc: 0.9778 -- iter: 48380/55000\n"
     ]
    },
    {
     "name": "stdout",
     "output_type": "stream",
     "text": [
      "Training Step: 2420  | total loss: \u001b[1m\u001b[32m0.05099\u001b[0m\u001b[0m | time: 159.130s\n\u001b[2K\r| SGD | epoch: 001 | loss: 0.05099 - acc: 0.9800 -- iter: 48400/55000\n"
     ]
    },
    {
     "name": "stdout",
     "output_type": "stream",
     "text": [
      "Training Step: 2421  | total loss: \u001b[1m\u001b[32m0.04628\u001b[0m\u001b[0m | time: 159.208s\n\u001b[2K\r| SGD | epoch: 001 | loss: 0.04628 - acc: 0.9820 -- iter: 48420/55000\n"
     ]
    },
    {
     "name": "stdout",
     "output_type": "stream",
     "text": [
      "Training Step: 2422  | total loss: \u001b[1m\u001b[32m0.04551\u001b[0m\u001b[0m | time: 159.271s\n\u001b[2K\r| SGD | epoch: 001 | loss: 0.04551 - acc: 0.9838 -- iter: 48440/55000\n"
     ]
    },
    {
     "name": "stdout",
     "output_type": "stream",
     "text": [
      "Training Step: 2423  | total loss: \u001b[1m\u001b[32m0.04202\u001b[0m\u001b[0m | time: 159.333s\n\u001b[2K\r| SGD | epoch: 001 | loss: 0.04202 - acc: 0.9854 -- iter: 48460/55000\n"
     ]
    },
    {
     "name": "stdout",
     "output_type": "stream",
     "text": [
      "Training Step: 2424  | total loss: \u001b[1m\u001b[32m0.03788\u001b[0m\u001b[0m | time: 159.396s\n\u001b[2K\r| SGD | epoch: 001 | loss: 0.03788 - acc: 0.9869 -- iter: 48480/55000\n"
     ]
    },
    {
     "name": "stdout",
     "output_type": "stream",
     "text": [
      "Training Step: 2425  | total loss: \u001b[1m\u001b[32m0.04358\u001b[0m\u001b[0m | time: 159.474s\n\u001b[2K\r| SGD | epoch: 001 | loss: 0.04358 - acc: 0.9832 -- iter: 48500/55000\n"
     ]
    },
    {
     "name": "stdout",
     "output_type": "stream",
     "text": [
      "Training Step: 2426  | total loss: \u001b[1m\u001b[32m0.03948\u001b[0m\u001b[0m | time: 159.544s\n\u001b[2K\r| SGD | epoch: 001 | loss: 0.03948 - acc: 0.9849 -- iter: 48520/55000\n"
     ]
    },
    {
     "name": "stdout",
     "output_type": "stream",
     "text": [
      "Training Step: 2427  | total loss: \u001b[1m\u001b[32m0.03639\u001b[0m\u001b[0m | time: 159.599s\n\u001b[2K\r| SGD | epoch: 001 | loss: 0.03639 - acc: 0.9864 -- iter: 48540/55000\n"
     ]
    },
    {
     "name": "stdout",
     "output_type": "stream",
     "text": [
      "Training Step: 2428  | total loss: \u001b[1m\u001b[32m0.06485\u001b[0m\u001b[0m | time: 159.680s\n\u001b[2K\r| SGD | epoch: 001 | loss: 0.06485 - acc: 0.9828 -- iter: 48560/55000\n"
     ]
    },
    {
     "name": "stdout",
     "output_type": "stream",
     "text": [
      "Training Step: 2429  | total loss: \u001b[1m\u001b[32m0.06724\u001b[0m\u001b[0m | time: 159.733s\n\u001b[2K\r| SGD | epoch: 001 | loss: 0.06724 - acc: 0.9795 -- iter: 48580/55000\n"
     ]
    },
    {
     "name": "stdout",
     "output_type": "stream",
     "text": [
      "Training Step: 2430  | total loss: \u001b[1m\u001b[32m0.06092\u001b[0m\u001b[0m | time: 159.811s\n\u001b[2K\r| SGD | epoch: 001 | loss: 0.06092 - acc: 0.9815 -- iter: 48600/55000\n"
     ]
    },
    {
     "name": "stdout",
     "output_type": "stream",
     "text": [
      "Training Step: 2431  | total loss: \u001b[1m\u001b[32m0.06491\u001b[0m\u001b[0m | time: 159.874s\n\u001b[2K\r| SGD | epoch: 001 | loss: 0.06491 - acc: 0.9834 -- iter: 48620/55000\n"
     ]
    },
    {
     "name": "stdout",
     "output_type": "stream",
     "text": [
      "Training Step: 2432  | total loss: \u001b[1m\u001b[32m0.07858\u001b[0m\u001b[0m | time: 159.950s\n\u001b[2K\r| SGD | epoch: 001 | loss: 0.07858 - acc: 0.9750 -- iter: 48640/55000\n"
     ]
    },
    {
     "name": "stdout",
     "output_type": "stream",
     "text": [
      "Training Step: 2433  | total loss: \u001b[1m\u001b[32m0.07147\u001b[0m\u001b[0m | time: 160.021s\n\u001b[2K\r| SGD | epoch: 001 | loss: 0.07147 - acc: 0.9775 -- iter: 48660/55000\n"
     ]
    },
    {
     "name": "stdout",
     "output_type": "stream",
     "text": [
      "Training Step: 2434  | total loss: \u001b[1m\u001b[32m0.06600\u001b[0m\u001b[0m | time: 160.084s\n\u001b[2K\r| SGD | epoch: 001 | loss: 0.06600 - acc: 0.9798 -- iter: 48680/55000\n"
     ]
    },
    {
     "name": "stdout",
     "output_type": "stream",
     "text": [
      "Training Step: 2435  | total loss: \u001b[1m\u001b[32m0.08929\u001b[0m\u001b[0m | time: 160.146s\n\u001b[2K\r| SGD | epoch: 001 | loss: 0.08929 - acc: 0.9768 -- iter: 48700/55000\n"
     ]
    },
    {
     "name": "stdout",
     "output_type": "stream",
     "text": [
      "Training Step: 2436  | total loss: \u001b[1m\u001b[32m0.08449\u001b[0m\u001b[0m | time: 160.224s\n\u001b[2K\r| SGD | epoch: 001 | loss: 0.08449 - acc: 0.9791 -- iter: 48720/55000\n"
     ]
    },
    {
     "name": "stdout",
     "output_type": "stream",
     "text": [
      "Training Step: 2437  | total loss: \u001b[1m\u001b[32m0.07633\u001b[0m\u001b[0m | time: 160.302s\n\u001b[2K\r| SGD | epoch: 001 | loss: 0.07633 - acc: 0.9812 -- iter: 48740/55000\n"
     ]
    },
    {
     "name": "stdout",
     "output_type": "stream",
     "text": [
      "Training Step: 2438  | total loss: \u001b[1m\u001b[32m0.07208\u001b[0m\u001b[0m | time: 160.365s\n\u001b[2K\r| SGD | epoch: 001 | loss: 0.07208 - acc: 0.9831 -- iter: 48760/55000\n"
     ]
    },
    {
     "name": "stdout",
     "output_type": "stream",
     "text": [
      "Training Step: 2439  | total loss: \u001b[1m\u001b[32m0.08800\u001b[0m\u001b[0m | time: 160.443s\n\u001b[2K\r| SGD | epoch: 001 | loss: 0.08800 - acc: 0.9748 -- iter: 48780/55000\n"
     ]
    },
    {
     "name": "stdout",
     "output_type": "stream",
     "text": [
      "Training Step: 2440  | total loss: \u001b[1m\u001b[32m0.08047\u001b[0m\u001b[0m | time: 160.505s\n\u001b[2K\r| SGD | epoch: 001 | loss: 0.08047 - acc: 0.9773 -- iter: 48800/55000\n"
     ]
    },
    {
     "name": "stdout",
     "output_type": "stream",
     "text": [
      "Training Step: 2441  | total loss: \u001b[1m\u001b[32m0.07621\u001b[0m\u001b[0m | time: 160.568s\n\u001b[2K\r| SGD | epoch: 001 | loss: 0.07621 - acc: 0.9796 -- iter: 48820/55000\n"
     ]
    },
    {
     "name": "stdout",
     "output_type": "stream",
     "text": [
      "Training Step: 2442  | total loss: \u001b[1m\u001b[32m0.06903\u001b[0m\u001b[0m | time: 160.631s\n\u001b[2K\r| SGD | epoch: 001 | loss: 0.06903 - acc: 0.9816 -- iter: 48840/55000\n"
     ]
    },
    {
     "name": "stdout",
     "output_type": "stream",
     "text": [
      "Training Step: 2443  | total loss: \u001b[1m\u001b[32m0.06263\u001b[0m\u001b[0m | time: 160.713s\n\u001b[2K\r| SGD | epoch: 001 | loss: 0.06263 - acc: 0.9835 -- iter: 48860/55000\n"
     ]
    },
    {
     "name": "stdout",
     "output_type": "stream",
     "text": [
      "Training Step: 2444  | total loss: \u001b[1m\u001b[32m0.06088\u001b[0m\u001b[0m | time: 160.782s\n\u001b[2K\r| SGD | epoch: 001 | loss: 0.06088 - acc: 0.9851 -- iter: 48880/55000\n"
     ]
    },
    {
     "name": "stdout",
     "output_type": "stream",
     "text": [
      "Training Step: 2445  | total loss: \u001b[1m\u001b[32m0.05568\u001b[0m\u001b[0m | time: 160.845s\n\u001b[2K\r| SGD | epoch: 001 | loss: 0.05568 - acc: 0.9866 -- iter: 48900/55000\n"
     ]
    },
    {
     "name": "stdout",
     "output_type": "stream",
     "text": [
      "Training Step: 2446  | total loss: \u001b[1m\u001b[32m0.05049\u001b[0m\u001b[0m | time: 160.907s\n\u001b[2K\r| SGD | epoch: 001 | loss: 0.05049 - acc: 0.9879 -- iter: 48920/55000\n"
     ]
    },
    {
     "name": "stdout",
     "output_type": "stream",
     "text": [
      "Training Step: 2447  | total loss: \u001b[1m\u001b[32m0.04674\u001b[0m\u001b[0m | time: 160.985s\n\u001b[2K\r| SGD | epoch: 001 | loss: 0.04674 - acc: 0.9891 -- iter: 48940/55000\n"
     ]
    },
    {
     "name": "stdout",
     "output_type": "stream",
     "text": [
      "Training Step: 2448  | total loss: \u001b[1m\u001b[32m0.04260\u001b[0m\u001b[0m | time: 161.048s\n\u001b[2K\r| SGD | epoch: 001 | loss: 0.04260 - acc: 0.9902 -- iter: 48960/55000\n"
     ]
    },
    {
     "name": "stdout",
     "output_type": "stream",
     "text": [
      "Training Step: 2449  | total loss: \u001b[1m\u001b[32m0.03863\u001b[0m\u001b[0m | time: 161.110s\n\u001b[2K\r| SGD | epoch: 001 | loss: 0.03863 - acc: 0.9912 -- iter: 48980/55000\n"
     ]
    },
    {
     "name": "stdout",
     "output_type": "stream",
     "text": [
      "Training Step: 2450  | total loss: \u001b[1m\u001b[32m0.05348\u001b[0m\u001b[0m | time: 161.173s\n\u001b[2K\r| SGD | epoch: 001 | loss: 0.05348 - acc: 0.9871 -- iter: 49000/55000\n"
     ]
    },
    {
     "name": "stdout",
     "output_type": "stream",
     "text": [
      "Training Step: 2451  | total loss: \u001b[1m\u001b[32m0.06127\u001b[0m\u001b[0m | time: 161.235s\n\u001b[2K\r| SGD | epoch: 001 | loss: 0.06127 - acc: 0.9834 -- iter: 49020/55000\n"
     ]
    },
    {
     "name": "stdout",
     "output_type": "stream",
     "text": [
      "Training Step: 2452  | total loss: \u001b[1m\u001b[32m0.06317\u001b[0m\u001b[0m | time: 161.314s\n\u001b[2K\r| SGD | epoch: 001 | loss: 0.06317 - acc: 0.9800 -- iter: 49040/55000\n"
     ]
    },
    {
     "name": "stdout",
     "output_type": "stream",
     "text": [
      "Training Step: 2453  | total loss: \u001b[1m\u001b[32m0.06140\u001b[0m\u001b[0m | time: 161.376s\n\u001b[2K\r| SGD | epoch: 001 | loss: 0.06140 - acc: 0.9770 -- iter: 49060/55000\n"
     ]
    },
    {
     "name": "stdout",
     "output_type": "stream",
     "text": [
      "Training Step: 2454  | total loss: \u001b[1m\u001b[32m0.05594\u001b[0m\u001b[0m | time: 161.439s\n\u001b[2K\r| SGD | epoch: 001 | loss: 0.05594 - acc: 0.9793 -- iter: 49080/55000\n"
     ]
    },
    {
     "name": "stdout",
     "output_type": "stream",
     "text": [
      "Training Step: 2455  | total loss: \u001b[1m\u001b[32m0.05142\u001b[0m\u001b[0m | time: 161.501s\n\u001b[2K\r| SGD | epoch: 001 | loss: 0.05142 - acc: 0.9814 -- iter: 49100/55000\n"
     ]
    },
    {
     "name": "stdout",
     "output_type": "stream",
     "text": [
      "Training Step: 2456  | total loss: \u001b[1m\u001b[32m0.05347\u001b[0m\u001b[0m | time: 161.579s\n\u001b[2K\r| SGD | epoch: 001 | loss: 0.05347 - acc: 0.9833 -- iter: 49120/55000\n"
     ]
    },
    {
     "name": "stdout",
     "output_type": "stream",
     "text": [
      "Training Step: 2457  | total loss: \u001b[1m\u001b[32m0.04886\u001b[0m\u001b[0m | time: 161.642s\n\u001b[2K\r| SGD | epoch: 001 | loss: 0.04886 - acc: 0.9849 -- iter: 49140/55000\n"
     ]
    },
    {
     "name": "stdout",
     "output_type": "stream",
     "text": [
      "Training Step: 2458  | total loss: \u001b[1m\u001b[32m0.04407\u001b[0m\u001b[0m | time: 161.704s\n\u001b[2K\r| SGD | epoch: 001 | loss: 0.04407 - acc: 0.9864 -- iter: 49160/55000\n"
     ]
    },
    {
     "name": "stdout",
     "output_type": "stream",
     "text": [
      "Training Step: 2459  | total loss: \u001b[1m\u001b[32m0.04223\u001b[0m\u001b[0m | time: 161.767s\n\u001b[2K\r| SGD | epoch: 001 | loss: 0.04223 - acc: 0.9878 -- iter: 49180/55000\n"
     ]
    },
    {
     "name": "stdout",
     "output_type": "stream",
     "text": [
      "Training Step: 2460  | total loss: \u001b[1m\u001b[32m0.04216\u001b[0m\u001b[0m | time: 161.845s\n\u001b[2K\r| SGD | epoch: 001 | loss: 0.04216 - acc: 0.9890 -- iter: 49200/55000\n"
     ]
    },
    {
     "name": "stdout",
     "output_type": "stream",
     "text": [
      "Training Step: 2461  | total loss: \u001b[1m\u001b[32m0.04045\u001b[0m\u001b[0m | time: 161.907s\n\u001b[2K\r| SGD | epoch: 001 | loss: 0.04045 - acc: 0.9901 -- iter: 49220/55000\n"
     ]
    },
    {
     "name": "stdout",
     "output_type": "stream",
     "text": [
      "Training Step: 2462  | total loss: \u001b[1m\u001b[32m0.03688\u001b[0m\u001b[0m | time: 161.985s\n\u001b[2K\r| SGD | epoch: 001 | loss: 0.03688 - acc: 0.9911 -- iter: 49240/55000\n"
     ]
    },
    {
     "name": "stdout",
     "output_type": "stream",
     "text": [
      "Training Step: 2463  | total loss: \u001b[1m\u001b[32m0.05352\u001b[0m\u001b[0m | time: 162.048s\n\u001b[2K\r| SGD | epoch: 001 | loss: 0.05352 - acc: 0.9870 -- iter: 49260/55000\n"
     ]
    },
    {
     "name": "stdout",
     "output_type": "stream",
     "text": [
      "Training Step: 2464  | total loss: \u001b[1m\u001b[32m0.08488\u001b[0m\u001b[0m | time: 162.110s\n\u001b[2K\r| SGD | epoch: 001 | loss: 0.08488 - acc: 0.9783 -- iter: 49280/55000\n"
     ]
    },
    {
     "name": "stdout",
     "output_type": "stream",
     "text": [
      "Training Step: 2465  | total loss: \u001b[1m\u001b[32m0.08511\u001b[0m\u001b[0m | time: 162.173s\n\u001b[2K\r| SGD | epoch: 001 | loss: 0.08511 - acc: 0.9755 -- iter: 49300/55000\n"
     ]
    },
    {
     "name": "stdout",
     "output_type": "stream",
     "text": [
      "Training Step: 2466  | total loss: \u001b[1m\u001b[32m0.09543\u001b[0m\u001b[0m | time: 162.235s\n\u001b[2K\r| SGD | epoch: 001 | loss: 0.09543 - acc: 0.9729 -- iter: 49320/55000\n"
     ]
    },
    {
     "name": "stdout",
     "output_type": "stream",
     "text": [
      "Training Step: 2467  | total loss: \u001b[1m\u001b[32m0.09177\u001b[0m\u001b[0m | time: 162.298s\n\u001b[2K\r| SGD | epoch: 001 | loss: 0.09177 - acc: 0.9706 -- iter: 49340/55000\n"
     ]
    },
    {
     "name": "stdout",
     "output_type": "stream",
     "text": [
      "Training Step: 2468  | total loss: \u001b[1m\u001b[32m0.08434\u001b[0m\u001b[0m | time: 162.376s\n\u001b[2K\r| SGD | epoch: 001 | loss: 0.08434 - acc: 0.9736 -- iter: 49360/55000\n"
     ]
    },
    {
     "name": "stdout",
     "output_type": "stream",
     "text": [
      "Training Step: 2469  | total loss: \u001b[1m\u001b[32m0.08088\u001b[0m\u001b[0m | time: 162.423s\n\u001b[2K\r| SGD | epoch: 001 | loss: 0.08088 - acc: 0.9762 -- iter: 49380/55000\n"
     ]
    },
    {
     "name": "stdout",
     "output_type": "stream",
     "text": [
      "Training Step: 2470  | total loss: \u001b[1m\u001b[32m0.07337\u001b[0m\u001b[0m | time: 162.485s\n\u001b[2K\r| SGD | epoch: 001 | loss: 0.07337 - acc: 0.9786 -- iter: 49400/55000\n"
     ]
    },
    {
     "name": "stdout",
     "output_type": "stream",
     "text": [
      "Training Step: 2471  | total loss: \u001b[1m\u001b[32m0.07923\u001b[0m\u001b[0m | time: 162.561s\n\u001b[2K\r| SGD | epoch: 001 | loss: 0.07923 - acc: 0.9757 -- iter: 49420/55000\n"
     ]
    },
    {
     "name": "stdout",
     "output_type": "stream",
     "text": [
      "Training Step: 2472  | total loss: \u001b[1m\u001b[32m0.07294\u001b[0m\u001b[0m | time: 162.614s\n\u001b[2K\r| SGD | epoch: 001 | loss: 0.07294 - acc: 0.9782 -- iter: 49440/55000\n"
     ]
    },
    {
     "name": "stdout",
     "output_type": "stream",
     "text": [
      "Training Step: 2473  | total loss: \u001b[1m\u001b[32m0.07245\u001b[0m\u001b[0m | time: 162.677s\n\u001b[2K\r| SGD | epoch: 001 | loss: 0.07245 - acc: 0.9753 -- iter: 49460/55000\n"
     ]
    },
    {
     "name": "stdout",
     "output_type": "stream",
     "text": [
      "Training Step: 2474  | total loss: \u001b[1m\u001b[32m0.06945\u001b[0m\u001b[0m | time: 162.739s\n\u001b[2K\r| SGD | epoch: 001 | loss: 0.06945 - acc: 0.9778 -- iter: 49480/55000\n"
     ]
    },
    {
     "name": "stdout",
     "output_type": "stream",
     "text": [
      "Training Step: 2475  | total loss: \u001b[1m\u001b[32m0.06263\u001b[0m\u001b[0m | time: 162.802s\n\u001b[2K\r| SGD | epoch: 001 | loss: 0.06263 - acc: 0.9800 -- iter: 49500/55000\n"
     ]
    },
    {
     "name": "stdout",
     "output_type": "stream",
     "text": [
      "Training Step: 2476  | total loss: \u001b[1m\u001b[32m0.05923\u001b[0m\u001b[0m | time: 162.864s\n\u001b[2K\r| SGD | epoch: 001 | loss: 0.05923 - acc: 0.9820 -- iter: 49520/55000\n"
     ]
    },
    {
     "name": "stdout",
     "output_type": "stream",
     "text": [
      "Training Step: 2477  | total loss: \u001b[1m\u001b[32m0.05348\u001b[0m\u001b[0m | time: 162.943s\n\u001b[2K\r| SGD | epoch: 001 | loss: 0.05348 - acc: 0.9838 -- iter: 49540/55000\n"
     ]
    },
    {
     "name": "stdout",
     "output_type": "stream",
     "text": [
      "Training Step: 2478  | total loss: \u001b[1m\u001b[32m0.05387\u001b[0m\u001b[0m | time: 163.005s\n\u001b[2K\r| SGD | epoch: 001 | loss: 0.05387 - acc: 0.9854 -- iter: 49560/55000\n"
     ]
    },
    {
     "name": "stdout",
     "output_type": "stream",
     "text": [
      "Training Step: 2479  | total loss: \u001b[1m\u001b[32m0.06865\u001b[0m\u001b[0m | time: 163.083s\n\u001b[2K\r| SGD | epoch: 001 | loss: 0.06865 - acc: 0.9819 -- iter: 49580/55000\n"
     ]
    },
    {
     "name": "stdout",
     "output_type": "stream",
     "text": [
      "Training Step: 2480  | total loss: \u001b[1m\u001b[32m0.06196\u001b[0m\u001b[0m | time: 163.146s\n\u001b[2K\r| SGD | epoch: 001 | loss: 0.06196 - acc: 0.9837 -- iter: 49600/55000\n"
     ]
    },
    {
     "name": "stdout",
     "output_type": "stream",
     "text": [
      "Training Step: 2481  | total loss: \u001b[1m\u001b[32m0.05713\u001b[0m\u001b[0m | time: 163.208s\n\u001b[2K\r| SGD | epoch: 001 | loss: 0.05713 - acc: 0.9853 -- iter: 49620/55000\n"
     ]
    },
    {
     "name": "stdout",
     "output_type": "stream",
     "text": [
      "Training Step: 2482  | total loss: \u001b[1m\u001b[32m0.05195\u001b[0m\u001b[0m | time: 163.286s\n\u001b[2K\r| SGD | epoch: 001 | loss: 0.05195 - acc: 0.9868 -- iter: 49640/55000\n"
     ]
    },
    {
     "name": "stdout",
     "output_type": "stream",
     "text": [
      "Training Step: 2483  | total loss: \u001b[1m\u001b[32m0.07827\u001b[0m\u001b[0m | time: 163.364s\n\u001b[2K\r| SGD | epoch: 001 | loss: 0.07827 - acc: 0.9831 -- iter: 49660/55000\n"
     ]
    },
    {
     "name": "stdout",
     "output_type": "stream",
     "text": [
      "Training Step: 2484  | total loss: \u001b[1m\u001b[32m0.07077\u001b[0m\u001b[0m | time: 163.427s\n\u001b[2K\r| SGD | epoch: 001 | loss: 0.07077 - acc: 0.9848 -- iter: 49680/55000\n"
     ]
    },
    {
     "name": "stdout",
     "output_type": "stream",
     "text": [
      "Training Step: 2485  | total loss: \u001b[1m\u001b[32m0.06449\u001b[0m\u001b[0m | time: 163.489s\n\u001b[2K\r| SGD | epoch: 001 | loss: 0.06449 - acc: 0.9863 -- iter: 49700/55000\n"
     ]
    },
    {
     "name": "stdout",
     "output_type": "stream",
     "text": [
      "Training Step: 2486  | total loss: \u001b[1m\u001b[32m0.06542\u001b[0m\u001b[0m | time: 163.565s\n\u001b[2K\r| SGD | epoch: 001 | loss: 0.06542 - acc: 0.9827 -- iter: 49720/55000\n"
     ]
    },
    {
     "name": "stdout",
     "output_type": "stream",
     "text": [
      "Training Step: 2487  | total loss: \u001b[1m\u001b[32m0.06507\u001b[0m\u001b[0m | time: 163.627s\n\u001b[2K\r| SGD | epoch: 001 | loss: 0.06507 - acc: 0.9844 -- iter: 49740/55000\n"
     ]
    },
    {
     "name": "stdout",
     "output_type": "stream",
     "text": [
      "Training Step: 2488  | total loss: \u001b[1m\u001b[32m0.06072\u001b[0m\u001b[0m | time: 163.706s\n\u001b[2K\r| SGD | epoch: 001 | loss: 0.06072 - acc: 0.9860 -- iter: 49760/55000\n"
     ]
    },
    {
     "name": "stdout",
     "output_type": "stream",
     "text": [
      "Training Step: 2489  | total loss: \u001b[1m\u001b[32m0.06314\u001b[0m\u001b[0m | time: 163.768s\n\u001b[2K\r| SGD | epoch: 001 | loss: 0.06314 - acc: 0.9824 -- iter: 49780/55000\n"
     ]
    },
    {
     "name": "stdout",
     "output_type": "stream",
     "text": [
      "Training Step: 2490  | total loss: \u001b[1m\u001b[32m0.06234\u001b[0m\u001b[0m | time: 163.846s\n\u001b[2K\r| SGD | epoch: 001 | loss: 0.06234 - acc: 0.9841 -- iter: 49800/55000\n"
     ]
    },
    {
     "name": "stdout",
     "output_type": "stream",
     "text": [
      "Training Step: 2491  | total loss: \u001b[1m\u001b[32m0.05668\u001b[0m\u001b[0m | time: 163.909s\n\u001b[2K\r| SGD | epoch: 001 | loss: 0.05668 - acc: 0.9857 -- iter: 49820/55000\n"
     ]
    },
    {
     "name": "stdout",
     "output_type": "stream",
     "text": [
      "Training Step: 2492  | total loss: \u001b[1m\u001b[32m0.05708\u001b[0m\u001b[0m | time: 163.987s\n\u001b[2K\r| SGD | epoch: 001 | loss: 0.05708 - acc: 0.9822 -- iter: 49840/55000\n"
     ]
    },
    {
     "name": "stdout",
     "output_type": "stream",
     "text": [
      "Training Step: 2493  | total loss: \u001b[1m\u001b[32m0.07559\u001b[0m\u001b[0m | time: 164.049s\n\u001b[2K\r| SGD | epoch: 001 | loss: 0.07559 - acc: 0.9739 -- iter: 49860/55000\n"
     ]
    },
    {
     "name": "stdout",
     "output_type": "stream",
     "text": [
      "Training Step: 2494  | total loss: \u001b[1m\u001b[32m0.08243\u001b[0m\u001b[0m | time: 164.112s\n\u001b[2K\r| SGD | epoch: 001 | loss: 0.08243 - acc: 0.9715 -- iter: 49880/55000\n"
     ]
    },
    {
     "name": "stdout",
     "output_type": "stream",
     "text": [
      "Training Step: 2495  | total loss: \u001b[1m\u001b[32m0.07444\u001b[0m\u001b[0m | time: 164.174s\n\u001b[2K\r| SGD | epoch: 001 | loss: 0.07444 - acc: 0.9744 -- iter: 49900/55000\n"
     ]
    },
    {
     "name": "stdout",
     "output_type": "stream",
     "text": [
      "Training Step: 2496  | total loss: \u001b[1m\u001b[32m0.06786\u001b[0m\u001b[0m | time: 164.252s\n\u001b[2K\r| SGD | epoch: 001 | loss: 0.06786 - acc: 0.9770 -- iter: 49920/55000\n"
     ]
    },
    {
     "name": "stdout",
     "output_type": "stream",
     "text": [
      "Training Step: 2497  | total loss: \u001b[1m\u001b[32m0.06437\u001b[0m\u001b[0m | time: 164.315s\n\u001b[2K\r| SGD | epoch: 001 | loss: 0.06437 - acc: 0.9793 -- iter: 49940/55000\n"
     ]
    },
    {
     "name": "stdout",
     "output_type": "stream",
     "text": [
      "Training Step: 2498  | total loss: \u001b[1m\u001b[32m0.06366\u001b[0m\u001b[0m | time: 164.377s\n\u001b[2K\r| SGD | epoch: 001 | loss: 0.06366 - acc: 0.9763 -- iter: 49960/55000\n"
     ]
    },
    {
     "name": "stdout",
     "output_type": "stream",
     "text": [
      "Training Step: 2499  | total loss: \u001b[1m\u001b[32m0.05871\u001b[0m\u001b[0m | time: 164.440s\n\u001b[2K\r| SGD | epoch: 001 | loss: 0.05871 - acc: 0.9787 -- iter: 49980/55000\n"
     ]
    },
    {
     "name": "stdout",
     "output_type": "stream",
     "text": [
      "Training Step: 2500  | total loss: \u001b[1m\u001b[32m0.06036\u001b[0m\u001b[0m | time: 164.510s\n\u001b[2K\r| SGD | epoch: 001 | loss: 0.06036 - acc: 0.9758 -- iter: 50000/55000\n"
     ]
    },
    {
     "name": "stdout",
     "output_type": "stream",
     "text": [
      "Training Step: 2501  | total loss: \u001b[1m\u001b[32m0.05535\u001b[0m\u001b[0m | time: 164.564s\n\u001b[2K\r| SGD | epoch: 001 | loss: 0.05535 - acc: 0.9782 -- iter: 50020/55000\n"
     ]
    },
    {
     "name": "stdout",
     "output_type": "stream",
     "text": [
      "Training Step: 2502  | total loss: \u001b[1m\u001b[32m0.06346\u001b[0m\u001b[0m | time: 164.642s\n\u001b[2K\r| SGD | epoch: 001 | loss: 0.06346 - acc: 0.9754 -- iter: 50040/55000\n"
     ]
    },
    {
     "name": "stdout",
     "output_type": "stream",
     "text": [
      "Training Step: 2503  | total loss: \u001b[1m\u001b[32m0.05739\u001b[0m\u001b[0m | time: 164.704s\n\u001b[2K\r| SGD | epoch: 001 | loss: 0.05739 - acc: 0.9779 -- iter: 50060/55000\n"
     ]
    },
    {
     "name": "stdout",
     "output_type": "stream",
     "text": [
      "Training Step: 2504  | total loss: \u001b[1m\u001b[32m0.05629\u001b[0m\u001b[0m | time: 164.767s\n\u001b[2K\r| SGD | epoch: 001 | loss: 0.05629 - acc: 0.9801 -- iter: 50080/55000\n"
     ]
    },
    {
     "name": "stdout",
     "output_type": "stream",
     "text": [
      "Training Step: 2505  | total loss: \u001b[1m\u001b[32m0.06353\u001b[0m\u001b[0m | time: 164.829s\n\u001b[2K\r| SGD | epoch: 001 | loss: 0.06353 - acc: 0.9771 -- iter: 50100/55000\n"
     ]
    },
    {
     "name": "stdout",
     "output_type": "stream",
     "text": [
      "Training Step: 2506  | total loss: \u001b[1m\u001b[32m0.05999\u001b[0m\u001b[0m | time: 164.876s\n\u001b[2K\r| SGD | epoch: 001 | loss: 0.05999 - acc: 0.9794 -- iter: 50120/55000\n"
     ]
    },
    {
     "name": "stdout",
     "output_type": "stream",
     "text": [
      "Training Step: 2507  | total loss: \u001b[1m\u001b[32m0.05523\u001b[0m\u001b[0m | time: 164.939s\n\u001b[2K\r| SGD | epoch: 001 | loss: 0.05523 - acc: 0.9814 -- iter: 50140/55000\n"
     ]
    },
    {
     "name": "stdout",
     "output_type": "stream",
     "text": [
      "Training Step: 2508  | total loss: \u001b[1m\u001b[32m0.04986\u001b[0m\u001b[0m | time: 165.001s\n\u001b[2K\r| SGD | epoch: 001 | loss: 0.04986 - acc: 0.9833 -- iter: 50160/55000\n"
     ]
    },
    {
     "name": "stdout",
     "output_type": "stream",
     "text": [
      "Training Step: 2509  | total loss: \u001b[1m\u001b[32m0.04803\u001b[0m\u001b[0m | time: 165.064s\n\u001b[2K\r| SGD | epoch: 001 | loss: 0.04803 - acc: 0.9850 -- iter: 50180/55000\n"
     ]
    },
    {
     "name": "stdout",
     "output_type": "stream",
     "text": [
      "Training Step: 2510  | total loss: \u001b[1m\u001b[32m0.05550\u001b[0m\u001b[0m | time: 165.142s\n\u001b[2K\r| SGD | epoch: 001 | loss: 0.05550 - acc: 0.9815 -- iter: 50200/55000\n"
     ]
    },
    {
     "name": "stdout",
     "output_type": "stream",
     "text": [
      "Training Step: 2511  | total loss: \u001b[1m\u001b[32m0.07031\u001b[0m\u001b[0m | time: 165.204s\n\u001b[2K\r| SGD | epoch: 001 | loss: 0.07031 - acc: 0.9783 -- iter: 50220/55000\n"
     ]
    },
    {
     "name": "stdout",
     "output_type": "stream",
     "text": [
      "Training Step: 2512  | total loss: \u001b[1m\u001b[32m0.07159\u001b[0m\u001b[0m | time: 165.282s\n\u001b[2K\r| SGD | epoch: 001 | loss: 0.07159 - acc: 0.9755 -- iter: 50240/55000\n"
     ]
    },
    {
     "name": "stdout",
     "output_type": "stream",
     "text": [
      "Training Step: 2513  | total loss: \u001b[1m\u001b[32m0.08327\u001b[0m\u001b[0m | time: 165.345s\n\u001b[2K\r| SGD | epoch: 001 | loss: 0.08327 - acc: 0.9729 -- iter: 50260/55000\n"
     ]
    },
    {
     "name": "stdout",
     "output_type": "stream",
     "text": [
      "Training Step: 2514  | total loss: \u001b[1m\u001b[32m0.07962\u001b[0m\u001b[0m | time: 165.423s\n\u001b[2K\r| SGD | epoch: 001 | loss: 0.07962 - acc: 0.9756 -- iter: 50280/55000\n"
     ]
    },
    {
     "name": "stdout",
     "output_type": "stream",
     "text": [
      "Training Step: 2515  | total loss: \u001b[1m\u001b[32m0.07613\u001b[0m\u001b[0m | time: 165.493s\n\u001b[2K\r| SGD | epoch: 001 | loss: 0.07613 - acc: 0.9781 -- iter: 50300/55000\n"
     ]
    },
    {
     "name": "stdout",
     "output_type": "stream",
     "text": [
      "Training Step: 2516  | total loss: \u001b[1m\u001b[32m0.08626\u001b[0m\u001b[0m | time: 165.554s\n\u001b[2K\r| SGD | epoch: 001 | loss: 0.08626 - acc: 0.9753 -- iter: 50320/55000\n"
     ]
    },
    {
     "name": "stdout",
     "output_type": "stream",
     "text": [
      "Training Step: 2517  | total loss: \u001b[1m\u001b[32m0.08250\u001b[0m\u001b[0m | time: 165.632s\n\u001b[2K\r| SGD | epoch: 001 | loss: 0.08250 - acc: 0.9727 -- iter: 50340/55000\n"
     ]
    },
    {
     "name": "stdout",
     "output_type": "stream",
     "text": [
      "Training Step: 2518  | total loss: \u001b[1m\u001b[32m0.07634\u001b[0m\u001b[0m | time: 165.694s\n\u001b[2K\r| SGD | epoch: 001 | loss: 0.07634 - acc: 0.9755 -- iter: 50360/55000\n"
     ]
    },
    {
     "name": "stdout",
     "output_type": "stream",
     "text": [
      "Training Step: 2519  | total loss: \u001b[1m\u001b[32m0.10883\u001b[0m\u001b[0m | time: 165.757s\n\u001b[2K\r| SGD | epoch: 001 | loss: 0.10883 - acc: 0.9729 -- iter: 50380/55000\n"
     ]
    },
    {
     "name": "stdout",
     "output_type": "stream",
     "text": [
      "Training Step: 2520  | total loss: \u001b[1m\u001b[32m0.10028\u001b[0m\u001b[0m | time: 165.819s\n\u001b[2K\r| SGD | epoch: 001 | loss: 0.10028 - acc: 0.9756 -- iter: 50400/55000\n"
     ]
    },
    {
     "name": "stdout",
     "output_type": "stream",
     "text": [
      "Training Step: 2521  | total loss: \u001b[1m\u001b[32m0.09290\u001b[0m\u001b[0m | time: 165.897s\n\u001b[2K\r| SGD | epoch: 001 | loss: 0.09290 - acc: 0.9781 -- iter: 50420/55000\n"
     ]
    },
    {
     "name": "stdout",
     "output_type": "stream",
     "text": [
      "Training Step: 2522  | total loss: \u001b[1m\u001b[32m0.08581\u001b[0m\u001b[0m | time: 165.960s\n\u001b[2K\r| SGD | epoch: 001 | loss: 0.08581 - acc: 0.9803 -- iter: 50440/55000\n"
     ]
    },
    {
     "name": "stdout",
     "output_type": "stream",
     "text": [
      "Training Step: 2523  | total loss: \u001b[1m\u001b[32m0.08440\u001b[0m\u001b[0m | time: 166.038s\n\u001b[2K\r| SGD | epoch: 001 | loss: 0.08440 - acc: 0.9772 -- iter: 50460/55000\n"
     ]
    },
    {
     "name": "stdout",
     "output_type": "stream",
     "text": [
      "Training Step: 2524  | total loss: \u001b[1m\u001b[32m0.09040\u001b[0m\u001b[0m | time: 166.100s\n\u001b[2K\r| SGD | epoch: 001 | loss: 0.09040 - acc: 0.9745 -- iter: 50480/55000\n"
     ]
    },
    {
     "name": "stdout",
     "output_type": "stream",
     "text": [
      "Training Step: 2525  | total loss: \u001b[1m\u001b[32m0.08172\u001b[0m\u001b[0m | time: 166.163s\n\u001b[2K\r| SGD | epoch: 001 | loss: 0.08172 - acc: 0.9771 -- iter: 50500/55000\n"
     ]
    },
    {
     "name": "stdout",
     "output_type": "stream",
     "text": [
      "Training Step: 2526  | total loss: \u001b[1m\u001b[32m0.08234\u001b[0m\u001b[0m | time: 166.225s\n\u001b[2K\r| SGD | epoch: 001 | loss: 0.08234 - acc: 0.9744 -- iter: 50520/55000\n"
     ]
    },
    {
     "name": "stdout",
     "output_type": "stream",
     "text": [
      "Training Step: 2527  | total loss: \u001b[1m\u001b[32m0.09479\u001b[0m\u001b[0m | time: 166.304s\n\u001b[2K\r| SGD | epoch: 001 | loss: 0.09479 - acc: 0.9719 -- iter: 50540/55000\n"
     ]
    },
    {
     "name": "stdout",
     "output_type": "stream",
     "text": [
      "Training Step: 2528  | total loss: \u001b[1m\u001b[32m0.09813\u001b[0m\u001b[0m | time: 166.366s\n\u001b[2K\r| SGD | epoch: 001 | loss: 0.09813 - acc: 0.9697 -- iter: 50560/55000\n"
     ]
    },
    {
     "name": "stdout",
     "output_type": "stream",
     "text": [
      "Training Step: 2529  | total loss: \u001b[1m\u001b[32m0.09422\u001b[0m\u001b[0m | time: 166.445s\n\u001b[2K\r| SGD | epoch: 001 | loss: 0.09422 - acc: 0.9728 -- iter: 50580/55000\n"
     ]
    },
    {
     "name": "stdout",
     "output_type": "stream",
     "text": [
      "Training Step: 2530  | total loss: \u001b[1m\u001b[32m0.08745\u001b[0m\u001b[0m | time: 166.514s\n\u001b[2K\r| SGD | epoch: 001 | loss: 0.08745 - acc: 0.9755 -- iter: 50600/55000\n"
     ]
    },
    {
     "name": "stdout",
     "output_type": "stream",
     "text": [
      "Training Step: 2531  | total loss: \u001b[1m\u001b[32m0.07912\u001b[0m\u001b[0m | time: 166.576s\n\u001b[2K\r| SGD | epoch: 001 | loss: 0.07912 - acc: 0.9779 -- iter: 50620/55000\n"
     ]
    },
    {
     "name": "stdout",
     "output_type": "stream",
     "text": [
      "Training Step: 2532  | total loss: \u001b[1m\u001b[32m0.07181\u001b[0m\u001b[0m | time: 166.639s\n\u001b[2K\r| SGD | epoch: 001 | loss: 0.07181 - acc: 0.9801 -- iter: 50640/55000\n"
     ]
    },
    {
     "name": "stdout",
     "output_type": "stream",
     "text": [
      "Training Step: 2533  | total loss: \u001b[1m\u001b[32m0.06530\u001b[0m\u001b[0m | time: 166.717s\n\u001b[2K\r| SGD | epoch: 001 | loss: 0.06530 - acc: 0.9821 -- iter: 50660/55000\n"
     ]
    },
    {
     "name": "stdout",
     "output_type": "stream",
     "text": [
      "Training Step: 2534  | total loss: \u001b[1m\u001b[32m0.06503\u001b[0m\u001b[0m | time: 166.779s\n\u001b[2K\r| SGD | epoch: 001 | loss: 0.06503 - acc: 0.9839 -- iter: 50680/55000\n"
     ]
    },
    {
     "name": "stdout",
     "output_type": "stream",
     "text": [
      "Training Step: 2535  | total loss: \u001b[1m\u001b[32m0.05892\u001b[0m\u001b[0m | time: 166.842s\n\u001b[2K\r| SGD | epoch: 001 | loss: 0.05892 - acc: 0.9855 -- iter: 50700/55000\n"
     ]
    },
    {
     "name": "stdout",
     "output_type": "stream",
     "text": [
      "Training Step: 2536  | total loss: \u001b[1m\u001b[32m0.07056\u001b[0m\u001b[0m | time: 166.904s\n\u001b[2K\r| SGD | epoch: 001 | loss: 0.07056 - acc: 0.9820 -- iter: 50720/55000\n"
     ]
    },
    {
     "name": "stdout",
     "output_type": "stream",
     "text": [
      "Training Step: 2537  | total loss: \u001b[1m\u001b[32m0.06857\u001b[0m\u001b[0m | time: 166.983s\n\u001b[2K\r| SGD | epoch: 001 | loss: 0.06857 - acc: 0.9788 -- iter: 50740/55000\n"
     ]
    },
    {
     "name": "stdout",
     "output_type": "stream",
     "text": [
      "Training Step: 2538  | total loss: \u001b[1m\u001b[32m0.06551\u001b[0m\u001b[0m | time: 167.045s\n\u001b[2K\r| SGD | epoch: 001 | loss: 0.06551 - acc: 0.9809 -- iter: 50760/55000\n"
     ]
    },
    {
     "name": "stdout",
     "output_type": "stream",
     "text": [
      "Training Step: 2539  | total loss: \u001b[1m\u001b[32m0.06417\u001b[0m\u001b[0m | time: 167.108s\n\u001b[2K\r| SGD | epoch: 001 | loss: 0.06417 - acc: 0.9828 -- iter: 50780/55000\n"
     ]
    },
    {
     "name": "stdout",
     "output_type": "stream",
     "text": [
      "Training Step: 2540  | total loss: \u001b[1m\u001b[32m0.05941\u001b[0m\u001b[0m | time: 167.186s\n\u001b[2K\r| SGD | epoch: 001 | loss: 0.05941 - acc: 0.9845 -- iter: 50800/55000\n"
     ]
    },
    {
     "name": "stdout",
     "output_type": "stream",
     "text": [
      "Training Step: 2541  | total loss: \u001b[1m\u001b[32m0.05893\u001b[0m\u001b[0m | time: 167.248s\n\u001b[2K\r| SGD | epoch: 001 | loss: 0.05893 - acc: 0.9861 -- iter: 50820/55000\n"
     ]
    },
    {
     "name": "stdout",
     "output_type": "stream",
     "text": [
      "Training Step: 2542  | total loss: \u001b[1m\u001b[32m0.05553\u001b[0m\u001b[0m | time: 167.326s\n\u001b[2K\r| SGD | epoch: 001 | loss: 0.05553 - acc: 0.9875 -- iter: 50840/55000\n"
     ]
    },
    {
     "name": "stdout",
     "output_type": "stream",
     "text": [
      "Training Step: 2543  | total loss: \u001b[1m\u001b[32m0.05011\u001b[0m\u001b[0m | time: 167.389s\n\u001b[2K\r| SGD | epoch: 001 | loss: 0.05011 - acc: 0.9887 -- iter: 50860/55000\n"
     ]
    },
    {
     "name": "stdout",
     "output_type": "stream",
     "text": [
      "Training Step: 2544  | total loss: \u001b[1m\u001b[32m0.04579\u001b[0m\u001b[0m | time: 167.457s\n\u001b[2K\r| SGD | epoch: 001 | loss: 0.04579 - acc: 0.9898 -- iter: 50880/55000\n"
     ]
    },
    {
     "name": "stdout",
     "output_type": "stream",
     "text": [
      "Training Step: 2545  | total loss: \u001b[1m\u001b[32m0.04180\u001b[0m\u001b[0m | time: 167.515s\n\u001b[2K\r| SGD | epoch: 001 | loss: 0.04180 - acc: 0.9909 -- iter: 50900/55000\n"
     ]
    },
    {
     "name": "stdout",
     "output_type": "stream",
     "text": [
      "Training Step: 2546  | total loss: \u001b[1m\u001b[32m0.03807\u001b[0m\u001b[0m | time: 167.593s\n\u001b[2K\r| SGD | epoch: 001 | loss: 0.03807 - acc: 0.9918 -- iter: 50920/55000\n"
     ]
    },
    {
     "name": "stdout",
     "output_type": "stream",
     "text": [
      "Training Step: 2547  | total loss: \u001b[1m\u001b[32m0.05760\u001b[0m\u001b[0m | time: 167.671s\n\u001b[2K\r| SGD | epoch: 001 | loss: 0.05760 - acc: 0.9876 -- iter: 50940/55000\n"
     ]
    },
    {
     "name": "stdout",
     "output_type": "stream",
     "text": [
      "Training Step: 2548  | total loss: \u001b[1m\u001b[32m0.05250\u001b[0m\u001b[0m | time: 167.734s\n\u001b[2K\r| SGD | epoch: 001 | loss: 0.05250 - acc: 0.9888 -- iter: 50960/55000\n"
     ]
    },
    {
     "name": "stdout",
     "output_type": "stream",
     "text": [
      "Training Step: 2549  | total loss: \u001b[1m\u001b[32m0.05489\u001b[0m\u001b[0m | time: 167.812s\n\u001b[2K\r| SGD | epoch: 001 | loss: 0.05489 - acc: 0.9900 -- iter: 50980/55000\n"
     ]
    },
    {
     "name": "stdout",
     "output_type": "stream",
     "text": [
      "Training Step: 2550  | total loss: \u001b[1m\u001b[32m0.05008\u001b[0m\u001b[0m | time: 167.890s\n\u001b[2K\r| SGD | epoch: 001 | loss: 0.05008 - acc: 0.9910 -- iter: 51000/55000\n"
     ]
    },
    {
     "name": "stdout",
     "output_type": "stream",
     "text": [
      "Training Step: 2551  | total loss: \u001b[1m\u001b[32m0.04764\u001b[0m\u001b[0m | time: 167.952s\n\u001b[2K\r| SGD | epoch: 001 | loss: 0.04764 - acc: 0.9919 -- iter: 51020/55000\n"
     ]
    },
    {
     "name": "stdout",
     "output_type": "stream",
     "text": [
      "Training Step: 2552  | total loss: \u001b[1m\u001b[32m0.05615\u001b[0m\u001b[0m | time: 168.015s\n\u001b[2K\r| SGD | epoch: 001 | loss: 0.05615 - acc: 0.9877 -- iter: 51040/55000\n"
     ]
    },
    {
     "name": "stdout",
     "output_type": "stream",
     "text": [
      "Training Step: 2553  | total loss: \u001b[1m\u001b[32m0.05301\u001b[0m\u001b[0m | time: 168.077s\n\u001b[2K\r| SGD | epoch: 001 | loss: 0.05301 - acc: 0.9889 -- iter: 51060/55000\n"
     ]
    },
    {
     "name": "stdout",
     "output_type": "stream",
     "text": [
      "Training Step: 2554  | total loss: \u001b[1m\u001b[32m0.05980\u001b[0m\u001b[0m | time: 168.140s\n\u001b[2K\r| SGD | epoch: 001 | loss: 0.05980 - acc: 0.9850 -- iter: 51080/55000\n"
     ]
    },
    {
     "name": "stdout",
     "output_type": "stream",
     "text": [
      "Training Step: 2555  | total loss: \u001b[1m\u001b[32m0.05735\u001b[0m\u001b[0m | time: 168.218s\n\u001b[2K\r| SGD | epoch: 001 | loss: 0.05735 - acc: 0.9865 -- iter: 51100/55000\n"
     ]
    },
    {
     "name": "stdout",
     "output_type": "stream",
     "text": [
      "Training Step: 2556  | total loss: \u001b[1m\u001b[32m0.05246\u001b[0m\u001b[0m | time: 168.280s\n\u001b[2K\r| SGD | epoch: 001 | loss: 0.05246 - acc: 0.9879 -- iter: 51120/55000\n"
     ]
    },
    {
     "name": "stdout",
     "output_type": "stream",
     "text": [
      "Training Step: 2557  | total loss: \u001b[1m\u001b[32m0.04806\u001b[0m\u001b[0m | time: 168.343s\n\u001b[2K\r| SGD | epoch: 001 | loss: 0.04806 - acc: 0.9891 -- iter: 51140/55000\n"
     ]
    },
    {
     "name": "stdout",
     "output_type": "stream",
     "text": [
      "Training Step: 2558  | total loss: \u001b[1m\u001b[32m0.04342\u001b[0m\u001b[0m | time: 168.419s\n\u001b[2K\r| SGD | epoch: 001 | loss: 0.04342 - acc: 0.9902 -- iter: 51160/55000\n"
     ]
    },
    {
     "name": "stdout",
     "output_type": "stream",
     "text": [
      "Training Step: 2559  | total loss: \u001b[1m\u001b[32m0.04288\u001b[0m\u001b[0m | time: 168.494s\n\u001b[2K\r| SGD | epoch: 001 | loss: 0.04288 - acc: 0.9862 -- iter: 51180/55000\n"
     ]
    },
    {
     "name": "stdout",
     "output_type": "stream",
     "text": [
      "Training Step: 2560  | total loss: \u001b[1m\u001b[32m0.03885\u001b[0m\u001b[0m | time: 168.557s\n\u001b[2K\r| SGD | epoch: 001 | loss: 0.03885 - acc: 0.9875 -- iter: 51200/55000\n"
     ]
    },
    {
     "name": "stdout",
     "output_type": "stream",
     "text": [
      "Training Step: 2561  | total loss: \u001b[1m\u001b[32m0.03544\u001b[0m\u001b[0m | time: 168.635s\n\u001b[2K\r| SGD | epoch: 001 | loss: 0.03544 - acc: 0.9888 -- iter: 51220/55000\n"
     ]
    },
    {
     "name": "stdout",
     "output_type": "stream",
     "text": [
      "Training Step: 2562  | total loss: \u001b[1m\u001b[32m0.03203\u001b[0m\u001b[0m | time: 168.698s\n\u001b[2K\r| SGD | epoch: 001 | loss: 0.03203 - acc: 0.9899 -- iter: 51240/55000\n"
     ]
    },
    {
     "name": "stdout",
     "output_type": "stream",
     "text": [
      "Training Step: 2563  | total loss: \u001b[1m\u001b[32m0.04525\u001b[0m\u001b[0m | time: 168.776s\n\u001b[2K\r| SGD | epoch: 001 | loss: 0.04525 - acc: 0.9859 -- iter: 51260/55000\n"
     ]
    },
    {
     "name": "stdout",
     "output_type": "stream",
     "text": [
      "Training Step: 2564  | total loss: \u001b[1m\u001b[32m0.04763\u001b[0m\u001b[0m | time: 168.838s\n\u001b[2K\r| SGD | epoch: 001 | loss: 0.04763 - acc: 0.9873 -- iter: 51280/55000\n"
     ]
    },
    {
     "name": "stdout",
     "output_type": "stream",
     "text": [
      "Training Step: 2565  | total loss: \u001b[1m\u001b[32m0.04383\u001b[0m\u001b[0m | time: 168.901s\n\u001b[2K\r| SGD | epoch: 001 | loss: 0.04383 - acc: 0.9886 -- iter: 51300/55000\n"
     ]
    },
    {
     "name": "stdout",
     "output_type": "stream",
     "text": [
      "Training Step: 2566  | total loss: \u001b[1m\u001b[32m0.04440\u001b[0m\u001b[0m | time: 168.979s\n\u001b[2K\r| SGD | epoch: 001 | loss: 0.04440 - acc: 0.9897 -- iter: 51320/55000\n"
     ]
    },
    {
     "name": "stdout",
     "output_type": "stream",
     "text": [
      "Training Step: 2567  | total loss: \u001b[1m\u001b[32m0.04126\u001b[0m\u001b[0m | time: 169.041s\n\u001b[2K\r| SGD | epoch: 001 | loss: 0.04126 - acc: 0.9908 -- iter: 51340/55000\n"
     ]
    },
    {
     "name": "stdout",
     "output_type": "stream",
     "text": [
      "Training Step: 2568  | total loss: \u001b[1m\u001b[32m0.04296\u001b[0m\u001b[0m | time: 169.119s\n\u001b[2K\r| SGD | epoch: 001 | loss: 0.04296 - acc: 0.9867 -- iter: 51360/55000\n"
     ]
    },
    {
     "name": "stdout",
     "output_type": "stream",
     "text": [
      "Training Step: 2569  | total loss: \u001b[1m\u001b[32m0.03957\u001b[0m\u001b[0m | time: 169.182s\n\u001b[2K\r| SGD | epoch: 001 | loss: 0.03957 - acc: 0.9880 -- iter: 51380/55000\n"
     ]
    },
    {
     "name": "stdout",
     "output_type": "stream",
     "text": [
      "Training Step: 2570  | total loss: \u001b[1m\u001b[32m0.03644\u001b[0m\u001b[0m | time: 169.244s\n\u001b[2K\r| SGD | epoch: 001 | loss: 0.03644 - acc: 0.9892 -- iter: 51400/55000\n"
     ]
    },
    {
     "name": "stdout",
     "output_type": "stream",
     "text": [
      "Training Step: 2571  | total loss: \u001b[1m\u001b[32m0.03291\u001b[0m\u001b[0m | time: 169.307s\n\u001b[2K\r| SGD | epoch: 001 | loss: 0.03291 - acc: 0.9903 -- iter: 51420/55000\n"
     ]
    },
    {
     "name": "stdout",
     "output_type": "stream",
     "text": [
      "Training Step: 2572  | total loss: \u001b[1m\u001b[32m0.04053\u001b[0m\u001b[0m | time: 169.381s\n\u001b[2K\r| SGD | epoch: 001 | loss: 0.04053 - acc: 0.9863 -- iter: 51440/55000\n"
     ]
    },
    {
     "name": "stdout",
     "output_type": "stream",
     "text": [
      "Training Step: 2573  | total loss: \u001b[1m\u001b[32m0.03679\u001b[0m\u001b[0m | time: 169.436s\n\u001b[2K\r| SGD | epoch: 001 | loss: 0.03679 - acc: 0.9876 -- iter: 51460/55000\n"
     ]
    },
    {
     "name": "stdout",
     "output_type": "stream",
     "text": [
      "Training Step: 2574  | total loss: \u001b[1m\u001b[32m0.03727\u001b[0m\u001b[0m | time: 169.514s\n\u001b[2K\r| SGD | epoch: 001 | loss: 0.03727 - acc: 0.9889 -- iter: 51480/55000\n"
     ]
    },
    {
     "name": "stdout",
     "output_type": "stream",
     "text": [
      "Training Step: 2575  | total loss: \u001b[1m\u001b[32m0.04853\u001b[0m\u001b[0m | time: 169.577s\n\u001b[2K\r| SGD | epoch: 001 | loss: 0.04853 - acc: 0.9850 -- iter: 51500/55000\n"
     ]
    },
    {
     "name": "stdout",
     "output_type": "stream",
     "text": [
      "Training Step: 2576  | total loss: \u001b[1m\u001b[32m0.04537\u001b[0m\u001b[0m | time: 169.639s\n\u001b[2K\r| SGD | epoch: 001 | loss: 0.04537 - acc: 0.9865 -- iter: 51520/55000\n"
     ]
    },
    {
     "name": "stdout",
     "output_type": "stream",
     "text": [
      "Training Step: 2577  | total loss: \u001b[1m\u001b[32m0.04135\u001b[0m\u001b[0m | time: 169.702s\n\u001b[2K\r| SGD | epoch: 001 | loss: 0.04135 - acc: 0.9878 -- iter: 51540/55000\n"
     ]
    },
    {
     "name": "stdout",
     "output_type": "stream",
     "text": [
      "Training Step: 2578  | total loss: \u001b[1m\u001b[32m0.03972\u001b[0m\u001b[0m | time: 169.764s\n\u001b[2K\r| SGD | epoch: 001 | loss: 0.03972 - acc: 0.9891 -- iter: 51560/55000\n"
     ]
    },
    {
     "name": "stdout",
     "output_type": "stream",
     "text": [
      "Training Step: 2579  | total loss: \u001b[1m\u001b[32m0.05827\u001b[0m\u001b[0m | time: 169.827s\n\u001b[2K\r| SGD | epoch: 001 | loss: 0.05827 - acc: 0.9801 -- iter: 51580/55000\n"
     ]
    },
    {
     "name": "stdout",
     "output_type": "stream",
     "text": [
      "Training Step: 2580  | total loss: \u001b[1m\u001b[32m0.05303\u001b[0m\u001b[0m | time: 169.890s\n\u001b[2K\r| SGD | epoch: 001 | loss: 0.05303 - acc: 0.9821 -- iter: 51600/55000\n"
     ]
    },
    {
     "name": "stdout",
     "output_type": "stream",
     "text": [
      "Training Step: 2581  | total loss: \u001b[1m\u001b[32m0.05517\u001b[0m\u001b[0m | time: 169.968s\n\u001b[2K\r| SGD | epoch: 001 | loss: 0.05517 - acc: 0.9839 -- iter: 51620/55000\n"
     ]
    },
    {
     "name": "stdout",
     "output_type": "stream",
     "text": [
      "Training Step: 2582  | total loss: \u001b[1m\u001b[32m0.05218\u001b[0m\u001b[0m | time: 170.030s\n\u001b[2K\r| SGD | epoch: 001 | loss: 0.05218 - acc: 0.9855 -- iter: 51640/55000\n"
     ]
    },
    {
     "name": "stdout",
     "output_type": "stream",
     "text": [
      "Training Step: 2583  | total loss: \u001b[1m\u001b[32m0.04824\u001b[0m\u001b[0m | time: 170.108s\n\u001b[2K\r| SGD | epoch: 001 | loss: 0.04824 - acc: 0.9870 -- iter: 51660/55000\n"
     ]
    },
    {
     "name": "stdout",
     "output_type": "stream",
     "text": [
      "Training Step: 2584  | total loss: \u001b[1m\u001b[32m0.04390\u001b[0m\u001b[0m | time: 170.171s\n\u001b[2K\r| SGD | epoch: 001 | loss: 0.04390 - acc: 0.9883 -- iter: 51680/55000\n"
     ]
    },
    {
     "name": "stdout",
     "output_type": "stream",
     "text": [
      "Training Step: 2585  | total loss: \u001b[1m\u001b[32m0.03981\u001b[0m\u001b[0m | time: 170.249s\n\u001b[2K\r| SGD | epoch: 001 | loss: 0.03981 - acc: 0.9895 -- iter: 51700/55000\n"
     ]
    },
    {
     "name": "stdout",
     "output_type": "stream",
     "text": [
      "Training Step: 2586  | total loss: \u001b[1m\u001b[32m0.05138\u001b[0m\u001b[0m | time: 170.328s\n\u001b[2K\r| SGD | epoch: 001 | loss: 0.05138 - acc: 0.9855 -- iter: 51720/55000\n"
     ]
    },
    {
     "name": "stdout",
     "output_type": "stream",
     "text": [
      "Training Step: 2587  | total loss: \u001b[1m\u001b[32m0.05239\u001b[0m\u001b[0m | time: 170.403s\n\u001b[2K\r| SGD | epoch: 001 | loss: 0.05239 - acc: 0.9820 -- iter: 51740/55000\n"
     ]
    },
    {
     "name": "stdout",
     "output_type": "stream",
     "text": [
      "Training Step: 2588  | total loss: \u001b[1m\u001b[32m0.05049\u001b[0m\u001b[0m | time: 170.465s\n\u001b[2K\r| SGD | epoch: 001 | loss: 0.05049 - acc: 0.9838 -- iter: 51760/55000\n"
     ]
    },
    {
     "name": "stdout",
     "output_type": "stream",
     "text": [
      "Training Step: 2589  | total loss: \u001b[1m\u001b[32m0.04590\u001b[0m\u001b[0m | time: 170.544s\n\u001b[2K\r| SGD | epoch: 001 | loss: 0.04590 - acc: 0.9854 -- iter: 51780/55000\n"
     ]
    },
    {
     "name": "stdout",
     "output_type": "stream",
     "text": [
      "Training Step: 2590  | total loss: \u001b[1m\u001b[32m0.04680\u001b[0m\u001b[0m | time: 170.622s\n\u001b[2K\r| SGD | epoch: 001 | loss: 0.04680 - acc: 0.9818 -- iter: 51800/55000\n"
     ]
    },
    {
     "name": "stdout",
     "output_type": "stream",
     "text": [
      "Training Step: 2591  | total loss: \u001b[1m\u001b[32m0.04233\u001b[0m\u001b[0m | time: 170.684s\n\u001b[2K\r| SGD | epoch: 001 | loss: 0.04233 - acc: 0.9837 -- iter: 51820/55000\n"
     ]
    },
    {
     "name": "stdout",
     "output_type": "stream",
     "text": [
      "Training Step: 2592  | total loss: \u001b[1m\u001b[32m0.05241\u001b[0m\u001b[0m | time: 170.762s\n\u001b[2K\r| SGD | epoch: 001 | loss: 0.05241 - acc: 0.9803 -- iter: 51840/55000\n"
     ]
    },
    {
     "name": "stdout",
     "output_type": "stream",
     "text": [
      "Training Step: 2593  | total loss: \u001b[1m\u001b[32m0.05788\u001b[0m\u001b[0m | time: 170.825s\n\u001b[2K\r| SGD | epoch: 001 | loss: 0.05788 - acc: 0.9773 -- iter: 51860/55000\n"
     ]
    },
    {
     "name": "stdout",
     "output_type": "stream",
     "text": [
      "Training Step: 2594  | total loss: \u001b[1m\u001b[32m0.05309\u001b[0m\u001b[0m | time: 170.903s\n\u001b[2K\r| SGD | epoch: 001 | loss: 0.05309 - acc: 0.9795 -- iter: 51880/55000\n"
     ]
    },
    {
     "name": "stdout",
     "output_type": "stream",
     "text": [
      "Training Step: 2595  | total loss: \u001b[1m\u001b[32m0.05003\u001b[0m\u001b[0m | time: 170.981s\n\u001b[2K\r| SGD | epoch: 001 | loss: 0.05003 - acc: 0.9816 -- iter: 51900/55000\n"
     ]
    },
    {
     "name": "stdout",
     "output_type": "stream",
     "text": [
      "Training Step: 2596  | total loss: \u001b[1m\u001b[32m0.05018\u001b[0m\u001b[0m | time: 171.044s\n\u001b[2K\r| SGD | epoch: 001 | loss: 0.05018 - acc: 0.9834 -- iter: 51920/55000\n"
     ]
    },
    {
     "name": "stdout",
     "output_type": "stream",
     "text": [
      "Training Step: 2597  | total loss: \u001b[1m\u001b[32m0.04649\u001b[0m\u001b[0m | time: 171.122s\n\u001b[2K\r| SGD | epoch: 001 | loss: 0.04649 - acc: 0.9851 -- iter: 51940/55000\n"
     ]
    },
    {
     "name": "stdout",
     "output_type": "stream",
     "text": [
      "Training Step: 2598  | total loss: \u001b[1m\u001b[32m0.04222\u001b[0m\u001b[0m | time: 171.184s\n\u001b[2K\r| SGD | epoch: 001 | loss: 0.04222 - acc: 0.9866 -- iter: 51960/55000\n"
     ]
    },
    {
     "name": "stdout",
     "output_type": "stream",
     "text": [
      "Training Step: 2599  | total loss: \u001b[1m\u001b[32m0.03864\u001b[0m\u001b[0m | time: 171.247s\n\u001b[2K\r| SGD | epoch: 001 | loss: 0.03864 - acc: 0.9879 -- iter: 51980/55000\n"
     ]
    },
    {
     "name": "stdout",
     "output_type": "stream",
     "text": [
      "Training Step: 2600  | total loss: \u001b[1m\u001b[32m0.03549\u001b[0m\u001b[0m | time: 171.318s\n\u001b[2K\r| SGD | epoch: 001 | loss: 0.03549 - acc: 0.9891 -- iter: 52000/55000\n"
     ]
    },
    {
     "name": "stdout",
     "output_type": "stream",
     "text": [
      "Training Step: 2601  | total loss: \u001b[1m\u001b[32m0.03317\u001b[0m\u001b[0m | time: 171.376s\n\u001b[2K\r| SGD | epoch: 001 | loss: 0.03317 - acc: 0.9902 -- iter: 52020/55000\n"
     ]
    },
    {
     "name": "stdout",
     "output_type": "stream",
     "text": [
      "Training Step: 2602  | total loss: \u001b[1m\u001b[32m0.03139\u001b[0m\u001b[0m | time: 171.439s\n\u001b[2K\r| SGD | epoch: 001 | loss: 0.03139 - acc: 0.9912 -- iter: 52040/55000\n"
     ]
    },
    {
     "name": "stdout",
     "output_type": "stream",
     "text": [
      "Training Step: 2603  | total loss: \u001b[1m\u001b[32m0.04954\u001b[0m\u001b[0m | time: 171.517s\n\u001b[2K\r| SGD | epoch: 001 | loss: 0.04954 - acc: 0.9871 -- iter: 52060/55000\n"
     ]
    },
    {
     "name": "stdout",
     "output_type": "stream",
     "text": [
      "Training Step: 2604  | total loss: \u001b[1m\u001b[32m0.07276\u001b[0m\u001b[0m | time: 171.579s\n\u001b[2K\r| SGD | epoch: 001 | loss: 0.07276 - acc: 0.9834 -- iter: 52080/55000\n"
     ]
    },
    {
     "name": "stdout",
     "output_type": "stream",
     "text": [
      "Training Step: 2605  | total loss: \u001b[1m\u001b[32m0.07271\u001b[0m\u001b[0m | time: 171.642s\n\u001b[2K\r| SGD | epoch: 001 | loss: 0.07271 - acc: 0.9850 -- iter: 52100/55000\n"
     ]
    },
    {
     "name": "stdout",
     "output_type": "stream",
     "text": [
      "Training Step: 2606  | total loss: \u001b[1m\u001b[32m0.08065\u001b[0m\u001b[0m | time: 171.720s\n\u001b[2K\r| SGD | epoch: 001 | loss: 0.08065 - acc: 0.9815 -- iter: 52120/55000\n"
     ]
    },
    {
     "name": "stdout",
     "output_type": "stream",
     "text": [
      "Training Step: 2607  | total loss: \u001b[1m\u001b[32m0.07777\u001b[0m\u001b[0m | time: 171.782s\n\u001b[2K\r| SGD | epoch: 001 | loss: 0.07777 - acc: 0.9834 -- iter: 52140/55000\n"
     ]
    },
    {
     "name": "stdout",
     "output_type": "stream",
     "text": [
      "Training Step: 2608  | total loss: \u001b[1m\u001b[32m0.07089\u001b[0m\u001b[0m | time: 171.845s\n\u001b[2K\r| SGD | epoch: 001 | loss: 0.07089 - acc: 0.9850 -- iter: 52160/55000\n"
     ]
    },
    {
     "name": "stdout",
     "output_type": "stream",
     "text": [
      "Training Step: 2609  | total loss: \u001b[1m\u001b[32m0.06393\u001b[0m\u001b[0m | time: 171.907s\n\u001b[2K\r| SGD | epoch: 001 | loss: 0.06393 - acc: 0.9865 -- iter: 52180/55000\n"
     ]
    },
    {
     "name": "stdout",
     "output_type": "stream",
     "text": [
      "Training Step: 2610  | total loss: \u001b[1m\u001b[32m0.06655\u001b[0m\u001b[0m | time: 171.985s\n\u001b[2K\r| SGD | epoch: 001 | loss: 0.06655 - acc: 0.9779 -- iter: 52200/55000\n"
     ]
    },
    {
     "name": "stdout",
     "output_type": "stream",
     "text": [
      "Training Step: 2611  | total loss: \u001b[1m\u001b[32m0.06980\u001b[0m\u001b[0m | time: 172.048s\n\u001b[2K\r| SGD | epoch: 001 | loss: 0.06980 - acc: 0.9751 -- iter: 52220/55000\n"
     ]
    },
    {
     "name": "stdout",
     "output_type": "stream",
     "text": [
      "Training Step: 2612  | total loss: \u001b[1m\u001b[32m0.08104\u001b[0m\u001b[0m | time: 172.126s\n\u001b[2K\r| SGD | epoch: 001 | loss: 0.08104 - acc: 0.9726 -- iter: 52240/55000\n"
     ]
    },
    {
     "name": "stdout",
     "output_type": "stream",
     "text": [
      "Training Step: 2613  | total loss: \u001b[1m\u001b[32m0.07447\u001b[0m\u001b[0m | time: 172.189s\n\u001b[2K\r| SGD | epoch: 001 | loss: 0.07447 - acc: 0.9753 -- iter: 52260/55000\n"
     ]
    },
    {
     "name": "stdout",
     "output_type": "stream",
     "text": [
      "Training Step: 2614  | total loss: \u001b[1m\u001b[32m0.06908\u001b[0m\u001b[0m | time: 172.251s\n\u001b[2K\r| SGD | epoch: 001 | loss: 0.06908 - acc: 0.9778 -- iter: 52280/55000\n"
     ]
    },
    {
     "name": "stdout",
     "output_type": "stream",
     "text": [
      "Training Step: 2615  | total loss: \u001b[1m\u001b[32m0.06232\u001b[0m\u001b[0m | time: 172.317s\n\u001b[2K\r| SGD | epoch: 001 | loss: 0.06232 - acc: 0.9800 -- iter: 52300/55000\n"
     ]
    },
    {
     "name": "stdout",
     "output_type": "stream",
     "text": [
      "Training Step: 2616  | total loss: \u001b[1m\u001b[32m0.05639\u001b[0m\u001b[0m | time: 172.379s\n\u001b[2K\r| SGD | epoch: 001 | loss: 0.05639 - acc: 0.9820 -- iter: 52320/55000\n"
     ]
    },
    {
     "name": "stdout",
     "output_type": "stream",
     "text": [
      "Training Step: 2617  | total loss: \u001b[1m\u001b[32m0.07554\u001b[0m\u001b[0m | time: 172.457s\n\u001b[2K\r| SGD | epoch: 001 | loss: 0.07554 - acc: 0.9738 -- iter: 52340/55000\n"
     ]
    },
    {
     "name": "stdout",
     "output_type": "stream",
     "text": [
      "Training Step: 2618  | total loss: \u001b[1m\u001b[32m0.06859\u001b[0m\u001b[0m | time: 172.535s\n\u001b[2K\r| SGD | epoch: 001 | loss: 0.06859 - acc: 0.9764 -- iter: 52360/55000\n"
     ]
    },
    {
     "name": "stdout",
     "output_type": "stream",
     "text": [
      "Training Step: 2619  | total loss: \u001b[1m\u001b[32m0.07903\u001b[0m\u001b[0m | time: 172.614s\n\u001b[2K\r| SGD | epoch: 001 | loss: 0.07903 - acc: 0.9738 -- iter: 52380/55000\n"
     ]
    },
    {
     "name": "stdout",
     "output_type": "stream",
     "text": [
      "Training Step: 2620  | total loss: \u001b[1m\u001b[32m0.07216\u001b[0m\u001b[0m | time: 172.676s\n\u001b[2K\r| SGD | epoch: 001 | loss: 0.07216 - acc: 0.9764 -- iter: 52400/55000\n"
     ]
    },
    {
     "name": "stdout",
     "output_type": "stream",
     "text": [
      "Training Step: 2621  | total loss: \u001b[1m\u001b[32m0.09289\u001b[0m\u001b[0m | time: 172.754s\n\u001b[2K\r| SGD | epoch: 001 | loss: 0.09289 - acc: 0.9738 -- iter: 52420/55000\n"
     ]
    },
    {
     "name": "stdout",
     "output_type": "stream",
     "text": [
      "Training Step: 2622  | total loss: \u001b[1m\u001b[32m0.08457\u001b[0m\u001b[0m | time: 172.832s\n\u001b[2K\r| SGD | epoch: 001 | loss: 0.08457 - acc: 0.9764 -- iter: 52440/55000\n"
     ]
    },
    {
     "name": "stdout",
     "output_type": "stream",
     "text": [
      "Training Step: 2623  | total loss: \u001b[1m\u001b[32m0.07990\u001b[0m\u001b[0m | time: 172.895s\n\u001b[2K\r| SGD | epoch: 001 | loss: 0.07990 - acc: 0.9788 -- iter: 52460/55000\n"
     ]
    },
    {
     "name": "stdout",
     "output_type": "stream",
     "text": [
      "Training Step: 2624  | total loss: \u001b[1m\u001b[32m0.07240\u001b[0m\u001b[0m | time: 172.973s\n\u001b[2K\r| SGD | epoch: 001 | loss: 0.07240 - acc: 0.9809 -- iter: 52480/55000\n"
     ]
    },
    {
     "name": "stdout",
     "output_type": "stream",
     "text": [
      "Training Step: 2625  | total loss: \u001b[1m\u001b[32m0.06711\u001b[0m\u001b[0m | time: 173.035s\n\u001b[2K\r| SGD | epoch: 001 | loss: 0.06711 - acc: 0.9828 -- iter: 52500/55000\n"
     ]
    },
    {
     "name": "stdout",
     "output_type": "stream",
     "text": [
      "Training Step: 2626  | total loss: \u001b[1m\u001b[32m0.07588\u001b[0m\u001b[0m | time: 173.098s\n\u001b[2K\r| SGD | epoch: 001 | loss: 0.07588 - acc: 0.9795 -- iter: 52520/55000\n"
     ]
    },
    {
     "name": "stdout",
     "output_type": "stream",
     "text": [
      "Training Step: 2627  | total loss: \u001b[1m\u001b[32m0.07349\u001b[0m\u001b[0m | time: 173.160s\n\u001b[2K\r| SGD | epoch: 001 | loss: 0.07349 - acc: 0.9816 -- iter: 52540/55000\n"
     ]
    },
    {
     "name": "stdout",
     "output_type": "stream",
     "text": [
      "Training Step: 2628  | total loss: \u001b[1m\u001b[32m0.06924\u001b[0m\u001b[0m | time: 173.231s\n\u001b[2K\r| SGD | epoch: 001 | loss: 0.06924 - acc: 0.9834 -- iter: 52560/55000\n"
     ]
    },
    {
     "name": "stdout",
     "output_type": "stream",
     "text": [
      "Training Step: 2629  | total loss: \u001b[1m\u001b[32m0.06340\u001b[0m\u001b[0m | time: 173.301s\n\u001b[2K\r| SGD | epoch: 001 | loss: 0.06340 - acc: 0.9851 -- iter: 52580/55000\n"
     ]
    },
    {
     "name": "stdout",
     "output_type": "stream",
     "text": [
      "Training Step: 2630  | total loss: \u001b[1m\u001b[32m0.05876\u001b[0m\u001b[0m | time: 173.379s\n\u001b[2K\r| SGD | epoch: 001 | loss: 0.05876 - acc: 0.9866 -- iter: 52600/55000\n"
     ]
    },
    {
     "name": "stdout",
     "output_type": "stream",
     "text": [
      "Training Step: 2631  | total loss: \u001b[1m\u001b[32m0.05832\u001b[0m\u001b[0m | time: 173.457s\n\u001b[2K\r| SGD | epoch: 001 | loss: 0.05832 - acc: 0.9879 -- iter: 52620/55000\n"
     ]
    },
    {
     "name": "stdout",
     "output_type": "stream",
     "text": [
      "Training Step: 2632  | total loss: \u001b[1m\u001b[32m0.06292\u001b[0m\u001b[0m | time: 173.519s\n\u001b[2K\r| SGD | epoch: 001 | loss: 0.06292 - acc: 0.9841 -- iter: 52640/55000\n"
     ]
    },
    {
     "name": "stdout",
     "output_type": "stream",
     "text": [
      "Training Step: 2633  | total loss: \u001b[1m\u001b[32m0.07093\u001b[0m\u001b[0m | time: 173.582s\n\u001b[2K\r| SGD | epoch: 001 | loss: 0.07093 - acc: 0.9807 -- iter: 52660/55000\n"
     ]
    },
    {
     "name": "stdout",
     "output_type": "stream",
     "text": [
      "Training Step: 2634  | total loss: \u001b[1m\u001b[32m0.07962\u001b[0m\u001b[0m | time: 173.660s\n\u001b[2K\r| SGD | epoch: 001 | loss: 0.07962 - acc: 0.9776 -- iter: 52680/55000\n"
     ]
    },
    {
     "name": "stdout",
     "output_type": "stream",
     "text": [
      "Training Step: 2635  | total loss: \u001b[1m\u001b[32m0.07200\u001b[0m\u001b[0m | time: 173.722s\n\u001b[2K\r| SGD | epoch: 001 | loss: 0.07200 - acc: 0.9799 -- iter: 52700/55000\n"
     ]
    },
    {
     "name": "stdout",
     "output_type": "stream",
     "text": [
      "Training Step: 2636  | total loss: \u001b[1m\u001b[32m0.07851\u001b[0m\u001b[0m | time: 173.801s\n\u001b[2K\r| SGD | epoch: 001 | loss: 0.07851 - acc: 0.9769 -- iter: 52720/55000\n"
     ]
    },
    {
     "name": "stdout",
     "output_type": "stream",
     "text": [
      "Training Step: 2637  | total loss: \u001b[1m\u001b[32m0.07145\u001b[0m\u001b[0m | time: 173.863s\n\u001b[2K\r| SGD | epoch: 001 | loss: 0.07145 - acc: 0.9792 -- iter: 52740/55000\n"
     ]
    },
    {
     "name": "stdout",
     "output_type": "stream",
     "text": [
      "Training Step: 2638  | total loss: \u001b[1m\u001b[32m0.06523\u001b[0m\u001b[0m | time: 173.926s\n\u001b[2K\r| SGD | epoch: 001 | loss: 0.06523 - acc: 0.9813 -- iter: 52760/55000\n"
     ]
    },
    {
     "name": "stdout",
     "output_type": "stream",
     "text": [
      "Training Step: 2639  | total loss: \u001b[1m\u001b[32m0.06092\u001b[0m\u001b[0m | time: 174.004s\n\u001b[2K\r| SGD | epoch: 001 | loss: 0.06092 - acc: 0.9831 -- iter: 52780/55000\n"
     ]
    },
    {
     "name": "stdout",
     "output_type": "stream",
     "text": [
      "Training Step: 2640  | total loss: \u001b[1m\u001b[32m0.05680\u001b[0m\u001b[0m | time: 174.082s\n\u001b[2K\r| SGD | epoch: 001 | loss: 0.05680 - acc: 0.9848 -- iter: 52800/55000\n"
     ]
    },
    {
     "name": "stdout",
     "output_type": "stream",
     "text": [
      "Training Step: 2641  | total loss: \u001b[1m\u001b[32m0.05192\u001b[0m\u001b[0m | time: 174.160s\n\u001b[2K\r| SGD | epoch: 001 | loss: 0.05192 - acc: 0.9863 -- iter: 52820/55000\n"
     ]
    },
    {
     "name": "stdout",
     "output_type": "stream",
     "text": [
      "Training Step: 2642  | total loss: \u001b[1m\u001b[32m0.04691\u001b[0m\u001b[0m | time: 174.238s\n\u001b[2K\r| SGD | epoch: 001 | loss: 0.04691 - acc: 0.9877 -- iter: 52840/55000\n"
     ]
    },
    {
     "name": "stdout",
     "output_type": "stream",
     "text": [
      "Training Step: 2643  | total loss: \u001b[1m\u001b[32m0.04354\u001b[0m\u001b[0m | time: 174.312s\n\u001b[2K\r| SGD | epoch: 001 | loss: 0.04354 - acc: 0.9889 -- iter: 52860/55000\n"
     ]
    },
    {
     "name": "stdout",
     "output_type": "stream",
     "text": [
      "Training Step: 2644  | total loss: \u001b[1m\u001b[32m0.05573\u001b[0m\u001b[0m | time: 174.390s\n\u001b[2K\r| SGD | epoch: 001 | loss: 0.05573 - acc: 0.9850 -- iter: 52880/55000\n"
     ]
    },
    {
     "name": "stdout",
     "output_type": "stream",
     "text": [
      "Training Step: 2645  | total loss: \u001b[1m\u001b[32m0.05222\u001b[0m\u001b[0m | time: 174.468s\n\u001b[2K\r| SGD | epoch: 001 | loss: 0.05222 - acc: 0.9865 -- iter: 52900/55000\n"
     ]
    },
    {
     "name": "stdout",
     "output_type": "stream",
     "text": [
      "Training Step: 2646  | total loss: \u001b[1m\u001b[32m0.04898\u001b[0m\u001b[0m | time: 174.562s\n\u001b[2K\r| SGD | epoch: 001 | loss: 0.04898 - acc: 0.9879 -- iter: 52920/55000\n"
     ]
    },
    {
     "name": "stdout",
     "output_type": "stream",
     "text": [
      "Training Step: 2647  | total loss: \u001b[1m\u001b[32m0.04505\u001b[0m\u001b[0m | time: 174.624s\n\u001b[2K\r| SGD | epoch: 001 | loss: 0.04505 - acc: 0.9891 -- iter: 52940/55000\n"
     ]
    },
    {
     "name": "stdout",
     "output_type": "stream",
     "text": [
      "Training Step: 2648  | total loss: \u001b[1m\u001b[32m0.04091\u001b[0m\u001b[0m | time: 174.687s\n\u001b[2K\r| SGD | epoch: 001 | loss: 0.04091 - acc: 0.9902 -- iter: 52960/55000\n"
     ]
    },
    {
     "name": "stdout",
     "output_type": "stream",
     "text": [
      "Training Step: 2649  | total loss: \u001b[1m\u001b[32m0.05165\u001b[0m\u001b[0m | time: 174.765s\n\u001b[2K\r| SGD | epoch: 001 | loss: 0.05165 - acc: 0.9862 -- iter: 52980/55000\n"
     ]
    },
    {
     "name": "stdout",
     "output_type": "stream",
     "text": [
      "Training Step: 2650  | total loss: \u001b[1m\u001b[32m0.05859\u001b[0m\u001b[0m | time: 174.843s\n\u001b[2K\r| SGD | epoch: 001 | loss: 0.05859 - acc: 0.9826 -- iter: 53000/55000\n"
     ]
    },
    {
     "name": "stdout",
     "output_type": "stream",
     "text": [
      "Training Step: 2651  | total loss: \u001b[1m\u001b[32m0.05293\u001b[0m\u001b[0m | time: 174.906s\n\u001b[2K\r| SGD | epoch: 001 | loss: 0.05293 - acc: 0.9843 -- iter: 53020/55000\n"
     ]
    },
    {
     "name": "stdout",
     "output_type": "stream",
     "text": [
      "Training Step: 2652  | total loss: \u001b[1m\u001b[32m0.06219\u001b[0m\u001b[0m | time: 174.968s\n\u001b[2K\r| SGD | epoch: 001 | loss: 0.06219 - acc: 0.9809 -- iter: 53040/55000\n"
     ]
    },
    {
     "name": "stdout",
     "output_type": "stream",
     "text": [
      "Training Step: 2653  | total loss: \u001b[1m\u001b[32m0.05690\u001b[0m\u001b[0m | time: 175.031s\n\u001b[2K\r| SGD | epoch: 001 | loss: 0.05690 - acc: 0.9828 -- iter: 53060/55000\n"
     ]
    },
    {
     "name": "stdout",
     "output_type": "stream",
     "text": [
      "Training Step: 2654  | total loss: \u001b[1m\u001b[32m0.05146\u001b[0m\u001b[0m | time: 175.093s\n\u001b[2K\r| SGD | epoch: 001 | loss: 0.05146 - acc: 0.9845 -- iter: 53080/55000\n"
     ]
    },
    {
     "name": "stdout",
     "output_type": "stream",
     "text": [
      "Training Step: 2655  | total loss: \u001b[1m\u001b[32m0.04779\u001b[0m\u001b[0m | time: 175.155s\n\u001b[2K\r| SGD | epoch: 001 | loss: 0.04779 - acc: 0.9861 -- iter: 53100/55000\n"
     ]
    },
    {
     "name": "stdout",
     "output_type": "stream",
     "text": [
      "Training Step: 2656  | total loss: \u001b[1m\u001b[32m0.04528\u001b[0m\u001b[0m | time: 175.233s\n\u001b[2K\r| SGD | epoch: 001 | loss: 0.04528 - acc: 0.9874 -- iter: 53120/55000\n"
     ]
    },
    {
     "name": "stdout",
     "output_type": "stream",
     "text": [
      "Training Step: 2657  | total loss: \u001b[1m\u001b[32m0.04683\u001b[0m\u001b[0m | time: 175.295s\n\u001b[2K\r| SGD | epoch: 001 | loss: 0.04683 - acc: 0.9887 -- iter: 53140/55000\n"
     ]
    },
    {
     "name": "stdout",
     "output_type": "stream",
     "text": [
      "Training Step: 2658  | total loss: \u001b[1m\u001b[32m0.05285\u001b[0m\u001b[0m | time: 175.374s\n\u001b[2K\r| SGD | epoch: 001 | loss: 0.05285 - acc: 0.9798 -- iter: 53160/55000\n"
     ]
    },
    {
     "name": "stdout",
     "output_type": "stream",
     "text": [
      "Training Step: 2659  | total loss: \u001b[1m\u001b[32m0.04860\u001b[0m\u001b[0m | time: 175.452s\n\u001b[2K\r| SGD | epoch: 001 | loss: 0.04860 - acc: 0.9818 -- iter: 53180/55000\n"
     ]
    },
    {
     "name": "stdout",
     "output_type": "stream",
     "text": [
      "Training Step: 2660  | total loss: \u001b[1m\u001b[32m0.06107\u001b[0m\u001b[0m | time: 175.514s\n\u001b[2K\r| SGD | epoch: 001 | loss: 0.06107 - acc: 0.9787 -- iter: 53200/55000\n"
     ]
    },
    {
     "name": "stdout",
     "output_type": "stream",
     "text": [
      "Training Step: 2661  | total loss: \u001b[1m\u001b[32m0.05520\u001b[0m\u001b[0m | time: 175.592s\n\u001b[2K\r| SGD | epoch: 001 | loss: 0.05520 - acc: 0.9808 -- iter: 53220/55000\n"
     ]
    },
    {
     "name": "stdout",
     "output_type": "stream",
     "text": [
      "Training Step: 2662  | total loss: \u001b[1m\u001b[32m0.05049\u001b[0m\u001b[0m | time: 175.655s\n\u001b[2K\r| SGD | epoch: 001 | loss: 0.05049 - acc: 0.9827 -- iter: 53240/55000\n"
     ]
    },
    {
     "name": "stdout",
     "output_type": "stream",
     "text": [
      "Training Step: 2663  | total loss: \u001b[1m\u001b[32m0.04687\u001b[0m\u001b[0m | time: 175.717s\n\u001b[2K\r| SGD | epoch: 001 | loss: 0.04687 - acc: 0.9844 -- iter: 53260/55000\n"
     ]
    },
    {
     "name": "stdout",
     "output_type": "stream",
     "text": [
      "Training Step: 2664  | total loss: \u001b[1m\u001b[32m0.04388\u001b[0m\u001b[0m | time: 175.780s\n\u001b[2K\r| SGD | epoch: 001 | loss: 0.04388 - acc: 0.9860 -- iter: 53280/55000\n"
     ]
    },
    {
     "name": "stdout",
     "output_type": "stream",
     "text": [
      "Training Step: 2665  | total loss: \u001b[1m\u001b[32m0.03964\u001b[0m\u001b[0m | time: 175.842s\n\u001b[2K\r| SGD | epoch: 001 | loss: 0.03964 - acc: 0.9874 -- iter: 53300/55000\n"
     ]
    },
    {
     "name": "stdout",
     "output_type": "stream",
     "text": [
      "Training Step: 2666  | total loss: \u001b[1m\u001b[32m0.03577\u001b[0m\u001b[0m | time: 175.921s\n\u001b[2K\r| SGD | epoch: 001 | loss: 0.03577 - acc: 0.9887 -- iter: 53320/55000\n"
     ]
    },
    {
     "name": "stdout",
     "output_type": "stream",
     "text": [
      "Training Step: 2667  | total loss: \u001b[1m\u001b[32m0.03772\u001b[0m\u001b[0m | time: 175.983s\n\u001b[2K\r| SGD | epoch: 001 | loss: 0.03772 - acc: 0.9848 -- iter: 53340/55000\n"
     ]
    },
    {
     "name": "stdout",
     "output_type": "stream",
     "text": [
      "Training Step: 2668  | total loss: \u001b[1m\u001b[32m0.03499\u001b[0m\u001b[0m | time: 176.045s\n\u001b[2K\r| SGD | epoch: 001 | loss: 0.03499 - acc: 0.9863 -- iter: 53360/55000\n"
     ]
    },
    {
     "name": "stdout",
     "output_type": "stream",
     "text": [
      "Training Step: 2669  | total loss: \u001b[1m\u001b[32m0.03402\u001b[0m\u001b[0m | time: 176.105s\n\u001b[2K\r| SGD | epoch: 001 | loss: 0.03402 - acc: 0.9877 -- iter: 53380/55000\n"
     ]
    },
    {
     "name": "stdout",
     "output_type": "stream",
     "text": [
      "Training Step: 2670  | total loss: \u001b[1m\u001b[32m0.03196\u001b[0m\u001b[0m | time: 176.167s\n\u001b[2K\r| SGD | epoch: 001 | loss: 0.03196 - acc: 0.9889 -- iter: 53400/55000\n"
     ]
    },
    {
     "name": "stdout",
     "output_type": "stream",
     "text": [
      "Training Step: 2671  | total loss: \u001b[1m\u001b[32m0.02887\u001b[0m\u001b[0m | time: 176.230s\n\u001b[2K\r| SGD | epoch: 001 | loss: 0.02887 - acc: 0.9900 -- iter: 53420/55000\n"
     ]
    },
    {
     "name": "stdout",
     "output_type": "stream",
     "text": [
      "Training Step: 2672  | total loss: \u001b[1m\u001b[32m0.03509\u001b[0m\u001b[0m | time: 176.308s\n\u001b[2K\r| SGD | epoch: 001 | loss: 0.03509 - acc: 0.9860 -- iter: 53440/55000\n"
     ]
    },
    {
     "name": "stdout",
     "output_type": "stream",
     "text": [
      "Training Step: 2673  | total loss: \u001b[1m\u001b[32m0.03181\u001b[0m\u001b[0m | time: 176.386s\n\u001b[2K\r| SGD | epoch: 001 | loss: 0.03181 - acc: 0.9874 -- iter: 53460/55000\n"
     ]
    },
    {
     "name": "stdout",
     "output_type": "stream",
     "text": [
      "Training Step: 2674  | total loss: \u001b[1m\u001b[32m0.03083\u001b[0m\u001b[0m | time: 176.449s\n\u001b[2K\r| SGD | epoch: 001 | loss: 0.03083 - acc: 0.9887 -- iter: 53480/55000\n"
     ]
    },
    {
     "name": "stdout",
     "output_type": "stream",
     "text": [
      "Training Step: 2675  | total loss: \u001b[1m\u001b[32m0.02785\u001b[0m\u001b[0m | time: 176.511s\n\u001b[2K\r| SGD | epoch: 001 | loss: 0.02785 - acc: 0.9898 -- iter: 53500/55000\n"
     ]
    },
    {
     "name": "stdout",
     "output_type": "stream",
     "text": [
      "Training Step: 2676  | total loss: \u001b[1m\u001b[32m0.02529\u001b[0m\u001b[0m | time: 176.589s\n\u001b[2K\r| SGD | epoch: 001 | loss: 0.02529 - acc: 0.9908 -- iter: 53520/55000\n"
     ]
    },
    {
     "name": "stdout",
     "output_type": "stream",
     "text": [
      "Training Step: 2677  | total loss: \u001b[1m\u001b[32m0.03609\u001b[0m\u001b[0m | time: 176.652s\n\u001b[2K\r| SGD | epoch: 001 | loss: 0.03609 - acc: 0.9867 -- iter: 53540/55000\n"
     ]
    },
    {
     "name": "stdout",
     "output_type": "stream",
     "text": [
      "Training Step: 2678  | total loss: \u001b[1m\u001b[32m0.03367\u001b[0m\u001b[0m | time: 176.730s\n\u001b[2K\r| SGD | epoch: 001 | loss: 0.03367 - acc: 0.9881 -- iter: 53560/55000\n"
     ]
    },
    {
     "name": "stdout",
     "output_type": "stream",
     "text": [
      "Training Step: 2679  | total loss: \u001b[1m\u001b[32m0.03262\u001b[0m\u001b[0m | time: 176.792s\n\u001b[2K\r| SGD | epoch: 001 | loss: 0.03262 - acc: 0.9893 -- iter: 53580/55000\n"
     ]
    },
    {
     "name": "stdout",
     "output_type": "stream",
     "text": [
      "Training Step: 2680  | total loss: \u001b[1m\u001b[32m0.03090\u001b[0m\u001b[0m | time: 176.855s\n\u001b[2K\r| SGD | epoch: 001 | loss: 0.03090 - acc: 0.9903 -- iter: 53600/55000\n"
     ]
    },
    {
     "name": "stdout",
     "output_type": "stream",
     "text": [
      "Training Step: 2681  | total loss: \u001b[1m\u001b[32m0.03822\u001b[0m\u001b[0m | time: 176.933s\n\u001b[2K\r| SGD | epoch: 001 | loss: 0.03822 - acc: 0.9863 -- iter: 53620/55000\n"
     ]
    },
    {
     "name": "stdout",
     "output_type": "stream",
     "text": [
      "Training Step: 2682  | total loss: \u001b[1m\u001b[32m0.03562\u001b[0m\u001b[0m | time: 176.995s\n\u001b[2K\r| SGD | epoch: 001 | loss: 0.03562 - acc: 0.9877 -- iter: 53640/55000\n"
     ]
    },
    {
     "name": "stdout",
     "output_type": "stream",
     "text": [
      "Training Step: 2683  | total loss: \u001b[1m\u001b[32m0.03547\u001b[0m\u001b[0m | time: 177.070s\n\u001b[2K\r| SGD | epoch: 001 | loss: 0.03547 - acc: 0.9889 -- iter: 53660/55000\n"
     ]
    },
    {
     "name": "stdout",
     "output_type": "stream",
     "text": [
      "Training Step: 2684  | total loss: \u001b[1m\u001b[32m0.06787\u001b[0m\u001b[0m | time: 177.140s\n\u001b[2K\r| SGD | epoch: 001 | loss: 0.06787 - acc: 0.9850 -- iter: 53680/55000\n"
     ]
    },
    {
     "name": "stdout",
     "output_type": "stream",
     "text": [
      "Training Step: 2685  | total loss: \u001b[1m\u001b[32m0.07843\u001b[0m\u001b[0m | time: 177.281s\n\u001b[2K\r| SGD | epoch: 001 | loss: 0.07843 - acc: 0.9815 -- iter: 53700/55000\n"
     ]
    },
    {
     "name": "stdout",
     "output_type": "stream",
     "text": [
      "Training Step: 2686  | total loss: \u001b[1m\u001b[32m0.07227\u001b[0m\u001b[0m | time: 177.344s\n\u001b[2K\r| SGD | epoch: 001 | loss: 0.07227 - acc: 0.9834 -- iter: 53720/55000\n"
     ]
    },
    {
     "name": "stdout",
     "output_type": "stream",
     "text": [
      "Training Step: 2687  | total loss: \u001b[1m\u001b[32m0.07179\u001b[0m\u001b[0m | time: 177.406s\n\u001b[2K\r| SGD | epoch: 001 | loss: 0.07179 - acc: 0.9800 -- iter: 53740/55000\n"
     ]
    },
    {
     "name": "stdout",
     "output_type": "stream",
     "text": [
      "Training Step: 2688  | total loss: \u001b[1m\u001b[32m0.06616\u001b[0m\u001b[0m | time: 177.484s\n\u001b[2K\r| SGD | epoch: 001 | loss: 0.06616 - acc: 0.9820 -- iter: 53760/55000\n"
     ]
    },
    {
     "name": "stdout",
     "output_type": "stream",
     "text": [
      "Training Step: 2689  | total loss: \u001b[1m\u001b[32m0.06189\u001b[0m\u001b[0m | time: 177.562s\n\u001b[2K\r| SGD | epoch: 001 | loss: 0.06189 - acc: 0.9838 -- iter: 53780/55000\n"
     ]
    },
    {
     "name": "stdout",
     "output_type": "stream",
     "text": [
      "Training Step: 2690  | total loss: \u001b[1m\u001b[32m0.06268\u001b[0m\u001b[0m | time: 177.625s\n\u001b[2K\r| SGD | epoch: 001 | loss: 0.06268 - acc: 0.9804 -- iter: 53800/55000\n"
     ]
    },
    {
     "name": "stdout",
     "output_type": "stream",
     "text": [
      "Training Step: 2691  | total loss: \u001b[1m\u001b[32m0.05665\u001b[0m\u001b[0m | time: 177.703s\n\u001b[2K\r| SGD | epoch: 001 | loss: 0.05665 - acc: 0.9824 -- iter: 53820/55000\n"
     ]
    },
    {
     "name": "stdout",
     "output_type": "stream",
     "text": [
      "Training Step: 2692  | total loss: \u001b[1m\u001b[32m0.05266\u001b[0m\u001b[0m | time: 177.765s\n\u001b[2K\r| SGD | epoch: 001 | loss: 0.05266 - acc: 0.9842 -- iter: 53840/55000\n"
     ]
    },
    {
     "name": "stdout",
     "output_type": "stream",
     "text": [
      "Training Step: 2693  | total loss: \u001b[1m\u001b[32m0.13941\u001b[0m\u001b[0m | time: 177.844s\n\u001b[2K\r| SGD | epoch: 001 | loss: 0.13941 - acc: 0.9757 -- iter: 53860/55000\n"
     ]
    },
    {
     "name": "stdout",
     "output_type": "stream",
     "text": [
      "Training Step: 2694  | total loss: \u001b[1m\u001b[32m0.12565\u001b[0m\u001b[0m | time: 177.922s\n\u001b[2K\r| SGD | epoch: 001 | loss: 0.12565 - acc: 0.9782 -- iter: 53880/55000\n"
     ]
    },
    {
     "name": "stdout",
     "output_type": "stream",
     "text": [
      "Training Step: 2695  | total loss: \u001b[1m\u001b[32m0.12281\u001b[0m\u001b[0m | time: 177.984s\n\u001b[2K\r| SGD | epoch: 001 | loss: 0.12281 - acc: 0.9753 -- iter: 53900/55000\n"
     ]
    },
    {
     "name": "stdout",
     "output_type": "stream",
     "text": [
      "Training Step: 2696  | total loss: \u001b[1m\u001b[32m0.11360\u001b[0m\u001b[0m | time: 178.062s\n\u001b[2K\r| SGD | epoch: 001 | loss: 0.11360 - acc: 0.9778 -- iter: 53920/55000\n"
     ]
    },
    {
     "name": "stdout",
     "output_type": "stream",
     "text": [
      "Training Step: 2697  | total loss: \u001b[1m\u001b[32m0.10771\u001b[0m\u001b[0m | time: 178.116s\n\u001b[2K\r| SGD | epoch: 001 | loss: 0.10771 - acc: 0.9800 -- iter: 53940/55000\n"
     ]
    },
    {
     "name": "stdout",
     "output_type": "stream",
     "text": [
      "Training Step: 2698  | total loss: \u001b[1m\u001b[32m0.09881\u001b[0m\u001b[0m | time: 178.179s\n\u001b[2K\r| SGD | epoch: 001 | loss: 0.09881 - acc: 0.9820 -- iter: 53960/55000\n"
     ]
    },
    {
     "name": "stdout",
     "output_type": "stream",
     "text": [
      "Training Step: 2699  | total loss: \u001b[1m\u001b[32m0.09316\u001b[0m\u001b[0m | time: 178.241s\n\u001b[2K\r| SGD | epoch: 001 | loss: 0.09316 - acc: 0.9788 -- iter: 53980/55000\n"
     ]
    },
    {
     "name": "stdout",
     "output_type": "stream",
     "text": [
      "Training Step: 2700  | total loss: \u001b[1m\u001b[32m0.10805\u001b[0m\u001b[0m | time: 178.304s\n\u001b[2K\r| SGD | epoch: 001 | loss: 0.10805 - acc: 0.9759 -- iter: 54000/55000\n"
     ]
    },
    {
     "name": "stdout",
     "output_type": "stream",
     "text": [
      "Training Step: 2701  | total loss: \u001b[1m\u001b[32m0.09996\u001b[0m\u001b[0m | time: 178.366s\n\u001b[2K\r| SGD | epoch: 001 | loss: 0.09996 - acc: 0.9783 -- iter: 54020/55000\n"
     ]
    },
    {
     "name": "stdout",
     "output_type": "stream",
     "text": [
      "Training Step: 2702  | total loss: \u001b[1m\u001b[32m0.09387\u001b[0m\u001b[0m | time: 178.429s\n\u001b[2K\r| SGD | epoch: 001 | loss: 0.09387 - acc: 0.9805 -- iter: 54040/55000\n"
     ]
    },
    {
     "name": "stdout",
     "output_type": "stream",
     "text": [
      "Training Step: 2703  | total loss: \u001b[1m\u001b[32m0.09114\u001b[0m\u001b[0m | time: 178.491s\n\u001b[2K\r| SGD | epoch: 001 | loss: 0.09114 - acc: 0.9775 -- iter: 54060/55000\n"
     ]
    },
    {
     "name": "stdout",
     "output_type": "stream",
     "text": [
      "Training Step: 2704  | total loss: \u001b[1m\u001b[32m0.08895\u001b[0m\u001b[0m | time: 178.554s\n\u001b[2K\r| SGD | epoch: 001 | loss: 0.08895 - acc: 0.9747 -- iter: 54080/55000\n"
     ]
    },
    {
     "name": "stdout",
     "output_type": "stream",
     "text": [
      "Training Step: 2705  | total loss: \u001b[1m\u001b[32m0.08682\u001b[0m\u001b[0m | time: 178.616s\n\u001b[2K\r| SGD | epoch: 001 | loss: 0.08682 - acc: 0.9722 -- iter: 54100/55000\n"
     ]
    },
    {
     "name": "stdout",
     "output_type": "stream",
     "text": [
      "Training Step: 2706  | total loss: \u001b[1m\u001b[32m0.07965\u001b[0m\u001b[0m | time: 178.679s\n\u001b[2K\r| SGD | epoch: 001 | loss: 0.07965 - acc: 0.9750 -- iter: 54120/55000\n"
     ]
    },
    {
     "name": "stdout",
     "output_type": "stream",
     "text": [
      "Training Step: 2707  | total loss: \u001b[1m\u001b[32m0.07177\u001b[0m\u001b[0m | time: 178.741s\n\u001b[2K\r| SGD | epoch: 001 | loss: 0.07177 - acc: 0.9775 -- iter: 54140/55000\n"
     ]
    },
    {
     "name": "stdout",
     "output_type": "stream",
     "text": [
      "Training Step: 2708  | total loss: \u001b[1m\u001b[32m0.07949\u001b[0m\u001b[0m | time: 178.804s\n\u001b[2K\r| SGD | epoch: 001 | loss: 0.07949 - acc: 0.9748 -- iter: 54160/55000\n"
     ]
    },
    {
     "name": "stdout",
     "output_type": "stream",
     "text": [
      "Training Step: 2709  | total loss: \u001b[1m\u001b[32m0.07214\u001b[0m\u001b[0m | time: 178.882s\n\u001b[2K\r| SGD | epoch: 001 | loss: 0.07214 - acc: 0.9773 -- iter: 54180/55000\n"
     ]
    },
    {
     "name": "stdout",
     "output_type": "stream",
     "text": [
      "Training Step: 2710  | total loss: \u001b[1m\u001b[32m0.07457\u001b[0m\u001b[0m | time: 178.944s\n\u001b[2K\r| SGD | epoch: 001 | loss: 0.07457 - acc: 0.9746 -- iter: 54200/55000\n"
     ]
    },
    {
     "name": "stdout",
     "output_type": "stream",
     "text": [
      "Training Step: 2711  | total loss: \u001b[1m\u001b[32m0.06809\u001b[0m\u001b[0m | time: 179.021s\n\u001b[2K\r| SGD | epoch: 001 | loss: 0.06809 - acc: 0.9771 -- iter: 54220/55000\n"
     ]
    },
    {
     "name": "stdout",
     "output_type": "stream",
     "text": [
      "Training Step: 2712  | total loss: \u001b[1m\u001b[32m0.07088\u001b[0m\u001b[0m | time: 179.083s\n\u001b[2K\r| SGD | epoch: 001 | loss: 0.07088 - acc: 0.9744 -- iter: 54240/55000\n"
     ]
    },
    {
     "name": "stdout",
     "output_type": "stream",
     "text": [
      "Training Step: 2713  | total loss: \u001b[1m\u001b[32m0.10418\u001b[0m\u001b[0m | time: 179.146s\n\u001b[2K\r| SGD | epoch: 001 | loss: 0.10418 - acc: 0.9620 -- iter: 54260/55000\n"
     ]
    },
    {
     "name": "stdout",
     "output_type": "stream",
     "text": [
      "Training Step: 2714  | total loss: \u001b[1m\u001b[32m0.09514\u001b[0m\u001b[0m | time: 179.224s\n\u001b[2K\r| SGD | epoch: 001 | loss: 0.09514 - acc: 0.9658 -- iter: 54280/55000\n"
     ]
    },
    {
     "name": "stdout",
     "output_type": "stream",
     "text": [
      "Training Step: 2715  | total loss: \u001b[1m\u001b[32m0.08836\u001b[0m\u001b[0m | time: 179.286s\n\u001b[2K\r| SGD | epoch: 001 | loss: 0.08836 - acc: 0.9692 -- iter: 54300/55000\n"
     ]
    },
    {
     "name": "stdout",
     "output_type": "stream",
     "text": [
      "Training Step: 2716  | total loss: \u001b[1m\u001b[32m0.08256\u001b[0m\u001b[0m | time: 179.349s\n\u001b[2K\r| SGD | epoch: 001 | loss: 0.08256 - acc: 0.9723 -- iter: 54320/55000\n"
     ]
    },
    {
     "name": "stdout",
     "output_type": "stream",
     "text": [
      "Training Step: 2717  | total loss: \u001b[1m\u001b[32m0.08159\u001b[0m\u001b[0m | time: 179.411s\n\u001b[2K\r| SGD | epoch: 001 | loss: 0.08159 - acc: 0.9700 -- iter: 54340/55000\n"
     ]
    },
    {
     "name": "stdout",
     "output_type": "stream",
     "text": [
      "Training Step: 2718  | total loss: \u001b[1m\u001b[32m0.10008\u001b[0m\u001b[0m | time: 179.489s\n\u001b[2K\r| SGD | epoch: 001 | loss: 0.10008 - acc: 0.9680 -- iter: 54360/55000\n"
     ]
    },
    {
     "name": "stdout",
     "output_type": "stream",
     "text": [
      "Training Step: 2719  | total loss: \u001b[1m\u001b[32m1.00822\u001b[0m\u001b[0m | time: 179.552s\n\u001b[2K\r| SGD | epoch: 001 | loss: 1.00822 - acc: 0.8762 -- iter: 54380/55000\n"
     ]
    },
    {
     "name": "stdout",
     "output_type": "stream",
     "text": [
      "Training Step: 2720  | total loss: \u001b[1m\u001b[32m0.93754\u001b[0m\u001b[0m | time: 179.630s\n\u001b[2K\r| SGD | epoch: 001 | loss: 0.93754 - acc: 0.8886 -- iter: 54400/55000\n"
     ]
    },
    {
     "name": "stdout",
     "output_type": "stream",
     "text": [
      "Training Step: 2721  | total loss: \u001b[1m\u001b[32m0.85785\u001b[0m\u001b[0m | time: 179.692s\n\u001b[2K\r| SGD | epoch: 001 | loss: 0.85785 - acc: 0.8947 -- iter: 54420/55000\n"
     ]
    },
    {
     "name": "stdout",
     "output_type": "stream",
     "text": [
      "Training Step: 2722  | total loss: \u001b[1m\u001b[32m0.78662\u001b[0m\u001b[0m | time: 179.755s\n\u001b[2K\r| SGD | epoch: 001 | loss: 0.78662 - acc: 0.9003 -- iter: 54440/55000\n"
     ]
    },
    {
     "name": "stdout",
     "output_type": "stream",
     "text": [
      "Training Step: 2723  | total loss: \u001b[1m\u001b[32m0.71185\u001b[0m\u001b[0m | time: 179.817s\n\u001b[2K\r| SGD | epoch: 001 | loss: 0.71185 - acc: 0.9102 -- iter: 54460/55000\n"
     ]
    },
    {
     "name": "stdout",
     "output_type": "stream",
     "text": [
      "Training Step: 2724  | total loss: \u001b[1m\u001b[32m0.64446\u001b[0m\u001b[0m | time: 179.896s\n\u001b[2K\r| SGD | epoch: 001 | loss: 0.64446 - acc: 0.9192 -- iter: 54480/55000\n"
     ]
    },
    {
     "name": "stdout",
     "output_type": "stream",
     "text": [
      "Training Step: 2725  | total loss: \u001b[1m\u001b[32m0.58372\u001b[0m\u001b[0m | time: 179.968s\n\u001b[2K\r| SGD | epoch: 001 | loss: 0.58372 - acc: 0.9273 -- iter: 54500/55000\n"
     ]
    },
    {
     "name": "stdout",
     "output_type": "stream",
     "text": [
      "Training Step: 2726  | total loss: \u001b[1m\u001b[32m0.54324\u001b[0m\u001b[0m | time: 180.025s\n\u001b[2K\r| SGD | epoch: 001 | loss: 0.54324 - acc: 0.9246 -- iter: 54520/55000\n"
     ]
    },
    {
     "name": "stdout",
     "output_type": "stream",
     "text": [
      "Training Step: 2727  | total loss: \u001b[1m\u001b[32m0.49116\u001b[0m\u001b[0m | time: 180.103s\n\u001b[2K\r| SGD | epoch: 001 | loss: 0.49116 - acc: 0.9321 -- iter: 54540/55000\n"
     ]
    },
    {
     "name": "stdout",
     "output_type": "stream",
     "text": [
      "Training Step: 2728  | total loss: \u001b[1m\u001b[32m0.44846\u001b[0m\u001b[0m | time: 180.165s\n\u001b[2K\r| SGD | epoch: 001 | loss: 0.44846 - acc: 0.9389 -- iter: 54560/55000\n"
     ]
    },
    {
     "name": "stdout",
     "output_type": "stream",
     "text": [
      "Training Step: 2729  | total loss: \u001b[1m\u001b[32m0.41704\u001b[0m\u001b[0m | time: 180.228s\n\u001b[2K\r| SGD | epoch: 001 | loss: 0.41704 - acc: 0.9400 -- iter: 54580/55000\n"
     ]
    },
    {
     "name": "stdout",
     "output_type": "stream",
     "text": [
      "Training Step: 2730  | total loss: \u001b[1m\u001b[32m0.37920\u001b[0m\u001b[0m | time: 180.306s\n\u001b[2K\r| SGD | epoch: 001 | loss: 0.37920 - acc: 0.9460 -- iter: 54600/55000\n"
     ]
    },
    {
     "name": "stdout",
     "output_type": "stream",
     "text": [
      "Training Step: 2731  | total loss: \u001b[1m\u001b[32m0.34305\u001b[0m\u001b[0m | time: 180.368s\n\u001b[2K\r| SGD | epoch: 001 | loss: 0.34305 - acc: 0.9514 -- iter: 54620/55000\n"
     ]
    },
    {
     "name": "stdout",
     "output_type": "stream",
     "text": [
      "Training Step: 2732  | total loss: \u001b[1m\u001b[32m0.31028\u001b[0m\u001b[0m | time: 180.431s\n\u001b[2K\r| SGD | epoch: 001 | loss: 0.31028 - acc: 0.9563 -- iter: 54640/55000\n"
     ]
    },
    {
     "name": "stdout",
     "output_type": "stream",
     "text": [
      "Training Step: 2733  | total loss: \u001b[1m\u001b[32m0.28423\u001b[0m\u001b[0m | time: 180.493s\n\u001b[2K\r| SGD | epoch: 001 | loss: 0.28423 - acc: 0.9606 -- iter: 54660/55000\n"
     ]
    },
    {
     "name": "stdout",
     "output_type": "stream",
     "text": [
      "Training Step: 2734  | total loss: \u001b[1m\u001b[32m0.25841\u001b[0m\u001b[0m | time: 180.572s\n\u001b[2K\r| SGD | epoch: 001 | loss: 0.25841 - acc: 0.9646 -- iter: 54680/55000\n"
     ]
    },
    {
     "name": "stdout",
     "output_type": "stream",
     "text": [
      "Training Step: 2735  | total loss: \u001b[1m\u001b[32m0.23477\u001b[0m\u001b[0m | time: 180.634s\n\u001b[2K\r| SGD | epoch: 001 | loss: 0.23477 - acc: 0.9681 -- iter: 54700/55000\n"
     ]
    },
    {
     "name": "stdout",
     "output_type": "stream",
     "text": [
      "Training Step: 2736  | total loss: \u001b[1m\u001b[32m0.21557\u001b[0m\u001b[0m | time: 180.697s\n\u001b[2K\r| SGD | epoch: 001 | loss: 0.21557 - acc: 0.9713 -- iter: 54720/55000\n"
     ]
    },
    {
     "name": "stdout",
     "output_type": "stream",
     "text": [
      "Training Step: 2737  | total loss: \u001b[1m\u001b[32m0.19543\u001b[0m\u001b[0m | time: 180.759s\n\u001b[2K\r| SGD | epoch: 001 | loss: 0.19543 - acc: 0.9742 -- iter: 54740/55000\n"
     ]
    },
    {
     "name": "stdout",
     "output_type": "stream",
     "text": [
      "Training Step: 2738  | total loss: \u001b[1m\u001b[32m0.18039\u001b[0m\u001b[0m | time: 180.822s\n\u001b[2K\r| SGD | epoch: 001 | loss: 0.18039 - acc: 0.9768 -- iter: 54760/55000\n"
     ]
    },
    {
     "name": "stdout",
     "output_type": "stream",
     "text": [
      "Training Step: 2739  | total loss: \u001b[1m\u001b[32m0.16357\u001b[0m\u001b[0m | time: 180.884s\n\u001b[2K\r| SGD | epoch: 001 | loss: 0.16357 - acc: 0.9791 -- iter: 54780/55000\n"
     ]
    },
    {
     "name": "stdout",
     "output_type": "stream",
     "text": [
      "Training Step: 2740  | total loss: \u001b[1m\u001b[32m0.14882\u001b[0m\u001b[0m | time: 180.954s\n\u001b[2K\r| SGD | epoch: 001 | loss: 0.14882 - acc: 0.9812 -- iter: 54800/55000\n"
     ]
    },
    {
     "name": "stdout",
     "output_type": "stream",
     "text": [
      "Training Step: 2741  | total loss: \u001b[1m\u001b[32m0.14404\u001b[0m\u001b[0m | time: 181.023s\n\u001b[2K\r| SGD | epoch: 001 | loss: 0.14404 - acc: 0.9781 -- iter: 54820/55000\n"
     ]
    },
    {
     "name": "stdout",
     "output_type": "stream",
     "text": [
      "Training Step: 2742  | total loss: \u001b[1m\u001b[32m0.13108\u001b[0m\u001b[0m | time: 181.086s\n\u001b[2K\r| SGD | epoch: 001 | loss: 0.13108 - acc: 0.9803 -- iter: 54840/55000\n"
     ]
    },
    {
     "name": "stdout",
     "output_type": "stream",
     "text": [
      "Training Step: 2743  | total loss: \u001b[1m\u001b[32m0.11842\u001b[0m\u001b[0m | time: 181.164s\n\u001b[2K\r| SGD | epoch: 001 | loss: 0.11842 - acc: 0.9822 -- iter: 54860/55000\n"
     ]
    },
    {
     "name": "stdout",
     "output_type": "stream",
     "text": [
      "Training Step: 2744  | total loss: \u001b[1m\u001b[32m0.11439\u001b[0m\u001b[0m | time: 181.226s\n\u001b[2K\r| SGD | epoch: 001 | loss: 0.11439 - acc: 0.9790 -- iter: 54880/55000\n"
     ]
    },
    {
     "name": "stdout",
     "output_type": "stream",
     "text": [
      "Training Step: 2745  | total loss: \u001b[1m\u001b[32m0.10530\u001b[0m\u001b[0m | time: 181.305s\n\u001b[2K\r| SGD | epoch: 001 | loss: 0.10530 - acc: 0.9811 -- iter: 54900/55000\n"
     ]
    },
    {
     "name": "stdout",
     "output_type": "stream",
     "text": [
      "Training Step: 2746  | total loss: \u001b[1m\u001b[32m0.09793\u001b[0m\u001b[0m | time: 181.367s\n\u001b[2K\r| SGD | epoch: 001 | loss: 0.09793 - acc: 0.9830 -- iter: 54920/55000\n"
     ]
    },
    {
     "name": "stdout",
     "output_type": "stream",
     "text": [
      "Training Step: 2747  | total loss: \u001b[1m\u001b[32m0.08832\u001b[0m\u001b[0m | time: 181.445s\n\u001b[2K\r| SGD | epoch: 001 | loss: 0.08832 - acc: 0.9847 -- iter: 54940/55000\n"
     ]
    },
    {
     "name": "stdout",
     "output_type": "stream",
     "text": [
      "Training Step: 2748  | total loss: \u001b[1m\u001b[32m0.08130\u001b[0m\u001b[0m | time: 181.508s\n\u001b[2K\r| SGD | epoch: 001 | loss: 0.08130 - acc: 0.9862 -- iter: 54960/55000\n"
     ]
    },
    {
     "name": "stdout",
     "output_type": "stream",
     "text": [
      "Training Step: 2749  | total loss: \u001b[1m\u001b[32m0.08648\u001b[0m\u001b[0m | time: 181.570s\n\u001b[2K\r| SGD | epoch: 001 | loss: 0.08648 - acc: 0.9826 -- iter: 54980/55000\n"
     ]
    },
    {
     "name": "stdout",
     "output_type": "stream",
     "text": [
      "Training Step: 2750  | total loss: \u001b[1m\u001b[32m0.07906\u001b[0m\u001b[0m | time: 193.692s\n\u001b[2K\r| SGD | epoch: 001 | loss: 0.07906 - acc: 0.9843 | val_loss: 0.04118 - val_acc: 0.9872 -- iter: 55000/55000\n--\n"
     ]
    }
   ],
   "source": [
    "model.fit(X, Y, n_epoch=1,\n",
    "          snapshot_epoch=True,\n",
    "          batch_size=20,\n",
    "          validation_set=(testX, testY),\n",
    "          show_metric=True)"
   ]
  },
  {
   "cell_type": "code",
   "execution_count": 30,
   "metadata": {},
   "outputs": [],
   "source": [
    "predictY = model.predict(testX)"
   ]
  },
  {
   "cell_type": "code",
   "execution_count": 38,
   "metadata": {},
   "outputs": [],
   "source": [
    "predictC = np.argmax(predictY, 1)\n",
    "testC = np.argmax(testY, 1)\n",
    "accu = np.average(testC == predictC)"
   ]
  }
 ],
 "metadata": {
  "kernelspec": {
   "display_name": "Python 2",
   "language": "python",
   "name": "python2"
  },
  "language_info": {
   "codemirror_mode": {
    "name": "ipython",
    "version": 2
   },
   "file_extension": ".py",
   "mimetype": "text/x-python",
   "name": "python",
   "nbconvert_exporter": "python",
   "pygments_lexer": "ipython2",
   "version": "2.7.6"
  }
 },
 "nbformat": 4,
 "nbformat_minor": 0
}
