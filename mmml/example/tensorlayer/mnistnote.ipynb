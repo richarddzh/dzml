{
 "cells": [
  {
   "cell_type": "code",
   "execution_count": 1,
   "metadata": {
    "collapsed": true
   },
   "outputs": [],
   "source": [
    "%matplotlib inline\n",
    "import matplotlib.pyplot as plt\n",
    "import tensorflow as tf\n",
    "import tensorlayer as tl\n",
    "import numpy as np"
   ]
  },
  {
   "cell_type": "code",
   "execution_count": 2,
   "metadata": {},
   "outputs": [
    {
     "name": "stdout",
     "output_type": "stream",
     "text": [
      "Load or Download MNIST > data\\mnist\n"
     ]
    },
    {
     "name": "stdout",
     "output_type": "stream",
     "text": [
      "\rDownloading train-images-idx3-ubyte.gz...0%"
     ]
    },
    {
     "name": "stdout",
     "output_type": "stream",
     "text": [
      "\rDownloading train-images-idx3-ubyte.gz...0%"
     ]
    },
    {
     "name": "stdout",
     "output_type": "stream",
     "text": [
      "\rDownloading train-images-idx3-ubyte.gz...0%"
     ]
    },
    {
     "name": "stdout",
     "output_type": "stream",
     "text": [
      "\rDownloading train-images-idx3-ubyte.gz...0%"
     ]
    },
    {
     "name": "stdout",
     "output_type": "stream",
     "text": [
      "\rDownloading train-images-idx3-ubyte.gz...0%"
     ]
    },
    {
     "name": "stdout",
     "output_type": "stream",
     "text": [
      "\rDownloading train-images-idx3-ubyte.gz...0%"
     ]
    },
    {
     "name": "stdout",
     "output_type": "stream",
     "text": [
      "\rDownloading train-images-idx3-ubyte.gz...0%"
     ]
    },
    {
     "name": "stdout",
     "output_type": "stream",
     "text": [
      "\rDownloading train-images-idx3-ubyte.gz...0%"
     ]
    },
    {
     "name": "stdout",
     "output_type": "stream",
     "text": [
      "\rDownloading train-images-idx3-ubyte.gz...0%"
     ]
    },
    {
     "name": "stdout",
     "output_type": "stream",
     "text": [
      "\rDownloading train-images-idx3-ubyte.gz...0%"
     ]
    },
    {
     "name": "stdout",
     "output_type": "stream",
     "text": [
      "\rDownloading train-images-idx3-ubyte.gz...0%"
     ]
    },
    {
     "name": "stdout",
     "output_type": "stream",
     "text": [
      "\rDownloading train-images-idx3-ubyte.gz...0%"
     ]
    },
    {
     "name": "stdout",
     "output_type": "stream",
     "text": [
      "\rDownloading train-images-idx3-ubyte.gz...0%"
     ]
    },
    {
     "name": "stdout",
     "output_type": "stream",
     "text": [
      "\rDownloading train-images-idx3-ubyte.gz...1%"
     ]
    },
    {
     "name": "stdout",
     "output_type": "stream",
     "text": [
      "\rDownloading train-images-idx3-ubyte.gz...1%"
     ]
    },
    {
     "name": "stdout",
     "output_type": "stream",
     "text": [
      "\rDownloading train-images-idx3-ubyte.gz...1%"
     ]
    },
    {
     "name": "stdout",
     "output_type": "stream",
     "text": [
      "\rDownloading train-images-idx3-ubyte.gz...1%"
     ]
    },
    {
     "name": "stdout",
     "output_type": "stream",
     "text": [
      "\rDownloading train-images-idx3-ubyte.gz...1%"
     ]
    },
    {
     "name": "stdout",
     "output_type": "stream",
     "text": [
      "\rDownloading train-images-idx3-ubyte.gz...1%"
     ]
    },
    {
     "name": "stdout",
     "output_type": "stream",
     "text": [
      "\rDownloading train-images-idx3-ubyte.gz...1%"
     ]
    },
    {
     "name": "stdout",
     "output_type": "stream",
     "text": [
      "\rDownloading train-images-idx3-ubyte.gz...1%"
     ]
    },
    {
     "name": "stdout",
     "output_type": "stream",
     "text": [
      "\rDownloading train-images-idx3-ubyte.gz...1%"
     ]
    },
    {
     "name": "stdout",
     "output_type": "stream",
     "text": [
      "\rDownloading train-images-idx3-ubyte.gz...1%"
     ]
    },
    {
     "name": "stdout",
     "output_type": "stream",
     "text": [
      "\rDownloading train-images-idx3-ubyte.gz...1%"
     ]
    },
    {
     "name": "stdout",
     "output_type": "stream",
     "text": [
      "\rDownloading train-images-idx3-ubyte.gz...1%"
     ]
    },
    {
     "name": "stdout",
     "output_type": "stream",
     "text": [
      "\rDownloading train-images-idx3-ubyte.gz...2%"
     ]
    },
    {
     "name": "stdout",
     "output_type": "stream",
     "text": [
      "\rDownloading train-images-idx3-ubyte.gz...2%"
     ]
    },
    {
     "name": "stdout",
     "output_type": "stream",
     "text": [
      "\rDownloading train-images-idx3-ubyte.gz...2%"
     ]
    },
    {
     "name": "stdout",
     "output_type": "stream",
     "text": [
      "\rDownloading train-images-idx3-ubyte.gz...2%"
     ]
    },
    {
     "name": "stdout",
     "output_type": "stream",
     "text": [
      "\rDownloading train-images-idx3-ubyte.gz...2%"
     ]
    },
    {
     "name": "stdout",
     "output_type": "stream",
     "text": [
      "\rDownloading train-images-idx3-ubyte.gz...2%"
     ]
    },
    {
     "name": "stdout",
     "output_type": "stream",
     "text": [
      "\rDownloading train-images-idx3-ubyte.gz...2%"
     ]
    },
    {
     "name": "stdout",
     "output_type": "stream",
     "text": [
      "\rDownloading train-images-idx3-ubyte.gz...2%"
     ]
    },
    {
     "name": "stdout",
     "output_type": "stream",
     "text": [
      "\rDownloading train-images-idx3-ubyte.gz...2%"
     ]
    },
    {
     "name": "stdout",
     "output_type": "stream",
     "text": [
      "\rDownloading train-images-idx3-ubyte.gz...2%"
     ]
    },
    {
     "name": "stdout",
     "output_type": "stream",
     "text": [
      "\rDownloading train-images-idx3-ubyte.gz...2%"
     ]
    },
    {
     "name": "stdout",
     "output_type": "stream",
     "text": [
      "\rDownloading train-images-idx3-ubyte.gz...2%"
     ]
    },
    {
     "name": "stdout",
     "output_type": "stream",
     "text": [
      "\rDownloading train-images-idx3-ubyte.gz...3%"
     ]
    },
    {
     "name": "stdout",
     "output_type": "stream",
     "text": [
      "\rDownloading train-images-idx3-ubyte.gz...3%"
     ]
    },
    {
     "name": "stdout",
     "output_type": "stream",
     "text": [
      "\rDownloading train-images-idx3-ubyte.gz...3%"
     ]
    },
    {
     "name": "stdout",
     "output_type": "stream",
     "text": [
      "\rDownloading train-images-idx3-ubyte.gz...3%"
     ]
    },
    {
     "name": "stdout",
     "output_type": "stream",
     "text": [
      "\rDownloading train-images-idx3-ubyte.gz...3%"
     ]
    },
    {
     "name": "stdout",
     "output_type": "stream",
     "text": [
      "\rDownloading train-images-idx3-ubyte.gz...3%"
     ]
    },
    {
     "name": "stdout",
     "output_type": "stream",
     "text": [
      "\rDownloading train-images-idx3-ubyte.gz...3%"
     ]
    },
    {
     "name": "stdout",
     "output_type": "stream",
     "text": [
      "\rDownloading train-images-idx3-ubyte.gz...3%"
     ]
    },
    {
     "name": "stdout",
     "output_type": "stream",
     "text": [
      "\rDownloading train-images-idx3-ubyte.gz...3%"
     ]
    },
    {
     "name": "stdout",
     "output_type": "stream",
     "text": [
      "\rDownloading train-images-idx3-ubyte.gz...3%"
     ]
    },
    {
     "name": "stdout",
     "output_type": "stream",
     "text": [
      "\rDownloading train-images-idx3-ubyte.gz...3%"
     ]
    },
    {
     "name": "stdout",
     "output_type": "stream",
     "text": [
      "\rDownloading train-images-idx3-ubyte.gz...3%"
     ]
    },
    {
     "name": "stdout",
     "output_type": "stream",
     "text": [
      "\rDownloading train-images-idx3-ubyte.gz...4%"
     ]
    },
    {
     "name": "stdout",
     "output_type": "stream",
     "text": [
      "\rDownloading train-images-idx3-ubyte.gz...4%"
     ]
    },
    {
     "name": "stdout",
     "output_type": "stream",
     "text": [
      "\rDownloading train-images-idx3-ubyte.gz...4%"
     ]
    },
    {
     "name": "stdout",
     "output_type": "stream",
     "text": [
      "\rDownloading train-images-idx3-ubyte.gz...4%"
     ]
    },
    {
     "name": "stdout",
     "output_type": "stream",
     "text": [
      "\rDownloading train-images-idx3-ubyte.gz...4%"
     ]
    },
    {
     "name": "stdout",
     "output_type": "stream",
     "text": [
      "\rDownloading train-images-idx3-ubyte.gz...4%"
     ]
    },
    {
     "name": "stdout",
     "output_type": "stream",
     "text": [
      "\rDownloading train-images-idx3-ubyte.gz...4%"
     ]
    },
    {
     "name": "stdout",
     "output_type": "stream",
     "text": [
      "\rDownloading train-images-idx3-ubyte.gz...4%"
     ]
    },
    {
     "name": "stdout",
     "output_type": "stream",
     "text": [
      "\rDownloading train-images-idx3-ubyte.gz...4%"
     ]
    },
    {
     "name": "stdout",
     "output_type": "stream",
     "text": [
      "\rDownloading train-images-idx3-ubyte.gz...4%"
     ]
    },
    {
     "name": "stdout",
     "output_type": "stream",
     "text": [
      "\rDownloading train-images-idx3-ubyte.gz...4%"
     ]
    },
    {
     "name": "stdout",
     "output_type": "stream",
     "text": [
      "\rDownloading train-images-idx3-ubyte.gz...4%"
     ]
    },
    {
     "name": "stdout",
     "output_type": "stream",
     "text": [
      "\rDownloading train-images-idx3-ubyte.gz...5%"
     ]
    },
    {
     "name": "stdout",
     "output_type": "stream",
     "text": [
      "\rDownloading train-images-idx3-ubyte.gz...5%"
     ]
    },
    {
     "name": "stdout",
     "output_type": "stream",
     "text": [
      "\rDownloading train-images-idx3-ubyte.gz...5%"
     ]
    },
    {
     "name": "stdout",
     "output_type": "stream",
     "text": [
      "\rDownloading train-images-idx3-ubyte.gz...5%"
     ]
    },
    {
     "name": "stdout",
     "output_type": "stream",
     "text": [
      "\rDownloading train-images-idx3-ubyte.gz...5%"
     ]
    },
    {
     "name": "stdout",
     "output_type": "stream",
     "text": [
      "\rDownloading train-images-idx3-ubyte.gz...5%"
     ]
    },
    {
     "name": "stdout",
     "output_type": "stream",
     "text": [
      "\rDownloading train-images-idx3-ubyte.gz...5%"
     ]
    },
    {
     "name": "stdout",
     "output_type": "stream",
     "text": [
      "\rDownloading train-images-idx3-ubyte.gz...5%"
     ]
    },
    {
     "name": "stdout",
     "output_type": "stream",
     "text": [
      "\rDownloading train-images-idx3-ubyte.gz...5%"
     ]
    },
    {
     "name": "stdout",
     "output_type": "stream",
     "text": [
      "\rDownloading train-images-idx3-ubyte.gz...5%"
     ]
    },
    {
     "name": "stdout",
     "output_type": "stream",
     "text": [
      "\rDownloading train-images-idx3-ubyte.gz...5%"
     ]
    },
    {
     "name": "stdout",
     "output_type": "stream",
     "text": [
      "\rDownloading train-images-idx3-ubyte.gz...5%"
     ]
    },
    {
     "name": "stdout",
     "output_type": "stream",
     "text": [
      "\rDownloading train-images-idx3-ubyte.gz...6%"
     ]
    },
    {
     "name": "stdout",
     "output_type": "stream",
     "text": [
      "\rDownloading train-images-idx3-ubyte.gz...6%"
     ]
    },
    {
     "name": "stdout",
     "output_type": "stream",
     "text": [
      "\rDownloading train-images-idx3-ubyte.gz...6%"
     ]
    },
    {
     "name": "stdout",
     "output_type": "stream",
     "text": [
      "\rDownloading train-images-idx3-ubyte.gz...6%"
     ]
    },
    {
     "name": "stdout",
     "output_type": "stream",
     "text": [
      "\rDownloading train-images-idx3-ubyte.gz...6%"
     ]
    },
    {
     "name": "stdout",
     "output_type": "stream",
     "text": [
      "\rDownloading train-images-idx3-ubyte.gz...6%"
     ]
    },
    {
     "name": "stdout",
     "output_type": "stream",
     "text": [
      "\rDownloading train-images-idx3-ubyte.gz...6%"
     ]
    },
    {
     "name": "stdout",
     "output_type": "stream",
     "text": [
      "\rDownloading train-images-idx3-ubyte.gz...6%"
     ]
    },
    {
     "name": "stdout",
     "output_type": "stream",
     "text": [
      "\rDownloading train-images-idx3-ubyte.gz...6%"
     ]
    },
    {
     "name": "stdout",
     "output_type": "stream",
     "text": [
      "\rDownloading train-images-idx3-ubyte.gz...6%"
     ]
    },
    {
     "name": "stdout",
     "output_type": "stream",
     "text": [
      "\rDownloading train-images-idx3-ubyte.gz...6%"
     ]
    },
    {
     "name": "stdout",
     "output_type": "stream",
     "text": [
      "\rDownloading train-images-idx3-ubyte.gz...6%"
     ]
    },
    {
     "name": "stdout",
     "output_type": "stream",
     "text": [
      "\rDownloading train-images-idx3-ubyte.gz...7%"
     ]
    },
    {
     "name": "stdout",
     "output_type": "stream",
     "text": [
      "\rDownloading train-images-idx3-ubyte.gz...7%"
     ]
    },
    {
     "name": "stdout",
     "output_type": "stream",
     "text": [
      "\rDownloading train-images-idx3-ubyte.gz...7%"
     ]
    },
    {
     "name": "stdout",
     "output_type": "stream",
     "text": [
      "\rDownloading train-images-idx3-ubyte.gz...7%"
     ]
    },
    {
     "name": "stdout",
     "output_type": "stream",
     "text": [
      "\rDownloading train-images-idx3-ubyte.gz...7%"
     ]
    },
    {
     "name": "stdout",
     "output_type": "stream",
     "text": [
      "\rDownloading train-images-idx3-ubyte.gz...7%"
     ]
    },
    {
     "name": "stdout",
     "output_type": "stream",
     "text": [
      "\rDownloading train-images-idx3-ubyte.gz...7%"
     ]
    },
    {
     "name": "stdout",
     "output_type": "stream",
     "text": [
      "\rDownloading train-images-idx3-ubyte.gz...7%"
     ]
    },
    {
     "name": "stdout",
     "output_type": "stream",
     "text": [
      "\rDownloading train-images-idx3-ubyte.gz...7%"
     ]
    },
    {
     "name": "stdout",
     "output_type": "stream",
     "text": [
      "\rDownloading train-images-idx3-ubyte.gz...7%"
     ]
    },
    {
     "name": "stdout",
     "output_type": "stream",
     "text": [
      "\rDownloading train-images-idx3-ubyte.gz...7%"
     ]
    },
    {
     "name": "stdout",
     "output_type": "stream",
     "text": [
      "\rDownloading train-images-idx3-ubyte.gz...7%"
     ]
    },
    {
     "name": "stdout",
     "output_type": "stream",
     "text": [
      "\rDownloading train-images-idx3-ubyte.gz...8%"
     ]
    },
    {
     "name": "stdout",
     "output_type": "stream",
     "text": [
      "\rDownloading train-images-idx3-ubyte.gz...8%"
     ]
    },
    {
     "name": "stdout",
     "output_type": "stream",
     "text": [
      "\rDownloading train-images-idx3-ubyte.gz...8%"
     ]
    },
    {
     "name": "stdout",
     "output_type": "stream",
     "text": [
      "\rDownloading train-images-idx3-ubyte.gz...8%"
     ]
    },
    {
     "name": "stdout",
     "output_type": "stream",
     "text": [
      "\rDownloading train-images-idx3-ubyte.gz...8%"
     ]
    },
    {
     "name": "stdout",
     "output_type": "stream",
     "text": [
      "\rDownloading train-images-idx3-ubyte.gz...8%"
     ]
    },
    {
     "name": "stdout",
     "output_type": "stream",
     "text": [
      "\rDownloading train-images-idx3-ubyte.gz...8%"
     ]
    },
    {
     "name": "stdout",
     "output_type": "stream",
     "text": [
      "\rDownloading train-images-idx3-ubyte.gz...8%"
     ]
    },
    {
     "name": "stdout",
     "output_type": "stream",
     "text": [
      "\rDownloading train-images-idx3-ubyte.gz...8%"
     ]
    },
    {
     "name": "stdout",
     "output_type": "stream",
     "text": [
      "\rDownloading train-images-idx3-ubyte.gz...8%"
     ]
    },
    {
     "name": "stdout",
     "output_type": "stream",
     "text": [
      "\rDownloading train-images-idx3-ubyte.gz...8%"
     ]
    },
    {
     "name": "stdout",
     "output_type": "stream",
     "text": [
      "\rDownloading train-images-idx3-ubyte.gz...8%"
     ]
    },
    {
     "name": "stdout",
     "output_type": "stream",
     "text": [
      "\rDownloading train-images-idx3-ubyte.gz...9%"
     ]
    },
    {
     "name": "stdout",
     "output_type": "stream",
     "text": [
      "\rDownloading train-images-idx3-ubyte.gz...9%"
     ]
    },
    {
     "name": "stdout",
     "output_type": "stream",
     "text": [
      "\rDownloading train-images-idx3-ubyte.gz...9%"
     ]
    },
    {
     "name": "stdout",
     "output_type": "stream",
     "text": [
      "\rDownloading train-images-idx3-ubyte.gz...9%"
     ]
    },
    {
     "name": "stdout",
     "output_type": "stream",
     "text": [
      "\rDownloading train-images-idx3-ubyte.gz...9%"
     ]
    },
    {
     "name": "stdout",
     "output_type": "stream",
     "text": [
      "\rDownloading train-images-idx3-ubyte.gz...9%"
     ]
    },
    {
     "name": "stdout",
     "output_type": "stream",
     "text": [
      "\rDownloading train-images-idx3-ubyte.gz...9%"
     ]
    },
    {
     "name": "stdout",
     "output_type": "stream",
     "text": [
      "\rDownloading train-images-idx3-ubyte.gz...9%"
     ]
    },
    {
     "name": "stdout",
     "output_type": "stream",
     "text": [
      "\rDownloading train-images-idx3-ubyte.gz...9%"
     ]
    },
    {
     "name": "stdout",
     "output_type": "stream",
     "text": [
      "\rDownloading train-images-idx3-ubyte.gz...9%"
     ]
    },
    {
     "name": "stdout",
     "output_type": "stream",
     "text": [
      "\rDownloading train-images-idx3-ubyte.gz...9%"
     ]
    },
    {
     "name": "stdout",
     "output_type": "stream",
     "text": [
      "\rDownloading train-images-idx3-ubyte.gz...9%"
     ]
    },
    {
     "name": "stdout",
     "output_type": "stream",
     "text": [
      "\rDownloading train-images-idx3-ubyte.gz...9%"
     ]
    },
    {
     "name": "stdout",
     "output_type": "stream",
     "text": [
      "\rDownloading train-images-idx3-ubyte.gz...10%"
     ]
    },
    {
     "name": "stdout",
     "output_type": "stream",
     "text": [
      "\rDownloading train-images-idx3-ubyte.gz...10%"
     ]
    },
    {
     "name": "stdout",
     "output_type": "stream",
     "text": [
      "\rDownloading train-images-idx3-ubyte.gz...10%"
     ]
    },
    {
     "name": "stdout",
     "output_type": "stream",
     "text": [
      "\rDownloading train-images-idx3-ubyte.gz...10%"
     ]
    },
    {
     "name": "stdout",
     "output_type": "stream",
     "text": [
      "\rDownloading train-images-idx3-ubyte.gz...10%"
     ]
    },
    {
     "name": "stdout",
     "output_type": "stream",
     "text": [
      "\rDownloading train-images-idx3-ubyte.gz...10%"
     ]
    },
    {
     "name": "stdout",
     "output_type": "stream",
     "text": [
      "\rDownloading train-images-idx3-ubyte.gz...10%"
     ]
    },
    {
     "name": "stdout",
     "output_type": "stream",
     "text": [
      "\rDownloading train-images-idx3-ubyte.gz...10%"
     ]
    },
    {
     "name": "stdout",
     "output_type": "stream",
     "text": [
      "\rDownloading train-images-idx3-ubyte.gz...10%"
     ]
    },
    {
     "name": "stdout",
     "output_type": "stream",
     "text": [
      "\rDownloading train-images-idx3-ubyte.gz...10%"
     ]
    },
    {
     "name": "stdout",
     "output_type": "stream",
     "text": [
      "\rDownloading train-images-idx3-ubyte.gz...10%"
     ]
    },
    {
     "name": "stdout",
     "output_type": "stream",
     "text": [
      "\rDownloading train-images-idx3-ubyte.gz...10%"
     ]
    },
    {
     "name": "stdout",
     "output_type": "stream",
     "text": [
      "\rDownloading train-images-idx3-ubyte.gz...11%"
     ]
    },
    {
     "name": "stdout",
     "output_type": "stream",
     "text": [
      "\rDownloading train-images-idx3-ubyte.gz...11%"
     ]
    },
    {
     "name": "stdout",
     "output_type": "stream",
     "text": [
      "\rDownloading train-images-idx3-ubyte.gz...11%"
     ]
    },
    {
     "name": "stdout",
     "output_type": "stream",
     "text": [
      "\rDownloading train-images-idx3-ubyte.gz...11%"
     ]
    },
    {
     "name": "stdout",
     "output_type": "stream",
     "text": [
      "\rDownloading train-images-idx3-ubyte.gz...11%"
     ]
    },
    {
     "name": "stdout",
     "output_type": "stream",
     "text": [
      "\rDownloading train-images-idx3-ubyte.gz...11%"
     ]
    },
    {
     "name": "stdout",
     "output_type": "stream",
     "text": [
      "\rDownloading train-images-idx3-ubyte.gz...11%"
     ]
    },
    {
     "name": "stdout",
     "output_type": "stream",
     "text": [
      "\rDownloading train-images-idx3-ubyte.gz...11%"
     ]
    },
    {
     "name": "stdout",
     "output_type": "stream",
     "text": [
      "\rDownloading train-images-idx3-ubyte.gz...11%"
     ]
    },
    {
     "name": "stdout",
     "output_type": "stream",
     "text": [
      "\rDownloading train-images-idx3-ubyte.gz...11%"
     ]
    },
    {
     "name": "stdout",
     "output_type": "stream",
     "text": [
      "\rDownloading train-images-idx3-ubyte.gz...11%"
     ]
    },
    {
     "name": "stdout",
     "output_type": "stream",
     "text": [
      "\rDownloading train-images-idx3-ubyte.gz...11%"
     ]
    },
    {
     "name": "stdout",
     "output_type": "stream",
     "text": [
      "\rDownloading train-images-idx3-ubyte.gz...12%"
     ]
    },
    {
     "name": "stdout",
     "output_type": "stream",
     "text": [
      "\rDownloading train-images-idx3-ubyte.gz...12%"
     ]
    },
    {
     "name": "stdout",
     "output_type": "stream",
     "text": [
      "\rDownloading train-images-idx3-ubyte.gz...12%"
     ]
    },
    {
     "name": "stdout",
     "output_type": "stream",
     "text": [
      "\rDownloading train-images-idx3-ubyte.gz...12%"
     ]
    },
    {
     "name": "stdout",
     "output_type": "stream",
     "text": [
      "\rDownloading train-images-idx3-ubyte.gz...12%"
     ]
    },
    {
     "name": "stdout",
     "output_type": "stream",
     "text": [
      "\rDownloading train-images-idx3-ubyte.gz...12%"
     ]
    },
    {
     "name": "stdout",
     "output_type": "stream",
     "text": [
      "\rDownloading train-images-idx3-ubyte.gz...12%"
     ]
    },
    {
     "name": "stdout",
     "output_type": "stream",
     "text": [
      "\rDownloading train-images-idx3-ubyte.gz...12%"
     ]
    },
    {
     "name": "stdout",
     "output_type": "stream",
     "text": [
      "\rDownloading train-images-idx3-ubyte.gz...12%"
     ]
    },
    {
     "name": "stdout",
     "output_type": "stream",
     "text": [
      "\rDownloading train-images-idx3-ubyte.gz...12%"
     ]
    },
    {
     "name": "stdout",
     "output_type": "stream",
     "text": [
      "\rDownloading train-images-idx3-ubyte.gz...12%"
     ]
    },
    {
     "name": "stdout",
     "output_type": "stream",
     "text": [
      "\rDownloading train-images-idx3-ubyte.gz...12%"
     ]
    },
    {
     "name": "stdout",
     "output_type": "stream",
     "text": [
      "\rDownloading train-images-idx3-ubyte.gz...13%"
     ]
    },
    {
     "name": "stdout",
     "output_type": "stream",
     "text": [
      "\rDownloading train-images-idx3-ubyte.gz...13%"
     ]
    },
    {
     "name": "stdout",
     "output_type": "stream",
     "text": [
      "\rDownloading train-images-idx3-ubyte.gz...13%"
     ]
    },
    {
     "name": "stdout",
     "output_type": "stream",
     "text": [
      "\rDownloading train-images-idx3-ubyte.gz...13%"
     ]
    },
    {
     "name": "stdout",
     "output_type": "stream",
     "text": [
      "\rDownloading train-images-idx3-ubyte.gz...13%"
     ]
    },
    {
     "name": "stdout",
     "output_type": "stream",
     "text": [
      "\rDownloading train-images-idx3-ubyte.gz...13%"
     ]
    },
    {
     "name": "stdout",
     "output_type": "stream",
     "text": [
      "\rDownloading train-images-idx3-ubyte.gz...13%"
     ]
    },
    {
     "name": "stdout",
     "output_type": "stream",
     "text": [
      "\rDownloading train-images-idx3-ubyte.gz...13%"
     ]
    },
    {
     "name": "stdout",
     "output_type": "stream",
     "text": [
      "\rDownloading train-images-idx3-ubyte.gz...13%"
     ]
    },
    {
     "name": "stdout",
     "output_type": "stream",
     "text": [
      "\rDownloading train-images-idx3-ubyte.gz...13%"
     ]
    },
    {
     "name": "stdout",
     "output_type": "stream",
     "text": [
      "\rDownloading train-images-idx3-ubyte.gz...13%"
     ]
    },
    {
     "name": "stdout",
     "output_type": "stream",
     "text": [
      "\rDownloading train-images-idx3-ubyte.gz...13%"
     ]
    },
    {
     "name": "stdout",
     "output_type": "stream",
     "text": [
      "\rDownloading train-images-idx3-ubyte.gz...14%"
     ]
    },
    {
     "name": "stdout",
     "output_type": "stream",
     "text": [
      "\rDownloading train-images-idx3-ubyte.gz...14%"
     ]
    },
    {
     "name": "stdout",
     "output_type": "stream",
     "text": [
      "\rDownloading train-images-idx3-ubyte.gz...14%"
     ]
    },
    {
     "name": "stdout",
     "output_type": "stream",
     "text": [
      "\rDownloading train-images-idx3-ubyte.gz...14%"
     ]
    },
    {
     "name": "stdout",
     "output_type": "stream",
     "text": [
      "\rDownloading train-images-idx3-ubyte.gz...14%"
     ]
    },
    {
     "name": "stdout",
     "output_type": "stream",
     "text": [
      "\rDownloading train-images-idx3-ubyte.gz...14%"
     ]
    },
    {
     "name": "stdout",
     "output_type": "stream",
     "text": [
      "\rDownloading train-images-idx3-ubyte.gz...14%"
     ]
    },
    {
     "name": "stdout",
     "output_type": "stream",
     "text": [
      "\rDownloading train-images-idx3-ubyte.gz...14%"
     ]
    },
    {
     "name": "stdout",
     "output_type": "stream",
     "text": [
      "\rDownloading train-images-idx3-ubyte.gz...14%"
     ]
    },
    {
     "name": "stdout",
     "output_type": "stream",
     "text": [
      "\rDownloading train-images-idx3-ubyte.gz...14%"
     ]
    },
    {
     "name": "stdout",
     "output_type": "stream",
     "text": [
      "\rDownloading train-images-idx3-ubyte.gz...14%"
     ]
    },
    {
     "name": "stdout",
     "output_type": "stream",
     "text": [
      "\rDownloading train-images-idx3-ubyte.gz...14%"
     ]
    },
    {
     "name": "stdout",
     "output_type": "stream",
     "text": [
      "\rDownloading train-images-idx3-ubyte.gz...15%"
     ]
    },
    {
     "name": "stdout",
     "output_type": "stream",
     "text": [
      "\rDownloading train-images-idx3-ubyte.gz...15%"
     ]
    },
    {
     "name": "stdout",
     "output_type": "stream",
     "text": [
      "\rDownloading train-images-idx3-ubyte.gz...15%"
     ]
    },
    {
     "name": "stdout",
     "output_type": "stream",
     "text": [
      "\rDownloading train-images-idx3-ubyte.gz...15%"
     ]
    },
    {
     "name": "stdout",
     "output_type": "stream",
     "text": [
      "\rDownloading train-images-idx3-ubyte.gz...15%"
     ]
    },
    {
     "name": "stdout",
     "output_type": "stream",
     "text": [
      "\rDownloading train-images-idx3-ubyte.gz...15%"
     ]
    },
    {
     "name": "stdout",
     "output_type": "stream",
     "text": [
      "\rDownloading train-images-idx3-ubyte.gz...15%"
     ]
    },
    {
     "name": "stdout",
     "output_type": "stream",
     "text": [
      "\rDownloading train-images-idx3-ubyte.gz...15%"
     ]
    },
    {
     "name": "stdout",
     "output_type": "stream",
     "text": [
      "\rDownloading train-images-idx3-ubyte.gz...15%"
     ]
    },
    {
     "name": "stdout",
     "output_type": "stream",
     "text": [
      "\rDownloading train-images-idx3-ubyte.gz...15%"
     ]
    },
    {
     "name": "stdout",
     "output_type": "stream",
     "text": [
      "\rDownloading train-images-idx3-ubyte.gz...15%"
     ]
    },
    {
     "name": "stdout",
     "output_type": "stream",
     "text": [
      "\rDownloading train-images-idx3-ubyte.gz...15%"
     ]
    },
    {
     "name": "stdout",
     "output_type": "stream",
     "text": [
      "\rDownloading train-images-idx3-ubyte.gz...16%"
     ]
    },
    {
     "name": "stdout",
     "output_type": "stream",
     "text": [
      "\rDownloading train-images-idx3-ubyte.gz...16%"
     ]
    },
    {
     "name": "stdout",
     "output_type": "stream",
     "text": [
      "\rDownloading train-images-idx3-ubyte.gz...16%"
     ]
    },
    {
     "name": "stdout",
     "output_type": "stream",
     "text": [
      "\rDownloading train-images-idx3-ubyte.gz...16%"
     ]
    },
    {
     "name": "stdout",
     "output_type": "stream",
     "text": [
      "\rDownloading train-images-idx3-ubyte.gz...16%"
     ]
    },
    {
     "name": "stdout",
     "output_type": "stream",
     "text": [
      "\rDownloading train-images-idx3-ubyte.gz...16%"
     ]
    },
    {
     "name": "stdout",
     "output_type": "stream",
     "text": [
      "\rDownloading train-images-idx3-ubyte.gz...16%"
     ]
    },
    {
     "name": "stdout",
     "output_type": "stream",
     "text": [
      "\rDownloading train-images-idx3-ubyte.gz...16%"
     ]
    },
    {
     "name": "stdout",
     "output_type": "stream",
     "text": [
      "\rDownloading train-images-idx3-ubyte.gz...16%"
     ]
    },
    {
     "name": "stdout",
     "output_type": "stream",
     "text": [
      "\rDownloading train-images-idx3-ubyte.gz...16%"
     ]
    },
    {
     "name": "stdout",
     "output_type": "stream",
     "text": [
      "\rDownloading train-images-idx3-ubyte.gz...16%"
     ]
    },
    {
     "name": "stdout",
     "output_type": "stream",
     "text": [
      "\rDownloading train-images-idx3-ubyte.gz...16%"
     ]
    },
    {
     "name": "stdout",
     "output_type": "stream",
     "text": [
      "\rDownloading train-images-idx3-ubyte.gz...17%"
     ]
    },
    {
     "name": "stdout",
     "output_type": "stream",
     "text": [
      "\rDownloading train-images-idx3-ubyte.gz...17%"
     ]
    },
    {
     "name": "stdout",
     "output_type": "stream",
     "text": [
      "\rDownloading train-images-idx3-ubyte.gz...17%"
     ]
    },
    {
     "name": "stdout",
     "output_type": "stream",
     "text": [
      "\rDownloading train-images-idx3-ubyte.gz...17%"
     ]
    },
    {
     "name": "stdout",
     "output_type": "stream",
     "text": [
      "\rDownloading train-images-idx3-ubyte.gz...17%"
     ]
    },
    {
     "name": "stdout",
     "output_type": "stream",
     "text": [
      "\rDownloading train-images-idx3-ubyte.gz...17%"
     ]
    },
    {
     "name": "stdout",
     "output_type": "stream",
     "text": [
      "\rDownloading train-images-idx3-ubyte.gz...17%"
     ]
    },
    {
     "name": "stdout",
     "output_type": "stream",
     "text": [
      "\rDownloading train-images-idx3-ubyte.gz...17%"
     ]
    },
    {
     "name": "stdout",
     "output_type": "stream",
     "text": [
      "\rDownloading train-images-idx3-ubyte.gz...17%"
     ]
    },
    {
     "name": "stdout",
     "output_type": "stream",
     "text": [
      "\rDownloading train-images-idx3-ubyte.gz...17%"
     ]
    },
    {
     "name": "stdout",
     "output_type": "stream",
     "text": [
      "\rDownloading train-images-idx3-ubyte.gz...17%"
     ]
    },
    {
     "name": "stdout",
     "output_type": "stream",
     "text": [
      "\rDownloading train-images-idx3-ubyte.gz...17%"
     ]
    },
    {
     "name": "stdout",
     "output_type": "stream",
     "text": [
      "\rDownloading train-images-idx3-ubyte.gz...18%"
     ]
    },
    {
     "name": "stdout",
     "output_type": "stream",
     "text": [
      "\rDownloading train-images-idx3-ubyte.gz...18%"
     ]
    },
    {
     "name": "stdout",
     "output_type": "stream",
     "text": [
      "\rDownloading train-images-idx3-ubyte.gz...18%"
     ]
    },
    {
     "name": "stdout",
     "output_type": "stream",
     "text": [
      "\rDownloading train-images-idx3-ubyte.gz...18%"
     ]
    },
    {
     "name": "stdout",
     "output_type": "stream",
     "text": [
      "\rDownloading train-images-idx3-ubyte.gz...18%"
     ]
    },
    {
     "name": "stdout",
     "output_type": "stream",
     "text": [
      "\rDownloading train-images-idx3-ubyte.gz...18%"
     ]
    },
    {
     "name": "stdout",
     "output_type": "stream",
     "text": [
      "\rDownloading train-images-idx3-ubyte.gz...18%"
     ]
    },
    {
     "name": "stdout",
     "output_type": "stream",
     "text": [
      "\rDownloading train-images-idx3-ubyte.gz...18%"
     ]
    },
    {
     "name": "stdout",
     "output_type": "stream",
     "text": [
      "\rDownloading train-images-idx3-ubyte.gz...18%"
     ]
    },
    {
     "name": "stdout",
     "output_type": "stream",
     "text": [
      "\rDownloading train-images-idx3-ubyte.gz...18%"
     ]
    },
    {
     "name": "stdout",
     "output_type": "stream",
     "text": [
      "\rDownloading train-images-idx3-ubyte.gz...18%"
     ]
    },
    {
     "name": "stdout",
     "output_type": "stream",
     "text": [
      "\rDownloading train-images-idx3-ubyte.gz...18%"
     ]
    },
    {
     "name": "stdout",
     "output_type": "stream",
     "text": [
      "\rDownloading train-images-idx3-ubyte.gz...19%"
     ]
    },
    {
     "name": "stdout",
     "output_type": "stream",
     "text": [
      "\rDownloading train-images-idx3-ubyte.gz...19%"
     ]
    },
    {
     "name": "stdout",
     "output_type": "stream",
     "text": [
      "\rDownloading train-images-idx3-ubyte.gz...19%"
     ]
    },
    {
     "name": "stdout",
     "output_type": "stream",
     "text": [
      "\rDownloading train-images-idx3-ubyte.gz...19%"
     ]
    },
    {
     "name": "stdout",
     "output_type": "stream",
     "text": [
      "\rDownloading train-images-idx3-ubyte.gz...19%"
     ]
    },
    {
     "name": "stdout",
     "output_type": "stream",
     "text": [
      "\rDownloading train-images-idx3-ubyte.gz...19%"
     ]
    },
    {
     "name": "stdout",
     "output_type": "stream",
     "text": [
      "\rDownloading train-images-idx3-ubyte.gz...19%"
     ]
    },
    {
     "name": "stdout",
     "output_type": "stream",
     "text": [
      "\rDownloading train-images-idx3-ubyte.gz...19%"
     ]
    },
    {
     "name": "stdout",
     "output_type": "stream",
     "text": [
      "\rDownloading train-images-idx3-ubyte.gz...19%"
     ]
    },
    {
     "name": "stdout",
     "output_type": "stream",
     "text": [
      "\rDownloading train-images-idx3-ubyte.gz...19%"
     ]
    },
    {
     "name": "stdout",
     "output_type": "stream",
     "text": [
      "\rDownloading train-images-idx3-ubyte.gz...19%"
     ]
    },
    {
     "name": "stdout",
     "output_type": "stream",
     "text": [
      "\rDownloading train-images-idx3-ubyte.gz...19%"
     ]
    },
    {
     "name": "stdout",
     "output_type": "stream",
     "text": [
      "\rDownloading train-images-idx3-ubyte.gz...19%"
     ]
    },
    {
     "name": "stdout",
     "output_type": "stream",
     "text": [
      "\rDownloading train-images-idx3-ubyte.gz...20%"
     ]
    },
    {
     "name": "stdout",
     "output_type": "stream",
     "text": [
      "\rDownloading train-images-idx3-ubyte.gz...20%"
     ]
    },
    {
     "name": "stdout",
     "output_type": "stream",
     "text": [
      "\rDownloading train-images-idx3-ubyte.gz...20%"
     ]
    },
    {
     "name": "stdout",
     "output_type": "stream",
     "text": [
      "\rDownloading train-images-idx3-ubyte.gz...20%"
     ]
    },
    {
     "name": "stdout",
     "output_type": "stream",
     "text": [
      "\rDownloading train-images-idx3-ubyte.gz...20%"
     ]
    },
    {
     "name": "stdout",
     "output_type": "stream",
     "text": [
      "\rDownloading train-images-idx3-ubyte.gz...20%"
     ]
    },
    {
     "name": "stdout",
     "output_type": "stream",
     "text": [
      "\rDownloading train-images-idx3-ubyte.gz...20%"
     ]
    },
    {
     "name": "stdout",
     "output_type": "stream",
     "text": [
      "\rDownloading train-images-idx3-ubyte.gz...20%"
     ]
    },
    {
     "name": "stdout",
     "output_type": "stream",
     "text": [
      "\rDownloading train-images-idx3-ubyte.gz...20%"
     ]
    },
    {
     "name": "stdout",
     "output_type": "stream",
     "text": [
      "\rDownloading train-images-idx3-ubyte.gz...20%"
     ]
    },
    {
     "name": "stdout",
     "output_type": "stream",
     "text": [
      "\rDownloading train-images-idx3-ubyte.gz...20%"
     ]
    },
    {
     "name": "stdout",
     "output_type": "stream",
     "text": [
      "\rDownloading train-images-idx3-ubyte.gz...20%"
     ]
    },
    {
     "name": "stdout",
     "output_type": "stream",
     "text": [
      "\rDownloading train-images-idx3-ubyte.gz...21%"
     ]
    },
    {
     "name": "stdout",
     "output_type": "stream",
     "text": [
      "\rDownloading train-images-idx3-ubyte.gz...21%"
     ]
    },
    {
     "name": "stdout",
     "output_type": "stream",
     "text": [
      "\rDownloading train-images-idx3-ubyte.gz...21%"
     ]
    },
    {
     "name": "stdout",
     "output_type": "stream",
     "text": [
      "\rDownloading train-images-idx3-ubyte.gz...21%"
     ]
    },
    {
     "name": "stdout",
     "output_type": "stream",
     "text": [
      "\rDownloading train-images-idx3-ubyte.gz...21%"
     ]
    },
    {
     "name": "stdout",
     "output_type": "stream",
     "text": [
      "\rDownloading train-images-idx3-ubyte.gz...21%"
     ]
    },
    {
     "name": "stdout",
     "output_type": "stream",
     "text": [
      "\rDownloading train-images-idx3-ubyte.gz...21%"
     ]
    },
    {
     "name": "stdout",
     "output_type": "stream",
     "text": [
      "\rDownloading train-images-idx3-ubyte.gz...21%"
     ]
    },
    {
     "name": "stdout",
     "output_type": "stream",
     "text": [
      "\rDownloading train-images-idx3-ubyte.gz...21%"
     ]
    },
    {
     "name": "stdout",
     "output_type": "stream",
     "text": [
      "\rDownloading train-images-idx3-ubyte.gz...21%"
     ]
    },
    {
     "name": "stdout",
     "output_type": "stream",
     "text": [
      "\rDownloading train-images-idx3-ubyte.gz...21%"
     ]
    },
    {
     "name": "stdout",
     "output_type": "stream",
     "text": [
      "\rDownloading train-images-idx3-ubyte.gz...21%"
     ]
    },
    {
     "name": "stdout",
     "output_type": "stream",
     "text": [
      "\rDownloading train-images-idx3-ubyte.gz...22%"
     ]
    },
    {
     "name": "stdout",
     "output_type": "stream",
     "text": [
      "\rDownloading train-images-idx3-ubyte.gz...22%"
     ]
    },
    {
     "name": "stdout",
     "output_type": "stream",
     "text": [
      "\rDownloading train-images-idx3-ubyte.gz...22%"
     ]
    },
    {
     "name": "stdout",
     "output_type": "stream",
     "text": [
      "\rDownloading train-images-idx3-ubyte.gz...22%"
     ]
    },
    {
     "name": "stdout",
     "output_type": "stream",
     "text": [
      "\rDownloading train-images-idx3-ubyte.gz...22%"
     ]
    },
    {
     "name": "stdout",
     "output_type": "stream",
     "text": [
      "\rDownloading train-images-idx3-ubyte.gz...22%"
     ]
    },
    {
     "name": "stdout",
     "output_type": "stream",
     "text": [
      "\rDownloading train-images-idx3-ubyte.gz...22%"
     ]
    },
    {
     "name": "stdout",
     "output_type": "stream",
     "text": [
      "\rDownloading train-images-idx3-ubyte.gz...22%"
     ]
    },
    {
     "name": "stdout",
     "output_type": "stream",
     "text": [
      "\rDownloading train-images-idx3-ubyte.gz...22%"
     ]
    },
    {
     "name": "stdout",
     "output_type": "stream",
     "text": [
      "\rDownloading train-images-idx3-ubyte.gz...22%"
     ]
    },
    {
     "name": "stdout",
     "output_type": "stream",
     "text": [
      "\rDownloading train-images-idx3-ubyte.gz...22%"
     ]
    },
    {
     "name": "stdout",
     "output_type": "stream",
     "text": [
      "\rDownloading train-images-idx3-ubyte.gz...22%"
     ]
    },
    {
     "name": "stdout",
     "output_type": "stream",
     "text": [
      "\rDownloading train-images-idx3-ubyte.gz...23%"
     ]
    },
    {
     "name": "stdout",
     "output_type": "stream",
     "text": [
      "\rDownloading train-images-idx3-ubyte.gz...23%"
     ]
    },
    {
     "name": "stdout",
     "output_type": "stream",
     "text": [
      "\rDownloading train-images-idx3-ubyte.gz...23%"
     ]
    },
    {
     "name": "stdout",
     "output_type": "stream",
     "text": [
      "\rDownloading train-images-idx3-ubyte.gz...23%"
     ]
    },
    {
     "name": "stdout",
     "output_type": "stream",
     "text": [
      "\rDownloading train-images-idx3-ubyte.gz...23%"
     ]
    },
    {
     "name": "stdout",
     "output_type": "stream",
     "text": [
      "\rDownloading train-images-idx3-ubyte.gz...23%"
     ]
    },
    {
     "name": "stdout",
     "output_type": "stream",
     "text": [
      "\rDownloading train-images-idx3-ubyte.gz...23%"
     ]
    },
    {
     "name": "stdout",
     "output_type": "stream",
     "text": [
      "\rDownloading train-images-idx3-ubyte.gz...23%"
     ]
    },
    {
     "name": "stdout",
     "output_type": "stream",
     "text": [
      "\rDownloading train-images-idx3-ubyte.gz...23%"
     ]
    },
    {
     "name": "stdout",
     "output_type": "stream",
     "text": [
      "\rDownloading train-images-idx3-ubyte.gz...23%"
     ]
    },
    {
     "name": "stdout",
     "output_type": "stream",
     "text": [
      "\rDownloading train-images-idx3-ubyte.gz...23%"
     ]
    },
    {
     "name": "stdout",
     "output_type": "stream",
     "text": [
      "\rDownloading train-images-idx3-ubyte.gz...23%"
     ]
    },
    {
     "name": "stdout",
     "output_type": "stream",
     "text": [
      "\rDownloading train-images-idx3-ubyte.gz...24%"
     ]
    },
    {
     "name": "stdout",
     "output_type": "stream",
     "text": [
      "\rDownloading train-images-idx3-ubyte.gz...24%"
     ]
    },
    {
     "name": "stdout",
     "output_type": "stream",
     "text": [
      "\rDownloading train-images-idx3-ubyte.gz...24%"
     ]
    },
    {
     "name": "stdout",
     "output_type": "stream",
     "text": [
      "\rDownloading train-images-idx3-ubyte.gz...24%"
     ]
    },
    {
     "name": "stdout",
     "output_type": "stream",
     "text": [
      "\rDownloading train-images-idx3-ubyte.gz...24%"
     ]
    },
    {
     "name": "stdout",
     "output_type": "stream",
     "text": [
      "\rDownloading train-images-idx3-ubyte.gz...24%"
     ]
    },
    {
     "name": "stdout",
     "output_type": "stream",
     "text": [
      "\rDownloading train-images-idx3-ubyte.gz...24%"
     ]
    },
    {
     "name": "stdout",
     "output_type": "stream",
     "text": [
      "\rDownloading train-images-idx3-ubyte.gz...24%"
     ]
    },
    {
     "name": "stdout",
     "output_type": "stream",
     "text": [
      "\rDownloading train-images-idx3-ubyte.gz...24%"
     ]
    },
    {
     "name": "stdout",
     "output_type": "stream",
     "text": [
      "\rDownloading train-images-idx3-ubyte.gz...24%"
     ]
    },
    {
     "name": "stdout",
     "output_type": "stream",
     "text": [
      "\rDownloading train-images-idx3-ubyte.gz...24%"
     ]
    },
    {
     "name": "stdout",
     "output_type": "stream",
     "text": [
      "\rDownloading train-images-idx3-ubyte.gz...24%"
     ]
    },
    {
     "name": "stdout",
     "output_type": "stream",
     "text": [
      "\rDownloading train-images-idx3-ubyte.gz...25%"
     ]
    },
    {
     "name": "stdout",
     "output_type": "stream",
     "text": [
      "\rDownloading train-images-idx3-ubyte.gz...25%"
     ]
    },
    {
     "name": "stdout",
     "output_type": "stream",
     "text": [
      "\rDownloading train-images-idx3-ubyte.gz...25%"
     ]
    },
    {
     "name": "stdout",
     "output_type": "stream",
     "text": [
      "\rDownloading train-images-idx3-ubyte.gz...25%"
     ]
    },
    {
     "name": "stdout",
     "output_type": "stream",
     "text": [
      "\rDownloading train-images-idx3-ubyte.gz...25%"
     ]
    },
    {
     "name": "stdout",
     "output_type": "stream",
     "text": [
      "\rDownloading train-images-idx3-ubyte.gz...25%"
     ]
    },
    {
     "name": "stdout",
     "output_type": "stream",
     "text": [
      "\rDownloading train-images-idx3-ubyte.gz...25%"
     ]
    },
    {
     "name": "stdout",
     "output_type": "stream",
     "text": [
      "\rDownloading train-images-idx3-ubyte.gz...25%"
     ]
    },
    {
     "name": "stdout",
     "output_type": "stream",
     "text": [
      "\rDownloading train-images-idx3-ubyte.gz...25%"
     ]
    },
    {
     "name": "stdout",
     "output_type": "stream",
     "text": [
      "\rDownloading train-images-idx3-ubyte.gz...25%"
     ]
    },
    {
     "name": "stdout",
     "output_type": "stream",
     "text": [
      "\rDownloading train-images-idx3-ubyte.gz...25%"
     ]
    },
    {
     "name": "stdout",
     "output_type": "stream",
     "text": [
      "\rDownloading train-images-idx3-ubyte.gz...25%"
     ]
    },
    {
     "name": "stdout",
     "output_type": "stream",
     "text": [
      "\rDownloading train-images-idx3-ubyte.gz...26%"
     ]
    },
    {
     "name": "stdout",
     "output_type": "stream",
     "text": [
      "\rDownloading train-images-idx3-ubyte.gz...26%"
     ]
    },
    {
     "name": "stdout",
     "output_type": "stream",
     "text": [
      "\rDownloading train-images-idx3-ubyte.gz...26%"
     ]
    },
    {
     "name": "stdout",
     "output_type": "stream",
     "text": [
      "\rDownloading train-images-idx3-ubyte.gz...26%"
     ]
    },
    {
     "name": "stdout",
     "output_type": "stream",
     "text": [
      "\rDownloading train-images-idx3-ubyte.gz...26%"
     ]
    },
    {
     "name": "stdout",
     "output_type": "stream",
     "text": [
      "\rDownloading train-images-idx3-ubyte.gz...26%"
     ]
    },
    {
     "name": "stdout",
     "output_type": "stream",
     "text": [
      "\rDownloading train-images-idx3-ubyte.gz...26%"
     ]
    },
    {
     "name": "stdout",
     "output_type": "stream",
     "text": [
      "\rDownloading train-images-idx3-ubyte.gz...26%"
     ]
    },
    {
     "name": "stdout",
     "output_type": "stream",
     "text": [
      "\rDownloading train-images-idx3-ubyte.gz...26%"
     ]
    },
    {
     "name": "stdout",
     "output_type": "stream",
     "text": [
      "\rDownloading train-images-idx3-ubyte.gz...26%"
     ]
    },
    {
     "name": "stdout",
     "output_type": "stream",
     "text": [
      "\rDownloading train-images-idx3-ubyte.gz...26%"
     ]
    },
    {
     "name": "stdout",
     "output_type": "stream",
     "text": [
      "\rDownloading train-images-idx3-ubyte.gz...26%"
     ]
    },
    {
     "name": "stdout",
     "output_type": "stream",
     "text": [
      "\rDownloading train-images-idx3-ubyte.gz...27%"
     ]
    },
    {
     "name": "stdout",
     "output_type": "stream",
     "text": [
      "\rDownloading train-images-idx3-ubyte.gz...27%"
     ]
    },
    {
     "name": "stdout",
     "output_type": "stream",
     "text": [
      "\rDownloading train-images-idx3-ubyte.gz...27%"
     ]
    },
    {
     "name": "stdout",
     "output_type": "stream",
     "text": [
      "\rDownloading train-images-idx3-ubyte.gz...27%"
     ]
    },
    {
     "name": "stdout",
     "output_type": "stream",
     "text": [
      "\rDownloading train-images-idx3-ubyte.gz...27%"
     ]
    },
    {
     "name": "stdout",
     "output_type": "stream",
     "text": [
      "\rDownloading train-images-idx3-ubyte.gz...27%"
     ]
    },
    {
     "name": "stdout",
     "output_type": "stream",
     "text": [
      "\rDownloading train-images-idx3-ubyte.gz...27%"
     ]
    },
    {
     "name": "stdout",
     "output_type": "stream",
     "text": [
      "\rDownloading train-images-idx3-ubyte.gz...27%"
     ]
    },
    {
     "name": "stdout",
     "output_type": "stream",
     "text": [
      "\rDownloading train-images-idx3-ubyte.gz...27%"
     ]
    },
    {
     "name": "stdout",
     "output_type": "stream",
     "text": [
      "\rDownloading train-images-idx3-ubyte.gz...27%"
     ]
    },
    {
     "name": "stdout",
     "output_type": "stream",
     "text": [
      "\rDownloading train-images-idx3-ubyte.gz...27%"
     ]
    },
    {
     "name": "stdout",
     "output_type": "stream",
     "text": [
      "\rDownloading train-images-idx3-ubyte.gz...27%"
     ]
    },
    {
     "name": "stdout",
     "output_type": "stream",
     "text": [
      "\rDownloading train-images-idx3-ubyte.gz...28%"
     ]
    },
    {
     "name": "stdout",
     "output_type": "stream",
     "text": [
      "\rDownloading train-images-idx3-ubyte.gz...28%"
     ]
    },
    {
     "name": "stdout",
     "output_type": "stream",
     "text": [
      "\rDownloading train-images-idx3-ubyte.gz...28%"
     ]
    },
    {
     "name": "stdout",
     "output_type": "stream",
     "text": [
      "\rDownloading train-images-idx3-ubyte.gz...28%"
     ]
    },
    {
     "name": "stdout",
     "output_type": "stream",
     "text": [
      "\rDownloading train-images-idx3-ubyte.gz...28%"
     ]
    },
    {
     "name": "stdout",
     "output_type": "stream",
     "text": [
      "\rDownloading train-images-idx3-ubyte.gz...28%"
     ]
    },
    {
     "name": "stdout",
     "output_type": "stream",
     "text": [
      "\rDownloading train-images-idx3-ubyte.gz...28%"
     ]
    },
    {
     "name": "stdout",
     "output_type": "stream",
     "text": [
      "\rDownloading train-images-idx3-ubyte.gz...28%"
     ]
    },
    {
     "name": "stdout",
     "output_type": "stream",
     "text": [
      "\rDownloading train-images-idx3-ubyte.gz...28%"
     ]
    },
    {
     "name": "stdout",
     "output_type": "stream",
     "text": [
      "\rDownloading train-images-idx3-ubyte.gz...28%"
     ]
    },
    {
     "name": "stdout",
     "output_type": "stream",
     "text": [
      "\rDownloading train-images-idx3-ubyte.gz...28%"
     ]
    },
    {
     "name": "stdout",
     "output_type": "stream",
     "text": [
      "\rDownloading train-images-idx3-ubyte.gz...28%"
     ]
    },
    {
     "name": "stdout",
     "output_type": "stream",
     "text": [
      "\rDownloading train-images-idx3-ubyte.gz...29%"
     ]
    },
    {
     "name": "stdout",
     "output_type": "stream",
     "text": [
      "\rDownloading train-images-idx3-ubyte.gz...29%"
     ]
    },
    {
     "name": "stdout",
     "output_type": "stream",
     "text": [
      "\rDownloading train-images-idx3-ubyte.gz...29%"
     ]
    },
    {
     "name": "stdout",
     "output_type": "stream",
     "text": [
      "\rDownloading train-images-idx3-ubyte.gz...29%"
     ]
    },
    {
     "name": "stdout",
     "output_type": "stream",
     "text": [
      "\rDownloading train-images-idx3-ubyte.gz...29%"
     ]
    },
    {
     "name": "stdout",
     "output_type": "stream",
     "text": [
      "\rDownloading train-images-idx3-ubyte.gz...29%"
     ]
    },
    {
     "name": "stdout",
     "output_type": "stream",
     "text": [
      "\rDownloading train-images-idx3-ubyte.gz...29%"
     ]
    },
    {
     "name": "stdout",
     "output_type": "stream",
     "text": [
      "\rDownloading train-images-idx3-ubyte.gz...29%"
     ]
    },
    {
     "name": "stdout",
     "output_type": "stream",
     "text": [
      "\rDownloading train-images-idx3-ubyte.gz...29%"
     ]
    },
    {
     "name": "stdout",
     "output_type": "stream",
     "text": [
      "\rDownloading train-images-idx3-ubyte.gz...29%"
     ]
    },
    {
     "name": "stdout",
     "output_type": "stream",
     "text": [
      "\rDownloading train-images-idx3-ubyte.gz...29%"
     ]
    },
    {
     "name": "stdout",
     "output_type": "stream",
     "text": [
      "\rDownloading train-images-idx3-ubyte.gz...29%"
     ]
    },
    {
     "name": "stdout",
     "output_type": "stream",
     "text": [
      "\rDownloading train-images-idx3-ubyte.gz...29%"
     ]
    },
    {
     "name": "stdout",
     "output_type": "stream",
     "text": [
      "\rDownloading train-images-idx3-ubyte.gz...30%"
     ]
    },
    {
     "name": "stdout",
     "output_type": "stream",
     "text": [
      "\rDownloading train-images-idx3-ubyte.gz...30%"
     ]
    },
    {
     "name": "stdout",
     "output_type": "stream",
     "text": [
      "\rDownloading train-images-idx3-ubyte.gz...30%"
     ]
    },
    {
     "name": "stdout",
     "output_type": "stream",
     "text": [
      "\rDownloading train-images-idx3-ubyte.gz...30%"
     ]
    },
    {
     "name": "stdout",
     "output_type": "stream",
     "text": [
      "\rDownloading train-images-idx3-ubyte.gz...30%"
     ]
    },
    {
     "name": "stdout",
     "output_type": "stream",
     "text": [
      "\rDownloading train-images-idx3-ubyte.gz...30%"
     ]
    },
    {
     "name": "stdout",
     "output_type": "stream",
     "text": [
      "\rDownloading train-images-idx3-ubyte.gz...30%"
     ]
    },
    {
     "name": "stdout",
     "output_type": "stream",
     "text": [
      "\rDownloading train-images-idx3-ubyte.gz...30%"
     ]
    },
    {
     "name": "stdout",
     "output_type": "stream",
     "text": [
      "\rDownloading train-images-idx3-ubyte.gz...30%"
     ]
    },
    {
     "name": "stdout",
     "output_type": "stream",
     "text": [
      "\rDownloading train-images-idx3-ubyte.gz...30%"
     ]
    },
    {
     "name": "stdout",
     "output_type": "stream",
     "text": [
      "\rDownloading train-images-idx3-ubyte.gz...30%"
     ]
    },
    {
     "name": "stdout",
     "output_type": "stream",
     "text": [
      "\rDownloading train-images-idx3-ubyte.gz...30%"
     ]
    },
    {
     "name": "stdout",
     "output_type": "stream",
     "text": [
      "\rDownloading train-images-idx3-ubyte.gz...31%"
     ]
    },
    {
     "name": "stdout",
     "output_type": "stream",
     "text": [
      "\rDownloading train-images-idx3-ubyte.gz...31%"
     ]
    },
    {
     "name": "stdout",
     "output_type": "stream",
     "text": [
      "\rDownloading train-images-idx3-ubyte.gz...31%"
     ]
    },
    {
     "name": "stdout",
     "output_type": "stream",
     "text": [
      "\rDownloading train-images-idx3-ubyte.gz...31%"
     ]
    },
    {
     "name": "stdout",
     "output_type": "stream",
     "text": [
      "\rDownloading train-images-idx3-ubyte.gz...31%"
     ]
    },
    {
     "name": "stdout",
     "output_type": "stream",
     "text": [
      "\rDownloading train-images-idx3-ubyte.gz...31%"
     ]
    },
    {
     "name": "stdout",
     "output_type": "stream",
     "text": [
      "\rDownloading train-images-idx3-ubyte.gz...31%"
     ]
    },
    {
     "name": "stdout",
     "output_type": "stream",
     "text": [
      "\rDownloading train-images-idx3-ubyte.gz...31%"
     ]
    },
    {
     "name": "stdout",
     "output_type": "stream",
     "text": [
      "\rDownloading train-images-idx3-ubyte.gz...31%"
     ]
    },
    {
     "name": "stdout",
     "output_type": "stream",
     "text": [
      "\rDownloading train-images-idx3-ubyte.gz...31%"
     ]
    },
    {
     "name": "stdout",
     "output_type": "stream",
     "text": [
      "\rDownloading train-images-idx3-ubyte.gz...31%"
     ]
    },
    {
     "name": "stdout",
     "output_type": "stream",
     "text": [
      "\rDownloading train-images-idx3-ubyte.gz...31%"
     ]
    },
    {
     "name": "stdout",
     "output_type": "stream",
     "text": [
      "\rDownloading train-images-idx3-ubyte.gz...32%"
     ]
    },
    {
     "name": "stdout",
     "output_type": "stream",
     "text": [
      "\rDownloading train-images-idx3-ubyte.gz...32%"
     ]
    },
    {
     "name": "stdout",
     "output_type": "stream",
     "text": [
      "\rDownloading train-images-idx3-ubyte.gz...32%"
     ]
    },
    {
     "name": "stdout",
     "output_type": "stream",
     "text": [
      "\rDownloading train-images-idx3-ubyte.gz...32%"
     ]
    },
    {
     "name": "stdout",
     "output_type": "stream",
     "text": [
      "\rDownloading train-images-idx3-ubyte.gz...32%"
     ]
    },
    {
     "name": "stdout",
     "output_type": "stream",
     "text": [
      "\rDownloading train-images-idx3-ubyte.gz...32%"
     ]
    },
    {
     "name": "stdout",
     "output_type": "stream",
     "text": [
      "\rDownloading train-images-idx3-ubyte.gz...32%"
     ]
    },
    {
     "name": "stdout",
     "output_type": "stream",
     "text": [
      "\rDownloading train-images-idx3-ubyte.gz...32%"
     ]
    },
    {
     "name": "stdout",
     "output_type": "stream",
     "text": [
      "\rDownloading train-images-idx3-ubyte.gz...32%"
     ]
    },
    {
     "name": "stdout",
     "output_type": "stream",
     "text": [
      "\rDownloading train-images-idx3-ubyte.gz...32%"
     ]
    },
    {
     "name": "stdout",
     "output_type": "stream",
     "text": [
      "\rDownloading train-images-idx3-ubyte.gz...32%"
     ]
    },
    {
     "name": "stdout",
     "output_type": "stream",
     "text": [
      "\rDownloading train-images-idx3-ubyte.gz...32%"
     ]
    },
    {
     "name": "stdout",
     "output_type": "stream",
     "text": [
      "\rDownloading train-images-idx3-ubyte.gz...33%"
     ]
    },
    {
     "name": "stdout",
     "output_type": "stream",
     "text": [
      "\rDownloading train-images-idx3-ubyte.gz...33%"
     ]
    },
    {
     "name": "stdout",
     "output_type": "stream",
     "text": [
      "\rDownloading train-images-idx3-ubyte.gz...33%"
     ]
    },
    {
     "name": "stdout",
     "output_type": "stream",
     "text": [
      "\rDownloading train-images-idx3-ubyte.gz...33%"
     ]
    },
    {
     "name": "stdout",
     "output_type": "stream",
     "text": [
      "\rDownloading train-images-idx3-ubyte.gz...33%"
     ]
    },
    {
     "name": "stdout",
     "output_type": "stream",
     "text": [
      "\rDownloading train-images-idx3-ubyte.gz...33%"
     ]
    },
    {
     "name": "stdout",
     "output_type": "stream",
     "text": [
      "\rDownloading train-images-idx3-ubyte.gz...33%"
     ]
    },
    {
     "name": "stdout",
     "output_type": "stream",
     "text": [
      "\rDownloading train-images-idx3-ubyte.gz...33%"
     ]
    },
    {
     "name": "stdout",
     "output_type": "stream",
     "text": [
      "\rDownloading train-images-idx3-ubyte.gz...33%"
     ]
    },
    {
     "name": "stdout",
     "output_type": "stream",
     "text": [
      "\rDownloading train-images-idx3-ubyte.gz...33%"
     ]
    },
    {
     "name": "stdout",
     "output_type": "stream",
     "text": [
      "\rDownloading train-images-idx3-ubyte.gz...33%"
     ]
    },
    {
     "name": "stdout",
     "output_type": "stream",
     "text": [
      "\rDownloading train-images-idx3-ubyte.gz...33%"
     ]
    },
    {
     "name": "stdout",
     "output_type": "stream",
     "text": [
      "\rDownloading train-images-idx3-ubyte.gz...34%"
     ]
    },
    {
     "name": "stdout",
     "output_type": "stream",
     "text": [
      "\rDownloading train-images-idx3-ubyte.gz...34%"
     ]
    },
    {
     "name": "stdout",
     "output_type": "stream",
     "text": [
      "\rDownloading train-images-idx3-ubyte.gz...34%"
     ]
    },
    {
     "name": "stdout",
     "output_type": "stream",
     "text": [
      "\rDownloading train-images-idx3-ubyte.gz...34%"
     ]
    },
    {
     "name": "stdout",
     "output_type": "stream",
     "text": [
      "\rDownloading train-images-idx3-ubyte.gz...34%"
     ]
    },
    {
     "name": "stdout",
     "output_type": "stream",
     "text": [
      "\rDownloading train-images-idx3-ubyte.gz...34%"
     ]
    },
    {
     "name": "stdout",
     "output_type": "stream",
     "text": [
      "\rDownloading train-images-idx3-ubyte.gz...34%"
     ]
    },
    {
     "name": "stdout",
     "output_type": "stream",
     "text": [
      "\rDownloading train-images-idx3-ubyte.gz...34%"
     ]
    },
    {
     "name": "stdout",
     "output_type": "stream",
     "text": [
      "\rDownloading train-images-idx3-ubyte.gz...34%"
     ]
    },
    {
     "name": "stdout",
     "output_type": "stream",
     "text": [
      "\rDownloading train-images-idx3-ubyte.gz...34%"
     ]
    },
    {
     "name": "stdout",
     "output_type": "stream",
     "text": [
      "\rDownloading train-images-idx3-ubyte.gz...34%"
     ]
    },
    {
     "name": "stdout",
     "output_type": "stream",
     "text": [
      "\rDownloading train-images-idx3-ubyte.gz...34%"
     ]
    },
    {
     "name": "stdout",
     "output_type": "stream",
     "text": [
      "\rDownloading train-images-idx3-ubyte.gz...35%"
     ]
    },
    {
     "name": "stdout",
     "output_type": "stream",
     "text": [
      "\rDownloading train-images-idx3-ubyte.gz...35%"
     ]
    },
    {
     "name": "stdout",
     "output_type": "stream",
     "text": [
      "\rDownloading train-images-idx3-ubyte.gz...35%"
     ]
    },
    {
     "name": "stdout",
     "output_type": "stream",
     "text": [
      "\rDownloading train-images-idx3-ubyte.gz...35%"
     ]
    },
    {
     "name": "stdout",
     "output_type": "stream",
     "text": [
      "\rDownloading train-images-idx3-ubyte.gz...35%"
     ]
    },
    {
     "name": "stdout",
     "output_type": "stream",
     "text": [
      "\rDownloading train-images-idx3-ubyte.gz...35%"
     ]
    },
    {
     "name": "stdout",
     "output_type": "stream",
     "text": [
      "\rDownloading train-images-idx3-ubyte.gz...35%"
     ]
    },
    {
     "name": "stdout",
     "output_type": "stream",
     "text": [
      "\rDownloading train-images-idx3-ubyte.gz...35%"
     ]
    },
    {
     "name": "stdout",
     "output_type": "stream",
     "text": [
      "\rDownloading train-images-idx3-ubyte.gz...35%"
     ]
    },
    {
     "name": "stdout",
     "output_type": "stream",
     "text": [
      "\rDownloading train-images-idx3-ubyte.gz...35%"
     ]
    },
    {
     "name": "stdout",
     "output_type": "stream",
     "text": [
      "\rDownloading train-images-idx3-ubyte.gz...35%"
     ]
    },
    {
     "name": "stdout",
     "output_type": "stream",
     "text": [
      "\rDownloading train-images-idx3-ubyte.gz...35%"
     ]
    },
    {
     "name": "stdout",
     "output_type": "stream",
     "text": [
      "\rDownloading train-images-idx3-ubyte.gz...36%"
     ]
    },
    {
     "name": "stdout",
     "output_type": "stream",
     "text": [
      "\rDownloading train-images-idx3-ubyte.gz...36%"
     ]
    },
    {
     "name": "stdout",
     "output_type": "stream",
     "text": [
      "\rDownloading train-images-idx3-ubyte.gz...36%"
     ]
    },
    {
     "name": "stdout",
     "output_type": "stream",
     "text": [
      "\rDownloading train-images-idx3-ubyte.gz...36%"
     ]
    },
    {
     "name": "stdout",
     "output_type": "stream",
     "text": [
      "\rDownloading train-images-idx3-ubyte.gz...36%"
     ]
    },
    {
     "name": "stdout",
     "output_type": "stream",
     "text": [
      "\rDownloading train-images-idx3-ubyte.gz...36%"
     ]
    },
    {
     "name": "stdout",
     "output_type": "stream",
     "text": [
      "\rDownloading train-images-idx3-ubyte.gz...36%"
     ]
    },
    {
     "name": "stdout",
     "output_type": "stream",
     "text": [
      "\rDownloading train-images-idx3-ubyte.gz...36%"
     ]
    },
    {
     "name": "stdout",
     "output_type": "stream",
     "text": [
      "\rDownloading train-images-idx3-ubyte.gz...36%"
     ]
    },
    {
     "name": "stdout",
     "output_type": "stream",
     "text": [
      "\rDownloading train-images-idx3-ubyte.gz...36%"
     ]
    },
    {
     "name": "stdout",
     "output_type": "stream",
     "text": [
      "\rDownloading train-images-idx3-ubyte.gz...36%"
     ]
    },
    {
     "name": "stdout",
     "output_type": "stream",
     "text": [
      "\rDownloading train-images-idx3-ubyte.gz...36%"
     ]
    },
    {
     "name": "stdout",
     "output_type": "stream",
     "text": [
      "\rDownloading train-images-idx3-ubyte.gz...37%"
     ]
    },
    {
     "name": "stdout",
     "output_type": "stream",
     "text": [
      "\rDownloading train-images-idx3-ubyte.gz...37%"
     ]
    },
    {
     "name": "stdout",
     "output_type": "stream",
     "text": [
      "\rDownloading train-images-idx3-ubyte.gz...37%"
     ]
    },
    {
     "name": "stdout",
     "output_type": "stream",
     "text": [
      "\rDownloading train-images-idx3-ubyte.gz...37%"
     ]
    },
    {
     "name": "stdout",
     "output_type": "stream",
     "text": [
      "\rDownloading train-images-idx3-ubyte.gz...37%"
     ]
    },
    {
     "name": "stdout",
     "output_type": "stream",
     "text": [
      "\rDownloading train-images-idx3-ubyte.gz...37%"
     ]
    },
    {
     "name": "stdout",
     "output_type": "stream",
     "text": [
      "\rDownloading train-images-idx3-ubyte.gz...37%"
     ]
    },
    {
     "name": "stdout",
     "output_type": "stream",
     "text": [
      "\rDownloading train-images-idx3-ubyte.gz...37%"
     ]
    },
    {
     "name": "stdout",
     "output_type": "stream",
     "text": [
      "\rDownloading train-images-idx3-ubyte.gz...37%"
     ]
    },
    {
     "name": "stdout",
     "output_type": "stream",
     "text": [
      "\rDownloading train-images-idx3-ubyte.gz...37%"
     ]
    },
    {
     "name": "stdout",
     "output_type": "stream",
     "text": [
      "\rDownloading train-images-idx3-ubyte.gz...37%"
     ]
    },
    {
     "name": "stdout",
     "output_type": "stream",
     "text": [
      "\rDownloading train-images-idx3-ubyte.gz...37%"
     ]
    },
    {
     "name": "stdout",
     "output_type": "stream",
     "text": [
      "\rDownloading train-images-idx3-ubyte.gz...38%"
     ]
    },
    {
     "name": "stdout",
     "output_type": "stream",
     "text": [
      "\rDownloading train-images-idx3-ubyte.gz...38%"
     ]
    },
    {
     "name": "stdout",
     "output_type": "stream",
     "text": [
      "\rDownloading train-images-idx3-ubyte.gz...38%"
     ]
    },
    {
     "name": "stdout",
     "output_type": "stream",
     "text": [
      "\rDownloading train-images-idx3-ubyte.gz...38%"
     ]
    },
    {
     "name": "stdout",
     "output_type": "stream",
     "text": [
      "\rDownloading train-images-idx3-ubyte.gz...38%"
     ]
    },
    {
     "name": "stdout",
     "output_type": "stream",
     "text": [
      "\rDownloading train-images-idx3-ubyte.gz...38%"
     ]
    },
    {
     "name": "stdout",
     "output_type": "stream",
     "text": [
      "\rDownloading train-images-idx3-ubyte.gz...38%"
     ]
    },
    {
     "name": "stdout",
     "output_type": "stream",
     "text": [
      "\rDownloading train-images-idx3-ubyte.gz...38%"
     ]
    },
    {
     "name": "stdout",
     "output_type": "stream",
     "text": [
      "\rDownloading train-images-idx3-ubyte.gz...38%"
     ]
    },
    {
     "name": "stdout",
     "output_type": "stream",
     "text": [
      "\rDownloading train-images-idx3-ubyte.gz...38%"
     ]
    },
    {
     "name": "stdout",
     "output_type": "stream",
     "text": [
      "\rDownloading train-images-idx3-ubyte.gz...38%"
     ]
    },
    {
     "name": "stdout",
     "output_type": "stream",
     "text": [
      "\rDownloading train-images-idx3-ubyte.gz...38%"
     ]
    },
    {
     "name": "stdout",
     "output_type": "stream",
     "text": [
      "\rDownloading train-images-idx3-ubyte.gz...39%"
     ]
    },
    {
     "name": "stdout",
     "output_type": "stream",
     "text": [
      "\rDownloading train-images-idx3-ubyte.gz...39%"
     ]
    },
    {
     "name": "stdout",
     "output_type": "stream",
     "text": [
      "\rDownloading train-images-idx3-ubyte.gz...39%"
     ]
    },
    {
     "name": "stdout",
     "output_type": "stream",
     "text": [
      "\rDownloading train-images-idx3-ubyte.gz...39%"
     ]
    },
    {
     "name": "stdout",
     "output_type": "stream",
     "text": [
      "\rDownloading train-images-idx3-ubyte.gz...39%"
     ]
    },
    {
     "name": "stdout",
     "output_type": "stream",
     "text": [
      "\rDownloading train-images-idx3-ubyte.gz...39%"
     ]
    },
    {
     "name": "stdout",
     "output_type": "stream",
     "text": [
      "\rDownloading train-images-idx3-ubyte.gz...39%"
     ]
    },
    {
     "name": "stdout",
     "output_type": "stream",
     "text": [
      "\rDownloading train-images-idx3-ubyte.gz...39%"
     ]
    },
    {
     "name": "stdout",
     "output_type": "stream",
     "text": [
      "\rDownloading train-images-idx3-ubyte.gz...39%"
     ]
    },
    {
     "name": "stdout",
     "output_type": "stream",
     "text": [
      "\rDownloading train-images-idx3-ubyte.gz...39%"
     ]
    },
    {
     "name": "stdout",
     "output_type": "stream",
     "text": [
      "\rDownloading train-images-idx3-ubyte.gz...39%"
     ]
    },
    {
     "name": "stdout",
     "output_type": "stream",
     "text": [
      "\rDownloading train-images-idx3-ubyte.gz...39%"
     ]
    },
    {
     "name": "stdout",
     "output_type": "stream",
     "text": [
      "\rDownloading train-images-idx3-ubyte.gz...39%"
     ]
    },
    {
     "name": "stdout",
     "output_type": "stream",
     "text": [
      "\rDownloading train-images-idx3-ubyte.gz...40%"
     ]
    },
    {
     "name": "stdout",
     "output_type": "stream",
     "text": [
      "\rDownloading train-images-idx3-ubyte.gz...40%"
     ]
    },
    {
     "name": "stdout",
     "output_type": "stream",
     "text": [
      "\rDownloading train-images-idx3-ubyte.gz...40%"
     ]
    },
    {
     "name": "stdout",
     "output_type": "stream",
     "text": [
      "\rDownloading train-images-idx3-ubyte.gz...40%"
     ]
    },
    {
     "name": "stdout",
     "output_type": "stream",
     "text": [
      "\rDownloading train-images-idx3-ubyte.gz...40%"
     ]
    },
    {
     "name": "stdout",
     "output_type": "stream",
     "text": [
      "\rDownloading train-images-idx3-ubyte.gz...40%"
     ]
    },
    {
     "name": "stdout",
     "output_type": "stream",
     "text": [
      "\rDownloading train-images-idx3-ubyte.gz...40%"
     ]
    },
    {
     "name": "stdout",
     "output_type": "stream",
     "text": [
      "\rDownloading train-images-idx3-ubyte.gz...40%"
     ]
    },
    {
     "name": "stdout",
     "output_type": "stream",
     "text": [
      "\rDownloading train-images-idx3-ubyte.gz...40%"
     ]
    },
    {
     "name": "stdout",
     "output_type": "stream",
     "text": [
      "\rDownloading train-images-idx3-ubyte.gz...40%"
     ]
    },
    {
     "name": "stdout",
     "output_type": "stream",
     "text": [
      "\rDownloading train-images-idx3-ubyte.gz...40%"
     ]
    },
    {
     "name": "stdout",
     "output_type": "stream",
     "text": [
      "\rDownloading train-images-idx3-ubyte.gz...40%"
     ]
    },
    {
     "name": "stdout",
     "output_type": "stream",
     "text": [
      "\rDownloading train-images-idx3-ubyte.gz...41%"
     ]
    },
    {
     "name": "stdout",
     "output_type": "stream",
     "text": [
      "\rDownloading train-images-idx3-ubyte.gz...41%"
     ]
    },
    {
     "name": "stdout",
     "output_type": "stream",
     "text": [
      "\rDownloading train-images-idx3-ubyte.gz...41%"
     ]
    },
    {
     "name": "stdout",
     "output_type": "stream",
     "text": [
      "\rDownloading train-images-idx3-ubyte.gz...41%"
     ]
    },
    {
     "name": "stdout",
     "output_type": "stream",
     "text": [
      "\rDownloading train-images-idx3-ubyte.gz...41%"
     ]
    },
    {
     "name": "stdout",
     "output_type": "stream",
     "text": [
      "\rDownloading train-images-idx3-ubyte.gz...41%"
     ]
    },
    {
     "name": "stdout",
     "output_type": "stream",
     "text": [
      "\rDownloading train-images-idx3-ubyte.gz...41%"
     ]
    },
    {
     "name": "stdout",
     "output_type": "stream",
     "text": [
      "\rDownloading train-images-idx3-ubyte.gz...41%"
     ]
    },
    {
     "name": "stdout",
     "output_type": "stream",
     "text": [
      "\rDownloading train-images-idx3-ubyte.gz...41%"
     ]
    },
    {
     "name": "stdout",
     "output_type": "stream",
     "text": [
      "\rDownloading train-images-idx3-ubyte.gz...41%"
     ]
    },
    {
     "name": "stdout",
     "output_type": "stream",
     "text": [
      "\rDownloading train-images-idx3-ubyte.gz...41%"
     ]
    },
    {
     "name": "stdout",
     "output_type": "stream",
     "text": [
      "\rDownloading train-images-idx3-ubyte.gz...41%"
     ]
    },
    {
     "name": "stdout",
     "output_type": "stream",
     "text": [
      "\rDownloading train-images-idx3-ubyte.gz...42%"
     ]
    },
    {
     "name": "stdout",
     "output_type": "stream",
     "text": [
      "\rDownloading train-images-idx3-ubyte.gz...42%"
     ]
    },
    {
     "name": "stdout",
     "output_type": "stream",
     "text": [
      "\rDownloading train-images-idx3-ubyte.gz...42%"
     ]
    },
    {
     "name": "stdout",
     "output_type": "stream",
     "text": [
      "\rDownloading train-images-idx3-ubyte.gz...42%"
     ]
    },
    {
     "name": "stdout",
     "output_type": "stream",
     "text": [
      "\rDownloading train-images-idx3-ubyte.gz...42%"
     ]
    },
    {
     "name": "stdout",
     "output_type": "stream",
     "text": [
      "\rDownloading train-images-idx3-ubyte.gz...42%"
     ]
    },
    {
     "name": "stdout",
     "output_type": "stream",
     "text": [
      "\rDownloading train-images-idx3-ubyte.gz...42%"
     ]
    },
    {
     "name": "stdout",
     "output_type": "stream",
     "text": [
      "\rDownloading train-images-idx3-ubyte.gz...42%"
     ]
    },
    {
     "name": "stdout",
     "output_type": "stream",
     "text": [
      "\rDownloading train-images-idx3-ubyte.gz...42%"
     ]
    },
    {
     "name": "stdout",
     "output_type": "stream",
     "text": [
      "\rDownloading train-images-idx3-ubyte.gz...42%"
     ]
    },
    {
     "name": "stdout",
     "output_type": "stream",
     "text": [
      "\rDownloading train-images-idx3-ubyte.gz...42%"
     ]
    },
    {
     "name": "stdout",
     "output_type": "stream",
     "text": [
      "\rDownloading train-images-idx3-ubyte.gz...42%"
     ]
    },
    {
     "name": "stdout",
     "output_type": "stream",
     "text": [
      "\rDownloading train-images-idx3-ubyte.gz...43%"
     ]
    },
    {
     "name": "stdout",
     "output_type": "stream",
     "text": [
      "\rDownloading train-images-idx3-ubyte.gz...43%"
     ]
    },
    {
     "name": "stdout",
     "output_type": "stream",
     "text": [
      "\rDownloading train-images-idx3-ubyte.gz...43%"
     ]
    },
    {
     "name": "stdout",
     "output_type": "stream",
     "text": [
      "\rDownloading train-images-idx3-ubyte.gz...43%"
     ]
    },
    {
     "name": "stdout",
     "output_type": "stream",
     "text": [
      "\rDownloading train-images-idx3-ubyte.gz...43%"
     ]
    },
    {
     "name": "stdout",
     "output_type": "stream",
     "text": [
      "\rDownloading train-images-idx3-ubyte.gz...43%"
     ]
    },
    {
     "name": "stdout",
     "output_type": "stream",
     "text": [
      "\rDownloading train-images-idx3-ubyte.gz...43%"
     ]
    },
    {
     "name": "stdout",
     "output_type": "stream",
     "text": [
      "\rDownloading train-images-idx3-ubyte.gz...43%"
     ]
    },
    {
     "name": "stdout",
     "output_type": "stream",
     "text": [
      "\rDownloading train-images-idx3-ubyte.gz...43%"
     ]
    },
    {
     "name": "stdout",
     "output_type": "stream",
     "text": [
      "\rDownloading train-images-idx3-ubyte.gz...43%"
     ]
    },
    {
     "name": "stdout",
     "output_type": "stream",
     "text": [
      "\rDownloading train-images-idx3-ubyte.gz...43%"
     ]
    },
    {
     "name": "stdout",
     "output_type": "stream",
     "text": [
      "\rDownloading train-images-idx3-ubyte.gz...43%"
     ]
    },
    {
     "name": "stdout",
     "output_type": "stream",
     "text": [
      "\rDownloading train-images-idx3-ubyte.gz...44%"
     ]
    },
    {
     "name": "stdout",
     "output_type": "stream",
     "text": [
      "\rDownloading train-images-idx3-ubyte.gz...44%"
     ]
    },
    {
     "name": "stdout",
     "output_type": "stream",
     "text": [
      "\rDownloading train-images-idx3-ubyte.gz...44%"
     ]
    },
    {
     "name": "stdout",
     "output_type": "stream",
     "text": [
      "\rDownloading train-images-idx3-ubyte.gz...44%"
     ]
    },
    {
     "name": "stdout",
     "output_type": "stream",
     "text": [
      "\rDownloading train-images-idx3-ubyte.gz...44%"
     ]
    },
    {
     "name": "stdout",
     "output_type": "stream",
     "text": [
      "\rDownloading train-images-idx3-ubyte.gz...44%"
     ]
    },
    {
     "name": "stdout",
     "output_type": "stream",
     "text": [
      "\rDownloading train-images-idx3-ubyte.gz...44%"
     ]
    },
    {
     "name": "stdout",
     "output_type": "stream",
     "text": [
      "\rDownloading train-images-idx3-ubyte.gz...44%"
     ]
    },
    {
     "name": "stdout",
     "output_type": "stream",
     "text": [
      "\rDownloading train-images-idx3-ubyte.gz...44%"
     ]
    },
    {
     "name": "stdout",
     "output_type": "stream",
     "text": [
      "\rDownloading train-images-idx3-ubyte.gz...44%"
     ]
    },
    {
     "name": "stdout",
     "output_type": "stream",
     "text": [
      "\rDownloading train-images-idx3-ubyte.gz...44%"
     ]
    },
    {
     "name": "stdout",
     "output_type": "stream",
     "text": [
      "\rDownloading train-images-idx3-ubyte.gz...44%"
     ]
    },
    {
     "name": "stdout",
     "output_type": "stream",
     "text": [
      "\rDownloading train-images-idx3-ubyte.gz...45%"
     ]
    },
    {
     "name": "stdout",
     "output_type": "stream",
     "text": [
      "\rDownloading train-images-idx3-ubyte.gz...45%"
     ]
    },
    {
     "name": "stdout",
     "output_type": "stream",
     "text": [
      "\rDownloading train-images-idx3-ubyte.gz...45%"
     ]
    },
    {
     "name": "stdout",
     "output_type": "stream",
     "text": [
      "\rDownloading train-images-idx3-ubyte.gz...45%"
     ]
    },
    {
     "name": "stdout",
     "output_type": "stream",
     "text": [
      "\rDownloading train-images-idx3-ubyte.gz...45%"
     ]
    },
    {
     "name": "stdout",
     "output_type": "stream",
     "text": [
      "\rDownloading train-images-idx3-ubyte.gz...45%"
     ]
    },
    {
     "name": "stdout",
     "output_type": "stream",
     "text": [
      "\rDownloading train-images-idx3-ubyte.gz...45%"
     ]
    },
    {
     "name": "stdout",
     "output_type": "stream",
     "text": [
      "\rDownloading train-images-idx3-ubyte.gz...45%"
     ]
    },
    {
     "name": "stdout",
     "output_type": "stream",
     "text": [
      "\rDownloading train-images-idx3-ubyte.gz...45%"
     ]
    },
    {
     "name": "stdout",
     "output_type": "stream",
     "text": [
      "\rDownloading train-images-idx3-ubyte.gz...45%"
     ]
    },
    {
     "name": "stdout",
     "output_type": "stream",
     "text": [
      "\rDownloading train-images-idx3-ubyte.gz...45%"
     ]
    },
    {
     "name": "stdout",
     "output_type": "stream",
     "text": [
      "\rDownloading train-images-idx3-ubyte.gz...45%"
     ]
    },
    {
     "name": "stdout",
     "output_type": "stream",
     "text": [
      "\rDownloading train-images-idx3-ubyte.gz...46%"
     ]
    },
    {
     "name": "stdout",
     "output_type": "stream",
     "text": [
      "\rDownloading train-images-idx3-ubyte.gz...46%"
     ]
    },
    {
     "name": "stdout",
     "output_type": "stream",
     "text": [
      "\rDownloading train-images-idx3-ubyte.gz...46%"
     ]
    },
    {
     "name": "stdout",
     "output_type": "stream",
     "text": [
      "\rDownloading train-images-idx3-ubyte.gz...46%"
     ]
    },
    {
     "name": "stdout",
     "output_type": "stream",
     "text": [
      "\rDownloading train-images-idx3-ubyte.gz...46%"
     ]
    },
    {
     "name": "stdout",
     "output_type": "stream",
     "text": [
      "\rDownloading train-images-idx3-ubyte.gz...46%"
     ]
    },
    {
     "name": "stdout",
     "output_type": "stream",
     "text": [
      "\rDownloading train-images-idx3-ubyte.gz...46%"
     ]
    },
    {
     "name": "stdout",
     "output_type": "stream",
     "text": [
      "\rDownloading train-images-idx3-ubyte.gz...46%"
     ]
    },
    {
     "name": "stdout",
     "output_type": "stream",
     "text": [
      "\rDownloading train-images-idx3-ubyte.gz...46%"
     ]
    },
    {
     "name": "stdout",
     "output_type": "stream",
     "text": [
      "\rDownloading train-images-idx3-ubyte.gz...46%"
     ]
    },
    {
     "name": "stdout",
     "output_type": "stream",
     "text": [
      "\rDownloading train-images-idx3-ubyte.gz...46%"
     ]
    },
    {
     "name": "stdout",
     "output_type": "stream",
     "text": [
      "\rDownloading train-images-idx3-ubyte.gz...46%"
     ]
    },
    {
     "name": "stdout",
     "output_type": "stream",
     "text": [
      "\rDownloading train-images-idx3-ubyte.gz...47%"
     ]
    },
    {
     "name": "stdout",
     "output_type": "stream",
     "text": [
      "\rDownloading train-images-idx3-ubyte.gz...47%"
     ]
    },
    {
     "name": "stdout",
     "output_type": "stream",
     "text": [
      "\rDownloading train-images-idx3-ubyte.gz...47%"
     ]
    },
    {
     "name": "stdout",
     "output_type": "stream",
     "text": [
      "\rDownloading train-images-idx3-ubyte.gz...47%"
     ]
    },
    {
     "name": "stdout",
     "output_type": "stream",
     "text": [
      "\rDownloading train-images-idx3-ubyte.gz...47%"
     ]
    },
    {
     "name": "stdout",
     "output_type": "stream",
     "text": [
      "\rDownloading train-images-idx3-ubyte.gz...47%"
     ]
    },
    {
     "name": "stdout",
     "output_type": "stream",
     "text": [
      "\rDownloading train-images-idx3-ubyte.gz...47%"
     ]
    },
    {
     "name": "stdout",
     "output_type": "stream",
     "text": [
      "\rDownloading train-images-idx3-ubyte.gz...47%"
     ]
    },
    {
     "name": "stdout",
     "output_type": "stream",
     "text": [
      "\rDownloading train-images-idx3-ubyte.gz...47%"
     ]
    },
    {
     "name": "stdout",
     "output_type": "stream",
     "text": [
      "\rDownloading train-images-idx3-ubyte.gz...47%"
     ]
    },
    {
     "name": "stdout",
     "output_type": "stream",
     "text": [
      "\rDownloading train-images-idx3-ubyte.gz...47%"
     ]
    },
    {
     "name": "stdout",
     "output_type": "stream",
     "text": [
      "\rDownloading train-images-idx3-ubyte.gz...47%"
     ]
    },
    {
     "name": "stdout",
     "output_type": "stream",
     "text": [
      "\rDownloading train-images-idx3-ubyte.gz...48%"
     ]
    },
    {
     "name": "stdout",
     "output_type": "stream",
     "text": [
      "\rDownloading train-images-idx3-ubyte.gz...48%"
     ]
    },
    {
     "name": "stdout",
     "output_type": "stream",
     "text": [
      "\rDownloading train-images-idx3-ubyte.gz...48%"
     ]
    },
    {
     "name": "stdout",
     "output_type": "stream",
     "text": [
      "\rDownloading train-images-idx3-ubyte.gz...48%"
     ]
    },
    {
     "name": "stdout",
     "output_type": "stream",
     "text": [
      "\rDownloading train-images-idx3-ubyte.gz...48%"
     ]
    },
    {
     "name": "stdout",
     "output_type": "stream",
     "text": [
      "\rDownloading train-images-idx3-ubyte.gz...48%"
     ]
    },
    {
     "name": "stdout",
     "output_type": "stream",
     "text": [
      "\rDownloading train-images-idx3-ubyte.gz...48%"
     ]
    },
    {
     "name": "stdout",
     "output_type": "stream",
     "text": [
      "\rDownloading train-images-idx3-ubyte.gz...48%"
     ]
    },
    {
     "name": "stdout",
     "output_type": "stream",
     "text": [
      "\rDownloading train-images-idx3-ubyte.gz...48%"
     ]
    },
    {
     "name": "stdout",
     "output_type": "stream",
     "text": [
      "\rDownloading train-images-idx3-ubyte.gz...48%"
     ]
    },
    {
     "name": "stdout",
     "output_type": "stream",
     "text": [
      "\rDownloading train-images-idx3-ubyte.gz...48%"
     ]
    },
    {
     "name": "stdout",
     "output_type": "stream",
     "text": [
      "\rDownloading train-images-idx3-ubyte.gz...48%"
     ]
    },
    {
     "name": "stdout",
     "output_type": "stream",
     "text": [
      "\rDownloading train-images-idx3-ubyte.gz...49%"
     ]
    },
    {
     "name": "stdout",
     "output_type": "stream",
     "text": [
      "\rDownloading train-images-idx3-ubyte.gz...49%"
     ]
    },
    {
     "name": "stdout",
     "output_type": "stream",
     "text": [
      "\rDownloading train-images-idx3-ubyte.gz...49%"
     ]
    },
    {
     "name": "stdout",
     "output_type": "stream",
     "text": [
      "\rDownloading train-images-idx3-ubyte.gz...49%"
     ]
    },
    {
     "name": "stdout",
     "output_type": "stream",
     "text": [
      "\rDownloading train-images-idx3-ubyte.gz...49%"
     ]
    },
    {
     "name": "stdout",
     "output_type": "stream",
     "text": [
      "\rDownloading train-images-idx3-ubyte.gz...49%"
     ]
    },
    {
     "name": "stdout",
     "output_type": "stream",
     "text": [
      "\rDownloading train-images-idx3-ubyte.gz...49%"
     ]
    },
    {
     "name": "stdout",
     "output_type": "stream",
     "text": [
      "\rDownloading train-images-idx3-ubyte.gz...49%"
     ]
    },
    {
     "name": "stdout",
     "output_type": "stream",
     "text": [
      "\rDownloading train-images-idx3-ubyte.gz...49%"
     ]
    },
    {
     "name": "stdout",
     "output_type": "stream",
     "text": [
      "\rDownloading train-images-idx3-ubyte.gz...49%"
     ]
    },
    {
     "name": "stdout",
     "output_type": "stream",
     "text": [
      "\rDownloading train-images-idx3-ubyte.gz...49%"
     ]
    },
    {
     "name": "stdout",
     "output_type": "stream",
     "text": [
      "\rDownloading train-images-idx3-ubyte.gz...49%"
     ]
    },
    {
     "name": "stdout",
     "output_type": "stream",
     "text": [
      "\rDownloading train-images-idx3-ubyte.gz...49%"
     ]
    },
    {
     "name": "stdout",
     "output_type": "stream",
     "text": [
      "\rDownloading train-images-idx3-ubyte.gz...50%"
     ]
    },
    {
     "name": "stdout",
     "output_type": "stream",
     "text": [
      "\rDownloading train-images-idx3-ubyte.gz...50%"
     ]
    },
    {
     "name": "stdout",
     "output_type": "stream",
     "text": [
      "\rDownloading train-images-idx3-ubyte.gz...50%"
     ]
    },
    {
     "name": "stdout",
     "output_type": "stream",
     "text": [
      "\rDownloading train-images-idx3-ubyte.gz...50%"
     ]
    },
    {
     "name": "stdout",
     "output_type": "stream",
     "text": [
      "\rDownloading train-images-idx3-ubyte.gz...50%"
     ]
    },
    {
     "name": "stdout",
     "output_type": "stream",
     "text": [
      "\rDownloading train-images-idx3-ubyte.gz...50%"
     ]
    },
    {
     "name": "stdout",
     "output_type": "stream",
     "text": [
      "\rDownloading train-images-idx3-ubyte.gz...50%"
     ]
    },
    {
     "name": "stdout",
     "output_type": "stream",
     "text": [
      "\rDownloading train-images-idx3-ubyte.gz...50%"
     ]
    },
    {
     "name": "stdout",
     "output_type": "stream",
     "text": [
      "\rDownloading train-images-idx3-ubyte.gz...50%"
     ]
    },
    {
     "name": "stdout",
     "output_type": "stream",
     "text": [
      "\rDownloading train-images-idx3-ubyte.gz...50%"
     ]
    },
    {
     "name": "stdout",
     "output_type": "stream",
     "text": [
      "\rDownloading train-images-idx3-ubyte.gz...50%"
     ]
    },
    {
     "name": "stdout",
     "output_type": "stream",
     "text": [
      "\rDownloading train-images-idx3-ubyte.gz...50%"
     ]
    },
    {
     "name": "stdout",
     "output_type": "stream",
     "text": [
      "\rDownloading train-images-idx3-ubyte.gz...51%"
     ]
    },
    {
     "name": "stdout",
     "output_type": "stream",
     "text": [
      "\rDownloading train-images-idx3-ubyte.gz...51%"
     ]
    },
    {
     "name": "stdout",
     "output_type": "stream",
     "text": [
      "\rDownloading train-images-idx3-ubyte.gz...51%"
     ]
    },
    {
     "name": "stdout",
     "output_type": "stream",
     "text": [
      "\rDownloading train-images-idx3-ubyte.gz...51%"
     ]
    },
    {
     "name": "stdout",
     "output_type": "stream",
     "text": [
      "\rDownloading train-images-idx3-ubyte.gz...51%"
     ]
    },
    {
     "name": "stdout",
     "output_type": "stream",
     "text": [
      "\rDownloading train-images-idx3-ubyte.gz...51%"
     ]
    },
    {
     "name": "stdout",
     "output_type": "stream",
     "text": [
      "\rDownloading train-images-idx3-ubyte.gz...51%"
     ]
    },
    {
     "name": "stdout",
     "output_type": "stream",
     "text": [
      "\rDownloading train-images-idx3-ubyte.gz...51%"
     ]
    },
    {
     "name": "stdout",
     "output_type": "stream",
     "text": [
      "\rDownloading train-images-idx3-ubyte.gz...51%"
     ]
    },
    {
     "name": "stdout",
     "output_type": "stream",
     "text": [
      "\rDownloading train-images-idx3-ubyte.gz...51%"
     ]
    },
    {
     "name": "stdout",
     "output_type": "stream",
     "text": [
      "\rDownloading train-images-idx3-ubyte.gz...51%"
     ]
    },
    {
     "name": "stdout",
     "output_type": "stream",
     "text": [
      "\rDownloading train-images-idx3-ubyte.gz...51%"
     ]
    },
    {
     "name": "stdout",
     "output_type": "stream",
     "text": [
      "\rDownloading train-images-idx3-ubyte.gz...52%"
     ]
    },
    {
     "name": "stdout",
     "output_type": "stream",
     "text": [
      "\rDownloading train-images-idx3-ubyte.gz...52%"
     ]
    },
    {
     "name": "stdout",
     "output_type": "stream",
     "text": [
      "\rDownloading train-images-idx3-ubyte.gz...52%"
     ]
    },
    {
     "name": "stdout",
     "output_type": "stream",
     "text": [
      "\rDownloading train-images-idx3-ubyte.gz...52%"
     ]
    },
    {
     "name": "stdout",
     "output_type": "stream",
     "text": [
      "\rDownloading train-images-idx3-ubyte.gz...52%"
     ]
    },
    {
     "name": "stdout",
     "output_type": "stream",
     "text": [
      "\rDownloading train-images-idx3-ubyte.gz...52%"
     ]
    },
    {
     "name": "stdout",
     "output_type": "stream",
     "text": [
      "\rDownloading train-images-idx3-ubyte.gz...52%"
     ]
    },
    {
     "name": "stdout",
     "output_type": "stream",
     "text": [
      "\rDownloading train-images-idx3-ubyte.gz...52%"
     ]
    },
    {
     "name": "stdout",
     "output_type": "stream",
     "text": [
      "\rDownloading train-images-idx3-ubyte.gz...52%"
     ]
    },
    {
     "name": "stdout",
     "output_type": "stream",
     "text": [
      "\rDownloading train-images-idx3-ubyte.gz...52%"
     ]
    },
    {
     "name": "stdout",
     "output_type": "stream",
     "text": [
      "\rDownloading train-images-idx3-ubyte.gz...52%"
     ]
    },
    {
     "name": "stdout",
     "output_type": "stream",
     "text": [
      "\rDownloading train-images-idx3-ubyte.gz...52%"
     ]
    },
    {
     "name": "stdout",
     "output_type": "stream",
     "text": [
      "\rDownloading train-images-idx3-ubyte.gz...53%"
     ]
    },
    {
     "name": "stdout",
     "output_type": "stream",
     "text": [
      "\rDownloading train-images-idx3-ubyte.gz...53%"
     ]
    },
    {
     "name": "stdout",
     "output_type": "stream",
     "text": [
      "\rDownloading train-images-idx3-ubyte.gz...53%"
     ]
    },
    {
     "name": "stdout",
     "output_type": "stream",
     "text": [
      "\rDownloading train-images-idx3-ubyte.gz...53%"
     ]
    },
    {
     "name": "stdout",
     "output_type": "stream",
     "text": [
      "\rDownloading train-images-idx3-ubyte.gz...53%"
     ]
    },
    {
     "name": "stdout",
     "output_type": "stream",
     "text": [
      "\rDownloading train-images-idx3-ubyte.gz...53%"
     ]
    },
    {
     "name": "stdout",
     "output_type": "stream",
     "text": [
      "\rDownloading train-images-idx3-ubyte.gz...53%"
     ]
    },
    {
     "name": "stdout",
     "output_type": "stream",
     "text": [
      "\rDownloading train-images-idx3-ubyte.gz...53%"
     ]
    },
    {
     "name": "stdout",
     "output_type": "stream",
     "text": [
      "\rDownloading train-images-idx3-ubyte.gz...53%"
     ]
    },
    {
     "name": "stdout",
     "output_type": "stream",
     "text": [
      "\rDownloading train-images-idx3-ubyte.gz...53%"
     ]
    },
    {
     "name": "stdout",
     "output_type": "stream",
     "text": [
      "\rDownloading train-images-idx3-ubyte.gz...53%"
     ]
    },
    {
     "name": "stdout",
     "output_type": "stream",
     "text": [
      "\rDownloading train-images-idx3-ubyte.gz...53%"
     ]
    },
    {
     "name": "stdout",
     "output_type": "stream",
     "text": [
      "\rDownloading train-images-idx3-ubyte.gz...54%"
     ]
    },
    {
     "name": "stdout",
     "output_type": "stream",
     "text": [
      "\rDownloading train-images-idx3-ubyte.gz...54%"
     ]
    },
    {
     "name": "stdout",
     "output_type": "stream",
     "text": [
      "\rDownloading train-images-idx3-ubyte.gz...54%"
     ]
    },
    {
     "name": "stdout",
     "output_type": "stream",
     "text": [
      "\rDownloading train-images-idx3-ubyte.gz...54%"
     ]
    },
    {
     "name": "stdout",
     "output_type": "stream",
     "text": [
      "\rDownloading train-images-idx3-ubyte.gz...54%"
     ]
    },
    {
     "name": "stdout",
     "output_type": "stream",
     "text": [
      "\rDownloading train-images-idx3-ubyte.gz...54%"
     ]
    },
    {
     "name": "stdout",
     "output_type": "stream",
     "text": [
      "\rDownloading train-images-idx3-ubyte.gz...54%"
     ]
    },
    {
     "name": "stdout",
     "output_type": "stream",
     "text": [
      "\rDownloading train-images-idx3-ubyte.gz...54%"
     ]
    },
    {
     "name": "stdout",
     "output_type": "stream",
     "text": [
      "\rDownloading train-images-idx3-ubyte.gz...54%"
     ]
    },
    {
     "name": "stdout",
     "output_type": "stream",
     "text": [
      "\rDownloading train-images-idx3-ubyte.gz...54%"
     ]
    },
    {
     "name": "stdout",
     "output_type": "stream",
     "text": [
      "\rDownloading train-images-idx3-ubyte.gz...54%"
     ]
    },
    {
     "name": "stdout",
     "output_type": "stream",
     "text": [
      "\rDownloading train-images-idx3-ubyte.gz...54%"
     ]
    },
    {
     "name": "stdout",
     "output_type": "stream",
     "text": [
      "\rDownloading train-images-idx3-ubyte.gz...55%"
     ]
    },
    {
     "name": "stdout",
     "output_type": "stream",
     "text": [
      "\rDownloading train-images-idx3-ubyte.gz...55%"
     ]
    },
    {
     "name": "stdout",
     "output_type": "stream",
     "text": [
      "\rDownloading train-images-idx3-ubyte.gz...55%"
     ]
    },
    {
     "name": "stdout",
     "output_type": "stream",
     "text": [
      "\rDownloading train-images-idx3-ubyte.gz...55%"
     ]
    },
    {
     "name": "stdout",
     "output_type": "stream",
     "text": [
      "\rDownloading train-images-idx3-ubyte.gz...55%"
     ]
    },
    {
     "name": "stdout",
     "output_type": "stream",
     "text": [
      "\rDownloading train-images-idx3-ubyte.gz...55%"
     ]
    },
    {
     "name": "stdout",
     "output_type": "stream",
     "text": [
      "\rDownloading train-images-idx3-ubyte.gz...55%"
     ]
    },
    {
     "name": "stdout",
     "output_type": "stream",
     "text": [
      "\rDownloading train-images-idx3-ubyte.gz...55%"
     ]
    },
    {
     "name": "stdout",
     "output_type": "stream",
     "text": [
      "\rDownloading train-images-idx3-ubyte.gz...55%"
     ]
    },
    {
     "name": "stdout",
     "output_type": "stream",
     "text": [
      "\rDownloading train-images-idx3-ubyte.gz...55%"
     ]
    },
    {
     "name": "stdout",
     "output_type": "stream",
     "text": [
      "\rDownloading train-images-idx3-ubyte.gz...55%"
     ]
    },
    {
     "name": "stdout",
     "output_type": "stream",
     "text": [
      "\rDownloading train-images-idx3-ubyte.gz...55%"
     ]
    },
    {
     "name": "stdout",
     "output_type": "stream",
     "text": [
      "\rDownloading train-images-idx3-ubyte.gz...56%"
     ]
    },
    {
     "name": "stdout",
     "output_type": "stream",
     "text": [
      "\rDownloading train-images-idx3-ubyte.gz...56%"
     ]
    },
    {
     "name": "stdout",
     "output_type": "stream",
     "text": [
      "\rDownloading train-images-idx3-ubyte.gz...56%"
     ]
    },
    {
     "name": "stdout",
     "output_type": "stream",
     "text": [
      "\rDownloading train-images-idx3-ubyte.gz...56%"
     ]
    },
    {
     "name": "stdout",
     "output_type": "stream",
     "text": [
      "\rDownloading train-images-idx3-ubyte.gz...56%"
     ]
    },
    {
     "name": "stdout",
     "output_type": "stream",
     "text": [
      "\rDownloading train-images-idx3-ubyte.gz...56%"
     ]
    },
    {
     "name": "stdout",
     "output_type": "stream",
     "text": [
      "\rDownloading train-images-idx3-ubyte.gz...56%"
     ]
    },
    {
     "name": "stdout",
     "output_type": "stream",
     "text": [
      "\rDownloading train-images-idx3-ubyte.gz...56%"
     ]
    },
    {
     "name": "stdout",
     "output_type": "stream",
     "text": [
      "\rDownloading train-images-idx3-ubyte.gz...56%"
     ]
    },
    {
     "name": "stdout",
     "output_type": "stream",
     "text": [
      "\rDownloading train-images-idx3-ubyte.gz...56%"
     ]
    },
    {
     "name": "stdout",
     "output_type": "stream",
     "text": [
      "\rDownloading train-images-idx3-ubyte.gz...56%"
     ]
    },
    {
     "name": "stdout",
     "output_type": "stream",
     "text": [
      "\rDownloading train-images-idx3-ubyte.gz...56%"
     ]
    },
    {
     "name": "stdout",
     "output_type": "stream",
     "text": [
      "\rDownloading train-images-idx3-ubyte.gz...57%"
     ]
    },
    {
     "name": "stdout",
     "output_type": "stream",
     "text": [
      "\rDownloading train-images-idx3-ubyte.gz...57%"
     ]
    },
    {
     "name": "stdout",
     "output_type": "stream",
     "text": [
      "\rDownloading train-images-idx3-ubyte.gz...57%"
     ]
    },
    {
     "name": "stdout",
     "output_type": "stream",
     "text": [
      "\rDownloading train-images-idx3-ubyte.gz...57%"
     ]
    },
    {
     "name": "stdout",
     "output_type": "stream",
     "text": [
      "\rDownloading train-images-idx3-ubyte.gz...57%"
     ]
    },
    {
     "name": "stdout",
     "output_type": "stream",
     "text": [
      "\rDownloading train-images-idx3-ubyte.gz...57%"
     ]
    },
    {
     "name": "stdout",
     "output_type": "stream",
     "text": [
      "\rDownloading train-images-idx3-ubyte.gz...57%"
     ]
    },
    {
     "name": "stdout",
     "output_type": "stream",
     "text": [
      "\rDownloading train-images-idx3-ubyte.gz...57%"
     ]
    },
    {
     "name": "stdout",
     "output_type": "stream",
     "text": [
      "\rDownloading train-images-idx3-ubyte.gz...57%"
     ]
    },
    {
     "name": "stdout",
     "output_type": "stream",
     "text": [
      "\rDownloading train-images-idx3-ubyte.gz...57%"
     ]
    },
    {
     "name": "stdout",
     "output_type": "stream",
     "text": [
      "\rDownloading train-images-idx3-ubyte.gz...57%"
     ]
    },
    {
     "name": "stdout",
     "output_type": "stream",
     "text": [
      "\rDownloading train-images-idx3-ubyte.gz...57%"
     ]
    },
    {
     "name": "stdout",
     "output_type": "stream",
     "text": [
      "\rDownloading train-images-idx3-ubyte.gz...58%"
     ]
    },
    {
     "name": "stdout",
     "output_type": "stream",
     "text": [
      "\rDownloading train-images-idx3-ubyte.gz...58%"
     ]
    },
    {
     "name": "stdout",
     "output_type": "stream",
     "text": [
      "\rDownloading train-images-idx3-ubyte.gz...58%"
     ]
    },
    {
     "name": "stdout",
     "output_type": "stream",
     "text": [
      "\rDownloading train-images-idx3-ubyte.gz...58%"
     ]
    },
    {
     "name": "stdout",
     "output_type": "stream",
     "text": [
      "\rDownloading train-images-idx3-ubyte.gz...58%"
     ]
    },
    {
     "name": "stdout",
     "output_type": "stream",
     "text": [
      "\rDownloading train-images-idx3-ubyte.gz...58%"
     ]
    },
    {
     "name": "stdout",
     "output_type": "stream",
     "text": [
      "\rDownloading train-images-idx3-ubyte.gz...58%"
     ]
    },
    {
     "name": "stdout",
     "output_type": "stream",
     "text": [
      "\rDownloading train-images-idx3-ubyte.gz...58%"
     ]
    },
    {
     "name": "stdout",
     "output_type": "stream",
     "text": [
      "\rDownloading train-images-idx3-ubyte.gz...58%"
     ]
    },
    {
     "name": "stdout",
     "output_type": "stream",
     "text": [
      "\rDownloading train-images-idx3-ubyte.gz...58%"
     ]
    },
    {
     "name": "stdout",
     "output_type": "stream",
     "text": [
      "\rDownloading train-images-idx3-ubyte.gz...58%"
     ]
    },
    {
     "name": "stdout",
     "output_type": "stream",
     "text": [
      "\rDownloading train-images-idx3-ubyte.gz...58%"
     ]
    },
    {
     "name": "stdout",
     "output_type": "stream",
     "text": [
      "\rDownloading train-images-idx3-ubyte.gz...59%"
     ]
    },
    {
     "name": "stdout",
     "output_type": "stream",
     "text": [
      "\rDownloading train-images-idx3-ubyte.gz...59%"
     ]
    },
    {
     "name": "stdout",
     "output_type": "stream",
     "text": [
      "\rDownloading train-images-idx3-ubyte.gz...59%"
     ]
    },
    {
     "name": "stdout",
     "output_type": "stream",
     "text": [
      "\rDownloading train-images-idx3-ubyte.gz...59%"
     ]
    },
    {
     "name": "stdout",
     "output_type": "stream",
     "text": [
      "\rDownloading train-images-idx3-ubyte.gz...59%"
     ]
    },
    {
     "name": "stdout",
     "output_type": "stream",
     "text": [
      "\rDownloading train-images-idx3-ubyte.gz...59%"
     ]
    },
    {
     "name": "stdout",
     "output_type": "stream",
     "text": [
      "\rDownloading train-images-idx3-ubyte.gz...59%"
     ]
    },
    {
     "name": "stdout",
     "output_type": "stream",
     "text": [
      "\rDownloading train-images-idx3-ubyte.gz...59%"
     ]
    },
    {
     "name": "stdout",
     "output_type": "stream",
     "text": [
      "\rDownloading train-images-idx3-ubyte.gz...59%"
     ]
    },
    {
     "name": "stdout",
     "output_type": "stream",
     "text": [
      "\rDownloading train-images-idx3-ubyte.gz...59%"
     ]
    },
    {
     "name": "stdout",
     "output_type": "stream",
     "text": [
      "\rDownloading train-images-idx3-ubyte.gz...59%"
     ]
    },
    {
     "name": "stdout",
     "output_type": "stream",
     "text": [
      "\rDownloading train-images-idx3-ubyte.gz...59%"
     ]
    },
    {
     "name": "stdout",
     "output_type": "stream",
     "text": [
      "\rDownloading train-images-idx3-ubyte.gz...59%"
     ]
    },
    {
     "name": "stdout",
     "output_type": "stream",
     "text": [
      "\rDownloading train-images-idx3-ubyte.gz...60%"
     ]
    },
    {
     "name": "stdout",
     "output_type": "stream",
     "text": [
      "\rDownloading train-images-idx3-ubyte.gz...60%"
     ]
    },
    {
     "name": "stdout",
     "output_type": "stream",
     "text": [
      "\rDownloading train-images-idx3-ubyte.gz...60%"
     ]
    },
    {
     "name": "stdout",
     "output_type": "stream",
     "text": [
      "\rDownloading train-images-idx3-ubyte.gz...60%"
     ]
    },
    {
     "name": "stdout",
     "output_type": "stream",
     "text": [
      "\rDownloading train-images-idx3-ubyte.gz...60%"
     ]
    },
    {
     "name": "stdout",
     "output_type": "stream",
     "text": [
      "\rDownloading train-images-idx3-ubyte.gz...60%"
     ]
    },
    {
     "name": "stdout",
     "output_type": "stream",
     "text": [
      "\rDownloading train-images-idx3-ubyte.gz...60%"
     ]
    },
    {
     "name": "stdout",
     "output_type": "stream",
     "text": [
      "\rDownloading train-images-idx3-ubyte.gz...60%"
     ]
    },
    {
     "name": "stdout",
     "output_type": "stream",
     "text": [
      "\rDownloading train-images-idx3-ubyte.gz...60%"
     ]
    },
    {
     "name": "stdout",
     "output_type": "stream",
     "text": [
      "\rDownloading train-images-idx3-ubyte.gz...60%"
     ]
    },
    {
     "name": "stdout",
     "output_type": "stream",
     "text": [
      "\rDownloading train-images-idx3-ubyte.gz...60%"
     ]
    },
    {
     "name": "stdout",
     "output_type": "stream",
     "text": [
      "\rDownloading train-images-idx3-ubyte.gz...60%"
     ]
    },
    {
     "name": "stdout",
     "output_type": "stream",
     "text": [
      "\rDownloading train-images-idx3-ubyte.gz...61%"
     ]
    },
    {
     "name": "stdout",
     "output_type": "stream",
     "text": [
      "\rDownloading train-images-idx3-ubyte.gz...61%"
     ]
    },
    {
     "name": "stdout",
     "output_type": "stream",
     "text": [
      "\rDownloading train-images-idx3-ubyte.gz...61%"
     ]
    },
    {
     "name": "stdout",
     "output_type": "stream",
     "text": [
      "\rDownloading train-images-idx3-ubyte.gz...61%"
     ]
    },
    {
     "name": "stdout",
     "output_type": "stream",
     "text": [
      "\rDownloading train-images-idx3-ubyte.gz...61%"
     ]
    },
    {
     "name": "stdout",
     "output_type": "stream",
     "text": [
      "\rDownloading train-images-idx3-ubyte.gz...61%"
     ]
    },
    {
     "name": "stdout",
     "output_type": "stream",
     "text": [
      "\rDownloading train-images-idx3-ubyte.gz...61%"
     ]
    },
    {
     "name": "stdout",
     "output_type": "stream",
     "text": [
      "\rDownloading train-images-idx3-ubyte.gz...61%"
     ]
    },
    {
     "name": "stdout",
     "output_type": "stream",
     "text": [
      "\rDownloading train-images-idx3-ubyte.gz...61%"
     ]
    },
    {
     "name": "stdout",
     "output_type": "stream",
     "text": [
      "\rDownloading train-images-idx3-ubyte.gz...61%"
     ]
    },
    {
     "name": "stdout",
     "output_type": "stream",
     "text": [
      "\rDownloading train-images-idx3-ubyte.gz...61%"
     ]
    },
    {
     "name": "stdout",
     "output_type": "stream",
     "text": [
      "\rDownloading train-images-idx3-ubyte.gz...61%"
     ]
    },
    {
     "name": "stdout",
     "output_type": "stream",
     "text": [
      "\rDownloading train-images-idx3-ubyte.gz...62%"
     ]
    },
    {
     "name": "stdout",
     "output_type": "stream",
     "text": [
      "\rDownloading train-images-idx3-ubyte.gz...62%"
     ]
    },
    {
     "name": "stdout",
     "output_type": "stream",
     "text": [
      "\rDownloading train-images-idx3-ubyte.gz...62%"
     ]
    },
    {
     "name": "stdout",
     "output_type": "stream",
     "text": [
      "\rDownloading train-images-idx3-ubyte.gz...62%"
     ]
    },
    {
     "name": "stdout",
     "output_type": "stream",
     "text": [
      "\rDownloading train-images-idx3-ubyte.gz...62%"
     ]
    },
    {
     "name": "stdout",
     "output_type": "stream",
     "text": [
      "\rDownloading train-images-idx3-ubyte.gz...62%"
     ]
    },
    {
     "name": "stdout",
     "output_type": "stream",
     "text": [
      "\rDownloading train-images-idx3-ubyte.gz...62%"
     ]
    },
    {
     "name": "stdout",
     "output_type": "stream",
     "text": [
      "\rDownloading train-images-idx3-ubyte.gz...62%"
     ]
    },
    {
     "name": "stdout",
     "output_type": "stream",
     "text": [
      "\rDownloading train-images-idx3-ubyte.gz...62%"
     ]
    },
    {
     "name": "stdout",
     "output_type": "stream",
     "text": [
      "\rDownloading train-images-idx3-ubyte.gz...62%"
     ]
    },
    {
     "name": "stdout",
     "output_type": "stream",
     "text": [
      "\rDownloading train-images-idx3-ubyte.gz...62%"
     ]
    },
    {
     "name": "stdout",
     "output_type": "stream",
     "text": [
      "\rDownloading train-images-idx3-ubyte.gz...62%"
     ]
    },
    {
     "name": "stdout",
     "output_type": "stream",
     "text": [
      "\rDownloading train-images-idx3-ubyte.gz...63%"
     ]
    },
    {
     "name": "stdout",
     "output_type": "stream",
     "text": [
      "\rDownloading train-images-idx3-ubyte.gz...63%"
     ]
    },
    {
     "name": "stdout",
     "output_type": "stream",
     "text": [
      "\rDownloading train-images-idx3-ubyte.gz...63%"
     ]
    },
    {
     "name": "stdout",
     "output_type": "stream",
     "text": [
      "\rDownloading train-images-idx3-ubyte.gz...63%"
     ]
    },
    {
     "name": "stdout",
     "output_type": "stream",
     "text": [
      "\rDownloading train-images-idx3-ubyte.gz...63%"
     ]
    },
    {
     "name": "stdout",
     "output_type": "stream",
     "text": [
      "\rDownloading train-images-idx3-ubyte.gz...63%"
     ]
    },
    {
     "name": "stdout",
     "output_type": "stream",
     "text": [
      "\rDownloading train-images-idx3-ubyte.gz...63%"
     ]
    },
    {
     "name": "stdout",
     "output_type": "stream",
     "text": [
      "\rDownloading train-images-idx3-ubyte.gz...63%"
     ]
    },
    {
     "name": "stdout",
     "output_type": "stream",
     "text": [
      "\rDownloading train-images-idx3-ubyte.gz...63%"
     ]
    },
    {
     "name": "stdout",
     "output_type": "stream",
     "text": [
      "\rDownloading train-images-idx3-ubyte.gz...63%"
     ]
    },
    {
     "name": "stdout",
     "output_type": "stream",
     "text": [
      "\rDownloading train-images-idx3-ubyte.gz...63%"
     ]
    },
    {
     "name": "stdout",
     "output_type": "stream",
     "text": [
      "\rDownloading train-images-idx3-ubyte.gz...63%"
     ]
    },
    {
     "name": "stdout",
     "output_type": "stream",
     "text": [
      "\rDownloading train-images-idx3-ubyte.gz...64%"
     ]
    },
    {
     "name": "stdout",
     "output_type": "stream",
     "text": [
      "\rDownloading train-images-idx3-ubyte.gz...64%"
     ]
    },
    {
     "name": "stdout",
     "output_type": "stream",
     "text": [
      "\rDownloading train-images-idx3-ubyte.gz...64%"
     ]
    },
    {
     "name": "stdout",
     "output_type": "stream",
     "text": [
      "\rDownloading train-images-idx3-ubyte.gz...64%"
     ]
    },
    {
     "name": "stdout",
     "output_type": "stream",
     "text": [
      "\rDownloading train-images-idx3-ubyte.gz...64%"
     ]
    },
    {
     "name": "stdout",
     "output_type": "stream",
     "text": [
      "\rDownloading train-images-idx3-ubyte.gz...64%"
     ]
    },
    {
     "name": "stdout",
     "output_type": "stream",
     "text": [
      "\rDownloading train-images-idx3-ubyte.gz...64%"
     ]
    },
    {
     "name": "stdout",
     "output_type": "stream",
     "text": [
      "\rDownloading train-images-idx3-ubyte.gz...64%"
     ]
    },
    {
     "name": "stdout",
     "output_type": "stream",
     "text": [
      "\rDownloading train-images-idx3-ubyte.gz...64%"
     ]
    },
    {
     "name": "stdout",
     "output_type": "stream",
     "text": [
      "\rDownloading train-images-idx3-ubyte.gz...64%"
     ]
    },
    {
     "name": "stdout",
     "output_type": "stream",
     "text": [
      "\rDownloading train-images-idx3-ubyte.gz...64%"
     ]
    },
    {
     "name": "stdout",
     "output_type": "stream",
     "text": [
      "\rDownloading train-images-idx3-ubyte.gz...64%"
     ]
    },
    {
     "name": "stdout",
     "output_type": "stream",
     "text": [
      "\rDownloading train-images-idx3-ubyte.gz...65%"
     ]
    },
    {
     "name": "stdout",
     "output_type": "stream",
     "text": [
      "\rDownloading train-images-idx3-ubyte.gz...65%"
     ]
    },
    {
     "name": "stdout",
     "output_type": "stream",
     "text": [
      "\rDownloading train-images-idx3-ubyte.gz...65%"
     ]
    },
    {
     "name": "stdout",
     "output_type": "stream",
     "text": [
      "\rDownloading train-images-idx3-ubyte.gz...65%"
     ]
    },
    {
     "name": "stdout",
     "output_type": "stream",
     "text": [
      "\rDownloading train-images-idx3-ubyte.gz...65%"
     ]
    },
    {
     "name": "stdout",
     "output_type": "stream",
     "text": [
      "\rDownloading train-images-idx3-ubyte.gz...65%"
     ]
    },
    {
     "name": "stdout",
     "output_type": "stream",
     "text": [
      "\rDownloading train-images-idx3-ubyte.gz...65%"
     ]
    },
    {
     "name": "stdout",
     "output_type": "stream",
     "text": [
      "\rDownloading train-images-idx3-ubyte.gz...65%"
     ]
    },
    {
     "name": "stdout",
     "output_type": "stream",
     "text": [
      "\rDownloading train-images-idx3-ubyte.gz...65%"
     ]
    },
    {
     "name": "stdout",
     "output_type": "stream",
     "text": [
      "\rDownloading train-images-idx3-ubyte.gz...65%"
     ]
    },
    {
     "name": "stdout",
     "output_type": "stream",
     "text": [
      "\rDownloading train-images-idx3-ubyte.gz...65%"
     ]
    },
    {
     "name": "stdout",
     "output_type": "stream",
     "text": [
      "\rDownloading train-images-idx3-ubyte.gz...65%"
     ]
    },
    {
     "name": "stdout",
     "output_type": "stream",
     "text": [
      "\rDownloading train-images-idx3-ubyte.gz...66%"
     ]
    },
    {
     "name": "stdout",
     "output_type": "stream",
     "text": [
      "\rDownloading train-images-idx3-ubyte.gz...66%"
     ]
    },
    {
     "name": "stdout",
     "output_type": "stream",
     "text": [
      "\rDownloading train-images-idx3-ubyte.gz...66%"
     ]
    },
    {
     "name": "stdout",
     "output_type": "stream",
     "text": [
      "\rDownloading train-images-idx3-ubyte.gz...66%"
     ]
    },
    {
     "name": "stdout",
     "output_type": "stream",
     "text": [
      "\rDownloading train-images-idx3-ubyte.gz...66%"
     ]
    },
    {
     "name": "stdout",
     "output_type": "stream",
     "text": [
      "\rDownloading train-images-idx3-ubyte.gz...66%"
     ]
    },
    {
     "name": "stdout",
     "output_type": "stream",
     "text": [
      "\rDownloading train-images-idx3-ubyte.gz...66%"
     ]
    },
    {
     "name": "stdout",
     "output_type": "stream",
     "text": [
      "\rDownloading train-images-idx3-ubyte.gz...66%"
     ]
    },
    {
     "name": "stdout",
     "output_type": "stream",
     "text": [
      "\rDownloading train-images-idx3-ubyte.gz...66%"
     ]
    },
    {
     "name": "stdout",
     "output_type": "stream",
     "text": [
      "\rDownloading train-images-idx3-ubyte.gz...66%"
     ]
    },
    {
     "name": "stdout",
     "output_type": "stream",
     "text": [
      "\rDownloading train-images-idx3-ubyte.gz...66%"
     ]
    },
    {
     "name": "stdout",
     "output_type": "stream",
     "text": [
      "\rDownloading train-images-idx3-ubyte.gz...66%"
     ]
    },
    {
     "name": "stdout",
     "output_type": "stream",
     "text": [
      "\rDownloading train-images-idx3-ubyte.gz...67%"
     ]
    },
    {
     "name": "stdout",
     "output_type": "stream",
     "text": [
      "\rDownloading train-images-idx3-ubyte.gz...67%"
     ]
    },
    {
     "name": "stdout",
     "output_type": "stream",
     "text": [
      "\rDownloading train-images-idx3-ubyte.gz...67%"
     ]
    },
    {
     "name": "stdout",
     "output_type": "stream",
     "text": [
      "\rDownloading train-images-idx3-ubyte.gz...67%"
     ]
    },
    {
     "name": "stdout",
     "output_type": "stream",
     "text": [
      "\rDownloading train-images-idx3-ubyte.gz...67%"
     ]
    },
    {
     "name": "stdout",
     "output_type": "stream",
     "text": [
      "\rDownloading train-images-idx3-ubyte.gz...67%"
     ]
    },
    {
     "name": "stdout",
     "output_type": "stream",
     "text": [
      "\rDownloading train-images-idx3-ubyte.gz...67%"
     ]
    },
    {
     "name": "stdout",
     "output_type": "stream",
     "text": [
      "\rDownloading train-images-idx3-ubyte.gz...67%"
     ]
    },
    {
     "name": "stdout",
     "output_type": "stream",
     "text": [
      "\rDownloading train-images-idx3-ubyte.gz...67%"
     ]
    },
    {
     "name": "stdout",
     "output_type": "stream",
     "text": [
      "\rDownloading train-images-idx3-ubyte.gz...67%"
     ]
    },
    {
     "name": "stdout",
     "output_type": "stream",
     "text": [
      "\rDownloading train-images-idx3-ubyte.gz...67%"
     ]
    },
    {
     "name": "stdout",
     "output_type": "stream",
     "text": [
      "\rDownloading train-images-idx3-ubyte.gz...67%"
     ]
    },
    {
     "name": "stdout",
     "output_type": "stream",
     "text": [
      "\rDownloading train-images-idx3-ubyte.gz...68%"
     ]
    },
    {
     "name": "stdout",
     "output_type": "stream",
     "text": [
      "\rDownloading train-images-idx3-ubyte.gz...68%"
     ]
    },
    {
     "name": "stdout",
     "output_type": "stream",
     "text": [
      "\rDownloading train-images-idx3-ubyte.gz...68%"
     ]
    },
    {
     "name": "stdout",
     "output_type": "stream",
     "text": [
      "\rDownloading train-images-idx3-ubyte.gz...68%"
     ]
    },
    {
     "name": "stdout",
     "output_type": "stream",
     "text": [
      "\rDownloading train-images-idx3-ubyte.gz...68%"
     ]
    },
    {
     "name": "stdout",
     "output_type": "stream",
     "text": [
      "\rDownloading train-images-idx3-ubyte.gz...68%"
     ]
    },
    {
     "name": "stdout",
     "output_type": "stream",
     "text": [
      "\rDownloading train-images-idx3-ubyte.gz...68%"
     ]
    },
    {
     "name": "stdout",
     "output_type": "stream",
     "text": [
      "\rDownloading train-images-idx3-ubyte.gz...68%"
     ]
    },
    {
     "name": "stdout",
     "output_type": "stream",
     "text": [
      "\rDownloading train-images-idx3-ubyte.gz...68%"
     ]
    },
    {
     "name": "stdout",
     "output_type": "stream",
     "text": [
      "\rDownloading train-images-idx3-ubyte.gz...68%"
     ]
    },
    {
     "name": "stdout",
     "output_type": "stream",
     "text": [
      "\rDownloading train-images-idx3-ubyte.gz...68%"
     ]
    },
    {
     "name": "stdout",
     "output_type": "stream",
     "text": [
      "\rDownloading train-images-idx3-ubyte.gz...68%"
     ]
    },
    {
     "name": "stdout",
     "output_type": "stream",
     "text": [
      "\rDownloading train-images-idx3-ubyte.gz...69%"
     ]
    },
    {
     "name": "stdout",
     "output_type": "stream",
     "text": [
      "\rDownloading train-images-idx3-ubyte.gz...69%"
     ]
    },
    {
     "name": "stdout",
     "output_type": "stream",
     "text": [
      "\rDownloading train-images-idx3-ubyte.gz...69%"
     ]
    },
    {
     "name": "stdout",
     "output_type": "stream",
     "text": [
      "\rDownloading train-images-idx3-ubyte.gz...69%"
     ]
    },
    {
     "name": "stdout",
     "output_type": "stream",
     "text": [
      "\rDownloading train-images-idx3-ubyte.gz...69%"
     ]
    },
    {
     "name": "stdout",
     "output_type": "stream",
     "text": [
      "\rDownloading train-images-idx3-ubyte.gz...69%"
     ]
    },
    {
     "name": "stdout",
     "output_type": "stream",
     "text": [
      "\rDownloading train-images-idx3-ubyte.gz...69%"
     ]
    },
    {
     "name": "stdout",
     "output_type": "stream",
     "text": [
      "\rDownloading train-images-idx3-ubyte.gz...69%"
     ]
    },
    {
     "name": "stdout",
     "output_type": "stream",
     "text": [
      "\rDownloading train-images-idx3-ubyte.gz...69%"
     ]
    },
    {
     "name": "stdout",
     "output_type": "stream",
     "text": [
      "\rDownloading train-images-idx3-ubyte.gz...69%"
     ]
    },
    {
     "name": "stdout",
     "output_type": "stream",
     "text": [
      "\rDownloading train-images-idx3-ubyte.gz...69%"
     ]
    },
    {
     "name": "stdout",
     "output_type": "stream",
     "text": [
      "\rDownloading train-images-idx3-ubyte.gz...69%"
     ]
    },
    {
     "name": "stdout",
     "output_type": "stream",
     "text": [
      "\rDownloading train-images-idx3-ubyte.gz...69%"
     ]
    },
    {
     "name": "stdout",
     "output_type": "stream",
     "text": [
      "\rDownloading train-images-idx3-ubyte.gz...70%"
     ]
    },
    {
     "name": "stdout",
     "output_type": "stream",
     "text": [
      "\rDownloading train-images-idx3-ubyte.gz...70%"
     ]
    },
    {
     "name": "stdout",
     "output_type": "stream",
     "text": [
      "\rDownloading train-images-idx3-ubyte.gz...70%"
     ]
    },
    {
     "name": "stdout",
     "output_type": "stream",
     "text": [
      "\rDownloading train-images-idx3-ubyte.gz...70%"
     ]
    },
    {
     "name": "stdout",
     "output_type": "stream",
     "text": [
      "\rDownloading train-images-idx3-ubyte.gz...70%"
     ]
    },
    {
     "name": "stdout",
     "output_type": "stream",
     "text": [
      "\rDownloading train-images-idx3-ubyte.gz...70%"
     ]
    },
    {
     "name": "stdout",
     "output_type": "stream",
     "text": [
      "\rDownloading train-images-idx3-ubyte.gz...70%"
     ]
    },
    {
     "name": "stdout",
     "output_type": "stream",
     "text": [
      "\rDownloading train-images-idx3-ubyte.gz...70%"
     ]
    },
    {
     "name": "stdout",
     "output_type": "stream",
     "text": [
      "\rDownloading train-images-idx3-ubyte.gz...70%"
     ]
    },
    {
     "name": "stdout",
     "output_type": "stream",
     "text": [
      "\rDownloading train-images-idx3-ubyte.gz...70%"
     ]
    },
    {
     "name": "stdout",
     "output_type": "stream",
     "text": [
      "\rDownloading train-images-idx3-ubyte.gz...70%"
     ]
    },
    {
     "name": "stdout",
     "output_type": "stream",
     "text": [
      "\rDownloading train-images-idx3-ubyte.gz...70%"
     ]
    },
    {
     "name": "stdout",
     "output_type": "stream",
     "text": [
      "\rDownloading train-images-idx3-ubyte.gz...71%"
     ]
    },
    {
     "name": "stdout",
     "output_type": "stream",
     "text": [
      "\rDownloading train-images-idx3-ubyte.gz...71%"
     ]
    },
    {
     "name": "stdout",
     "output_type": "stream",
     "text": [
      "\rDownloading train-images-idx3-ubyte.gz...71%"
     ]
    },
    {
     "name": "stdout",
     "output_type": "stream",
     "text": [
      "\rDownloading train-images-idx3-ubyte.gz...71%"
     ]
    },
    {
     "name": "stdout",
     "output_type": "stream",
     "text": [
      "\rDownloading train-images-idx3-ubyte.gz...71%"
     ]
    },
    {
     "name": "stdout",
     "output_type": "stream",
     "text": [
      "\rDownloading train-images-idx3-ubyte.gz...71%"
     ]
    },
    {
     "name": "stdout",
     "output_type": "stream",
     "text": [
      "\rDownloading train-images-idx3-ubyte.gz...71%"
     ]
    },
    {
     "name": "stdout",
     "output_type": "stream",
     "text": [
      "\rDownloading train-images-idx3-ubyte.gz...71%"
     ]
    },
    {
     "name": "stdout",
     "output_type": "stream",
     "text": [
      "\rDownloading train-images-idx3-ubyte.gz...71%"
     ]
    },
    {
     "name": "stdout",
     "output_type": "stream",
     "text": [
      "\rDownloading train-images-idx3-ubyte.gz...71%"
     ]
    },
    {
     "name": "stdout",
     "output_type": "stream",
     "text": [
      "\rDownloading train-images-idx3-ubyte.gz...71%"
     ]
    },
    {
     "name": "stdout",
     "output_type": "stream",
     "text": [
      "\rDownloading train-images-idx3-ubyte.gz...71%"
     ]
    },
    {
     "name": "stdout",
     "output_type": "stream",
     "text": [
      "\rDownloading train-images-idx3-ubyte.gz...72%"
     ]
    },
    {
     "name": "stdout",
     "output_type": "stream",
     "text": [
      "\rDownloading train-images-idx3-ubyte.gz...72%"
     ]
    },
    {
     "name": "stdout",
     "output_type": "stream",
     "text": [
      "\rDownloading train-images-idx3-ubyte.gz...72%"
     ]
    },
    {
     "name": "stdout",
     "output_type": "stream",
     "text": [
      "\rDownloading train-images-idx3-ubyte.gz...72%"
     ]
    },
    {
     "name": "stdout",
     "output_type": "stream",
     "text": [
      "\rDownloading train-images-idx3-ubyte.gz...72%"
     ]
    },
    {
     "name": "stdout",
     "output_type": "stream",
     "text": [
      "\rDownloading train-images-idx3-ubyte.gz...72%"
     ]
    },
    {
     "name": "stdout",
     "output_type": "stream",
     "text": [
      "\rDownloading train-images-idx3-ubyte.gz...72%"
     ]
    },
    {
     "name": "stdout",
     "output_type": "stream",
     "text": [
      "\rDownloading train-images-idx3-ubyte.gz...72%"
     ]
    },
    {
     "name": "stdout",
     "output_type": "stream",
     "text": [
      "\rDownloading train-images-idx3-ubyte.gz...72%"
     ]
    },
    {
     "name": "stdout",
     "output_type": "stream",
     "text": [
      "\rDownloading train-images-idx3-ubyte.gz...72%"
     ]
    },
    {
     "name": "stdout",
     "output_type": "stream",
     "text": [
      "\rDownloading train-images-idx3-ubyte.gz...72%"
     ]
    },
    {
     "name": "stdout",
     "output_type": "stream",
     "text": [
      "\rDownloading train-images-idx3-ubyte.gz...72%"
     ]
    },
    {
     "name": "stdout",
     "output_type": "stream",
     "text": [
      "\rDownloading train-images-idx3-ubyte.gz...73%"
     ]
    },
    {
     "name": "stdout",
     "output_type": "stream",
     "text": [
      "\rDownloading train-images-idx3-ubyte.gz...73%"
     ]
    },
    {
     "name": "stdout",
     "output_type": "stream",
     "text": [
      "\rDownloading train-images-idx3-ubyte.gz...73%"
     ]
    },
    {
     "name": "stdout",
     "output_type": "stream",
     "text": [
      "\rDownloading train-images-idx3-ubyte.gz...73%"
     ]
    },
    {
     "name": "stdout",
     "output_type": "stream",
     "text": [
      "\rDownloading train-images-idx3-ubyte.gz...73%"
     ]
    },
    {
     "name": "stdout",
     "output_type": "stream",
     "text": [
      "\rDownloading train-images-idx3-ubyte.gz...73%"
     ]
    },
    {
     "name": "stdout",
     "output_type": "stream",
     "text": [
      "\rDownloading train-images-idx3-ubyte.gz...73%"
     ]
    },
    {
     "name": "stdout",
     "output_type": "stream",
     "text": [
      "\rDownloading train-images-idx3-ubyte.gz...73%"
     ]
    },
    {
     "name": "stdout",
     "output_type": "stream",
     "text": [
      "\rDownloading train-images-idx3-ubyte.gz...73%"
     ]
    },
    {
     "name": "stdout",
     "output_type": "stream",
     "text": [
      "\rDownloading train-images-idx3-ubyte.gz...73%"
     ]
    },
    {
     "name": "stdout",
     "output_type": "stream",
     "text": [
      "\rDownloading train-images-idx3-ubyte.gz...73%"
     ]
    },
    {
     "name": "stdout",
     "output_type": "stream",
     "text": [
      "\rDownloading train-images-idx3-ubyte.gz...73%"
     ]
    },
    {
     "name": "stdout",
     "output_type": "stream",
     "text": [
      "\rDownloading train-images-idx3-ubyte.gz...74%"
     ]
    },
    {
     "name": "stdout",
     "output_type": "stream",
     "text": [
      "\rDownloading train-images-idx3-ubyte.gz...74%"
     ]
    },
    {
     "name": "stdout",
     "output_type": "stream",
     "text": [
      "\rDownloading train-images-idx3-ubyte.gz...74%"
     ]
    },
    {
     "name": "stdout",
     "output_type": "stream",
     "text": [
      "\rDownloading train-images-idx3-ubyte.gz...74%"
     ]
    },
    {
     "name": "stdout",
     "output_type": "stream",
     "text": [
      "\rDownloading train-images-idx3-ubyte.gz...74%"
     ]
    },
    {
     "name": "stdout",
     "output_type": "stream",
     "text": [
      "\rDownloading train-images-idx3-ubyte.gz...74%"
     ]
    },
    {
     "name": "stdout",
     "output_type": "stream",
     "text": [
      "\rDownloading train-images-idx3-ubyte.gz...74%"
     ]
    },
    {
     "name": "stdout",
     "output_type": "stream",
     "text": [
      "\rDownloading train-images-idx3-ubyte.gz...74%"
     ]
    },
    {
     "name": "stdout",
     "output_type": "stream",
     "text": [
      "\rDownloading train-images-idx3-ubyte.gz...74%"
     ]
    },
    {
     "name": "stdout",
     "output_type": "stream",
     "text": [
      "\rDownloading train-images-idx3-ubyte.gz...74%"
     ]
    },
    {
     "name": "stdout",
     "output_type": "stream",
     "text": [
      "\rDownloading train-images-idx3-ubyte.gz...74%"
     ]
    },
    {
     "name": "stdout",
     "output_type": "stream",
     "text": [
      "\rDownloading train-images-idx3-ubyte.gz...74%"
     ]
    },
    {
     "name": "stdout",
     "output_type": "stream",
     "text": [
      "\rDownloading train-images-idx3-ubyte.gz...75%"
     ]
    },
    {
     "name": "stdout",
     "output_type": "stream",
     "text": [
      "\rDownloading train-images-idx3-ubyte.gz...75%"
     ]
    },
    {
     "name": "stdout",
     "output_type": "stream",
     "text": [
      "\rDownloading train-images-idx3-ubyte.gz...75%"
     ]
    },
    {
     "name": "stdout",
     "output_type": "stream",
     "text": [
      "\rDownloading train-images-idx3-ubyte.gz...75%"
     ]
    },
    {
     "name": "stdout",
     "output_type": "stream",
     "text": [
      "\rDownloading train-images-idx3-ubyte.gz...75%"
     ]
    },
    {
     "name": "stdout",
     "output_type": "stream",
     "text": [
      "\rDownloading train-images-idx3-ubyte.gz...75%"
     ]
    },
    {
     "name": "stdout",
     "output_type": "stream",
     "text": [
      "\rDownloading train-images-idx3-ubyte.gz...75%"
     ]
    },
    {
     "name": "stdout",
     "output_type": "stream",
     "text": [
      "\rDownloading train-images-idx3-ubyte.gz...75%"
     ]
    },
    {
     "name": "stdout",
     "output_type": "stream",
     "text": [
      "\rDownloading train-images-idx3-ubyte.gz...75%"
     ]
    },
    {
     "name": "stdout",
     "output_type": "stream",
     "text": [
      "\rDownloading train-images-idx3-ubyte.gz...75%"
     ]
    },
    {
     "name": "stdout",
     "output_type": "stream",
     "text": [
      "\rDownloading train-images-idx3-ubyte.gz...75%"
     ]
    },
    {
     "name": "stdout",
     "output_type": "stream",
     "text": [
      "\rDownloading train-images-idx3-ubyte.gz...75%"
     ]
    },
    {
     "name": "stdout",
     "output_type": "stream",
     "text": [
      "\rDownloading train-images-idx3-ubyte.gz...76%"
     ]
    },
    {
     "name": "stdout",
     "output_type": "stream",
     "text": [
      "\rDownloading train-images-idx3-ubyte.gz...76%"
     ]
    },
    {
     "name": "stdout",
     "output_type": "stream",
     "text": [
      "\rDownloading train-images-idx3-ubyte.gz...76%"
     ]
    },
    {
     "name": "stdout",
     "output_type": "stream",
     "text": [
      "\rDownloading train-images-idx3-ubyte.gz...76%"
     ]
    },
    {
     "name": "stdout",
     "output_type": "stream",
     "text": [
      "\rDownloading train-images-idx3-ubyte.gz...76%"
     ]
    },
    {
     "name": "stdout",
     "output_type": "stream",
     "text": [
      "\rDownloading train-images-idx3-ubyte.gz...76%"
     ]
    },
    {
     "name": "stdout",
     "output_type": "stream",
     "text": [
      "\rDownloading train-images-idx3-ubyte.gz...76%"
     ]
    },
    {
     "name": "stdout",
     "output_type": "stream",
     "text": [
      "\rDownloading train-images-idx3-ubyte.gz...76%"
     ]
    },
    {
     "name": "stdout",
     "output_type": "stream",
     "text": [
      "\rDownloading train-images-idx3-ubyte.gz...76%"
     ]
    },
    {
     "name": "stdout",
     "output_type": "stream",
     "text": [
      "\rDownloading train-images-idx3-ubyte.gz...76%"
     ]
    },
    {
     "name": "stdout",
     "output_type": "stream",
     "text": [
      "\rDownloading train-images-idx3-ubyte.gz...76%"
     ]
    },
    {
     "name": "stdout",
     "output_type": "stream",
     "text": [
      "\rDownloading train-images-idx3-ubyte.gz...76%"
     ]
    },
    {
     "name": "stdout",
     "output_type": "stream",
     "text": [
      "\rDownloading train-images-idx3-ubyte.gz...77%"
     ]
    },
    {
     "name": "stdout",
     "output_type": "stream",
     "text": [
      "\rDownloading train-images-idx3-ubyte.gz...77%"
     ]
    },
    {
     "name": "stdout",
     "output_type": "stream",
     "text": [
      "\rDownloading train-images-idx3-ubyte.gz...77%"
     ]
    },
    {
     "name": "stdout",
     "output_type": "stream",
     "text": [
      "\rDownloading train-images-idx3-ubyte.gz...77%"
     ]
    },
    {
     "name": "stdout",
     "output_type": "stream",
     "text": [
      "\rDownloading train-images-idx3-ubyte.gz...77%"
     ]
    },
    {
     "name": "stdout",
     "output_type": "stream",
     "text": [
      "\rDownloading train-images-idx3-ubyte.gz...77%"
     ]
    },
    {
     "name": "stdout",
     "output_type": "stream",
     "text": [
      "\rDownloading train-images-idx3-ubyte.gz...77%"
     ]
    },
    {
     "name": "stdout",
     "output_type": "stream",
     "text": [
      "\rDownloading train-images-idx3-ubyte.gz...77%"
     ]
    },
    {
     "name": "stdout",
     "output_type": "stream",
     "text": [
      "\rDownloading train-images-idx3-ubyte.gz...77%"
     ]
    },
    {
     "name": "stdout",
     "output_type": "stream",
     "text": [
      "\rDownloading train-images-idx3-ubyte.gz...77%"
     ]
    },
    {
     "name": "stdout",
     "output_type": "stream",
     "text": [
      "\rDownloading train-images-idx3-ubyte.gz...77%"
     ]
    },
    {
     "name": "stdout",
     "output_type": "stream",
     "text": [
      "\rDownloading train-images-idx3-ubyte.gz...77%"
     ]
    },
    {
     "name": "stdout",
     "output_type": "stream",
     "text": [
      "\rDownloading train-images-idx3-ubyte.gz...78%"
     ]
    },
    {
     "name": "stdout",
     "output_type": "stream",
     "text": [
      "\rDownloading train-images-idx3-ubyte.gz...78%"
     ]
    },
    {
     "name": "stdout",
     "output_type": "stream",
     "text": [
      "\rDownloading train-images-idx3-ubyte.gz...78%"
     ]
    },
    {
     "name": "stdout",
     "output_type": "stream",
     "text": [
      "\rDownloading train-images-idx3-ubyte.gz...78%"
     ]
    },
    {
     "name": "stdout",
     "output_type": "stream",
     "text": [
      "\rDownloading train-images-idx3-ubyte.gz...78%"
     ]
    },
    {
     "name": "stdout",
     "output_type": "stream",
     "text": [
      "\rDownloading train-images-idx3-ubyte.gz...78%"
     ]
    },
    {
     "name": "stdout",
     "output_type": "stream",
     "text": [
      "\rDownloading train-images-idx3-ubyte.gz...78%"
     ]
    },
    {
     "name": "stdout",
     "output_type": "stream",
     "text": [
      "\rDownloading train-images-idx3-ubyte.gz...78%"
     ]
    },
    {
     "name": "stdout",
     "output_type": "stream",
     "text": [
      "\rDownloading train-images-idx3-ubyte.gz...78%"
     ]
    },
    {
     "name": "stdout",
     "output_type": "stream",
     "text": [
      "\rDownloading train-images-idx3-ubyte.gz...78%"
     ]
    },
    {
     "name": "stdout",
     "output_type": "stream",
     "text": [
      "\rDownloading train-images-idx3-ubyte.gz...78%"
     ]
    },
    {
     "name": "stdout",
     "output_type": "stream",
     "text": [
      "\rDownloading train-images-idx3-ubyte.gz...78%"
     ]
    },
    {
     "name": "stdout",
     "output_type": "stream",
     "text": [
      "\rDownloading train-images-idx3-ubyte.gz...79%"
     ]
    },
    {
     "name": "stdout",
     "output_type": "stream",
     "text": [
      "\rDownloading train-images-idx3-ubyte.gz...79%"
     ]
    },
    {
     "name": "stdout",
     "output_type": "stream",
     "text": [
      "\rDownloading train-images-idx3-ubyte.gz...79%"
     ]
    },
    {
     "name": "stdout",
     "output_type": "stream",
     "text": [
      "\rDownloading train-images-idx3-ubyte.gz...79%"
     ]
    },
    {
     "name": "stdout",
     "output_type": "stream",
     "text": [
      "\rDownloading train-images-idx3-ubyte.gz...79%"
     ]
    },
    {
     "name": "stdout",
     "output_type": "stream",
     "text": [
      "\rDownloading train-images-idx3-ubyte.gz...79%"
     ]
    },
    {
     "name": "stdout",
     "output_type": "stream",
     "text": [
      "\rDownloading train-images-idx3-ubyte.gz...79%"
     ]
    },
    {
     "name": "stdout",
     "output_type": "stream",
     "text": [
      "\rDownloading train-images-idx3-ubyte.gz...79%"
     ]
    },
    {
     "name": "stdout",
     "output_type": "stream",
     "text": [
      "\rDownloading train-images-idx3-ubyte.gz...79%"
     ]
    },
    {
     "name": "stdout",
     "output_type": "stream",
     "text": [
      "\rDownloading train-images-idx3-ubyte.gz...79%"
     ]
    },
    {
     "name": "stdout",
     "output_type": "stream",
     "text": [
      "\rDownloading train-images-idx3-ubyte.gz...79%"
     ]
    },
    {
     "name": "stdout",
     "output_type": "stream",
     "text": [
      "\rDownloading train-images-idx3-ubyte.gz...79%"
     ]
    },
    {
     "name": "stdout",
     "output_type": "stream",
     "text": [
      "\rDownloading train-images-idx3-ubyte.gz...79%"
     ]
    },
    {
     "name": "stdout",
     "output_type": "stream",
     "text": [
      "\rDownloading train-images-idx3-ubyte.gz...80%"
     ]
    },
    {
     "name": "stdout",
     "output_type": "stream",
     "text": [
      "\rDownloading train-images-idx3-ubyte.gz...80%"
     ]
    },
    {
     "name": "stdout",
     "output_type": "stream",
     "text": [
      "\rDownloading train-images-idx3-ubyte.gz...80%"
     ]
    },
    {
     "name": "stdout",
     "output_type": "stream",
     "text": [
      "\rDownloading train-images-idx3-ubyte.gz...80%"
     ]
    },
    {
     "name": "stdout",
     "output_type": "stream",
     "text": [
      "\rDownloading train-images-idx3-ubyte.gz...80%"
     ]
    },
    {
     "name": "stdout",
     "output_type": "stream",
     "text": [
      "\rDownloading train-images-idx3-ubyte.gz...80%"
     ]
    },
    {
     "name": "stdout",
     "output_type": "stream",
     "text": [
      "\rDownloading train-images-idx3-ubyte.gz...80%"
     ]
    },
    {
     "name": "stdout",
     "output_type": "stream",
     "text": [
      "\rDownloading train-images-idx3-ubyte.gz...80%"
     ]
    },
    {
     "name": "stdout",
     "output_type": "stream",
     "text": [
      "\rDownloading train-images-idx3-ubyte.gz...80%"
     ]
    },
    {
     "name": "stdout",
     "output_type": "stream",
     "text": [
      "\rDownloading train-images-idx3-ubyte.gz...80%"
     ]
    },
    {
     "name": "stdout",
     "output_type": "stream",
     "text": [
      "\rDownloading train-images-idx3-ubyte.gz...80%"
     ]
    },
    {
     "name": "stdout",
     "output_type": "stream",
     "text": [
      "\rDownloading train-images-idx3-ubyte.gz...80%"
     ]
    },
    {
     "name": "stdout",
     "output_type": "stream",
     "text": [
      "\rDownloading train-images-idx3-ubyte.gz...81%"
     ]
    },
    {
     "name": "stdout",
     "output_type": "stream",
     "text": [
      "\rDownloading train-images-idx3-ubyte.gz...81%"
     ]
    },
    {
     "name": "stdout",
     "output_type": "stream",
     "text": [
      "\rDownloading train-images-idx3-ubyte.gz...81%"
     ]
    },
    {
     "name": "stdout",
     "output_type": "stream",
     "text": [
      "\rDownloading train-images-idx3-ubyte.gz...81%"
     ]
    },
    {
     "name": "stdout",
     "output_type": "stream",
     "text": [
      "\rDownloading train-images-idx3-ubyte.gz...81%"
     ]
    },
    {
     "name": "stdout",
     "output_type": "stream",
     "text": [
      "\rDownloading train-images-idx3-ubyte.gz...81%"
     ]
    },
    {
     "name": "stdout",
     "output_type": "stream",
     "text": [
      "\rDownloading train-images-idx3-ubyte.gz...81%"
     ]
    },
    {
     "name": "stdout",
     "output_type": "stream",
     "text": [
      "\rDownloading train-images-idx3-ubyte.gz...81%"
     ]
    },
    {
     "name": "stdout",
     "output_type": "stream",
     "text": [
      "\rDownloading train-images-idx3-ubyte.gz...81%"
     ]
    },
    {
     "name": "stdout",
     "output_type": "stream",
     "text": [
      "\rDownloading train-images-idx3-ubyte.gz...81%"
     ]
    },
    {
     "name": "stdout",
     "output_type": "stream",
     "text": [
      "\rDownloading train-images-idx3-ubyte.gz...81%"
     ]
    },
    {
     "name": "stdout",
     "output_type": "stream",
     "text": [
      "\rDownloading train-images-idx3-ubyte.gz...81%"
     ]
    },
    {
     "name": "stdout",
     "output_type": "stream",
     "text": [
      "\rDownloading train-images-idx3-ubyte.gz...82%"
     ]
    },
    {
     "name": "stdout",
     "output_type": "stream",
     "text": [
      "\rDownloading train-images-idx3-ubyte.gz...82%"
     ]
    },
    {
     "name": "stdout",
     "output_type": "stream",
     "text": [
      "\rDownloading train-images-idx3-ubyte.gz...82%"
     ]
    },
    {
     "name": "stdout",
     "output_type": "stream",
     "text": [
      "\rDownloading train-images-idx3-ubyte.gz...82%"
     ]
    },
    {
     "name": "stdout",
     "output_type": "stream",
     "text": [
      "\rDownloading train-images-idx3-ubyte.gz...82%"
     ]
    },
    {
     "name": "stdout",
     "output_type": "stream",
     "text": [
      "\rDownloading train-images-idx3-ubyte.gz...82%"
     ]
    },
    {
     "name": "stdout",
     "output_type": "stream",
     "text": [
      "\rDownloading train-images-idx3-ubyte.gz...82%"
     ]
    },
    {
     "name": "stdout",
     "output_type": "stream",
     "text": [
      "\rDownloading train-images-idx3-ubyte.gz...82%"
     ]
    },
    {
     "name": "stdout",
     "output_type": "stream",
     "text": [
      "\rDownloading train-images-idx3-ubyte.gz...82%"
     ]
    },
    {
     "name": "stdout",
     "output_type": "stream",
     "text": [
      "\rDownloading train-images-idx3-ubyte.gz...82%"
     ]
    },
    {
     "name": "stdout",
     "output_type": "stream",
     "text": [
      "\rDownloading train-images-idx3-ubyte.gz...82%"
     ]
    },
    {
     "name": "stdout",
     "output_type": "stream",
     "text": [
      "\rDownloading train-images-idx3-ubyte.gz...82%"
     ]
    },
    {
     "name": "stdout",
     "output_type": "stream",
     "text": [
      "\rDownloading train-images-idx3-ubyte.gz...83%"
     ]
    },
    {
     "name": "stdout",
     "output_type": "stream",
     "text": [
      "\rDownloading train-images-idx3-ubyte.gz...83%"
     ]
    },
    {
     "name": "stdout",
     "output_type": "stream",
     "text": [
      "\rDownloading train-images-idx3-ubyte.gz...83%"
     ]
    },
    {
     "name": "stdout",
     "output_type": "stream",
     "text": [
      "\rDownloading train-images-idx3-ubyte.gz...83%"
     ]
    },
    {
     "name": "stdout",
     "output_type": "stream",
     "text": [
      "\rDownloading train-images-idx3-ubyte.gz...83%"
     ]
    },
    {
     "name": "stdout",
     "output_type": "stream",
     "text": [
      "\rDownloading train-images-idx3-ubyte.gz...83%"
     ]
    },
    {
     "name": "stdout",
     "output_type": "stream",
     "text": [
      "\rDownloading train-images-idx3-ubyte.gz...83%"
     ]
    },
    {
     "name": "stdout",
     "output_type": "stream",
     "text": [
      "\rDownloading train-images-idx3-ubyte.gz...83%"
     ]
    },
    {
     "name": "stdout",
     "output_type": "stream",
     "text": [
      "\rDownloading train-images-idx3-ubyte.gz...83%"
     ]
    },
    {
     "name": "stdout",
     "output_type": "stream",
     "text": [
      "\rDownloading train-images-idx3-ubyte.gz...83%"
     ]
    },
    {
     "name": "stdout",
     "output_type": "stream",
     "text": [
      "\rDownloading train-images-idx3-ubyte.gz...83%"
     ]
    },
    {
     "name": "stdout",
     "output_type": "stream",
     "text": [
      "\rDownloading train-images-idx3-ubyte.gz...83%"
     ]
    },
    {
     "name": "stdout",
     "output_type": "stream",
     "text": [
      "\rDownloading train-images-idx3-ubyte.gz...84%"
     ]
    },
    {
     "name": "stdout",
     "output_type": "stream",
     "text": [
      "\rDownloading train-images-idx3-ubyte.gz...84%"
     ]
    },
    {
     "name": "stdout",
     "output_type": "stream",
     "text": [
      "\rDownloading train-images-idx3-ubyte.gz...84%"
     ]
    },
    {
     "name": "stdout",
     "output_type": "stream",
     "text": [
      "\rDownloading train-images-idx3-ubyte.gz...84%"
     ]
    },
    {
     "name": "stdout",
     "output_type": "stream",
     "text": [
      "\rDownloading train-images-idx3-ubyte.gz...84%"
     ]
    },
    {
     "name": "stdout",
     "output_type": "stream",
     "text": [
      "\rDownloading train-images-idx3-ubyte.gz...84%"
     ]
    },
    {
     "name": "stdout",
     "output_type": "stream",
     "text": [
      "\rDownloading train-images-idx3-ubyte.gz...84%"
     ]
    },
    {
     "name": "stdout",
     "output_type": "stream",
     "text": [
      "\rDownloading train-images-idx3-ubyte.gz...84%"
     ]
    },
    {
     "name": "stdout",
     "output_type": "stream",
     "text": [
      "\rDownloading train-images-idx3-ubyte.gz...84%"
     ]
    },
    {
     "name": "stdout",
     "output_type": "stream",
     "text": [
      "\rDownloading train-images-idx3-ubyte.gz...84%"
     ]
    },
    {
     "name": "stdout",
     "output_type": "stream",
     "text": [
      "\rDownloading train-images-idx3-ubyte.gz...84%"
     ]
    },
    {
     "name": "stdout",
     "output_type": "stream",
     "text": [
      "\rDownloading train-images-idx3-ubyte.gz...84%"
     ]
    },
    {
     "name": "stdout",
     "output_type": "stream",
     "text": [
      "\rDownloading train-images-idx3-ubyte.gz...85%"
     ]
    },
    {
     "name": "stdout",
     "output_type": "stream",
     "text": [
      "\rDownloading train-images-idx3-ubyte.gz...85%"
     ]
    },
    {
     "name": "stdout",
     "output_type": "stream",
     "text": [
      "\rDownloading train-images-idx3-ubyte.gz...85%"
     ]
    },
    {
     "name": "stdout",
     "output_type": "stream",
     "text": [
      "\rDownloading train-images-idx3-ubyte.gz...85%"
     ]
    },
    {
     "name": "stdout",
     "output_type": "stream",
     "text": [
      "\rDownloading train-images-idx3-ubyte.gz...85%"
     ]
    },
    {
     "name": "stdout",
     "output_type": "stream",
     "text": [
      "\rDownloading train-images-idx3-ubyte.gz...85%"
     ]
    },
    {
     "name": "stdout",
     "output_type": "stream",
     "text": [
      "\rDownloading train-images-idx3-ubyte.gz...85%"
     ]
    },
    {
     "name": "stdout",
     "output_type": "stream",
     "text": [
      "\rDownloading train-images-idx3-ubyte.gz...85%"
     ]
    },
    {
     "name": "stdout",
     "output_type": "stream",
     "text": [
      "\rDownloading train-images-idx3-ubyte.gz...85%"
     ]
    },
    {
     "name": "stdout",
     "output_type": "stream",
     "text": [
      "\rDownloading train-images-idx3-ubyte.gz...85%"
     ]
    },
    {
     "name": "stdout",
     "output_type": "stream",
     "text": [
      "\rDownloading train-images-idx3-ubyte.gz...85%"
     ]
    },
    {
     "name": "stdout",
     "output_type": "stream",
     "text": [
      "\rDownloading train-images-idx3-ubyte.gz...85%"
     ]
    },
    {
     "name": "stdout",
     "output_type": "stream",
     "text": [
      "\rDownloading train-images-idx3-ubyte.gz...86%"
     ]
    },
    {
     "name": "stdout",
     "output_type": "stream",
     "text": [
      "\rDownloading train-images-idx3-ubyte.gz...86%"
     ]
    },
    {
     "name": "stdout",
     "output_type": "stream",
     "text": [
      "\rDownloading train-images-idx3-ubyte.gz...86%"
     ]
    },
    {
     "name": "stdout",
     "output_type": "stream",
     "text": [
      "\rDownloading train-images-idx3-ubyte.gz...86%"
     ]
    },
    {
     "name": "stdout",
     "output_type": "stream",
     "text": [
      "\rDownloading train-images-idx3-ubyte.gz...86%"
     ]
    },
    {
     "name": "stdout",
     "output_type": "stream",
     "text": [
      "\rDownloading train-images-idx3-ubyte.gz...86%"
     ]
    },
    {
     "name": "stdout",
     "output_type": "stream",
     "text": [
      "\rDownloading train-images-idx3-ubyte.gz...86%"
     ]
    },
    {
     "name": "stdout",
     "output_type": "stream",
     "text": [
      "\rDownloading train-images-idx3-ubyte.gz...86%"
     ]
    },
    {
     "name": "stdout",
     "output_type": "stream",
     "text": [
      "\rDownloading train-images-idx3-ubyte.gz...86%"
     ]
    },
    {
     "name": "stdout",
     "output_type": "stream",
     "text": [
      "\rDownloading train-images-idx3-ubyte.gz...86%"
     ]
    },
    {
     "name": "stdout",
     "output_type": "stream",
     "text": [
      "\rDownloading train-images-idx3-ubyte.gz...86%"
     ]
    },
    {
     "name": "stdout",
     "output_type": "stream",
     "text": [
      "\rDownloading train-images-idx3-ubyte.gz...86%"
     ]
    },
    {
     "name": "stdout",
     "output_type": "stream",
     "text": [
      "\rDownloading train-images-idx3-ubyte.gz...87%"
     ]
    },
    {
     "name": "stdout",
     "output_type": "stream",
     "text": [
      "\rDownloading train-images-idx3-ubyte.gz...87%"
     ]
    },
    {
     "name": "stdout",
     "output_type": "stream",
     "text": [
      "\rDownloading train-images-idx3-ubyte.gz...87%"
     ]
    },
    {
     "name": "stdout",
     "output_type": "stream",
     "text": [
      "\rDownloading train-images-idx3-ubyte.gz...87%"
     ]
    },
    {
     "name": "stdout",
     "output_type": "stream",
     "text": [
      "\rDownloading train-images-idx3-ubyte.gz...87%"
     ]
    },
    {
     "name": "stdout",
     "output_type": "stream",
     "text": [
      "\rDownloading train-images-idx3-ubyte.gz...87%"
     ]
    },
    {
     "name": "stdout",
     "output_type": "stream",
     "text": [
      "\rDownloading train-images-idx3-ubyte.gz...87%"
     ]
    },
    {
     "name": "stdout",
     "output_type": "stream",
     "text": [
      "\rDownloading train-images-idx3-ubyte.gz...87%"
     ]
    },
    {
     "name": "stdout",
     "output_type": "stream",
     "text": [
      "\rDownloading train-images-idx3-ubyte.gz...87%"
     ]
    },
    {
     "name": "stdout",
     "output_type": "stream",
     "text": [
      "\rDownloading train-images-idx3-ubyte.gz...87%"
     ]
    },
    {
     "name": "stdout",
     "output_type": "stream",
     "text": [
      "\rDownloading train-images-idx3-ubyte.gz...87%"
     ]
    },
    {
     "name": "stdout",
     "output_type": "stream",
     "text": [
      "\rDownloading train-images-idx3-ubyte.gz...87%"
     ]
    },
    {
     "name": "stdout",
     "output_type": "stream",
     "text": [
      "\rDownloading train-images-idx3-ubyte.gz...88%"
     ]
    },
    {
     "name": "stdout",
     "output_type": "stream",
     "text": [
      "\rDownloading train-images-idx3-ubyte.gz...88%"
     ]
    },
    {
     "name": "stdout",
     "output_type": "stream",
     "text": [
      "\rDownloading train-images-idx3-ubyte.gz...88%"
     ]
    },
    {
     "name": "stdout",
     "output_type": "stream",
     "text": [
      "\rDownloading train-images-idx3-ubyte.gz...88%"
     ]
    },
    {
     "name": "stdout",
     "output_type": "stream",
     "text": [
      "\rDownloading train-images-idx3-ubyte.gz...88%"
     ]
    },
    {
     "name": "stdout",
     "output_type": "stream",
     "text": [
      "\rDownloading train-images-idx3-ubyte.gz...88%"
     ]
    },
    {
     "name": "stdout",
     "output_type": "stream",
     "text": [
      "\rDownloading train-images-idx3-ubyte.gz...88%"
     ]
    },
    {
     "name": "stdout",
     "output_type": "stream",
     "text": [
      "\rDownloading train-images-idx3-ubyte.gz...88%"
     ]
    },
    {
     "name": "stdout",
     "output_type": "stream",
     "text": [
      "\rDownloading train-images-idx3-ubyte.gz...88%"
     ]
    },
    {
     "name": "stdout",
     "output_type": "stream",
     "text": [
      "\rDownloading train-images-idx3-ubyte.gz...88%"
     ]
    },
    {
     "name": "stdout",
     "output_type": "stream",
     "text": [
      "\rDownloading train-images-idx3-ubyte.gz...88%"
     ]
    },
    {
     "name": "stdout",
     "output_type": "stream",
     "text": [
      "\rDownloading train-images-idx3-ubyte.gz...88%"
     ]
    },
    {
     "name": "stdout",
     "output_type": "stream",
     "text": [
      "\rDownloading train-images-idx3-ubyte.gz...89%"
     ]
    },
    {
     "name": "stdout",
     "output_type": "stream",
     "text": [
      "\rDownloading train-images-idx3-ubyte.gz...89%"
     ]
    },
    {
     "name": "stdout",
     "output_type": "stream",
     "text": [
      "\rDownloading train-images-idx3-ubyte.gz...89%"
     ]
    },
    {
     "name": "stdout",
     "output_type": "stream",
     "text": [
      "\rDownloading train-images-idx3-ubyte.gz...89%"
     ]
    },
    {
     "name": "stdout",
     "output_type": "stream",
     "text": [
      "\rDownloading train-images-idx3-ubyte.gz...89%"
     ]
    },
    {
     "name": "stdout",
     "output_type": "stream",
     "text": [
      "\rDownloading train-images-idx3-ubyte.gz...89%"
     ]
    },
    {
     "name": "stdout",
     "output_type": "stream",
     "text": [
      "\rDownloading train-images-idx3-ubyte.gz...89%"
     ]
    },
    {
     "name": "stdout",
     "output_type": "stream",
     "text": [
      "\rDownloading train-images-idx3-ubyte.gz...89%"
     ]
    },
    {
     "name": "stdout",
     "output_type": "stream",
     "text": [
      "\rDownloading train-images-idx3-ubyte.gz...89%"
     ]
    },
    {
     "name": "stdout",
     "output_type": "stream",
     "text": [
      "\rDownloading train-images-idx3-ubyte.gz...89%"
     ]
    },
    {
     "name": "stdout",
     "output_type": "stream",
     "text": [
      "\rDownloading train-images-idx3-ubyte.gz...89%"
     ]
    },
    {
     "name": "stdout",
     "output_type": "stream",
     "text": [
      "\rDownloading train-images-idx3-ubyte.gz...89%"
     ]
    },
    {
     "name": "stdout",
     "output_type": "stream",
     "text": [
      "\rDownloading train-images-idx3-ubyte.gz...89%"
     ]
    },
    {
     "name": "stdout",
     "output_type": "stream",
     "text": [
      "\rDownloading train-images-idx3-ubyte.gz...90%"
     ]
    },
    {
     "name": "stdout",
     "output_type": "stream",
     "text": [
      "\rDownloading train-images-idx3-ubyte.gz...90%"
     ]
    },
    {
     "name": "stdout",
     "output_type": "stream",
     "text": [
      "\rDownloading train-images-idx3-ubyte.gz...90%"
     ]
    },
    {
     "name": "stdout",
     "output_type": "stream",
     "text": [
      "\rDownloading train-images-idx3-ubyte.gz...90%"
     ]
    },
    {
     "name": "stdout",
     "output_type": "stream",
     "text": [
      "\rDownloading train-images-idx3-ubyte.gz...90%"
     ]
    },
    {
     "name": "stdout",
     "output_type": "stream",
     "text": [
      "\rDownloading train-images-idx3-ubyte.gz...90%"
     ]
    },
    {
     "name": "stdout",
     "output_type": "stream",
     "text": [
      "\rDownloading train-images-idx3-ubyte.gz...90%"
     ]
    },
    {
     "name": "stdout",
     "output_type": "stream",
     "text": [
      "\rDownloading train-images-idx3-ubyte.gz...90%"
     ]
    },
    {
     "name": "stdout",
     "output_type": "stream",
     "text": [
      "\rDownloading train-images-idx3-ubyte.gz...90%"
     ]
    },
    {
     "name": "stdout",
     "output_type": "stream",
     "text": [
      "\rDownloading train-images-idx3-ubyte.gz...90%"
     ]
    },
    {
     "name": "stdout",
     "output_type": "stream",
     "text": [
      "\rDownloading train-images-idx3-ubyte.gz...90%"
     ]
    },
    {
     "name": "stdout",
     "output_type": "stream",
     "text": [
      "\rDownloading train-images-idx3-ubyte.gz...90%"
     ]
    },
    {
     "name": "stdout",
     "output_type": "stream",
     "text": [
      "\rDownloading train-images-idx3-ubyte.gz...91%"
     ]
    },
    {
     "name": "stdout",
     "output_type": "stream",
     "text": [
      "\rDownloading train-images-idx3-ubyte.gz...91%"
     ]
    },
    {
     "name": "stdout",
     "output_type": "stream",
     "text": [
      "\rDownloading train-images-idx3-ubyte.gz...91%"
     ]
    },
    {
     "name": "stdout",
     "output_type": "stream",
     "text": [
      "\rDownloading train-images-idx3-ubyte.gz...91%"
     ]
    },
    {
     "name": "stdout",
     "output_type": "stream",
     "text": [
      "\rDownloading train-images-idx3-ubyte.gz...91%"
     ]
    },
    {
     "name": "stdout",
     "output_type": "stream",
     "text": [
      "\rDownloading train-images-idx3-ubyte.gz...91%"
     ]
    },
    {
     "name": "stdout",
     "output_type": "stream",
     "text": [
      "\rDownloading train-images-idx3-ubyte.gz...91%"
     ]
    },
    {
     "name": "stdout",
     "output_type": "stream",
     "text": [
      "\rDownloading train-images-idx3-ubyte.gz...91%"
     ]
    },
    {
     "name": "stdout",
     "output_type": "stream",
     "text": [
      "\rDownloading train-images-idx3-ubyte.gz...91%"
     ]
    },
    {
     "name": "stdout",
     "output_type": "stream",
     "text": [
      "\rDownloading train-images-idx3-ubyte.gz...91%"
     ]
    },
    {
     "name": "stdout",
     "output_type": "stream",
     "text": [
      "\rDownloading train-images-idx3-ubyte.gz...91%"
     ]
    },
    {
     "name": "stdout",
     "output_type": "stream",
     "text": [
      "\rDownloading train-images-idx3-ubyte.gz...91%"
     ]
    },
    {
     "name": "stdout",
     "output_type": "stream",
     "text": [
      "\rDownloading train-images-idx3-ubyte.gz...92%"
     ]
    },
    {
     "name": "stdout",
     "output_type": "stream",
     "text": [
      "\rDownloading train-images-idx3-ubyte.gz...92%"
     ]
    },
    {
     "name": "stdout",
     "output_type": "stream",
     "text": [
      "\rDownloading train-images-idx3-ubyte.gz...92%"
     ]
    },
    {
     "name": "stdout",
     "output_type": "stream",
     "text": [
      "\rDownloading train-images-idx3-ubyte.gz...92%"
     ]
    },
    {
     "name": "stdout",
     "output_type": "stream",
     "text": [
      "\rDownloading train-images-idx3-ubyte.gz...92%"
     ]
    },
    {
     "name": "stdout",
     "output_type": "stream",
     "text": [
      "\rDownloading train-images-idx3-ubyte.gz...92%"
     ]
    },
    {
     "name": "stdout",
     "output_type": "stream",
     "text": [
      "\rDownloading train-images-idx3-ubyte.gz...92%"
     ]
    },
    {
     "name": "stdout",
     "output_type": "stream",
     "text": [
      "\rDownloading train-images-idx3-ubyte.gz...92%"
     ]
    },
    {
     "name": "stdout",
     "output_type": "stream",
     "text": [
      "\rDownloading train-images-idx3-ubyte.gz...92%"
     ]
    },
    {
     "name": "stdout",
     "output_type": "stream",
     "text": [
      "\rDownloading train-images-idx3-ubyte.gz...92%"
     ]
    },
    {
     "name": "stdout",
     "output_type": "stream",
     "text": [
      "\rDownloading train-images-idx3-ubyte.gz...92%"
     ]
    },
    {
     "name": "stdout",
     "output_type": "stream",
     "text": [
      "\rDownloading train-images-idx3-ubyte.gz...92%"
     ]
    },
    {
     "name": "stdout",
     "output_type": "stream",
     "text": [
      "\rDownloading train-images-idx3-ubyte.gz...93%"
     ]
    },
    {
     "name": "stdout",
     "output_type": "stream",
     "text": [
      "\rDownloading train-images-idx3-ubyte.gz...93%"
     ]
    },
    {
     "name": "stdout",
     "output_type": "stream",
     "text": [
      "\rDownloading train-images-idx3-ubyte.gz...93%"
     ]
    },
    {
     "name": "stdout",
     "output_type": "stream",
     "text": [
      "\rDownloading train-images-idx3-ubyte.gz...93%"
     ]
    },
    {
     "name": "stdout",
     "output_type": "stream",
     "text": [
      "\rDownloading train-images-idx3-ubyte.gz...93%"
     ]
    },
    {
     "name": "stdout",
     "output_type": "stream",
     "text": [
      "\rDownloading train-images-idx3-ubyte.gz...93%"
     ]
    },
    {
     "name": "stdout",
     "output_type": "stream",
     "text": [
      "\rDownloading train-images-idx3-ubyte.gz...93%"
     ]
    },
    {
     "name": "stdout",
     "output_type": "stream",
     "text": [
      "\rDownloading train-images-idx3-ubyte.gz...93%"
     ]
    },
    {
     "name": "stdout",
     "output_type": "stream",
     "text": [
      "\rDownloading train-images-idx3-ubyte.gz...93%"
     ]
    },
    {
     "name": "stdout",
     "output_type": "stream",
     "text": [
      "\rDownloading train-images-idx3-ubyte.gz...93%"
     ]
    },
    {
     "name": "stdout",
     "output_type": "stream",
     "text": [
      "\rDownloading train-images-idx3-ubyte.gz...93%"
     ]
    },
    {
     "name": "stdout",
     "output_type": "stream",
     "text": [
      "\rDownloading train-images-idx3-ubyte.gz...93%"
     ]
    },
    {
     "name": "stdout",
     "output_type": "stream",
     "text": [
      "\rDownloading train-images-idx3-ubyte.gz...94%"
     ]
    },
    {
     "name": "stdout",
     "output_type": "stream",
     "text": [
      "\rDownloading train-images-idx3-ubyte.gz...94%"
     ]
    },
    {
     "name": "stdout",
     "output_type": "stream",
     "text": [
      "\rDownloading train-images-idx3-ubyte.gz...94%"
     ]
    },
    {
     "name": "stdout",
     "output_type": "stream",
     "text": [
      "\rDownloading train-images-idx3-ubyte.gz...94%"
     ]
    },
    {
     "name": "stdout",
     "output_type": "stream",
     "text": [
      "\rDownloading train-images-idx3-ubyte.gz...94%"
     ]
    },
    {
     "name": "stdout",
     "output_type": "stream",
     "text": [
      "\rDownloading train-images-idx3-ubyte.gz...94%"
     ]
    },
    {
     "name": "stdout",
     "output_type": "stream",
     "text": [
      "\rDownloading train-images-idx3-ubyte.gz...94%"
     ]
    },
    {
     "name": "stdout",
     "output_type": "stream",
     "text": [
      "\rDownloading train-images-idx3-ubyte.gz...94%"
     ]
    },
    {
     "name": "stdout",
     "output_type": "stream",
     "text": [
      "\rDownloading train-images-idx3-ubyte.gz...94%"
     ]
    },
    {
     "name": "stdout",
     "output_type": "stream",
     "text": [
      "\rDownloading train-images-idx3-ubyte.gz...94%"
     ]
    },
    {
     "name": "stdout",
     "output_type": "stream",
     "text": [
      "\rDownloading train-images-idx3-ubyte.gz...94%"
     ]
    },
    {
     "name": "stdout",
     "output_type": "stream",
     "text": [
      "\rDownloading train-images-idx3-ubyte.gz...94%"
     ]
    },
    {
     "name": "stdout",
     "output_type": "stream",
     "text": [
      "\rDownloading train-images-idx3-ubyte.gz...95%"
     ]
    },
    {
     "name": "stdout",
     "output_type": "stream",
     "text": [
      "\rDownloading train-images-idx3-ubyte.gz...95%"
     ]
    },
    {
     "name": "stdout",
     "output_type": "stream",
     "text": [
      "\rDownloading train-images-idx3-ubyte.gz...95%"
     ]
    },
    {
     "name": "stdout",
     "output_type": "stream",
     "text": [
      "\rDownloading train-images-idx3-ubyte.gz...95%"
     ]
    },
    {
     "name": "stdout",
     "output_type": "stream",
     "text": [
      "\rDownloading train-images-idx3-ubyte.gz...95%"
     ]
    },
    {
     "name": "stdout",
     "output_type": "stream",
     "text": [
      "\rDownloading train-images-idx3-ubyte.gz...95%"
     ]
    },
    {
     "name": "stdout",
     "output_type": "stream",
     "text": [
      "\rDownloading train-images-idx3-ubyte.gz...95%"
     ]
    },
    {
     "name": "stdout",
     "output_type": "stream",
     "text": [
      "\rDownloading train-images-idx3-ubyte.gz...95%"
     ]
    },
    {
     "name": "stdout",
     "output_type": "stream",
     "text": [
      "\rDownloading train-images-idx3-ubyte.gz...95%"
     ]
    },
    {
     "name": "stdout",
     "output_type": "stream",
     "text": [
      "\rDownloading train-images-idx3-ubyte.gz...95%"
     ]
    },
    {
     "name": "stdout",
     "output_type": "stream",
     "text": [
      "\rDownloading train-images-idx3-ubyte.gz...95%"
     ]
    },
    {
     "name": "stdout",
     "output_type": "stream",
     "text": [
      "\rDownloading train-images-idx3-ubyte.gz...95%"
     ]
    },
    {
     "name": "stdout",
     "output_type": "stream",
     "text": [
      "\rDownloading train-images-idx3-ubyte.gz...96%"
     ]
    },
    {
     "name": "stdout",
     "output_type": "stream",
     "text": [
      "\rDownloading train-images-idx3-ubyte.gz...96%"
     ]
    },
    {
     "name": "stdout",
     "output_type": "stream",
     "text": [
      "\rDownloading train-images-idx3-ubyte.gz...96%"
     ]
    },
    {
     "name": "stdout",
     "output_type": "stream",
     "text": [
      "\rDownloading train-images-idx3-ubyte.gz...96%"
     ]
    },
    {
     "name": "stdout",
     "output_type": "stream",
     "text": [
      "\rDownloading train-images-idx3-ubyte.gz...96%"
     ]
    },
    {
     "name": "stdout",
     "output_type": "stream",
     "text": [
      "\rDownloading train-images-idx3-ubyte.gz...96%"
     ]
    },
    {
     "name": "stdout",
     "output_type": "stream",
     "text": [
      "\rDownloading train-images-idx3-ubyte.gz...96%"
     ]
    },
    {
     "name": "stdout",
     "output_type": "stream",
     "text": [
      "\rDownloading train-images-idx3-ubyte.gz...96%"
     ]
    },
    {
     "name": "stdout",
     "output_type": "stream",
     "text": [
      "\rDownloading train-images-idx3-ubyte.gz...96%"
     ]
    },
    {
     "name": "stdout",
     "output_type": "stream",
     "text": [
      "\rDownloading train-images-idx3-ubyte.gz...96%"
     ]
    },
    {
     "name": "stdout",
     "output_type": "stream",
     "text": [
      "\rDownloading train-images-idx3-ubyte.gz...96%"
     ]
    },
    {
     "name": "stdout",
     "output_type": "stream",
     "text": [
      "\rDownloading train-images-idx3-ubyte.gz...96%"
     ]
    },
    {
     "name": "stdout",
     "output_type": "stream",
     "text": [
      "\rDownloading train-images-idx3-ubyte.gz...97%"
     ]
    },
    {
     "name": "stdout",
     "output_type": "stream",
     "text": [
      "\rDownloading train-images-idx3-ubyte.gz...97%"
     ]
    },
    {
     "name": "stdout",
     "output_type": "stream",
     "text": [
      "\rDownloading train-images-idx3-ubyte.gz...97%"
     ]
    },
    {
     "name": "stdout",
     "output_type": "stream",
     "text": [
      "\rDownloading train-images-idx3-ubyte.gz...97%"
     ]
    },
    {
     "name": "stdout",
     "output_type": "stream",
     "text": [
      "\rDownloading train-images-idx3-ubyte.gz...97%"
     ]
    },
    {
     "name": "stdout",
     "output_type": "stream",
     "text": [
      "\rDownloading train-images-idx3-ubyte.gz...97%"
     ]
    },
    {
     "name": "stdout",
     "output_type": "stream",
     "text": [
      "\rDownloading train-images-idx3-ubyte.gz...97%"
     ]
    },
    {
     "name": "stdout",
     "output_type": "stream",
     "text": [
      "\rDownloading train-images-idx3-ubyte.gz...97%"
     ]
    },
    {
     "name": "stdout",
     "output_type": "stream",
     "text": [
      "\rDownloading train-images-idx3-ubyte.gz...97%"
     ]
    },
    {
     "name": "stdout",
     "output_type": "stream",
     "text": [
      "\rDownloading train-images-idx3-ubyte.gz...97%"
     ]
    },
    {
     "name": "stdout",
     "output_type": "stream",
     "text": [
      "\rDownloading train-images-idx3-ubyte.gz...97%"
     ]
    },
    {
     "name": "stdout",
     "output_type": "stream",
     "text": [
      "\rDownloading train-images-idx3-ubyte.gz...97%"
     ]
    },
    {
     "name": "stdout",
     "output_type": "stream",
     "text": [
      "\rDownloading train-images-idx3-ubyte.gz...98%"
     ]
    },
    {
     "name": "stdout",
     "output_type": "stream",
     "text": [
      "\rDownloading train-images-idx3-ubyte.gz...98%"
     ]
    },
    {
     "name": "stdout",
     "output_type": "stream",
     "text": [
      "\rDownloading train-images-idx3-ubyte.gz...98%"
     ]
    },
    {
     "name": "stdout",
     "output_type": "stream",
     "text": [
      "\rDownloading train-images-idx3-ubyte.gz...98%"
     ]
    },
    {
     "name": "stdout",
     "output_type": "stream",
     "text": [
      "\rDownloading train-images-idx3-ubyte.gz...98%"
     ]
    },
    {
     "name": "stdout",
     "output_type": "stream",
     "text": [
      "\rDownloading train-images-idx3-ubyte.gz...98%"
     ]
    },
    {
     "name": "stdout",
     "output_type": "stream",
     "text": [
      "\rDownloading train-images-idx3-ubyte.gz...98%"
     ]
    },
    {
     "name": "stdout",
     "output_type": "stream",
     "text": [
      "\rDownloading train-images-idx3-ubyte.gz...98%"
     ]
    },
    {
     "name": "stdout",
     "output_type": "stream",
     "text": [
      "\rDownloading train-images-idx3-ubyte.gz...98%"
     ]
    },
    {
     "name": "stdout",
     "output_type": "stream",
     "text": [
      "\rDownloading train-images-idx3-ubyte.gz...98%"
     ]
    },
    {
     "name": "stdout",
     "output_type": "stream",
     "text": [
      "\rDownloading train-images-idx3-ubyte.gz...98%"
     ]
    },
    {
     "name": "stdout",
     "output_type": "stream",
     "text": [
      "\rDownloading train-images-idx3-ubyte.gz...98%"
     ]
    },
    {
     "name": "stdout",
     "output_type": "stream",
     "text": [
      "\rDownloading train-images-idx3-ubyte.gz...99%"
     ]
    },
    {
     "name": "stdout",
     "output_type": "stream",
     "text": [
      "\rDownloading train-images-idx3-ubyte.gz...99%"
     ]
    },
    {
     "name": "stdout",
     "output_type": "stream",
     "text": [
      "\rDownloading train-images-idx3-ubyte.gz...99%"
     ]
    },
    {
     "name": "stdout",
     "output_type": "stream",
     "text": [
      "\rDownloading train-images-idx3-ubyte.gz...99%"
     ]
    },
    {
     "name": "stdout",
     "output_type": "stream",
     "text": [
      "\rDownloading train-images-idx3-ubyte.gz...99%"
     ]
    },
    {
     "name": "stdout",
     "output_type": "stream",
     "text": [
      "\rDownloading train-images-idx3-ubyte.gz...99%"
     ]
    },
    {
     "name": "stdout",
     "output_type": "stream",
     "text": [
      "\rDownloading train-images-idx3-ubyte.gz...99%"
     ]
    },
    {
     "name": "stdout",
     "output_type": "stream",
     "text": [
      "\rDownloading train-images-idx3-ubyte.gz...99%"
     ]
    },
    {
     "name": "stdout",
     "output_type": "stream",
     "text": [
      "\rDownloading train-images-idx3-ubyte.gz...99%"
     ]
    },
    {
     "name": "stdout",
     "output_type": "stream",
     "text": [
      "\rDownloading train-images-idx3-ubyte.gz...99%"
     ]
    },
    {
     "name": "stdout",
     "output_type": "stream",
     "text": [
      "\rDownloading train-images-idx3-ubyte.gz...99%"
     ]
    },
    {
     "name": "stdout",
     "output_type": "stream",
     "text": [
      "\rDownloading train-images-idx3-ubyte.gz...99%"
     ]
    },
    {
     "name": "stdout",
     "output_type": "stream",
     "text": [
      "\rDownloading train-images-idx3-ubyte.gz...99%"
     ]
    },
    {
     "name": "stdout",
     "output_type": "stream",
     "text": [
      "\rDownloading train-images-idx3-ubyte.gz...100%"
     ]
    },
    {
     "name": "stdout",
     "output_type": "stream",
     "text": [
      "\nSuccesfully downloaded train-images-idx3-ubyte.gz 9912422 bytes.\ndata\\mnist\\train-images-idx3-ubyte.gz\n"
     ]
    },
    {
     "name": "stdout",
     "output_type": "stream",
     "text": [
      "\rDownloading train-labels-idx1-ubyte.gz...0%"
     ]
    },
    {
     "name": "stdout",
     "output_type": "stream",
     "text": [
      "\rDownloading train-labels-idx1-ubyte.gz...28%"
     ]
    },
    {
     "name": "stdout",
     "output_type": "stream",
     "text": [
      "\rDownloading train-labels-idx1-ubyte.gz...56%"
     ]
    },
    {
     "name": "stdout",
     "output_type": "stream",
     "text": [
      "\rDownloading train-labels-idx1-ubyte.gz...85%"
     ]
    },
    {
     "name": "stdout",
     "output_type": "stream",
     "text": [
      "\rDownloading train-labels-idx1-ubyte.gz...113%"
     ]
    },
    {
     "name": "stdout",
     "output_type": "stream",
     "text": [
      "\nSuccesfully downloaded train-labels-idx1-ubyte.gz 28881 bytes.\n"
     ]
    },
    {
     "name": "stdout",
     "output_type": "stream",
     "text": [
      "\rDownloading t10k-images-idx3-ubyte.gz...0%"
     ]
    },
    {
     "name": "stdout",
     "output_type": "stream",
     "text": [
      "\rDownloading t10k-images-idx3-ubyte.gz...0%"
     ]
    },
    {
     "name": "stdout",
     "output_type": "stream",
     "text": [
      "\rDownloading t10k-images-idx3-ubyte.gz...0%"
     ]
    },
    {
     "name": "stdout",
     "output_type": "stream",
     "text": [
      "\rDownloading t10k-images-idx3-ubyte.gz...1%"
     ]
    },
    {
     "name": "stdout",
     "output_type": "stream",
     "text": [
      "\rDownloading t10k-images-idx3-ubyte.gz...1%"
     ]
    },
    {
     "name": "stdout",
     "output_type": "stream",
     "text": [
      "\rDownloading t10k-images-idx3-ubyte.gz...2%"
     ]
    },
    {
     "name": "stdout",
     "output_type": "stream",
     "text": [
      "\rDownloading t10k-images-idx3-ubyte.gz...2%"
     ]
    },
    {
     "name": "stdout",
     "output_type": "stream",
     "text": [
      "\rDownloading t10k-images-idx3-ubyte.gz...3%"
     ]
    },
    {
     "name": "stdout",
     "output_type": "stream",
     "text": [
      "\rDownloading t10k-images-idx3-ubyte.gz...3%"
     ]
    },
    {
     "name": "stdout",
     "output_type": "stream",
     "text": [
      "\rDownloading t10k-images-idx3-ubyte.gz...4%"
     ]
    },
    {
     "name": "stdout",
     "output_type": "stream",
     "text": [
      "\rDownloading t10k-images-idx3-ubyte.gz...4%"
     ]
    },
    {
     "name": "stdout",
     "output_type": "stream",
     "text": [
      "\rDownloading t10k-images-idx3-ubyte.gz...5%"
     ]
    },
    {
     "name": "stdout",
     "output_type": "stream",
     "text": [
      "\rDownloading t10k-images-idx3-ubyte.gz...5%"
     ]
    },
    {
     "name": "stdout",
     "output_type": "stream",
     "text": [
      "\rDownloading t10k-images-idx3-ubyte.gz...6%"
     ]
    },
    {
     "name": "stdout",
     "output_type": "stream",
     "text": [
      "\rDownloading t10k-images-idx3-ubyte.gz...6%"
     ]
    },
    {
     "name": "stdout",
     "output_type": "stream",
     "text": [
      "\rDownloading t10k-images-idx3-ubyte.gz...7%"
     ]
    },
    {
     "name": "stdout",
     "output_type": "stream",
     "text": [
      "\rDownloading t10k-images-idx3-ubyte.gz...7%"
     ]
    },
    {
     "name": "stdout",
     "output_type": "stream",
     "text": [
      "\rDownloading t10k-images-idx3-ubyte.gz...8%"
     ]
    },
    {
     "name": "stdout",
     "output_type": "stream",
     "text": [
      "\rDownloading t10k-images-idx3-ubyte.gz...8%"
     ]
    },
    {
     "name": "stdout",
     "output_type": "stream",
     "text": [
      "\rDownloading t10k-images-idx3-ubyte.gz...9%"
     ]
    },
    {
     "name": "stdout",
     "output_type": "stream",
     "text": [
      "\rDownloading t10k-images-idx3-ubyte.gz...9%"
     ]
    },
    {
     "name": "stdout",
     "output_type": "stream",
     "text": [
      "\rDownloading t10k-images-idx3-ubyte.gz...10%"
     ]
    },
    {
     "name": "stdout",
     "output_type": "stream",
     "text": [
      "\rDownloading t10k-images-idx3-ubyte.gz...10%"
     ]
    },
    {
     "name": "stdout",
     "output_type": "stream",
     "text": [
      "\rDownloading t10k-images-idx3-ubyte.gz...11%"
     ]
    },
    {
     "name": "stdout",
     "output_type": "stream",
     "text": [
      "\rDownloading t10k-images-idx3-ubyte.gz...11%"
     ]
    },
    {
     "name": "stdout",
     "output_type": "stream",
     "text": [
      "\rDownloading t10k-images-idx3-ubyte.gz...12%"
     ]
    },
    {
     "name": "stdout",
     "output_type": "stream",
     "text": [
      "\rDownloading t10k-images-idx3-ubyte.gz...12%"
     ]
    },
    {
     "name": "stdout",
     "output_type": "stream",
     "text": [
      "\rDownloading t10k-images-idx3-ubyte.gz...13%"
     ]
    },
    {
     "name": "stdout",
     "output_type": "stream",
     "text": [
      "\rDownloading t10k-images-idx3-ubyte.gz...13%"
     ]
    },
    {
     "name": "stdout",
     "output_type": "stream",
     "text": [
      "\rDownloading t10k-images-idx3-ubyte.gz...14%"
     ]
    },
    {
     "name": "stdout",
     "output_type": "stream",
     "text": [
      "\rDownloading t10k-images-idx3-ubyte.gz...14%"
     ]
    },
    {
     "name": "stdout",
     "output_type": "stream",
     "text": [
      "\rDownloading t10k-images-idx3-ubyte.gz...15%"
     ]
    },
    {
     "name": "stdout",
     "output_type": "stream",
     "text": [
      "\rDownloading t10k-images-idx3-ubyte.gz...15%"
     ]
    },
    {
     "name": "stdout",
     "output_type": "stream",
     "text": [
      "\rDownloading t10k-images-idx3-ubyte.gz...16%"
     ]
    },
    {
     "name": "stdout",
     "output_type": "stream",
     "text": [
      "\rDownloading t10k-images-idx3-ubyte.gz...16%"
     ]
    },
    {
     "name": "stdout",
     "output_type": "stream",
     "text": [
      "\rDownloading t10k-images-idx3-ubyte.gz...17%"
     ]
    },
    {
     "name": "stdout",
     "output_type": "stream",
     "text": [
      "\rDownloading t10k-images-idx3-ubyte.gz...17%"
     ]
    },
    {
     "name": "stdout",
     "output_type": "stream",
     "text": [
      "\rDownloading t10k-images-idx3-ubyte.gz...18%"
     ]
    },
    {
     "name": "stdout",
     "output_type": "stream",
     "text": [
      "\rDownloading t10k-images-idx3-ubyte.gz...18%"
     ]
    },
    {
     "name": "stdout",
     "output_type": "stream",
     "text": [
      "\rDownloading t10k-images-idx3-ubyte.gz...19%"
     ]
    },
    {
     "name": "stdout",
     "output_type": "stream",
     "text": [
      "\rDownloading t10k-images-idx3-ubyte.gz...19%"
     ]
    },
    {
     "name": "stdout",
     "output_type": "stream",
     "text": [
      "\rDownloading t10k-images-idx3-ubyte.gz...20%"
     ]
    },
    {
     "name": "stdout",
     "output_type": "stream",
     "text": [
      "\rDownloading t10k-images-idx3-ubyte.gz...20%"
     ]
    },
    {
     "name": "stdout",
     "output_type": "stream",
     "text": [
      "\rDownloading t10k-images-idx3-ubyte.gz...21%"
     ]
    },
    {
     "name": "stdout",
     "output_type": "stream",
     "text": [
      "\rDownloading t10k-images-idx3-ubyte.gz...21%"
     ]
    },
    {
     "name": "stdout",
     "output_type": "stream",
     "text": [
      "\rDownloading t10k-images-idx3-ubyte.gz...22%"
     ]
    },
    {
     "name": "stdout",
     "output_type": "stream",
     "text": [
      "\rDownloading t10k-images-idx3-ubyte.gz...22%"
     ]
    },
    {
     "name": "stdout",
     "output_type": "stream",
     "text": [
      "\rDownloading t10k-images-idx3-ubyte.gz...23%"
     ]
    },
    {
     "name": "stdout",
     "output_type": "stream",
     "text": [
      "\rDownloading t10k-images-idx3-ubyte.gz...23%"
     ]
    },
    {
     "name": "stdout",
     "output_type": "stream",
     "text": [
      "\rDownloading t10k-images-idx3-ubyte.gz...24%"
     ]
    },
    {
     "name": "stdout",
     "output_type": "stream",
     "text": [
      "\rDownloading t10k-images-idx3-ubyte.gz...24%"
     ]
    },
    {
     "name": "stdout",
     "output_type": "stream",
     "text": [
      "\rDownloading t10k-images-idx3-ubyte.gz...25%"
     ]
    },
    {
     "name": "stdout",
     "output_type": "stream",
     "text": [
      "\rDownloading t10k-images-idx3-ubyte.gz...25%"
     ]
    },
    {
     "name": "stdout",
     "output_type": "stream",
     "text": [
      "\rDownloading t10k-images-idx3-ubyte.gz...26%"
     ]
    },
    {
     "name": "stdout",
     "output_type": "stream",
     "text": [
      "\rDownloading t10k-images-idx3-ubyte.gz...26%"
     ]
    },
    {
     "name": "stdout",
     "output_type": "stream",
     "text": [
      "\rDownloading t10k-images-idx3-ubyte.gz...27%"
     ]
    },
    {
     "name": "stdout",
     "output_type": "stream",
     "text": [
      "\rDownloading t10k-images-idx3-ubyte.gz...27%"
     ]
    },
    {
     "name": "stdout",
     "output_type": "stream",
     "text": [
      "\rDownloading t10k-images-idx3-ubyte.gz...28%"
     ]
    },
    {
     "name": "stdout",
     "output_type": "stream",
     "text": [
      "\rDownloading t10k-images-idx3-ubyte.gz...28%"
     ]
    },
    {
     "name": "stdout",
     "output_type": "stream",
     "text": [
      "\rDownloading t10k-images-idx3-ubyte.gz...29%"
     ]
    },
    {
     "name": "stdout",
     "output_type": "stream",
     "text": [
      "\rDownloading t10k-images-idx3-ubyte.gz...29%"
     ]
    },
    {
     "name": "stdout",
     "output_type": "stream",
     "text": [
      "\rDownloading t10k-images-idx3-ubyte.gz...30%"
     ]
    },
    {
     "name": "stdout",
     "output_type": "stream",
     "text": [
      "\rDownloading t10k-images-idx3-ubyte.gz...30%"
     ]
    },
    {
     "name": "stdout",
     "output_type": "stream",
     "text": [
      "\rDownloading t10k-images-idx3-ubyte.gz...31%"
     ]
    },
    {
     "name": "stdout",
     "output_type": "stream",
     "text": [
      "\rDownloading t10k-images-idx3-ubyte.gz...31%"
     ]
    },
    {
     "name": "stdout",
     "output_type": "stream",
     "text": [
      "\rDownloading t10k-images-idx3-ubyte.gz...32%"
     ]
    },
    {
     "name": "stdout",
     "output_type": "stream",
     "text": [
      "\rDownloading t10k-images-idx3-ubyte.gz...32%"
     ]
    },
    {
     "name": "stdout",
     "output_type": "stream",
     "text": [
      "\rDownloading t10k-images-idx3-ubyte.gz...33%"
     ]
    },
    {
     "name": "stdout",
     "output_type": "stream",
     "text": [
      "\rDownloading t10k-images-idx3-ubyte.gz...33%"
     ]
    },
    {
     "name": "stdout",
     "output_type": "stream",
     "text": [
      "\rDownloading t10k-images-idx3-ubyte.gz...34%"
     ]
    },
    {
     "name": "stdout",
     "output_type": "stream",
     "text": [
      "\rDownloading t10k-images-idx3-ubyte.gz...34%"
     ]
    },
    {
     "name": "stdout",
     "output_type": "stream",
     "text": [
      "\rDownloading t10k-images-idx3-ubyte.gz...35%"
     ]
    },
    {
     "name": "stdout",
     "output_type": "stream",
     "text": [
      "\rDownloading t10k-images-idx3-ubyte.gz...35%"
     ]
    },
    {
     "name": "stdout",
     "output_type": "stream",
     "text": [
      "\rDownloading t10k-images-idx3-ubyte.gz...36%"
     ]
    },
    {
     "name": "stdout",
     "output_type": "stream",
     "text": [
      "\rDownloading t10k-images-idx3-ubyte.gz...36%"
     ]
    },
    {
     "name": "stdout",
     "output_type": "stream",
     "text": [
      "\rDownloading t10k-images-idx3-ubyte.gz...37%"
     ]
    },
    {
     "name": "stdout",
     "output_type": "stream",
     "text": [
      "\rDownloading t10k-images-idx3-ubyte.gz...37%"
     ]
    },
    {
     "name": "stdout",
     "output_type": "stream",
     "text": [
      "\rDownloading t10k-images-idx3-ubyte.gz...38%"
     ]
    },
    {
     "name": "stdout",
     "output_type": "stream",
     "text": [
      "\rDownloading t10k-images-idx3-ubyte.gz...38%"
     ]
    },
    {
     "name": "stdout",
     "output_type": "stream",
     "text": [
      "\rDownloading t10k-images-idx3-ubyte.gz...39%"
     ]
    },
    {
     "name": "stdout",
     "output_type": "stream",
     "text": [
      "\rDownloading t10k-images-idx3-ubyte.gz...39%"
     ]
    },
    {
     "name": "stdout",
     "output_type": "stream",
     "text": [
      "\rDownloading t10k-images-idx3-ubyte.gz...40%"
     ]
    },
    {
     "name": "stdout",
     "output_type": "stream",
     "text": [
      "\rDownloading t10k-images-idx3-ubyte.gz...40%"
     ]
    },
    {
     "name": "stdout",
     "output_type": "stream",
     "text": [
      "\rDownloading t10k-images-idx3-ubyte.gz...41%"
     ]
    },
    {
     "name": "stdout",
     "output_type": "stream",
     "text": [
      "\rDownloading t10k-images-idx3-ubyte.gz...41%"
     ]
    },
    {
     "name": "stdout",
     "output_type": "stream",
     "text": [
      "\rDownloading t10k-images-idx3-ubyte.gz...42%"
     ]
    },
    {
     "name": "stdout",
     "output_type": "stream",
     "text": [
      "\rDownloading t10k-images-idx3-ubyte.gz...42%"
     ]
    },
    {
     "name": "stdout",
     "output_type": "stream",
     "text": [
      "\rDownloading t10k-images-idx3-ubyte.gz...43%"
     ]
    },
    {
     "name": "stdout",
     "output_type": "stream",
     "text": [
      "\rDownloading t10k-images-idx3-ubyte.gz...43%"
     ]
    },
    {
     "name": "stdout",
     "output_type": "stream",
     "text": [
      "\rDownloading t10k-images-idx3-ubyte.gz...44%"
     ]
    },
    {
     "name": "stdout",
     "output_type": "stream",
     "text": [
      "\rDownloading t10k-images-idx3-ubyte.gz...44%"
     ]
    },
    {
     "name": "stdout",
     "output_type": "stream",
     "text": [
      "\rDownloading t10k-images-idx3-ubyte.gz...45%"
     ]
    },
    {
     "name": "stdout",
     "output_type": "stream",
     "text": [
      "\rDownloading t10k-images-idx3-ubyte.gz...45%"
     ]
    },
    {
     "name": "stdout",
     "output_type": "stream",
     "text": [
      "\rDownloading t10k-images-idx3-ubyte.gz...46%"
     ]
    },
    {
     "name": "stdout",
     "output_type": "stream",
     "text": [
      "\rDownloading t10k-images-idx3-ubyte.gz...46%"
     ]
    },
    {
     "name": "stdout",
     "output_type": "stream",
     "text": [
      "\rDownloading t10k-images-idx3-ubyte.gz...47%"
     ]
    },
    {
     "name": "stdout",
     "output_type": "stream",
     "text": [
      "\rDownloading t10k-images-idx3-ubyte.gz...47%"
     ]
    },
    {
     "name": "stdout",
     "output_type": "stream",
     "text": [
      "\rDownloading t10k-images-idx3-ubyte.gz...48%"
     ]
    },
    {
     "name": "stdout",
     "output_type": "stream",
     "text": [
      "\rDownloading t10k-images-idx3-ubyte.gz...48%"
     ]
    },
    {
     "name": "stdout",
     "output_type": "stream",
     "text": [
      "\rDownloading t10k-images-idx3-ubyte.gz...49%"
     ]
    },
    {
     "name": "stdout",
     "output_type": "stream",
     "text": [
      "\rDownloading t10k-images-idx3-ubyte.gz...49%"
     ]
    },
    {
     "name": "stdout",
     "output_type": "stream",
     "text": [
      "\rDownloading t10k-images-idx3-ubyte.gz...50%"
     ]
    },
    {
     "name": "stdout",
     "output_type": "stream",
     "text": [
      "\rDownloading t10k-images-idx3-ubyte.gz...50%"
     ]
    },
    {
     "name": "stdout",
     "output_type": "stream",
     "text": [
      "\rDownloading t10k-images-idx3-ubyte.gz...51%"
     ]
    },
    {
     "name": "stdout",
     "output_type": "stream",
     "text": [
      "\rDownloading t10k-images-idx3-ubyte.gz...51%"
     ]
    },
    {
     "name": "stdout",
     "output_type": "stream",
     "text": [
      "\rDownloading t10k-images-idx3-ubyte.gz...52%"
     ]
    },
    {
     "name": "stdout",
     "output_type": "stream",
     "text": [
      "\rDownloading t10k-images-idx3-ubyte.gz...52%"
     ]
    },
    {
     "name": "stdout",
     "output_type": "stream",
     "text": [
      "\rDownloading t10k-images-idx3-ubyte.gz...53%"
     ]
    },
    {
     "name": "stdout",
     "output_type": "stream",
     "text": [
      "\rDownloading t10k-images-idx3-ubyte.gz...53%"
     ]
    },
    {
     "name": "stdout",
     "output_type": "stream",
     "text": [
      "\rDownloading t10k-images-idx3-ubyte.gz...54%"
     ]
    },
    {
     "name": "stdout",
     "output_type": "stream",
     "text": [
      "\rDownloading t10k-images-idx3-ubyte.gz...54%"
     ]
    },
    {
     "name": "stdout",
     "output_type": "stream",
     "text": [
      "\rDownloading t10k-images-idx3-ubyte.gz...55%"
     ]
    },
    {
     "name": "stdout",
     "output_type": "stream",
     "text": [
      "\rDownloading t10k-images-idx3-ubyte.gz...55%"
     ]
    },
    {
     "name": "stdout",
     "output_type": "stream",
     "text": [
      "\rDownloading t10k-images-idx3-ubyte.gz...56%"
     ]
    },
    {
     "name": "stdout",
     "output_type": "stream",
     "text": [
      "\rDownloading t10k-images-idx3-ubyte.gz...56%"
     ]
    },
    {
     "name": "stdout",
     "output_type": "stream",
     "text": [
      "\rDownloading t10k-images-idx3-ubyte.gz...57%"
     ]
    },
    {
     "name": "stdout",
     "output_type": "stream",
     "text": [
      "\rDownloading t10k-images-idx3-ubyte.gz...57%"
     ]
    },
    {
     "name": "stdout",
     "output_type": "stream",
     "text": [
      "\rDownloading t10k-images-idx3-ubyte.gz...58%"
     ]
    },
    {
     "name": "stdout",
     "output_type": "stream",
     "text": [
      "\rDownloading t10k-images-idx3-ubyte.gz...58%"
     ]
    },
    {
     "name": "stdout",
     "output_type": "stream",
     "text": [
      "\rDownloading t10k-images-idx3-ubyte.gz...59%"
     ]
    },
    {
     "name": "stdout",
     "output_type": "stream",
     "text": [
      "\rDownloading t10k-images-idx3-ubyte.gz...59%"
     ]
    },
    {
     "name": "stdout",
     "output_type": "stream",
     "text": [
      "\rDownloading t10k-images-idx3-ubyte.gz...60%"
     ]
    },
    {
     "name": "stdout",
     "output_type": "stream",
     "text": [
      "\rDownloading t10k-images-idx3-ubyte.gz...60%"
     ]
    },
    {
     "name": "stdout",
     "output_type": "stream",
     "text": [
      "\rDownloading t10k-images-idx3-ubyte.gz...61%"
     ]
    },
    {
     "name": "stdout",
     "output_type": "stream",
     "text": [
      "\rDownloading t10k-images-idx3-ubyte.gz...61%"
     ]
    },
    {
     "name": "stdout",
     "output_type": "stream",
     "text": [
      "\rDownloading t10k-images-idx3-ubyte.gz...62%"
     ]
    },
    {
     "name": "stdout",
     "output_type": "stream",
     "text": [
      "\rDownloading t10k-images-idx3-ubyte.gz...62%"
     ]
    },
    {
     "name": "stdout",
     "output_type": "stream",
     "text": [
      "\rDownloading t10k-images-idx3-ubyte.gz...63%"
     ]
    },
    {
     "name": "stdout",
     "output_type": "stream",
     "text": [
      "\rDownloading t10k-images-idx3-ubyte.gz...63%"
     ]
    },
    {
     "name": "stdout",
     "output_type": "stream",
     "text": [
      "\rDownloading t10k-images-idx3-ubyte.gz...64%"
     ]
    },
    {
     "name": "stdout",
     "output_type": "stream",
     "text": [
      "\rDownloading t10k-images-idx3-ubyte.gz...64%"
     ]
    },
    {
     "name": "stdout",
     "output_type": "stream",
     "text": [
      "\rDownloading t10k-images-idx3-ubyte.gz...65%"
     ]
    },
    {
     "name": "stdout",
     "output_type": "stream",
     "text": [
      "\rDownloading t10k-images-idx3-ubyte.gz...65%"
     ]
    },
    {
     "name": "stdout",
     "output_type": "stream",
     "text": [
      "\rDownloading t10k-images-idx3-ubyte.gz...66%"
     ]
    },
    {
     "name": "stdout",
     "output_type": "stream",
     "text": [
      "\rDownloading t10k-images-idx3-ubyte.gz...66%"
     ]
    },
    {
     "name": "stdout",
     "output_type": "stream",
     "text": [
      "\rDownloading t10k-images-idx3-ubyte.gz...67%"
     ]
    },
    {
     "name": "stdout",
     "output_type": "stream",
     "text": [
      "\rDownloading t10k-images-idx3-ubyte.gz...67%"
     ]
    },
    {
     "name": "stdout",
     "output_type": "stream",
     "text": [
      "\rDownloading t10k-images-idx3-ubyte.gz...68%"
     ]
    },
    {
     "name": "stdout",
     "output_type": "stream",
     "text": [
      "\rDownloading t10k-images-idx3-ubyte.gz...68%"
     ]
    },
    {
     "name": "stdout",
     "output_type": "stream",
     "text": [
      "\rDownloading t10k-images-idx3-ubyte.gz...69%"
     ]
    },
    {
     "name": "stdout",
     "output_type": "stream",
     "text": [
      "\rDownloading t10k-images-idx3-ubyte.gz...69%"
     ]
    },
    {
     "name": "stdout",
     "output_type": "stream",
     "text": [
      "\rDownloading t10k-images-idx3-ubyte.gz...70%"
     ]
    },
    {
     "name": "stdout",
     "output_type": "stream",
     "text": [
      "\rDownloading t10k-images-idx3-ubyte.gz...70%"
     ]
    },
    {
     "name": "stdout",
     "output_type": "stream",
     "text": [
      "\rDownloading t10k-images-idx3-ubyte.gz...71%"
     ]
    },
    {
     "name": "stdout",
     "output_type": "stream",
     "text": [
      "\rDownloading t10k-images-idx3-ubyte.gz...71%"
     ]
    },
    {
     "name": "stdout",
     "output_type": "stream",
     "text": [
      "\rDownloading t10k-images-idx3-ubyte.gz...72%"
     ]
    },
    {
     "name": "stdout",
     "output_type": "stream",
     "text": [
      "\rDownloading t10k-images-idx3-ubyte.gz...72%"
     ]
    },
    {
     "name": "stdout",
     "output_type": "stream",
     "text": [
      "\rDownloading t10k-images-idx3-ubyte.gz...73%"
     ]
    },
    {
     "name": "stdout",
     "output_type": "stream",
     "text": [
      "\rDownloading t10k-images-idx3-ubyte.gz...73%"
     ]
    },
    {
     "name": "stdout",
     "output_type": "stream",
     "text": [
      "\rDownloading t10k-images-idx3-ubyte.gz...74%"
     ]
    },
    {
     "name": "stdout",
     "output_type": "stream",
     "text": [
      "\rDownloading t10k-images-idx3-ubyte.gz...74%"
     ]
    },
    {
     "name": "stdout",
     "output_type": "stream",
     "text": [
      "\rDownloading t10k-images-idx3-ubyte.gz...75%"
     ]
    },
    {
     "name": "stdout",
     "output_type": "stream",
     "text": [
      "\rDownloading t10k-images-idx3-ubyte.gz...75%"
     ]
    },
    {
     "name": "stdout",
     "output_type": "stream",
     "text": [
      "\rDownloading t10k-images-idx3-ubyte.gz...76%"
     ]
    },
    {
     "name": "stdout",
     "output_type": "stream",
     "text": [
      "\rDownloading t10k-images-idx3-ubyte.gz...76%"
     ]
    },
    {
     "name": "stdout",
     "output_type": "stream",
     "text": [
      "\rDownloading t10k-images-idx3-ubyte.gz...77%"
     ]
    },
    {
     "name": "stdout",
     "output_type": "stream",
     "text": [
      "\rDownloading t10k-images-idx3-ubyte.gz...77%"
     ]
    },
    {
     "name": "stdout",
     "output_type": "stream",
     "text": [
      "\rDownloading t10k-images-idx3-ubyte.gz...78%"
     ]
    },
    {
     "name": "stdout",
     "output_type": "stream",
     "text": [
      "\rDownloading t10k-images-idx3-ubyte.gz...78%"
     ]
    },
    {
     "name": "stdout",
     "output_type": "stream",
     "text": [
      "\rDownloading t10k-images-idx3-ubyte.gz...78%"
     ]
    },
    {
     "name": "stdout",
     "output_type": "stream",
     "text": [
      "\rDownloading t10k-images-idx3-ubyte.gz...79%"
     ]
    },
    {
     "name": "stdout",
     "output_type": "stream",
     "text": [
      "\rDownloading t10k-images-idx3-ubyte.gz...79%"
     ]
    },
    {
     "name": "stdout",
     "output_type": "stream",
     "text": [
      "\rDownloading t10k-images-idx3-ubyte.gz...80%"
     ]
    },
    {
     "name": "stdout",
     "output_type": "stream",
     "text": [
      "\rDownloading t10k-images-idx3-ubyte.gz...80%"
     ]
    },
    {
     "name": "stdout",
     "output_type": "stream",
     "text": [
      "\rDownloading t10k-images-idx3-ubyte.gz...81%"
     ]
    },
    {
     "name": "stdout",
     "output_type": "stream",
     "text": [
      "\rDownloading t10k-images-idx3-ubyte.gz...81%"
     ]
    },
    {
     "name": "stdout",
     "output_type": "stream",
     "text": [
      "\rDownloading t10k-images-idx3-ubyte.gz...82%"
     ]
    },
    {
     "name": "stdout",
     "output_type": "stream",
     "text": [
      "\rDownloading t10k-images-idx3-ubyte.gz...82%"
     ]
    },
    {
     "name": "stdout",
     "output_type": "stream",
     "text": [
      "\rDownloading t10k-images-idx3-ubyte.gz...83%"
     ]
    },
    {
     "name": "stdout",
     "output_type": "stream",
     "text": [
      "\rDownloading t10k-images-idx3-ubyte.gz...83%"
     ]
    },
    {
     "name": "stdout",
     "output_type": "stream",
     "text": [
      "\rDownloading t10k-images-idx3-ubyte.gz...84%"
     ]
    },
    {
     "name": "stdout",
     "output_type": "stream",
     "text": [
      "\rDownloading t10k-images-idx3-ubyte.gz...84%"
     ]
    },
    {
     "name": "stdout",
     "output_type": "stream",
     "text": [
      "\rDownloading t10k-images-idx3-ubyte.gz...85%"
     ]
    },
    {
     "name": "stdout",
     "output_type": "stream",
     "text": [
      "\rDownloading t10k-images-idx3-ubyte.gz...85%"
     ]
    },
    {
     "name": "stdout",
     "output_type": "stream",
     "text": [
      "\rDownloading t10k-images-idx3-ubyte.gz...86%"
     ]
    },
    {
     "name": "stdout",
     "output_type": "stream",
     "text": [
      "\rDownloading t10k-images-idx3-ubyte.gz...86%"
     ]
    },
    {
     "name": "stdout",
     "output_type": "stream",
     "text": [
      "\rDownloading t10k-images-idx3-ubyte.gz...87%"
     ]
    },
    {
     "name": "stdout",
     "output_type": "stream",
     "text": [
      "\rDownloading t10k-images-idx3-ubyte.gz...87%"
     ]
    },
    {
     "name": "stdout",
     "output_type": "stream",
     "text": [
      "\rDownloading t10k-images-idx3-ubyte.gz...88%"
     ]
    },
    {
     "name": "stdout",
     "output_type": "stream",
     "text": [
      "\rDownloading t10k-images-idx3-ubyte.gz...88%"
     ]
    },
    {
     "name": "stdout",
     "output_type": "stream",
     "text": [
      "\rDownloading t10k-images-idx3-ubyte.gz...89%"
     ]
    },
    {
     "name": "stdout",
     "output_type": "stream",
     "text": [
      "\rDownloading t10k-images-idx3-ubyte.gz...89%"
     ]
    },
    {
     "name": "stdout",
     "output_type": "stream",
     "text": [
      "\rDownloading t10k-images-idx3-ubyte.gz...90%"
     ]
    },
    {
     "name": "stdout",
     "output_type": "stream",
     "text": [
      "\rDownloading t10k-images-idx3-ubyte.gz...90%"
     ]
    },
    {
     "name": "stdout",
     "output_type": "stream",
     "text": [
      "\rDownloading t10k-images-idx3-ubyte.gz...91%"
     ]
    },
    {
     "name": "stdout",
     "output_type": "stream",
     "text": [
      "\rDownloading t10k-images-idx3-ubyte.gz...91%"
     ]
    },
    {
     "name": "stdout",
     "output_type": "stream",
     "text": [
      "\rDownloading t10k-images-idx3-ubyte.gz...92%"
     ]
    },
    {
     "name": "stdout",
     "output_type": "stream",
     "text": [
      "\rDownloading t10k-images-idx3-ubyte.gz...92%"
     ]
    },
    {
     "name": "stdout",
     "output_type": "stream",
     "text": [
      "\rDownloading t10k-images-idx3-ubyte.gz...93%"
     ]
    },
    {
     "name": "stdout",
     "output_type": "stream",
     "text": [
      "\rDownloading t10k-images-idx3-ubyte.gz...93%"
     ]
    },
    {
     "name": "stdout",
     "output_type": "stream",
     "text": [
      "\rDownloading t10k-images-idx3-ubyte.gz...94%"
     ]
    },
    {
     "name": "stdout",
     "output_type": "stream",
     "text": [
      "\rDownloading t10k-images-idx3-ubyte.gz...94%"
     ]
    },
    {
     "name": "stdout",
     "output_type": "stream",
     "text": [
      "\rDownloading t10k-images-idx3-ubyte.gz...95%"
     ]
    },
    {
     "name": "stdout",
     "output_type": "stream",
     "text": [
      "\rDownloading t10k-images-idx3-ubyte.gz...95%"
     ]
    },
    {
     "name": "stdout",
     "output_type": "stream",
     "text": [
      "\rDownloading t10k-images-idx3-ubyte.gz...96%"
     ]
    },
    {
     "name": "stdout",
     "output_type": "stream",
     "text": [
      "\rDownloading t10k-images-idx3-ubyte.gz...96%"
     ]
    },
    {
     "name": "stdout",
     "output_type": "stream",
     "text": [
      "\rDownloading t10k-images-idx3-ubyte.gz...97%"
     ]
    },
    {
     "name": "stdout",
     "output_type": "stream",
     "text": [
      "\rDownloading t10k-images-idx3-ubyte.gz...97%"
     ]
    },
    {
     "name": "stdout",
     "output_type": "stream",
     "text": [
      "\rDownloading t10k-images-idx3-ubyte.gz...98%"
     ]
    },
    {
     "name": "stdout",
     "output_type": "stream",
     "text": [
      "\rDownloading t10k-images-idx3-ubyte.gz...98%"
     ]
    },
    {
     "name": "stdout",
     "output_type": "stream",
     "text": [
      "\rDownloading t10k-images-idx3-ubyte.gz...99%"
     ]
    },
    {
     "name": "stdout",
     "output_type": "stream",
     "text": [
      "\rDownloading t10k-images-idx3-ubyte.gz...99%"
     ]
    },
    {
     "name": "stdout",
     "output_type": "stream",
     "text": [
      "\rDownloading t10k-images-idx3-ubyte.gz...100%"
     ]
    },
    {
     "name": "stdout",
     "output_type": "stream",
     "text": [
      "\nSuccesfully downloaded t10k-images-idx3-ubyte.gz 1648877 bytes.\ndata\\mnist\\t10k-images-idx3-ubyte.gz\n"
     ]
    },
    {
     "name": "stdout",
     "output_type": "stream",
     "text": [
      "\rDownloading t10k-labels-idx1-ubyte.gz...0%"
     ]
    },
    {
     "name": "stdout",
     "output_type": "stream",
     "text": [
      "\rDownloading t10k-labels-idx1-ubyte.gz...180%"
     ]
    },
    {
     "name": "stdout",
     "output_type": "stream",
     "text": [
      "\nSuccesfully downloaded t10k-labels-idx1-ubyte.gz 4542 bytes.\n  [TL] InputLayer  input: (?, 784)\n  [TL] ReshapeLayer reshape: (?, 28, 28, 1)\n  [TL] Conv2dLayer conv1: shape:[5, 5, 1, 32] strides:[1, 1, 1, 1] pad:SAME act:relu\n  [TL] PoolLayer   pool1: ksize:[1, 2, 2, 1] strides:[1, 2, 2, 1] padding:SAME pool:max_pool\n  [TL] Conv2dLayer conv2: shape:[3, 3, 32, 32] strides:[1, 1, 1, 1] pad:SAME act:relu\n  [TL] PoolLayer   pool2: ksize:[1, 2, 2, 1] strides:[1, 2, 2, 1] padding:SAME pool:max_pool\n  [TL] FlattenLayer flatten: 1568\n  [TL] DenseLayer  dense: 128 relu\n  [TL] DenseLayer  softmax: 10 identity\n"
     ]
    }
   ],
   "source": [
    "sess = tf.InteractiveSession()\n",
    "X1,Y1,X2,Y2,X3,Y3 = tl.files.load_mnist_dataset()\n",
    "\n",
    "x = tf.placeholder(tf.float32, shape=[None, 784], name=\"x\")\n",
    "y = tf.placeholder(tf.int64, shape=[None,], name=\"y\")\n",
    "\n",
    "net = tl.layers.InputLayer(x, name=\"input\")\n",
    "net = tl.layers.ReshapeLayer(net, shape=[-1, 28, 28, 1], name=\"reshape\")\n",
    "net = tl.layers.Conv2d(net, n_filter=32, filter_size=(5,5), act=tf.nn.relu, name=\"conv1\")\n",
    "net = tl.layers.MaxPool2d(net, filter_size=(2,2), name=\"pool1\")\n",
    "net = tl.layers.Conv2d(net, n_filter=32, filter_size=(3,3), act=tf.nn.relu, name=\"conv2\")\n",
    "net = tl.layers.MaxPool2d(net, filter_size=(2,2), name=\"pool2\")\n",
    "net = tl.layers.FlattenLayer(net, name=\"flatten\")\n",
    "net = tl.layers.DenseLayer(net, n_units=128, act=tf.nn.relu, name=\"dense\")\n",
    "net = tl.layers.DenseLayer(net, n_units=10, act=tf.identity, name=\"softmax\")\n",
    "out = net.outputs"
   ]
  },
  {
   "cell_type": "code",
   "execution_count": 12,
   "metadata": {},
   "outputs": [
    {
     "name": "stdout",
     "output_type": "stream",
     "text": [
      "[*] Load C:\\Users\\zhdon\\PycharmProjects\\dzml\\mmml\\example\\tensorlayer\\model.npz SUCCESS!\n"
     ]
    },
    {
     "data": {
      "text/plain": [
       "<tensorlayer.layers.DenseLayer at 0x19e7d4d9e48>"
      ]
     },
     "execution_count": 12,
     "metadata": {},
     "output_type": "execute_result"
    }
   ],
   "source": [
    "filename = r\"C:\\Users\\zhdon\\PycharmProjects\\dzml\\mmml\\example\\tensorlayer\\model.npz\"\n",
    "tl.files.load_and_assign_npz(sess, filename, net)"
   ]
  },
  {
   "cell_type": "code",
   "execution_count": 21,
   "metadata": {},
   "outputs": [
    {
     "data": {
      "text/plain": [
       "array([2], dtype=int64)"
      ]
     },
     "execution_count": 21,
     "metadata": {},
     "output_type": "execute_result"
    },
    {
     "data": {
      "image/png": "[encoded data removed]",
      "text/plain": [
       "<matplotlib.figure.Figure at 0x19e0242cef0>"
      ]
     },
     "metadata": {},
     "output_type": "display_data"
    }
   ],
   "source": [
    "plt.imshow(np.reshape(np.array(X3[1,:]), newshape=[28,28]))\n",
    "y_op = tf.argmax(tf.nn.softmax(out), 1)\n",
    "tl.utils.predict(sess, net, X3[1:2,:], x, y_op)"
   ]
  },
  {
   "cell_type": "code",
   "execution_count": null,
   "metadata": {},
   "outputs": [],
   "source": []
  }
 ],
 "metadata": {
  "kernelspec": {
   "display_name": "Python 2",
   "language": "python",
   "name": "python2"
  },
  "language_info": {
   "codemirror_mode": {
    "name": "ipython",
    "version": 2
   },
   "file_extension": ".py",
   "mimetype": "text/x-python",
   "name": "python",
   "nbconvert_exporter": "python",
   "pygments_lexer": "ipython2",
   "version": "2.7.6"
  }
 },
 "nbformat": 4,
 "nbformat_minor": 0
}
